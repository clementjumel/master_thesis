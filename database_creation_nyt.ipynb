{
 "cells": [
  {
   "cell_type": "markdown",
   "metadata": {},
   "source": [
    "# Setup"
   ]
  },
  {
   "cell_type": "code",
   "execution_count": 1,
   "metadata": {
    "ExecuteTime": {
     "end_time": "2019-04-13T03:57:03.299844Z",
     "start_time": "2019-04-13T03:57:03.266445Z"
    },
    "pycharm": {
     "is_executing": false
    }
   },
   "outputs": [],
   "source": [
    "%reload_ext autoreload\n",
    "%autoreload 2"
   ]
  },
  {
   "cell_type": "code",
   "execution_count": 2,
   "metadata": {
    "ExecuteTime": {
     "end_time": "2019-04-13T03:57:03.449865Z",
     "start_time": "2019-04-13T03:57:03.408497Z"
    },
    "pycharm": {
     "is_executing": false
    }
   },
   "outputs": [],
   "source": [
    "from database_creation.database import Database"
   ]
  },
  {
   "cell_type": "markdown",
   "metadata": {},
   "source": [
    "# Annotation task pipeline"
   ]
  },
  {
   "cell_type": "markdown",
   "metadata": {},
   "source": [
    "## Creation of the queries (create_queries)"
   ]
  },
  {
   "cell_type": "markdown",
   "metadata": {},
   "source": [
    "### Parameters"
   ]
  },
  {
   "cell_type": "code",
   "execution_count": 3,
   "metadata": {
    "pycharm": {
     "is_executing": false
    }
   },
   "outputs": [],
   "source": [
    "max_size = 10000\n",
    "shuffle = True\n",
    "min_articles = 1\n",
    "min_queries = 1\n",
    "random_seed = 0\n",
    "\n",
    "database = Database(max_size=max_size, shuffle=shuffle,\n",
    "                    min_articles=min_articles, min_queries=min_queries,\n",
    "                    random_seed=random_seed)"
   ]
  },
  {
   "cell_type": "markdown",
   "metadata": {},
   "source": [
    "### Preprocessing the database"
   ]
  },
  {
   "cell_type": "code",
   "execution_count": 4,
   "metadata": {
    "pycharm": {
     "is_executing": false
    },
    "scrolled": true
   },
   "outputs": [
    {
     "name": "stdout",
     "output_type": "stream",
     "text": [
      "Preprocessing the database...\n",
      "Computing the database' article...\n",
      "Initial length of articles: 0\n",
      "Debugging Written in results/2006-07/debug/articles.txt...\n",
      "Final length of articles: 10000\n",
      "Done (elapsed time: 1s).\n",
      "\n",
      "Cleaning the database's articles...\n",
      "Initial length of articles: 10000\n",
      "Criterion: Check if an article's content file exists.\n",
      "Final length of articles: 4031\n",
      "Done (elapsed time: 16s).\n",
      "\n",
      "Computing the articles' metadata...\n",
      "   article 500/4031...\n",
      "   article 1000/4031...\n",
      "   article 1500/4031...\n",
      "   article 2000/4031...\n",
      "   article 2500/4031...\n",
      "   article 3000/4031...\n",
      "   article 3500/4031...\n",
      "   article 4000/4031...\n",
      "Debugging Written in results/2006-07/debug/metadata.txt...\n",
      "Done (elapsed time: 3s).\n",
      "\n",
      "Computing the database' entities...\n",
      "Initial length of entities: 0\n",
      "      European Union corresponds to both location and org, ignoring the later...\n",
      "   article 500/4031...\n",
      "      Several entities have the same name (New York City (location); Anna Sui (NYC Store) (org); Kuczynski, Alex (person); Sui, Anna (person)); ignoring them...\n",
      "   article 1000/4031...\n",
      "   article 1500/4031...\n",
      "   article 2000/4031...\n",
      "   article 2500/4031...\n",
      "      Victoria corresponds to both location and person, ignoring the later...\n",
      "      Several entities have the same name (Fishkill (NY) (location); Kilgannon, Corey (person); Morey, Adam (person); Morey, Manuel (person); Morey, Manuel (Child) (person); Morey, Ryan (person); Morey, Tina (person); Schweber, Nate (person)); ignoring them...\n",
      "   article 3000/4031...\n",
      "      European Union corresponds to both location and org, ignoring the later...\n",
      "   article 3500/4031...\n",
      "   article 4000/4031...\n",
      "Debugging Written in results/2006-07/debug/article_entities.txt...\n",
      "Debugging Written in results/2006-07/debug/entities.txt...\n",
      "Final length of entities: 6919\n",
      "Done (elapsed time: 3s).\n",
      "\n",
      "Computing the entity tuples...\n",
      "Initial length of tuples: 0\n",
      "   article 500/4031...\n",
      "   article 1000/4031...\n",
      "   article 1500/4031...\n",
      "   article 2000/4031...\n",
      "   article 2500/4031...\n",
      "   article 3000/4031...\n",
      "   article 3500/4031...\n",
      "   article 4000/4031...\n",
      "Debugging Written in results/2006-07/debug/tuples.txt...\n",
      "Final length of tuples: 34053\n",
      "Done (elapsed time: 24s).\n",
      "\n",
      "Filtering the articles, tuples and entities...\n",
      "Minimum number of articles: 1\n",
      "Cleaning the database's tuples...\n",
      "Initial length of tuples: 34053\n",
      "Criterion: keep only the designated tuples.\n",
      "Final length of tuples: 34053\n",
      "Done (elapsed time: 0s).\n",
      "\n",
      "Cleaning the database's articles...\n",
      "Initial length of articles: 4031\n",
      "Criterion: keep only the designated articles.\n",
      "Final length of articles: 2745\n",
      "Done (elapsed time: 0s).\n",
      "\n",
      "Cleaning the database's entities...\n",
      "Initial length of entities: 6919\n",
      "Criterion: keep only the designated entities.\n",
      "Final length of entities: 5556\n",
      "Done (elapsed time: 0s).\n",
      "\n",
      "Done (elapsed time: 0s).\n",
      "\n",
      "Done (elapsed time: 47s).\n",
      "\n"
     ]
    }
   ],
   "source": [
    "database.preprocess_database(debug=True)"
   ]
  },
  {
   "cell_type": "markdown",
   "metadata": {},
   "source": [
    "### Preprocessing the articles"
   ]
  },
  {
   "cell_type": "code",
   "execution_count": 5,
   "metadata": {
    "pycharm": {
     "is_executing": true
    },
    "scrolled": true
   },
   "outputs": [
    {
     "name": "stdout",
     "output_type": "stream",
     "text": [
      "Preprocessing the articles...\n",
      "Computing the articles' annotations...\n",
      "   article 500/2745...\n",
      "   article 1000/2745...\n",
      "   article 1500/2745...\n",
      "   article 2000/2745...\n",
      "   article 2500/2745...\n",
      "Debugging Written in results/2006-07/debug/annotations.txt...\n",
      "Done (elapsed time: 290s).\n",
      "\n",
      "Computing the contexts...\n",
      "   tuple 1000/34053...\n",
      "   tuple 2000/34053...\n",
      "   tuple 3000/34053...\n",
      "   tuple 4000/34053...\n",
      "   tuple 5000/34053...\n",
      "   tuple 6000/34053...\n",
      "   tuple 7000/34053...\n",
      "   tuple 8000/34053...\n",
      "   tuple 9000/34053...\n",
      "   tuple 10000/34053...\n",
      "   tuple 11000/34053...\n",
      "   tuple 12000/34053...\n",
      "   tuple 13000/34053...\n",
      "   tuple 14000/34053...\n",
      "   tuple 15000/34053...\n",
      "   tuple 16000/34053...\n",
      "   tuple 17000/34053...\n",
      "   tuple 18000/34053...\n",
      "   tuple 19000/34053...\n",
      "   tuple 20000/34053...\n",
      "   tuple 21000/34053...\n",
      "   tuple 22000/34053...\n",
      "   tuple 23000/34053...\n",
      "   tuple 24000/34053...\n",
      "   tuple 25000/34053...\n",
      "   tuple 26000/34053...\n",
      "   tuple 27000/34053...\n",
      "   tuple 28000/34053...\n",
      "   tuple 29000/34053...\n",
      "   tuple 30000/34053...\n",
      "   tuple 31000/34053...\n",
      "   tuple 32000/34053...\n",
      "   tuple 33000/34053...\n",
      "   tuple 34000/34053...\n",
      "Debugging Written in results/2006-07/debug/contexts.txt...\n",
      "Done (elapsed time: 8s).\n",
      "\n",
      "Filtering the articles, tuples and entities...\n",
      "Minimum number of queries: 1\n",
      "Cleaning the database's tuples...\n",
      "Initial length of tuples: 34053\n",
      "Criterion: keep only the designated tuples.\n",
      "Final length of tuples: 1854\n",
      "Done (elapsed time: 0s).\n",
      "\n",
      "Cleaning the database's articles...\n",
      "Initial length of articles: 2745\n",
      "Criterion: keep only the designated articles.\n",
      "Final length of articles: 999\n",
      "Done (elapsed time: 0s).\n",
      "\n",
      "Cleaning the database's entities...\n",
      "Initial length of entities: 5556\n",
      "Criterion: keep only the designated entities.\n",
      "Final length of entities: 1511\n",
      "Done (elapsed time: 0s).\n",
      "\n",
      "Done (elapsed time: 1s).\n",
      "\n",
      "Done (elapsed time: 299s).\n",
      "\n"
     ]
    }
   ],
   "source": [
    "database.process_articles(debug=True)"
   ]
  },
  {
   "cell_type": "markdown",
   "metadata": {},
   "source": [
    "### Processing the wikipedia information"
   ]
  },
  {
   "cell_type": "code",
   "execution_count": 6,
   "metadata": {
    "pycharm": {
     "is_executing": true
    },
    "scrolled": false
   },
   "outputs": [
    {
     "name": "stdout",
     "output_type": "stream",
     "text": [
      "Processing the wikipedia information...\n",
      "Attribute wikipedia loaded from results/2006-07/wikipedia/wikipedia_size10k_shuffle_articles1_queries1_seed0.pkl.\n",
      "Computing the Wikipedia information...\n",
      "Initial found entries: 1079/not found: 280\n",
      "   entity 100/1511...\n",
      "   entity 200/1511...\n",
      "   entity 300/1511...\n",
      "   entity 400/1511...\n",
      "   entity 500/1511...\n",
      "   entity 600/1511...\n",
      "   entity 700/1511...\n",
      "   entity 800/1511...\n",
      "   entity 900/1511...\n",
      "   entity 1000/1511...\n",
      "   entity 1100/1511...\n",
      "   entity 1200/1511...\n",
      "   entity 1300/1511...\n",
      "   entity 1400/1511...\n",
      "   entity 1500/1511...\n",
      "Final found entries: 1202/not found: 321\n",
      "Debugging Written in results/2006-07/debug/wikipedia.txt...\n",
      "Done (elapsed time: 395s).\n",
      "\n",
      "Attribute wikipedia saved at results/2006-07/wikipedia/wikipedia_size10k_shuffle_articles1_queries1_seed0.pkl.\n",
      "Done (elapsed time: 395s).\n",
      "\n"
     ]
    }
   ],
   "source": [
    "database.process_wikipedia(load=True, debug=True)"
   ]
  },
  {
   "cell_type": "markdown",
   "metadata": {},
   "source": [
    "### Processing the queries"
   ]
  },
  {
   "cell_type": "code",
   "execution_count": 8,
   "metadata": {
    "pycharm": {
     "is_executing": true
    },
    "scrolled": true
   },
   "outputs": [
    {
     "name": "stdout",
     "output_type": "stream",
     "text": [
      "Processing the aggregation queries...\n",
      "Computing the Queries...\n",
      "Initial length of queries: 0\n",
      "   tuple 1000/1854...\n",
      "Debugging Written in results/2006-07/debug/queries.txt...\n",
      "Final length of queries: 6858\n",
      "Done (elapsed time: 3s).\n",
      "\n",
      "Attribute queries saved at results/2006-07/queries/queries_size10k_shuffle_articles1_queries1_seed0.pkl.\n",
      "Attribute queries saved at results/2006-07/queries/queries_short_size10k_shuffle_articles1_queries1_seed0.csv\n",
      "Done (elapsed time: 3s).\n",
      "\n"
     ]
    }
   ],
   "source": [
    "database.process_queries(load=False, check_changes=True, debug=True)"
   ]
  },
  {
   "cell_type": "markdown",
   "metadata": {},
   "source": [
    "## Gather the wikipedia files together"
   ]
  },
  {
   "cell_type": "code",
   "execution_count": 9,
   "metadata": {
    "pycharm": {
     "is_executing": true
    }
   },
   "outputs": [
    {
     "name": "stdout",
     "output_type": "stream",
     "text": [
      "Current wikipedia information: 1202 found/321 not_found...\n",
      "Global file updated: 1202 found/321 not_found.\n",
      "\n",
      "Object loaded from results/2006-07/wikipedia/wikipedia_global.pkl\n",
      "File wikipedia_global: 1079 found/280 not_found...\n",
      "Global file updated: 1202 found/321 not_found.\n",
      "\n",
      "Object saved at results/2006-07/wikipedia/wikipedia_global.pkl.\n"
     ]
    }
   ],
   "source": [
    "database.combine_pkl()"
   ]
  },
  {
   "cell_type": "code",
   "execution_count": null,
   "metadata": {},
   "outputs": [],
   "source": []
  }
 ],
 "metadata": {
  "kernelspec": {
   "display_name": "Python 3",
   "language": "python",
   "name": "python3"
  },
  "language_info": {
   "codemirror_mode": {
    "name": "ipython",
    "version": 3
   },
   "file_extension": ".py",
   "mimetype": "text/x-python",
   "name": "python",
   "nbconvert_exporter": "python",
   "pygments_lexer": "ipython3",
   "version": "3.6.9"
  },
  "pycharm": {
   "stem_cell": {
    "cell_type": "raw",
    "metadata": {
     "collapsed": false
    },
    "source": []
   }
  },
  "toc": {
   "base_numbering": 1,
   "nav_menu": {},
   "number_sections": true,
   "sideBar": true,
   "skip_h1_title": false,
   "title_cell": "Table of Contents",
   "title_sidebar": "Contents",
   "toc_cell": false,
   "toc_position": {},
   "toc_section_display": true,
   "toc_window_display": false
  }
 },
 "nbformat": 4,
 "nbformat_minor": 2
}
