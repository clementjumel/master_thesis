{
 "cells": [
  {
   "cell_type": "markdown",
   "metadata": {},
   "source": [
    "# Setup"
   ]
  },
  {
   "cell_type": "code",
   "execution_count": 1,
   "metadata": {
    "ExecuteTime": {
     "end_time": "2019-04-13T03:57:03.299844Z",
     "start_time": "2019-04-13T03:57:03.266445Z"
    }
   },
   "outputs": [],
   "source": [
    "%reload_ext autoreload\n",
    "%autoreload 2"
   ]
  },
  {
   "cell_type": "code",
   "execution_count": 2,
   "metadata": {
    "ExecuteTime": {
     "end_time": "2019-04-13T03:57:03.449865Z",
     "start_time": "2019-04-13T03:57:03.408497Z"
    }
   },
   "outputs": [],
   "source": [
    "from database_creation.database import Database"
   ]
  },
  {
   "cell_type": "markdown",
   "metadata": {},
   "source": [
    "# Annotation task pipeline"
   ]
  },
  {
   "cell_type": "markdown",
   "metadata": {},
   "source": [
    "## Creation of the queries (create_queries)"
   ]
  },
  {
   "cell_type": "markdown",
   "metadata": {},
   "source": [
    "### Parameters"
   ]
  },
  {
   "cell_type": "code",
   "execution_count": 3,
   "metadata": {},
   "outputs": [],
   "source": [
    "max_size = 10000\n",
    "shuffle = True\n",
    "min_articles = 1\n",
    "min_queries = 1"
   ]
  },
  {
   "cell_type": "markdown",
   "metadata": {},
   "source": [
    "### Preprocessing the database"
   ]
  },
  {
   "cell_type": "code",
   "execution_count": 4,
   "metadata": {},
   "outputs": [],
   "source": [
    "database = Database(max_size=max_size, shuffle=shuffle,\n",
    "                    min_articles=min_articles, min_queries=min_queries)"
   ]
  },
  {
   "cell_type": "code",
   "execution_count": 5,
   "metadata": {
    "scrolled": false
   },
   "outputs": [
    {
     "name": "stdout",
     "output_type": "stream",
     "text": [
      "Preprocessing the database...\n",
      "Computing the database' article...\n",
      "Initial length of articles: 0\n",
      "Final length of articles: 10000\n",
      "Done (elapsed time: 0s).\n",
      "\n",
      "Cleaning the database's articles...\n",
      "Initial length of articles: 10000\n",
      "Criterion: Check if an article's content file exists.\n",
      "Final length of articles: 4200\n",
      "Done (elapsed time: 26s).\n",
      "\n",
      "Cleaning the database's articles...\n",
      "Initial length of articles: 4200\n",
      "Criterion: Check if an article's summary file exists.\n",
      "Final length of articles: 4200\n",
      "Done (elapsed time: 7s).\n",
      "\n",
      "Computing the articles' metadata...\n",
      "   article 500/4200...\n",
      "   article 1000/4200...\n",
      "   article 1500/4200...\n",
      "   article 2000/4200...\n",
      "   article 2500/4200...\n",
      "   article 3000/4200...\n",
      "   article 3500/4200...\n",
      "   article 4000/4200...\n",
      "Done (elapsed time: 11s).\n",
      "\n",
      "Computing the database' entities...\n",
      "Initial length of entities: 0\n",
      "   article 500/4200...\n",
      "   article 1000/4200...\n",
      "   article 1500/4200...\n",
      "   article 2000/4200...\n",
      "   article 2500/4200...\n",
      "   article 3000/4200...\n",
      "   article 3500/4200...\n",
      "   article 4000/4200...\n",
      "Final length of entities: 7864\n",
      "Done (elapsed time: 2s).\n",
      "\n",
      "Computing the entity tuples...\n",
      "Initial length of tuples: 0\n",
      "   article 500/4200...\n",
      "   article 1000/4200...\n",
      "   article 1500/4200...\n",
      "   article 2000/4200...\n",
      "   article 2500/4200...\n",
      "   article 3000/4200...\n",
      "   article 3500/4200...\n",
      "   article 4000/4200...\n",
      "Final length of tuples: 44367\n",
      "Done (elapsed time: 36s).\n",
      "\n",
      "Filtering the articles, tuples and entities...\n",
      "Minimum number of articles: 1\n",
      "Cleaning the database's tuples...\n",
      "Initial length of tuples: 44367\n",
      "Criterion: keep only the designated tuples.\n",
      "Final length of tuples: 44367\n",
      "Done (elapsed time: 0s).\n",
      "\n",
      "Cleaning the database's articles...\n",
      "Initial length of articles: 4200\n",
      "Criterion: keep only the designated articles.\n",
      "Final length of articles: 3096\n",
      "Done (elapsed time: 0s).\n",
      "\n",
      "Cleaning the database's entities...\n",
      "Initial length of entities: 7864\n",
      "Criterion: keep only the designated entities.\n",
      "Final length of entities: 6552\n",
      "Done (elapsed time: 0s).\n",
      "\n",
      "Done (elapsed time: 0s).\n",
      "\n",
      "Done (elapsed time: 83s).\n",
      "\n"
     ]
    }
   ],
   "source": [
    "database.preprocess_database()"
   ]
  },
  {
   "cell_type": "code",
   "execution_count": 6,
   "metadata": {
    "scrolled": true
   },
   "outputs": [
    {
     "name": "stdout",
     "output_type": "stream",
     "text": [
      "Computing and displaying statistics...\n",
      "\n",
      "Total number of tuples: 44367\n",
      "\n",
      "10 most frequent tuples:\n",
      "New York City; New York State (in 45 articles)\n",
      "Brooklyn; New York City (in 39 articles)\n",
      "Manhattan; New York City (in 38 articles)\n",
      "Bronx; New York City (in 28 articles)\n",
      "New York City; Queens (in 25 articles)\n",
      "House of Representatives; Senate (in 25 articles)\n",
      "Baghdad; Iraq (in 22 articles)\n",
      "Eliot L. Spitzer; Eliot Spitzer (in 17 articles)\n",
      "Dick Cheney; George W. Bush (in 15 articles)\n",
      "Iran; Iraq (in 14 articles)\n",
      "\n",
      "Done (elapsed time: 0s).\n",
      "\n"
     ]
    },
    {
     "data": {
      "image/png": "[encoded data removed]",
      "text/plain": [
       "<Figure size 864x288 with 1 Axes>"
      ]
     },
     "metadata": {
      "needs_background": "light"
     },
     "output_type": "display_data"
    },
    {
     "data": {
      "image/png": "[encoded data removed]",
      "text/plain": [
       "<Figure size 864x288 with 1 Axes>"
      ]
     },
     "metadata": {
      "needs_background": "light"
     },
     "output_type": "display_data"
    },
    {
     "data": {
      "image/png": "[encoded data removed]",
      "text/plain": [
       "<Figure size 864x288 with 1 Axes>"
      ]
     },
     "metadata": {
      "needs_background": "light"
     },
     "output_type": "display_data"
    }
   ],
   "source": [
    "database.process_stats(type_='tuples')"
   ]
  },
  {
   "cell_type": "markdown",
   "metadata": {},
   "source": [
    "### Preprocessing the articles"
   ]
  },
  {
   "cell_type": "code",
   "execution_count": 7,
   "metadata": {
    "scrolled": false
   },
   "outputs": [
    {
     "name": "stdout",
     "output_type": "stream",
     "text": [
      "Preprocessing the articles...\n",
      "Computing the articles' annotations...\n",
      "   article 500/3096...\n",
      "   article 1000/3096...\n",
      "   article 1500/3096...\n",
      "   article 2000/3096...\n",
      "   article 2500/3096...\n",
      "   article 3000/3096...\n",
      "Done (elapsed time: 306s).\n",
      "\n",
      "Computing the contexts...\n",
      "   tuple 1000/44367...\n",
      "   tuple 2000/44367...\n",
      "   tuple 3000/44367...\n",
      "   tuple 4000/44367...\n",
      "   tuple 5000/44367...\n",
      "   tuple 6000/44367...\n",
      "   tuple 7000/44367...\n",
      "   tuple 8000/44367...\n",
      "   tuple 9000/44367...\n",
      "   tuple 10000/44367...\n",
      "   tuple 11000/44367...\n",
      "   tuple 12000/44367...\n",
      "   tuple 13000/44367...\n",
      "   tuple 14000/44367...\n",
      "   tuple 15000/44367...\n",
      "   tuple 16000/44367...\n",
      "   tuple 17000/44367...\n",
      "   tuple 18000/44367...\n",
      "   tuple 19000/44367...\n",
      "   tuple 20000/44367...\n",
      "   tuple 21000/44367...\n",
      "   tuple 22000/44367...\n",
      "   tuple 23000/44367...\n",
      "   tuple 24000/44367...\n",
      "   tuple 25000/44367...\n",
      "   tuple 26000/44367...\n",
      "   tuple 27000/44367...\n",
      "   tuple 28000/44367...\n",
      "   tuple 29000/44367...\n",
      "   tuple 30000/44367...\n",
      "   tuple 31000/44367...\n",
      "   tuple 32000/44367...\n",
      "   tuple 33000/44367...\n",
      "   tuple 34000/44367...\n",
      "   tuple 35000/44367...\n",
      "   tuple 36000/44367...\n",
      "   tuple 37000/44367...\n",
      "   tuple 38000/44367...\n",
      "   tuple 39000/44367...\n",
      "   tuple 40000/44367...\n",
      "   tuple 41000/44367...\n",
      "   tuple 42000/44367...\n",
      "   tuple 43000/44367...\n",
      "   tuple 44000/44367...\n",
      "Done (elapsed time: 16s).\n",
      "\n",
      "Filtering the articles, tuples and entities...\n",
      "Minimum number of queries: 1\n",
      "Cleaning the database's tuples...\n",
      "Initial length of tuples: 44367\n",
      "Criterion: keep only the designated tuples.\n",
      "Final length of tuples: 2633\n",
      "Done (elapsed time: 0s).\n",
      "\n",
      "Cleaning the database's articles...\n",
      "Initial length of articles: 3096\n",
      "Criterion: keep only the designated articles.\n",
      "Final length of articles: 1277\n",
      "Done (elapsed time: 0s).\n",
      "\n",
      "Cleaning the database's entities...\n",
      "Initial length of entities: 6552\n",
      "Criterion: keep only the designated entities.\n",
      "Final length of entities: 1842\n",
      "Done (elapsed time: 0s).\n",
      "\n",
      "Done (elapsed time: 1s).\n",
      "\n",
      "Done (elapsed time: 323s).\n",
      "\n"
     ]
    }
   ],
   "source": [
    "database.process_articles()"
   ]
  },
  {
   "cell_type": "code",
   "execution_count": 8,
   "metadata": {
    "scrolled": true
   },
   "outputs": [
    {
     "name": "stdout",
     "output_type": "stream",
     "text": [
      "Computing and displaying statistics...\n",
      "Done (elapsed time: 0s).\n",
      "\n"
     ]
    },
    {
     "data": {
      "image/png": "[encoded data removed]",
      "text/plain": [
       "<Figure size 864x288 with 1 Axes>"
      ]
     },
     "metadata": {
      "needs_background": "light"
     },
     "output_type": "display_data"
    }
   ],
   "source": [
    "database.process_stats(type_='contexts')"
   ]
  },
  {
   "cell_type": "markdown",
   "metadata": {},
   "source": [
    "### Processing the wikipedia information"
   ]
  },
  {
   "cell_type": "code",
   "execution_count": 9,
   "metadata": {
    "scrolled": false
   },
   "outputs": [
    {
     "name": "stdout",
     "output_type": "stream",
     "text": [
      "Processing the wikipedia information...\n",
      "Attribute wikipedia loaded from results/2006-07/wikipedia/wikipedia_size10k_shuffle_articles1_queries1.pkl.\n",
      "Computing the Wikipedia information...\n",
      "Initial found entries: 1447/not found: 394\n",
      "   entity 100/1842...\n",
      "   entity 200/1842...\n",
      "   entity 300/1842...\n",
      "   entity 400/1842...\n",
      "   entity 500/1842...\n",
      "   entity 600/1842...\n",
      "   entity 700/1842...\n",
      "   entity 800/1842...\n",
      "   entity 900/1842...\n",
      "   entity 1000/1842...\n",
      "   entity 1100/1842...\n",
      "   entity 1200/1842...\n",
      "   entity 1300/1842...\n",
      "   entity 1400/1842...\n",
      "   entity 1500/1842...\n",
      "   entity 1600/1842...\n",
      "   entity 1700/1842...\n",
      "   entity 1800/1842...\n",
      "Final found entries: 1455/not found: 402\n",
      "Done (elapsed time: 64s).\n",
      "\n",
      "Attribute wikipedia saved at results/2006-07/wikipedia/wikipedia_size10k_shuffle_articles1_queries1.pkl.\n",
      "Done (elapsed time: 64s).\n",
      "\n"
     ]
    }
   ],
   "source": [
    "#database.process_wikipedia(load=False)\n",
    "database.process_wikipedia(load=True)"
   ]
  },
  {
   "cell_type": "code",
   "execution_count": 10,
   "metadata": {
    "scrolled": true
   },
   "outputs": [
    {
     "name": "stdout",
     "output_type": "stream",
     "text": [
      "Computing and displaying statistics...\n",
      "\n",
      "Total number of wikipedia entries found: 1455/not found: 402\n",
      "\n",
      "Wikipedia info of 10 most frequent tuples:\n",
      "\n",
      "New York City ;  The City of New York, usually called either New York City or simply New York , is the most populous city in the United States. With an estimated 2018 population of 8,398,748 distributed over a land area of about 302.6 square miles , New York is also the most densely populated major city in the United States.\n",
      "New York State ;  [related article] The New York State Assembly is the lower house of the New York State Legislature, the New York State Senate being the upper house. There are 150 seats in the Assembly. Assemblymembers serve two-year terms without term limits.The Assembly convenes at the State Capitol in Albany. As of January 2019, 106 of the 150 seats in the Assembly were held by Democrats.\n",
      "\n",
      "Brooklyn ;  Brooklyn is the most populous borough of New York City, with an estimated 2,504,700 residents in 2010. Named after the Dutch village of Breukelen, it borders the borough of Queens at the western end of Long Island. Brooklyn has several bridge and tunnel connections to the borough of Manhattan across the East River, and the Verrazzano-Narrows Bridge connects it with Staten Island.\n",
      "New York City ;  The City of New York, usually called either New York City or simply New York , is the most populous city in the United States. With an estimated 2018 population of 8,398,748 distributed over a land area of about 302.6 square miles , New York is also the most densely populated major city in the United States.\n",
      "\n",
      "Manhattan ;  Manhattan , , is the most densely populated of the five boroughs of New York City and its economic and administrative center, cultural identifier, and historical birthplace. The borough is coextensive with New York County, one of the original counties of the U.S. state of New York. The borough consists mostly of Manhattan Island, bounded by the Hudson, East, and Harlem rivers; several small adjacent islands; and Marble Hill, a small neighborhood now on the U.S. mainland, physically connected to the Bronx and separated from the rest of Manhattan by the Harlem River.\n",
      "New York City ;  The City of New York, usually called either New York City or simply New York , is the most populous city in the United States. With an estimated 2018 population of 8,398,748 distributed over a land area of about 302.6 square miles , New York is also the most densely populated major city in the United States.\n",
      "\n",
      "New York City ;  The City of New York, usually called either New York City or simply New York , is the most populous city in the United States. With an estimated 2018 population of 8,398,748 distributed over a land area of about 302.6 square miles , New York is also the most densely populated major city in the United States.\n",
      "Queens ;  Queens is the easternmost of the five boroughs of New York City. It is the largest borough geographically and is adjacent to the borough of Brooklyn at the southwestern end of Long Island. To its east is Nassau County. Queens also shares water borders with the boroughs of Manhattan and the Bronx. Coterminous with Queens County since 1899, the borough of Queens is the second largest in population , with an estimated 2,358,582 residents in 2017, approximately 48 percent of them foreign-born.\n",
      "\n",
      "Baghdad ;  Baghdad )  is the capital of Iraq. Located along the Tigris River, the city was founded in the 8th century and became the capital of the Abbasid Caliphate. Within a short time of its inception, Baghdad evolved into a significant cultural, commercial, and intellectual center for the Islamic world. This, in addition to housing several key academic institutions , as well as hosting multiethnic and multireligious environment, garnered the city a worldwide reputation as the \"Centre of Learning\".\n",
      "Iraq ;  Iraq or ; Arabic: العراق‎ al-'Irāq; Kurdish: عێراق‎ Êraq), officially the Republic of Iraq , is a country in Western Asia, bordered by Turkey to the north, Iran to the east, Kuwait to the southeast, Saudi Arabia to the south, Jordan to the southwest and Syria to the west. The capital, and largest city, is Baghdad. Iraq is home to diverse ethnic groups including Arabs, Kurds, Chaldeans, Assyrians, Turkmen, Shabakis, Yazidis, Armenians, Mandeans, Circassians and Kawliya.\n",
      "\n",
      "Eliot L. Spitzer ;  Eliot Laurence Spitzer is an American politician, attorney, and educator. A member of the Democratic Party, he served as the 54th Governor of New York.\n",
      "Eliot Spitzer ;  Eliot Laurence Spitzer is an American politician, attorney, and educator. A member of the Democratic Party, he served as the 54th Governor of New York.\n",
      "\n",
      "Dick Cheney ;  Richard Bruce Cheney is an American politician and businessman who served as the 46th vice president of the United States from 2001 to 2009. He has been cited as the most powerful vice president in American history. He was also one of the most unpopular politicians in the history of the US, holding an approval rating of just 13% at the time of leaving office.Cheney was born in Lincoln, Nebraska, and grew up in Casper, Wyoming. He attended Yale and then the University of Wyoming, at the latter of which he earned a BA and an MA in Political Science.\n",
      "George W. Bush ;  George Walker Bush is an American politician and businessman who served as the 43rd president of the United States from 2001 to 2009. He had previously served as the 46th governor of Texas from 1995 to 2000.\n",
      "\n",
      "Iran ;  Iran, also called Persia, and officially the Islamic Republic of Iran, is a country in Western Asia. With 82 million inhabitants, Iran is the world's 18th most populous country. Its territory spans 1,648,195 km2 , making it the second largest country in the Middle East and the 17th largest in the world. Iran is bordered to the northwest by Armenia and the Republic of Azerbaijan, to the north by the Caspian Sea, to the northeast by Turkmenistan, to the east by Afghanistan and Pakistan, to the south by the Persian Gulf and the Gulf of Oman, and to the west by Turkey and Iraq.\n",
      "Iraq ;  Iraq or ; Arabic: العراق‎ al-'Irāq; Kurdish: عێراق‎ Êraq), officially the Republic of Iraq , is a country in Western Asia, bordered by Turkey to the north, Iran to the east, Kuwait to the southeast, Saudi Arabia to the south, Jordan to the southwest and Syria to the west. The capital, and largest city, is Baghdad. Iraq is home to diverse ethnic groups including Arabs, Kurds, Chaldeans, Assyrians, Turkmen, Shabakis, Yazidis, Armenians, Mandeans, Circassians and Kawliya.\n",
      "\n",
      "Israel ;  Israel , also known as the State of Israel, is a country in Western Asia, located on the southeastern shore of the Mediterranean Sea and the northern shore of the Red Sea. It has land borders with Lebanon to the north, Syria to the northeast, Jordan on the east, the Palestinian territories of the West Bank and Gaza Strip to the east and west, respectively, and Egypt to the southwest. The country contains geographically diverse features within its relatively small area.\n",
      "Lebanon ;  Lebanon ; Arabic: لبنان‎, romanized: Lubnān, Lebanese Arabic pronunciation: [lɪbˈnɛːn]; French: Liban), officially known as the Lebanese Republic , is a country in Western Asia. It is bordered by Syria to the north and east and Israel to the south, while Cyprus is west across the Mediterranean Sea.\n",
      "\n",
      "Iraq ;  Iraq or ; Arabic: العراق‎ al-'Irāq; Kurdish: عێراق‎ Êraq), officially the Republic of Iraq , is a country in Western Asia, bordered by Turkey to the north, Iran to the east, Kuwait to the southeast, Saudi Arabia to the south, Jordan to the southwest and Syria to the west. The capital, and largest city, is Baghdad. Iraq is home to diverse ethnic groups including Arabs, Kurds, Chaldeans, Assyrians, Turkmen, Shabakis, Yazidis, Armenians, Mandeans, Circassians and Kawliya.\n",
      "United States ;  The United States of America , commonly known as the United States or America, is a country comprising 50 states, a federal district, five major self-governing territories, and various possessions. At 3.8 million square miles , the United States is the world's third or fourth largest country by total area and is slightly smaller than the entire continent of Europe's 3.9 million square miles . With a population of over 327 million people, the U.S. is the third most populous country.\n",
      "\n",
      "\n",
      "Entities not found in wikipedia:\n",
      "Nuri Kamal al- Maliki\n",
      "David Bouley Evolution\n",
      "Tim Raftery\n",
      "David Maldonado Jr.\n",
      "Shinzo Abe\n",
      "Banco Delta Asia\n",
      "Otis Cain\n",
      "Earl Dwayne McCutcheon\n",
      "Patricia Hoffbauer\n",
      "Paul Cortez\n",
      "Andrew C. Friedman\n",
      "Olive Middleton\n",
      "Francois-Louis Tremblay\n",
      "Carol Berkman\n",
      "Misha Leiner\n",
      "Jose Luis Fuentes\n",
      "Linden Labs\n",
      "Samuel Gilberd\n",
      "Paul Weissman\n",
      "Piers Playfair\n",
      "Juan A. Luna Jr.\n",
      "Savvy Gourmet\n",
      "Wang Xinpei\n",
      "Theresa Gambacorta\n",
      "Malaika Queano\n",
      "Raymond B. Seed\n",
      "Raymond L. Girouard\n",
      "Jonathan Steinke\n",
      "Dylan Langlois\n",
      "Jose Rodrigo Torres\n",
      "Allen Rosenshine\n",
      "Napoleon Gomez Urrutia\n",
      "Karen Mejia\n",
      "Jose Padilla\n",
      "Paul Daugerdas\n",
      "George Emilio Sanchez\n",
      "Todd Weeks\n",
      "Lewis Group\n",
      "Jorge Cornielle\n",
      "Judith Nathan\n",
      "Daniel Ilardi\n",
      "Eric Hines\n",
      "Morlan Higgins\n",
      "Martin B. Stolar\n",
      "Nataliya Koliada\n",
      "Related Cos\n",
      "Bethany D'Erario\n",
      "Kayson Pearson\n",
      "Don I. Bragg\n",
      "Tom Piccirilli\n",
      "Ellery Hatfield\n",
      "George Arzt\n",
      "Marc Shmuger\n",
      "Mike Revesz\n",
      "Jose Saramago\n",
      "Lyanda Lynn Haupt\n",
      "Viuly Piantini\n",
      "Angelina Fiordellisi\n",
      "Greg Steinbruner\n",
      "Andrew Deitchman\n",
      "Quachaun Browne\n",
      "Joe Aust\n",
      "Segolene Royal\n",
      "Stephen Pekar\n",
      "Leathem Brian Mehaffey\n",
      "Walter Lema\n",
      "Carley Wellman\n",
      "Lina Sinha\n",
      "Erik R. Franklin\n",
      "Barbara Bosch\n",
      "Robert Minczuk\n",
      "Lawrence E. Bloch\n",
      "Linda C. Hayman\n",
      "Mullah Muhammad Nazir\n",
      "Rabia Ben Barka\n",
      "William Hoagland\n",
      "Education Department\n",
      "James W. Hirschmann\n",
      "Mark J. Butler\n",
      "Fred Senn\n",
      "Fabrizio Balestri\n",
      "Stephanie Meyer\n",
      "Randall David Cook\n",
      "Uruzgan Province\n",
      "Jeffrey D. Shields\n",
      "SAIC Motor Corp\n",
      "Ellen Centeno\n",
      "Dr. Kevin McAbee\n",
      "Pedro Genao Rodriguez\n",
      "James Orenstein\n",
      "Homeland Security Department\n",
      "Hideaki Ariizumi\n",
      "William Jahnke\n",
      "Charlie Fenton\n",
      "Mitchel S. Guttenberg\n",
      "Kinglarry Crawford\n",
      "Kasandra Larsen\n",
      "William T. Kallop\n",
      "Dan Watchorn\n",
      "Mamadou Soumare\n",
      "Thomas Odle\n",
      "George A. Lorch\n",
      "Francois Bayrou\n",
      "Presidio County Historical Commission\n",
      "Lynda Delaney\n",
      "Armando Braswell\n",
      "Troy Hendrix\n",
      "Nabila Nazli\n",
      "Swift Boat Veterans for Truth\n",
      "Juan Velle\n",
      "Mario Procida\n",
      "Lynette Clemetson\n",
      "John H. Lienhard\n",
      "Catherine Delaney\n",
      "Basiru Gassama\n",
      "Amy Kalafa\n",
      "David Saint\n",
      "Jedidiah Cohen\n",
      "David Pacheco Jr.\n",
      "Moussa Magassa\n",
      "Haitham al- Badri\n",
      "Mitra Hormozi\n",
      "Lucille Cirillo\n",
      "Rodney J. Andrews\n",
      "Ruth Cisero\n",
      "Paul Risoli\n",
      "Slobodan Milosevic\n",
      "Nimrah Naseer\n",
      "Mike Dyball\n",
      "Omar Abdel Rahman\n",
      "Leon Theremin\n",
      "Gail Ohanesian\n",
      "Bryna Pascoe\n",
      "Christian Sottile\n",
      "Vit Klusak\n",
      "Betty Lundy\n",
      "Rebecca A. Miles\n",
      "Treasury Department\n",
      "Janet van der Graaff\n",
      "Joanne Carson\n",
      "Marie Sanzone\n",
      "Sanjaya Bahel\n",
      "Lucy Playfair\n",
      "Teemu Selanne\n",
      "George R. Hendrey\n",
      "Nikolai Khalezin\n",
      "Gyorgy Ligeti\n",
      "Petr Sykora\n",
      "Gianfranco Becchina\n",
      "Robert F. Ostrum\n",
      "Campbell Holder\n",
      "Frank J. Sciame Jr.\n",
      "Bobby L. Maxwell\n",
      "Marc Santora\n",
      "Anbar Province\n",
      "Dorothy Stankovic\n",
      "Julie Cho\n",
      "Serena Torrey\n",
      "Ruth A. Wooden\n",
      "Jose Calderon\n",
      "Imette Carmella Saint Guillen\n",
      "Kapchagai\n",
      "Juliette Alexander\n",
      "Mark Ober\n",
      "Ayman Al- Zawahiri\n",
      "Nicole Vaidisova\n",
      "Darryl Littlejohn\n",
      "Derrick Ephraim\n",
      "Joann Wiggan\n",
      "Tom Wolzien\n",
      "Kramer Capital Partners\n",
      "Benjamin L. Sebban\n",
      "Jenny 8. del Corte Hirschfeld\n",
      "Joel Berman\n",
      "Samuel J. Dieteman\n",
      "Michelle Flores\n",
      "Barry M. Hartman\n",
      "Don Rackley\n",
      "Aleksandr Milinkevich\n",
      "Sugar Maples\n",
      "Hicham Chami\n",
      "Dan Pritzker\n",
      "Blackstone Management Assoc\n",
      "Vince Nudo\n",
      "Carmen Ricci\n",
      "Kathleen M. Cashin\n",
      "Lauren Reece\n",
      "Paul Kirschmann\n",
      "Joel B. Steinberg\n",
      "Eric Hensley\n",
      "Joseph L. Fischer\n",
      "Neck River\n",
      "Joseph Roberts Jr.\n",
      "Marcia B. Siegel\n",
      "Lin Yilun\n",
      "Juston R. Graber\n",
      "Andreas Killen\n",
      "Henry Ritell\n",
      "Muammar El- Qaddafi\n",
      "Ali Al- Sistani\n",
      "Aaron Wolfson\n",
      "William Majors\n",
      "Alexander Dargomizhsky\n",
      "Steven Sherman\n",
      "Maya Neighbour\n",
      "Matteo Fontana\n",
      "Nishan Kohli\n",
      "Marie Simon-Pierre\n",
      "Peter Menge\n",
      "Ladainian Tomlinson\n",
      "Alexander J. Denner\n",
      "Sanjoy Kar\n",
      "Justice Department\n",
      "Ruth Litoff\n",
      "Angelo Cosentini\n",
      "Raul Vergara Meneses\n",
      "Omar Hassan Al- Bashir\n",
      "Laura Patey\n",
      "Mike Akel\n",
      "Mark Kipnis\n",
      "Ren�e Lynn Bailey\n",
      "Viktor Horsting\n",
      "Latoya Marie Debose\n",
      "Birmingham Times\n",
      "Ari Edelson\n",
      "Idriss Deby\n",
      "Michael Mastromarino\n",
      "Table 8\n",
      "Hwang Woo Suk\n",
      "Kelly Calabrese\n",
      "Wanda Curry\n",
      "Donald M. Rattner\n",
      "Rolf Snoeren\n",
      "Paul Zweig\n",
      "Denise Gibbs\n",
      "Maxim Kondratiev\n",
      "Kenneth Bate\n",
      "Joseph Nicelli\n",
      "Leonora Gidlund\n",
      "Debrah Lee Charatan\n",
      "Fairfield Properties\n",
      "Sam Pratt\n",
      "Janica Kostelic\n",
      "Larry Feingold\n",
      "Jack Nargundkar\n",
      "Patricia Cruz\n",
      "James E. Lackner\n",
      "Concetta Russo-Carriero\n",
      "Jessamy Thomison\n",
      "Sayyed Darweesh\n",
      "Jose Vicente Rangel\n",
      "Wayne Bolton\n",
      "Zetteleen Smith\n",
      "David Holzman\n",
      "Anouar Majid\n",
      "Martin Nissenbaum\n",
      "Robert Henoch\n",
      "Abhijit Chakrabortti\n",
      "Serena Clayton\n",
      "Donald Collup\n",
      "Victor M. II De Leon\n",
      "Nicole Paultre\n",
      "Douglas J. Besharov\n",
      "Segolene Royale\n",
      "Kim Raffo\n",
      "Red Bull New York\n",
      "Paul Jimenez\n",
      "David Zweig\n",
      "Jason L. Rapp\n",
      "Ibrahim Al- Jaafari\n",
      "Hugo Chavez\n",
      "Diane Gooch\n",
      "Kayalyn A. Marafioti\n",
      "Dan Galvin\n",
      "Jaime Martinez Amador\n",
      "Martin Sprinzen\n",
      "Clarence Hodge Jr.\n",
      "Randy Florke\n",
      "John Marti\n",
      "Martin R. Heidgen\n",
      "Hugh Auslander\n",
      "Victor M. III De Leon\n",
      "Nicholas Bartha\n",
      "Donald C. Behringer\n",
      "Susan P. Rubin\n",
      "Jermaine Pellettier\n",
      "Joe Tantalo\n",
      "Sharllene Morillo\n",
      "Weena Pauly\n",
      "Ray Kurzell\n",
      "Yusuf Al- Qaradawi\n",
      "Yusri Fakher Muhammad Ali\n",
      "Audrey Lewis\n",
      "Michael Hirtenstein\n",
      "Michael Gooch\n",
      "Joseph J. McGovern\n",
      "Joel Bishoff\n",
      "Paul Manger\n",
      "Dwayne Palmer\n",
      "Arlene Tankleff\n",
      "Frederick J. Mancheski\n",
      "Robert G. Bea\n",
      "Jeffrey H. Cramer\n",
      "Jed Orlemann\n",
      "Arnold Hardman\n",
      "Corey R. Clagett\n",
      "Santiago Rafael Cruz\n",
      "Liesl Schillinger\n",
      "James Degorski\n",
      "Lawrence W. Burt\n",
      "Aleksandr G. Lukashenko\n",
      "Kassie Evashevski\n",
      "Donna Mitchell\n",
      "Brad Weston\n",
      "Aleksandr V. Kazulin\n",
      "Jose Guadalupe Arias Maravilla\n",
      "Alvaro Uribe\n",
      "Russell C. III Taylor\n",
      "Janna Bullock\n",
      "Sandra Revesz\n",
      "Betzaida Guerra\n",
      "Joseph Bondy\n",
      "David Tavdy\n",
      "Abbie Hornburg\n",
      "Kevin Chung\n",
      "Freda Black\n",
      "Velimer Chlebnikov\n",
      "Kurt W. Butenhoff\n",
      "Seymour Tankleff\n",
      "Jesse Rutledge Jr.\n",
      "Martin R. Stolar\n",
      "Ralph C. Stayer\n",
      "Interior Department\n",
      "Brett J. Butler\n",
      "Nick Holly\n",
      "Ignacio Fanlo\n",
      "Donna M. Guerin\n",
      "Sip Wine Shop\n",
      "Terry N. Christensen\n",
      "Robin Soderling\n",
      "Nuri Kamal Al- Maliki\n",
      "Ronald L. Krall\n",
      "Gary Boren\n",
      "Robert Coplan\n",
      "Diyala Province\n",
      "Heather Baltz\n",
      "Polly Shulman\n",
      "Diana Bijon\n",
      "Noel L. Hillman\n",
      "Judith Scruggs\n",
      "Natasha Martin\n",
      "Samantha M. Shapiro\n",
      "Shanghai Automotive Industry Corp\n",
      "Rimantas Dichavicius\n",
      "West Texas Hospital\n",
      "Kevin McAbee\n",
      "Sultan Demelkhanov\n",
      "Daniel Scruggs\n",
      "Colleen Shipman\n",
      "Aleshia Smith\n",
      "Jesse Rutledge Sr.\n",
      "Christian Milton\n",
      "Alan R. Honorof\n",
      "Randy Punnett\n",
      "Marty Conner\n",
      "Michael Jude Fay\n",
      "Jesse Chacon\n",
      "Quashay Everett\n",
      "Michael Buday\n",
      "Joseph Locurto\n",
      "Ken Diamondstone\n",
      "Stephen Temperley\n",
      "Elat Chayyim\n",
      "Jan Beekman\n",
      "Stephen L. Braslow\n",
      "Cecelia Fire Thunder\n",
      "Elijah Santana\n",
      "Kyra Nichols\n",
      "Mary Cammarato\n",
      "Jeff Berman\n",
      "Sunny Sharma\n",
      "Janez Drnovsek\n",
      "Catherine Woods\n",
      "Darren Fudenske\n",
      "Band of Brothers 2006\n",
      "Phillip Grant\n",
      "David Gotay\n",
      "Khurrum Wahid\n",
      "Ronneil Gilliam\n",
      "Wesley H. Colwell\n",
      "Dmitry Arnautov\n",
      "Vado Diomande\n",
      "Bruce M. Psaty\n",
      "Janon Fisher\n",
      "Hamlet E. Goore\n",
      "Shannon Haragan\n",
      "Mohamed Nour\n",
      "Kemal Ataturk\n",
      "Garry Reader\n",
      "Philip Pitzer\n",
      "Amanda J. Law\n",
      "Stephanie Barton-Farcas\n",
      "\n",
      "Done (elapsed time: 0s).\n",
      "\n"
     ]
    },
    {
     "data": {
      "image/png": "[encoded data removed]",
      "text/plain": [
       "<Figure size 864x288 with 1 Axes>"
      ]
     },
     "metadata": {
      "needs_background": "light"
     },
     "output_type": "display_data"
    },
    {
     "data": {
      "image/png": "[encoded data removed]",
      "text/plain": [
       "<Figure size 864x288 with 1 Axes>"
      ]
     },
     "metadata": {
      "needs_background": "light"
     },
     "output_type": "display_data"
    }
   ],
   "source": [
    "database.process_stats(type_='wikipedia')"
   ]
  },
  {
   "cell_type": "markdown",
   "metadata": {},
   "source": [
    "### Processing the queries"
   ]
  },
  {
   "cell_type": "code",
   "execution_count": 11,
   "metadata": {},
   "outputs": [
    {
     "name": "stdout",
     "output_type": "stream",
     "text": [
      "Processing the aggregation queries...\n",
      "Computing the Queries...\n",
      "Initial length of queries: 0\n",
      "   tuple 1000/2633...\n",
      "   tuple 2000/2633...\n",
      "Final length of queries: 10811\n",
      "Done (elapsed time: 1s).\n",
      "\n",
      "Attribute queries saved at results/2006-07/queries/queries_size10k_shuffle_articles1_queries1.pkl.\n",
      "Attribute queries saved at results/2006-07/queries/queries_short_size10k_shuffle_articles1_queries1.csv\n",
      "Done (elapsed time: 1s).\n",
      "\n"
     ]
    }
   ],
   "source": [
    "database.process_queries(load=False)\n",
    "#database.process_queries(load=True)"
   ]
  },
  {
   "cell_type": "code",
   "execution_count": 13,
   "metadata": {},
   "outputs": [
    {
     "name": "stdout",
     "output_type": "stream",
     "text": [
      "Object loaded from results/2006-07/wikipedia/wikipedia_size1k_articles1_queries1.pkl\n",
      "Current file: 350 found/143 not_found...\n",
      "Global file updated: 350 found/143 not_found.\n",
      "Object loaded from results/2006-07/wikipedia/wikipedia_size10k_articles1_queries1.pkl\n",
      "Current file: 990 found/268 not_found...\n",
      "Global file updated: 1212 found/392 not_found.\n",
      "Object loaded from results/2006-07/wikipedia/wikipedia_size10k_shuffle_articles1_queries1.pkl\n",
      "Current file: 1455 found/402 not_found...\n",
      "Global file updated: 2398 found/765 not_found.\n",
      "Object saved at results/2006-07/wikipedia/wikipedia_global.pkl.\n"
     ]
    }
   ],
   "source": [
    "database.combine_pkl(in_names=['wikipedia_size1k_articles1_queries1',\n",
    "                               'wikipedia_size10k_articles1_queries1',\n",
    "                               'wikipedia_size10k_shuffle_articles1_queries1'])"
   ]
  },
  {
   "cell_type": "code",
   "execution_count": null,
   "metadata": {},
   "outputs": [],
   "source": []
  }
 ],
 "metadata": {
  "kernelspec": {
   "display_name": "Python 3",
   "language": "python",
   "name": "python3"
  },
  "language_info": {
   "codemirror_mode": {
    "name": "ipython",
    "version": 3
   },
   "file_extension": ".py",
   "mimetype": "text/x-python",
   "name": "python",
   "nbconvert_exporter": "python",
   "pygments_lexer": "ipython3",
   "version": "3.6.9"
  },
  "toc": {
   "base_numbering": 1,
   "nav_menu": {},
   "number_sections": true,
   "sideBar": true,
   "skip_h1_title": false,
   "title_cell": "Table of Contents",
   "title_sidebar": "Contents",
   "toc_cell": false,
   "toc_position": {},
   "toc_section_display": true,
   "toc_window_display": false
  }
 },
 "nbformat": 4,
 "nbformat_minor": 2
}
