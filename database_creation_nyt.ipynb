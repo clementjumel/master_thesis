{
 "cells": [
  {
   "cell_type": "markdown",
   "metadata": {},
   "source": [
    "# Setup"
   ]
  },
  {
   "cell_type": "code",
   "execution_count": 1,
   "metadata": {
    "ExecuteTime": {
     "end_time": "2019-04-13T03:57:03.299844Z",
     "start_time": "2019-04-13T03:57:03.266445Z"
    },
    "pycharm": {
     "is_executing": false
    }
   },
   "outputs": [],
   "source": [
    "%reload_ext autoreload\n",
    "%autoreload 2"
   ]
  },
  {
   "cell_type": "code",
   "execution_count": 2,
   "metadata": {
    "ExecuteTime": {
     "end_time": "2019-04-13T03:57:03.449865Z",
     "start_time": "2019-04-13T03:57:03.408497Z"
    },
    "pycharm": {
     "is_executing": false
    }
   },
   "outputs": [],
   "source": [
    "from database_creation.database import Database"
   ]
  },
  {
   "cell_type": "markdown",
   "metadata": {},
   "source": [
    "# Annotation task pipeline"
   ]
  },
  {
   "cell_type": "markdown",
   "metadata": {},
   "source": [
    "## Creation of the queries (create_queries)"
   ]
  },
  {
   "cell_type": "markdown",
   "metadata": {},
   "source": [
    "### Parameters"
   ]
  },
  {
   "cell_type": "code",
   "execution_count": 3,
   "metadata": {
    "pycharm": {
     "is_executing": false
    }
   },
   "outputs": [],
   "source": [
    "max_size = 10000\n",
    "shuffle = True\n",
    "min_articles = 1\n",
    "min_queries = 1"
   ]
  },
  {
   "cell_type": "markdown",
   "metadata": {},
   "source": [
    "### Preprocessing the database"
   ]
  },
  {
   "cell_type": "code",
   "execution_count": 4,
   "metadata": {
    "pycharm": {
     "is_executing": false
    }
   },
   "outputs": [],
   "source": [
    "database = Database(max_size=max_size, shuffle=shuffle,\n",
    "                    min_articles=min_articles, min_queries=min_queries)"
   ]
  },
  {
   "cell_type": "code",
   "execution_count": 5,
   "metadata": {
    "pycharm": {
     "is_executing": false
    },
    "scrolled": false
   },
   "outputs": [
    {
     "name": "stdout",
     "output_type": "stream",
     "text": [
      "Preprocessing the database...\n",
      "Computing the database' article...\n",
      "Initial length of articles: 0\n",
      "Debugging Written in results/2006-07/debug/articles.txt...\n",
      "Final length of articles: 10000\n",
      "Done (elapsed time: 0s).\n",
      "\n",
      "Cleaning the database's articles...\n",
      "Initial length of articles: 10000\n",
      "Criterion: Check if an article's content file exists.\n",
      "Final length of articles: 4200\n",
      "Done (elapsed time: 20s).\n",
      "\n",
      "Cleaning the database's articles...\n",
      "Initial length of articles: 4200\n",
      "Criterion: Check if an article's summary file exists.\n",
      "Final length of articles: 4200\n",
      "Done (elapsed time: 3s).\n",
      "\n",
      "Computing the articles' metadata...\n",
      "   article 500/4200...\n",
      "   article 1000/4200...\n",
      "   article 1500/4200...\n",
      "   article 2000/4200...\n",
      "   article 2500/4200...\n",
      "   article 3000/4200...\n",
      "   article 3500/4200...\n",
      "   article 4000/4200...\n",
      "Debugging Written in results/2006-07/debug/metadata.txt...\n",
      "Done (elapsed time: 2s).\n",
      "\n",
      "Computing the database' entities...\n",
      "Initial length of entities: 0\n",
      "   article 500/4200...\n",
      "   article 1000/4200...\n",
      "   article 1500/4200...\n",
      "   article 2000/4200...\n",
      "   article 2500/4200...\n",
      "   article 3000/4200...\n",
      "   article 3500/4200...\n",
      "   article 4000/4200...\n",
      "Debugging Written in results/2006-07/debug/entities.txt...\n",
      "Final length of entities: 7837\n",
      "Done (elapsed time: 4s).\n",
      "\n",
      "Computing the entity tuples...\n",
      "Initial length of tuples: 0\n",
      "   article 500/4200...\n",
      "   article 1000/4200...\n",
      "   article 1500/4200...\n",
      "   article 2000/4200...\n",
      "   article 2500/4200...\n",
      "   article 3000/4200...\n",
      "   article 3500/4200...\n",
      "   article 4000/4200...\n",
      "Debugging Written in results/2006-07/debug/tuples.txt...\n",
      "Final length of tuples: 45642\n",
      "Done (elapsed time: 39s).\n",
      "\n",
      "Filtering the articles, tuples and entities...\n",
      "Minimum number of articles: 1\n",
      "Cleaning the database's tuples...\n",
      "Initial length of tuples: 45642\n",
      "Criterion: keep only the designated tuples.\n",
      "Final length of tuples: 45642\n",
      "Done (elapsed time: 0s).\n",
      "\n",
      "Cleaning the database's articles...\n",
      "Initial length of articles: 4200\n",
      "Criterion: keep only the designated articles.\n",
      "Final length of articles: 3091\n",
      "Done (elapsed time: 0s).\n",
      "\n",
      "Cleaning the database's entities...\n",
      "Initial length of entities: 7837\n",
      "Criterion: keep only the designated entities.\n",
      "Final length of entities: 6523\n",
      "Done (elapsed time: 0s).\n",
      "\n",
      "Done (elapsed time: 0s).\n",
      "\n",
      "Done (elapsed time: 70s).\n",
      "\n"
     ]
    }
   ],
   "source": [
    "database.preprocess_database(debug=True)"
   ]
  },
  {
   "cell_type": "markdown",
   "metadata": {},
   "source": [
    "### Preprocessing the articles"
   ]
  },
  {
   "cell_type": "code",
   "execution_count": 6,
   "metadata": {
    "pycharm": {
     "is_executing": true
    },
    "scrolled": false
   },
   "outputs": [
    {
     "name": "stdout",
     "output_type": "stream",
     "text": [
      "Preprocessing the articles...\n",
      "Computing the articles' annotations...\n",
      "   article 500/3091...\n",
      "   article 1000/3091...\n",
      "   article 1500/3091...\n",
      "   article 2000/3091...\n",
      "   article 2500/3091...\n",
      "   article 3000/3091...\n",
      "Debugging Written in results/2006-07/debug/annotations.txt...\n",
      "Done (elapsed time: 276s).\n",
      "\n",
      "Computing the contexts...\n",
      "   tuple 1000/45642...\n",
      "   tuple 2000/45642...\n",
      "   tuple 3000/45642...\n",
      "   tuple 4000/45642...\n",
      "   tuple 5000/45642...\n",
      "   tuple 6000/45642...\n",
      "   tuple 7000/45642...\n",
      "   tuple 8000/45642...\n",
      "   tuple 9000/45642...\n",
      "   tuple 10000/45642...\n",
      "   tuple 11000/45642...\n",
      "   tuple 12000/45642...\n",
      "   tuple 13000/45642...\n",
      "   tuple 14000/45642...\n",
      "   tuple 15000/45642...\n",
      "   tuple 16000/45642...\n",
      "   tuple 17000/45642...\n",
      "   tuple 18000/45642...\n",
      "   tuple 19000/45642...\n",
      "   tuple 20000/45642...\n",
      "   tuple 21000/45642...\n",
      "   tuple 22000/45642...\n",
      "   tuple 23000/45642...\n",
      "   tuple 24000/45642...\n",
      "   tuple 25000/45642...\n",
      "   tuple 26000/45642...\n",
      "   tuple 27000/45642...\n",
      "   tuple 28000/45642...\n",
      "   tuple 29000/45642...\n",
      "   tuple 30000/45642...\n",
      "   tuple 31000/45642...\n",
      "   tuple 32000/45642...\n",
      "   tuple 33000/45642...\n",
      "   tuple 34000/45642...\n",
      "   tuple 35000/45642...\n",
      "   tuple 36000/45642...\n",
      "   tuple 37000/45642...\n",
      "   tuple 38000/45642...\n",
      "   tuple 39000/45642...\n",
      "   tuple 40000/45642...\n",
      "   tuple 41000/45642...\n",
      "   tuple 42000/45642...\n",
      "   tuple 43000/45642...\n",
      "   tuple 44000/45642...\n",
      "   tuple 45000/45642...\n",
      "Debugging Written in results/2006-07/debug/contexts.txt...\n",
      "Done (elapsed time: 19s).\n",
      "\n",
      "Filtering the articles, tuples and entities...\n",
      "Minimum number of queries: 1\n",
      "Cleaning the database's tuples...\n",
      "Initial length of tuples: 45642\n",
      "Criterion: keep only the designated tuples.\n",
      "Final length of tuples: 2187\n",
      "Done (elapsed time: 0s).\n",
      "\n",
      "Cleaning the database's articles...\n",
      "Initial length of articles: 3091\n",
      "Criterion: keep only the designated articles.\n",
      "Final length of articles: 1241\n",
      "Done (elapsed time: 0s).\n",
      "\n",
      "Cleaning the database's entities...\n",
      "Initial length of entities: 6523\n",
      "Criterion: keep only the designated entities.\n",
      "Final length of entities: 1728\n",
      "Done (elapsed time: 0s).\n",
      "\n",
      "Done (elapsed time: 1s).\n",
      "\n",
      "Done (elapsed time: 295s).\n",
      "\n"
     ]
    }
   ],
   "source": [
    "database.process_articles(debug=True)"
   ]
  },
  {
   "cell_type": "markdown",
   "metadata": {},
   "source": [
    "### Processing the wikipedia information"
   ]
  },
  {
   "cell_type": "code",
   "execution_count": 7,
   "metadata": {
    "pycharm": {
     "is_executing": true
    },
    "scrolled": false
   },
   "outputs": [
    {
     "name": "stdout",
     "output_type": "stream",
     "text": [
      "Processing the wikipedia information...\n",
      "Attribute wikipedia loaded from results/2006-07/wikipedia/wikipedia_size10k_shuffle_articles1_queries1.pkl.\n",
      "Computing the Wikipedia information...\n",
      "Initial found entries: 1656/not found: 394\n",
      "   entity 100/1728...\n",
      "   entity 200/1728...\n",
      "   entity 300/1728...\n",
      "   entity 400/1728...\n",
      "   entity 500/1728...\n",
      "   entity 600/1728...\n",
      "   entity 700/1728...\n",
      "   entity 800/1728...\n",
      "   entity 900/1728...\n",
      "   entity 1000/1728...\n",
      "   entity 1100/1728...\n",
      "   entity 1200/1728...\n",
      "   entity 1300/1728...\n",
      "   entity 1400/1728...\n",
      "   entity 1500/1728...\n",
      "   entity 1600/1728...\n",
      "   entity 1700/1728...\n",
      "Final found entries: 1656/not found: 394\n",
      "Debugging Written in results/2006-07/debug/wikipedia.txt...\n",
      "Done (elapsed time: 0s).\n",
      "\n",
      "Attribute wikipedia saved at results/2006-07/wikipedia/wikipedia_size10k_shuffle_articles1_queries1.pkl.\n",
      "Done (elapsed time: 0s).\n",
      "\n"
     ]
    }
   ],
   "source": [
    "#database.process_wikipedia(load=False, debug=True)\n",
    "database.process_wikipedia(load=True, debug=True)"
   ]
  },
  {
   "cell_type": "markdown",
   "metadata": {},
   "source": [
    "### Processing the queries"
   ]
  },
  {
   "cell_type": "code",
   "execution_count": 8,
   "metadata": {
    "pycharm": {
     "is_executing": true
    },
    "scrolled": true
   },
   "outputs": [
    {
     "name": "stdout",
     "output_type": "stream",
     "text": [
      "Processing the aggregation queries...\n",
      "Computing the Queries...\n",
      "Initial length of queries: 0\n",
      "   tuple 1000/2187...\n",
      "   tuple 2000/2187...\n",
      "Debugging Written in results/2006-07/debug/queries.txt...\n",
      "Final length of queries: 7025\n",
      "Done (elapsed time: 1s).\n",
      "\n",
      "Attribute queries saved at results/2006-07/queries/queries_size10k_shuffle_articles1_queries1.pkl.\n",
      "Attribute queries saved at results/2006-07/queries/queries_short_size10k_shuffle_articles1_queries1.csv\n",
      "Done (elapsed time: 1s).\n",
      "\n"
     ]
    }
   ],
   "source": [
    "database.process_queries(load=False, debug=True)"
   ]
  },
  {
   "cell_type": "markdown",
   "metadata": {},
   "source": [
    "## Gather the wikipedia files together"
   ]
  },
  {
   "cell_type": "code",
   "execution_count": 9,
   "metadata": {
    "pycharm": {
     "is_executing": true
    }
   },
   "outputs": [
    {
     "name": "stdout",
     "output_type": "stream",
     "text": [
      "Object loaded from results/2006-07/wikipedia/wikipedia_global.pkl\n",
      "Current file: 2067 found/569 not_found...\n",
      "Global file updated: 2067 found/569 not_found.\n",
      "\n",
      "Object loaded from results/2006-07/wikipedia/wikipedia_size10k_shuffle_articles1_queries1.pkl\n",
      "Current file: 1656 found/394 not_found...\n",
      "Global file updated: 2067 found/569 not_found.\n",
      "\n",
      "Object saved at results/2006-07/wikipedia/wikipedia_global.pkl.\n"
     ]
    }
   ],
   "source": [
    "database.combine_pkl(in_names=['wikipedia_global',\n",
    "                               'wikipedia_size10k_shuffle_articles1_queries1'])"
   ]
  },
  {
   "cell_type": "code",
   "execution_count": null,
   "metadata": {},
   "outputs": [],
   "source": []
  }
 ],
 "metadata": {
  "kernelspec": {
   "display_name": "Python 3",
   "language": "python",
   "name": "python3"
  },
  "language_info": {
   "codemirror_mode": {
    "name": "ipython",
    "version": 3
   },
   "file_extension": ".py",
   "mimetype": "text/x-python",
   "name": "python",
   "nbconvert_exporter": "python",
   "pygments_lexer": "ipython3",
   "version": "3.6.9"
  },
  "pycharm": {
   "stem_cell": {
    "cell_type": "raw",
    "metadata": {
     "collapsed": false
    },
    "source": []
   }
  },
  "toc": {
   "base_numbering": 1,
   "nav_menu": {},
   "number_sections": true,
   "sideBar": true,
   "skip_h1_title": false,
   "title_cell": "Table of Contents",
   "title_sidebar": "Contents",
   "toc_cell": false,
   "toc_position": {},
   "toc_section_display": true,
   "toc_window_display": false
  }
 },
 "nbformat": 4,
 "nbformat_minor": 2
}
