{
 "cells": [
  {
   "cell_type": "markdown",
   "metadata": {},
   "source": [
    "# Setup"
   ]
  },
  {
   "cell_type": "code",
   "execution_count": 1,
   "metadata": {
    "ExecuteTime": {
     "end_time": "2019-04-13T03:57:03.299844Z",
     "start_time": "2019-04-13T03:57:03.266445Z"
    }
   },
   "outputs": [],
   "source": [
    "%reload_ext autoreload\n",
    "%autoreload 2"
   ]
  },
  {
   "cell_type": "code",
   "execution_count": 2,
   "metadata": {
    "ExecuteTime": {
     "end_time": "2019-04-13T03:57:03.449865Z",
     "start_time": "2019-04-13T03:57:03.408497Z"
    }
   },
   "outputs": [],
   "source": [
    "from database_creation.database import Database"
   ]
  },
  {
   "cell_type": "markdown",
   "metadata": {},
   "source": [
    "# Annotation task pipeline"
   ]
  },
  {
   "cell_type": "markdown",
   "metadata": {},
   "source": [
    "## Creation of the queries (create_queries)"
   ]
  },
  {
   "cell_type": "markdown",
   "metadata": {},
   "source": [
    "### Parameters"
   ]
  },
  {
   "cell_type": "code",
   "execution_count": 3,
   "metadata": {},
   "outputs": [],
   "source": [
    "max_size = 10000\n",
    "shuffle = False\n",
    "min_articles = 1\n",
    "min_queries = 1"
   ]
  },
  {
   "cell_type": "markdown",
   "metadata": {},
   "source": [
    "### Preprocessing the database"
   ]
  },
  {
   "cell_type": "code",
   "execution_count": 4,
   "metadata": {},
   "outputs": [],
   "source": [
    "database = Database(max_size=max_size, shuffle=shuffle,\n",
    "                    min_articles=min_articles, min_queries=min_queries)"
   ]
  },
  {
   "cell_type": "code",
   "execution_count": null,
   "metadata": {
    "scrolled": false
   },
   "outputs": [
    {
     "name": "stdout",
     "output_type": "stream",
     "text": [
      "Preprocessing the database...\n",
      "Computing the database' article...\n",
      "Initial length of articles: 0\n",
      "Final length of articles: 10000\n",
      "Done (elapsed time: 1s).\n",
      "\n",
      "Cleaning the database's articles...\n",
      "Initial length of articles: 10000\n",
      "Criterion: Check if an article's content file exists.\n",
      "Final length of articles: 3012\n",
      "Done (elapsed time: 54s).\n",
      "\n",
      "Cleaning the database's articles...\n",
      "Initial length of articles: 3012\n",
      "Criterion: Check if an article's summary file exists.\n",
      "Final length of articles: 3012\n",
      "Done (elapsed time: 5s).\n",
      "\n",
      "Computing the articles' metadata...\n",
      "   article 500/3012...\n",
      "   article 1000/3012...\n",
      "   article 1500/3012...\n"
     ]
    }
   ],
   "source": [
    "database.preprocess_database()"
   ]
  },
  {
   "cell_type": "code",
   "execution_count": null,
   "metadata": {
    "scrolled": true
   },
   "outputs": [],
   "source": [
    "database.process_stats(type_='tuples')"
   ]
  },
  {
   "cell_type": "markdown",
   "metadata": {},
   "source": [
    "### Preprocessing the articles"
   ]
  },
  {
   "cell_type": "code",
   "execution_count": null,
   "metadata": {
    "scrolled": false
   },
   "outputs": [],
   "source": [
    "database.process_articles()"
   ]
  },
  {
   "cell_type": "code",
   "execution_count": null,
   "metadata": {
    "scrolled": true
   },
   "outputs": [],
   "source": [
    "database.process_stats(type_='contexts')"
   ]
  },
  {
   "cell_type": "markdown",
   "metadata": {},
   "source": [
    "### Processing the wikipedia information"
   ]
  },
  {
   "cell_type": "code",
   "execution_count": null,
   "metadata": {
    "scrolled": false
   },
   "outputs": [],
   "source": [
    "database.process_wikipedia(load=False)\n",
    "#database.process_wikipedia(load=True)"
   ]
  },
  {
   "cell_type": "code",
   "execution_count": null,
   "metadata": {
    "scrolled": true
   },
   "outputs": [],
   "source": [
    "database.process_stats(type_='wikipedia')"
   ]
  },
  {
   "cell_type": "markdown",
   "metadata": {},
   "source": [
    "### Processing the queries"
   ]
  },
  {
   "cell_type": "code",
   "execution_count": null,
   "metadata": {},
   "outputs": [],
   "source": [
    "database.process_queries(load=False)\n",
    "#database.process_queries(load=True)"
   ]
  },
  {
   "cell_type": "markdown",
   "metadata": {},
   "source": [
    "## Gather the wikipedia files together"
   ]
  },
  {
   "cell_type": "code",
   "execution_count": 13,
   "metadata": {},
   "outputs": [
    {
     "name": "stdout",
     "output_type": "stream",
     "text": [
      "Object loaded from results/2006-07/wikipedia/wikipedia_size1k_articles1_queries1.pkl\n",
      "Current file: 350 found/143 not_found...\n",
      "Global file updated: 350 found/143 not_found.\n",
      "Object loaded from results/2006-07/wikipedia/wikipedia_size10k_articles1_queries1.pkl\n",
      "Current file: 990 found/268 not_found...\n",
      "Global file updated: 1212 found/392 not_found.\n",
      "Object loaded from results/2006-07/wikipedia/wikipedia_size10k_shuffle_articles1_queries1.pkl\n",
      "Current file: 1455 found/402 not_found...\n",
      "Global file updated: 2398 found/765 not_found.\n",
      "Object saved at results/2006-07/wikipedia/wikipedia_global.pkl.\n"
     ]
    }
   ],
   "source": [
    "database.combine_pkl(in_names=['wikipedia_size1k_articles1_queries1',\n",
    "                               'wikipedia_size10k_articles1_queries1',\n",
    "                               'wikipedia_size10k_shuffle_articles1_queries1'])"
   ]
  },
  {
   "cell_type": "code",
   "execution_count": null,
   "metadata": {},
   "outputs": [],
   "source": []
  }
 ],
 "metadata": {
  "kernelspec": {
   "display_name": "Python 3",
   "language": "python",
   "name": "python3"
  },
  "language_info": {
   "codemirror_mode": {
    "name": "ipython",
    "version": 3
   },
   "file_extension": ".py",
   "mimetype": "text/x-python",
   "name": "python",
   "nbconvert_exporter": "python",
   "pygments_lexer": "ipython3",
   "version": "3.6.9"
  },
  "toc": {
   "base_numbering": 1,
   "nav_menu": {},
   "number_sections": true,
   "sideBar": true,
   "skip_h1_title": false,
   "title_cell": "Table of Contents",
   "title_sidebar": "Contents",
   "toc_cell": false,
   "toc_position": {},
   "toc_section_display": true,
   "toc_window_display": false
  }
 },
 "nbformat": 4,
 "nbformat_minor": 2
}
