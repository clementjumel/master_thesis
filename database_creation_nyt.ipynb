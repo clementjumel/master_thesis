{
 "cells": [
  {
   "cell_type": "markdown",
   "metadata": {},
   "source": [
    "# Setup"
   ]
  },
  {
   "cell_type": "code",
   "execution_count": 1,
   "metadata": {
    "ExecuteTime": {
     "end_time": "2019-04-13T03:57:03.299844Z",
     "start_time": "2019-04-13T03:57:03.266445Z"
    },
    "pycharm": {
     "is_executing": false
    }
   },
   "outputs": [],
   "source": [
    "%reload_ext autoreload\n",
    "%autoreload 2"
   ]
  },
  {
   "cell_type": "code",
   "execution_count": 2,
   "metadata": {
    "ExecuteTime": {
     "end_time": "2019-04-13T03:57:03.449865Z",
     "start_time": "2019-04-13T03:57:03.408497Z"
    },
    "pycharm": {
     "is_executing": false
    }
   },
   "outputs": [],
   "source": [
    "from database_creation.database import Database"
   ]
  },
  {
   "cell_type": "markdown",
   "metadata": {},
   "source": [
    "# Annotation task pipeline"
   ]
  },
  {
   "cell_type": "markdown",
   "metadata": {},
   "source": [
    "## Creation of the queries (create_queries)"
   ]
  },
  {
   "cell_type": "markdown",
   "metadata": {},
   "source": [
    "### Parameters"
   ]
  },
  {
   "cell_type": "code",
   "execution_count": 3,
   "metadata": {
    "pycharm": {
     "is_executing": false
    }
   },
   "outputs": [],
   "source": [
    "max_size = 10000\n",
    "shuffle = True\n",
    "min_articles = 1\n",
    "min_queries = 1"
   ]
  },
  {
   "cell_type": "markdown",
   "metadata": {},
   "source": [
    "### Preprocessing the database"
   ]
  },
  {
   "cell_type": "code",
   "execution_count": 4,
   "metadata": {
    "pycharm": {
     "is_executing": false
    }
   },
   "outputs": [],
   "source": [
    "database = Database(max_size=max_size, shuffle=shuffle,\n",
    "                    min_articles=min_articles, min_queries=min_queries)"
   ]
  },
  {
   "cell_type": "code",
   "execution_count": 5,
   "metadata": {
    "pycharm": {
     "is_executing": false
    },
    "scrolled": false
   },
   "outputs": [
    {
     "name": "stdout",
     "output_type": "stream",
     "text": [
      "Preprocessing the database...\n",
      "Computing the database' article...\n",
      "Initial length of articles: 0\n",
      "Final length of articles: 10000\n",
      "Done (elapsed time: 1s).\n",
      "\n",
      "Cleaning the database's articles...\n",
      "Initial length of articles: 10000\n",
      "Criterion: Check if an article's content file exists.\n",
      "Final length of articles: 4200\n",
      "Done (elapsed time: 74s).\n",
      "\n",
      "Cleaning the database's articles...\n",
      "Initial length of articles: 4200\n",
      "Criterion: Check if an article's summary file exists.\n",
      "Final length of articles: 4200\n",
      "Done (elapsed time: 26s).\n",
      "\n",
      "Computing the articles' metadata...\n",
      "   article 500/4200...\n",
      "   article 1000/4200...\n",
      "   article 1500/4200...\n",
      "   article 2000/4200...\n",
      "   article 2500/4200...\n",
      "   article 3000/4200...\n",
      "   article 3500/4200...\n",
      "   article 4000/4200...\n",
      "Done (elapsed time: 23s).\n",
      "\n",
      "Computing the database' entities...\n",
      "Initial length of entities: 0\n",
      "   article 500/4200...\n",
      "   article 1000/4200...\n",
      "   article 1500/4200...\n",
      "   article 2000/4200...\n",
      "   article 2500/4200...\n",
      "   article 3000/4200...\n",
      "   article 3500/4200...\n",
      "   article 4000/4200...\n",
      "Final length of entities: 7839\n",
      "Done (elapsed time: 2s).\n",
      "\n",
      "Computing the entity tuples...\n",
      "Initial length of tuples: 0\n",
      "   article 500/4200...\n",
      "   article 1000/4200...\n",
      "   article 1500/4200...\n",
      "   article 2000/4200...\n",
      "   article 2500/4200...\n",
      "   article 3000/4200...\n",
      "   article 3500/4200...\n",
      "   article 4000/4200...\n",
      "Final length of tuples: 36039\n",
      "Done (elapsed time: 30s).\n",
      "\n",
      "Filtering the articles, tuples and entities...\n",
      "Minimum number of articles: 1\n",
      "Cleaning the database's tuples...\n",
      "Initial length of tuples: 36039\n",
      "Criterion: keep only the designated tuples.\n",
      "Final length of tuples: 36039\n",
      "Done (elapsed time: 0s).\n",
      "\n",
      "Cleaning the database's articles...\n",
      "Initial length of articles: 4200\n",
      "Criterion: keep only the designated articles.\n",
      "Final length of articles: 2729\n",
      "Done (elapsed time: 0s).\n",
      "\n",
      "Cleaning the database's entities...\n",
      "Initial length of entities: 7839\n",
      "Criterion: keep only the designated entities.\n",
      "Final length of entities: 5771\n",
      "Done (elapsed time: 0s).\n",
      "\n",
      "Done (elapsed time: 0s).\n",
      "\n",
      "Done (elapsed time: 157s).\n",
      "\n"
     ]
    }
   ],
   "source": [
    "database.preprocess_database()"
   ]
  },
  {
   "cell_type": "code",
   "execution_count": 6,
   "metadata": {
    "pycharm": {
     "name": "#%%\n"
    }
   },
   "outputs": [
    {
     "name": "stdout",
     "output_type": "stream",
     "text": [
      "Computing and displaying statistics...\n",
      "\n",
      "Total number of tuples: 36039\n",
      "\n",
      "10 most frequent tuples:\n",
      "Manhattan; New York City (in 37 articles)\n",
      "Brooklyn; New York City (in 35 articles)\n",
      "New York City; New York State (in 30 articles)\n",
      "Bronx; New York City (in 26 articles)\n",
      "New York City; Queens (in 25 articles)\n",
      "House of Representatives; Senate (in 19 articles)\n",
      "New York Knickerbockers; New York Knicks (in 14 articles)\n",
      "New Jersey; New York City (in 10 articles)\n",
      "Republican Party; Senate (in 10 articles)\n",
      "New Jersey; New York State (in 9 articles)\n",
      "\n",
      "Done (elapsed time: 0s).\n",
      "\n"
     ]
    },
    {
     "data": {
      "image/png": "[encoded data removed]",
      "text/plain": [
       "<Figure size 864x288 with 1 Axes>"
      ]
     },
     "metadata": {
      "needs_background": "light"
     },
     "output_type": "display_data"
    },
    {
     "data": {
      "image/png": "[encoded data removed]",
      "text/plain": [
       "<Figure size 864x288 with 1 Axes>"
      ]
     },
     "metadata": {
      "needs_background": "light"
     },
     "output_type": "display_data"
    },
    {
     "data": {
      "image/png": "[encoded data removed]",
      "text/plain": [
       "<Figure size 864x288 with 1 Axes>"
      ]
     },
     "metadata": {
      "needs_background": "light"
     },
     "output_type": "display_data"
    }
   ],
   "source": [
    "database.process_stats(type_='tuples')"
   ]
  },
  {
   "cell_type": "markdown",
   "metadata": {},
   "source": [
    "### Preprocessing the articles"
   ]
  },
  {
   "cell_type": "code",
   "execution_count": 7,
   "metadata": {
    "pycharm": {
     "is_executing": true
    },
    "scrolled": false
   },
   "outputs": [
    {
     "name": "stdout",
     "output_type": "stream",
     "text": [
      "Preprocessing the articles...\n",
      "Computing the articles' annotations...\n",
      "   article 500/2729...\n",
      "   article 1000/2729...\n",
      "   article 1500/2729...\n",
      "   article 2000/2729...\n",
      "   article 2500/2729...\n",
      "Done (elapsed time: 251s).\n",
      "\n",
      "Computing the contexts...\n",
      "   tuple 1000/36039...\n",
      "   tuple 2000/36039...\n",
      "   tuple 3000/36039...\n",
      "   tuple 4000/36039...\n",
      "   tuple 5000/36039...\n",
      "   tuple 6000/36039...\n",
      "   tuple 7000/36039...\n",
      "   tuple 8000/36039...\n",
      "   tuple 9000/36039...\n",
      "   tuple 10000/36039...\n",
      "   tuple 11000/36039...\n",
      "   tuple 12000/36039...\n",
      "   tuple 13000/36039...\n",
      "   tuple 14000/36039...\n",
      "   tuple 15000/36039...\n",
      "   tuple 16000/36039...\n",
      "   tuple 17000/36039...\n",
      "   tuple 18000/36039...\n",
      "   tuple 19000/36039...\n",
      "   tuple 20000/36039...\n",
      "   tuple 21000/36039...\n",
      "   tuple 22000/36039...\n",
      "   tuple 23000/36039...\n",
      "   tuple 24000/36039...\n",
      "   tuple 25000/36039...\n",
      "   tuple 26000/36039...\n",
      "   tuple 27000/36039...\n",
      "   tuple 28000/36039...\n",
      "   tuple 29000/36039...\n",
      "   tuple 30000/36039...\n",
      "   tuple 31000/36039...\n",
      "   tuple 32000/36039...\n",
      "   tuple 33000/36039...\n",
      "   tuple 34000/36039...\n",
      "   tuple 35000/36039...\n",
      "   tuple 36000/36039...\n",
      "Done (elapsed time: 13s).\n",
      "\n",
      "Filtering the articles, tuples and entities...\n",
      "Minimum number of queries: 1\n",
      "Cleaning the database's tuples...\n",
      "Initial length of tuples: 36039\n",
      "Criterion: keep only the designated tuples.\n",
      "Final length of tuples: 1617\n",
      "Done (elapsed time: 0s).\n",
      "\n",
      "Cleaning the database's articles...\n",
      "Initial length of articles: 2729\n",
      "Criterion: keep only the designated articles.\n",
      "Final length of articles: 846\n",
      "Done (elapsed time: 1s).\n",
      "\n",
      "Cleaning the database's entities...\n",
      "Initial length of entities: 5771\n",
      "Criterion: keep only the designated entities.\n",
      "Final length of entities: 1343\n",
      "Done (elapsed time: 0s).\n",
      "\n",
      "Done (elapsed time: 1s).\n",
      "\n",
      "Done (elapsed time: 265s).\n",
      "\n"
     ]
    }
   ],
   "source": [
    "database.process_articles()"
   ]
  },
  {
   "cell_type": "code",
   "execution_count": 8,
   "metadata": {
    "pycharm": {
     "is_executing": true
    },
    "scrolled": true
   },
   "outputs": [
    {
     "name": "stdout",
     "output_type": "stream",
     "text": [
      "Computing and displaying statistics...\n",
      "Done (elapsed time: 0s).\n",
      "\n"
     ]
    },
    {
     "data": {
      "image/png": "[encoded data removed]",
      "text/plain": [
       "<Figure size 864x288 with 1 Axes>"
      ]
     },
     "metadata": {
      "needs_background": "light"
     },
     "output_type": "display_data"
    }
   ],
   "source": [
    "database.process_stats(type_='contexts')"
   ]
  },
  {
   "cell_type": "markdown",
   "metadata": {},
   "source": [
    "### Processing the wikipedia information"
   ]
  },
  {
   "cell_type": "code",
   "execution_count": 9,
   "metadata": {
    "pycharm": {
     "is_executing": true
    },
    "scrolled": false
   },
   "outputs": [
    {
     "name": "stdout",
     "output_type": "stream",
     "text": [
      "Processing the wikipedia information...\n",
      "Attribute wikipedia loaded from results/2006-07/wikipedia/wikipedia_size10k_shuffle_articles1_queries1.pkl.\n",
      "Computing the Wikipedia information...\n",
      "Initial found entries: 1042/not found: 306\n",
      "   entity 100/1343...\n",
      "   entity 200/1343...\n",
      "   entity 300/1343...\n",
      "   entity 400/1343...\n",
      "   entity 500/1343...\n",
      "   entity 600/1343...\n",
      "   entity 700/1343...\n",
      "   entity 800/1343...\n",
      "   entity 900/1343...\n",
      "   entity 1000/1343...\n",
      "   entity 1100/1343...\n",
      "   entity 1200/1343...\n",
      "   entity 1300/1343...\n",
      "Final found entries: 1049/not found: 312\n",
      "Done (elapsed time: 54s).\n",
      "\n",
      "Attribute wikipedia saved at results/2006-07/wikipedia/wikipedia_size10k_shuffle_articles1_queries1.pkl.\n",
      "Done (elapsed time: 54s).\n",
      "\n"
     ]
    }
   ],
   "source": [
    "#database.process_wikipedia(load=False)\n",
    "database.process_wikipedia(load=True)"
   ]
  },
  {
   "cell_type": "code",
   "execution_count": 10,
   "metadata": {
    "pycharm": {
     "is_executing": true
    },
    "scrolled": true
   },
   "outputs": [
    {
     "name": "stdout",
     "output_type": "stream",
     "text": [
      "Computing and displaying statistics...\n",
      "\n",
      "Total number of wikipedia entries found: 1049/not found: 312\n",
      "\n",
      "Wikipedia info of 10 most frequent tuples:\n",
      "\n",
      "Manhattan ;  Manhattan , , is the most densely populated of the five boroughs of New York City, coextensive with New York County, one of the original counties of the U.S. state of New York. Manhattan serves as the city's economic and administrative center, cultural identifier, and historical birthplace. The borough consists mostly of Manhattan Island, bounded by the Hudson, East, and Harlem rivers; several small adjacent islands; and Marble Hill, a small neighborhood now on the U.S. mainland, physically connected to the Bronx and separated from the rest of Manhattan by the Harlem River.\n",
      "New York City ;  The City of New York, usually called either New York City or simply New York , is the most populous city in the United States. With an estimated 2018 population of 8,398,748 distributed over a land area of about 302.6 square miles , New York is also the most densely populated major city in the United States.\n",
      "\n",
      "Brooklyn ;  Brooklyn is a borough of New York City coterminous with Kings County, the most populous county in the U.S. state of New York and the second-most densely populated county in the United States. It is New York City's most populous borough, with an estimated 2,504,700 residents in 2010. Named after the Dutch village of Breukelen, it borders the borough of Queens at the western end of Long Island. Brooklyn has several bridge and tunnel connections to the borough of Manhattan across the East River, and the Verrazzano-Narrows Bridge connects it with Staten Island. \n",
      "New York City ;  The City of New York, usually called either New York City or simply New York , is the most populous city in the United States. With an estimated 2018 population of 8,398,748 distributed over a land area of about 302.6 square miles , New York is also the most densely populated major city in the United States.\n",
      "\n",
      "New York City ;  The City of New York, usually called either New York City or simply New York , is the most populous city in the United States. With an estimated 2018 population of 8,398,748 distributed over a land area of about 302.6 square miles , New York is also the most densely populated major city in the United States.\n",
      "New York State ;  The New York State Senate is the upper house of the New York State Legislature. Its members are elected to two-year terms; there are no term limits. As of 2014, there are 63 seats in the Senate.\n",
      "\n",
      "New York City ;  The City of New York, usually called either New York City or simply New York , is the most populous city in the United States. With an estimated 2018 population of 8,398,748 distributed over a land area of about 302.6 square miles , New York is also the most densely populated major city in the United States.\n",
      "Queens ;  Queens is the easternmost of the five boroughs of New York City, coterminous with Queens County. It is the largest borough geographically and is adjacent to the borough of Brooklyn at the southwestern end of Long Island. To its east is Nassau County. Queens also shares water borders with the boroughs of Manhattan and the Bronx. The borough of Queens is the second largest in population , with an estimated 2,358,582 residents in 2017, approximately 48 percent of them foreign-born.\n",
      "\n",
      "New Jersey ;  New Jersey is a state in the Mid-Atlantic region of the United States. It is a peninsula, bordered on the north and east by the state of New York; on the east, southeast, and south by the Atlantic Ocean; on the west by the Delaware River and Pennsylvania; and on the southwest by the Delaware Bay and Delaware. New Jersey is the fourth-smallest state by area but the 11th-most populous, with 9 million residents as of 2017, making it the most densely populated of the 50 U.S. states with its biggest city being Newark.\n",
      "New York City ;  The City of New York, usually called either New York City or simply New York , is the most populous city in the United States. With an estimated 2018 population of 8,398,748 distributed over a land area of about 302.6 square miles , New York is also the most densely populated major city in the United States.\n",
      "\n",
      "Dick Cheney ;  Richard Bruce Cheney is an American politician and businessman who served as the 46th vice president of the United States from 2001 to 2009. He has been cited as the most powerful vice president in American history. He was also one of the most unpopular politicians in the history of the US, holding an approval rating of just 13% at the time of leaving office.Cheney was born in Lincoln, Nebraska, and grew up in Casper, Wyoming. He attended Yale and then the University of Wyoming, at the latter of which he earned a BA and an MA in Political Science.\n",
      "George W. Bush ;  George Walker Bush is an American politician and businessman who served as the 43rd president of the United States from 2001 to 2009. He had previously served as the 46th governor of Texas from 1995 to 2000.\n",
      "\n",
      "New York City ;  The City of New York, usually called either New York City or simply New York , is the most populous city in the United States. With an estimated 2018 population of 8,398,748 distributed over a land area of about 302.6 square miles , New York is also the most densely populated major city in the United States.\n",
      "United States ;  The United States of America , commonly known as the United States or America, is a country comprising 50 states, a federal district, five major self-governing territories, and various possessions. At 3.8 million square miles , the United States is the world's third or fourth largest country by total area and is slightly smaller than the entire continent of Europe, which is 3.9 million square miles . With a population of over 327 million people, the U.S. is the third most populous country.\n",
      "\n",
      "Donald H. Rumsfeld ;  Donald Henry Rumsfeld is an American former politician. Rumsfeld served as Secretary of Defense from 1975 to 1977 under Gerald Ford, and again from January 2001 to December 2006 under George W. Bush. He is both the youngest and the second-oldest person to have served as Secretary of Defense. Additionally, Rumsfeld was a three-term U.S.\n",
      "George W. Bush ;  George Walker Bush is an American politician and businessman who served as the 43rd president of the United States from 2001 to 2009. He had previously served as the 46th governor of Texas from 1995 to 2000.\n",
      "\n",
      "Connecticut ;  Connecticut ) is the southernmost state in the New England region of the northeastern United States. As of the 2010 Census, it has the highest per-capita income, Human Development Index , and median household income in the United States. It is bordered by Rhode Island to the east, Massachusetts to the north, New York to the west, and Long Island Sound to the south. Its capital is Hartford and its most populous city is Bridgeport. It is part of New England, although portions of it are often grouped with New York and New Jersey as the tri-state area.\n",
      "New Jersey ;  New Jersey is a state in the Mid-Atlantic region of the United States. It is a peninsula, bordered on the north and east by the state of New York; on the east, southeast, and south by the Atlantic Ocean; on the west by the Delaware River and Pennsylvania; and on the southwest by the Delaware Bay and Delaware. New Jersey is the fourth-smallest state by area but the 11th-most populous, with 9 million residents as of 2017, making it the most densely populated of the 50 U.S. states with its biggest city being Newark.\n",
      "\n",
      "I. Lewis Libby Jr. ;  I. Lewis \"Scooter\" Libby is an American lawyer and former adviser to Vice President Dick Cheney.\n",
      "Valerie Plame Wilson ;  Valerie Elise Plame Wilson , is an American writer, spy novelist, and former Central Intelligence Agency officer. As the subject of the 2003 Plame affair, also known as the CIA leak scandal, Plame's identity as a CIA officer was leaked to and subsequently published by Robert Novak of the Washington Post.\n",
      "\n",
      "\n",
      "Entities not found in wikipedia:\n",
      "Nuri Kamal al- Maliki\n",
      "Paul Risoli\n",
      "Todd Weeks\n",
      "Marty Conner\n",
      "Lina Sinha\n",
      "Nikolai Khalezin\n",
      "Michael Barbarino\n",
      "Amy Kalafa\n",
      "Allen Rosenshine\n",
      "Armando Braswell\n",
      "Stephen Voith\n",
      "Lauren Reece\n",
      "Sip Wine Shop\n",
      "Aris Alvarado\n",
      "Martin R. Heidgen\n",
      "Erik R. Franklin\n",
      "Juliette Alexander\n",
      "David Tavdy\n",
      "Stephen Pekar\n",
      "Paul Weissman\n",
      "Kim Raffo\n",
      "Marc Garin\n",
      "Hamlet E. Goore\n",
      "Kayalyn A. Marafioti\n",
      "Martin R. Stolar\n",
      "Shanghai Automotive Industry Corp\n",
      "Paul Manger\n",
      "Mickey Crowley\n",
      "Rodney J. Andrews\n",
      "Ellen Centeno\n",
      "Olive Middleton\n",
      "Judith Scruggs\n",
      "Larry Feingold\n",
      "Peter Menge\n",
      "Nicholas Bartha\n",
      "Raymond B. Seed\n",
      "Alexander J. Denner\n",
      "Ari Edelson\n",
      "Ayla Foster\n",
      "Carol Berkman\n",
      "Quachaun Browne\n",
      "Angelina Fiordellisi\n",
      "Daniel Ilardi\n",
      "Donna M. Guerin\n",
      "Clarence Hodge Jr.\n",
      "Dmitry Arnautov\n",
      "Christian Milton\n",
      "Mike Dyball\n",
      "Maya Neighbour\n",
      "David Maldonado Jr.\n",
      "Joe Aust\n",
      "Susan P. Rubin\n",
      "Paul Jimenez\n",
      "Nimrah Naseer\n",
      "Alexander Dargomizhsky\n",
      "Linda C. Hayman\n",
      "Cecelia Fire Thunder\n",
      "William T. Kallop\n",
      "Samuel Gilberd\n",
      "Serena Clayton\n",
      "Anbar Province\n",
      "Yusri Fakher Muhammad Ali\n",
      "Martin Sprinzen\n",
      "Ruth Cisero\n",
      "Nishan Kohli\n",
      "Kinglarry Crawford\n",
      "Fabrizio Balestri\n",
      "Heather Baltz\n",
      "Christine Odierno\n",
      "Tom Wolzien\n",
      "Zetteleen Smith\n",
      "Viuly Piantini\n",
      "SAIC Motor Corp\n",
      "Justice Department\n",
      "Marcus Odierno\n",
      "Juan Velle\n",
      "Elat Chayyim\n",
      "Marla Warren\n",
      "Morlan Higgins\n",
      "Jed Orlemann\n",
      "Mark Kipnis\n",
      "Hicham Chami\n",
      "Jorge Cornielle\n",
      "Charlie Fenton\n",
      "Garry Reader\n",
      "Marc Shmuger\n",
      "Donna Mitchell\n",
      "Joseph Mendelson\n",
      "Joseph Nicelli\n",
      "Concetta Russo-Carriero\n",
      "Joel Bishoff\n",
      "Christiane Schneider\n",
      "Khurrum Wahid\n",
      "Barbara Bosch\n",
      "George R. Hendrey\n",
      "Derrick Ephraim\n",
      "Martin Garin\n",
      "Paul Daugerdas\n",
      "Phillip Grant\n",
      "Ronald L. Krall\n",
      "Gianfranco Becchina\n",
      "Craig Bohmler\n",
      "Kate Shindle\n",
      "Linda Voith\n",
      "Martin B. Stolar\n",
      "Bennie Lenord\n",
      "Ibrahim Al- Jaafari\n",
      "Michael Hirtenstein\n",
      "Caroline Giuliani\n",
      "Fred Senn\n",
      "Basiru Gassama\n",
      "Christian Sottile\n",
      "Andrew Deitchman\n",
      "Campbell Holder\n",
      "Arley Foster\n",
      "Clive Rousseau\n",
      "Jeffrey H. Cramer\n",
      "James W. Hirschmann\n",
      "Denise Gibbs\n",
      "Judith Nathan\n",
      "Piers Playfair\n",
      "William Hoagland\n",
      "Eric Hines\n",
      "Wayne Bolton\n",
      "Jose Guadalupe Arias Maravilla\n",
      "Wesley H. Colwell\n",
      "John Marti\n",
      "Robert G. Bea\n",
      "Joseph Barbarino\n",
      "Mullah Muhammad Nazir\n",
      "Jose Rodrigo Torres\n",
      "Kayson Pearson\n",
      "Aaron Wolfson\n",
      "Bethany D'Erario\n",
      "Bobby L. Maxwell\n",
      "Wang Xinpei\n",
      "Corey R. Clagett\n",
      "Robert Coplan\n",
      "King of Jordan Abdullah Ii\n",
      "William Majors\n",
      "Leathem Brian Mehaffey\n",
      "Nabila Nazli\n",
      "Micki Pryor\n",
      "Latoya Marie Debose\n",
      "Presidio County Historical Commission\n",
      "Serena Torrey\n",
      "Frank J. Sciame Jr.\n",
      "Gail Ohanesian\n",
      "David Holzman\n",
      "Ray Kurzell\n",
      "Mary Cammarato\n",
      "Freda Black\n",
      "Juston R. Graber\n",
      "Paul Cortez\n",
      "Lucy Playfair\n",
      "Vince Nudo\n",
      "Joel Berman\n",
      "Aaron Isenstadt\n",
      "Vincent Barbarino\n",
      "Michael Jude Fay\n",
      "Kenneth Bate\n",
      "Dorothy Stankovic\n",
      "Mario Procida\n",
      "Red Bull New York\n",
      "Samantha M. Shapiro\n",
      "Laura Patey\n",
      "Theresa Crowley\n",
      "Tim Raftery\n",
      "Margaret Hwang Smith\n",
      "Barry M. Hartman\n",
      "Ken Diamondstone\n",
      "David Zweig\n",
      "Donald M. Rattner\n",
      "Wanda Curry\n",
      "Ruth A. Wooden\n",
      "Sanjaya Bahel\n",
      "Mitra Hormozi\n",
      "Lawrence W. Burt\n",
      "Anouar Majid\n",
      "Carmen Ricci\n",
      "Interior Department\n",
      "Lewis Group\n",
      "Toni Gojanovic\n",
      "Sultan Demelkhanov\n",
      "Ron Domingo\n",
      "Lawrence E. Bloch\n",
      "Troy Hendrix\n",
      "Walter Lema\n",
      "Quashay Everett\n",
      "Nuri Kamal Al- Maliki\n",
      "Catherine Woods\n",
      "Birmingham Times\n",
      "Jaime Martinez Amador\n",
      "William Emburey\n",
      "Julius Novick\n",
      "Hideaki Ariizumi\n",
      "Richard Makepeace\n",
      "Audrey Lewis\n",
      "Moussa Magassa\n",
      "Colleen Shipman\n",
      "Arnold Hardman\n",
      "Natasha Martin\n",
      "Banco Delta Asia\n",
      "Related Cos\n",
      "Donald Collup\n",
      "Kevin Chung\n",
      "West Texas Hospital\n",
      "Shannon Haragan\n",
      "Lynda Delaney\n",
      "Ralph C. Stayer\n",
      "Darryl Littlejohn\n",
      "Sugar Maples\n",
      "Bryna Pascoe\n",
      "Table 8\n",
      "Brad Weston\n",
      "Janna Bullock\n",
      "Kurt W. Butenhoff\n",
      "Kramer Capital Partners\n",
      "Aleshia Smith\n",
      "Elijah Santana\n",
      "Viktor Horsting\n",
      "Leonora Gidlund\n",
      "Sharllene Morillo\n",
      "Wilfredo Lopez\n",
      "Mike Akel\n",
      "Stephen L. Braslow\n",
      "Peter Ilyich Tchaikovsky\n",
      "Renee Bailey\n",
      "Ameren Illinois\n",
      "Ignacio Fanlo\n",
      "Dylan Langlois\n",
      "Sanjoy Kar\n",
      "Randy Punnett\n",
      "John H. Lienhard\n",
      "Mitchel S. Guttenberg\n",
      "Alibaba.com\n",
      "Jane Revesz\n",
      "Omar Abdel Rahman\n",
      "Karen Mejia\n",
      "Leigh Powers\n",
      "Stephen Temperley\n",
      "Jermaine Pellettier\n",
      "Jesse Rutledge Sr.\n",
      "Napoleon Gomez Urrutia\n",
      "Marie Sanzone\n",
      "Michael Buday\n",
      "Swift Boat Veterans for Truth\n",
      "Christie Whitman\n",
      "Tom Pavey\n",
      "Nicole Paultre\n",
      "Paul Kirschmann\n",
      "Savvy Gourmet\n",
      "David Saint\n",
      "Segolene Royale\n",
      "Ben Odierno\n",
      "Maxim Kondratiev\n",
      "Joe Tantalo\n",
      "Ronneil Gilliam\n",
      "Paul Zweig\n",
      "Linden Labs\n",
      "Steven Sherman\n",
      "Sam Pratt\n",
      "Neck River\n",
      "Andrew C. Friedman\n",
      "Benjamin L. Sebban\n",
      "Sunny Sharma\n",
      "Peter Picard\n",
      "Frederick J. Mancheski\n",
      "Thomas Odle\n",
      "Diana Bijon\n",
      "Lyanda Lynn Haupt\n",
      "Don I. Bragg\n",
      "Randy Florke\n",
      "Ellery Hatfield\n",
      "Ruth Litoff\n",
      "Douglas J. Besharov\n",
      "Earl Dwayne McCutcheon\n",
      "Aleksandr V. Kazulin\n",
      "Jonathan Steinke\n",
      "Michael Winerip\n",
      "Lynette Clemetson\n",
      "Abhijit Chakrabortti\n",
      "Nataliya Koliada\n",
      "James Degorski\n",
      "David Pacheco Jr.\n",
      "Juan A. Luna Jr.\n",
      "Gary Boren\n",
      "Sayyed Darweesh\n",
      "Jessamy Thomison\n",
      "Aleksandr Milinkevich\n",
      "Philip Pitzer\n",
      "Otis Cain\n",
      "Kasandra Larsen\n",
      "David Charlow\n",
      "Noel L. Hillman\n",
      "Marie Simon-Pierre\n",
      "Ellen Freilich\n",
      "Martin Nissenbaum\n",
      "Jason L. Rapp\n",
      "Joseph Locurto\n",
      "David Bouley Evolution\n",
      "Janon Fisher\n",
      "Angelo Cosentini\n",
      "Raymond L. Girouard\n",
      "Lin Yilun\n",
      "Dwayne Palmer\n",
      "Dan Pritzker\n",
      "Hugh Auslander\n",
      "Theresa Gambacorta\n",
      "George A. Lorch\n",
      "Eric Hensley\n",
      "Jeff Berman\n",
      "\n",
      "Done (elapsed time: 0s).\n",
      "\n"
     ]
    },
    {
     "data": {
      "image/png": "[encoded data removed]",
      "text/plain": [
       "<Figure size 864x288 with 1 Axes>"
      ]
     },
     "metadata": {
      "needs_background": "light"
     },
     "output_type": "display_data"
    },
    {
     "data": {
      "image/png": "[encoded data removed]",
      "text/plain": [
       "<Figure size 864x288 with 1 Axes>"
      ]
     },
     "metadata": {
      "needs_background": "light"
     },
     "output_type": "display_data"
    }
   ],
   "source": [
    "database.process_stats(type_='wikipedia')"
   ]
  },
  {
   "cell_type": "markdown",
   "metadata": {},
   "source": [
    "### Processing the queries"
   ]
  },
  {
   "cell_type": "code",
   "execution_count": 11,
   "metadata": {
    "pycharm": {
     "is_executing": true
    }
   },
   "outputs": [
    {
     "name": "stdout",
     "output_type": "stream",
     "text": [
      "Processing the aggregation queries...\n",
      "Attribute queries loaded from results/2006-07/queries/queries_size10k_shuffle_articles1_queries1.pkl.\n",
      "Done (elapsed time: 0s).\n",
      "\n"
     ]
    }
   ],
   "source": [
    "#database.process_queries(load=False)\n",
    "database.process_queries(load=True)"
   ]
  },
  {
   "cell_type": "markdown",
   "metadata": {},
   "source": [
    "## Gather the wikipedia files together"
   ]
  },
  {
   "cell_type": "code",
   "execution_count": null,
   "metadata": {
    "pycharm": {
     "is_executing": true
    }
   },
   "outputs": [],
   "source": [
    "database.combine_pkl(in_names=['wikipedia_global',\n",
    "                               'wikipedia_size10k_shuffle_articles1_queries1'])"
   ]
  },
  {
   "cell_type": "code",
   "execution_count": 5,
   "metadata": {
    "pycharm": {
     "is_executing": true
    }
   },
   "outputs": [
    {
     "name": "stdout",
     "output_type": "stream",
     "text": [
      "Processing the aggregation queries...\n",
      "Attribute queries loaded from results/2006-07/queries/queries_size10k_shuffle_articles1_queries1.pkl.\n",
      "Done (elapsed time: 0s).\n",
      "\n"
     ]
    }
   ],
   "source": [
    "database.process_queries(load=True)"
   ]
  },
  {
   "cell_type": "code",
   "execution_count": 8,
   "metadata": {},
   "outputs": [
    {
     "data": {
      "text/plain": [
       "'[...] The endorsement is important because Mr. <div class=\"popup\" onclick=\"pop(0)\"><color1>de Villepin</color1><span class=\"popuptext\" id=\"0\">Dominique Galouzeau de Villepin</span></div>, who once had been considered a potential presidential contender, put party unity ahead of the personal and political differences <div class=\"popup\" onclick=\"pop(1)\"><color1>he</color1><span class=\"popuptext\" id=\"1\">Dominique Galouzeau de Villepin</span></div> has had over the years with Mr. <div class=\"popup\" onclick=\"pop(2)\"><color0>Sarkozy</color0><span class=\"popuptext\" id=\"2\">Alain Juppe</span></div>, who is the interior minister and the head of the governing party, the Union for a Popular Movement. [...]'"
      ]
     },
     "execution_count": 8,
     "metadata": {},
     "output_type": "execute_result"
    }
   ],
   "source": [
    "database.queries['16542_1832641_4_4'].context"
   ]
  },
  {
   "cell_type": "code",
   "execution_count": null,
   "metadata": {},
   "outputs": [],
   "source": []
  }
 ],
 "metadata": {
  "kernelspec": {
   "display_name": "Python 3",
   "language": "python",
   "name": "python3"
  },
  "language_info": {
   "codemirror_mode": {
    "name": "ipython",
    "version": 3
   },
   "file_extension": ".py",
   "mimetype": "text/x-python",
   "name": "python",
   "nbconvert_exporter": "python",
   "pygments_lexer": "ipython3",
   "version": "3.6.9"
  },
  "pycharm": {
   "stem_cell": {
    "cell_type": "raw",
    "metadata": {
     "collapsed": false
    },
    "source": []
   }
  },
  "toc": {
   "base_numbering": 1,
   "nav_menu": {},
   "number_sections": true,
   "sideBar": true,
   "skip_h1_title": false,
   "title_cell": "Table of Contents",
   "title_sidebar": "Contents",
   "toc_cell": false,
   "toc_position": {},
   "toc_section_display": true,
   "toc_window_display": false
  }
 },
 "nbformat": 4,
 "nbformat_minor": 2
}
