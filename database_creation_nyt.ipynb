{
 "cells": [
  {
   "cell_type": "markdown",
   "metadata": {},
   "source": [
    "# Setup"
   ]
  },
  {
   "cell_type": "code",
   "execution_count": 1,
   "metadata": {
    "ExecuteTime": {
     "end_time": "2019-04-13T03:57:03.299844Z",
     "start_time": "2019-04-13T03:57:03.266445Z"
    },
    "pycharm": {
     "is_executing": false
    }
   },
   "outputs": [],
   "source": [
    "%reload_ext autoreload\n",
    "%autoreload 2"
   ]
  },
  {
   "cell_type": "code",
   "execution_count": 2,
   "metadata": {
    "ExecuteTime": {
     "end_time": "2019-04-13T03:57:03.449865Z",
     "start_time": "2019-04-13T03:57:03.408497Z"
    },
    "pycharm": {
     "is_executing": false
    }
   },
   "outputs": [],
   "source": [
    "from database_creation.database import Database"
   ]
  },
  {
   "cell_type": "markdown",
   "metadata": {},
   "source": [
    "# Annotation task pipeline"
   ]
  },
  {
   "cell_type": "markdown",
   "metadata": {},
   "source": [
    "## Creation of the queries (create_queries)"
   ]
  },
  {
   "cell_type": "markdown",
   "metadata": {},
   "source": [
    "### Parameters"
   ]
  },
  {
   "cell_type": "code",
   "execution_count": 3,
   "metadata": {
    "pycharm": {
     "is_executing": false
    }
   },
   "outputs": [],
   "source": [
    "max_size = 10000\n",
    "shuffle = True\n",
    "min_articles = 1\n",
    "min_queries = 1\n",
    "random_seed = 0\n",
    "\n",
    "database = Database(max_size=max_size, shuffle=shuffle,\n",
    "                    min_articles=min_articles, min_queries=min_queries,\n",
    "                    random_seed=random_seed)"
   ]
  },
  {
   "cell_type": "markdown",
   "metadata": {},
   "source": [
    "### Preprocessing the database"
   ]
  },
  {
   "cell_type": "code",
   "execution_count": 4,
   "metadata": {
    "pycharm": {
     "is_executing": false
    },
    "scrolled": false
   },
   "outputs": [
    {
     "name": "stdout",
     "output_type": "stream",
     "text": [
      "Preprocessing the database...\n",
      "Computing the database' article...\n",
      "Initial length of articles: 0\n",
      "Debugging Written in results/2006-07/debug/articles.txt...\n",
      "Final length of articles: 10000\n",
      "Done (elapsed time: 0s).\n",
      "\n",
      "Cleaning the database's articles...\n",
      "Initial length of articles: 10000\n",
      "Criterion: Check if an article's content file exists.\n",
      "Final length of articles: 4031\n",
      "Done (elapsed time: 18s).\n",
      "\n",
      "Computing the articles' metadata...\n",
      "   article 500/4031...\n",
      "   article 1000/4031...\n",
      "   article 1500/4031...\n",
      "   article 2000/4031...\n",
      "   article 2500/4031...\n",
      "   article 3000/4031...\n",
      "   article 3500/4031...\n",
      "   article 4000/4031...\n",
      "Debugging Written in results/2006-07/debug/metadata.txt...\n",
      "Done (elapsed time: 11s).\n",
      "\n",
      "Computing the database' entities...\n",
      "Initial length of entities: 0\n",
      "   article 500/4031...\n",
      "   article 1000/4031...\n",
      "   article 1500/4031...\n",
      "   article 2000/4031...\n",
      "   article 2500/4031...\n",
      "   article 3000/4031...\n",
      "   article 3500/4031...\n",
      "   article 4000/4031...\n",
      "Debugging Written in results/2006-07/debug/article_entities.txt...\n",
      "Debugging Written in results/2006-07/debug/entities.txt...\n",
      "Final length of entities: 7608\n",
      "Done (elapsed time: 3s).\n",
      "\n",
      "Computing the entity tuples...\n",
      "Initial length of tuples: 0\n",
      "   article 500/4031...\n",
      "   article 1000/4031...\n",
      "   article 1500/4031...\n",
      "   article 2000/4031...\n",
      "   article 2500/4031...\n",
      "   article 3000/4031...\n",
      "   article 3500/4031...\n",
      "   article 4000/4031...\n",
      "Debugging Written in results/2006-07/debug/tuples.txt...\n",
      "Final length of tuples: 50521\n",
      "Done (elapsed time: 44s).\n",
      "\n",
      "Filtering the articles, tuples and entities...\n",
      "Minimum number of articles: 1\n",
      "Cleaning the database's tuples...\n",
      "Initial length of tuples: 50521\n",
      "Criterion: keep only the designated tuples.\n",
      "Final length of tuples: 50521\n",
      "Done (elapsed time: 0s).\n",
      "\n",
      "Cleaning the database's articles...\n",
      "Initial length of articles: 4031\n",
      "Criterion: keep only the designated articles.\n",
      "Final length of articles: 2955\n",
      "Done (elapsed time: 0s).\n",
      "\n",
      "Cleaning the database's entities...\n",
      "Initial length of entities: 7608\n",
      "Criterion: keep only the designated entities.\n",
      "Final length of entities: 6359\n",
      "Done (elapsed time: 0s).\n",
      "\n",
      "Done (elapsed time: 0s).\n",
      "\n",
      "Done (elapsed time: 77s).\n",
      "\n"
     ]
    }
   ],
   "source": [
    "database.preprocess_database(debug=True)"
   ]
  },
  {
   "cell_type": "markdown",
   "metadata": {},
   "source": [
    "### Preprocessing the articles"
   ]
  },
  {
   "cell_type": "code",
   "execution_count": 5,
   "metadata": {
    "pycharm": {
     "is_executing": true
    },
    "scrolled": false
   },
   "outputs": [
    {
     "name": "stdout",
     "output_type": "stream",
     "text": [
      "Preprocessing the articles...\n",
      "Computing the articles' annotations...\n",
      "   article 500/2955...\n",
      "   article 1000/2955...\n",
      "   article 1500/2955...\n",
      "   article 2000/2955...\n",
      "   article 2500/2955...\n",
      "Debugging Written in results/2006-07/debug/annotations.txt...\n",
      "Done (elapsed time: 277s).\n",
      "\n",
      "Computing the contexts...\n",
      "   tuple 1000/50521...\n",
      "   tuple 2000/50521...\n",
      "   tuple 3000/50521...\n",
      "   tuple 4000/50521...\n",
      "   tuple 5000/50521...\n",
      "   tuple 6000/50521...\n",
      "   tuple 7000/50521...\n",
      "   tuple 8000/50521...\n",
      "   tuple 9000/50521...\n",
      "   tuple 10000/50521...\n",
      "   tuple 11000/50521...\n",
      "   tuple 12000/50521...\n",
      "   tuple 13000/50521...\n",
      "   tuple 14000/50521...\n",
      "   tuple 15000/50521...\n",
      "   tuple 16000/50521...\n",
      "   tuple 17000/50521...\n",
      "   tuple 18000/50521...\n",
      "   tuple 19000/50521...\n",
      "   tuple 20000/50521...\n",
      "   tuple 21000/50521...\n",
      "   tuple 22000/50521...\n",
      "   tuple 23000/50521...\n",
      "   tuple 24000/50521...\n",
      "   tuple 25000/50521...\n",
      "   tuple 26000/50521...\n",
      "   tuple 27000/50521...\n",
      "   tuple 28000/50521...\n",
      "   tuple 29000/50521...\n",
      "   tuple 30000/50521...\n",
      "   tuple 31000/50521...\n",
      "   tuple 32000/50521...\n",
      "   tuple 33000/50521...\n",
      "   tuple 34000/50521...\n",
      "   tuple 35000/50521...\n",
      "   tuple 36000/50521...\n",
      "   tuple 37000/50521...\n",
      "   tuple 38000/50521...\n",
      "   tuple 39000/50521...\n",
      "   tuple 40000/50521...\n",
      "   tuple 41000/50521...\n",
      "   tuple 42000/50521...\n",
      "   tuple 43000/50521...\n",
      "   tuple 44000/50521...\n",
      "   tuple 45000/50521...\n",
      "   tuple 46000/50521...\n",
      "   tuple 47000/50521...\n",
      "   tuple 48000/50521...\n",
      "   tuple 49000/50521...\n",
      "   tuple 50000/50521...\n",
      "Debugging Written in results/2006-07/debug/contexts.txt...\n",
      "Done (elapsed time: 21s).\n",
      "\n",
      "Filtering the articles, tuples and entities...\n",
      "Minimum number of queries: 1\n",
      "Cleaning the database's tuples...\n",
      "Initial length of tuples: 50521\n",
      "Criterion: keep only the designated tuples.\n",
      "Final length of tuples: 2037\n",
      "Done (elapsed time: 0s).\n",
      "\n",
      "Cleaning the database's articles...\n",
      "Initial length of articles: 2955\n",
      "Criterion: keep only the designated articles.\n",
      "Final length of articles: 1211\n",
      "Done (elapsed time: 0s).\n",
      "\n",
      "Cleaning the database's entities...\n",
      "Initial length of entities: 6359\n",
      "Criterion: keep only the designated entities.\n",
      "Final length of entities: 1652\n",
      "Done (elapsed time: 0s).\n",
      "\n",
      "Done (elapsed time: 1s).\n",
      "\n",
      "Done (elapsed time: 299s).\n",
      "\n"
     ]
    }
   ],
   "source": [
    "database.process_articles(debug=True)"
   ]
  },
  {
   "cell_type": "markdown",
   "metadata": {},
   "source": [
    "### Processing the wikipedia information"
   ]
  },
  {
   "cell_type": "code",
   "execution_count": 6,
   "metadata": {
    "pycharm": {
     "is_executing": true
    },
    "scrolled": false
   },
   "outputs": [
    {
     "name": "stdout",
     "output_type": "stream",
     "text": [
      "Processing the wikipedia information...\n",
      "Computing the Wikipedia information...\n",
      "Initial found entries: 0/not found: 0\n",
      "yay\n",
      "A known error occurred, saving the loaded information ()...\n",
      "Final found entries: 14/not found: 4\n",
      "Debugging Written in results/2006-07/debug/wikipedia.txt...\n",
      "Done (elapsed time: 50s).\n",
      "\n",
      "Attribute wikipedia saved at results/2006-07/wikipedia/wikipedia_size10k_shuffle_articles1_queries1_seed0.pkl.\n",
      "Done (elapsed time: 50s).\n",
      "\n"
     ]
    }
   ],
   "source": [
    "database.process_wikipedia(load=False, debug=True)"
   ]
  },
  {
   "cell_type": "markdown",
   "metadata": {},
   "source": [
    "### Processing the queries"
   ]
  },
  {
   "cell_type": "code",
   "execution_count": 7,
   "metadata": {
    "pycharm": {
     "is_executing": true
    },
    "scrolled": true
   },
   "outputs": [
    {
     "name": "stdout",
     "output_type": "stream",
     "text": [
      "Processing the aggregation queries...\n",
      "Attribute queries loaded from results/2006-07/queries/queries_size10k_shuffle_articles1_queries1_seed0.pkl.\n",
      "Computing the Queries...\n",
      "Initial length of queries: 7007\n",
      "   tuple 1000/2037...\n",
      "   tuple 2000/2037...\n",
      "Debugging Written in results/2006-07/debug/queries.txt...\n",
      "Final length of queries: 7007\n",
      "Done (elapsed time: 1s).\n",
      "\n",
      "Attribute queries saved at results/2006-07/queries/queries_size10k_shuffle_articles1_queries1_seed0.pkl.\n",
      "Attribute queries saved at results/2006-07/queries/queries_short_size10k_shuffle_articles1_queries1_seed0.csv\n",
      "\n",
      "The queries have changed!\n",
      "Done (elapsed time: 1s).\n",
      "\n"
     ]
    }
   ],
   "source": [
    "database.process_queries(load=False, check_changes=True, debug=True)"
   ]
  },
  {
   "cell_type": "markdown",
   "metadata": {},
   "source": [
    "## Gather the wikipedia files together"
   ]
  },
  {
   "cell_type": "code",
   "execution_count": 8,
   "metadata": {
    "pycharm": {
     "is_executing": true
    }
   },
   "outputs": [
    {
     "name": "stdout",
     "output_type": "stream",
     "text": [
      "Current wikipedia information: 2951 found/815 not_found...\n",
      "Global file updated: 2951 found/815 not_found.\n",
      "\n",
      "Object loaded from results/2006-07/wikipedia/wikipedia_global.pkl\n",
      "File wikipedia_global: 2951 found/815 not_found...\n",
      "Global file updated: 2951 found/815 not_found.\n",
      "\n",
      "Object saved at results/2006-07/wikipedia/wikipedia_global.pkl.\n"
     ]
    }
   ],
   "source": [
    "database.combine_pkl()"
   ]
  },
  {
   "cell_type": "code",
   "execution_count": null,
   "metadata": {},
   "outputs": [],
   "source": []
  }
 ],
 "metadata": {
  "kernelspec": {
   "display_name": "Python 3",
   "language": "python",
   "name": "python3"
  },
  "language_info": {
   "codemirror_mode": {
    "name": "ipython",
    "version": 3
   },
   "file_extension": ".py",
   "mimetype": "text/x-python",
   "name": "python",
   "nbconvert_exporter": "python",
   "pygments_lexer": "ipython3",
   "version": "3.6.9"
  },
  "pycharm": {
   "stem_cell": {
    "cell_type": "raw",
    "metadata": {
     "collapsed": false
    },
    "source": []
   }
  },
  "toc": {
   "base_numbering": 1,
   "nav_menu": {},
   "number_sections": true,
   "sideBar": true,
   "skip_h1_title": false,
   "title_cell": "Table of Contents",
   "title_sidebar": "Contents",
   "toc_cell": false,
   "toc_position": {},
   "toc_section_display": true,
   "toc_window_display": false
  }
 },
 "nbformat": 4,
 "nbformat_minor": 2
}
