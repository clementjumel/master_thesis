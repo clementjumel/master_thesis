{
 "cells": [
  {
   "cell_type": "markdown",
   "metadata": {},
   "source": [
    "## Setup"
   ]
  },
  {
   "cell_type": "code",
   "execution_count": 1,
   "metadata": {
    "ExecuteTime": {
     "end_time": "2019-04-13T03:57:03.299844Z",
     "start_time": "2019-04-13T03:57:03.266445Z"
    },
    "pycharm": {
     "is_executing": false
    }
   },
   "outputs": [],
   "source": [
    "import sys\n",
    "sys.path.append('../')\n",
    "del sys\n",
    "%reload_ext autoreload\n",
    "%autoreload 2"
   ]
  },
  {
   "cell_type": "code",
   "execution_count": 2,
   "metadata": {
    "ExecuteTime": {
     "end_time": "2019-04-13T03:57:03.449865Z",
     "start_time": "2019-04-13T03:57:03.408497Z"
    },
    "pycharm": {
     "is_executing": false
    }
   },
   "outputs": [],
   "source": [
    "from modeling.pipeline import Pipeline\n",
    "from modeling.nn import MLP\n",
    "from modeling.utils import rank, precision_at_k, recall_at_k, ap_at_k, ndcg\n",
    "\n",
    "import torch\n",
    "from numpy import mean, arange\n",
    "import matplotlib.pyplot as plt"
   ]
  },
  {
   "cell_type": "markdown",
   "metadata": {},
   "source": [
    "## Display functions"
   ]
  },
  {
   "cell_type": "code",
   "execution_count": 3,
   "metadata": {},
   "outputs": [],
   "source": [
    "def show_pipeline(pipeline):\n",
    "    for inputs, targets in pipeline.train_loader[:10]:\n",
    "        print(\"\\nInputs:\")\n",
    "        for key, item in inputs.items():\n",
    "            print(key, ':', item)\n",
    "\n",
    "        print(\"\\nTargets:\")\n",
    "        print(targets)\n",
    "\n",
    "        if sum(targets) > 0:\n",
    "            print(\"Good answers:\")\n",
    "            for i in range(len(targets)):\n",
    "                if targets[i]:\n",
    "                    print(inputs['choices'][i])\n",
    "                    \n",
    "def show_model(pipeline, model):\n",
    "    for inputs, targets in pipeline.train_loader[:100]:\n",
    "        features = model.features(inputs)\n",
    "        outputs = model.pred(features)\n",
    "        ranks = rank(outputs)\n",
    "        score = model.score(ranks, targets, model.k)\n",
    "\n",
    "        if sum(targets) > 0:\n",
    "            mask = targets > 0\n",
    "            grades = outputs[:, 1][mask]\n",
    "            ranks = ranks[mask]\n",
    "            print(\"score: %.3f\" % score)\n",
    "            print(\"ranks of the true labels:\", ranks, \", grades of the true labels:\", grades)\n",
    "            print()\n",
    "            \n",
    "def plot_metrics(train_losses, train_scores, valid_losses, valid_scores):\n",
    "    epoch_number, epoch_length = len(train_losses), len(train_losses[0])\n",
    "\n",
    "    x1 = arange(0, epoch_number, 1./epoch_length)\n",
    "    x2 = arange(1, epoch_number + 1)\n",
    "\n",
    "    flatten_train_losses = [loss for epoch_losses in train_losses for loss in epoch_losses]\n",
    "    flatten_train_scores = [score for epoch_scores in train_scores for score in epoch_scores]\n",
    "    flatten_valid_losses = [mean(losses) for losses in valid_losses]\n",
    "    flatten_valid_scores = [mean(scores) for scores in valid_scores]\n",
    "\n",
    "    fig, ax1 = plt.subplots(figsize=(15, 5))\n",
    "    ax1.set_xlabel('epochs')\n",
    "\n",
    "    color = 'tab:red'\n",
    "    ax1.set_yscale('log')\n",
    "    ax1.plot(x1, flatten_train_losses, color=color, label='train loss')\n",
    "    ax1.set_ylabel('loss', color=color)\n",
    "    ax1.tick_params(axis='y', labelcolor=color)\n",
    "    color = 'tab:orange'\n",
    "    ax1.scatter(x2, flatten_valid_losses, color=color, label='valid loss')\n",
    "\n",
    "    color = 'tab:blue'\n",
    "    ax2 = ax1.twinx()\n",
    "    ax2.plot(x1, flatten_train_scores, color=color, label='score')\n",
    "    ax2.set_ylabel('score', color=color)\n",
    "    ax2.tick_params(axis='y', labelcolor=color)\n",
    "    color = 'tab:cyan'\n",
    "    ax1.scatter(x2, flatten_valid_scores, color=color, label='valid scores')\n",
    "\n",
    "    fig.legend()"
   ]
  },
  {
   "cell_type": "markdown",
   "metadata": {},
   "source": [
    "## Data pipeline parameters"
   ]
  },
  {
   "cell_type": "code",
   "execution_count": 4,
   "metadata": {},
   "outputs": [],
   "source": [
    "batch_size = 64\n",
    "drop_last = False\n",
    "test_proportion = 0.25\n",
    "valid_proportion = 0.25\n",
    "use_k_fold = False\n",
    "k_k_fold = None"
   ]
  },
  {
   "cell_type": "markdown",
   "metadata": {},
   "source": [
    "## Score"
   ]
  },
  {
   "cell_type": "code",
   "execution_count": 5,
   "metadata": {},
   "outputs": [],
   "source": [
    "score = recall_at_k\n",
    "k_score = 32\n",
    "n_updates = 430"
   ]
  },
  {
   "cell_type": "markdown",
   "metadata": {},
   "source": [
    "## Load the data"
   ]
  },
  {
   "cell_type": "code",
   "execution_count": 6,
   "metadata": {
    "scrolled": true
   },
   "outputs": [
    {
     "name": "stdout",
     "output_type": "stream",
     "text": [
      "Processing the modeling task...\n",
      "Computing the annotated queries...\n",
      "Initial length of queries: 0\n",
      "Object loaded from ../results/../results/task_annotation/v2_0/task/queries_size10k_shuffle_articles1_queries1_seed0.pkl\n",
      "Object loaded from ../results/../results/task_annotation/v2_1/task/queries_sizemax_shuffle_articles1_queries1_seed0.pkl\n",
      "Object loaded from ../results/../results/task_annotation/v2_2/task/queries_sizemax_shuffle_articles1_queries1_seed0.pkl\n",
      "Final length of queries: 61056\n",
      "Done (elapsed time: 1s).\n",
      "\n",
      "Computing the annotations...\n",
      "Initial length of annotations: 0\n",
      "Object loaded from ../results/task_annotation/v2_0/results/batch_00_complete.csv\n",
      "   Correcting \"n this article, Nevada and Ohio are discussed. The two American states...\" to \" The two American states...\"\n",
      "   Correcting \"In this article, California and Oregon are discussed. The two neighboring states...\" to \" The two neighboring states...\"\n",
      "   Correcting \"In this article, California and Oregon are discussed. The two West Coast states...\" to \" The two West Coast states...\"\n",
      "Object loaded from ../results/task_annotation/v2_0/results/batch_01_complete.csv\n",
      "   Discarding \"The\"\n",
      "   Correcting \"THE CHESS CHAMPIONS\" to \"The chess champions\"\n",
      "   Correcting \"THE WHITE AND BLACK\" to \"The white and black\"\n",
      "   Discarding \"Both are politlca entities\"\n",
      "Object loaded from ../results/task_annotation/v2_1/results/batch_02_complete.csv\n",
      "   Discarding \"Both groups have a military wing\"\n",
      "   Discarding \"The financial/media concern\"\n",
      "   Discarding \"Both countries are in Western Asia\"\n",
      "   Correcting \"FOOTBALL TEAM\" to \"Football team\"\n",
      "Object loaded from ../results/task_annotation/v2_1/results/batch_03_complete.csv\n",
      "   Discarding \"The convicted Hynix managers/directors\"\n",
      "   Discarding \"The areas that include or are included by Eurasia\"\n",
      "Object loaded from ../results/task_annotation/v2_2/results/batch_04_complete.csv\n",
      "   Discarding \"Are in European territory\"\n",
      "   Discarding \"The states that have seen declining enrollment in Medicaid\"\n",
      "Object loaded from ../results/task_annotation/v2_2/results/batch_05_complete.csv\n",
      "   Discarding \"The director/choreographers\"\n",
      "   Discarding \"The writer/directors\"\n",
      "Final length of annotations: 2100\n",
      "Done (elapsed time: 1s).\n",
      "\n",
      "Filtering the annotations...\n",
      "Criterion: at least 5 assignments per worker.\n",
      "Annotations filtered: 6262 left (37 deleted).\n",
      "Done (elapsed time: 0s).\n",
      "\n",
      "Computing the modeling task...\n",
      "Done (elapsed time: 0s).\n",
      "\n",
      "Done (elapsed time: 3s).\n",
      "\n",
      "Raw data imported (1718 samples).\n",
      "Split into train (858, 50%), valid (430, 25%) and test (430, 25%) sets.\n"
     ]
    }
   ],
   "source": [
    "pipeline = Pipeline(use_k_fold=use_k_fold)\n",
    "pipeline.process_data(batch_size=batch_size,\n",
    "                      drop_last=drop_last,\n",
    "                      test_proportion=test_proportion,\n",
    "                      valid_proportion=valid_proportion,\n",
    "                      k=k_k_fold)"
   ]
  },
  {
   "cell_type": "markdown",
   "metadata": {},
   "source": [
    "## Oberseve the data"
   ]
  },
  {
   "cell_type": "code",
   "execution_count": 7,
   "metadata": {},
   "outputs": [
    {
     "name": "stdout",
     "output_type": "stream",
     "text": [
      "\n",
      "Inputs:\n",
      "entities_type_ : person\n",
      "entities : ['Michael R. Bloomberg', 'Stanley K. Schlein']\n",
      "summaries : ['Michael Rubens Bloomberg KBE is an American businessman, politician, author, and philanthropist. As of October 2019, his net worth was estimated at $51.1 billion, making him the 12th richest person in the United States and the 17th richest person in the world. He has joined The Giving Pledge, whereby billionaires pledge to give away at least half of their wealth.', 'No information found.']\n",
      "context : Bloomberg to Replace Head Of Civil Service Commission: In just the last two years, he helped the Yankees achieve their goal of starting a new stadium in the Bronx, was an election-law adviser to Fernando Ferrer during his unsuccessful challenge to Mr. Bloomberg last year, and represented Bronx politicians in talks over the city 's plans to build a water-filtration plant under Van Cortlandt Park. He was named chairman of the commission by Mayor Bloomberg .\n",
      "choices : ['former professional baseball players', 'avant-garde celebrities', 'celebrities', 'members of the family', 'new york democratic party politicians', 'american influencers', 'those associated with the new york yankees', 'professional racecar drivers', 'artist', 'russian elite', 'collectors', 'new yorkers', 'north carolina political figures', 'animal lovers', 'designers', 'former american generals', 'fishing in america musicians', 'creators', 'therapists', 'former american football players', 'educationally inclined', 'auxiliary bishops', 'alleged attempted bombers', 'american business men', 'academics', 'officials', 'lawyers', 'food writers', 'participants in a crimal case', 'business owner', 'men involved in making the musical', 'people from russia', 'former nfl players', 'dog enthusiasts', 'sports workers', 'purdue leaders', 'political party leaders', 'kazakhstan officials', 'military figures', 'members of staff', 'men interested in politics', 'us government employees', 'some of the officers questioning the events', 'prominent figures', 'american football coachs', 'family', 'former vice president', 'white collar criminal', 'men involved in professional sports', 'homosexuals', 'people involved in the project', 'people in power', 'conflicting parties', 'american public officials', 'political commentators', 'nascar workers', 'israelis', 'russian politicians', 'activists', 'former coworkers', 'murder suspects', 'professionals of the entertainment industry', 'police officers', 'political opponents']\n",
      "\n",
      "Targets:\n",
      "tensor([0, 0, 0, 0, 0, 0, 0, 0, 0, 0, 0, 0, 0, 0, 0, 0, 0, 0, 0, 0, 0, 0, 0, 0,\n",
      "        0, 0, 0, 0, 0, 0, 0, 0, 0, 0, 0, 0, 0, 0, 0, 0, 0, 0, 0, 0, 0, 0, 0, 0,\n",
      "        0, 0, 0, 0, 0, 0, 0, 0, 0, 0, 0, 0, 0, 0, 0, 0])\n",
      "\n",
      "Inputs:\n",
      "entities_type_ : person\n",
      "entities : ['Jay Alan Sekulow', 'Mark DeMoss']\n",
      "summaries : ['Jay Alan Sekulow  is chief counsel at the American Center for Law & Justice . He hosts a radio and television talk show. Sekulow is a frequent guest commentator on the Christian Broadcasting Network and the Fox News Channel.', 'No information found.']\n",
      "context : Mormon Candidate Braces for Religion as Issue: There 's this growing acceptance of this idea that Mitt Romney may well be and is our best candidate,'' said Jay Sekulow , the chief counsel for the American Center for Law and Justice, a conservative legal advocacy group, and a prominent host on Christian radio. Mark DeMoss , an evangelical public relations consultant who represents many conservative Christian groups, said it was'' more important to me that a candidate shares my values than my faith,'' adding,'' And if I look at it this way, Mr. Romney would be my top choice.''\n",
      "choices : ['award winners', 'muscians', 'former american public servants', 'hbo executives', 'renovators', 'gun shot victims', 'rivals', 'comatose', 'american political figures', 'business owner', 'lovers', 'former competitors', 'former democratic office holders', 'clothing makers', 'film industry personalities', 'challengers for the congress seat', 'former olympians', 'bloomberg philanthropy associates', \"individuals who's last name is stephen\", 'speakers', 'businesspeople', 'broadcasters', 'food writers', 'suspects', 'enron fraudsters', 'chess grandmasters', 'economically inclined', 'employees', 'producers', 'guilty parties', 'avid golfers', 'american football executives', 'international diplomats', 'technologists', 'involved in the film industry', 'participants in anna nicole smith case', 'subjects', 'secret lovers', 'michigan residents', 'political rivals from connecticut', 'animal lovers', 'ballet aficionados', 'police members', 'people involved in show business', 'american theatrical producer', 'american football workers', 'american government officials', 'trial participants', 'former south american leaders', 'former american baseball players', 'participants', 'nfl players', 'people with an interest in the right to die case', 'american democratic party members', 'business leaders', 'philantropists', 'leaders at the historic site', 'golf icons', 'american citizens', 'economists', 'individuals who spoke french', 'british politicians', 'men of hispanic heritage', 'tennis players']\n",
      "\n",
      "Targets:\n",
      "tensor([0, 0, 0, 0, 0, 0, 0, 0, 0, 0, 0, 0, 0, 0, 0, 0, 0, 0, 0, 0, 0, 0, 0, 0,\n",
      "        0, 0, 0, 0, 0, 0, 0, 0, 0, 0, 0, 0, 0, 0, 0, 0, 0, 0, 0, 0, 0, 0, 0, 0,\n",
      "        0, 0, 0, 0, 0, 0, 0, 0, 0, 0, 0, 0, 0, 0, 0, 0])\n",
      "\n",
      "Inputs:\n",
      "entities_type_ : location\n",
      "entities : ['Iran', 'Iraq']\n",
      "summaries : [\"Iran, also called Persia, and officially the Islamic Republic of Iran, is a country in Western Asia. With 82 million inhabitants, Iran is the world's 18th most populous country. Its territory spans 1,648,195 km2 , making it the second largest country in the Middle East and the 17th largest in the world. Iran is bordered to the northwest by Armenia and the Republic of Azerbaijan, to the north by the Caspian Sea, to the northeast by Turkmenistan, to the east by Afghanistan and Pakistan, to the south by the Persian Gulf and the Gulf of Oman, and to the west by Turkey and Iraq.\", \"Iraq or ; Arabic: العراق\\u200e al-'Irāq; Kurdish: عێراق\\u200e Êraq), officially the Republic of Iraq , is a country in Western Asia, bordered by Turkey to the north, Iran to the east, Kuwait to the southeast, Saudi Arabia to the south, Jordan to the southwest and Syria to the west. The capital, and largest city, is Baghdad. Iraq is home to diverse ethnic groups including Arabs, Kurds, Chaldeans, Assyrians, Turkmen, Shabakis, Yazidis, Armenians, Mandeans, Circassians and Kawliya.\"]\n",
      "context : Behind U.S. Pressure on Iran, Long-Held Worry Over a Deadly Device in Iraq: Allied forces later destroyed the aircraft with a 1,000-pound bomb to keep militants from pilfering equipment. Over the course of the war, the devices have accounted for only a small fraction of the roadside bomb attacks in Iraq ; most bombing attacks and most American deaths have been caused by less sophisticated devices favored by Sunni insurgents, not Shiite militias linked to Iran .\n",
      "choices : ['major world powers', 'communities', 'south american countries', 'governing entities', 'chinese locations', 'middle east regions', 'north american locations', 'new york areas', 'top international u.s. travel destinations', 'u.s. locations', 'united states regions', 'new york region', 'islamic republics', 'areas involved in the dispute', 'middle eastern locations', 'places in new england', 'western asian countries', 'stations', 'southern states', 'political powers', 'north african locales', 'areas in iraq', 'political allies', 'entities', 'eastern areas', 'north african countries', 'russian regions', 'northern californian areas', 'rival countries', 'palestine region', 'states', 'brazilian areas', 'western asia countires', 'trade regions', 'southern european regions', 'sovereign states of the usa', 'asian entities', 'coastal countries', 'european locations', 'asian cities', 'western asia areas', 'neighboring contries', 'iraqi regions', 'new york jurisdicitons', 'china region', 'surrounding countries', 'places in central asia', 'countries in asia', 'gulf states', 'opposing political powers', 'country and its capital city', 'african nations', 'atlantic states', 'new york counties', 'northeastern states', 'areas of conflict', 'united nations members', 'islamic countries', 'eastern american cities', 'locations in ulster county', 'regions', 'state capitals', 'non american areas', 'sunny locations']\n",
      "\n",
      "Targets:\n",
      "tensor([0, 0, 0, 0, 0, 0, 0, 0, 0, 0, 0, 0, 0, 0, 0, 0, 1, 0, 0, 0, 0, 0, 0, 0,\n",
      "        0, 0, 0, 0, 0, 0, 0, 0, 1, 0, 0, 0, 0, 0, 0, 0, 0, 0, 0, 0, 0, 0, 0, 0,\n",
      "        0, 0, 0, 0, 0, 0, 0, 0, 0, 0, 0, 0, 0, 0, 0, 0])\n",
      "Good answers:\n",
      "western asian countries\n",
      "western asia countires\n",
      "\n",
      "Inputs:\n",
      "entities_type_ : person\n",
      "entities : ['Joseph I. Lieberman', 'Michael Schiavo', 'Ned Lamont']\n",
      "summaries : ['Joseph Isadore Lieberman is an American politician, lobbyist and attorney who served as a United States Senator from Connecticut from 1989 to 2013. A former member of the Democratic Party, he was its nominee for Vice President of the United States in the 2000 election. During his final term in office he was officially listed as an independent Democrat and caucused with and chaired committees for the Democratic Party.', 'No information found.', 'Edward Miner Lamont Jr. is an American businessman and politician serving as the 89th governor of Connecticut since January 9, 2019. A member of the Democratic Party, he served as a Greenwich selectman from 1987 to 1989. He ran for the U.S. Senate in 2006, defeating incumbent Senator Joe Lieberman in the state Democratic primary election.']\n",
      "context : Senator Takes to the Road as His Primary Rival Focuses on Schiavo Stance: He should 've just stayed out of it,'' Mr. Schiavo said. Both Mr. Lamont and Mr. Schiavo devoted the bulk of their remarks to attacking the Republican Party and its leaders, including Mr. Bush, former House majority leader Tom DeLay and Senator Rick Santorum of Pennsylvania, while implying that Mr. Lieberman was the Republicans' ally.\n",
      "choices : [\"men who's first name begins with the letter r\", 'contractors', 'generals', 'theater artists', 'film production artist', 'worked in the television industry', 'chancellors', 'american comedians', 'film figures', 'former nfl players', 'former enron employees', 'british government officials', 'professional baseball players', 'project workers', 'involved in a potentially criminal scheme', 'avant-garde celebrities', 'former us generals', 'accused', 'american lobyists', 'business associates', 'ballet choreographers', 'actorsthe two actors', 'ohio politicians', 'music workers', 'art enthusiats', 'purdue leaders', 'notable individuals', 'educators', 'people in show business', 'blood relatives', 'italians', 'american football coaches', 'school employees', 'criminal proceeding participants', 'food writers', 'kazakhstan government workers', 'men involved in football', 'musical entertainers', 'renovators', 'people of power', 'former wal-mart executives', 'pair', 'nhl icons', 'convicted felons', 'golf icons', 'hispanic', 'leaders', 'world leaders', 'political advisors', 'mexican fisherman', 'american football icons', 'former iranian leaders', 'figures in the entertainment industry', 'political adversaries', 'football participants', 'american democratic party politicians', 'american drama professionals', 'sports figures']\n",
      "\n",
      "Targets:\n",
      "tensor([0, 0, 0, 0, 0, 0, 0, 0, 0, 0, 0, 0, 0, 0, 0, 0, 0, 0, 0, 0, 0, 0, 0, 0,\n",
      "        0, 0, 0, 0, 0, 0, 0, 0, 0, 0, 0, 0, 0, 0, 0, 0, 0, 0, 0, 0, 0, 0, 0, 0,\n",
      "        0, 0, 0, 0, 0, 0, 0, 0, 0, 0])\n",
      "\n",
      "Inputs:\n",
      "entities_type_ : person\n",
      "entities : ['Christopher J. Dodd', 'John Kerry', 'Rudolph W. Giuliani']\n",
      "summaries : ['Christopher John Dodd is an American lobbyist, lawyer, and Democratic Party politician who served as a United States Senator from Connecticut from 1981 to 2011.', 'John Forbes Kerry is an American politician who served as the 68th United States Secretary of State from 2013 to 2017. A member of the Democratic Party, he previously served as a United States Senator from Massachusetts from 1985 until 2013. He was the Democratic nominee in the 2004 presidential election, losing to Republican incumbent George W. Bush.', 'Rudolph William Louis Giuliani is an American politician, attorney, and public speaker who served as the 107th Mayor of New York City from 1994 to 2001. He currently acts as an attorney to President Donald Trump. Politically a Democrat, then an Independent in the 1970s, and a Republican since the 1980s, Giuliani served as United States Associate Attorney General from 1981 to 1983.']\n",
      "context : Imus Struggling To Retain Sway As a Franchise: Don Imus, one of most successful and influential pitchmen in history of radio, spends another day asking for forgiveness for racially disparaging on-air remark about Rutgers women 's basketball team. Team members offer to meet privately with him, but it remains uncertain whether Imus can use team 's gesture to save his broadcasting career. Staples withdraws as sponsor of MSNBC television simulcast of Imus 's radio show on WFAN-NY. Procter& Gamble withdraws all its advertising from MSNBC 's daytime schedule. Action underscores risks that go with rewards of sponsoring or appearing on show. Rudolph Giuliani and Sens John McCain, Christopher J Dodd and John Kerry score Imus 's remark. McCain and Giuliani say they would go on show again, but Kerry and Dodd sidestep question. Of C Vivian Stringer, Rutgers coach. Of ad spending on radio and television shows.\n",
      "choices : ['former kenyan politicians', 'former american public servants', 'fashion designers', 'men of hispanic heritage', 'film directors', 'famous people', 'election influencers', 'political scientists', 'russian figures', 'purdue leaders', 'convicted murderers', 'media moguls', 'american business men', 'running back', 'statesmen', 'chess grandmasters', 'guilty parties', 'government figures', 'law enforcement officers', 'church members', 'fosters', 'co-author', 'former u.s. representatives', 'secretaries', 'americans involved in iraq wmd scandal', 'canadian and american politicians', 'felons', 'religious people', 'french presidential candidates', 'commentators', 'artists', 'prime ministers', 'journalist', 'authors', 'acquaintances', 'theatrical participants', 'people from new jersey', 'comatose', 'economically inclined', 'former nfl players', 'canadians', 'former athletes', 'italian art professionals', 'business founders', 'directors', 'conservative operatives', 'political rivals', 'animal lovers', 'participants', 'nba basketball players', 'friends', 'those involved with the east harlem school', 'mafia members', 'alleged criminals', 'texas women', 'candidates for new york state comptroller', 'russian political leaders', 'austrian athletes', 'hispanic', 'conflicting parties', 'american democratic party politicians', 'political rivals from connecticut', 'memorializers of the american offensive', 'conflicting leaders']\n",
      "\n",
      "Targets:\n",
      "tensor([0, 0, 0, 0, 0, 0, 0, 0, 0, 0, 0, 0, 0, 0, 0, 0, 0, 0, 0, 0, 0, 0, 0, 0,\n",
      "        0, 0, 0, 0, 0, 0, 0, 0, 0, 0, 0, 0, 0, 0, 0, 0, 0, 0, 0, 0, 0, 0, 0, 0,\n",
      "        0, 0, 0, 0, 0, 0, 0, 0, 0, 0, 0, 0, 0, 0, 0, 0])\n",
      "\n",
      "Inputs:\n",
      "entities_type_ : person\n",
      "entities : ['Barry M. Hartman', 'Jack Abramoff']\n",
      "summaries : ['No information found.', 'Jack Allan Abramoff is an American lobbyist, businessman, movie producer and writer. He was at the center of an extensive corruption investigation that led to his conviction and to 21 people either pleading guilty or being found guilty, including White House officials J. Steven Griles and David Safavian, U.S. Representative Bob Ney, and nine other lobbyists and congressional aides.']\n",
      "context : Former Official Is Said to Be A Focus of Lobbyist Inquiry: A lawyer for the former official, J. Steven Griles, said Mr. Griles was recently told by the Justice Department that he was a target of the investigation as a result of his testimony about Mr. Abramoff to a Senate committee in 2005.'' We are shocked and disappointed at this turn of events,'' the lawyer , Barry M. Hartman , said in a statement.''\n",
      "choices : ['american democrats', 'former cabinet members', 'stem cell research supporters', 'criminals', 'secretaries', 'assailants', 'school employees', 'aryan brotherhood members', 'internet entrepreneurs', 'former mlb players', 'fishermen', 'actors', 'thet two american actors', 'former presidential candidates', 'pakistani officials', 'opinion writers', 'dog workers', 'american theatre professionals', 'people involved in the scandal', 'movie collaborators', 'lesbians', 'survivors', 'american government employees', 'men wounded in the shooting', 'olympians', 'men interested in politics', 'participants', 'hollywood figures', 'american public servants', 'men in the film industry', 'male celebrities', 'geniuses', 'regional theater award nominees', 'baseball executives', 'united states army generals', 'alleged criminals', 'former u.s. presidents', 'film production artist', 'texas women', 'women involved in politics', 'general electric stakeholders', 'activists', 'new york politicians', \"sports' commissioners\", 'english arts professionals', 'historical figures', 'american presidents', 'political commentators', 'american governors', 'running back', 'men involved in professional football', 'rivals', 'political party leaders', 'spouses', 'kazakh government officials', 'men involved in professional sports', 'involved parties', 'entrepreneurs', 'hockey players', 'former comptroller candidates', 'influential historical figures', 'former government workers', 'former professional stock car racing drivers', 'project workers']\n",
      "\n",
      "Targets:\n",
      "tensor([0, 0, 0, 0, 0, 0, 0, 0, 0, 0, 0, 0, 0, 0, 0, 0, 0, 0, 0, 0, 0, 0, 0, 0,\n",
      "        0, 0, 0, 0, 0, 0, 0, 0, 0, 0, 0, 0, 0, 0, 0, 0, 0, 0, 0, 0, 0, 0, 0, 0,\n",
      "        0, 0, 0, 0, 0, 0, 0, 0, 0, 0, 0, 0, 0, 0, 0, 0])\n",
      "\n",
      "Inputs:\n",
      "entities_type_ : person\n",
      "entities : ['Lawrence E. Alibozek', 'Peter N. Ellef', 'William A. Tomasso']\n",
      "summaries : ['No information found.', 'Peter N. Ellef is a businessman, white collar criminal, and former public servant from Connecticut. He was the Chief of Staff to former Republican Connecticut Governor John Rowland, who would later serve one year and a day in prison after pleading guilty to corruption charges of accepting bribes. He was known as the “Wizard of Oz” for his ability to wield power behind the scenes.', 'William A. Tomasso is a construction executive and white collar criminal from New Britain, Connecticut.']\n",
      "context : Getting 40 Gold Coins, and a Role In a Corrupt Governor's Downfall: In November 1998, when the state decided to build a juvenile prison, Mr. Ellef and Mr. Alibozek saw to it that Mr. Tomasso was the only potential bidder to accompany state officials to an Ohio correctional facility that was emerging as the model for the project. In addition, Ms. Ragaglia -- who told investigators last summer that she and Mr. Alibozek were romantically involved at the time -- admitted in a sworn statement that she used her influence, at Mr. Alibozek 's behest, to help steer the contract to Mr. Tomasso by telling a subordinate to make sure that his company was on the short list of bidders. Later, when she was serving on a panel that selected the contractor , she said she heeded Mr. Ellef 's instructions and voted for Mr. Tomasso.\n",
      "choices : ['chess grandmasters', 'anthropologists', 'kazakhstan government workers', 'political rivals from connecticut', 'american professional basketball players', 'british actors', 'democrats', 'new york crime victims', 'hispanics', 'austrians', 'mafia members', 'songwriters', 'drug dealers', 'former american politicians', 'american figures', 'kazakhstani politicians', 'dead', 'politician', 'mafiosos', 'american baseball executives', 'new jersey democrats', 'business people', 'nepalese politicians', 'political leaders', 'south american politicians', 'former pro basketball players', 'former lovers', 'lawmakers', 'internet entrepreneurs', 'new york city officials', 'former prime ministers of japan', 'men involved in show business', 'former athletes', 'world bank associates', 'producers', 'russian figures', 'stock car drivers', 'people from russia', 'people in the accident', 'government figures', 'german singers', 'russian law enforcement officials', 'former american generals', 'cocaine users', 'french presidential candidates', 'runners', 'american political lobbyists', 'represenatives', 'men involved in tony nominated plays', 'israeli lawyers', 'former football players', 'shooting victims', 'hynix employees', 'american government employees', 'democats', 'collectors', 'high-profile americans', 'aleksandrs', 'screenwriters', 'new york government officials', 'drivers', 'defense contractors', 'public speakers', 'venezuelan politicians']\n",
      "\n",
      "Targets:\n",
      "tensor([0, 0, 0, 0, 0, 0, 0, 0, 0, 0, 0, 0, 0, 0, 0, 0, 0, 0, 0, 0, 0, 0, 0, 0,\n",
      "        0, 0, 0, 0, 0, 0, 0, 0, 0, 0, 0, 0, 0, 0, 0, 0, 0, 0, 0, 0, 0, 0, 0, 0,\n",
      "        0, 0, 0, 0, 0, 0, 0, 0, 0, 0, 0, 0, 0, 0, 0, 0])\n",
      "\n",
      "Inputs:\n",
      "entities_type_ : person\n",
      "entities : ['Chad Hurley', 'Jawed Karim', 'Steven Chen']\n",
      "summaries : ['Chad Meredith Hurley is an American media mogul, co-founder and former CEO of the video-sharing websites YouTube and MixBit. In June 2006, he was voted 28th on Business 2.0\\'s \"50 People Who Matter Now\" list. In October 2006, he and Steve Chen sold YouTube for $1.65 billion to Google. Hurley worked in eBay\\'s PayPal division—one of his tasks involved designing the original PayPal logo—before starting YouTube with fellow PayPal colleagues Steve Chen and Jawed Karim. Hurley was primarily responsible for the tagging and video-sharing aspects of YouTube.', \"Jawed Karim is an American computer scientist and Internet entrepreneur of Bangladeshi-German descent. He is the co-founder of YouTube, and the first person to upload a video to the site. This inaugural video, titled Me at the zoo uploaded on April 23, 2005, has been viewed over 78 million times as of October 2019. During Karim's time working at PayPal, where he met the fellow YouTube co-founders Steven Chen and Chad Hurley, he had designed many of the core components including its real-time anti-internet-fraud system.\", 'Steven Shih Chen is an American Internet entrepreneur who is one of the co-founders and previous chief technology officer of the video-sharing website YouTube. After having co-founded the company AVOS Systems, Inc. and built the video-sharing app MixBit, he joined Google Ventures in 2014.']\n",
      "context : With YouTube, Grad Student Hits Jackpot Again: Mr. Karim said he pitched the idea of a video-sharing Web site to the group. But he made it clear that contributions from Mr. Chen and Mr. Hurley were essential in turning his raw idea into what eventually became YouTube.\n",
      "choices : ['tri-state area politicians', 'felons', 'prominent texas democratic women', 'reporters', 'those associated with the new york yankees', 'baseball personalities', 'co-conspirators', 'former south american leaders', 'new jersey residents', 'banking executives', 'member of the u.s. house of representatives', 'businesspeople', 'ukrainians', 'geniuses', 'co-authors', 'artists', 'literary figures', \"men who's first name begins with the letter r\", 'family members', 'golfers', 'business owner', 'australians', 'politician and the organ builder', 'american representatives', 'socialites', 'acquaintances', 'public figures', 'american government employees', \"mayor's of newark\", 'kazakhstan officials', 'english arts professionals', 'investors', 'new york government workers', 'stage performers', 'opposing statemen', 'former house representatives', 'bridgeport, connecticut residents', 'men of hispanic heritage', 'individuals involved in the play', 'men involved in making the musical', 'aryan brotherhood members', 'former figure skaters', 'people involved in the scandal', 'media figures', 'tennis professionals', 'dog workers', 'speed skaters', 'people involved in the pbs documentary', 'blood relatives', 'spy community', 'republican statesmen', 'theatrical artists', 'american public figures', 'defense contractors', 'republican candidates', 'staffers', 'united states politicians', 'politicians', 'former comptroller candidates', 'theater award nominees', 'bankers', 'american theatrical producer', 'russian figures', 'educationally inclined']\n",
      "\n",
      "Targets:\n",
      "tensor([0, 0, 0, 0, 0, 0, 0, 0, 0, 0, 0, 0, 0, 0, 0, 0, 0, 0, 0, 0, 0, 0, 0, 0,\n",
      "        0, 0, 0, 0, 0, 0, 0, 0, 0, 0, 0, 0, 0, 0, 0, 0, 0, 0, 0, 0, 0, 0, 0, 0,\n",
      "        0, 0, 0, 0, 0, 0, 0, 0, 0, 0, 0, 0, 0, 0, 0, 0])\n",
      "\n",
      "Inputs:\n",
      "entities_type_ : location\n",
      "entities : ['Abuja', 'Nigeria']\n",
      "summaries : [\"Abuja is the capital city of Nigeria located in the centre of the country within the Federal Capital Territory . It is a planned city and was built mainly in the 1980s, replacing the country's most populous city of Lagos as the capital on 12 December 1991. Abuja's geography is defined by Aso Rock, a 400-metre monolith left by water erosion. The Presidential Complex, National Assembly, Supreme Court and much of the city extend to the south of the rock. Zuma Rock, a 792-metre monolith, lies just north of the city on the expressway to Kaduna.\", 'Nigeria ), officially the Federal Republic of Nigeria, is a country in West Africa, bordering Niger in the north, Chad in the northeast, Cameroon in the east, and Benin in the west. Its coast in the south is located on the Gulf of Guinea in the Atlantic Ocean. The federation comprises 36 states and 1 Federal Capital Territory, where the capital, Abuja, is located. The constitution defines Nigeria as a democratic secular state.Nigeria has been home to a number of ancient and indigenous kingdoms and states over the millennia.']\n",
      "context : Nigerian Plane Crash Kills 98, Including Top Muslim Leader: A commercial airliner with 104 passengers and crew members on board, including the spiritual leader of Nigeria 's vast Muslim population, crashed shortly after takeoff in the Nigerian capital, Abuja , on Sunday. It was the third deadly passenger plane crash in Nigeria in a little more than a year.\n",
      "choices : ['entities of the state of new jersey', 'foreign countries', 'southern locations', 'eastern american cities', 'areas of conflict', 'sudan territories', 'established areas', 'indonesian locations', 'affected countries', 'portuguese region', 'east asian countries', 'foreign nations', 'geographic areas', 'american cities', 'western asian companies', 'locations in ulster county', 'countries supplied by the oil pipeline', 'asian locations', 'non american areas', 'latin american countries', 'new york areas', 'populous countries', 'southern regions', 'us territory', 'iraqi territories', 'regional leaders', 'sides of the avenue', 'communist countries', 'irish destinations', 'east central european nations', 'fairfield county locales', 'middle eastern counties', 'arab nations', 'neighboring south asian countries', 'spain areas', 'iraqi locales', 'neighboring western asian regions', 'foreign allies', 'european places', 'new york locales', 'middle east locales', 'places in west asia', 'america states', 'middle eastern areas', 'american states', 'mideast locations', 'continental regions', 'sovereign states of the usa', 'asian entities', 'neighboring hotspots', 'islamic powers', 'neighboring nations', 'south asian countries', 'areas in pakistan', 'east coast states', 'regional locations', 'vast areas', 'southeastern regions', 'african locales', 'western asian places', 'eastern hemisphere geographic regions', 'muslim-majority countries', 'neighboring contries', 'connecticut cities']\n",
      "\n",
      "Targets:\n",
      "tensor([0, 0, 0, 0, 0, 0, 0, 0, 0, 0, 0, 0, 0, 0, 0, 0, 0, 0, 0, 0, 0, 0, 0, 0,\n",
      "        0, 0, 0, 0, 0, 0, 0, 0, 0, 0, 0, 0, 0, 0, 0, 0, 0, 0, 0, 0, 0, 0, 0, 0,\n",
      "        0, 0, 0, 0, 0, 0, 0, 0, 0, 0, 0, 0, 0, 0, 0, 0])\n",
      "\n",
      "Inputs:\n",
      "entities_type_ : location\n",
      "entities : ['China', 'European Union']\n",
      "summaries : [\"China , officially the People's Republic of China , is a country in East Asia and the world's most populous country, with a population of around 1.404 billion in 2017. Covering approximately 9,600,000 square kilometers , it is the third or fourth largest country by total area.\", 'The European Union is a political and economic union of 28 member states that are located primarily in Europe. Its members have a combined area of 4,475,757 km2 and an estimated total population of about 513 million. The EU has developed an internal single market through a standardised system of laws that apply in all member states in those matters, and only those matters, where members have agreed to act as one.']\n",
      "context : Europe Sets Ambitious Limits on Greenhouse Gases, and Challenges Others to Match It: This text really gives European Union policies a new quality and will establish us as a world pioneer,'' she said. She plans to press the issue at a June summit meeting in Germany of the Group of 8 leading industrial nations, to try to push the world 's biggest polluters, including the United States, China and India, to tackle climate change.\n",
      "choices : ['western asia locations', 'southern american states', 'southern areas', 'th two west asian countries', 'western asia countires', 'american locales', 'northeastern locations', 'eastern european locales', 'overlapping regions', 'areas in pakistan', 'areas in the eastern usa', 'conflicting entities', 'iraqi regions', 'western states', 'recent additions to states with a moratorium on the death penalty', 'western asian regions', 'coastal countries', 'cities near baghdad', 'european sovereignties', 'asian countries', 'romance speaking countries', 'eastern regions', 'united states cities', 'vast areas', 'destinations', 'us foreign adversarial nations', 'pension cutters', 'us places', 'southeastern european countries', 'european region', 'oil recipients', 'eastern us regions', 'areas of conflict', 'major political parties', 'western hemisphere locations', 'territories', 'exxon challenges', 'latin american countries', 'oil bound areas', 'asian super-powers', 'moldavian territories', 'big financial markets', 'spain areas', 'southern american regions', 'arabian countries', 'southern places', 'african areas', 'aegean sea countries', 'new jersey areas', 'areas in france', 'central asian countries', 'central european countries', 'places in west asia', 'countries that the united states does not always get along with', 'areas in north america', 'places in europe', 'states in the southern region of the united states', 'pacific ocean areas', 'political powerhouses', 'north american countries', 'established areas', 'major global entities', 'global powers', 'eastern europe areas']\n",
      "\n",
      "Targets:\n",
      "tensor([0, 0, 0, 0, 0, 0, 0, 0, 0, 0, 0, 0, 0, 0, 0, 0, 0, 0, 0, 0, 0, 0, 0, 0,\n",
      "        0, 0, 0, 0, 0, 0, 0, 0, 0, 0, 0, 0, 0, 0, 0, 0, 0, 0, 0, 0, 0, 0, 0, 0,\n",
      "        0, 0, 0, 0, 0, 0, 0, 0, 0, 0, 1, 0, 0, 0, 0, 0])\n",
      "Good answers:\n",
      "political powerhouses\n"
     ]
    }
   ],
   "source": [
    "show_pipeline(pipeline)"
   ]
  },
  {
   "cell_type": "markdown",
   "metadata": {},
   "source": [
    "## Baselines"
   ]
  },
  {
   "cell_type": "markdown",
   "metadata": {},
   "source": [
    "### Random"
   ]
  },
  {
   "cell_type": "code",
   "execution_count": 8,
   "metadata": {},
   "outputs": [],
   "source": [
    "from modeling.models import RandomBaseline\n",
    "\n",
    "model = RandomBaseline(score=score, k=k_score)\n",
    "pipeline.preview_data(model=model, include_valid=True)"
   ]
  },
  {
   "cell_type": "code",
   "execution_count": 9,
   "metadata": {},
   "outputs": [
    {
     "name": "stdout",
     "output_type": "stream",
     "text": [
      "Evaluation of the model...\n",
      "\n"
     ]
    },
    {
     "data": {
      "application/vnd.jupyter.widget-view+json": {
       "model_id": "e543463d37c74b85ac2420fadab528e2",
       "version_major": 2,
       "version_minor": 0
      },
      "text/plain": [
       "HBox(children=(FloatProgress(value=0.0, max=20270.0), HTML(value='')))"
      ]
     },
     "metadata": {},
     "output_type": "display_data"
    },
    {
     "name": "stdout",
     "output_type": "stream",
     "text": [
      "\n",
      "Test Score: 0.004\n"
     ]
    }
   ],
   "source": [
    "scores = pipeline.evaluate_baseline(model=model, n_updates=n_updates)"
   ]
  },
  {
   "cell_type": "code",
   "execution_count": 10,
   "metadata": {
    "scrolled": true
   },
   "outputs": [
    {
     "name": "stdout",
     "output_type": "stream",
     "text": [
      "score: 0.100\n",
      "ranks of the true labels: tensor([9.]) , grades of the true labels: tensor([0.7252])\n",
      "\n",
      "score: 0.000\n",
      "ranks of the true labels: tensor([21.]) , grades of the true labels: tensor([0.3471])\n",
      "\n",
      "score: 0.100\n",
      "ranks of the true labels: tensor([2.]) , grades of the true labels: tensor([0.9348])\n",
      "\n",
      "score: 0.000\n",
      "ranks of the true labels: tensor([11.]) , grades of the true labels: tensor([0.7059])\n",
      "\n",
      "score: 0.000\n",
      "ranks of the true labels: tensor([22.]) , grades of the true labels: tensor([0.3671])\n",
      "\n",
      "score: 0.000\n",
      "ranks of the true labels: tensor([11.]) , grades of the true labels: tensor([0.5514])\n",
      "\n",
      "score: 0.000\n",
      "ranks of the true labels: tensor([29.]) , grades of the true labels: tensor([0.1259])\n",
      "\n",
      "score: 0.100\n",
      "ranks of the true labels: tensor([1.]) , grades of the true labels: tensor([0.9887])\n",
      "\n",
      "score: 0.000\n",
      "ranks of the true labels: tensor([26.]) , grades of the true labels: tensor([0.2137])\n",
      "\n",
      "score: 0.000\n",
      "ranks of the true labels: tensor([29.]) , grades of the true labels: tensor([0.1013])\n",
      "\n",
      "score: 0.100\n",
      "ranks of the true labels: tensor([10.]) , grades of the true labels: tensor([0.6956])\n",
      "\n",
      "score: 0.000\n",
      "ranks of the true labels: tensor([17.]) , grades of the true labels: tensor([0.4138])\n",
      "\n"
     ]
    }
   ],
   "source": [
    "show_model(pipeline, model)"
   ]
  },
  {
   "cell_type": "markdown",
   "metadata": {},
   "source": [
    "### Counts"
   ]
  },
  {
   "cell_type": "code",
   "execution_count": 11,
   "metadata": {},
   "outputs": [
    {
     "name": "stdout",
     "output_type": "stream",
     "text": [
      "Learning answers counts...\n"
     ]
    },
    {
     "data": {
      "application/vnd.jupyter.widget-view+json": {
       "model_id": "03ec8b5781b248628788751a0612cf8e",
       "version_major": 2,
       "version_minor": 0
      },
      "text/plain": [
       "HBox(children=(FloatProgress(value=0.0, max=20270.0), HTML(value='')))"
      ]
     },
     "metadata": {},
     "output_type": "display_data"
    },
    {
     "name": "stdout",
     "output_type": "stream",
     "text": [
      "\n"
     ]
    }
   ],
   "source": [
    "from modeling.models import CountsBaseline\n",
    "\n",
    "model = CountsBaseline(score=score, k=k_score)\n",
    "pipeline.preview_data(model=model, include_valid=True)"
   ]
  },
  {
   "cell_type": "code",
   "execution_count": 12,
   "metadata": {
    "scrolled": true
   },
   "outputs": [
    {
     "name": "stdout",
     "output_type": "stream",
     "text": [
      "Evaluation of the model...\n",
      "\n"
     ]
    },
    {
     "data": {
      "application/vnd.jupyter.widget-view+json": {
       "model_id": "d20290a9ab19477a8b23d008a459eb43",
       "version_major": 2,
       "version_minor": 0
      },
      "text/plain": [
       "HBox(children=(FloatProgress(value=0.0, max=20270.0), HTML(value='')))"
      ]
     },
     "metadata": {},
     "output_type": "display_data"
    },
    {
     "name": "stdout",
     "output_type": "stream",
     "text": [
      "\n",
      "Test Score: 0.011\n"
     ]
    }
   ],
   "source": [
    "scores = pipeline.evaluate_baseline(model=model, n_updates=n_updates)"
   ]
  },
  {
   "cell_type": "code",
   "execution_count": 13,
   "metadata": {
    "scrolled": true
   },
   "outputs": [
    {
     "name": "stdout",
     "output_type": "stream",
     "text": [
      "score: 0.000\n",
      "ranks of the true labels: tensor([11.]) , grades of the true labels: tensor([0.0116])\n",
      "\n",
      "score: 0.100\n",
      "ranks of the true labels: tensor([2.]) , grades of the true labels: tensor([0.5312])\n",
      "\n",
      "score: 0.000\n",
      "ranks of the true labels: tensor([14.]) , grades of the true labels: tensor([0.0500])\n",
      "\n",
      "score: 0.100\n",
      "ranks of the true labels: tensor([1.]) , grades of the true labels: tensor([1.])\n",
      "\n",
      "score: 0.100\n",
      "ranks of the true labels: tensor([1.]) , grades of the true labels: tensor([1.])\n",
      "\n",
      "score: 0.100\n",
      "ranks of the true labels: tensor([2.]) , grades of the true labels: tensor([0.6000])\n",
      "\n",
      "score: 0.100\n",
      "ranks of the true labels: tensor([1.]) , grades of the true labels: tensor([1.])\n",
      "\n",
      "score: 0.100\n",
      "ranks of the true labels: tensor([1.]) , grades of the true labels: tensor([1.])\n",
      "\n",
      "score: 0.100\n",
      "ranks of the true labels: tensor([1.]) , grades of the true labels: tensor([1.])\n",
      "\n",
      "score: 0.100\n",
      "ranks of the true labels: tensor([1.]) , grades of the true labels: tensor([1.])\n",
      "\n",
      "score: 0.000\n",
      "ranks of the true labels: tensor([19.]) , grades of the true labels: tensor([0.0116])\n",
      "\n",
      "score: 0.100\n",
      "ranks of the true labels: tensor([1.]) , grades of the true labels: tensor([1.])\n",
      "\n"
     ]
    }
   ],
   "source": [
    "show_model(pipeline, model)"
   ]
  },
  {
   "cell_type": "markdown",
   "metadata": {},
   "source": [
    "### Summaries Counts"
   ]
  },
  {
   "cell_type": "code",
   "execution_count": 14,
   "metadata": {},
   "outputs": [],
   "source": [
    "from modeling.models import SummariesCountBaseline\n",
    "\n",
    "model = SummariesCountBaseline(score=score, k=k_score)\n",
    "pipeline.preview_data(model=model, include_valid=True)"
   ]
  },
  {
   "cell_type": "code",
   "execution_count": 15,
   "metadata": {
    "scrolled": false
   },
   "outputs": [
    {
     "name": "stdout",
     "output_type": "stream",
     "text": [
      "Evaluation of the model...\n",
      "\n"
     ]
    },
    {
     "data": {
      "application/vnd.jupyter.widget-view+json": {
       "model_id": "61eb9a283f1449f7b70bc2527c589396",
       "version_major": 2,
       "version_minor": 0
      },
      "text/plain": [
       "HBox(children=(FloatProgress(value=0.0, max=20270.0), HTML(value='')))"
      ]
     },
     "metadata": {},
     "output_type": "display_data"
    },
    {
     "name": "stdout",
     "output_type": "stream",
     "text": [
      "\n",
      "Test Score: 0.006\n"
     ]
    }
   ],
   "source": [
    "scores = pipeline.evaluate_baseline(model=model, n_updates=n_updates)"
   ]
  },
  {
   "cell_type": "code",
   "execution_count": 16,
   "metadata": {
    "scrolled": true
   },
   "outputs": [
    {
     "name": "stdout",
     "output_type": "stream",
     "text": [
      "score: 0.100\n",
      "ranks of the true labels: tensor([2.]) , grades of the true labels: tensor([1.])\n",
      "\n",
      "score: 0.100\n",
      "ranks of the true labels: tensor([1.]) , grades of the true labels: tensor([1.])\n",
      "\n",
      "score: 0.100\n",
      "ranks of the true labels: tensor([1.]) , grades of the true labels: tensor([1.])\n",
      "\n",
      "score: 0.000\n",
      "ranks of the true labels: tensor([30.]) , grades of the true labels: tensor([0.])\n",
      "\n",
      "score: 0.000\n",
      "ranks of the true labels: tensor([30.]) , grades of the true labels: tensor([0.])\n",
      "\n",
      "score: 0.100\n",
      "ranks of the true labels: tensor([10.]) , grades of the true labels: tensor([0.])\n",
      "\n",
      "score: 0.000\n",
      "ranks of the true labels: tensor([23.]) , grades of the true labels: tensor([0.])\n",
      "\n",
      "score: 0.000\n",
      "ranks of the true labels: tensor([23.]) , grades of the true labels: tensor([0.])\n",
      "\n",
      "score: 0.000\n",
      "ranks of the true labels: tensor([18.]) , grades of the true labels: tensor([0.])\n",
      "\n",
      "score: 0.000\n",
      "ranks of the true labels: tensor([29.]) , grades of the true labels: tensor([0.])\n",
      "\n",
      "score: 0.000\n",
      "ranks of the true labels: tensor([24.]) , grades of the true labels: tensor([0.])\n",
      "\n",
      "score: 0.100\n",
      "ranks of the true labels: tensor([8.]) , grades of the true labels: tensor([0.])\n",
      "\n"
     ]
    }
   ],
   "source": [
    "show_model(pipeline, model)"
   ]
  },
  {
   "cell_type": "markdown",
   "metadata": {},
   "source": [
    "### Summaries Overlap"
   ]
  },
  {
   "cell_type": "code",
   "execution_count": 17,
   "metadata": {},
   "outputs": [],
   "source": [
    "from modeling.models import SummariesOverlapBaseline\n",
    "\n",
    "model = SummariesOverlapBaseline(score=score, k=k_score)\n",
    "pipeline.preview_data(model=model, include_valid=True)"
   ]
  },
  {
   "cell_type": "code",
   "execution_count": 18,
   "metadata": {
    "scrolled": false
   },
   "outputs": [
    {
     "name": "stdout",
     "output_type": "stream",
     "text": [
      "Evaluation of the model...\n",
      "\n"
     ]
    },
    {
     "data": {
      "application/vnd.jupyter.widget-view+json": {
       "model_id": "5dee29ec241e4280b0375500067bb56f",
       "version_major": 2,
       "version_minor": 0
      },
      "text/plain": [
       "HBox(children=(FloatProgress(value=0.0, max=20270.0), HTML(value='')))"
      ]
     },
     "metadata": {},
     "output_type": "display_data"
    },
    {
     "name": "stdout",
     "output_type": "stream",
     "text": [
      "\n",
      "Test Score: 0.006\n"
     ]
    }
   ],
   "source": [
    "scores = pipeline.evaluate_baseline(model=model, n_updates=n_updates)"
   ]
  },
  {
   "cell_type": "code",
   "execution_count": 19,
   "metadata": {
    "scrolled": true
   },
   "outputs": [
    {
     "name": "stdout",
     "output_type": "stream",
     "text": [
      "score: 0.100\n",
      "ranks of the true labels: tensor([2.]) , grades of the true labels: tensor([1.])\n",
      "\n",
      "score: 0.100\n",
      "ranks of the true labels: tensor([9.]) , grades of the true labels: tensor([1.])\n",
      "\n",
      "score: 0.100\n",
      "ranks of the true labels: tensor([1.]) , grades of the true labels: tensor([1.])\n",
      "\n",
      "score: 0.000\n",
      "ranks of the true labels: tensor([30.]) , grades of the true labels: tensor([0.])\n",
      "\n",
      "score: 0.000\n",
      "ranks of the true labels: tensor([30.]) , grades of the true labels: tensor([0.])\n",
      "\n",
      "score: 0.100\n",
      "ranks of the true labels: tensor([10.]) , grades of the true labels: tensor([0.])\n",
      "\n",
      "score: 0.000\n",
      "ranks of the true labels: tensor([23.]) , grades of the true labels: tensor([0.])\n",
      "\n",
      "score: 0.000\n",
      "ranks of the true labels: tensor([23.]) , grades of the true labels: tensor([0.])\n",
      "\n",
      "score: 0.000\n",
      "ranks of the true labels: tensor([18.]) , grades of the true labels: tensor([0.])\n",
      "\n",
      "score: 0.000\n",
      "ranks of the true labels: tensor([29.]) , grades of the true labels: tensor([0.])\n",
      "\n",
      "score: 0.000\n",
      "ranks of the true labels: tensor([24.]) , grades of the true labels: tensor([0.])\n",
      "\n",
      "score: 0.100\n",
      "ranks of the true labels: tensor([8.]) , grades of the true labels: tensor([0.])\n",
      "\n"
     ]
    }
   ],
   "source": [
    "show_model(pipeline, model)"
   ]
  },
  {
   "cell_type": "markdown",
   "metadata": {},
   "source": [
    "## Models\n",
    "### Loss"
   ]
  },
  {
   "cell_type": "code",
   "execution_count": 8,
   "metadata": {},
   "outputs": [],
   "source": [
    "weight = torch.tensor([1, 10], dtype=torch.float)\n",
    "loss = torch.nn.CrossEntropyLoss(weight=weight)"
   ]
  },
  {
   "cell_type": "markdown",
   "metadata": {},
   "source": [
    "## Parameters"
   ]
  },
  {
   "cell_type": "code",
   "execution_count": 14,
   "metadata": {},
   "outputs": [],
   "source": [
    "n_updates = 430\n",
    "n_epochs = 1"
   ]
  },
  {
   "cell_type": "markdown",
   "metadata": {},
   "source": [
    "### BOW"
   ]
  },
  {
   "cell_type": "code",
   "execution_count": 10,
   "metadata": {},
   "outputs": [
    {
     "ename": "NameError",
     "evalue": "name 'score' is not defined",
     "output_type": "error",
     "traceback": [
      "\u001b[0;31m---------------------------------------------------------------------------\u001b[0m",
      "\u001b[0;31mNameError\u001b[0m                                 Traceback (most recent call last)",
      "\u001b[0;32m<ipython-input-10-2bea8c097b18>\u001b[0m in \u001b[0;36m<module>\u001b[0;34m\u001b[0m\n\u001b[1;32m      1\u001b[0m \u001b[0;32mfrom\u001b[0m \u001b[0mmodeling\u001b[0m\u001b[0;34m.\u001b[0m\u001b[0mmodels\u001b[0m \u001b[0;32mimport\u001b[0m \u001b[0mBOWModel\u001b[0m\u001b[0;34m\u001b[0m\u001b[0;34m\u001b[0m\u001b[0m\n\u001b[1;32m      2\u001b[0m \u001b[0;34m\u001b[0m\u001b[0m\n\u001b[0;32m----> 3\u001b[0;31m \u001b[0mmodel\u001b[0m \u001b[0;34m=\u001b[0m \u001b[0mBOWModel\u001b[0m\u001b[0;34m(\u001b[0m\u001b[0mmin_vocab_frequency\u001b[0m\u001b[0;34m=\u001b[0m\u001b[0;36m100\u001b[0m\u001b[0;34m,\u001b[0m \u001b[0mnet\u001b[0m\u001b[0;34m=\u001b[0m\u001b[0;32mNone\u001b[0m\u001b[0;34m,\u001b[0m \u001b[0moptimizer\u001b[0m\u001b[0;34m=\u001b[0m\u001b[0;32mNone\u001b[0m\u001b[0;34m,\u001b[0m \u001b[0mloss\u001b[0m\u001b[0;34m=\u001b[0m\u001b[0mloss\u001b[0m\u001b[0;34m,\u001b[0m \u001b[0mscore\u001b[0m\u001b[0;34m=\u001b[0m\u001b[0mscore\u001b[0m\u001b[0;34m,\u001b[0m \u001b[0mk\u001b[0m\u001b[0;34m=\u001b[0m\u001b[0mk_score\u001b[0m\u001b[0;34m)\u001b[0m\u001b[0;34m\u001b[0m\u001b[0;34m\u001b[0m\u001b[0m\n\u001b[0m\u001b[1;32m      4\u001b[0m \u001b[0mpipeline\u001b[0m\u001b[0;34m.\u001b[0m\u001b[0mpreview_data\u001b[0m\u001b[0;34m(\u001b[0m\u001b[0mmodel\u001b[0m\u001b[0;34m=\u001b[0m\u001b[0mmodel\u001b[0m\u001b[0;34m,\u001b[0m \u001b[0minclude_valid\u001b[0m\u001b[0;34m=\u001b[0m\u001b[0;32mFalse\u001b[0m\u001b[0;34m)\u001b[0m\u001b[0;34m\u001b[0m\u001b[0;34m\u001b[0m\u001b[0m\n",
      "\u001b[0;31mNameError\u001b[0m: name 'score' is not defined"
     ]
    }
   ],
   "source": [
    "from modeling.models import BOWModel\n",
    "\n",
    "model = BOWModel(min_vocab_frequency=100, net=None, optimizer=None, loss=loss, score=score, k=k_score)\n",
    "pipeline.preview_data(model=model, include_valid=False)"
   ]
  },
  {
   "cell_type": "code",
   "execution_count": 23,
   "metadata": {},
   "outputs": [],
   "source": [
    "model.net = MLP(input_dim=5538,\n",
    "                hidden_dim=500,\n",
    "                output_dim=2,\n",
    "                dropout=0.1)\n",
    "model.optimizer = torch.optim.Adam(model.net.parameters(),\n",
    "                                   lr=1e-5)"
   ]
  },
  {
   "cell_type": "code",
   "execution_count": 24,
   "metadata": {
    "scrolled": true
   },
   "outputs": [
    {
     "name": "stdout",
     "output_type": "stream",
     "text": [
      "Training of the model...\n",
      "\n"
     ]
    },
    {
     "data": {
      "application/vnd.jupyter.widget-view+json": {
       "model_id": "8a4359dc429445c6ada01c182f76eef6",
       "version_major": 2,
       "version_minor": 0
      },
      "text/plain": [
       "HBox(children=(FloatProgress(value=0.0, max=19840.0), HTML(value='')))"
      ]
     },
     "metadata": {},
     "output_type": "display_data"
    },
    {
     "name": "stdout",
     "output_type": "stream",
     "text": [
      "\n"
     ]
    },
    {
     "data": {
      "application/vnd.jupyter.widget-view+json": {
       "model_id": "c8040af611df46e1852c86ba9669e78d",
       "version_major": 2,
       "version_minor": 0
      },
      "text/plain": [
       "HBox(children=(FloatProgress(value=0.0, max=430.0), HTML(value='')))"
      ]
     },
     "metadata": {},
     "output_type": "display_data"
    },
    {
     "name": "stdout",
     "output_type": "stream",
     "text": [
      "\n",
      "Epoch 1/1: Validation Loss: 0.604 Validation Score: 0.093\n",
      "--------------------------------------------------------------\n"
     ]
    }
   ],
   "source": [
    "train_losses, train_scores, valid_losses, valid_scores = pipeline.train_model(model=model, \n",
    "                                                                              n_epochs=n_epochs, \n",
    "                                                                              n_updates=n_updates)"
   ]
  },
  {
   "cell_type": "code",
   "execution_count": 30,
   "metadata": {
    "scrolled": false
   },
   "outputs": [
    {
     "data": {
      "image/png": "[encoded data removed]",
      "text/plain": [
       "<Figure size 1080x360 with 2 Axes>"
      ]
     },
     "metadata": {
      "needs_background": "light"
     },
     "output_type": "display_data"
    }
   ],
   "source": [
    "plot_metrics(train_losses, train_scores, valid_losses, valid_scores)"
   ]
  },
  {
   "cell_type": "markdown",
   "metadata": {},
   "source": [
    "### Embedding"
   ]
  },
  {
   "cell_type": "code",
   "execution_count": 15,
   "metadata": {},
   "outputs": [
    {
     "name": "stdout",
     "output_type": "stream",
     "text": [
      "Initializing the Word2Vec embedding...\n",
      "Input dimension: 600\n"
     ]
    }
   ],
   "source": [
    "from modeling.models import EmbeddingModel\n",
    "\n",
    "model = EmbeddingModel(net=None, optimizer=None, loss=loss, score=score, k=k_score)\n",
    "pipeline.preview_data(model=model, include_valid=False)"
   ]
  },
  {
   "cell_type": "code",
   "execution_count": 16,
   "metadata": {},
   "outputs": [],
   "source": [
    "model.net = MLP(input_dim=600,\n",
    "                hidden_dim=200,\n",
    "                output_dim=2,\n",
    "                dropout=0.1)\n",
    "model.optimizer = torch.optim.Adam(model.net.parameters(),\n",
    "                                   lr=1e-6)"
   ]
  },
  {
   "cell_type": "code",
   "execution_count": null,
   "metadata": {
    "scrolled": true
   },
   "outputs": [
    {
     "name": "stdout",
     "output_type": "stream",
     "text": [
      "Training of the model...\n",
      "\n"
     ]
    },
    {
     "data": {
      "application/vnd.jupyter.widget-view+json": {
       "model_id": "edd47b9c5fb24c019071620595b732f1",
       "version_major": 2,
       "version_minor": 0
      },
      "text/plain": [
       "HBox(children=(FloatProgress(value=0.0, max=9920.0), HTML(value='')))"
      ]
     },
     "metadata": {},
     "output_type": "display_data"
    }
   ],
   "source": [
    "train_losses, train_scores, valid_losses, valid_scores = pipeline.train_model(model=model, \n",
    "                                                                              n_epochs=n_epochs, \n",
    "                                                                              n_updates=n_updates)"
   ]
  },
  {
   "cell_type": "code",
   "execution_count": null,
   "metadata": {},
   "outputs": [],
   "source": [
    "plot_metrics(train_losses, train_scores, valid_losses, valid_scores)"
   ]
  },
  {
   "cell_type": "code",
   "execution_count": null,
   "metadata": {},
   "outputs": [],
   "source": []
  }
 ],
 "metadata": {
  "kernelspec": {
   "display_name": "Python 3",
   "language": "python",
   "name": "python3"
  },
  "language_info": {
   "codemirror_mode": {
    "name": "ipython",
    "version": 3
   },
   "file_extension": ".py",
   "mimetype": "text/x-python",
   "name": "python",
   "nbconvert_exporter": "python",
   "pygments_lexer": "ipython3",
   "version": "3.7.6"
  },
  "pycharm": {
   "stem_cell": {
    "cell_type": "raw",
    "metadata": {
     "collapsed": false
    },
    "source": []
   }
  },
  "toc": {
   "base_numbering": 1,
   "nav_menu": {},
   "number_sections": true,
   "sideBar": true,
   "skip_h1_title": false,
   "title_cell": "Table of Contents",
   "title_sidebar": "Contents",
   "toc_cell": false,
   "toc_position": {},
   "toc_section_display": true,
   "toc_window_display": false
  }
 },
 "nbformat": 4,
 "nbformat_minor": 2
}
