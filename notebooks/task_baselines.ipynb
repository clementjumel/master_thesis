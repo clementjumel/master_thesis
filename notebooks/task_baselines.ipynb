{
 "cells": [
  {
   "cell_type": "markdown",
   "metadata": {},
   "source": [
    "## Setup"
   ]
  },
  {
   "cell_type": "code",
   "execution_count": 1,
   "metadata": {
    "ExecuteTime": {
     "end_time": "2019-04-13T03:57:03.299844Z",
     "start_time": "2019-04-13T03:57:03.266445Z"
    },
    "pycharm": {
     "is_executing": false
    }
   },
   "outputs": [],
   "source": [
    "import sys\n",
    "sys.path.append('../')\n",
    "del sys\n",
    "%reload_ext autoreload\n",
    "%autoreload 2\n",
    "\n",
    "from modeling.pipeline import Pipeline"
   ]
  },
  {
   "cell_type": "markdown",
   "metadata": {},
   "source": [
    "## Data pipeline parameters"
   ]
  },
  {
   "cell_type": "code",
   "execution_count": 2,
   "metadata": {},
   "outputs": [],
   "source": [
    "batch_size = 64\n",
    "drop_last = False\n",
    "test_proportion = 0.2\n",
    "valid_proportion = 0.2\n",
    "use_k_fold = False\n",
    "k_k_fold = None"
   ]
  },
  {
   "cell_type": "markdown",
   "metadata": {},
   "source": [
    "## Load the data"
   ]
  },
  {
   "cell_type": "code",
   "execution_count": 3,
   "metadata": {
    "scrolled": true
   },
   "outputs": [
    {
     "name": "stdout",
     "output_type": "stream",
     "text": [
      "Processing the modeling task...\n",
      "Computing the annotated queries...\n",
      "Initial length of queries: 0\n",
      "Object loaded from ../results/../results/task_annotation/v2_0/task/queries_size10k_shuffle_articles1_queries1_seed0.pkl\n",
      "Object loaded from ../results/../results/task_annotation/v2_1/task/queries_sizemax_shuffle_articles1_queries1_seed0.pkl\n",
      "Object loaded from ../results/../results/task_annotation/v2_2/task/queries_sizemax_shuffle_articles1_queries1_seed0.pkl\n",
      "Final length of queries: 61056\n",
      "Done (elapsed time: 2s).\n",
      "\n",
      "Computing the annotations...\n",
      "Initial length of annotations: 0\n",
      "Object loaded from ../results/task_annotation/v2_0/results/batch_00_complete.csv\n",
      "   Correcting \"n this article, Nevada and Ohio are discussed. The two American states...\" to \" The two American states...\"\n",
      "   Correcting \"In this article, California and Oregon are discussed. The two neighboring states...\" to \" The two neighboring states...\"\n",
      "   Correcting \"In this article, California and Oregon are discussed. The two West Coast states...\" to \" The two West Coast states...\"\n",
      "Object loaded from ../results/task_annotation/v2_0/results/batch_01_complete.csv\n",
      "   Discarding \"The\"\n",
      "   Correcting \"THE CHESS CHAMPIONS\" to \"The chess champions\"\n",
      "   Correcting \"THE WHITE AND BLACK\" to \"The white and black\"\n",
      "   Discarding \"Both are politlca entities\"\n",
      "Object loaded from ../results/task_annotation/v2_1/results/batch_02_complete.csv\n",
      "   Discarding \"Both groups have a military wing\"\n",
      "   Discarding \"The financial/media concern\"\n",
      "   Discarding \"Both countries are in Western Asia\"\n",
      "   Correcting \"FOOTBALL TEAM\" to \"Football team\"\n",
      "Object loaded from ../results/task_annotation/v2_1/results/batch_03_complete.csv\n",
      "   Discarding \"The convicted Hynix managers/directors\"\n",
      "   Discarding \"The areas that include or are included by Eurasia\"\n",
      "Object loaded from ../results/task_annotation/v2_2/results/batch_04_complete.csv\n",
      "   Discarding \"Are in European territory\"\n",
      "   Discarding \"The states that have seen declining enrollment in Medicaid\"\n",
      "Object loaded from ../results/task_annotation/v2_2/results/batch_05_complete.csv\n",
      "   Discarding \"The director/choreographers\"\n",
      "   Discarding \"The writer/directors\"\n",
      "Final length of annotations: 2100\n",
      "Done (elapsed time: 2s).\n",
      "\n",
      "Filtering the annotations...\n",
      "Criterion: at least 5 assignments per worker.\n",
      "Annotations filtered: 6262 left (37 deleted).\n",
      "Done (elapsed time: 0s).\n",
      "\n",
      "Computing the modeling task...\n",
      "Done (elapsed time: 1s).\n",
      "\n",
      "Done (elapsed time: 4s).\n",
      "\n",
      "Raw data imported (1718 samples).\n",
      "Split into train (1030, 60%), valid (344, 20%) and test (344, 20%) sets.\n"
     ]
    }
   ],
   "source": [
    "pipeline = Pipeline(use_k_fold=use_k_fold)\n",
    "pipeline.process_data(batch_size=batch_size,\n",
    "                      drop_last=drop_last,\n",
    "                      test_proportion=test_proportion,\n",
    "                      valid_proportion=valid_proportion,\n",
    "                      k=k_k_fold)"
   ]
  },
  {
   "cell_type": "markdown",
   "metadata": {},
   "source": [
    "## Metrics"
   ]
  },
  {
   "cell_type": "code",
   "execution_count": 4,
   "metadata": {},
   "outputs": [],
   "source": [
    "scores_names = [\n",
    "    'average_precision', \n",
    "    'precision_at_k', \n",
    "    'recall_at_k', \n",
    "    'reciprocal_best_rank', \n",
    "    'reciprocal_average_rank', \n",
    "    'ndcg'\n",
    "]\n",
    "n_updates = 200"
   ]
  },
  {
   "cell_type": "markdown",
   "metadata": {},
   "source": [
    "## Random"
   ]
  },
  {
   "cell_type": "code",
   "execution_count": 5,
   "metadata": {},
   "outputs": [],
   "source": [
    "from modeling.models import RandomBaseline\n",
    "\n",
    "model = RandomBaseline(scores_names=scores_names)\n",
    "\n",
    "pipeline.preview_data(model=model,\n",
    "                      include_valid=True)"
   ]
  },
  {
   "cell_type": "code",
   "execution_count": 6,
   "metadata": {},
   "outputs": [
    {
     "name": "stdout",
     "output_type": "stream",
     "text": [
      "Evaluation of the model...\n",
      "\n"
     ]
    },
    {
     "data": {
      "application/vnd.jupyter.widget-view+json": {
       "model_id": "34c46fe3691440e5b7aba516c33ed7bb",
       "version_major": 2,
       "version_minor": 0
      },
      "text/plain": [
       "HBox(children=(FloatProgress(value=0.0, max=11927.0), HTML(value='')))"
      ]
     },
     "metadata": {},
     "output_type": "display_data"
    },
    {
     "name": "stdout",
     "output_type": "stream",
     "text": [
      "\n",
      "Test Score: 0.07633\n",
      "Evaluation of the model...\n",
      "\n"
     ]
    },
    {
     "data": {
      "application/vnd.jupyter.widget-view+json": {
       "model_id": "e392bf9223ef4788b0441e732bcc4798",
       "version_major": 2,
       "version_minor": 0
      },
      "text/plain": [
       "HBox(children=(FloatProgress(value=0.0, max=344.0), HTML(value='')))"
      ]
     },
     "metadata": {},
     "output_type": "display_data"
    },
    {
     "name": "stdout",
     "output_type": "stream",
     "text": [
      "\n",
      "Test Score: 0.01269\n"
     ]
    }
   ],
   "source": [
    "pipeline.evaluate_baseline(model=model,\n",
    "                           n_updates=n_updates)"
   ]
  },
  {
   "cell_type": "code",
   "execution_count": 7,
   "metadata": {
    "scrolled": false
   },
   "outputs": [
    {
     "name": "stdout",
     "output_type": "stream",
     "text": [
      "average_precision: training set 0.07633 validation set 0.01269\n",
      "precision_at_k: training set 0.01774 validation set 0.00250\n",
      "recall_at_k: training set 0.16051 validation set 0.00833\n",
      "reciprocal_best_rank: training set 0.07934 validation set 0.02349\n",
      "reciprocal_average_rank: training set 0.07128 validation set 0.00398\n",
      "ndcg: training set nan validation set 0.00649\n"
     ]
    }
   ],
   "source": [
    "model.display_metrics()"
   ]
  },
  {
   "cell_type": "code",
   "execution_count": 8,
   "metadata": {},
   "outputs": [
    {
     "name": "stdout",
     "output_type": "stream",
     "text": [
      "\n",
      "Entities (location): New York City,  New York State\n",
      "Scores of the batch: average_precision: 0.00482, precision_at_k: 0.00000, recall_at_k: 0.00000, reciprocal_best_rank: 0.00282, reciprocal_average_rank: 0.00249, ndcg: 0.00000\n",
      "1: political parties (1.000)\n",
      "2: pension cutters (0.996)\n",
      "3: western asian places (0.996)\n",
      "4: neighboring republics (0.994)\n",
      "5: islands (0.993)\n",
      "6: moldova region (0.990)\n",
      "7: european territories (0.990)\n",
      "8: major political parties (0.987)\n",
      "9: north asian countries (0.987)\n",
      "10: anti-west nations (0.982)\n",
      "\n",
      "Entities (org): Magna International Inc.,  Onex Corp.\n",
      "Scores of the batch: average_precision: 0.02020, precision_at_k: 0.00000, recall_at_k: 0.00000, reciprocal_best_rank: 0.02941, reciprocal_average_rank: 0.00926, ndcg: 0.00000\n",
      "1: opposing parties (0.996)\n",
      "2: professional sports teams (0.988)\n",
      "3: american pharmaceutical company (0.984)\n",
      "4: transportation companies (0.982)\n",
      "5: transportation entities (0.982)\n",
      "6: american professional basketball teams (0.982)\n",
      "7: institutes (0.980)\n",
      "8: churches (0.978)\n",
      "9: companies involved in the proposal (0.975)\n",
      "10: pharmaceutical companies (0.974)\n",
      "\n",
      "Entities (person): Richard Reeves,  Ronald Wilson Reagan\n",
      "Scores of the batch: average_precision: 0.00335, precision_at_k: 0.00000, recall_at_k: 0.00000, reciprocal_best_rank: 0.00276, reciprocal_average_rank: 0.00230, ndcg: 0.00000\n",
      "1: billionaire businessmen (0.998)\n",
      "2: iranian politicians (0.997)\n",
      "3: chess grandmasters (0.995)\n",
      "4: pyote workers (0.989)\n",
      "5: people involved in the theater (0.987)\n",
      "6: american statesmen (0.986)\n",
      "7: criminal proceeding participants (0.985)\n",
      "8: nascar drivers (0.984)\n",
      "9: italian (0.982)\n",
      "10: playwrights (0.981)\n",
      "\n",
      "Entities (person): Condoleezza Rice,  Ehud Olmert,  Mahmoud Abbas\n",
      "Scores of the batch: average_precision: 0.00114, precision_at_k: 0.00000, recall_at_k: 0.00000, reciprocal_best_rank: 0.00114, reciprocal_average_rank: 0.00114, ndcg: 0.00000\n",
      "1: lawmakers (1.000)\n",
      "2: individuals who's last name is stephen (1.000)\n",
      "3: former classmates (0.999)\n",
      "4: animal lovers (0.998)\n",
      "5: hispanics (0.997)\n",
      "6: singer (0.993)\n",
      "7: politician (0.991)\n",
      "8: co-founders (0.990)\n",
      "9: mathematicians (0.988)\n",
      "10: american performers (0.988)\n",
      "\n",
      "Entities (person): Billy Crudup,  David Hyde Pierce,  Frank Langella,  John Gallagher,  Steven Sater,  Tom Stoppard\n",
      "Scores of the batch: average_precision: 0.00535, precision_at_k: 0.00000, recall_at_k: 0.00000, reciprocal_best_rank: 0.00529, reciprocal_average_rank: 0.00358, ndcg: 0.00000\n",
      "1: ceos (0.998)\n",
      "2: french politicians (0.998)\n",
      "3: labour party leaders (0.997)\n",
      "4: american authors (0.997)\n",
      "5: comedians (0.997)\n",
      "6: novelists (0.996)\n",
      "7: an american democratic party politicians (0.996)\n",
      "8: businessmen (0.995)\n",
      "9: american soldiers (0.994)\n",
      "10: football executives (0.993)\n"
     ]
    }
   ],
   "source": [
    "pipeline.explain_model(model=model, \n",
    "                       display_explanations=True,\n",
    "                       n_samples=5,\n",
    "                       n_answers=10,\n",
    "                       scores_names=[\n",
    "                           'average_precision', \n",
    "                           'precision_at_k', \n",
    "                           'recall_at_k', \n",
    "                           'reciprocal_best_rank', \n",
    "                           'reciprocal_average_rank', \n",
    "                           'ndcg'\n",
    "                       ])"
   ]
  },
  {
   "cell_type": "markdown",
   "metadata": {},
   "source": [
    "## Counts"
   ]
  },
  {
   "cell_type": "code",
   "execution_count": 9,
   "metadata": {},
   "outputs": [
    {
     "name": "stdout",
     "output_type": "stream",
     "text": [
      "Learning answers counts...\n"
     ]
    },
    {
     "data": {
      "application/vnd.jupyter.widget-view+json": {
       "model_id": "7d1a0a6eb5d44ce9ade6da8b594a40bc",
       "version_major": 2,
       "version_minor": 0
      },
      "text/plain": [
       "HBox(children=(FloatProgress(value=0.0, max=12271.0), HTML(value='')))"
      ]
     },
     "metadata": {},
     "output_type": "display_data"
    },
    {
     "name": "stdout",
     "output_type": "stream",
     "text": [
      "\n"
     ]
    }
   ],
   "source": [
    "from modeling.models import CountsBaseline\n",
    "\n",
    "model = CountsBaseline(scores_names=scores_names)\n",
    "\n",
    "pipeline.preview_data(model=model,\n",
    "                      include_valid=True)"
   ]
  },
  {
   "cell_type": "code",
   "execution_count": 10,
   "metadata": {
    "scrolled": true
   },
   "outputs": [
    {
     "name": "stdout",
     "output_type": "stream",
     "text": [
      "Evaluation of the model...\n",
      "\n"
     ]
    },
    {
     "data": {
      "application/vnd.jupyter.widget-view+json": {
       "model_id": "3033fb265b434a1498e86868656c7063",
       "version_major": 2,
       "version_minor": 0
      },
      "text/plain": [
       "HBox(children=(FloatProgress(value=0.0, max=11927.0), HTML(value='')))"
      ]
     },
     "metadata": {},
     "output_type": "display_data"
    },
    {
     "name": "stdout",
     "output_type": "stream",
     "text": [
      "\n",
      "Test Score: 0.44661\n",
      "Evaluation of the model...\n",
      "\n"
     ]
    },
    {
     "data": {
      "application/vnd.jupyter.widget-view+json": {
       "model_id": "d7f333b648fd43e4958f246d04ec5daa",
       "version_major": 2,
       "version_minor": 0
      },
      "text/plain": [
       "HBox(children=(FloatProgress(value=0.0, max=344.0), HTML(value='')))"
      ]
     },
     "metadata": {},
     "output_type": "display_data"
    },
    {
     "name": "stdout",
     "output_type": "stream",
     "text": [
      "\n",
      "Test Score: 0.20347\n"
     ]
    }
   ],
   "source": [
    "pipeline.evaluate_baseline(model=model,\n",
    "                           n_updates=n_updates)"
   ]
  },
  {
   "cell_type": "code",
   "execution_count": 11,
   "metadata": {
    "scrolled": true
   },
   "outputs": [
    {
     "name": "stdout",
     "output_type": "stream",
     "text": [
      "average_precision: training set 0.44661 validation set 0.20347\n",
      "precision_at_k: training set 0.07283 validation set 0.09400\n",
      "recall_at_k: training set 0.66021 validation set 0.35242\n",
      "reciprocal_best_rank: training set 0.46137 validation set 0.35652\n",
      "reciprocal_average_rank: training set 0.42198 validation set 0.06037\n",
      "ndcg: training set nan validation set 0.27141\n"
     ]
    }
   ],
   "source": [
    "model.display_metrics()"
   ]
  },
  {
   "cell_type": "code",
   "execution_count": 12,
   "metadata": {
    "scrolled": false
   },
   "outputs": [
    {
     "name": "stdout",
     "output_type": "stream",
     "text": [
      "\n",
      "Entities (person): Amanda Plummer,  Michael Wilson,  Tennessee Williams\n",
      "Scores of the batch: average_precision: 0.14266, precision_at_k: 0.10000, recall_at_k: 0.33333, reciprocal_best_rank: 0.33333, reciprocal_average_rank: 0.00362, ndcg: 0.23464\n",
      "1: politicians (186)\n",
      "2: political powers (141)\n",
      "3: entertainers (92)\n",
      "4: american politicians (78)\n",
      "5: americans (63)\n",
      "6: men (45)\n",
      "7: artists (32)\n",
      "8: businessmen (32)\n",
      "9: actors (31)\n",
      "10: political figures (23)\n",
      "\n",
      "Entities (org): Coleman Co.,  Morgan Stanley\n",
      "Scores of the batch: average_precision: 0.50000, precision_at_k: 0.10000, recall_at_k: 1.00000, reciprocal_best_rank: 0.50000, reciprocal_average_rank: 0.50000, ndcg: 0.63093\n",
      "1: political powers (141)\n",
      "2: companies (26)\n",
      "3: musicians (13)\n",
      "4: corporations (9)\n",
      "5: tech companies (8)\n",
      "6: technology companies (7)\n",
      "7: political entities (5)\n",
      "8: business partners (4)\n",
      "9: palestinian organizations (4)\n",
      "10: steel producers (4)\n",
      "\n",
      "Entities (location): Iran,  Iraq\n",
      "Scores of the batch: average_precision: 0.35379, precision_at_k: 0.30000, recall_at_k: 0.75000, reciprocal_best_rank: 0.33333, reciprocal_average_rank: 0.11111, ndcg: 0.48527\n",
      "1: political powers (141)\n",
      "2: nations (129)\n",
      "3: countries (125)\n",
      "4: asian countries (66)\n",
      "5: middle eastern countries (57)\n",
      "6: western asian countries (48)\n",
      "7: regions (36)\n",
      "8: european countries (34)\n",
      "9: world powers (28)\n",
      "10: western asia countries (24)\n",
      "\n",
      "Entities (person): Edward William Elgar,  Frederick Delius\n",
      "Scores of the batch: average_precision: 0.00628, precision_at_k: 0.00000, recall_at_k: 0.00000, reciprocal_best_rank: 0.00855, reciprocal_average_rank: 0.00325, ndcg: 0.00000\n",
      "1: politicians (186)\n",
      "2: political powers (141)\n",
      "3: entertainers (92)\n",
      "4: american politicians (78)\n",
      "5: americans (63)\n",
      "6: men (45)\n",
      "7: artists (32)\n",
      "8: businessmen (32)\n",
      "9: actors (31)\n",
      "10: political figures (23)\n",
      "\n",
      "Entities (org): Chicago Bears,  New Orleans Saints\n",
      "Scores of the batch: average_precision: 0.04193, precision_at_k: 0.00000, recall_at_k: 0.00000, reciprocal_best_rank: 0.05882, reciprocal_average_rank: 0.01775, ndcg: 0.00000\n",
      "1: political powers (141)\n",
      "2: companies (26)\n",
      "3: musicians (13)\n",
      "4: corporations (9)\n",
      "5: tech companies (8)\n",
      "6: technology companies (7)\n",
      "7: political entities (5)\n",
      "8: rivals (4)\n",
      "9: transportation companies (4)\n",
      "10: steel producers (4)\n"
     ]
    }
   ],
   "source": [
    "pipeline.explain_model(model=model, \n",
    "                       display_explanations=True,\n",
    "                       n_samples=5,\n",
    "                       n_answers=10,\n",
    "                       scores_names=[\n",
    "                           'average_precision', \n",
    "                           'precision_at_k', \n",
    "                           'recall_at_k', \n",
    "                           'reciprocal_best_rank', \n",
    "                           'reciprocal_average_rank', \n",
    "                           'ndcg'\n",
    "                       ])"
   ]
  },
  {
   "cell_type": "markdown",
   "metadata": {},
   "source": [
    "## Summaries Counts"
   ]
  },
  {
   "cell_type": "code",
   "execution_count": 13,
   "metadata": {},
   "outputs": [],
   "source": [
    "from modeling.models import SummariesCountBaseline\n",
    "\n",
    "model = SummariesCountBaseline(scores_names=scores_names)\n",
    "\n",
    "pipeline.preview_data(model=model, \n",
    "                      include_valid=True)"
   ]
  },
  {
   "cell_type": "code",
   "execution_count": 14,
   "metadata": {},
   "outputs": [
    {
     "name": "stdout",
     "output_type": "stream",
     "text": [
      "Evaluation of the model...\n",
      "\n"
     ]
    },
    {
     "data": {
      "application/vnd.jupyter.widget-view+json": {
       "model_id": "a77fe1b25be54e56b1ba5894ecf23023",
       "version_major": 2,
       "version_minor": 0
      },
      "text/plain": [
       "HBox(children=(FloatProgress(value=0.0, max=11927.0), HTML(value='')))"
      ]
     },
     "metadata": {},
     "output_type": "display_data"
    },
    {
     "name": "stdout",
     "output_type": "stream",
     "text": [
      "\n",
      "Test Score: 0.18011\n",
      "Evaluation of the model...\n",
      "\n"
     ]
    },
    {
     "data": {
      "application/vnd.jupyter.widget-view+json": {
       "model_id": "9e717fb04fa14a50b82e4aba1f19dbd2",
       "version_major": 2,
       "version_minor": 0
      },
      "text/plain": [
       "HBox(children=(FloatProgress(value=0.0, max=344.0), HTML(value='')))"
      ]
     },
     "metadata": {},
     "output_type": "display_data"
    },
    {
     "name": "stdout",
     "output_type": "stream",
     "text": [
      "\n",
      "Test Score: 0.06380\n"
     ]
    }
   ],
   "source": [
    "pipeline.evaluate_baseline(model=model,\n",
    "                           n_updates=n_updates)"
   ]
  },
  {
   "cell_type": "code",
   "execution_count": 15,
   "metadata": {
    "scrolled": false
   },
   "outputs": [
    {
     "name": "stdout",
     "output_type": "stream",
     "text": [
      "average_precision: training set 0.18011 validation set 0.06380\n",
      "precision_at_k: training set 0.03725 validation set 0.03300\n",
      "recall_at_k: training set 0.33532 validation set 0.12283\n",
      "reciprocal_best_rank: training set 0.18768 validation set 0.11144\n",
      "reciprocal_average_rank: training set 0.16863 validation set 0.01694\n",
      "ndcg: training set nan validation set 0.08341\n"
     ]
    }
   ],
   "source": [
    "model.display_metrics()"
   ]
  },
  {
   "cell_type": "code",
   "execution_count": 16,
   "metadata": {
    "scrolled": false
   },
   "outputs": [
    {
     "name": "stdout",
     "output_type": "stream",
     "text": [
      "\n",
      "Entities (location): Baghdad,  Iraq\n",
      "Scores of the batch: average_precision: 0.06845, precision_at_k: 0.00000, recall_at_k: 0.00000, reciprocal_best_rank: 0.07143, reciprocal_average_rank: 0.03333, ndcg: 0.00000\n",
      "1: country and its capital city (7)\n",
      "   capital, city, city, capital, country, capital, city\n",
      "2: republic of iraq (5)\n",
      "   iraq, iraq, republic, iraq, iraq\n",
      "3: areas in iraq (4)\n",
      "   iraq, iraq, iraq, iraq\n",
      "4: cities in iraq (4)\n",
      "   iraq, iraq, iraq, iraq\n",
      "5: places in west asia (4)\n",
      "   west, asia, asia, west\n",
      "6: capital cities (3)\n",
      "   capital, capital, capital\n",
      "7: areas in western asia (3)\n",
      "   asia, western, asia\n",
      "8: western asia nations (3)\n",
      "   asia, western, asia\n",
      "9: major united states city and the state nearby (3)\n",
      "   city, city, city\n",
      "10: western asia cities (3)\n",
      "   asia, western, asia\n",
      "\n",
      "Entities (person): George E. Pataki,  Larry A. Silverstein,  Norman Foster\n",
      "Scores of the batch: average_precision: 0.00496, precision_at_k: 0.00000, recall_at_k: 0.00000, reciprocal_best_rank: 0.00676, reciprocal_average_rank: 0.00257, ndcg: 0.00000\n",
      "1: candidates for new york state comptroller (9)\n",
      "   new, york, new, york, state, state, new, york, new\n",
      "2: onetime rivals for the democratic nomination for governor of new york (9)\n",
      "   governor, new, york, new, york, governor, new, york, new\n",
      "3: former new york city bigwigs (7)\n",
      "   new, york, new, york, new, york, new\n",
      "4: new york government workers (7)\n",
      "   new, york, new, york, new, york, new\n",
      "5: new york democratic party politicians (7)\n",
      "   new, york, new, york, new, york, new\n",
      "6: new york city mayoral employees (7)\n",
      "   new, york, new, york, new, york, new\n",
      "7: new york city officials (7)\n",
      "   new, york, new, york, new, york, new\n",
      "8: employees of the new york city department of education (7)\n",
      "   new, york, new, york, new, york, new\n",
      "9: those associated with the new york yankees (7)\n",
      "   new, york, new, york, new, york, new\n",
      "10: new york city council members (7)\n",
      "   new, york, new, york, new, york, new\n",
      "\n",
      "Entities (org): Rosneft,  Yukos\n",
      "Scores of the batch: average_precision: 0.66667, precision_at_k: 0.20000, recall_at_k: 1.00000, reciprocal_best_rank: 1.00000, reciprocal_average_rank: 0.28571, ndcg: 0.83155\n",
      "1: russian oil companies (10)\n",
      "   oil, russian, russian, russian, oil, oil, russian, russian, russian, oil\n",
      "2: new england company (7)\n",
      "   company, company, company, company, company, company, company\n",
      "3: steel company (7)\n",
      "   company, company, company, company, company, company, company\n",
      "4: american company (7)\n",
      "   company, company, company, company, company, company, company\n",
      "5: american pharmaceutical company (7)\n",
      "   company, company, company, company, company, company, company\n",
      "6: oil companies (4)\n",
      "   oil, oil, oil, oil\n",
      "7: oil giants (4)\n",
      "   oil, oil, oil, oil\n",
      "8: oil corporations (4)\n",
      "   oil, oil, oil, oil\n",
      "9: branches of government (2)\n",
      "   government, government\n",
      "10: american government bodies (2)\n",
      "   government, government\n",
      "\n",
      "Entities (org): Coleman Co.,  Morgan Stanley\n",
      "Scores of the batch: average_precision: 0.00431, precision_at_k: 0.00000, recall_at_k: 0.00000, reciprocal_best_rank: 0.00431, reciprocal_average_rank: 0.00431, ndcg: 0.00000\n",
      "1: new york city organizations (3)\n",
      "   new, york, city\n",
      "2: american company (2)\n",
      "   american, company\n",
      "3: multinational aerospace corporation (2)\n",
      "   multinational, corporation\n",
      "4: new england company (2)\n",
      "   company, new\n",
      "5: components of american government (2)\n",
      "   american, government\n",
      "6: american pharmaceutical company (2)\n",
      "   american, company\n",
      "7: american government bodies (2)\n",
      "   american, government\n",
      "8: new york organizations (2)\n",
      "   new, york\n",
      "9: american multinational technology corporations (2)\n",
      "   american, multinational\n",
      "10: american government agencies (2)\n",
      "   american, government\n",
      "\n",
      "Entities (person): Adam Beach,  Jesse Bradford,  Ryan Phillippe\n",
      "Scores of the batch: average_precision: 0.00738, precision_at_k: 0.00000, recall_at_k: 0.00000, reciprocal_best_rank: 0.01149, reciprocal_average_rank: 0.00286, ndcg: 0.00000\n",
      "1: film production artist (5)\n",
      "   film, artist, film, film, film\n",
      "2: film producers (4)\n",
      "   film, film, film, film\n",
      "3: japanese women in the film industry (4)\n",
      "   film, film, film, film\n",
      "4: aspects of the german film world (4)\n",
      "   film, film, film, film\n",
      "5: creators of the film (4)\n",
      "   film, film, film, film\n",
      "6: english film directors (4)\n",
      "   film, film, film, film\n",
      "7: film figures (4)\n",
      "   film, film, film, film\n",
      "8: in the film industry (4)\n",
      "   film, film, film, film\n",
      "9: film celebrities (4)\n",
      "   film, film, film, film\n",
      "10: contributors to the film (4)\n",
      "   film, film, film, film\n"
     ]
    }
   ],
   "source": [
    "pipeline.explain_model(model=model, \n",
    "                       display_explanations=True,\n",
    "                       n_samples=5,\n",
    "                       n_answers=10,\n",
    "                       scores_names=[\n",
    "                           'average_precision', \n",
    "                           'precision_at_k', \n",
    "                           'recall_at_k', \n",
    "                           'reciprocal_best_rank', \n",
    "                           'reciprocal_average_rank', \n",
    "                           'ndcg'\n",
    "                       ])"
   ]
  },
  {
   "cell_type": "markdown",
   "metadata": {},
   "source": [
    "## Summaries Soft Overlap"
   ]
  },
  {
   "cell_type": "code",
   "execution_count": 19,
   "metadata": {},
   "outputs": [],
   "source": [
    "from modeling.models import SummariesSoftOverlapBaseline\n",
    "\n",
    "model = SummariesSoftOverlapBaseline(scores_names=scores_names)\n",
    "\n",
    "pipeline.preview_data(model=model,\n",
    "                      include_valid=True)"
   ]
  },
  {
   "cell_type": "code",
   "execution_count": 20,
   "metadata": {},
   "outputs": [
    {
     "name": "stdout",
     "output_type": "stream",
     "text": [
      "Evaluation of the model...\n",
      "\n"
     ]
    },
    {
     "data": {
      "application/vnd.jupyter.widget-view+json": {
       "model_id": "66bd622b5fb443388341fe92b2e65d42",
       "version_major": 2,
       "version_minor": 0
      },
      "text/plain": [
       "HBox(children=(FloatProgress(value=0.0, max=11927.0), HTML(value='')))"
      ]
     },
     "metadata": {},
     "output_type": "display_data"
    },
    {
     "name": "stdout",
     "output_type": "stream",
     "text": [
      "\n",
      "Test Score: 0.15158\n",
      "Evaluation of the model...\n",
      "\n"
     ]
    },
    {
     "data": {
      "application/vnd.jupyter.widget-view+json": {
       "model_id": "efb6439c915a4505a2581a6570784a40",
       "version_major": 2,
       "version_minor": 0
      },
      "text/plain": [
       "HBox(children=(FloatProgress(value=0.0, max=344.0), HTML(value='')))"
      ]
     },
     "metadata": {},
     "output_type": "display_data"
    },
    {
     "name": "stdout",
     "output_type": "stream",
     "text": [
      "\n",
      "Test Score: 0.04528\n"
     ]
    }
   ],
   "source": [
    "pipeline.evaluate_baseline(model=model,\n",
    "                           n_updates=n_updates)"
   ]
  },
  {
   "cell_type": "code",
   "execution_count": 21,
   "metadata": {
    "scrolled": false
   },
   "outputs": [
    {
     "name": "stdout",
     "output_type": "stream",
     "text": [
      "average_precision: training set 0.15158 validation set 0.04528\n",
      "precision_at_k: training set 0.03643 validation set 0.02100\n",
      "recall_at_k: training set 0.32802 validation set 0.07533\n",
      "reciprocal_best_rank: training set 0.15771 validation set 0.08334\n",
      "reciprocal_average_rank: training set 0.14200 validation set 0.00994\n",
      "ndcg: training set nan validation set 0.05196\n"
     ]
    }
   ],
   "source": [
    "model.display_metrics()"
   ]
  },
  {
   "cell_type": "code",
   "execution_count": 22,
   "metadata": {
    "scrolled": false
   },
   "outputs": [
    {
     "name": "stdout",
     "output_type": "stream",
     "text": [
      "\n",
      "Entities (location): Dubai,  New Jersey\n",
      "Scores of the batch: average_precision: 0.00525, precision_at_k: 0.00000, recall_at_k: 0.00000, reciprocal_best_rank: 0.00383, reciprocal_average_rank: 0.00274, ndcg: 0.00000\n",
      "1: major united states city and the state nearby (5)\n",
      "   major, city, states, united, state\n",
      "2: us gulf coast states (4)\n",
      "   states, gulf, us, coast\n",
      "3: new york state region (4)\n",
      "   york, state, region, new\n",
      "4: middle east region (3)\n",
      "   middle, east, region\n",
      "5: states in the southern region of the united states (3)\n",
      "   states, united, region\n",
      "6: states in the southeast region of america (3)\n",
      "   states, southeast, region\n",
      "7: areas in north central united states (3)\n",
      "   states, united, north\n",
      "8: major new york cities (3)\n",
      "   york, major, new\n",
      "9: areas in new york state (3)\n",
      "   york, state, new\n",
      "10: entities of the state of new jersey (3)\n",
      "   jersey, state, new\n",
      "\n",
      "Entities (person): Mickey Mantle,  Peter Golenbock\n",
      "Scores of the batch: average_precision: 0.33665, precision_at_k: 0.10000, recall_at_k: 0.33333, reciprocal_best_rank: 1.00000, reciprocal_average_rank: 0.00301, ndcg: 0.46928\n",
      "1: those associated with the new york yankees (3)\n",
      "   york, new, yankees\n",
      "2: former major league baseball players (3)\n",
      "   major, league, baseball\n",
      "3: new york city officials (2)\n",
      "   york, new\n",
      "4: new york government workers (2)\n",
      "   york, new\n",
      "5: employees of the new york city department of education (2)\n",
      "   york, new\n",
      "6: new york men (2)\n",
      "   york, new\n",
      "7: new york residents (2)\n",
      "   york, new\n",
      "8: american baseball workers (2)\n",
      "   baseball, american\n",
      "9: american professional basketball players (2)\n",
      "   professional, american\n",
      "10: american baseball executives (2)\n",
      "   baseball, american\n",
      "\n",
      "Entities (person): J. Steven Griles,  Jack Abramoff\n",
      "Scores of the batch: average_precision: 0.02830, precision_at_k: 0.00000, recall_at_k: 0.00000, reciprocal_best_rank: 0.02381, reciprocal_average_rank: 0.01942, ndcg: 0.00000\n",
      "1: former white house counsels (2)\n",
      "   white, house\n",
      "2: people involved in the film industry (2)\n",
      "   people, industry\n",
      "3: people in the theater industry (2)\n",
      "   people, industry\n",
      "4: united states army generals (2)\n",
      "   states, united\n",
      "5: american theatrical producer (2)\n",
      "   producer, american\n",
      "6: american movie entertainers (2)\n",
      "   movie, american\n",
      "7: american technology businessman (2)\n",
      "   businessman, american\n",
      "8: american lobbyist (2)\n",
      "   lobbyist, american\n",
      "9: united states political figures (2)\n",
      "   states, united\n",
      "10: white house staff (2)\n",
      "   white, house\n",
      "\n",
      "Entities (person): Billy Crudup,  David Hyde Pierce,  Duncan Sheik,  Jack O'Brien,  Jennifer Ehle,  Julie White\n",
      "Scores of the batch: average_precision: 0.01230, precision_at_k: 0.00000, recall_at_k: 0.00000, reciprocal_best_rank: 0.01562, reciprocal_average_rank: 0.00295, ndcg: 0.00000\n",
      "1: men involved in tony award winning productions (3)\n",
      "   award, tony, winning\n",
      "2: american public servants (2)\n",
      "   american, public\n",
      "3: men involved in tony nominated plays (2)\n",
      "   tony, nominated\n",
      "4: tv show cast (2)\n",
      "   tv, show\n",
      "5: american television journalists (2)\n",
      "   television, american\n",
      "6: american theatrical producer (2)\n",
      "   producer, american\n",
      "7: former american public servants (2)\n",
      "   american, public\n",
      "8: american public officials (2)\n",
      "   american, public\n",
      "9: american music aficionados (2)\n",
      "   music, american\n",
      "10: american public figures (2)\n",
      "   american, public\n",
      "\n",
      "Entities (person): Charles Goldman,  Diana Cooper\n",
      "Scores of the batch: average_precision: 0.00244, precision_at_k: 0.00000, recall_at_k: 0.00000, reciprocal_best_rank: 0.00262, reciprocal_average_rank: 0.00158, ndcg: 0.00000\n",
      "1: former american figure skaters (2)\n",
      "   american, figure\n",
      "2: american political players (1)\n",
      "   american\n",
      "3: american legal adversaries (1)\n",
      "   american\n",
      "4: former american senators (1)\n",
      "   american\n",
      "5: american screenwriters (1)\n",
      "   american\n",
      "6: american soldiers (1)\n",
      "   american\n",
      "7: american football icons (1)\n",
      "   american\n",
      "8: american technology businessman (1)\n",
      "   american\n",
      "9: american artists (1)\n",
      "   american\n",
      "10: american entertainment industry workers (1)\n",
      "   american\n"
     ]
    }
   ],
   "source": [
    "pipeline.explain_model(model=model, \n",
    "                       display_explanations=True,\n",
    "                       n_samples=5,\n",
    "                       n_answers=10,\n",
    "                       scores_names=[\n",
    "                           'average_precision', \n",
    "                           'precision_at_k', \n",
    "                           'recall_at_k', \n",
    "                           'reciprocal_best_rank', \n",
    "                           'reciprocal_average_rank', \n",
    "                           'ndcg'\n",
    "                       ])"
   ]
  },
  {
   "cell_type": "markdown",
   "metadata": {},
   "source": [
    "## Summaries Hard Overlap"
   ]
  },
  {
   "cell_type": "code",
   "execution_count": 23,
   "metadata": {},
   "outputs": [],
   "source": [
    "from modeling.models import SummariesHardOverlapBaseline\n",
    "\n",
    "model = SummariesHardOverlapBaseline(scores_names=scores_names)\n",
    "\n",
    "pipeline.preview_data(model=model,\n",
    "                      include_valid=True)"
   ]
  },
  {
   "cell_type": "code",
   "execution_count": 24,
   "metadata": {},
   "outputs": [
    {
     "name": "stdout",
     "output_type": "stream",
     "text": [
      "Evaluation of the model...\n",
      "\n"
     ]
    },
    {
     "data": {
      "application/vnd.jupyter.widget-view+json": {
       "model_id": "778db7cdcfd54d1aa44df735ff13960e",
       "version_major": 2,
       "version_minor": 0
      },
      "text/plain": [
       "HBox(children=(FloatProgress(value=0.0, max=11927.0), HTML(value='')))"
      ]
     },
     "metadata": {},
     "output_type": "display_data"
    },
    {
     "name": "stdout",
     "output_type": "stream",
     "text": [
      "\n",
      "Test Score: 0.16234\n",
      "Evaluation of the model...\n",
      "\n"
     ]
    },
    {
     "data": {
      "application/vnd.jupyter.widget-view+json": {
       "model_id": "c3ed475b64c74ec3b262f68084a57522",
       "version_major": 2,
       "version_minor": 0
      },
      "text/plain": [
       "HBox(children=(FloatProgress(value=0.0, max=344.0), HTML(value='')))"
      ]
     },
     "metadata": {},
     "output_type": "display_data"
    },
    {
     "name": "stdout",
     "output_type": "stream",
     "text": [
      "\n",
      "Test Score: 0.03773\n"
     ]
    }
   ],
   "source": [
    "pipeline.evaluate_baseline(model=model,\n",
    "                           n_updates=n_updates)"
   ]
  },
  {
   "cell_type": "code",
   "execution_count": 25,
   "metadata": {
    "scrolled": false
   },
   "outputs": [
    {
     "name": "stdout",
     "output_type": "stream",
     "text": [
      "average_precision: training set 0.16234 validation set 0.03773\n",
      "precision_at_k: training set 0.03287 validation set 0.01700\n",
      "recall_at_k: training set 0.29496 validation set 0.06267\n",
      "reciprocal_best_rank: training set 0.17024 validation set 0.07706\n",
      "reciprocal_average_rank: training set 0.15169 validation set 0.00757\n",
      "ndcg: training set nan validation set 0.04424\n"
     ]
    }
   ],
   "source": [
    "model.display_metrics()"
   ]
  },
  {
   "cell_type": "code",
   "execution_count": 26,
   "metadata": {
    "scrolled": false
   },
   "outputs": [
    {
     "name": "stdout",
     "output_type": "stream",
     "text": [
      "\n",
      "Entities (person): John G. Rowland,  M. Jodi Rell\n",
      "Scores of the batch: average_precision: 0.00129, precision_at_k: 0.00000, recall_at_k: 0.00000, reciprocal_best_rank: 0.00129, reciprocal_average_rank: 0.00129, ndcg: 0.00000\n",
      "1: american politician (2)\n",
      "   american, politician\n",
      "2: american legal professionals (1)\n",
      "   american\n",
      "3: american professional basketball players (1)\n",
      "   american\n",
      "4: american politically inclined (1)\n",
      "   american\n",
      "5: politician and the organ builder (1)\n",
      "   politician\n",
      "6: american attorneys (1)\n",
      "   american\n",
      "7: american men named robert (1)\n",
      "   american\n",
      "8: onetime rivals for the democratic nomination for governor of new york (1)\n",
      "   governor\n",
      "9: american producers (1)\n",
      "   american\n",
      "10: american statesmen (1)\n",
      "   american\n",
      "\n",
      "Entities (person): David Hyde Pierce,  Frank Langella,  John Gallagher,  Steven Sater\n",
      "Scores of the batch: average_precision: 0.00438, precision_at_k: 0.00000, recall_at_k: 0.00000, reciprocal_best_rank: 0.00431, reciprocal_average_rank: 0.00216, ndcg: 0.00000\n",
      "1: former south american leaders (1)\n",
      "   american\n",
      "2: american artists (1)\n",
      "   american\n",
      "3: american politician (1)\n",
      "   american\n",
      "4: american baseball workers (1)\n",
      "   american\n",
      "5: american automotive executives (1)\n",
      "   american\n",
      "6: american theatre professionals (1)\n",
      "   american\n",
      "7: american officials (1)\n",
      "   american\n",
      "8: american public officials (1)\n",
      "   american\n",
      "9: american diplomats (1)\n",
      "   american\n",
      "10: american composers (1)\n",
      "   american\n",
      "\n",
      "Entities (person): Bill Clinton,  Tony Blair,  Warren M. Christopher\n",
      "Scores of the batch: average_precision: 0.00802, precision_at_k: 0.00000, recall_at_k: 0.00000, reciprocal_best_rank: 0.01282, reciprocal_average_rank: 0.00286, ndcg: 0.00000\n",
      "1: politician and the organ builder (1)\n",
      "   politician\n",
      "2: american politician (1)\n",
      "   politician\n",
      "3: politician (1)\n",
      "   politician\n",
      "4: advisers (0)\n",
      "5: japanese women in the film industry (0)\n",
      "6: media icons (0)\n",
      "7: film actors (0)\n",
      "8: some of the officers questioning the events (0)\n",
      "9: media figures (0)\n",
      "10: tennis players (0)\n",
      "\n",
      "Entities (location): Baghdad,  Israel,  Lebanon\n",
      "Scores of the batch: average_precision: 0.03794, precision_at_k: 0.00000, recall_at_k: 0.00000, reciprocal_best_rank: 0.06667, reciprocal_average_rank: 0.00862, ndcg: 0.00000\n",
      "1: places in west asia (2)\n",
      "   west, asia\n",
      "2: western asia cities (1)\n",
      "   asia\n",
      "3: western asia areas (1)\n",
      "   asia\n",
      "4: west asian countries (1)\n",
      "   west\n",
      "5: western asia nations (1)\n",
      "   asia\n",
      "6: west asian locations (1)\n",
      "   west\n",
      "7: western asia countreis (1)\n",
      "   asia\n",
      "8: areas in western asia (1)\n",
      "   asia\n",
      "9: west african places (1)\n",
      "   west\n",
      "10: west african countries (1)\n",
      "   west\n",
      "\n",
      "Entities (location): New Jersey,  New York City\n",
      "Scores of the batch: average_precision: 0.00656, precision_at_k: 0.00000, recall_at_k: 0.00000, reciprocal_best_rank: 0.00694, reciprocal_average_rank: 0.00317, ndcg: 0.00000\n",
      "1: major united states city and the state nearby (3)\n",
      "   states, united, city\n",
      "2: seats of government in the united states (2)\n",
      "   states, united\n",
      "3: united states regions (2)\n",
      "   states, united\n",
      "4: states in the southern region of the united states (2)\n",
      "   states, united\n",
      "5: new york locations (2)\n",
      "   york, new\n",
      "6: new york region (2)\n",
      "   york, new\n",
      "7: new york state region (2)\n",
      "   york, new\n",
      "8: new york regions (2)\n",
      "   york, new\n",
      "9: new england states (2)\n",
      "   states, new\n",
      "10: new york locales (2)\n",
      "   york, new\n"
     ]
    }
   ],
   "source": [
    "pipeline.explain_model(model=model, \n",
    "                       display_explanations=True,\n",
    "                       n_samples=5,\n",
    "                       n_answers=10,\n",
    "                       scores_names=[\n",
    "                           'average_precision', \n",
    "                           'precision_at_k', \n",
    "                           'recall_at_k', \n",
    "                           'reciprocal_best_rank', \n",
    "                           'reciprocal_average_rank', \n",
    "                           'ndcg'\n",
    "                       ])"
   ]
  },
  {
   "cell_type": "markdown",
   "metadata": {},
   "source": [
    "## Closest Average Embedding"
   ]
  },
  {
   "cell_type": "code",
   "execution_count": 27,
   "metadata": {},
   "outputs": [
    {
     "name": "stdout",
     "output_type": "stream",
     "text": [
      "Initializing the Word2Vec pretrained embedding...\n"
     ]
    }
   ],
   "source": [
    "from modeling.models import ClosestAverageEmbedding\n",
    "\n",
    "model = ClosestAverageEmbedding(scores_names=scores_names)\n",
    "\n",
    "pipeline.preview_data(model=model,\n",
    "                      include_valid=True)"
   ]
  },
  {
   "cell_type": "code",
   "execution_count": null,
   "metadata": {},
   "outputs": [
    {
     "name": "stdout",
     "output_type": "stream",
     "text": [
      "Evaluation of the model...\n",
      "\n"
     ]
    },
    {
     "data": {
      "application/vnd.jupyter.widget-view+json": {
       "model_id": "087d0098270245ccb307b93387ccfbdd",
       "version_major": 2,
       "version_minor": 0
      },
      "text/plain": [
       "HBox(children=(FloatProgress(value=0.0, max=11927.0), HTML(value='')))"
      ]
     },
     "metadata": {},
     "output_type": "display_data"
    }
   ],
   "source": [
    "pipeline.evaluate_baseline(model=model,\n",
    "                           n_updates=n_updates)"
   ]
  },
  {
   "cell_type": "code",
   "execution_count": null,
   "metadata": {
    "scrolled": false
   },
   "outputs": [],
   "source": [
    "model.display_metrics()"
   ]
  },
  {
   "cell_type": "code",
   "execution_count": null,
   "metadata": {},
   "outputs": [],
   "source": [
    "pipeline.explain_model(model=model, \n",
    "                       display_explanations=True,\n",
    "                       n_samples=5,\n",
    "                       n_answers=10,\n",
    "                       scores_names=[\n",
    "                           'average_precision', \n",
    "                           'precision_at_k', \n",
    "                           'recall_at_k', \n",
    "                           'reciprocal_best_rank', \n",
    "                           'reciprocal_average_rank', \n",
    "                           'ndcg'\n",
    "                       ])"
   ]
  },
  {
   "cell_type": "markdown",
   "metadata": {},
   "source": [
    "## Closest Hard Overlap Embedding"
   ]
  },
  {
   "cell_type": "code",
   "execution_count": 18,
   "metadata": {},
   "outputs": [],
   "source": [
    "from modeling.models import ClosestHardOverlapEmbedding\n",
    "\n",
    "model = ClosestHardOverlapEmbedding(scores_names=scores_names)\n",
    "\n",
    "pipeline.preview_data(model=model,\n",
    "                      include_valid=True)"
   ]
  },
  {
   "cell_type": "code",
   "execution_count": 7,
   "metadata": {},
   "outputs": [
    {
     "name": "stdout",
     "output_type": "stream",
     "text": [
      "Evaluation of the model...\n",
      "\n"
     ]
    },
    {
     "data": {
      "application/vnd.jupyter.widget-view+json": {
       "model_id": "",
       "version_major": 2,
       "version_minor": 0
      },
      "text/plain": [
       "HBox(children=(FloatProgress(value=0.0, max=11927.0), HTML(value='')))"
      ]
     },
     "metadata": {},
     "output_type": "display_data"
    },
    {
     "name": "stdout",
     "output_type": "stream",
     "text": [
      "\n",
      "Test Score: 0.07732\n",
      "Evaluation of the model...\n",
      "\n"
     ]
    },
    {
     "data": {
      "application/vnd.jupyter.widget-view+json": {
       "model_id": "",
       "version_major": 2,
       "version_minor": 0
      },
      "text/plain": [
       "HBox(children=(FloatProgress(value=0.0, max=344.0), HTML(value='')))"
      ]
     },
     "metadata": {},
     "output_type": "display_data"
    },
    {
     "name": "stdout",
     "output_type": "stream",
     "text": [
      "\n",
      "Test Score: 0.01160\n"
     ]
    }
   ],
   "source": [
    "pipeline.evaluate_baseline(model=model,\n",
    "                           n_updates=n_updates)"
   ]
  },
  {
   "cell_type": "code",
   "execution_count": 13,
   "metadata": {
    "scrolled": false
   },
   "outputs": [
    {
     "name": "stdout",
     "output_type": "stream",
     "text": [
      "0.07731831060910294\n",
      "0.011604027666229135\n",
      "average_precision: training set 0.07732 validation set 0.01160\n",
      "0.018228786475507547\n",
      "0.002666666706403097\n",
      "precision_at_k: training set 0.01823 validation set 0.00267\n"
     ]
    }
   ],
   "source": [
    "model.display_metrics()"
   ]
  },
  {
   "cell_type": "code",
   "execution_count": null,
   "metadata": {},
   "outputs": [],
   "source": [
    "pipeline.explain_model(model=model, \n",
    "                       display_explanations=True,\n",
    "                       n_samples=5,\n",
    "                       n_answers=10,\n",
    "                       scores_names=[\n",
    "                           'average_precision', \n",
    "                           'precision_at_k', \n",
    "                           'recall_at_k', \n",
    "                           'reciprocal_best_rank', \n",
    "                           'reciprocal_average_rank', \n",
    "                           'ndcg'\n",
    "                       ])"
   ]
  },
  {
   "cell_type": "markdown",
   "metadata": {},
   "source": [
    "## Closest Soft Overlap Embedding"
   ]
  },
  {
   "cell_type": "code",
   "execution_count": 18,
   "metadata": {},
   "outputs": [],
   "source": [
    "from modeling.models import ClosestSoftOverlapEmbedding\n",
    "\n",
    "model = ClosestSoftOverlapEmbedding(scores_names=scores_names)\n",
    "\n",
    "pipeline.preview_data(model=model,\n",
    "                      include_valid=True)"
   ]
  },
  {
   "cell_type": "code",
   "execution_count": 7,
   "metadata": {},
   "outputs": [
    {
     "name": "stdout",
     "output_type": "stream",
     "text": [
      "Evaluation of the model...\n",
      "\n"
     ]
    },
    {
     "data": {
      "application/vnd.jupyter.widget-view+json": {
       "model_id": "",
       "version_major": 2,
       "version_minor": 0
      },
      "text/plain": [
       "HBox(children=(FloatProgress(value=0.0, max=11927.0), HTML(value='')))"
      ]
     },
     "metadata": {},
     "output_type": "display_data"
    },
    {
     "name": "stdout",
     "output_type": "stream",
     "text": [
      "\n",
      "Test Score: 0.07732\n",
      "Evaluation of the model...\n",
      "\n"
     ]
    },
    {
     "data": {
      "application/vnd.jupyter.widget-view+json": {
       "model_id": "",
       "version_major": 2,
       "version_minor": 0
      },
      "text/plain": [
       "HBox(children=(FloatProgress(value=0.0, max=344.0), HTML(value='')))"
      ]
     },
     "metadata": {},
     "output_type": "display_data"
    },
    {
     "name": "stdout",
     "output_type": "stream",
     "text": [
      "\n",
      "Test Score: 0.01160\n"
     ]
    }
   ],
   "source": [
    "pipeline.evaluate_baseline(model=model,\n",
    "                           n_updates=n_updates)"
   ]
  },
  {
   "cell_type": "code",
   "execution_count": 13,
   "metadata": {
    "scrolled": false
   },
   "outputs": [
    {
     "name": "stdout",
     "output_type": "stream",
     "text": [
      "0.07731831060910294\n",
      "0.011604027666229135\n",
      "average_precision: training set 0.07732 validation set 0.01160\n",
      "0.018228786475507547\n",
      "0.002666666706403097\n",
      "precision_at_k: training set 0.01823 validation set 0.00267\n"
     ]
    }
   ],
   "source": [
    "model.display_metrics()"
   ]
  },
  {
   "cell_type": "code",
   "execution_count": null,
   "metadata": {},
   "outputs": [],
   "source": [
    "pipeline.explain_model(model=model, \n",
    "                       display_explanations=True,\n",
    "                       n_samples=5,\n",
    "                       n_answers=10,\n",
    "                       scores_names=[\n",
    "                           'average_precision', \n",
    "                           'precision_at_k', \n",
    "                           'recall_at_k', \n",
    "                           'reciprocal_best_rank', \n",
    "                           'reciprocal_average_rank', \n",
    "                           'ndcg'\n",
    "                       ])"
   ]
  },
  {
   "cell_type": "code",
   "execution_count": null,
   "metadata": {},
   "outputs": [],
   "source": []
  }
 ],
 "metadata": {
  "kernelspec": {
   "display_name": "Python 3",
   "language": "python",
   "name": "python3"
  },
  "language_info": {
   "codemirror_mode": {
    "name": "ipython",
    "version": 3
   },
   "file_extension": ".py",
   "mimetype": "text/x-python",
   "name": "python",
   "nbconvert_exporter": "python",
   "pygments_lexer": "ipython3",
   "version": "3.7.6"
  },
  "pycharm": {
   "stem_cell": {
    "cell_type": "raw",
    "metadata": {
     "collapsed": false
    },
    "source": []
   }
  },
  "toc": {
   "base_numbering": 1,
   "nav_menu": {},
   "number_sections": true,
   "sideBar": true,
   "skip_h1_title": false,
   "title_cell": "Table of Contents",
   "title_sidebar": "Contents",
   "toc_cell": false,
   "toc_position": {},
   "toc_section_display": true,
   "toc_window_display": false
  }
 },
 "nbformat": 4,
 "nbformat_minor": 2
}
