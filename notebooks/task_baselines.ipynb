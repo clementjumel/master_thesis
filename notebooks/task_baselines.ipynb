{
 "cells": [
  {
   "cell_type": "markdown",
   "metadata": {},
   "source": [
    "## Setup"
   ]
  },
  {
   "cell_type": "code",
   "execution_count": 2,
   "metadata": {
    "ExecuteTime": {
     "end_time": "2019-04-13T03:57:03.299844Z",
     "start_time": "2019-04-13T03:57:03.266445Z"
    },
    "pycharm": {
     "is_executing": false
    }
   },
   "outputs": [],
   "source": [
    "import sys\n",
    "sys.path.append('../')\n",
    "del sys\n",
    "%reload_ext autoreload\n",
    "%autoreload 2"
   ]
  },
  {
   "cell_type": "code",
   "execution_count": 3,
   "metadata": {
    "ExecuteTime": {
     "end_time": "2019-04-13T03:57:03.449865Z",
     "start_time": "2019-04-13T03:57:03.408497Z"
    },
    "pycharm": {
     "is_executing": false
    }
   },
   "outputs": [],
   "source": [
    "from modeling.pipeline import Pipeline"
   ]
  },
  {
   "cell_type": "markdown",
   "metadata": {},
   "source": [
    "## Display functions"
   ]
  },
  {
   "cell_type": "code",
   "execution_count": 12,
   "metadata": {},
   "outputs": [],
   "source": [
    "def show_pipeline(pipeline):\n",
    "    for inputs, targets in pipeline.train_loader[:10]:\n",
    "        print(\"\\nInputs:\")\n",
    "        for key, item in inputs.items():\n",
    "            print(key, ':', item)\n",
    "\n",
    "        print(\"\\nTargets:\")\n",
    "        print(targets)\n",
    "\n",
    "        if sum(targets) > 0:\n",
    "            print(\"Good answers:\")\n",
    "            for i in range(len(targets)):\n",
    "                if targets[i]:\n",
    "                    print(inputs['choices'][i])\n",
    "                    \n",
    "def show_model(pipeline, model):\n",
    "    for inputs, targets in pipeline.train_loader[:100]:\n",
    "        features = model.features(inputs)\n",
    "        outputs = model.pred(features)\n",
    "        ranks = model.rank(outputs)\n",
    "        score = model.score(ranks, targets)\n",
    "\n",
    "        if sum(targets) > 0:\n",
    "            mask = targets > 0\n",
    "            grades = outputs[:, -1][mask]\n",
    "            ranks = ranks[mask]\n",
    "            print(\"score: %.3f\" % score)\n",
    "            print(\"ranks of the true labels:\", ranks, \", grades of the true labels:\", grades)\n",
    "            print()"
   ]
  },
  {
   "cell_type": "markdown",
   "metadata": {},
   "source": [
    "## Data pipeline parameters"
   ]
  },
  {
   "cell_type": "code",
   "execution_count": 5,
   "metadata": {},
   "outputs": [],
   "source": [
    "batch_size = 64\n",
    "drop_last = False\n",
    "test_proportion = 0.2\n",
    "valid_proportion = 0.2\n",
    "use_k_fold = False\n",
    "k_k_fold = None"
   ]
  },
  {
   "cell_type": "markdown",
   "metadata": {},
   "source": [
    "## Load the data"
   ]
  },
  {
   "cell_type": "code",
   "execution_count": 6,
   "metadata": {
    "scrolled": true
   },
   "outputs": [
    {
     "name": "stdout",
     "output_type": "stream",
     "text": [
      "Processing the modeling task...\n",
      "Computing the annotated queries...\n",
      "Initial length of queries: 0\n",
      "Object loaded from ../results/../results/task_annotation/v2_0/task/queries_size10k_shuffle_articles1_queries1_seed0.pkl\n",
      "Object loaded from ../results/../results/task_annotation/v2_1/task/queries_sizemax_shuffle_articles1_queries1_seed0.pkl\n",
      "Object loaded from ../results/../results/task_annotation/v2_2/task/queries_sizemax_shuffle_articles1_queries1_seed0.pkl\n",
      "Final length of queries: 61056\n",
      "Done (elapsed time: 1s).\n",
      "\n",
      "Computing the annotations...\n",
      "Initial length of annotations: 0\n",
      "Object loaded from ../results/task_annotation/v2_0/results/batch_00_complete.csv\n",
      "   Correcting \"n this article, Nevada and Ohio are discussed. The two American states...\" to \" The two American states...\"\n",
      "   Correcting \"In this article, California and Oregon are discussed. The two neighboring states...\" to \" The two neighboring states...\"\n",
      "   Correcting \"In this article, California and Oregon are discussed. The two West Coast states...\" to \" The two West Coast states...\"\n",
      "Object loaded from ../results/task_annotation/v2_0/results/batch_01_complete.csv\n",
      "   Discarding \"The\"\n",
      "   Correcting \"THE CHESS CHAMPIONS\" to \"The chess champions\"\n",
      "   Correcting \"THE WHITE AND BLACK\" to \"The white and black\"\n",
      "   Discarding \"Both are politlca entities\"\n",
      "Object loaded from ../results/task_annotation/v2_1/results/batch_02_complete.csv\n",
      "   Discarding \"Both groups have a military wing\"\n",
      "   Discarding \"The financial/media concern\"\n",
      "   Discarding \"Both countries are in Western Asia\"\n",
      "   Correcting \"FOOTBALL TEAM\" to \"Football team\"\n",
      "Object loaded from ../results/task_annotation/v2_1/results/batch_03_complete.csv\n",
      "   Discarding \"The convicted Hynix managers/directors\"\n",
      "   Discarding \"The areas that include or are included by Eurasia\"\n",
      "Object loaded from ../results/task_annotation/v2_2/results/batch_04_complete.csv\n",
      "   Discarding \"Are in European territory\"\n",
      "   Discarding \"The states that have seen declining enrollment in Medicaid\"\n",
      "Object loaded from ../results/task_annotation/v2_2/results/batch_05_complete.csv\n",
      "   Discarding \"The director/choreographers\"\n",
      "   Discarding \"The writer/directors\"\n",
      "Final length of annotations: 2100\n",
      "Done (elapsed time: 1s).\n",
      "\n",
      "Filtering the annotations...\n",
      "Criterion: at least 5 assignments per worker.\n",
      "Annotations filtered: 6262 left (37 deleted).\n",
      "Done (elapsed time: 0s).\n",
      "\n",
      "Computing the modeling task...\n",
      "Done (elapsed time: 1s).\n",
      "\n",
      "Done (elapsed time: 3s).\n",
      "\n",
      "Raw data imported (1718 samples).\n",
      "Split into train (1030, 60%), valid (344, 20%) and test (344, 20%) sets.\n"
     ]
    }
   ],
   "source": [
    "pipeline = Pipeline(use_k_fold=use_k_fold)\n",
    "pipeline.process_data(batch_size=batch_size,\n",
    "                      drop_last=drop_last,\n",
    "                      test_proportion=test_proportion,\n",
    "                      valid_proportion=valid_proportion,\n",
    "                      k=k_k_fold)"
   ]
  },
  {
   "cell_type": "markdown",
   "metadata": {},
   "source": [
    "## Oberseve the data"
   ]
  },
  {
   "cell_type": "code",
   "execution_count": 7,
   "metadata": {},
   "outputs": [
    {
     "name": "stdout",
     "output_type": "stream",
     "text": [
      "\n",
      "Inputs:\n",
      "entities_type_ : person\n",
      "entities : ['Franco Alfano', 'Placido Domingo']\n",
      "summaries : [\"Franco Alfano was an Italian composer and pianist, best known today for his opera Risurrezione and above all for having completed Puccini's opera Turandot in 1926. He had considerable success with several of his own works during his lifetime.\", 'José Plácido Domingo Embil  is a Spanish opera singer, conductor and arts administrator. He has recorded over a hundred complete operas and is well known for his versatility, regularly performing in Italian, French, German, Spanish, English and Russian in the most prestigious opera houses in the world. Although primarily a lirico-spinto tenor for most of his career, especially popular for his Cavaradossi, Hoffmann, Don José, and Canio, he quickly moved into more dramatic roles, becoming the most acclaimed Otello of his generation.']\n",
      "context : A Big Nose Must Go On WithoutThe Big Star: Yet by the end of Act II, situated below Roxane 's balcony, Mr. Barasorda 's singing and confidence gained to a point where listeners -- undoubtedly disappointed to miss Mr. Domingo 's star turn -- began engaging themselves in the opera and having the good time they deserved. Alfano 's name is attached, unfairly or not, to unsatisfactory attempts to complete Puccini 's'' Turandot.''\n",
      "choices : ['republican candidates', 'rivals', 'film production artist', 'funnymen', 'conservative operatives', 'american soldiers', 'lesbians', 'men of hispanic descent', 'technologists', 'american organizational leaders', 'hynix employees', 'israeli politicians', 'american entertainersna', 'city officials', 'political adversaries', 'avant-garde celebrities', 'american billionaires', 'involved parties', 'business people', 'united states political figures', 'soldiers', 'ukranian politicians', 'lawyers', 'edwards', 'american producers', 'former american professional basketball players', 'christian leaders', 'aleksandrs', 'banking executives', 'lieberman campaign members', 'new jersey politicians', 'pixar executives', 'hollywood figures', 'blood relatives', 'novelists', 'public figures', 'men involved in the angela correa case', 'performers', 'american business leaders', 'people from russia', 'kenyans', 'fashion tycoons', 'republican politicians', 'pyote workers', 'democrat politicians', 'bridgeport, connecticut residents', 'runners', 'american entertainment industry workers', 'nba players', 'american screenwriters', 'people involved in the theater', 'californians', 'former professional stock car racing drivers', 'show business professionals', 'jersey city police officers', 'republican former political appointees', 'women', 'entrepreneurs', 'ceylans', 'english composers', 'renown architects', 'award winners', 'former friends', 'nba basketball players']\n",
      "\n",
      "Targets:\n",
      "tensor([0, 0, 0, 0, 0, 0, 0, 0, 0, 0, 0, 0, 0, 0, 0, 0, 0, 0, 0, 0, 0, 0, 0, 0,\n",
      "        0, 0, 0, 0, 0, 0, 0, 0, 0, 0, 0, 0, 0, 0, 0, 0, 0, 0, 0, 0, 0, 0, 0, 0,\n",
      "        0, 0, 0, 0, 0, 0, 0, 0, 0, 0, 0, 0, 0, 0, 0, 0])\n",
      "\n",
      "Inputs:\n",
      "entities_type_ : person\n",
      "entities : ['I. Lewis Libby', 'Valerie Plame Wilson']\n",
      "summaries : ['I. Lewis \"Scooter\" Libby is an American lawyer and former adviser to Vice President Dick Cheney.', \"Valerie Elise Plame Wilson , is an American writer, spy novelist, and former officer who worked at the United States Central Intelligence Agency . As the subject of the 2003 Plame affair, also known as the CIA leak scandal, Plame's identity as a CIA officer was leaked to and subsequently published by Robert Novak of the Washington Post.\"]\n",
      "context : The Washington Back Channel: He told the grand jury that he admired her reporting, on Al Qaeda and chemical and biological weapons, and presumably also her prewar articles lending credence to the administration 's wild alarms about Iraqi W.M.D. 's -- credulous articles that The Times eventually disowned. Miller testified that Libby brought her selected excerpts from a top-secret National Intelligence Estimate (N.I.E.) to buttress his claim that long after Wilson 's mission, the C.I.A. still endorsed reports that Saddam Hussein had'' vigorously'' pursued uranium in Africa.\n",
      "choices : ['nigerians', 'english film directors', 'white house staff', 'composers', 'former u.s. representatives', 'murder suspects', 'stage performers', 'football participants', 'americans involved in iraq wmd scandal', 'american defense contractors', 'talented people', 'public servants', 'co-authors', 'opposing parties', 'media icons', 'jersey city police officers', 'former candidates for congress', 'former kenyan politicians', 'american men', 'agents', 'parties to the litigation', 'educationally inclined', 'renowned architects', 'english composers', 'racecar drivers', 'japanese politicians', 'avid golfers', 'public speakers', 'current or former members of the democratic party', 'dog trainers', 'american comedians', 'educators', 'theatre directors', 'family', 'presidents', 'french presidential candidates', 'golf icons', 'co-conspirators', 'political person', 'american artists', 'israelis', 'french art aficionados', 'business leaders', 'interested parties', 'directors', 'accused criminals', 'political opponents', 'an american democratic party politicians', 'professionals', 'screenwriters', 'political advisors', 'government worker', 'investors', 'male designers', 'former coworkers', 'psychologists', 'generals', 'assailants']\n",
      "\n",
      "Targets:\n",
      "tensor([0, 0, 0, 0, 0, 0, 0, 0, 0, 0, 0, 0, 0, 0, 0, 0, 0, 0, 0, 0, 0, 0, 0, 0,\n",
      "        0, 0, 0, 0, 0, 0, 0, 0, 0, 0, 0, 0, 0, 0, 0, 0, 0, 0, 0, 0, 0, 0, 0, 0,\n",
      "        0, 0, 0, 1, 0, 0, 0, 0, 0, 0])\n",
      "Good answers:\n",
      "government worker\n",
      "\n",
      "Inputs:\n",
      "entities_type_ : person\n",
      "entities : ['Frances Sherwood', 'Laura Esquivel']\n",
      "summaries : ['Frances Sherwood is an American writer, novelist, and educator. Sherwood has published four novels and one book of short stories. Her 1992 novel, Vindication, was nominated for the National Book Critics Circle Award. It has been translated into twelve languages.', 'Laura Esquivel is a Mexican novelist, screenwriter and a politician who serves in the Chamber of Deputies for the Morena Party. Her first novel Como agua para chocolate became a bestseller in Mexico and the United States, and was later developed into an award-winning film.']\n",
      "context : Lost in Translation: Neither Malinche nor Cortés -- nor the rest of Esquivel 's large cast -- comes to life in these pages. The opposite may be said for the men and women who populate Frances Sherwood 's fourth novel,'' Night of Sorrows .''\n",
      "choices : ['lieberman campaign members', 'kenyans', 'theater award nominees', 'american soldiers', 'new jersey democrats', 'involved in the film industry', 'israeli lawyers', 'men with an interest in architecture', 'american journalists', 'co-author', 'women', 'moguls', 'american professional basketball players', 'canadians', 'british politicians', 'employees of the bloomberg foundation', 'deceased passengers', 'former mlb players', 'bloomberg philanthropy associates', 'screenwriters', 'alabama couple', 'asian statesmen', 'with an interest in arts', 'international businessmen', 'pakistani politicians', 'republican statesmen', 'show business professionals', 'church members', 'political rivals', 'subjects', 'broadcasters', \"sports' commissioners\", 'new york city officials', 'area politicians', 'russian expatriates', 'politician', 'entertainment industry professionals', 'michigan businessmen', 'people involved with the law', 'former convicted new yorkers', 'people from new jersey', 'employees', 'union leaders', 'philantropists', 'former lovers', 'japanese women in the film industry', 'intelligence analysts', 'american billionaires', 'performers', 'senators', 'individuals who spoke french', 'contributors to the play', 'baseball players', 'contemporaries', 'afghan politicians', 'detectives', 'devoted muslims', 'people in the pictures']\n",
      "\n",
      "Targets:\n",
      "tensor([0, 0, 0, 0, 0, 0, 0, 0, 0, 0, 0, 0, 0, 0, 0, 0, 0, 0, 0, 0, 0, 0, 0, 0,\n",
      "        0, 0, 0, 0, 0, 0, 0, 0, 0, 0, 0, 0, 0, 0, 0, 0, 0, 0, 0, 0, 0, 0, 0, 0,\n",
      "        0, 0, 0, 0, 0, 0, 0, 0, 0, 0])\n",
      "\n",
      "Inputs:\n",
      "entities_type_ : person\n",
      "entities : ['Billy Crudup', 'Frank Langella', 'Jennifer Ehle']\n",
      "summaries : [\"William Gaither Crudup is an American actor. He is a four-time Tony Award nominee, winning once for his performance in Tom Stoppard's The Coast of Utopia in 2007. He has starred in numerous high-profile films, including Without Limits, Almost Famous, Big Fish, Mission: Impossible III, Watchmen, Public Enemies, Spotlight, Jackie, The Stanford Prison Experiment, Justice League, and Alien: Covenant, in both lead and supporting roles. He also starred in the Netflix original series Gypsy opposite Naomi Watts.\", \"Frank A. Langella Jr. is an American stage and film actor. He has won four Tony Awards, two for Best Leading Actor in a Play for his performances as Richard Nixon in the play Frost/Nixon and as André in The Father and two for Best Featured Actor in a Play for his performances in Edward Albee's Seascape and Ivan Turgenev's Fortune's Fool.\", 'Jennifer Anne Ehle is a British-American actress. She won the BAFTA TV Award for Best Actress for her role as Elizabeth Bennet in the 1995 BBC miniseries Pride and Prejudice. For her work on Broadway, she won the 2000 Tony Award for Best Actress in a Play for The Real Thing, and the 2007 Tony Award for Best Featured Actress in a Play for The Coast of Utopia. She is the daughter of English actress Rosemary Harris and American author John Ehle.']\n",
      "context : 'Coast of Utopia' Breaks a Tony Record for Awards Given to a Play: At the pre-broadcast ceremony, the Alliance Theater in Atlanta was given the annual regional theater award, the only recognition for work outside Broadway. The 2007 Tony Winners Play:'' The Coast of Utopia,'' Tom Stoppard Musical:'' Spring Awakening'' Book of a musical:'' Spring Awakening,'' Steven Sater Original score:'' Spring Awakening'' (music by Duncan Sheik; lyrics by Steven Sater) Play revival:'' Journey 's End'' Musical revival:'' Company'' Special theatrical event:'' Jay Johnson: The Two and Only'' Actor, play: Frank Langella ,'' Frost/Nixon'' Actress, play: Julie White,'' The Little Dog Laughed'' Actor, musical: David Hyde Pierce,'' Curtains'' Actress, musical: Christine Ebersole,'' Grey Gardens'' Featured actor, play: Billy Crudup ,'' The Coast of Utopia'' Featured actress, play: Jennifer Ehle ,'' The Coast of Utopia'' Featured actor, musical: John Gallagher Jr.,'' Spring Awakening'' Featured actress, musical: Mary Louise Wilson,'' Grey Gardens'' Direction, play: Jack O'Brien,'' The Coast of Utopia'' Direction, musical: Michael Mayer,'' Spring Awakening'' Choreography: Bill T. Jones,'' Spring Awakening'' Orchestration: Duncan Sheik,'' Spring Awakening'' Scenic design, play: Bob Crowley and Scott Pask,'' The Coast of Utopia'' Scenic design, musical: Bob Crowley,'' Mary Poppins'' Costume design, play: Catherine Zuber,'' The Coast of Utopia'' Costume design, musical: William Ivey Long,'' Grey Gardens'' Lighting design, play: Brian MacDevitt, Kenneth Posner and Natasha Katz,'' The Coast of Utopia'' Lighting design, musical: Kevin Adams,'' Spring Awakening'' Regional theater: Alliance Theater, Atlanta\n",
      "choices : ['political advisors', 'kenyans', 'spouses', 'catholic bishop', 'pakistani officials', 'us government employees', 'hospital board members', 'fashion tycoons', 'singer', 'women', 'car crash victims', 'muscians', 'pakistani', 'former major league baseball players', 'new york city officials', 'dead', 'actors', 'historians', 'male speed skaters', 'american theatre professionals', 'individuals involved in the incident', 'renowned artists', 'homosexuals', 'american singers', 'parties', 'creative people', 'co-authors', 'some of the officers questioning the events', 'spy workers', 'union leaders', 'people from new jersey', 'new york city council members', 'connecticut democrats', 'political opponents', 'people in the accident', 'al-qaeda sympathizers', 'israeli men', 'nigerian politicians', 'hbo executives', 'michigan residents', 'terrorists', 'theater award winners', 'alabama couple', 'golf icons', 'art enthusiats', 'american football coachs', 'accused criminals', 'people involved in the project', 'hollywood entertainers', 'american football coaches', 'homeowners', 'united states army generals', 'new york city mayoral employees', 'american authors', 'lawmakers', 'rock musicians', 'regional theater award winners', 'russian expatriates', 'cooks', 'researchers', 'french political candidates', 'writers', 'former kenyan politicians', 'american theatrical producer']\n",
      "\n",
      "Targets:\n",
      "tensor([0, 0, 0, 0, 0, 0, 0, 0, 0, 0, 0, 0, 0, 0, 0, 0, 1, 0, 0, 0, 0, 0, 0, 0,\n",
      "        0, 0, 0, 0, 0, 0, 0, 0, 0, 0, 0, 0, 0, 0, 0, 0, 0, 0, 0, 0, 0, 0, 0, 0,\n",
      "        0, 0, 0, 0, 0, 0, 0, 0, 0, 0, 0, 0, 0, 0, 0, 0])\n",
      "Good answers:\n",
      "actors\n",
      "\n",
      "Inputs:\n",
      "entities_type_ : person\n",
      "entities : ['Arnold Schwarzenegger', 'Phil Angelides']\n",
      "summaries : ['Arnold Alois Schwarzenegger is an Austrian-American politician, actor, filmmaker, businessman, author, and former professional bodybuilder. He served as the 38th Governor of California from 2003 to 2011. As of 2019, he is the most recent Republican governor of California.', 'Phillip Nicholas Angelides is an American politician who was California State Treasurer and the unsuccessful Democratic nominee for Governor of California in the 2006 elections. Angelides served as the Chair of the Apollo Alliance and of the Financial Crisis Inquiry Commission.']\n",
      "context : Schwarzenegger Voices New Confidence: Probably Schwarzenegger 's people are breathing a sigh of relief that a more centrist Democrat did n't win.'' Mr. Angelides will also have to face down Mr. Schwarzenegger 's inevitable star power, as demonstrated by the scores of people who rushed to the Samoa Cookhouse, logging millionaires and blue-collar workers who took their children out of school, to glimpse the governor.\n",
      "choices : ['former vice president', 'talented people', 'american musicians', 'former prime ministers of russia', 'accused criminals', 'pakistani officials', 'church members', 'american public servants', 'in the film industry', 'white collar criminal', 'english arts professionals', 'economically inclined', 'american attorneys', 'new jersey democrats', 'tennis players', 'diplomats', 'award nominees', 'economists', 'funnymen', 'american figures', 'billionaire businessmen', 'male speed skaters', 'playwrights', 'senators', 'actors', 'co-authors of the play', 'basketball players', 'represenatives', 'american television journalists', 'couple', 'avid golfers', 'cocaine users', 'employees of the new york city department of education', 'connecticut politicians', 'ballet choreographers', 'humanitarians', 'men in the airlin industry', 'novelists', 'connecticut democratic politicians', 'japanese women in the film industry', 'blood relatives', 'american billionaire businessmen', 'entrepreneurs', 'hollywood celebrities', 'bankers', 'race advocates', 'purdue university researchers', 'would be suicide bombers', 'people involved in politics', 'former athletes', 'mafia members', 'republican former political appointees', 'dog trainers', 'political opponents', 'show business professionals', 'movie actors', 'executives', 'contributors to the film']\n",
      "\n",
      "Targets:\n",
      "tensor([0, 0, 0, 0, 0, 0, 0, 0, 0, 0, 0, 0, 0, 0, 0, 0, 0, 0, 0, 0, 0, 0, 0, 0,\n",
      "        0, 0, 0, 0, 0, 0, 0, 0, 0, 0, 0, 0, 0, 0, 0, 0, 0, 0, 0, 0, 0, 0, 0, 0,\n",
      "        0, 0, 0, 0, 0, 0, 0, 0, 0, 0])\n",
      "\n",
      "Inputs:\n",
      "entities_type_ : location\n",
      "entities : ['Abuja', 'Nigeria']\n",
      "summaries : [\"Abuja is the capital city of Nigeria located in the centre of the country within the Federal Capital Territory . It is a planned city and was built mainly in the 1980s, replacing the country's most populous city of Lagos as the capital on 12 December 1991. Abuja's geography is defined by Aso Rock, a 400-metre monolith left by water erosion. The Presidential Complex, National Assembly, Supreme Court and much of the city extend to the south of the rock. Zuma Rock, a 792-metre monolith, lies just north of the city on the expressway to Kaduna.\", 'Nigeria ), officially the Federal Republic of Nigeria, is a country in West Africa, bordering Niger in the north, Chad in the northeast, Cameroon in the east, and Benin in the west. Its coast in the south is located on the Gulf of Guinea in the Atlantic Ocean. The federation comprises 36 states and 1 Federal Capital Territory, where the capital, Abuja, is located. The constitution defines Nigeria as a democratic secular state.Nigeria has been home to a number of ancient and indigenous kingdoms and states over the millennia.']\n",
      "context : Nigerian Plane Crash Kills 98, Including Top Muslim Leader: A commercial airliner with 104 passengers and crew members on board, including the spiritual leader of Nigeria 's vast Muslim population, crashed shortly after takeoff in the Nigerian capital, Abuja , on Sunday. It was the third deadly passenger plane crash in Nigeria in a little more than a year.\n",
      "choices : ['american places', 'bordering countries', 'densely populated areas', 'southernmost parts of the usa', 'american rivals', 'european area', 'geographic entities', 'former soviet union countries', 'opposing countries', 'western hemisphere countries', 'regions receiving oil', 'european destinations', 'conflicting nations', 'areas in north central united states', 'west african places', 'economic powers', 'northern hemisphere territories', 'romance speaking countries', 'southeastern european countries', 'governmental regions', 'middle east locations', 'north and south america countries', 'chinese cities', 'financials hubs', 'new york regions', 'areas in america', 'major us cities', 'western asia nations', 'western asia cities', 'places in africa', 'south american countries', 'large land masses', 'neighbouring countries', 'american locales', 'oil receiving areas', 'cities near baghdad', 'oil bound areas', 'unstable nations', 'trading partners', 'estonian areas', 'neighboring states', 'besieged areas', 'louisiana communities', 'countries affected by shipment disruption', 'eastern european nations', 'west africa areas', 'hawaiian locations', 'gulf states', 'asian cities', 'israeli territories', 'entities', 'eastern european locales', 'geographical locations', 'mideastern cities', 'world nations', 'european sovereignties', 'us gulf coast states', 'involved parties', 'iraqi regions', \"world's most populous nations\", 'regions the pipeline covers', 'mid-atlantic states', 'island countries', 'metropolitan financial hubs']\n",
      "\n",
      "Targets:\n",
      "tensor([0, 0, 0, 0, 0, 0, 0, 0, 0, 0, 0, 0, 0, 0, 0, 0, 0, 0, 0, 0, 0, 0, 0, 0,\n",
      "        0, 0, 0, 0, 0, 1, 0, 0, 0, 0, 0, 0, 0, 0, 0, 0, 0, 0, 0, 0, 0, 0, 0, 0,\n",
      "        0, 0, 0, 0, 0, 0, 0, 0, 0, 0, 0, 0, 0, 0, 0, 0])\n",
      "Good answers:\n",
      "places in africa\n",
      "\n",
      "Inputs:\n",
      "entities_type_ : person\n",
      "entities : ['Mickey Crowley', 'Theresa Crowley']\n",
      "summaries : ['No information found.', 'No information found.']\n",
      "context : A Daughter Proves She's of the Same Stripe: During the ride to the hospital, the Crowleys were told that their daughter had been injured in a scuffle during a drug raid in Far Rockaway, Queens. As Crowley wrestled a suspect to the ground, her right hand crashed onto a curb.\n",
      "choices : [\"representatives from arizona's 5th district\", 'convicted felons', 'socialites', 'french presidential candidates', 'employees of the new york city department of education', 'christian leaders', \"mayor's appointments\", 'current or former members of the democratic party', 'men in professional football', 'professional ice skaters', 'family members', 'mafiosi', 'men involved in making the musical', 'american professionals', 'white house staff', 'athletes', 'professional athletes', 'figures in american football', 'american democratic party politicians', 'sports figures', 'nortel networks employees', 'afghan politicians', 'general electric stakeholders', 'former attorneys and politicians', 'lesbians', 'show participants', 'felons', 'people of interest', 'former married couple', 'former enron employees', 'political activists', 'former american figure skaters', 'politicians', 'englishmen', \"mayor's of newark\", 'play workers', 'men involved in the angela correa case', 'companions', 'dead', 'entertainers', 'men wounded in the shooting', 'public servants', 'influential democrats', 'football workers', 'artistes', 'political rivals from connecticut', 'national leaders', 'japanese politicians', 'asian statesmen', 'individuals involved in the play', 'disagreeing parties', 'ukrainian politicians', 'americans involved in iraq wmd scandal', 'movie actors', 'academics', 'american football coaches', 'american automotive executives', 'kenyans', 'individuals involved in the incident', 'bolivian politicians', 'men interested in architecture', 'notable new yorkers', 'television hosts', 'professional basketball players']\n",
      "\n",
      "Targets:\n",
      "tensor([0, 0, 0, 0, 0, 0, 0, 0, 0, 0, 0, 0, 0, 0, 0, 0, 0, 0, 0, 0, 0, 0, 0, 0,\n",
      "        0, 0, 0, 0, 0, 0, 0, 0, 0, 0, 0, 0, 0, 0, 0, 0, 0, 0, 0, 0, 0, 0, 0, 0,\n",
      "        0, 0, 0, 0, 0, 0, 0, 0, 0, 0, 0, 0, 0, 0, 0, 0])\n",
      "\n",
      "Inputs:\n",
      "entities_type_ : person\n",
      "entities : ['Jim Gibbons', 'Warren Trepp']\n",
      "summaries : ['James Arthur Gibbons is an American attorney, aviator, geologist, hydrologist and politician. He served as the 28th Governor of the U.S. state of Nevada from 2007 to 2011. He is a former member of the United States House of Representatives, having served from 1997 to 2006. He is a member of the Republican Party.', 'No information found.']\n",
      "context : Inquiry Into Gifts to Former Congressman, Now Governor: A telephone call on Thursday to the office of his press secretary was not returned. Calls to Mr. Trepp and the office of his lawyer were not returned.\n",
      "choices : ['shooting victims', 'italian political opponents', 'award winners', 'drivers', 'generals', 'nba stars', 'basketball players', 'project workers', 'new yorkers', 'influential historical figures', 'competitors', 'international businessmen', 'japanese women in the film industry', 'kazakhstani politicians', 'participants in a crimal case', 'people of interest', 'adults', 'russian law enforcement officials', 'runners', 'film celebrities', 'artists', 'pakistani politicians', 'football executives', 'american lawyers', 'american music aficionados', 'powerful german businessmen', 'trial participants', 'politicians', 'democats', 'rock musicians', 'iraqi citizens', 'supreme court justices', 'professionals', 'former presidential candidates', 'former government workers', 'american governors', 'austrian athletes', 'homeowners', 'american figures', 'collectors', 'art enthusiats', 'former olympians', 'political figures', 'purdue leaders', 'golf professionals', 'political operatives', 'people in power', 'new york city council members', 'english film directors', 'opinion writers', 'legal figures', 'lesbians', 'tv show cast', 'opposing parties', 'business founders', 'former u.s. representatives', 'connecticut politicians', 'men with religious backgrounds', 'literary figures', 'musical entertainers', 'former presidents', 'manufacturing executives', 'british government officials', 'investors']\n",
      "\n",
      "Targets:\n",
      "tensor([0, 0, 0, 0, 0, 0, 0, 0, 0, 0, 0, 0, 0, 0, 0, 0, 0, 0, 0, 0, 0, 0, 0, 0,\n",
      "        0, 0, 0, 0, 0, 0, 0, 0, 0, 0, 0, 0, 0, 0, 0, 0, 0, 0, 0, 0, 0, 0, 0, 0,\n",
      "        0, 0, 0, 0, 0, 0, 0, 0, 0, 0, 0, 0, 0, 0, 0, 0])\n",
      "\n",
      "Inputs:\n",
      "entities_type_ : person\n",
      "entities : ['Hillary Rodham Clinton', 'Jeanine F. Pirro']\n",
      "summaries : ['Hillary Diane Rodham Clinton is an American politician, diplomat, lawyer, writer and public speaker. She was First Lady of the United States from 1993 to 2001, a United States senator from New York from 2001 to 2009, and the 67th United States secretary of state from 2009 until 2013. Clinton became the first woman to be nominated for president of the United States by a major political party when she won the Democratic Party nomination in 2016. She was the first woman to win the popular vote in an American presidential election.', \"Jeanine Ferris Pirro is an American television host, author, and a former judge, prosecutor, and politician from New York. Pirro is currently the host of Fox News Channel's Justice with Judge Jeanine. She was a frequent contributor to NBC News, including frequent appearances on The Today Show. A Republican, she was the first female judge elected in Westchester County, New York. She was subsequently elected the first female District Attorney of Westchester County.As District Attorney, Pirro gained visibility in cases of domestic abuse and crimes against the elderly.\"]\n",
      "context : Clinton Says G.O.P. Policies Will Alienate G.O.P. Voters: Sen Hillary Rodham Clinton , running for re-election, asserts that Bush administration 's failures in foreign and domestic policy are so great that Republicans and independent voters will help Democrats to win control of Congress in Nov 7 elections. John Spencer, her Republican opponent, says her remarks are hypocritical and offensive. Clinton endorses Andrew M Cuomo, Democratic candidate for attorney general, and praises him for his poise in debate with Jeanine F Pirro , his Republican rival . Alan G Hevesi, Democrat running for re-election as comptroller, makes rare public appearance, after weeks of criticism over his misuse of state worker as chauffeur.\n",
      "choices : ['former hockey players', 'film directors', 'american lobbyist', 'disgraced catholic priests', 'former enron employees', 'russian men', 'movie collaborators', 'city leaders', 'opponents', 'investigators', 'artists', 'former american figure skaters', 'tv workers', 'renown architects', 'chess grandmasters', 'athletes', 'screen artists', 'lesbians', 'football executives', 'clothing makers', 'asian politicians', 'american automotive executives', 'involved in the film industry', 'former house representatives', 'screenwriters', 'american former professional basketball players', 'notable individuals', 'opposing parties', 'men involved in show business', 'english screenwriters', 'fishermen', 'television personalities', 'representatives', 'former us generals', 'men with an interest in architecture', 'those associated with public school 37', 'american governors', 'american drama professionals', 'participants', 'married couple', 'movie makers', 'accused criminals', 'cooks', 'people of power', 'american singers', 'reporters', 'american lobyists', 'new york politicians', 'nigerian politicians', 'worked in the television industry', 'political activists', \"sports' commissioners\", 'staff members', 'member of the u.s. house of representatives', 'american political scientists', 'americans involved in iraq wmd scandal', 'political rivals from connecticut', 'nascar workers', 'directors', 'comedians', 'former major league baseball players', 'asian statesmen', 'business people', 'american soldiers']\n",
      "\n",
      "Targets:\n",
      "tensor([0, 0, 0, 0, 0, 0, 0, 0, 0, 0, 0, 0, 0, 0, 0, 0, 0, 0, 0, 0, 0, 0, 0, 0,\n",
      "        0, 0, 0, 0, 0, 0, 0, 0, 0, 0, 0, 0, 0, 0, 0, 0, 0, 0, 0, 0, 0, 0, 0, 0,\n",
      "        0, 0, 0, 0, 0, 0, 0, 0, 0, 0, 0, 0, 0, 0, 0, 0])\n",
      "\n",
      "Inputs:\n",
      "entities_type_ : location\n",
      "entities : ['Chechnya', 'Russia']\n",
      "summaries : ['Chechnya , officially the Chechen Republic , is a federal subject of Russia.', \"Russia , or the Russian Federation , is a transcontinental country in Eastern Europe and North Asia. At 17,125,200 square kilometres , it is, by a considerable margin, the largest country in the world by area, covering more than one-eighth of the Earth's inhabited land area, and the ninth most populous, with about 146.79 million people as of 2019, including Crimea.\"]\n",
      "context : Slain Reporter's Final Article Points to Torture in Chechnya: The newspaper Novaya Gazeta on Thursday published the last article by its slain special correspondent, Anna Politkovskaya, along with transcripts of videotaped torture sessions of Chechens that she had obtained in her work. The article, an unfinished column that presented new allegations of torture by security forces in Chechnya , appeared on the same day that the European Court of Human Rights issued a ruling holding Russia responsible for the killings of five Chechen civilians in early 2000 by Russian police officers.\n",
      "choices : ['middle eastern countries', 'countries in the middle east', 'southern areas', 'governmental regions', 'places in central asia', 'bustling cities', 'established areas', 'areas in north central united states', 'u.s. locations', 'northern hemispheric countries', 'nations', 'islands', 'regional locations', 'united states cities', 'north carolinan areas', 'areas in new york state', 'arabian countries', 'eastern european regions', 'new york regions', 'mediterranean places', 'areas in north america', 'governing entities', 'african areas', 'oil nations', 'countries that neighbor turkey', 'texas cities', 'large nations', 'mediterranean regions', 'countries located in the americas', 'nations in southern africa', 'flu-afflicted countries', 'allies', 'north and south america countries', 'south asian locations', 'boroughs', 'densely populated areas', 'south american nations', 'counties', 'neighboring asian countries', 'southern asian countries', 'powerss', 'eastern european nations', 'eastern hemisphere geographic regions', 'new england areas', 'united states regions', 'italian region', 'moldova region', 'asian entities', 'destinations', 'american cities', 'regions the pipeline covers', 'new jersey areas', 'southern cities', 'world leaders', 'middle east territories', 'new york state region', 'mediterranean areas', 'eastern european countries', 'warring nations', 'east asian country', 'metropolitan areas', 'political rivals', 'european territories', 'besieged areas']\n",
      "\n",
      "Targets:\n",
      "tensor([0, 0, 0, 0, 0, 0, 0, 0, 0, 0, 0, 0, 0, 0, 0, 0, 0, 0, 0, 0, 0, 0, 0, 0,\n",
      "        0, 0, 0, 0, 0, 0, 0, 0, 0, 0, 0, 0, 0, 0, 0, 0, 0, 0, 0, 0, 0, 0, 0, 0,\n",
      "        0, 0, 0, 0, 0, 0, 0, 0, 0, 0, 0, 0, 0, 0, 0, 0])\n"
     ]
    }
   ],
   "source": [
    "show_pipeline(pipeline)"
   ]
  },
  {
   "cell_type": "markdown",
   "metadata": {},
   "source": [
    "## Score"
   ]
  },
  {
   "cell_type": "code",
   "execution_count": 8,
   "metadata": {},
   "outputs": [],
   "source": [
    "scores_names = ['average_precision', 'precision_at_k']\n",
    "n_updates = 100"
   ]
  },
  {
   "cell_type": "markdown",
   "metadata": {},
   "source": [
    "### Random"
   ]
  },
  {
   "cell_type": "code",
   "execution_count": 9,
   "metadata": {},
   "outputs": [],
   "source": [
    "from modeling.models import RandomBaseline\n",
    "\n",
    "model = RandomBaseline(scores_names=scores_names)\n",
    "pipeline.preview_data(model=model, include_valid=True)"
   ]
  },
  {
   "cell_type": "code",
   "execution_count": 10,
   "metadata": {},
   "outputs": [
    {
     "name": "stdout",
     "output_type": "stream",
     "text": [
      "Evaluation of the model...\n",
      "\n"
     ]
    },
    {
     "data": {
      "application/vnd.jupyter.widget-view+json": {
       "model_id": "c3eaa4d062fd458896d0f45b15ea66a8",
       "version_major": 2,
       "version_minor": 0
      },
      "text/plain": [
       "HBox(children=(FloatProgress(value=0.0, max=11927.0), HTML(value='')))"
      ]
     },
     "metadata": {},
     "output_type": "display_data"
    },
    {
     "name": "stdout",
     "output_type": "stream",
     "text": [
      "\n",
      "Test Score: 0.07755\n",
      "Evaluation of the model...\n",
      "\n"
     ]
    },
    {
     "data": {
      "application/vnd.jupyter.widget-view+json": {
       "model_id": "71ee875fe6294d24be37e7f90d8d8b21",
       "version_major": 2,
       "version_minor": 0
      },
      "text/plain": [
       "HBox(children=(FloatProgress(value=0.0, max=344.0), HTML(value='')))"
      ]
     },
     "metadata": {},
     "output_type": "display_data"
    },
    {
     "name": "stdout",
     "output_type": "stream",
     "text": [
      "\n",
      "Test Score: 0.01876\n"
     ]
    }
   ],
   "source": [
    "pipeline.evaluate_baseline(model=model, n_updates=n_updates)"
   ]
  },
  {
   "cell_type": "code",
   "execution_count": 13,
   "metadata": {
    "scrolled": true
   },
   "outputs": [
    {
     "ename": "AttributeError",
     "evalue": "'RandomBaseline' object has no attribute 'score'",
     "output_type": "error",
     "traceback": [
      "\u001b[0;31m---------------------------------------------------------------------------\u001b[0m",
      "\u001b[0;31mAttributeError\u001b[0m                            Traceback (most recent call last)",
      "\u001b[0;32m<ipython-input-13-f6004215e9c9>\u001b[0m in \u001b[0;36m<module>\u001b[0;34m\u001b[0m\n\u001b[0;32m----> 1\u001b[0;31m \u001b[0mshow_model\u001b[0m\u001b[0;34m(\u001b[0m\u001b[0mpipeline\u001b[0m\u001b[0;34m,\u001b[0m \u001b[0mmodel\u001b[0m\u001b[0;34m)\u001b[0m\u001b[0;34m\u001b[0m\u001b[0;34m\u001b[0m\u001b[0m\n\u001b[0m",
      "\u001b[0;32m<ipython-input-12-cd9aef1f9476>\u001b[0m in \u001b[0;36mshow_model\u001b[0;34m(pipeline, model)\u001b[0m\n\u001b[1;32m     19\u001b[0m         \u001b[0moutputs\u001b[0m \u001b[0;34m=\u001b[0m \u001b[0mmodel\u001b[0m\u001b[0;34m.\u001b[0m\u001b[0mpred\u001b[0m\u001b[0;34m(\u001b[0m\u001b[0mfeatures\u001b[0m\u001b[0;34m)\u001b[0m\u001b[0;34m\u001b[0m\u001b[0;34m\u001b[0m\u001b[0m\n\u001b[1;32m     20\u001b[0m         \u001b[0mranks\u001b[0m \u001b[0;34m=\u001b[0m \u001b[0mmodel\u001b[0m\u001b[0;34m.\u001b[0m\u001b[0mrank\u001b[0m\u001b[0;34m(\u001b[0m\u001b[0moutputs\u001b[0m\u001b[0;34m)\u001b[0m\u001b[0;34m\u001b[0m\u001b[0;34m\u001b[0m\u001b[0m\n\u001b[0;32m---> 21\u001b[0;31m         \u001b[0mscore\u001b[0m \u001b[0;34m=\u001b[0m \u001b[0mmodel\u001b[0m\u001b[0;34m.\u001b[0m\u001b[0mscore\u001b[0m\u001b[0;34m(\u001b[0m\u001b[0mranks\u001b[0m\u001b[0;34m,\u001b[0m \u001b[0mtargets\u001b[0m\u001b[0;34m)\u001b[0m\u001b[0;34m\u001b[0m\u001b[0;34m\u001b[0m\u001b[0m\n\u001b[0m\u001b[1;32m     22\u001b[0m \u001b[0;34m\u001b[0m\u001b[0m\n\u001b[1;32m     23\u001b[0m         \u001b[0;32mif\u001b[0m \u001b[0msum\u001b[0m\u001b[0;34m(\u001b[0m\u001b[0mtargets\u001b[0m\u001b[0;34m)\u001b[0m \u001b[0;34m>\u001b[0m \u001b[0;36m0\u001b[0m\u001b[0;34m:\u001b[0m\u001b[0;34m\u001b[0m\u001b[0;34m\u001b[0m\u001b[0m\n",
      "\u001b[0;31mAttributeError\u001b[0m: 'RandomBaseline' object has no attribute 'score'"
     ]
    }
   ],
   "source": [
    "show_model(pipeline, model)"
   ]
  },
  {
   "cell_type": "markdown",
   "metadata": {},
   "source": [
    "### Counts"
   ]
  },
  {
   "cell_type": "code",
   "execution_count": 14,
   "metadata": {},
   "outputs": [
    {
     "name": "stdout",
     "output_type": "stream",
     "text": [
      "Learning answers counts...\n"
     ]
    },
    {
     "data": {
      "application/vnd.jupyter.widget-view+json": {
       "model_id": "a487e9592d564ee39b0985e117437b7b",
       "version_major": 2,
       "version_minor": 0
      },
      "text/plain": [
       "HBox(children=(FloatProgress(value=0.0, max=12271.0), HTML(value='')))"
      ]
     },
     "metadata": {},
     "output_type": "display_data"
    },
    {
     "name": "stdout",
     "output_type": "stream",
     "text": [
      "\n"
     ]
    }
   ],
   "source": [
    "from modeling.models import CountsBaseline\n",
    "\n",
    "model = CountsBaseline(scores_names=scores_names)\n",
    "pipeline.preview_data(model=model, include_valid=True)"
   ]
  },
  {
   "cell_type": "code",
   "execution_count": 15,
   "metadata": {
    "scrolled": true
   },
   "outputs": [
    {
     "name": "stdout",
     "output_type": "stream",
     "text": [
      "Evaluation of the model...\n",
      "\n"
     ]
    },
    {
     "data": {
      "application/vnd.jupyter.widget-view+json": {
       "model_id": "81c6a8b3a5784e7887b046fccfd5add4",
       "version_major": 2,
       "version_minor": 0
      },
      "text/plain": [
       "HBox(children=(FloatProgress(value=0.0, max=11927.0), HTML(value='')))"
      ]
     },
     "metadata": {},
     "output_type": "display_data"
    },
    {
     "name": "stdout",
     "output_type": "stream",
     "text": [
      "\n",
      "Test Score: 0.45010\n",
      "Evaluation of the model...\n",
      "\n"
     ]
    },
    {
     "data": {
      "application/vnd.jupyter.widget-view+json": {
       "model_id": "c2f286e1ed6e4bf6a0703044f7bdda08",
       "version_major": 2,
       "version_minor": 0
      },
      "text/plain": [
       "HBox(children=(FloatProgress(value=0.0, max=344.0), HTML(value='')))"
      ]
     },
     "metadata": {},
     "output_type": "display_data"
    },
    {
     "name": "stdout",
     "output_type": "stream",
     "text": [
      "\n",
      "Test Score: 0.20096\n"
     ]
    }
   ],
   "source": [
    "pipeline.evaluate_baseline(model=model, n_updates=n_updates)"
   ]
  },
  {
   "cell_type": "code",
   "execution_count": 13,
   "metadata": {
    "scrolled": true
   },
   "outputs": [
    {
     "name": "stdout",
     "output_type": "stream",
     "text": [
      "score: 0.037\n",
      "ranks of the true labels: tensor([27.]) , grades of the true labels: tensor([0.1000])\n",
      "\n",
      "score: 1.000\n",
      "ranks of the true labels: tensor([1.]) , grades of the true labels: tensor([1.])\n",
      "\n",
      "score: 0.033\n",
      "ranks of the true labels: tensor([30.]) , grades of the true labels: tensor([0.2500])\n",
      "\n",
      "score: 0.333\n",
      "ranks of the true labels: tensor([3.]) , grades of the true labels: tensor([0.2222])\n",
      "\n",
      "score: 1.000\n",
      "ranks of the true labels: tensor([1.]) , grades of the true labels: tensor([1.])\n",
      "\n",
      "score: 0.030\n",
      "ranks of the true labels: tensor([33.]) , grades of the true labels: tensor([0.1111])\n",
      "\n",
      "score: 0.700\n",
      "ranks of the true labels: tensor([ 2.,  1., 30.]) , grades of the true labels: tensor([0.2720, 1.0000, 0.0080])\n",
      "\n",
      "score: 0.333\n",
      "ranks of the true labels: tensor([3.]) , grades of the true labels: tensor([0.3077])\n",
      "\n",
      "score: 0.500\n",
      "ranks of the true labels: tensor([2.]) , grades of the true labels: tensor([0.2720])\n",
      "\n",
      "score: 0.021\n",
      "ranks of the true labels: tensor([48.]) , grades of the true labels: tensor([0.0071])\n",
      "\n",
      "score: 0.333\n",
      "ranks of the true labels: tensor([3.]) , grades of the true labels: tensor([0.1560])\n",
      "\n",
      "score: 0.500\n",
      "ranks of the true labels: tensor([2.]) , grades of the true labels: tensor([0.3387])\n",
      "\n",
      "score: 1.000\n",
      "ranks of the true labels: tensor([1.]) , grades of the true labels: tensor([1.])\n",
      "\n",
      "score: 0.500\n",
      "ranks of the true labels: tensor([2.]) , grades of the true labels: tensor([0.7000])\n",
      "\n",
      "score: 0.200\n",
      "ranks of the true labels: tensor([5.]) , grades of the true labels: tensor([0.2000])\n",
      "\n",
      "score: 0.091\n",
      "ranks of the true labels: tensor([11.]) , grades of the true labels: tensor([0.0714])\n",
      "\n",
      "score: 0.059\n",
      "ranks of the true labels: tensor([17.]) , grades of the true labels: tensor([0.0417])\n",
      "\n",
      "score: 0.019\n",
      "ranks of the true labels: tensor([54.]) , grades of the true labels: tensor([0.0222])\n",
      "\n",
      "score: 0.500\n",
      "ranks of the true labels: tensor([2.]) , grades of the true labels: tensor([0.3077])\n",
      "\n",
      "score: 0.333\n",
      "ranks of the true labels: tensor([3.]) , grades of the true labels: tensor([0.1935])\n",
      "\n",
      "score: 1.000\n",
      "ranks of the true labels: tensor([1.]) , grades of the true labels: tensor([1.])\n",
      "\n",
      "score: 0.029\n",
      "ranks of the true labels: tensor([35.]) , grades of the true labels: tensor([0.0588])\n",
      "\n",
      "score: 0.500\n",
      "ranks of the true labels: tensor([2.]) , grades of the true labels: tensor([0.1986])\n",
      "\n",
      "score: 0.020\n",
      "ranks of the true labels: tensor([49.]) , grades of the true labels: tensor([0.0435])\n",
      "\n",
      "score: 1.000\n",
      "ranks of the true labels: tensor([2., 1.]) , grades of the true labels: tensor([0.8421, 1.0000])\n",
      "\n",
      "score: 0.022\n",
      "ranks of the true labels: tensor([46.]) , grades of the true labels: tensor([0.0500])\n",
      "\n"
     ]
    }
   ],
   "source": [
    "show_model(pipeline, model)"
   ]
  },
  {
   "cell_type": "markdown",
   "metadata": {},
   "source": [
    "### Summaries Counts"
   ]
  },
  {
   "cell_type": "code",
   "execution_count": 16,
   "metadata": {},
   "outputs": [],
   "source": [
    "from modeling.models import SummariesCountBaseline\n",
    "\n",
    "model = SummariesCountBaseline(scores_names=scores_names)\n",
    "pipeline.preview_data(model=model, include_valid=True)"
   ]
  },
  {
   "cell_type": "code",
   "execution_count": 17,
   "metadata": {
    "scrolled": false
   },
   "outputs": [
    {
     "name": "stdout",
     "output_type": "stream",
     "text": [
      "Evaluation of the model...\n",
      "\n"
     ]
    },
    {
     "data": {
      "application/vnd.jupyter.widget-view+json": {
       "model_id": "44d75e2876234b03866429901d4ce646",
       "version_major": 2,
       "version_minor": 0
      },
      "text/plain": [
       "HBox(children=(FloatProgress(value=0.0, max=11927.0), HTML(value='')))"
      ]
     },
     "metadata": {},
     "output_type": "display_data"
    },
    {
     "name": "stdout",
     "output_type": "stream",
     "text": [
      "\n",
      "Test Score: 0.17984\n",
      "Evaluation of the model...\n",
      "\n"
     ]
    },
    {
     "data": {
      "application/vnd.jupyter.widget-view+json": {
       "model_id": "0454ca697eab4ec9a05b27687cf821d4",
       "version_major": 2,
       "version_minor": 0
      },
      "text/plain": [
       "HBox(children=(FloatProgress(value=0.0, max=344.0), HTML(value='')))"
      ]
     },
     "metadata": {},
     "output_type": "display_data"
    },
    {
     "name": "stdout",
     "output_type": "stream",
     "text": [
      "\n",
      "Test Score: 0.06781\n"
     ]
    }
   ],
   "source": [
    "scores = pipeline.evaluate_baseline(model=model, n_updates=n_updates)"
   ]
  },
  {
   "cell_type": "code",
   "execution_count": 16,
   "metadata": {
    "scrolled": true
   },
   "outputs": [
    {
     "name": "stdout",
     "output_type": "stream",
     "text": [
      "score: 0.043\n",
      "ranks of the true labels: tensor([23.]) , grades of the true labels: tensor([0.])\n",
      "\n",
      "score: 0.020\n",
      "ranks of the true labels: tensor([50.]) , grades of the true labels: tensor([0.])\n",
      "\n",
      "score: 0.091\n",
      "ranks of the true labels: tensor([11.]) , grades of the true labels: tensor([0.2500])\n",
      "\n",
      "score: 0.111\n",
      "ranks of the true labels: tensor([9.]) , grades of the true labels: tensor([0.])\n",
      "\n",
      "score: 0.030\n",
      "ranks of the true labels: tensor([33.]) , grades of the true labels: tensor([0.])\n",
      "\n",
      "score: 1.000\n",
      "ranks of the true labels: tensor([1.]) , grades of the true labels: tensor([1.])\n",
      "\n",
      "score: 0.065\n",
      "ranks of the true labels: tensor([39., 17., 34.]) , grades of the true labels: tensor([0., 0., 0.])\n",
      "\n",
      "score: 0.250\n",
      "ranks of the true labels: tensor([4.]) , grades of the true labels: tensor([1.])\n",
      "\n",
      "score: 0.059\n",
      "ranks of the true labels: tensor([17.]) , grades of the true labels: tensor([0.1000])\n",
      "\n",
      "score: 0.250\n",
      "ranks of the true labels: tensor([4.]) , grades of the true labels: tensor([0.3684])\n",
      "\n",
      "score: 0.017\n",
      "ranks of the true labels: tensor([59.]) , grades of the true labels: tensor([0.])\n",
      "\n",
      "score: 0.026\n",
      "ranks of the true labels: tensor([38.]) , grades of the true labels: tensor([0.])\n",
      "\n",
      "score: 0.016\n",
      "ranks of the true labels: tensor([64.]) , grades of the true labels: tensor([0.])\n",
      "\n",
      "score: 0.021\n",
      "ranks of the true labels: tensor([48.]) , grades of the true labels: tensor([0.])\n",
      "\n",
      "score: 0.019\n",
      "ranks of the true labels: tensor([54.]) , grades of the true labels: tensor([0.])\n",
      "\n",
      "score: 0.034\n",
      "ranks of the true labels: tensor([29.]) , grades of the true labels: tensor([0.])\n",
      "\n",
      "score: 0.333\n",
      "ranks of the true labels: tensor([3.]) , grades of the true labels: tensor([0.7500])\n",
      "\n",
      "score: 0.018\n",
      "ranks of the true labels: tensor([55.]) , grades of the true labels: tensor([0.])\n",
      "\n",
      "score: 0.022\n",
      "ranks of the true labels: tensor([45.]) , grades of the true labels: tensor([0.])\n",
      "\n",
      "score: 0.059\n",
      "ranks of the true labels: tensor([17.]) , grades of the true labels: tensor([0.])\n",
      "\n",
      "score: 0.028\n",
      "ranks of the true labels: tensor([36.]) , grades of the true labels: tensor([0.])\n",
      "\n",
      "score: 0.067\n",
      "ranks of the true labels: tensor([15.]) , grades of the true labels: tensor([0.4286])\n",
      "\n",
      "score: 0.022\n",
      "ranks of the true labels: tensor([46.]) , grades of the true labels: tensor([0.])\n",
      "\n",
      "score: 1.000\n",
      "ranks of the true labels: tensor([1.]) , grades of the true labels: tensor([1.])\n",
      "\n",
      "score: 0.211\n",
      "ranks of the true labels: tensor([5., 9.]) , grades of the true labels: tensor([0.6000, 0.4000])\n",
      "\n",
      "score: 1.000\n",
      "ranks of the true labels: tensor([1.]) , grades of the true labels: tensor([1.])\n",
      "\n"
     ]
    }
   ],
   "source": [
    "show_model(pipeline, model)"
   ]
  },
  {
   "cell_type": "markdown",
   "metadata": {},
   "source": [
    "### Summaries Overlap"
   ]
  },
  {
   "cell_type": "code",
   "execution_count": 18,
   "metadata": {},
   "outputs": [],
   "source": [
    "from modeling.models import SummariesOverlapBaseline\n",
    "\n",
    "model = SummariesOverlapBaseline(scores_names=scores_names)\n",
    "pipeline.preview_data(model=model, include_valid=True)"
   ]
  },
  {
   "cell_type": "code",
   "execution_count": 19,
   "metadata": {
    "scrolled": false
   },
   "outputs": [
    {
     "name": "stdout",
     "output_type": "stream",
     "text": [
      "Evaluation of the model...\n",
      "\n"
     ]
    },
    {
     "data": {
      "application/vnd.jupyter.widget-view+json": {
       "model_id": "de85c3181df44b8e8056eafc126db977",
       "version_major": 2,
       "version_minor": 0
      },
      "text/plain": [
       "HBox(children=(FloatProgress(value=0.0, max=11927.0), HTML(value='')))"
      ]
     },
     "metadata": {},
     "output_type": "display_data"
    },
    {
     "name": "stdout",
     "output_type": "stream",
     "text": [
      "\n",
      "Test Score: 0.15119\n",
      "Evaluation of the model...\n",
      "\n"
     ]
    },
    {
     "data": {
      "application/vnd.jupyter.widget-view+json": {
       "model_id": "b7747b67173a440b949cf0a8ed8693ba",
       "version_major": 2,
       "version_minor": 0
      },
      "text/plain": [
       "HBox(children=(FloatProgress(value=0.0, max=344.0), HTML(value='')))"
      ]
     },
     "metadata": {},
     "output_type": "display_data"
    },
    {
     "name": "stdout",
     "output_type": "stream",
     "text": [
      "\n",
      "Test Score: 0.04198\n"
     ]
    }
   ],
   "source": [
    "scores = pipeline.evaluate_baseline(model=model, n_updates=n_updates)"
   ]
  },
  {
   "cell_type": "code",
   "execution_count": 19,
   "metadata": {
    "scrolled": true
   },
   "outputs": [
    {
     "name": "stdout",
     "output_type": "stream",
     "text": [
      "score: 0.043\n",
      "ranks of the true labels: tensor([23.]) , grades of the true labels: tensor([0.])\n",
      "\n",
      "score: 0.020\n",
      "ranks of the true labels: tensor([50.]) , grades of the true labels: tensor([0.])\n",
      "\n",
      "score: 0.125\n",
      "ranks of the true labels: tensor([8.]) , grades of the true labels: tensor([0.5000])\n",
      "\n",
      "score: 0.111\n",
      "ranks of the true labels: tensor([9.]) , grades of the true labels: tensor([0.])\n",
      "\n",
      "score: 0.030\n",
      "ranks of the true labels: tensor([33.]) , grades of the true labels: tensor([0.])\n",
      "\n",
      "score: 1.000\n",
      "ranks of the true labels: tensor([1.]) , grades of the true labels: tensor([1.])\n",
      "\n",
      "score: 0.064\n",
      "ranks of the true labels: tensor([39., 18., 33.]) , grades of the true labels: tensor([0., 0., 0.])\n",
      "\n",
      "score: 0.250\n",
      "ranks of the true labels: tensor([4.]) , grades of the true labels: tensor([1.])\n",
      "\n",
      "score: 0.250\n",
      "ranks of the true labels: tensor([4.]) , grades of the true labels: tensor([0.3333])\n",
      "\n",
      "score: 0.032\n",
      "ranks of the true labels: tensor([31.]) , grades of the true labels: tensor([0.2500])\n",
      "\n",
      "score: 0.017\n",
      "ranks of the true labels: tensor([59.]) , grades of the true labels: tensor([0.])\n",
      "\n",
      "score: 0.026\n",
      "ranks of the true labels: tensor([38.]) , grades of the true labels: tensor([0.])\n",
      "\n",
      "score: 0.016\n",
      "ranks of the true labels: tensor([64.]) , grades of the true labels: tensor([0.])\n",
      "\n",
      "score: 0.021\n",
      "ranks of the true labels: tensor([48.]) , grades of the true labels: tensor([0.])\n",
      "\n",
      "score: 0.019\n",
      "ranks of the true labels: tensor([54.]) , grades of the true labels: tensor([0.])\n",
      "\n",
      "score: 0.034\n",
      "ranks of the true labels: tensor([29.]) , grades of the true labels: tensor([0.])\n",
      "\n",
      "score: 0.125\n",
      "ranks of the true labels: tensor([8.]) , grades of the true labels: tensor([1.])\n",
      "\n",
      "score: 0.018\n",
      "ranks of the true labels: tensor([55.]) , grades of the true labels: tensor([0.])\n",
      "\n",
      "score: 0.022\n",
      "ranks of the true labels: tensor([45.]) , grades of the true labels: tensor([0.])\n",
      "\n",
      "score: 0.059\n",
      "ranks of the true labels: tensor([17.]) , grades of the true labels: tensor([0.])\n",
      "\n",
      "score: 0.028\n",
      "ranks of the true labels: tensor([36.]) , grades of the true labels: tensor([0.])\n",
      "\n",
      "score: 0.036\n",
      "ranks of the true labels: tensor([28.]) , grades of the true labels: tensor([0.5000])\n",
      "\n",
      "score: 0.022\n",
      "ranks of the true labels: tensor([46.]) , grades of the true labels: tensor([0.])\n",
      "\n",
      "score: 1.000\n",
      "ranks of the true labels: tensor([1.]) , grades of the true labels: tensor([1.])\n",
      "\n",
      "score: 0.159\n",
      "ranks of the true labels: tensor([17.,  5.]) , grades of the true labels: tensor([0.5000, 1.0000])\n",
      "\n",
      "score: 0.250\n",
      "ranks of the true labels: tensor([4.]) , grades of the true labels: tensor([1.])\n",
      "\n"
     ]
    }
   ],
   "source": [
    "show_model(pipeline, model)"
   ]
  },
  {
   "cell_type": "code",
   "execution_count": null,
   "metadata": {},
   "outputs": [],
   "source": []
  }
 ],
 "metadata": {
  "kernelspec": {
   "display_name": "Python 3",
   "language": "python",
   "name": "python3"
  },
  "language_info": {
   "codemirror_mode": {
    "name": "ipython",
    "version": 3
   },
   "file_extension": ".py",
   "mimetype": "text/x-python",
   "name": "python",
   "nbconvert_exporter": "python",
   "pygments_lexer": "ipython3",
   "version": "3.7.6"
  },
  "pycharm": {
   "stem_cell": {
    "cell_type": "raw",
    "metadata": {
     "collapsed": false
    },
    "source": []
   }
  },
  "toc": {
   "base_numbering": 1,
   "nav_menu": {},
   "number_sections": true,
   "sideBar": true,
   "skip_h1_title": false,
   "title_cell": "Table of Contents",
   "title_sidebar": "Contents",
   "toc_cell": false,
   "toc_position": {},
   "toc_section_display": true,
   "toc_window_display": false
  }
 },
 "nbformat": 4,
 "nbformat_minor": 2
}
