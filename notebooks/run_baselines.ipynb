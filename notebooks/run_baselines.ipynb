{
 "cells": [
  {
   "cell_type": "markdown",
   "metadata": {},
   "source": [
    "# Setup\n",
    "### Imports"
   ]
  },
  {
   "cell_type": "code",
   "execution_count": 2,
   "metadata": {
    "ExecuteTime": {
     "end_time": "2019-04-13T03:57:03.299844Z",
     "start_time": "2019-04-13T03:57:03.266445Z"
    },
    "pycharm": {
     "is_executing": false
    }
   },
   "outputs": [],
   "source": [
    "import sys\n",
    "sys.path.append('../')\n",
    "del sys\n",
    "\n",
    "%reload_ext autoreload\n",
    "%autoreload 2\n",
    "\n",
    "import modeling.models as models\n",
    "from toolbox.utils import to_class_name, load_task\n",
    "from toolbox.parameters import SCORES_NAMES, BASELINES_RANDOM_SEED\n",
    "from toolbox.paths import MODELING_TASK_RESULTS_PATH, PRETRAINED_MODELS_PATH, TENSORBOARD_LOGS_PATH\n",
    "from run_baselines import get_word2vec, play_baseline\n",
    "\n",
    "root = \"../\""
   ]
  },
  {
   "cell_type": "markdown",
   "metadata": {},
   "source": [
    "### Parameters"
   ]
  },
  {
   "cell_type": "code",
   "execution_count": 8,
   "metadata": {},
   "outputs": [],
   "source": [
    "args = {\n",
    "    'task': \"context_free_same_type\",\n",
    "    'valid_proportion': 0.25,\n",
    "    'test_proportion': 0.25,\n",
    "    'ranking_size': 32,\n",
    "    'batch_size': 16,\n",
    "    'cross_validation': False,\n",
    "    'short': False,\n",
    "    'experiment': None\n",
    "}"
   ]
  },
  {
   "cell_type": "code",
   "execution_count": 9,
   "metadata": {},
   "outputs": [],
   "source": [
    "task_name = args['task']\n",
    "valid_proportion = args['valid_proportion']\n",
    "test_proportion = args['test_proportion']\n",
    "ranking_size = args['ranking_size']\n",
    "batch_size = args['batch_size']\n",
    "cross_validation = args['cross_validation']\n",
    "short = args['short']\n",
    "experiment_name = args['experiment']"
   ]
  },
  {
   "cell_type": "markdown",
   "metadata": {},
   "source": [
    "### Load the data"
   ]
  },
  {
   "cell_type": "code",
   "execution_count": 10,
   "metadata": {
    "scrolled": true
   },
   "outputs": [
    {
     "name": "stdout",
     "output_type": "stream",
     "text": [
      "Task loaded from ../results/modeling_task/contextfreesametype_50-25-25_rs32_bs16.pkl.\n",
      "\n"
     ]
    }
   ],
   "source": [
    "task = load_task(task_name=task_name,\n",
    "                 valid_proportion=valid_proportion,\n",
    "                 test_proportion=test_proportion,\n",
    "                 ranking_size=ranking_size,\n",
    "                 batch_size=batch_size,\n",
    "                 cross_validation=cross_validation,\n",
    "                 short=short,\n",
    "                 folder_path=root + MODELING_TASK_RESULTS_PATH)"
   ]
  },
  {
   "cell_type": "markdown",
   "metadata": {},
   "source": [
    "# Run the baselines\n",
    "## Basic baselines\n",
    "### Models"
   ]
  },
  {
   "cell_type": "code",
   "execution_count": 11,
   "metadata": {},
   "outputs": [],
   "source": [
    "model_names = [\n",
    "    \"random\",\n",
    "    \"frequency\",\n",
    "    \"summaries_count\",\n",
    "    \"summaries_unique_count\",\n",
    "    \"summaries_overlap\",\n",
    "    \"activated_summaries\",\n",
    "    \"context_count\",\n",
    "    \"context_unique_count\",\n",
    "    \"summaries_context_count\",\n",
    "    \"summaries_context_unique_count\",\n",
    "    \"summaries_context_overlap\",\n",
    "]\n",
    "model_names = [to_class_name(model_name) for model_name in model_names]"
   ]
  },
  {
   "cell_type": "markdown",
   "metadata": {},
   "source": [
    "### Run the models"
   ]
  },
  {
   "cell_type": "code",
   "execution_count": 12,
   "metadata": {
    "scrolled": true
   },
   "outputs": [
    {
     "name": "stdout",
     "output_type": "stream",
     "text": [
      "Random\n",
      "Evaluation on the train_loader...\n"
     ]
    },
    {
     "data": {
      "application/vnd.jupyter.widget-view+json": {
       "model_id": "048e5bc207454f97b302bb7890337095",
       "version_major": 2,
       "version_minor": 0
      },
      "text/plain": [
       "HBox(children=(FloatProgress(value=0.0, max=670.0), HTML(value='')))"
      ]
     },
     "metadata": {},
     "output_type": "display_data"
    },
    {
     "name": "stdout",
     "output_type": "stream",
     "text": [
      "\n",
      "average_precision: 0.18683 (+/-0.14092)\n",
      "recall_at_10: 0.30759 (+/-0.28145)\n",
      "reciprocal_best_rank: 0.26042 (+/-0.28801)\n",
      "reciprocal_average_rank: 0.07259 (+/-0.05742)\n",
      "ndcg_at_10: 0.19963 (+/-0.20058)\n",
      "\n",
      "Evaluation on the valid_loader...\n"
     ]
    },
    {
     "data": {
      "application/vnd.jupyter.widget-view+json": {
       "model_id": "e4e5e38578494033848b60065f39971d",
       "version_major": 2,
       "version_minor": 0
      },
      "text/plain": [
       "HBox(children=(FloatProgress(value=0.0, max=335.0), HTML(value='')))"
      ]
     },
     "metadata": {},
     "output_type": "display_data"
    },
    {
     "name": "stdout",
     "output_type": "stream",
     "text": [
      "\n",
      "average_precision: 0.18822 (+/-0.14156)\n",
      "recall_at_10: 0.30993 (+/-0.27925)\n",
      "reciprocal_best_rank: 0.26700 (+/-0.28845)\n",
      "reciprocal_average_rank: 0.07424 (+/-0.06435)\n",
      "ndcg_at_10: 0.20197 (+/-0.20103)\n",
      "\n",
      "Frequency\n",
      "Learning answers counts...\n"
     ]
    },
    {
     "data": {
      "application/vnd.jupyter.widget-view+json": {
       "model_id": "22070e5c1ccf4f72b41bfb1bd156e64d",
       "version_major": 2,
       "version_minor": 0
      },
      "text/plain": [
       "HBox(children=(FloatProgress(value=0.0, max=670.0), HTML(value='')))"
      ]
     },
     "metadata": {},
     "output_type": "display_data"
    },
    {
     "name": "stdout",
     "output_type": "stream",
     "text": [
      "\n",
      "Learning answers counts...\n"
     ]
    },
    {
     "data": {
      "application/vnd.jupyter.widget-view+json": {
       "model_id": "358be7ec1f5c42f4bfe0a493c9824314",
       "version_major": 2,
       "version_minor": 0
      },
      "text/plain": [
       "HBox(children=(FloatProgress(value=0.0, max=335.0), HTML(value='')))"
      ]
     },
     "metadata": {},
     "output_type": "display_data"
    },
    {
     "name": "stdout",
     "output_type": "stream",
     "text": [
      "\n",
      "Evaluation on the train_loader...\n"
     ]
    },
    {
     "data": {
      "application/vnd.jupyter.widget-view+json": {
       "model_id": "0b1fed23f6af4b838c26cbe9338bbf40",
       "version_major": 2,
       "version_minor": 0
      },
      "text/plain": [
       "HBox(children=(FloatProgress(value=0.0, max=670.0), HTML(value='')))"
      ]
     },
     "metadata": {},
     "output_type": "display_data"
    },
    {
     "name": "stdout",
     "output_type": "stream",
     "text": [
      "\n",
      "average_precision: 0.58751 (+/-0.27316)\n",
      "recall_at_10: 0.72921 (+/-0.28313)\n",
      "reciprocal_best_rank: 0.78478 (+/-0.33351)\n",
      "reciprocal_average_rank: 0.24159 (+/-0.21305)\n",
      "ndcg_at_10: 0.66028 (+/-0.27743)\n",
      "\n",
      "Evaluation on the valid_loader...\n"
     ]
    },
    {
     "data": {
      "application/vnd.jupyter.widget-view+json": {
       "model_id": "dbd13f04f7234e6c9715164be98633cc",
       "version_major": 2,
       "version_minor": 0
      },
      "text/plain": [
       "HBox(children=(FloatProgress(value=0.0, max=335.0), HTML(value='')))"
      ]
     },
     "metadata": {},
     "output_type": "display_data"
    },
    {
     "name": "stdout",
     "output_type": "stream",
     "text": [
      "\n",
      "average_precision: 0.57506 (+/-0.28160)\n",
      "recall_at_10: 0.73441 (+/-0.28139)\n",
      "reciprocal_best_rank: 0.76143 (+/-0.33987)\n",
      "reciprocal_average_rank: 0.23969 (+/-0.20149)\n",
      "ndcg_at_10: 0.65044 (+/-0.28110)\n",
      "\n",
      "SummariesCount\n",
      "Evaluation on the train_loader...\n"
     ]
    },
    {
     "data": {
      "application/vnd.jupyter.widget-view+json": {
       "model_id": "8e9ecfe528df4c5484ffb2b1c3478d5a",
       "version_major": 2,
       "version_minor": 0
      },
      "text/plain": [
       "HBox(children=(FloatProgress(value=0.0, max=670.0), HTML(value='')))"
      ]
     },
     "metadata": {},
     "output_type": "display_data"
    },
    {
     "name": "stdout",
     "output_type": "stream",
     "text": [
      "\n",
      "average_precision: 0.32107 (+/-0.25113)\n",
      "recall_at_10: 0.46609 (+/-0.32867)\n",
      "reciprocal_best_rank: 0.45262 (+/-0.39041)\n",
      "reciprocal_average_rank: 0.11416 (+/-0.11551)\n",
      "ndcg_at_10: 0.36545 (+/-0.29349)\n",
      "\n",
      "Evaluation on the valid_loader...\n"
     ]
    },
    {
     "data": {
      "application/vnd.jupyter.widget-view+json": {
       "model_id": "55217822b64f468a946e2b7bdb9f1254",
       "version_major": 2,
       "version_minor": 0
      },
      "text/plain": [
       "HBox(children=(FloatProgress(value=0.0, max=335.0), HTML(value='')))"
      ]
     },
     "metadata": {},
     "output_type": "display_data"
    },
    {
     "name": "stdout",
     "output_type": "stream",
     "text": [
      "\n",
      "average_precision: 0.31318 (+/-0.26009)\n",
      "recall_at_10: 0.43856 (+/-0.34079)\n",
      "reciprocal_best_rank: 0.44287 (+/-0.39674)\n",
      "reciprocal_average_rank: 0.11840 (+/-0.13713)\n",
      "ndcg_at_10: 0.34900 (+/-0.30720)\n",
      "\n",
      "SummariesUniqueCount\n",
      "Evaluation on the train_loader...\n"
     ]
    },
    {
     "data": {
      "application/vnd.jupyter.widget-view+json": {
       "model_id": "c99da352435d482285cbb5c85626db89",
       "version_major": 2,
       "version_minor": 0
      },
      "text/plain": [
       "HBox(children=(FloatProgress(value=0.0, max=670.0), HTML(value='')))"
      ]
     },
     "metadata": {},
     "output_type": "display_data"
    },
    {
     "name": "stdout",
     "output_type": "stream",
     "text": [
      "\n",
      "average_precision: 0.29460 (+/-0.22668)\n",
      "recall_at_10: 0.46409 (+/-0.32439)\n",
      "reciprocal_best_rank: 0.41249 (+/-0.36534)\n",
      "reciprocal_average_rank: 0.10709 (+/-0.10340)\n",
      "ndcg_at_10: 0.34361 (+/-0.27382)\n",
      "\n",
      "Evaluation on the valid_loader...\n"
     ]
    },
    {
     "data": {
      "application/vnd.jupyter.widget-view+json": {
       "model_id": "7b9b51b6794b4f5889b2bfdfcf8f141c",
       "version_major": 2,
       "version_minor": 0
      },
      "text/plain": [
       "HBox(children=(FloatProgress(value=0.0, max=335.0), HTML(value='')))"
      ]
     },
     "metadata": {},
     "output_type": "display_data"
    },
    {
     "name": "stdout",
     "output_type": "stream",
     "text": [
      "\n",
      "average_precision: 0.28902 (+/-0.24626)\n",
      "recall_at_10: 0.43097 (+/-0.33723)\n",
      "reciprocal_best_rank: 0.39058 (+/-0.36918)\n",
      "reciprocal_average_rank: 0.11314 (+/-0.12783)\n",
      "ndcg_at_10: 0.32377 (+/-0.29305)\n",
      "\n",
      "SummariesOverlap\n",
      "Evaluation on the train_loader...\n"
     ]
    },
    {
     "data": {
      "application/vnd.jupyter.widget-view+json": {
       "model_id": "fde0c97b1712470e9c7779abf47f6588",
       "version_major": 2,
       "version_minor": 0
      },
      "text/plain": [
       "HBox(children=(FloatProgress(value=0.0, max=670.0), HTML(value='')))"
      ]
     },
     "metadata": {},
     "output_type": "display_data"
    },
    {
     "name": "stdout",
     "output_type": "stream",
     "text": [
      "\n",
      "average_precision: 0.30177 (+/-0.24245)\n",
      "recall_at_10: 0.43872 (+/-0.32607)\n",
      "reciprocal_best_rank: 0.43090 (+/-0.38773)\n",
      "reciprocal_average_rank: 0.10783 (+/-0.11366)\n",
      "ndcg_at_10: 0.34188 (+/-0.28944)\n",
      "\n",
      "Evaluation on the valid_loader...\n"
     ]
    },
    {
     "data": {
      "application/vnd.jupyter.widget-view+json": {
       "model_id": "763c703759a84f5cb4d06e01d4876999",
       "version_major": 2,
       "version_minor": 0
      },
      "text/plain": [
       "HBox(children=(FloatProgress(value=0.0, max=335.0), HTML(value='')))"
      ]
     },
     "metadata": {},
     "output_type": "display_data"
    },
    {
     "name": "stdout",
     "output_type": "stream",
     "text": [
      "\n",
      "average_precision: 0.28605 (+/-0.24087)\n",
      "recall_at_10: 0.40947 (+/-0.34421)\n",
      "reciprocal_best_rank: 0.40358 (+/-0.38101)\n",
      "reciprocal_average_rank: 0.10945 (+/-0.12433)\n",
      "ndcg_at_10: 0.31630 (+/-0.29410)\n",
      "\n",
      "ActivatedSummaries\n",
      "Evaluation on the train_loader...\n"
     ]
    },
    {
     "data": {
      "application/vnd.jupyter.widget-view+json": {
       "model_id": "f4d255c4cbe84b7aa876719f5c8d5327",
       "version_major": 2,
       "version_minor": 0
      },
      "text/plain": [
       "HBox(children=(FloatProgress(value=0.0, max=670.0), HTML(value='')))"
      ]
     },
     "metadata": {},
     "output_type": "display_data"
    },
    {
     "name": "stdout",
     "output_type": "stream",
     "text": [
      "\n",
      "average_precision: 0.30403 (+/-0.23552)\n",
      "recall_at_10: 0.46569 (+/-0.32729)\n",
      "reciprocal_best_rank: 0.42068 (+/-0.37103)\n",
      "reciprocal_average_rank: 0.11196 (+/-0.11664)\n",
      "ndcg_at_10: 0.35109 (+/-0.28114)\n",
      "\n",
      "Evaluation on the valid_loader...\n"
     ]
    },
    {
     "data": {
      "application/vnd.jupyter.widget-view+json": {
       "model_id": "cb0399b9e4ef48d6aaf3395e5c44f57b",
       "version_major": 2,
       "version_minor": 0
      },
      "text/plain": [
       "HBox(children=(FloatProgress(value=0.0, max=335.0), HTML(value='')))"
      ]
     },
     "metadata": {},
     "output_type": "display_data"
    },
    {
     "name": "stdout",
     "output_type": "stream",
     "text": [
      "\n",
      "average_precision: 0.29713 (+/-0.25104)\n",
      "recall_at_10: 0.43526 (+/-0.33953)\n",
      "reciprocal_best_rank: 0.40497 (+/-0.37811)\n",
      "reciprocal_average_rank: 0.11569 (+/-0.13693)\n",
      "ndcg_at_10: 0.33260 (+/-0.29783)\n",
      "\n",
      "ContextCount\n",
      "Evaluation on the train_loader...\n"
     ]
    },
    {
     "data": {
      "application/vnd.jupyter.widget-view+json": {
       "model_id": "2ae9801d7f3f46d48df3eb905cff4be1",
       "version_major": 2,
       "version_minor": 0
      },
      "text/plain": [
       "HBox(children=(FloatProgress(value=0.0, max=670.0), HTML(value='')))"
      ]
     },
     "metadata": {},
     "output_type": "display_data"
    },
    {
     "name": "stdout",
     "output_type": "stream",
     "text": [
      "\n",
      "average_precision: 0.27936 (+/-0.22475)\n",
      "recall_at_10: 0.41147 (+/-0.31335)\n",
      "reciprocal_best_rank: 0.40909 (+/-0.37698)\n",
      "reciprocal_average_rank: 0.10055 (+/-0.10374)\n",
      "ndcg_at_10: 0.31523 (+/-0.27296)\n",
      "\n",
      "Evaluation on the valid_loader...\n"
     ]
    },
    {
     "data": {
      "application/vnd.jupyter.widget-view+json": {
       "model_id": "36c6460588f5433fb476a6876ea9b2be",
       "version_major": 2,
       "version_minor": 0
      },
      "text/plain": [
       "HBox(children=(FloatProgress(value=0.0, max=335.0), HTML(value='')))"
      ]
     },
     "metadata": {},
     "output_type": "display_data"
    },
    {
     "name": "stdout",
     "output_type": "stream",
     "text": [
      "\n",
      "average_precision: 0.28345 (+/-0.23635)\n",
      "recall_at_10: 0.39547 (+/-0.32313)\n",
      "reciprocal_best_rank: 0.41298 (+/-0.38842)\n",
      "reciprocal_average_rank: 0.10330 (+/-0.11825)\n",
      "ndcg_at_10: 0.31206 (+/-0.28547)\n",
      "\n",
      "ContextUniqueCount\n",
      "Evaluation on the train_loader...\n"
     ]
    },
    {
     "data": {
      "application/vnd.jupyter.widget-view+json": {
       "model_id": "56c2814b15e64af99fc7f8b2fd0c0c89",
       "version_major": 2,
       "version_minor": 0
      },
      "text/plain": [
       "HBox(children=(FloatProgress(value=0.0, max=670.0), HTML(value='')))"
      ]
     },
     "metadata": {},
     "output_type": "display_data"
    },
    {
     "name": "stdout",
     "output_type": "stream",
     "text": [
      "\n",
      "average_precision: 0.27568 (+/-0.22383)\n",
      "recall_at_10: 0.41149 (+/-0.31464)\n",
      "reciprocal_best_rank: 0.40006 (+/-0.37073)\n",
      "reciprocal_average_rank: 0.10083 (+/-0.10474)\n",
      "ndcg_at_10: 0.31156 (+/-0.27188)\n",
      "\n",
      "Evaluation on the valid_loader...\n"
     ]
    },
    {
     "data": {
      "application/vnd.jupyter.widget-view+json": {
       "model_id": "ccb04f4965264394af0984c2013969ac",
       "version_major": 2,
       "version_minor": 0
      },
      "text/plain": [
       "HBox(children=(FloatProgress(value=0.0, max=335.0), HTML(value='')))"
      ]
     },
     "metadata": {},
     "output_type": "display_data"
    },
    {
     "name": "stdout",
     "output_type": "stream",
     "text": [
      "\n",
      "average_precision: 0.27783 (+/-0.22915)\n",
      "recall_at_10: 0.39516 (+/-0.32311)\n",
      "reciprocal_best_rank: 0.40719 (+/-0.38325)\n",
      "reciprocal_average_rank: 0.10115 (+/-0.11131)\n",
      "ndcg_at_10: 0.30748 (+/-0.28039)\n",
      "\n",
      "SummariesContextCount\n",
      "Evaluation on the train_loader...\n"
     ]
    },
    {
     "data": {
      "application/vnd.jupyter.widget-view+json": {
       "model_id": "adcb012e8eb549e8b0017236b4e698bc",
       "version_major": 2,
       "version_minor": 0
      },
      "text/plain": [
       "HBox(children=(FloatProgress(value=0.0, max=670.0), HTML(value='')))"
      ]
     },
     "metadata": {},
     "output_type": "display_data"
    },
    {
     "name": "stdout",
     "output_type": "stream",
     "text": [
      "\n",
      "average_precision: 0.34807 (+/-0.25448)\n",
      "recall_at_10: 0.50056 (+/-0.33052)\n",
      "reciprocal_best_rank: 0.49315 (+/-0.39454)\n",
      "reciprocal_average_rank: 0.12403 (+/-0.12396)\n",
      "ndcg_at_10: 0.40012 (+/-0.29466)\n",
      "\n",
      "Evaluation on the valid_loader...\n"
     ]
    },
    {
     "data": {
      "application/vnd.jupyter.widget-view+json": {
       "model_id": "86bbd46efecc4464a66a8b2d57f54746",
       "version_major": 2,
       "version_minor": 0
      },
      "text/plain": [
       "HBox(children=(FloatProgress(value=0.0, max=335.0), HTML(value='')))"
      ]
     },
     "metadata": {},
     "output_type": "display_data"
    },
    {
     "name": "stdout",
     "output_type": "stream",
     "text": [
      "\n",
      "average_precision: 0.33870 (+/-0.26919)\n",
      "recall_at_10: 0.46325 (+/-0.33430)\n",
      "reciprocal_best_rank: 0.48178 (+/-0.40122)\n",
      "reciprocal_average_rank: 0.12708 (+/-0.14914)\n",
      "ndcg_at_10: 0.37829 (+/-0.31032)\n",
      "\n",
      "SummariesContextUniqueCount\n",
      "Evaluation on the train_loader...\n"
     ]
    },
    {
     "data": {
      "application/vnd.jupyter.widget-view+json": {
       "model_id": "001f09f222a04ca0baeed0e3955a34f6",
       "version_major": 2,
       "version_minor": 0
      },
      "text/plain": [
       "HBox(children=(FloatProgress(value=0.0, max=670.0), HTML(value='')))"
      ]
     },
     "metadata": {},
     "output_type": "display_data"
    },
    {
     "name": "stdout",
     "output_type": "stream",
     "text": [
      "\n",
      "average_precision: 0.31336 (+/-0.23158)\n",
      "recall_at_10: 0.49484 (+/-0.32395)\n",
      "reciprocal_best_rank: 0.43919 (+/-0.37026)\n",
      "reciprocal_average_rank: 0.11599 (+/-0.11293)\n",
      "ndcg_at_10: 0.36940 (+/-0.27666)\n",
      "\n",
      "Evaluation on the valid_loader...\n"
     ]
    },
    {
     "data": {
      "application/vnd.jupyter.widget-view+json": {
       "model_id": "8571730a32ae4eae8ac32f8fe5b70792",
       "version_major": 2,
       "version_minor": 0
      },
      "text/plain": [
       "HBox(children=(FloatProgress(value=0.0, max=335.0), HTML(value='')))"
      ]
     },
     "metadata": {},
     "output_type": "display_data"
    },
    {
     "name": "stdout",
     "output_type": "stream",
     "text": [
      "\n",
      "average_precision: 0.30822 (+/-0.24932)\n",
      "recall_at_10: 0.45587 (+/-0.33071)\n",
      "reciprocal_best_rank: 0.43142 (+/-0.38050)\n",
      "reciprocal_average_rank: 0.11724 (+/-0.12778)\n",
      "ndcg_at_10: 0.34978 (+/-0.29386)\n",
      "\n",
      "SummariesContextOverlap\n",
      "Evaluation on the train_loader...\n"
     ]
    },
    {
     "data": {
      "application/vnd.jupyter.widget-view+json": {
       "model_id": "8b72fb1b96f14b3cbfbe9dc27b66570e",
       "version_major": 2,
       "version_minor": 0
      },
      "text/plain": [
       "HBox(children=(FloatProgress(value=0.0, max=670.0), HTML(value='')))"
      ]
     },
     "metadata": {},
     "output_type": "display_data"
    },
    {
     "name": "stdout",
     "output_type": "stream",
     "text": [
      "\n",
      "average_precision: 0.33248 (+/-0.24888)\n",
      "recall_at_10: 0.49022 (+/-0.32432)\n",
      "reciprocal_best_rank: 0.47524 (+/-0.39077)\n",
      "reciprocal_average_rank: 0.11857 (+/-0.12112)\n",
      "ndcg_at_10: 0.38540 (+/-0.29199)\n",
      "\n",
      "Evaluation on the valid_loader...\n"
     ]
    },
    {
     "data": {
      "application/vnd.jupyter.widget-view+json": {
       "model_id": "0c7ee13f692a4fdca85a3eb27325b16d",
       "version_major": 2,
       "version_minor": 0
      },
      "text/plain": [
       "HBox(children=(FloatProgress(value=0.0, max=335.0), HTML(value='')))"
      ]
     },
     "metadata": {},
     "output_type": "display_data"
    },
    {
     "name": "stdout",
     "output_type": "stream",
     "text": [
      "\n",
      "average_precision: 0.31321 (+/-0.24521)\n",
      "recall_at_10: 0.46016 (+/-0.33304)\n",
      "reciprocal_best_rank: 0.44899 (+/-0.38403)\n",
      "reciprocal_average_rank: 0.11689 (+/-0.12650)\n",
      "ndcg_at_10: 0.35773 (+/-0.29028)\n",
      "\n"
     ]
    }
   ],
   "source": [
    "for model_name in model_names:\n",
    "    print(model_name)\n",
    "    \n",
    "    model = getattr(models, model_name)(scores_names=SCORES_NAMES,\n",
    "                                        relevance_level=task.relevance_level,\n",
    "                                        pretrained_model=None,\n",
    "                                        pretrained_model_dim=None,\n",
    "                                        tensorboard_logs_path=root + TENSORBOARD_LOGS_PATH,\n",
    "                                        experiment_name=experiment_name,\n",
    "                                        random_seed=BASELINES_RANDOM_SEED)\n",
    "    \n",
    "    play_baseline(task=task,\n",
    "                  model=model)"
   ]
  },
  {
   "cell_type": "markdown",
   "metadata": {},
   "source": [
    "## Embedding baselines\n",
    "### Models"
   ]
  },
  {
   "cell_type": "code",
   "execution_count": 13,
   "metadata": {},
   "outputs": [],
   "source": [
    "model_names = [\n",
    "    \"summaries_average_embedding\",\n",
    "    \"summaries_overlap_average_embedding\",\n",
    "    \"context_average_embedding\",\n",
    "    \"summaries_context_average_embedding\",\n",
    "    \"summaries_context_overlap_average_embedding\",\n",
    "]\n",
    "model_names = [to_class_name(model_name) for model_name in model_names]"
   ]
  },
  {
   "cell_type": "markdown",
   "metadata": {},
   "source": [
    "### Pretrained model"
   ]
  },
  {
   "cell_type": "code",
   "execution_count": 14,
   "metadata": {},
   "outputs": [
    {
     "name": "stdout",
     "output_type": "stream",
     "text": [
      "Word2Vec embedding loaded.\n",
      "\n"
     ]
    }
   ],
   "source": [
    "word_embedding, word_embedding_dim = get_word2vec(root + PRETRAINED_MODELS_PATH)"
   ]
  },
  {
   "cell_type": "markdown",
   "metadata": {},
   "source": [
    "### Run the models"
   ]
  },
  {
   "cell_type": "code",
   "execution_count": 15,
   "metadata": {
    "scrolled": true
   },
   "outputs": [
    {
     "name": "stdout",
     "output_type": "stream",
     "text": [
      "SummariesAverageEmbedding\n",
      "Evaluation on the train_loader...\n"
     ]
    },
    {
     "data": {
      "application/vnd.jupyter.widget-view+json": {
       "model_id": "8dad593dc06540139c4fac25da653015",
       "version_major": 2,
       "version_minor": 0
      },
      "text/plain": [
       "HBox(children=(FloatProgress(value=0.0, max=670.0), HTML(value='')))"
      ]
     },
     "metadata": {},
     "output_type": "display_data"
    },
    {
     "name": "stdout",
     "output_type": "stream",
     "text": [
      "\n",
      "average_precision: 0.36688 (+/-0.28409)\n",
      "recall_at_10: 0.52673 (+/-0.36948)\n",
      "reciprocal_best_rank: 0.47857 (+/-0.39334)\n",
      "reciprocal_average_rank: 0.14868 (+/-0.14804)\n",
      "ndcg_at_10: 0.41243 (+/-0.32645)\n",
      "\n",
      "Evaluation on the valid_loader...\n"
     ]
    },
    {
     "data": {
      "application/vnd.jupyter.widget-view+json": {
       "model_id": "32cec44794da4085ba0647a94196d9cc",
       "version_major": 2,
       "version_minor": 0
      },
      "text/plain": [
       "HBox(children=(FloatProgress(value=0.0, max=335.0), HTML(value='')))"
      ]
     },
     "metadata": {},
     "output_type": "display_data"
    },
    {
     "name": "stdout",
     "output_type": "stream",
     "text": [
      "\n",
      "average_precision: 0.36138 (+/-0.28554)\n",
      "recall_at_10: 0.51195 (+/-0.37084)\n",
      "reciprocal_best_rank: 0.48076 (+/-0.39385)\n",
      "reciprocal_average_rank: 0.15073 (+/-0.15925)\n",
      "ndcg_at_10: 0.40486 (+/-0.33147)\n",
      "\n",
      "SummariesOverlapAverageEmbedding\n",
      "Evaluation on the train_loader...\n"
     ]
    },
    {
     "data": {
      "application/vnd.jupyter.widget-view+json": {
       "model_id": "35905e1b2d6a47639b505c6d679a9c6b",
       "version_major": 2,
       "version_minor": 0
      },
      "text/plain": [
       "HBox(children=(FloatProgress(value=0.0, max=670.0), HTML(value='')))"
      ]
     },
     "metadata": {},
     "output_type": "display_data"
    },
    {
     "name": "stdout",
     "output_type": "stream",
     "text": [
      "\n",
      "average_precision: 0.39951 (+/-0.29889)\n",
      "recall_at_10: 0.54444 (+/-0.37120)\n",
      "reciprocal_best_rank: 0.52858 (+/-0.40244)\n",
      "reciprocal_average_rank: 0.16567 (+/-0.17594)\n",
      "ndcg_at_10: 0.44621 (+/-0.33591)\n",
      "\n",
      "Evaluation on the valid_loader...\n"
     ]
    },
    {
     "data": {
      "application/vnd.jupyter.widget-view+json": {
       "model_id": "38ed3d029d6d4196b4ac4a32a0222ed4",
       "version_major": 2,
       "version_minor": 0
      },
      "text/plain": [
       "HBox(children=(FloatProgress(value=0.0, max=335.0), HTML(value='')))"
      ]
     },
     "metadata": {},
     "output_type": "display_data"
    },
    {
     "name": "stdout",
     "output_type": "stream",
     "text": [
      "\n",
      "average_precision: 0.38106 (+/-0.30522)\n",
      "recall_at_10: 0.50772 (+/-0.37740)\n",
      "reciprocal_best_rank: 0.49513 (+/-0.39237)\n",
      "reciprocal_average_rank: 0.16551 (+/-0.18520)\n",
      "ndcg_at_10: 0.41682 (+/-0.34393)\n",
      "\n",
      "ContextAverageEmbedding\n",
      "Evaluation on the train_loader...\n"
     ]
    },
    {
     "data": {
      "application/vnd.jupyter.widget-view+json": {
       "model_id": "72ff7831f8fe4b66840d04e77874dcc5",
       "version_major": 2,
       "version_minor": 0
      },
      "text/plain": [
       "HBox(children=(FloatProgress(value=0.0, max=670.0), HTML(value='')))"
      ]
     },
     "metadata": {},
     "output_type": "display_data"
    },
    {
     "name": "stdout",
     "output_type": "stream",
     "text": [
      "\n",
      "average_precision: 0.33555 (+/-0.25027)\n",
      "recall_at_10: 0.51887 (+/-0.34266)\n",
      "reciprocal_best_rank: 0.45548 (+/-0.37537)\n",
      "reciprocal_average_rank: 0.13013 (+/-0.12210)\n",
      "ndcg_at_10: 0.38873 (+/-0.29417)\n",
      "\n",
      "Evaluation on the valid_loader...\n"
     ]
    },
    {
     "data": {
      "application/vnd.jupyter.widget-view+json": {
       "model_id": "4791a592a65e46ae89ec5ce5dad51c15",
       "version_major": 2,
       "version_minor": 0
      },
      "text/plain": [
       "HBox(children=(FloatProgress(value=0.0, max=335.0), HTML(value='')))"
      ]
     },
     "metadata": {},
     "output_type": "display_data"
    },
    {
     "name": "stdout",
     "output_type": "stream",
     "text": [
      "\n",
      "average_precision: 0.32722 (+/-0.25867)\n",
      "recall_at_10: 0.48353 (+/-0.35100)\n",
      "reciprocal_best_rank: 0.44108 (+/-0.38425)\n",
      "reciprocal_average_rank: 0.12993 (+/-0.13491)\n",
      "ndcg_at_10: 0.36990 (+/-0.30321)\n",
      "\n",
      "SummariesContextAverageEmbedding\n",
      "Evaluation on the train_loader...\n"
     ]
    },
    {
     "data": {
      "application/vnd.jupyter.widget-view+json": {
       "model_id": "88ffc87645fb4af5990879f5488346d1",
       "version_major": 2,
       "version_minor": 0
      },
      "text/plain": [
       "HBox(children=(FloatProgress(value=0.0, max=670.0), HTML(value='')))"
      ]
     },
     "metadata": {},
     "output_type": "display_data"
    },
    {
     "name": "stdout",
     "output_type": "stream",
     "text": [
      "\n",
      "average_precision: 0.36129 (+/-0.27428)\n",
      "recall_at_10: 0.53323 (+/-0.35243)\n",
      "reciprocal_best_rank: 0.47609 (+/-0.38725)\n",
      "reciprocal_average_rank: 0.14402 (+/-0.14181)\n",
      "ndcg_at_10: 0.41135 (+/-0.31441)\n",
      "\n",
      "Evaluation on the valid_loader...\n"
     ]
    },
    {
     "data": {
      "application/vnd.jupyter.widget-view+json": {
       "model_id": "820df6f07c074c0a9a0ff5e5f689ef5c",
       "version_major": 2,
       "version_minor": 0
      },
      "text/plain": [
       "HBox(children=(FloatProgress(value=0.0, max=335.0), HTML(value='')))"
      ]
     },
     "metadata": {},
     "output_type": "display_data"
    },
    {
     "name": "stdout",
     "output_type": "stream",
     "text": [
      "\n",
      "average_precision: 0.35403 (+/-0.27883)\n",
      "recall_at_10: 0.52394 (+/-0.35645)\n",
      "reciprocal_best_rank: 0.47990 (+/-0.39911)\n",
      "reciprocal_average_rank: 0.14163 (+/-0.14563)\n",
      "ndcg_at_10: 0.40377 (+/-0.31906)\n",
      "\n",
      "SummariesContextOverlapAverageEmbedding\n",
      "Evaluation on the train_loader...\n"
     ]
    },
    {
     "data": {
      "application/vnd.jupyter.widget-view+json": {
       "model_id": "6e41bf8f530d41d990f97e5654a9a5a8",
       "version_major": 2,
       "version_minor": 0
      },
      "text/plain": [
       "HBox(children=(FloatProgress(value=0.0, max=670.0), HTML(value='')))"
      ]
     },
     "metadata": {},
     "output_type": "display_data"
    },
    {
     "name": "stdout",
     "output_type": "stream",
     "text": [
      "\n",
      "average_precision: 0.34506 (+/-0.25933)\n",
      "recall_at_10: 0.52742 (+/-0.35222)\n",
      "reciprocal_best_rank: 0.46210 (+/-0.37734)\n",
      "reciprocal_average_rank: 0.13755 (+/-0.13607)\n",
      "ndcg_at_10: 0.39817 (+/-0.30343)\n",
      "\n",
      "Evaluation on the valid_loader...\n"
     ]
    },
    {
     "data": {
      "application/vnd.jupyter.widget-view+json": {
       "model_id": "eab293e5bd674e21a47988466abbc73d",
       "version_major": 2,
       "version_minor": 0
      },
      "text/plain": [
       "HBox(children=(FloatProgress(value=0.0, max=335.0), HTML(value='')))"
      ]
     },
     "metadata": {},
     "output_type": "display_data"
    },
    {
     "name": "stdout",
     "output_type": "stream",
     "text": [
      "\n",
      "average_precision: 0.33413 (+/-0.26309)\n",
      "recall_at_10: 0.49134 (+/-0.35264)\n",
      "reciprocal_best_rank: 0.45293 (+/-0.38732)\n",
      "reciprocal_average_rank: 0.13269 (+/-0.13359)\n",
      "ndcg_at_10: 0.37797 (+/-0.30741)\n",
      "\n"
     ]
    }
   ],
   "source": [
    "for model_name in model_names:\n",
    "    print(model_name)\n",
    "    \n",
    "    model = getattr(models, model_name)(scores_names=SCORES_NAMES,\n",
    "                                        relevance_level=task.relevance_level,\n",
    "                                        pretrained_model=word_embedding,\n",
    "                                        pretrained_model_dim=word_embedding_dim,\n",
    "                                        tensorboard_logs_path=root + TENSORBOARD_LOGS_PATH,\n",
    "                                        experiment_name=experiment_name,\n",
    "                                        random_seed=BASELINES_RANDOM_SEED)\n",
    "    \n",
    "    play_baseline(task=task,\n",
    "                  model=model)"
   ]
  },
  {
   "cell_type": "code",
   "execution_count": null,
   "metadata": {},
   "outputs": [],
   "source": []
  }
 ],
 "metadata": {
  "kernelspec": {
   "display_name": "Python 3",
   "language": "python",
   "name": "python3"
  },
  "language_info": {
   "codemirror_mode": {
    "name": "ipython",
    "version": 3
   },
   "file_extension": ".py",
   "mimetype": "text/x-python",
   "name": "python",
   "nbconvert_exporter": "python",
   "pygments_lexer": "ipython3",
   "version": "3.7.7"
  },
  "pycharm": {
   "stem_cell": {
    "cell_type": "raw",
    "metadata": {
     "collapsed": false
    },
    "source": []
   }
  },
  "toc": {
   "base_numbering": 1,
   "nav_menu": {},
   "number_sections": true,
   "sideBar": true,
   "skip_h1_title": false,
   "title_cell": "Table of Contents",
   "title_sidebar": "Contents",
   "toc_cell": false,
   "toc_position": {},
   "toc_section_display": true,
   "toc_window_display": false
  }
 },
 "nbformat": 4,
 "nbformat_minor": 2
}
