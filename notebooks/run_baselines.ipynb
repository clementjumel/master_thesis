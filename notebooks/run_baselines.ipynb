{
 "cells": [
  {
   "cell_type": "markdown",
   "metadata": {},
   "source": [
    "# Setup\n",
    "### Imports"
   ]
  },
  {
   "cell_type": "code",
   "execution_count": 1,
   "metadata": {
    "ExecuteTime": {
     "end_time": "2019-04-13T03:57:03.299844Z",
     "start_time": "2019-04-13T03:57:03.266445Z"
    },
    "pycharm": {
     "is_executing": false
    }
   },
   "outputs": [],
   "source": [
    "import sys\n",
    "sys.path.append('../')\n",
    "del sys\n",
    "\n",
    "%reload_ext autoreload\n",
    "%autoreload 2\n",
    "\n",
    "import modeling.models as models\n",
    "from toolbox.utils import to_class_name, load_task, get_pretrained_model\n",
    "from toolbox.parameters import SCORES_NAMES, MODELS_RANDOM_SEED\n",
    "from toolbox.paths import MODELING_TASK_FOR_BASELINES_PATH, PRETRAINED_MODELS_PATH, TENSORBOARD_LOGS_BASELINES_PATH\n",
    "from run_baselines import play_baseline\n",
    "\n",
    "root = \"../\""
   ]
  },
  {
   "cell_type": "markdown",
   "metadata": {},
   "source": [
    "### Parameters"
   ]
  },
  {
   "cell_type": "code",
   "execution_count": 2,
   "metadata": {},
   "outputs": [],
   "source": [
    "args = {\n",
    "    'task': \"context_free\",\n",
    "    'batch_size': 64,\n",
    "    'cross_validation': False,\n",
    "    'short': False,\n",
    "    'experiment': \"context_free_0\"\n",
    "}"
   ]
  },
  {
   "cell_type": "code",
   "execution_count": 3,
   "metadata": {},
   "outputs": [],
   "source": [
    "task_name = args['task']\n",
    "batch_size = args['batch_size']\n",
    "cross_validation = args['cross_validation']\n",
    "short = args['short']\n",
    "experiment_name = args['experiment']"
   ]
  },
  {
   "cell_type": "markdown",
   "metadata": {},
   "source": [
    "### Load the data"
   ]
  },
  {
   "cell_type": "code",
   "execution_count": 5,
   "metadata": {
    "scrolled": true
   },
   "outputs": [
    {
     "name": "stdout",
     "output_type": "stream",
     "text": [
      "Task loaded from ../results/modeling_task/baselines_split/contextfree_bs64.pkl.\n",
      "\n"
     ]
    }
   ],
   "source": [
    "task = load_task(task_name=task_name,\n",
    "                 batch_size=batch_size,\n",
    "                 cross_validation=cross_validation,\n",
    "                 short=short,\n",
    "                 folder_path=MODELING_TASK_FOR_BASELINES_PATH,\n",
    "                 root=root)"
   ]
  },
  {
   "cell_type": "markdown",
   "metadata": {},
   "source": [
    "# Run the baselines\n",
    "## Basic baselines\n",
    "### Models"
   ]
  },
  {
   "cell_type": "code",
   "execution_count": 6,
   "metadata": {},
   "outputs": [],
   "source": [
    "model_names = [\n",
    "    \"random\",\n",
    "    \"frequency\",\n",
    "    \"summaries_count\",\n",
    "    \"summaries_unique_count\",\n",
    "    \"summaries_overlap\",\n",
    "    \"activated_summaries\",\n",
    "    \"context_count\",\n",
    "    \"context_unique_count\",\n",
    "    \"summaries_context_count\",\n",
    "    \"summaries_context_unique_count\",\n",
    "    \"summaries_context_overlap\",\n",
    "]\n",
    "model_names = [to_class_name(model_name) for model_name in model_names]"
   ]
  },
  {
   "cell_type": "markdown",
   "metadata": {},
   "source": [
    "### Run the models"
   ]
  },
  {
   "cell_type": "code",
   "execution_count": 7,
   "metadata": {
    "scrolled": true
   },
   "outputs": [
    {
     "name": "stdout",
     "output_type": "stream",
     "text": [
      "Random\n",
      "Validation of the model...\n"
     ]
    },
    {
     "data": {
      "application/vnd.jupyter.widget-view+json": {
       "model_id": "3934e2404bac49acb08a711ca6fff61f",
       "version_major": 2,
       "version_minor": 0
      },
      "text/plain": [
       "HBox(children=(FloatProgress(value=0.0, max=670.0), HTML(value='')))"
      ]
     },
     "metadata": {},
     "output_type": "display_data"
    },
    {
     "name": "stdout",
     "output_type": "stream",
     "text": [
      "\n",
      "average_precision: 0.00558 (+/-0.01336)\n",
      "recall_at_10: 0.00533 (+/-0.04221)\n",
      "reciprocal_best_rank: 0.01057 (+/-0.03406)\n",
      "reciprocal_average_rank: 0.00155 (+/-0.00190)\n",
      "ndcg_at_10: 0.00311 (+/-0.02539)\n",
      "\n",
      "Frequency\n",
      "Learning answers counts...\n"
     ]
    },
    {
     "data": {
      "application/vnd.jupyter.widget-view+json": {
       "model_id": "8ba38ce884fd42d3bb0f055a9190e9a0",
       "version_major": 2,
       "version_minor": 0
      },
      "text/plain": [
       "HBox(children=(FloatProgress(value=0.0, max=670.0), HTML(value='')))"
      ]
     },
     "metadata": {},
     "output_type": "display_data"
    },
    {
     "name": "stdout",
     "output_type": "stream",
     "text": [
      "\n",
      "Validation of the model...\n"
     ]
    },
    {
     "data": {
      "application/vnd.jupyter.widget-view+json": {
       "model_id": "4ed3ab14c7fc4fa59c60cbb2be26b0bf",
       "version_major": 2,
       "version_minor": 0
      },
      "text/plain": [
       "HBox(children=(FloatProgress(value=0.0, max=670.0), HTML(value='')))"
      ]
     },
     "metadata": {},
     "output_type": "display_data"
    },
    {
     "name": "stdout",
     "output_type": "stream",
     "text": [
      "\n",
      "average_precision: 0.13992 (+/-0.18235)\n",
      "recall_at_10: 0.25031 (+/-0.28810)\n",
      "reciprocal_best_rank: 0.27200 (+/-0.34137)\n",
      "reciprocal_average_rank: 0.03507 (+/-0.11731)\n",
      "ndcg_at_10: 0.19070 (+/-0.23355)\n",
      "\n",
      "SummariesCount\n",
      "Validation of the model...\n"
     ]
    },
    {
     "data": {
      "application/vnd.jupyter.widget-view+json": {
       "model_id": "15581fd6b7d84c4fb8310ad64cd93205",
       "version_major": 2,
       "version_minor": 0
      },
      "text/plain": [
       "HBox(children=(FloatProgress(value=0.0, max=670.0), HTML(value='')))"
      ]
     },
     "metadata": {},
     "output_type": "display_data"
    },
    {
     "name": "stdout",
     "output_type": "stream",
     "text": [
      "\n",
      "average_precision: 0.05354 (+/-0.12194)\n",
      "recall_at_10: 0.08283 (+/-0.18825)\n",
      "reciprocal_best_rank: 0.11762 (+/-0.26353)\n",
      "reciprocal_average_rank: 0.00801 (+/-0.04121)\n",
      "ndcg_at_10: 0.06908 (+/-0.16317)\n",
      "\n",
      "SummariesUniqueCount\n",
      "Validation of the model...\n"
     ]
    },
    {
     "data": {
      "application/vnd.jupyter.widget-view+json": {
       "model_id": "b977ecbcb1bb49c78060ece4eb479850",
       "version_major": 2,
       "version_minor": 0
      },
      "text/plain": [
       "HBox(children=(FloatProgress(value=0.0, max=670.0), HTML(value='')))"
      ]
     },
     "metadata": {},
     "output_type": "display_data"
    },
    {
     "name": "stdout",
     "output_type": "stream",
     "text": [
      "\n",
      "average_precision: 0.03181 (+/-0.08206)\n",
      "recall_at_10: 0.04794 (+/-0.13366)\n",
      "reciprocal_best_rank: 0.07589 (+/-0.20926)\n",
      "reciprocal_average_rank: 0.00413 (+/-0.01740)\n",
      "ndcg_at_10: 0.03919 (+/-0.11654)\n",
      "\n",
      "SummariesOverlap\n",
      "Validation of the model...\n"
     ]
    },
    {
     "data": {
      "application/vnd.jupyter.widget-view+json": {
       "model_id": "538bf5c1a95d4a87bd422bd4364a4a7c",
       "version_major": 2,
       "version_minor": 0
      },
      "text/plain": [
       "HBox(children=(FloatProgress(value=0.0, max=670.0), HTML(value='')))"
      ]
     },
     "metadata": {},
     "output_type": "display_data"
    },
    {
     "name": "stdout",
     "output_type": "stream",
     "text": [
      "\n",
      "average_precision: 0.04749 (+/-0.11233)\n",
      "recall_at_10: 0.07000 (+/-0.17056)\n",
      "reciprocal_best_rank: 0.10889 (+/-0.25618)\n",
      "reciprocal_average_rank: 0.00644 (+/-0.03317)\n",
      "ndcg_at_10: 0.06143 (+/-0.15278)\n",
      "\n",
      "ActivatedSummaries\n",
      "Validation of the model...\n"
     ]
    },
    {
     "data": {
      "application/vnd.jupyter.widget-view+json": {
       "model_id": "50051db46f8b4caa8e7e99375a1251ef",
       "version_major": 2,
       "version_minor": 0
      },
      "text/plain": [
       "HBox(children=(FloatProgress(value=0.0, max=670.0), HTML(value='')))"
      ]
     },
     "metadata": {},
     "output_type": "display_data"
    },
    {
     "name": "stdout",
     "output_type": "stream",
     "text": [
      "\n",
      "average_precision: 0.03080 (+/-0.08252)\n",
      "recall_at_10: 0.05420 (+/-0.16242)\n",
      "reciprocal_best_rank: 0.05868 (+/-0.15879)\n",
      "reciprocal_average_rank: 0.00715 (+/-0.03867)\n",
      "ndcg_at_10: 0.03665 (+/-0.11556)\n",
      "\n",
      "ContextCount\n",
      "Validation of the model...\n"
     ]
    },
    {
     "data": {
      "application/vnd.jupyter.widget-view+json": {
       "model_id": "095fec3d7cad4845aea58f7c47436800",
       "version_major": 2,
       "version_minor": 0
      },
      "text/plain": [
       "HBox(children=(FloatProgress(value=0.0, max=670.0), HTML(value='')))"
      ]
     },
     "metadata": {},
     "output_type": "display_data"
    },
    {
     "name": "stdout",
     "output_type": "stream",
     "text": [
      "\n",
      "average_precision: 0.04078 (+/-0.11213)\n",
      "recall_at_10: 0.06512 (+/-0.17035)\n",
      "reciprocal_best_rank: 0.08587 (+/-0.22051)\n",
      "reciprocal_average_rank: 0.00745 (+/-0.04666)\n",
      "ndcg_at_10: 0.05208 (+/-0.14482)\n",
      "\n",
      "ContextUniqueCount\n",
      "Validation of the model...\n"
     ]
    },
    {
     "data": {
      "application/vnd.jupyter.widget-view+json": {
       "model_id": "7652c5d66944489f9ff4a6230598d2da",
       "version_major": 2,
       "version_minor": 0
      },
      "text/plain": [
       "HBox(children=(FloatProgress(value=0.0, max=670.0), HTML(value='')))"
      ]
     },
     "metadata": {},
     "output_type": "display_data"
    },
    {
     "name": "stdout",
     "output_type": "stream",
     "text": [
      "\n",
      "average_precision: 0.03092 (+/-0.08196)\n",
      "recall_at_10: 0.05694 (+/-0.15815)\n",
      "reciprocal_best_rank: 0.06932 (+/-0.19038)\n",
      "reciprocal_average_rank: 0.00544 (+/-0.02730)\n",
      "ndcg_at_10: 0.04124 (+/-0.11822)\n",
      "\n",
      "SummariesContextCount\n",
      "Validation of the model...\n"
     ]
    },
    {
     "data": {
      "application/vnd.jupyter.widget-view+json": {
       "model_id": "82697127dc4748b68d7f716356a298d0",
       "version_major": 2,
       "version_minor": 0
      },
      "text/plain": [
       "HBox(children=(FloatProgress(value=0.0, max=670.0), HTML(value='')))"
      ]
     },
     "metadata": {},
     "output_type": "display_data"
    },
    {
     "name": "stdout",
     "output_type": "stream",
     "text": [
      "\n",
      "average_precision: 0.06633 (+/-0.13654)\n",
      "recall_at_10: 0.10578 (+/-0.21777)\n",
      "reciprocal_best_rank: 0.14618 (+/-0.29431)\n",
      "reciprocal_average_rank: 0.01060 (+/-0.04929)\n",
      "ndcg_at_10: 0.08705 (+/-0.18314)\n",
      "\n",
      "SummariesContextUniqueCount\n",
      "Validation of the model...\n"
     ]
    },
    {
     "data": {
      "application/vnd.jupyter.widget-view+json": {
       "model_id": "7f70267986d14727b589c79b32630e28",
       "version_major": 2,
       "version_minor": 0
      },
      "text/plain": [
       "HBox(children=(FloatProgress(value=0.0, max=670.0), HTML(value='')))"
      ]
     },
     "metadata": {},
     "output_type": "display_data"
    },
    {
     "name": "stdout",
     "output_type": "stream",
     "text": [
      "\n",
      "average_precision: 0.03491 (+/-0.08658)\n",
      "recall_at_10: 0.05465 (+/-0.15528)\n",
      "reciprocal_best_rank: 0.08024 (+/-0.21765)\n",
      "reciprocal_average_rank: 0.00548 (+/-0.02059)\n",
      "ndcg_at_10: 0.04272 (+/-0.12445)\n",
      "\n",
      "SummariesContextOverlap\n",
      "Validation of the model...\n"
     ]
    },
    {
     "data": {
      "application/vnd.jupyter.widget-view+json": {
       "model_id": "33c980b519b04d5da8356f8d7bc9e8d4",
       "version_major": 2,
       "version_minor": 0
      },
      "text/plain": [
       "HBox(children=(FloatProgress(value=0.0, max=670.0), HTML(value='')))"
      ]
     },
     "metadata": {},
     "output_type": "display_data"
    },
    {
     "name": "stdout",
     "output_type": "stream",
     "text": [
      "\n",
      "average_precision: 0.04377 (+/-0.09942)\n",
      "recall_at_10: 0.07098 (+/-0.17367)\n",
      "reciprocal_best_rank: 0.10168 (+/-0.24347)\n",
      "reciprocal_average_rank: 0.00657 (+/-0.02548)\n",
      "ndcg_at_10: 0.05667 (+/-0.14267)\n",
      "\n"
     ]
    }
   ],
   "source": [
    "for model_name in model_names:\n",
    "    print(model_name)\n",
    "    \n",
    "    model = getattr(models, model_name)(scores_names=SCORES_NAMES,\n",
    "                                        relevance_level=task.relevance_level,\n",
    "                                        pretrained_model=None,\n",
    "                                        pretrained_model_dim=None,\n",
    "                                        tensorboard_logs_path=TENSORBOARD_LOGS_BASELINES_PATH,\n",
    "                                        experiment_name=experiment_name,\n",
    "                                        random_seed=MODELS_RANDOM_SEED,\n",
    "                                        root=root)\n",
    "    \n",
    "    play_baseline(task=task,\n",
    "                  model=model)"
   ]
  },
  {
   "cell_type": "markdown",
   "metadata": {},
   "source": [
    "## Embedding baselines\n",
    "### Models"
   ]
  },
  {
   "cell_type": "code",
   "execution_count": 8,
   "metadata": {},
   "outputs": [],
   "source": [
    "model_names = [\n",
    "    \"summaries_average_embedding\",\n",
    "    \"summaries_overlap_average_embedding\",\n",
    "    \"context_average_embedding\",\n",
    "    \"summaries_context_average_embedding\",\n",
    "    \"summaries_context_overlap_average_embedding\",\n",
    "]\n",
    "model_names = [to_class_name(model_name) for model_name in model_names]"
   ]
  },
  {
   "cell_type": "markdown",
   "metadata": {},
   "source": [
    "### Pretrained model"
   ]
  },
  {
   "cell_type": "code",
   "execution_count": 9,
   "metadata": {},
   "outputs": [
    {
     "name": "stdout",
     "output_type": "stream",
     "text": [
      "Word2Vec embedding loaded.\n",
      "\n"
     ]
    }
   ],
   "source": [
    "word_embedding, word_embedding_dim = get_pretrained_model(pretrained_model_name=\"word2vec\",\n",
    "                                                          folder_path=PRETRAINED_MODELS_PATH,\n",
    "                                                          root=root)"
   ]
  },
  {
   "cell_type": "markdown",
   "metadata": {},
   "source": [
    "### Run the models"
   ]
  },
  {
   "cell_type": "code",
   "execution_count": 10,
   "metadata": {
    "scrolled": true
   },
   "outputs": [
    {
     "name": "stdout",
     "output_type": "stream",
     "text": [
      "SummariesAverageEmbedding\n",
      "Validation of the model...\n"
     ]
    },
    {
     "data": {
      "application/vnd.jupyter.widget-view+json": {
       "model_id": "60eff880914d4d98bc54089c14e0f20d",
       "version_major": 2,
       "version_minor": 0
      },
      "text/plain": [
       "HBox(children=(FloatProgress(value=0.0, max=670.0), HTML(value='')))"
      ]
     },
     "metadata": {},
     "output_type": "display_data"
    },
    {
     "name": "stdout",
     "output_type": "stream",
     "text": [
      "\n",
      "average_precision: 0.07567 (+/-0.16339)\n",
      "recall_at_10: 0.11259 (+/-0.23749)\n",
      "reciprocal_best_rank: 0.13237 (+/-0.26999)\n",
      "reciprocal_average_rank: 0.02211 (+/-0.08810)\n",
      "ndcg_at_10: 0.08923 (+/-0.20029)\n",
      "\n",
      "SummariesOverlapAverageEmbedding\n",
      "Validation of the model...\n"
     ]
    },
    {
     "data": {
      "application/vnd.jupyter.widget-view+json": {
       "model_id": "296a84880c794ff1ac3ea803c7513746",
       "version_major": 2,
       "version_minor": 0
      },
      "text/plain": [
       "HBox(children=(FloatProgress(value=0.0, max=670.0), HTML(value='')))"
      ]
     },
     "metadata": {},
     "output_type": "display_data"
    },
    {
     "name": "stdout",
     "output_type": "stream",
     "text": [
      "\n",
      "average_precision: 0.09888 (+/-0.18520)\n",
      "recall_at_10: 0.15614 (+/-0.27600)\n",
      "reciprocal_best_rank: 0.17499 (+/-0.31296)\n",
      "reciprocal_average_rank: 0.02791 (+/-0.09596)\n",
      "ndcg_at_10: 0.12350 (+/-0.22850)\n",
      "\n",
      "ContextAverageEmbedding\n",
      "Validation of the model...\n"
     ]
    },
    {
     "data": {
      "application/vnd.jupyter.widget-view+json": {
       "model_id": "d504a0b5e5bc45dda95205074f5890a9",
       "version_major": 2,
       "version_minor": 0
      },
      "text/plain": [
       "HBox(children=(FloatProgress(value=0.0, max=670.0), HTML(value='')))"
      ]
     },
     "metadata": {},
     "output_type": "display_data"
    },
    {
     "name": "stdout",
     "output_type": "stream",
     "text": [
      "\n",
      "average_precision: 0.05171 (+/-0.12502)\n",
      "recall_at_10: 0.08281 (+/-0.20065)\n",
      "reciprocal_best_rank: 0.09942 (+/-0.23242)\n",
      "reciprocal_average_rank: 0.01172 (+/-0.05311)\n",
      "ndcg_at_10: 0.06359 (+/-0.16303)\n",
      "\n",
      "SummariesContextAverageEmbedding\n",
      "Validation of the model...\n"
     ]
    },
    {
     "data": {
      "application/vnd.jupyter.widget-view+json": {
       "model_id": "204be381fc2a4f7c9070c818068a4442",
       "version_major": 2,
       "version_minor": 0
      },
      "text/plain": [
       "HBox(children=(FloatProgress(value=0.0, max=670.0), HTML(value='')))"
      ]
     },
     "metadata": {},
     "output_type": "display_data"
    },
    {
     "name": "stdout",
     "output_type": "stream",
     "text": [
      "\n",
      "average_precision: 0.07654 (+/-0.16248)\n",
      "recall_at_10: 0.12131 (+/-0.23946)\n",
      "reciprocal_best_rank: 0.14094 (+/-0.28233)\n",
      "reciprocal_average_rank: 0.02109 (+/-0.08930)\n",
      "ndcg_at_10: 0.09479 (+/-0.20070)\n",
      "\n",
      "SummariesContextOverlapAverageEmbedding\n",
      "Validation of the model...\n"
     ]
    },
    {
     "data": {
      "application/vnd.jupyter.widget-view+json": {
       "model_id": "182f05b57bad4ac48d21b0fa99b9926c",
       "version_major": 2,
       "version_minor": 0
      },
      "text/plain": [
       "HBox(children=(FloatProgress(value=0.0, max=670.0), HTML(value='')))"
      ]
     },
     "metadata": {},
     "output_type": "display_data"
    },
    {
     "name": "stdout",
     "output_type": "stream",
     "text": [
      "\n",
      "average_precision: 0.05561 (+/-0.12649)\n",
      "recall_at_10: 0.08966 (+/-0.20696)\n",
      "reciprocal_best_rank: 0.10563 (+/-0.23656)\n",
      "reciprocal_average_rank: 0.01372 (+/-0.06178)\n",
      "ndcg_at_10: 0.06754 (+/-0.16446)\n",
      "\n"
     ]
    }
   ],
   "source": [
    "for model_name in model_names:\n",
    "    print(model_name)\n",
    "    \n",
    "    model = getattr(models, model_name)(scores_names=SCORES_NAMES,\n",
    "                                        relevance_level=task.relevance_level,\n",
    "                                        pretrained_model=word_embedding,\n",
    "                                        pretrained_model_dim=word_embedding_dim,\n",
    "                                        tensorboard_logs_path=TENSORBOARD_LOGS_BASELINES_PATH,\n",
    "                                        experiment_name=experiment_name,\n",
    "                                        random_seed=MODELS_RANDOM_SEED,\n",
    "                                        root=root)\n",
    "    \n",
    "    play_baseline(task=task,\n",
    "                  model=model)"
   ]
  },
  {
   "cell_type": "markdown",
   "metadata": {},
   "source": [
    "## BART baselines\n",
    "### Models"
   ]
  },
  {
   "cell_type": "code",
   "execution_count": null,
   "metadata": {},
   "outputs": [],
   "source": [
    "model_names = [\n",
    "    \"summaries_bart_mnli\",\n",
    "    \"context_bart_mnli\",\n",
    "    \"summaries_context_bart_mnli\",\n",
    "]\n",
    "model_names = [to_class_name(model_name) for model_name in model_names]"
   ]
  },
  {
   "cell_type": "markdown",
   "metadata": {},
   "source": [
    "### Pretrained model"
   ]
  },
  {
   "cell_type": "code",
   "execution_count": 13,
   "metadata": {},
   "outputs": [
    {
     "name": "stdout",
     "output_type": "stream",
     "text": [
      "loading archive file ../modeling/pretrained_models/bart.large.mnli\n",
      "| dictionary: 50264 types\n",
      "Registering classification head: mnli\n",
      "Pretrained BART.mnli loaded.\n",
      "\n"
     ]
    }
   ],
   "source": [
    "bart_mnli, _ = get_pretrained_model(pretrained_model_name=\"bart_mnli\",\n",
    "                                    folder_path=PRETRAINED_MODELS_PATH,\n",
    "                                    root=root)"
   ]
  },
  {
   "cell_type": "markdown",
   "metadata": {},
   "source": [
    "### Run the models"
   ]
  },
  {
   "cell_type": "code",
   "execution_count": null,
   "metadata": {
    "scrolled": true
   },
   "outputs": [
    {
     "name": "stdout",
     "output_type": "stream",
     "text": [
      "SummariesAverageEmbedding\n",
      "Validation of the model...\n",
      "\n"
     ]
    },
    {
     "data": {
      "application/vnd.jupyter.widget-view+json": {
       "model_id": "",
       "version_major": 2,
       "version_minor": 0
      },
      "text/plain": [
       "HBox(children=(FloatProgress(value=0.0, max=670.0), HTML(value='')))"
      ]
     },
     "metadata": {},
     "output_type": "display_data"
    },
    {
     "name": "stdout",
     "output_type": "stream",
     "text": [
      "\n",
      "Validation Score: 0.07634\n",
      "Scores evaluated on the validation set:\n",
      "average_precision: 0.07634\n",
      "recall_at_10: 0.11513\n",
      "reciprocal_best_rank: 0.13253\n",
      "reciprocal_average_rank: 0.02128\n",
      "ndcg_at_10: 0.09071\n",
      "\n",
      "\n",
      "SummariesOverlapAverageEmbedding\n",
      "Validation of the model...\n",
      "\n"
     ]
    },
    {
     "data": {
      "application/vnd.jupyter.widget-view+json": {
       "model_id": "",
       "version_major": 2,
       "version_minor": 0
      },
      "text/plain": [
       "HBox(children=(FloatProgress(value=0.0, max=670.0), HTML(value='')))"
      ]
     },
     "metadata": {},
     "output_type": "display_data"
    },
    {
     "name": "stdout",
     "output_type": "stream",
     "text": [
      "\n",
      "Validation Score: 0.10399\n",
      "Scores evaluated on the validation set:\n",
      "average_precision: 0.10399\n",
      "recall_at_10: 0.15489\n",
      "reciprocal_best_rank: 0.19313\n",
      "reciprocal_average_rank: 0.02827\n",
      "ndcg_at_10: 0.12905\n",
      "\n",
      "\n",
      "ContextAverageEmbedding\n",
      "Validation of the model...\n",
      "\n"
     ]
    },
    {
     "data": {
      "application/vnd.jupyter.widget-view+json": {
       "model_id": "",
       "version_major": 2,
       "version_minor": 0
      },
      "text/plain": [
       "HBox(children=(FloatProgress(value=0.0, max=670.0), HTML(value='')))"
      ]
     },
     "metadata": {},
     "output_type": "display_data"
    }
   ],
   "source": [
    "for model_name in model_names:\n",
    "    print(model_name)\n",
    "    \n",
    "    model = getattr(models, model_name)(scores_names=SCORES_NAMES,\n",
    "                                        relevance_level=task.relevance_level,\n",
    "                                        pretrained_model=bart_mnli,\n",
    "                                        pretrained_model_dim=None,\n",
    "                                        tensorboard_logs_path=TENSORBOARD_LOGS_BASELINES_PATH,\n",
    "                                        experiment_name=experiment_name,\n",
    "                                        random_seed=MODELS_RANDOM_SEED,\n",
    "                                        root=root)\n",
    "    \n",
    "    play_baseline(task=task,\n",
    "                  model=model)"
   ]
  }
 ],
 "metadata": {
  "kernelspec": {
   "display_name": "Python 3",
   "language": "python",
   "name": "python3"
  },
  "language_info": {
   "codemirror_mode": {
    "name": "ipython",
    "version": 3
   },
   "file_extension": ".py",
   "mimetype": "text/x-python",
   "name": "python",
   "nbconvert_exporter": "python",
   "pygments_lexer": "ipython3",
   "version": "3.7.6"
  },
  "pycharm": {
   "stem_cell": {
    "cell_type": "raw",
    "metadata": {
     "collapsed": false
    },
    "source": []
   }
  },
  "toc": {
   "base_numbering": 1,
   "nav_menu": {},
   "number_sections": true,
   "sideBar": true,
   "skip_h1_title": false,
   "title_cell": "Table of Contents",
   "title_sidebar": "Contents",
   "toc_cell": false,
   "toc_position": {},
   "toc_section_display": true,
   "toc_window_display": false
  }
 },
 "nbformat": 4,
 "nbformat_minor": 2
}
