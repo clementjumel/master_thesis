{
 "cells": [
  {
   "cell_type": "markdown",
   "metadata": {},
   "source": [
    "# Setup\n",
    "### Imports"
   ]
  },
  {
   "cell_type": "code",
   "execution_count": 1,
   "metadata": {
    "ExecuteTime": {
     "end_time": "2019-04-13T03:57:03.299844Z",
     "start_time": "2019-04-13T03:57:03.266445Z"
    },
    "pycharm": {
     "is_executing": false
    }
   },
   "outputs": [],
   "source": [
    "import sys\n",
    "sys.path.append('../')\n",
    "del sys\n",
    "\n",
    "%reload_ext autoreload\n",
    "%autoreload 2\n",
    "\n",
    "import modeling.models as models\n",
    "from toolbox.utils import to_class_name, load_task, get_pretrained_model\n",
    "from toolbox.parameters import SCORES_NAMES, MODELS_RANDOM_SEED\n",
    "from toolbox.paths import MODELING_TASK_FOR_BASELINES_PATH, PRETRAINED_MODELS_PATH, TENSORBOARD_LOGS_BASELINES_PATH\n",
    "from run_baselines import play_baseline\n",
    "\n",
    "root = \"../\""
   ]
  },
  {
   "cell_type": "markdown",
   "metadata": {},
   "source": [
    "### Parameters"
   ]
  },
  {
   "cell_type": "code",
   "execution_count": 2,
   "metadata": {},
   "outputs": [],
   "source": [
    "task_name = \"context_free\"\n",
    "all_batches = True\n",
    "short = False\n",
    "experiment_name = 'test_0'"
   ]
  },
  {
   "cell_type": "markdown",
   "metadata": {},
   "source": [
    "### Load the data"
   ]
  },
  {
   "cell_type": "code",
   "execution_count": 3,
   "metadata": {
    "scrolled": true
   },
   "outputs": [
    {
     "name": "stdout",
     "output_type": "stream",
     "text": [
      "Task loaded from ../results/modeling_task/baselines_split/context_free_batched.pkl.\n",
      "\n"
     ]
    }
   ],
   "source": [
    "task = load_task(task_name=task_name,\n",
    "                 folder_path=MODELING_TASK_FOR_BASELINES_PATH,\n",
    "                 all_batches=all_batches,\n",
    "                 short=short,\n",
    "                 root=root)"
   ]
  },
  {
   "cell_type": "markdown",
   "metadata": {},
   "source": [
    "# Run the baselines\n",
    "## Basic baselines\n",
    "### Models"
   ]
  },
  {
   "cell_type": "code",
   "execution_count": 4,
   "metadata": {},
   "outputs": [],
   "source": [
    "model_names = [\n",
    "    \"random\",\n",
    "    \"frequency\",\n",
    "    #\"summaries_count\",\n",
    "    #\"summaries_unique_count\",\n",
    "    #\"summaries_overlap\",\n",
    "    #\"activated_summaries\",\n",
    "    #\"context_count\",\n",
    "    #\"context_unique_count\",\n",
    "    #\"summaries_context_count\",\n",
    "    #\"summaries_context_unique_count\",\n",
    "    #\"summaries_context_overlap\",\n",
    "]\n",
    "model_names = [to_class_name(model_name) for model_name in model_names]"
   ]
  },
  {
   "cell_type": "markdown",
   "metadata": {},
   "source": [
    "### Run the models"
   ]
  },
  {
   "cell_type": "code",
   "execution_count": 5,
   "metadata": {
    "scrolled": true
   },
   "outputs": [
    {
     "name": "stdout",
     "output_type": "stream",
     "text": [
      "Random\n",
      "Validation of the model...\n"
     ]
    },
    {
     "data": {
      "application/vnd.jupyter.widget-view+json": {
       "model_id": "c1d41243833c4e21bade297a1273f43b",
       "version_major": 2,
       "version_minor": 0
      },
      "text/plain": [
       "HBox(children=(FloatProgress(value=0.0, max=18090.0), HTML(value='')))"
      ]
     },
     "metadata": {},
     "output_type": "display_data"
    },
    {
     "name": "stdout",
     "output_type": "stream",
     "text": [
      "\n",
      "average_precision: 0.07429 (+/-0.13580)\n",
      "recall_at_10: 0.15613 (+/-0.35622)\n",
      "reciprocal_best_rank: 0.07615 (+/-0.14072)\n",
      "reciprocal_average_rank: 0.07166 (+/-0.13452)\n",
      "ndcg_at_10: nan (+/-nan)\n",
      "\n",
      "\n",
      "Frequency\n",
      "Learning answers counts...\n"
     ]
    },
    {
     "data": {
      "application/vnd.jupyter.widget-view+json": {
       "model_id": "1bb3cf556cfc4990b9dd4b9284c22984",
       "version_major": 2,
       "version_minor": 0
      },
      "text/plain": [
       "HBox(children=(FloatProgress(value=0.0, max=18090.0), HTML(value='')))"
      ]
     },
     "metadata": {},
     "output_type": "display_data"
    },
    {
     "name": "stdout",
     "output_type": "stream",
     "text": [
      "\n",
      "Validation of the model...\n"
     ]
    },
    {
     "data": {
      "application/vnd.jupyter.widget-view+json": {
       "model_id": "1bf7ab1121f2424c8b4f6243efbcadc7",
       "version_major": 2,
       "version_minor": 0
      },
      "text/plain": [
       "HBox(children=(FloatProgress(value=0.0, max=18090.0), HTML(value='')))"
      ]
     },
     "metadata": {},
     "output_type": "display_data"
    },
    {
     "name": "stdout",
     "output_type": "stream",
     "text": [
      "\n",
      "average_precision: 0.42568 (+/-0.40091)\n",
      "recall_at_10: 0.64338 (+/-0.47098)\n",
      "reciprocal_best_rank: 0.43523 (+/-0.40769)\n",
      "reciprocal_average_rank: 0.41238 (+/-0.40207)\n",
      "ndcg_at_10: nan (+/-nan)\n",
      "\n",
      "\n"
     ]
    }
   ],
   "source": [
    "for model_name in model_names:\n",
    "    print(model_name)\n",
    "    \n",
    "    model = getattr(models, model_name)(scores_names=SCORES_NAMES,\n",
    "                                        relevance_level=task.relevance_level,\n",
    "                                        pretrained_model=None,\n",
    "                                        pretrained_model_dim=None,\n",
    "                                        tensorboard_logs_path=TENSORBOARD_LOGS_BASELINES_PATH,\n",
    "                                        experiment_name=experiment_name,\n",
    "                                        random_seed=MODELS_RANDOM_SEED,\n",
    "                                        root=root)\n",
    "    \n",
    "    play_baseline(task=task,\n",
    "                  model=model)"
   ]
  },
  {
   "cell_type": "markdown",
   "metadata": {},
   "source": [
    "## Embedding baselines\n",
    "### Models"
   ]
  },
  {
   "cell_type": "code",
   "execution_count": 7,
   "metadata": {},
   "outputs": [],
   "source": [
    "model_names = [\n",
    "    \"summaries_average_embedding\",\n",
    "    \"summaries_overlap_average_embedding\",\n",
    "    \"context_average_embedding\",\n",
    "    \"summaries_context_average_embedding\",\n",
    "    \"summaries_context_overlap_average_embedding\",\n",
    "]\n",
    "model_names = [to_class_name(model_name) for model_name in model_names]"
   ]
  },
  {
   "cell_type": "markdown",
   "metadata": {},
   "source": [
    "### Pretrained model"
   ]
  },
  {
   "cell_type": "code",
   "execution_count": 8,
   "metadata": {},
   "outputs": [
    {
     "name": "stdout",
     "output_type": "stream",
     "text": [
      "Word2Vec embedding loaded.\n",
      "\n"
     ]
    }
   ],
   "source": [
    "word_embedding, word_embedding_dim = get_pretrained_model(pretrained_model_name=\"word2vec\",\n",
    "                                                          folder_path=PRETRAINED_MODELS_PATH,\n",
    "                                                          root=root)"
   ]
  },
  {
   "cell_type": "markdown",
   "metadata": {},
   "source": [
    "### Run the models"
   ]
  },
  {
   "cell_type": "code",
   "execution_count": 9,
   "metadata": {
    "scrolled": true
   },
   "outputs": [
    {
     "name": "stdout",
     "output_type": "stream",
     "text": [
      "SummariesAverageEmbedding\n",
      "Validation of the model...\n",
      "\n"
     ]
    },
    {
     "data": {
      "application/vnd.jupyter.widget-view+json": {
       "model_id": "e0d8cfcdedb4420db233a1d660f7f60d",
       "version_major": 2,
       "version_minor": 0
      },
      "text/plain": [
       "HBox(children=(FloatProgress(value=0.0, max=861.0), HTML(value='')))"
      ]
     },
     "metadata": {},
     "output_type": "display_data"
    },
    {
     "name": "stdout",
     "output_type": "stream",
     "text": [
      "\n",
      "Validation Score: 0.07822\n",
      "Scores evaluated on the validation set:\n",
      "average_precision: 0.07822\n",
      "recall_at_10: 0.12232\n",
      "reciprocal_best_rank: 0.13005\n",
      "reciprocal_average_rank: 0.02644\n",
      "ndcg_at_10: 0.09232\n",
      "\n",
      "\n",
      "SummariesOverlapAverageEmbedding\n",
      "Validation of the model...\n",
      "\n"
     ]
    },
    {
     "data": {
      "application/vnd.jupyter.widget-view+json": {
       "model_id": "6dbc25975bdc495fa810a70446bafed9",
       "version_major": 2,
       "version_minor": 0
      },
      "text/plain": [
       "HBox(children=(FloatProgress(value=0.0, max=861.0), HTML(value='')))"
      ]
     },
     "metadata": {},
     "output_type": "display_data"
    },
    {
     "name": "stdout",
     "output_type": "stream",
     "text": [
      "\n",
      "Validation Score: 0.10471\n",
      "Scores evaluated on the validation set:\n",
      "average_precision: 0.10471\n",
      "recall_at_10: 0.16065\n",
      "reciprocal_best_rank: 0.17590\n",
      "reciprocal_average_rank: 0.03437\n",
      "ndcg_at_10: 0.12572\n",
      "\n",
      "\n",
      "ContextAverageEmbedding\n",
      "Validation of the model...\n",
      "\n"
     ]
    },
    {
     "data": {
      "application/vnd.jupyter.widget-view+json": {
       "model_id": "71e9fe8556414ebab3c4a875ab61759d",
       "version_major": 2,
       "version_minor": 0
      },
      "text/plain": [
       "HBox(children=(FloatProgress(value=0.0, max=861.0), HTML(value='')))"
      ]
     },
     "metadata": {},
     "output_type": "display_data"
    },
    {
     "name": "stdout",
     "output_type": "stream",
     "text": [
      "\n",
      "Validation Score: 0.06141\n",
      "Scores evaluated on the validation set:\n",
      "average_precision: 0.06141\n",
      "recall_at_10: 0.09377\n",
      "reciprocal_best_rank: 0.10511\n",
      "reciprocal_average_rank: 0.01819\n",
      "ndcg_at_10: 0.07022\n",
      "\n",
      "\n",
      "SummariesContextAverageEmbedding\n",
      "Validation of the model...\n",
      "\n"
     ]
    },
    {
     "data": {
      "application/vnd.jupyter.widget-view+json": {
       "model_id": "cf97b955c9fc467e904258a2d02a218c",
       "version_major": 2,
       "version_minor": 0
      },
      "text/plain": [
       "HBox(children=(FloatProgress(value=0.0, max=861.0), HTML(value='')))"
      ]
     },
     "metadata": {},
     "output_type": "display_data"
    },
    {
     "name": "stdout",
     "output_type": "stream",
     "text": [
      "\n",
      "Validation Score: 0.07925\n",
      "Scores evaluated on the validation set:\n",
      "average_precision: 0.07925\n",
      "recall_at_10: 0.13016\n",
      "reciprocal_best_rank: 0.13118\n",
      "reciprocal_average_rank: 0.02653\n",
      "ndcg_at_10: 0.09486\n",
      "\n",
      "\n",
      "SummariesContextOverlapAverageEmbedding\n"
     ]
    },
    {
     "ename": "AttributeError",
     "evalue": "module 'modeling.models' has no attribute 'SummariesContextOverlapAverageEmbedding'",
     "output_type": "error",
     "traceback": [
      "\u001b[0;31m---------------------------------------------------------------------------\u001b[0m",
      "\u001b[0;31mAttributeError\u001b[0m                            Traceback (most recent call last)",
      "\u001b[0;32m<ipython-input-9-0c25b89a7907>\u001b[0m in \u001b[0;36m<module>\u001b[0;34m\u001b[0m\n\u001b[1;32m      2\u001b[0m     \u001b[0mprint\u001b[0m\u001b[0;34m(\u001b[0m\u001b[0mmodel_name\u001b[0m\u001b[0;34m)\u001b[0m\u001b[0;34m\u001b[0m\u001b[0;34m\u001b[0m\u001b[0m\n\u001b[1;32m      3\u001b[0m \u001b[0;34m\u001b[0m\u001b[0m\n\u001b[0;32m----> 4\u001b[0;31m     model = getattr(models, model_name)(scores_names=SCORES_NAMES,\n\u001b[0m\u001b[1;32m      5\u001b[0m                                         \u001b[0mrelevance_level\u001b[0m\u001b[0;34m=\u001b[0m\u001b[0mtask\u001b[0m\u001b[0;34m.\u001b[0m\u001b[0mrelevance_level\u001b[0m\u001b[0;34m,\u001b[0m\u001b[0;34m\u001b[0m\u001b[0;34m\u001b[0m\u001b[0m\n\u001b[1;32m      6\u001b[0m                                         \u001b[0mexperiment_name\u001b[0m\u001b[0;34m=\u001b[0m\u001b[0mexperiment_name\u001b[0m\u001b[0;34m,\u001b[0m\u001b[0;34m\u001b[0m\u001b[0;34m\u001b[0m\u001b[0m\n",
      "\u001b[0;31mAttributeError\u001b[0m: module 'modeling.models' has no attribute 'SummariesContextOverlapAverageEmbedding'"
     ]
    }
   ],
   "source": [
    "for model_name in model_names:\n",
    "    print(model_name)\n",
    "    \n",
    "    model = getattr(models, model_name)(scores_names=SCORES_NAMES,\n",
    "                                        relevance_level=task.relevance_level,\n",
    "                                        pretrained_model=word_embedding,\n",
    "                                        pretrained_model_dim=word_embedding_dim,\n",
    "                                        tensorboard_logs_path=TENSORBOARD_LOGS_BASELINES_PATH,\n",
    "                                        experiment_name=experiment_name,\n",
    "                                        random_seed=MODELS_RANDOM_SEED,\n",
    "                                        root=root)\n",
    "    \n",
    "    play_baseline(task=task,\n",
    "                  model=model)"
   ]
  },
  {
   "cell_type": "markdown",
   "metadata": {},
   "source": [
    "## BART baselines\n",
    "### Models"
   ]
  },
  {
   "cell_type": "code",
   "execution_count": null,
   "metadata": {},
   "outputs": [],
   "source": [
    "model_names = [\n",
    "    \"summaries_bart_mnli\",\n",
    "]\n",
    "model_names = [to_class_name(model_name) for model_name in model_names]"
   ]
  },
  {
   "cell_type": "markdown",
   "metadata": {},
   "source": [
    "### Pretrained model"
   ]
  },
  {
   "cell_type": "code",
   "execution_count": 13,
   "metadata": {},
   "outputs": [
    {
     "name": "stdout",
     "output_type": "stream",
     "text": [
      "loading archive file ../modeling/pretrained_models/bart.large.mnli\n",
      "| dictionary: 50264 types\n",
      "Registering classification head: mnli\n",
      "Pretrained BART.mnli loaded.\n",
      "\n"
     ]
    }
   ],
   "source": [
    "bart_mnli, _ = get_pretrained_model(pretrained_model_name=\"bart_mnli\",\n",
    "                                    folder_path=PRETRAINED_MODELS_PATH,\n",
    "                                    root=root)"
   ]
  },
  {
   "cell_type": "markdown",
   "metadata": {},
   "source": [
    "### Run the models"
   ]
  },
  {
   "cell_type": "code",
   "execution_count": null,
   "metadata": {
    "scrolled": true
   },
   "outputs": [
    {
     "name": "stdout",
     "output_type": "stream",
     "text": [
      "SummariesAverageEmbedding\n",
      "Validation of the model...\n",
      "\n"
     ]
    },
    {
     "data": {
      "application/vnd.jupyter.widget-view+json": {
       "model_id": "",
       "version_major": 2,
       "version_minor": 0
      },
      "text/plain": [
       "HBox(children=(FloatProgress(value=0.0, max=670.0), HTML(value='')))"
      ]
     },
     "metadata": {},
     "output_type": "display_data"
    },
    {
     "name": "stdout",
     "output_type": "stream",
     "text": [
      "\n",
      "Validation Score: 0.07634\n",
      "Scores evaluated on the validation set:\n",
      "average_precision: 0.07634\n",
      "recall_at_10: 0.11513\n",
      "reciprocal_best_rank: 0.13253\n",
      "reciprocal_average_rank: 0.02128\n",
      "ndcg_at_10: 0.09071\n",
      "\n",
      "\n",
      "SummariesOverlapAverageEmbedding\n",
      "Validation of the model...\n",
      "\n"
     ]
    },
    {
     "data": {
      "application/vnd.jupyter.widget-view+json": {
       "model_id": "",
       "version_major": 2,
       "version_minor": 0
      },
      "text/plain": [
       "HBox(children=(FloatProgress(value=0.0, max=670.0), HTML(value='')))"
      ]
     },
     "metadata": {},
     "output_type": "display_data"
    },
    {
     "name": "stdout",
     "output_type": "stream",
     "text": [
      "\n",
      "Validation Score: 0.10399\n",
      "Scores evaluated on the validation set:\n",
      "average_precision: 0.10399\n",
      "recall_at_10: 0.15489\n",
      "reciprocal_best_rank: 0.19313\n",
      "reciprocal_average_rank: 0.02827\n",
      "ndcg_at_10: 0.12905\n",
      "\n",
      "\n",
      "ContextAverageEmbedding\n",
      "Validation of the model...\n",
      "\n"
     ]
    },
    {
     "data": {
      "application/vnd.jupyter.widget-view+json": {
       "model_id": "",
       "version_major": 2,
       "version_minor": 0
      },
      "text/plain": [
       "HBox(children=(FloatProgress(value=0.0, max=670.0), HTML(value='')))"
      ]
     },
     "metadata": {},
     "output_type": "display_data"
    }
   ],
   "source": [
    "for model_name in model_names:\n",
    "    print(model_name)\n",
    "    \n",
    "    model = getattr(models, model_name)(scores_names=SCORES_NAMES,\n",
    "                                        relevance_level=task.relevance_level,\n",
    "                                        pretrained_model=bart_mnli,\n",
    "                                        pretrained_model_dim=None,\n",
    "                                        tensorboard_logs_path=TENSORBOARD_LOGS_BASELINES_PATH,\n",
    "                                        experiment_name=experiment_name,\n",
    "                                        random_seed=MODELS_RANDOM_SEED,\n",
    "                                        root=root)\n",
    "    \n",
    "    play_baseline(task=task,\n",
    "                  model=model)"
   ]
  }
 ],
 "metadata": {
  "kernelspec": {
   "display_name": "Python 3",
   "language": "python",
   "name": "python3"
  },
  "language_info": {
   "codemirror_mode": {
    "name": "ipython",
    "version": 3
   },
   "file_extension": ".py",
   "mimetype": "text/x-python",
   "name": "python",
   "nbconvert_exporter": "python",
   "pygments_lexer": "ipython3",
   "version": "3.7.6"
  },
  "pycharm": {
   "stem_cell": {
    "cell_type": "raw",
    "metadata": {
     "collapsed": false
    },
    "source": []
   }
  },
  "toc": {
   "base_numbering": 1,
   "nav_menu": {},
   "number_sections": true,
   "sideBar": true,
   "skip_h1_title": false,
   "title_cell": "Table of Contents",
   "title_sidebar": "Contents",
   "toc_cell": false,
   "toc_position": {},
   "toc_section_display": true,
   "toc_window_display": false
  }
 },
 "nbformat": 4,
 "nbformat_minor": 2
}
