{
 "cells": [
  {
   "cell_type": "markdown",
   "metadata": {},
   "source": [
    "# Setup\n",
    "### Imports"
   ]
  },
  {
   "cell_type": "code",
   "execution_count": 1,
   "metadata": {
    "ExecuteTime": {
     "end_time": "2019-04-13T03:57:03.299844Z",
     "start_time": "2019-04-13T03:57:03.266445Z"
    },
    "pycharm": {
     "is_executing": false
    }
   },
   "outputs": [],
   "source": [
    "import sys\n",
    "sys.path.append('../')\n",
    "del sys\n",
    "\n",
    "%reload_ext autoreload\n",
    "%autoreload 2\n",
    "\n",
    "import modeling.models as models\n",
    "from toolbox.utils import to_class_name, load_task, get_pretrained_model\n",
    "from toolbox.parameters import SCORES_NAMES, BASELINES_RANDOM_SEED\n",
    "from toolbox.paths import MODELING_TASK_RESULTS_PATH, PRETRAINED_MODELS_PATH, TENSORBOARD_LOGS_PATH\n",
    "from run_baselines import play_baseline\n",
    "\n",
    "root = \"../\""
   ]
  },
  {
   "cell_type": "markdown",
   "metadata": {},
   "source": [
    "### Parameters"
   ]
  },
  {
   "cell_type": "code",
   "execution_count": 2,
   "metadata": {},
   "outputs": [],
   "source": [
    "args = {\n",
    "    'task': \"context_free\",\n",
    "    'valid_proportion': 0.50,\n",
    "    'test_proportion': 0.50,\n",
    "    'batch_size': 64,\n",
    "    'cross_validation': False,\n",
    "    'short': False,\n",
    "    'experiment': \"notebook_test\"\n",
    "}"
   ]
  },
  {
   "cell_type": "code",
   "execution_count": 3,
   "metadata": {},
   "outputs": [],
   "source": [
    "task_name = args['task']\n",
    "valid_proportion = args['valid_proportion']\n",
    "test_proportion = args['test_proportion']\n",
    "batch_size = args['batch_size']\n",
    "cross_validation = args['cross_validation']\n",
    "short = args['short']\n",
    "experiment_name = args['experiment']"
   ]
  },
  {
   "cell_type": "markdown",
   "metadata": {},
   "source": [
    "### Load the data"
   ]
  },
  {
   "cell_type": "code",
   "execution_count": 5,
   "metadata": {
    "scrolled": true
   },
   "outputs": [
    {
     "name": "stdout",
     "output_type": "stream",
     "text": [
      "Task loaded from ../results/modeling_task/contextfree_00-50-50_bs64.pkl.\n",
      "\n"
     ]
    }
   ],
   "source": [
    "task = load_task(task_name=task_name,\n",
    "                 valid_proportion=valid_proportion,\n",
    "                 test_proportion=test_proportion,\n",
    "                 batch_size=batch_size,\n",
    "                 cross_validation=cross_validation,\n",
    "                 short=short,\n",
    "                 folder_path=root + MODELING_TASK_RESULTS_PATH)"
   ]
  },
  {
   "cell_type": "markdown",
   "metadata": {},
   "source": [
    "# Run the baselines\n",
    "## Basic baselines\n",
    "### Models"
   ]
  },
  {
   "cell_type": "code",
   "execution_count": 6,
   "metadata": {},
   "outputs": [],
   "source": [
    "model_names = [\n",
    "    \"random\",\n",
    "    \"frequency\",\n",
    "    \"summaries_count\",\n",
    "    \"summaries_unique_count\",\n",
    "    \"summaries_overlap\",\n",
    "    \"activated_summaries\",\n",
    "    \"context_count\",\n",
    "    \"context_unique_count\",\n",
    "    \"summaries_context_count\",\n",
    "    \"summaries_context_unique_count\",\n",
    "    \"summaries_context_overlap\",\n",
    "]\n",
    "model_names = [to_class_name(model_name) for model_name in model_names]"
   ]
  },
  {
   "cell_type": "markdown",
   "metadata": {},
   "source": [
    "### Run the models"
   ]
  },
  {
   "cell_type": "code",
   "execution_count": 9,
   "metadata": {
    "scrolled": true
   },
   "outputs": [
    {
     "name": "stdout",
     "output_type": "stream",
     "text": [
      "Random\n",
      "Validation of the model...\n"
     ]
    },
    {
     "data": {
      "application/vnd.jupyter.widget-view+json": {
       "model_id": "f2e8134f10444688b4e385879ca21e9f",
       "version_major": 2,
       "version_minor": 0
      },
      "text/plain": [
       "HBox(children=(FloatProgress(value=0.0, max=670.0), HTML(value='')))"
      ]
     },
     "metadata": {},
     "output_type": "display_data"
    },
    {
     "name": "stdout",
     "output_type": "stream",
     "text": [
      "\n",
      "average_precision: 0.00656 (+/-0.01645)\n",
      "recall_at_10: 0.01086 (+/-0.06410)\n",
      "reciprocal_best_rank: 0.01279 (+/-0.04189)\n",
      "reciprocal_average_rank: 0.00157 (+/-0.00182)\n",
      "ndcg_at_10: 0.00578 (+/-0.03459)\n",
      "\n",
      "Frequency\n",
      "Learning answers counts...\n"
     ]
    },
    {
     "data": {
      "application/vnd.jupyter.widget-view+json": {
       "model_id": "51ea7a9bcc9f43ff81f692c8f89b54ac",
       "version_major": 2,
       "version_minor": 0
      },
      "text/plain": [
       "HBox(children=(FloatProgress(value=0.0, max=670.0), HTML(value='')))"
      ]
     },
     "metadata": {},
     "output_type": "display_data"
    },
    {
     "name": "stdout",
     "output_type": "stream",
     "text": [
      "\n",
      "Validation of the model...\n"
     ]
    },
    {
     "data": {
      "application/vnd.jupyter.widget-view+json": {
       "model_id": "eec3ce06afee49de9da51668a8a0f115",
       "version_major": 2,
       "version_minor": 0
      },
      "text/plain": [
       "HBox(children=(FloatProgress(value=0.0, max=670.0), HTML(value='')))"
      ]
     },
     "metadata": {},
     "output_type": "display_data"
    },
    {
     "name": "stdout",
     "output_type": "stream",
     "text": [
      "\n",
      "average_precision: 0.13871 (+/-0.16313)\n",
      "recall_at_10: 0.26007 (+/-0.28032)\n",
      "reciprocal_best_rank: 0.28207 (+/-0.33272)\n",
      "reciprocal_average_rank: 0.02976 (+/-0.08948)\n",
      "ndcg_at_10: 0.19541 (+/-0.21750)\n",
      "\n",
      "SummariesCount\n",
      "Validation of the model...\n"
     ]
    },
    {
     "data": {
      "application/vnd.jupyter.widget-view+json": {
       "model_id": "1914577a62ac4ac2bcc5d2e6c66e08c2",
       "version_major": 2,
       "version_minor": 0
      },
      "text/plain": [
       "HBox(children=(FloatProgress(value=0.0, max=670.0), HTML(value='')))"
      ]
     },
     "metadata": {},
     "output_type": "display_data"
    },
    {
     "name": "stdout",
     "output_type": "stream",
     "text": [
      "\n",
      "average_precision: 0.05414 (+/-0.12075)\n",
      "recall_at_10: 0.08484 (+/-0.19167)\n",
      "reciprocal_best_rank: 0.11899 (+/-0.25907)\n",
      "reciprocal_average_rank: 0.00781 (+/-0.03646)\n",
      "ndcg_at_10: 0.07081 (+/-0.16391)\n",
      "\n",
      "SummariesUniqueCount\n",
      "Validation of the model...\n"
     ]
    },
    {
     "data": {
      "application/vnd.jupyter.widget-view+json": {
       "model_id": "7207b32d49914ee69b0bd9700632a0f6",
       "version_major": 2,
       "version_minor": 0
      },
      "text/plain": [
       "HBox(children=(FloatProgress(value=0.0, max=670.0), HTML(value='')))"
      ]
     },
     "metadata": {},
     "output_type": "display_data"
    },
    {
     "name": "stdout",
     "output_type": "stream",
     "text": [
      "\n",
      "average_precision: 0.03113 (+/-0.07896)\n",
      "recall_at_10: 0.04929 (+/-0.13896)\n",
      "reciprocal_best_rank: 0.07250 (+/-0.19717)\n",
      "reciprocal_average_rank: 0.00469 (+/-0.02100)\n",
      "ndcg_at_10: 0.03831 (+/-0.11311)\n",
      "\n",
      "SummariesOverlap\n",
      "Validation of the model...\n"
     ]
    },
    {
     "data": {
      "application/vnd.jupyter.widget-view+json": {
       "model_id": "835beea88f8c47fb8be889d5747cc1e4",
       "version_major": 2,
       "version_minor": 0
      },
      "text/plain": [
       "HBox(children=(FloatProgress(value=0.0, max=670.0), HTML(value='')))"
      ]
     },
     "metadata": {},
     "output_type": "display_data"
    },
    {
     "name": "stdout",
     "output_type": "stream",
     "text": [
      "\n",
      "average_precision: 0.04423 (+/-0.10854)\n",
      "recall_at_10: 0.06821 (+/-0.17138)\n",
      "reciprocal_best_rank: 0.10377 (+/-0.25450)\n",
      "reciprocal_average_rank: 0.00696 (+/-0.03767)\n",
      "ndcg_at_10: 0.05848 (+/-0.14888)\n",
      "\n",
      "ActivatedSummaries\n",
      "Validation of the model...\n"
     ]
    },
    {
     "data": {
      "application/vnd.jupyter.widget-view+json": {
       "model_id": "3eb6d0f38a404b278d8c35ca8b5a9d68",
       "version_major": 2,
       "version_minor": 0
      },
      "text/plain": [
       "HBox(children=(FloatProgress(value=0.0, max=670.0), HTML(value='')))"
      ]
     },
     "metadata": {},
     "output_type": "display_data"
    },
    {
     "name": "stdout",
     "output_type": "stream",
     "text": [
      "\n",
      "average_precision: 0.03478 (+/-0.08745)\n",
      "recall_at_10: 0.05308 (+/-0.15377)\n",
      "reciprocal_best_rank: 0.07412 (+/-0.19576)\n",
      "reciprocal_average_rank: 0.00620 (+/-0.02654)\n",
      "ndcg_at_10: 0.04094 (+/-0.12125)\n",
      "\n",
      "ContextCount\n",
      "Validation of the model...\n"
     ]
    },
    {
     "data": {
      "application/vnd.jupyter.widget-view+json": {
       "model_id": "fc9c1c854bec46feb3c8215de2d807cc",
       "version_major": 2,
       "version_minor": 0
      },
      "text/plain": [
       "HBox(children=(FloatProgress(value=0.0, max=670.0), HTML(value='')))"
      ]
     },
     "metadata": {},
     "output_type": "display_data"
    },
    {
     "name": "stdout",
     "output_type": "stream",
     "text": [
      "\n",
      "average_precision: 0.04787 (+/-0.12723)\n",
      "recall_at_10: 0.07289 (+/-0.18669)\n",
      "reciprocal_best_rank: 0.10415 (+/-0.25750)\n",
      "reciprocal_average_rank: 0.00809 (+/-0.04676)\n",
      "ndcg_at_10: 0.06214 (+/-0.16440)\n",
      "\n",
      "ContextUniqueCount\n",
      "Validation of the model...\n"
     ]
    },
    {
     "data": {
      "application/vnd.jupyter.widget-view+json": {
       "model_id": "b0499f027b364375aecef1fde2bac38c",
       "version_major": 2,
       "version_minor": 0
      },
      "text/plain": [
       "HBox(children=(FloatProgress(value=0.0, max=670.0), HTML(value='')))"
      ]
     },
     "metadata": {},
     "output_type": "display_data"
    },
    {
     "name": "stdout",
     "output_type": "stream",
     "text": [
      "\n",
      "average_precision: 0.03238 (+/-0.08262)\n",
      "recall_at_10: 0.05718 (+/-0.15401)\n",
      "reciprocal_best_rank: 0.07741 (+/-0.21089)\n",
      "reciprocal_average_rank: 0.00458 (+/-0.01787)\n",
      "ndcg_at_10: 0.04391 (+/-0.12065)\n",
      "\n",
      "SummariesContextCount\n",
      "Validation of the model...\n"
     ]
    },
    {
     "data": {
      "application/vnd.jupyter.widget-view+json": {
       "model_id": "2abf9d5ad9484aaf8657b211962e997e",
       "version_major": 2,
       "version_minor": 0
      },
      "text/plain": [
       "HBox(children=(FloatProgress(value=0.0, max=670.0), HTML(value='')))"
      ]
     },
     "metadata": {},
     "output_type": "display_data"
    },
    {
     "name": "stdout",
     "output_type": "stream",
     "text": [
      "\n",
      "average_precision: 0.06734 (+/-0.13943)\n",
      "recall_at_10: 0.10738 (+/-0.21417)\n",
      "reciprocal_best_rank: 0.15018 (+/-0.29761)\n",
      "reciprocal_average_rank: 0.01087 (+/-0.05422)\n",
      "ndcg_at_10: 0.08963 (+/-0.18331)\n",
      "\n",
      "SummariesContextUniqueCount\n",
      "Validation of the model...\n"
     ]
    },
    {
     "data": {
      "application/vnd.jupyter.widget-view+json": {
       "model_id": "d2bdcce9581e4d04859b5bdcc7ee1dbf",
       "version_major": 2,
       "version_minor": 0
      },
      "text/plain": [
       "HBox(children=(FloatProgress(value=0.0, max=670.0), HTML(value='')))"
      ]
     },
     "metadata": {},
     "output_type": "display_data"
    },
    {
     "name": "stdout",
     "output_type": "stream",
     "text": [
      "\n",
      "average_precision: 0.03252 (+/-0.07876)\n",
      "recall_at_10: 0.05534 (+/-0.14403)\n",
      "reciprocal_best_rank: 0.07552 (+/-0.19580)\n",
      "reciprocal_average_rank: 0.00501 (+/-0.02313)\n",
      "ndcg_at_10: 0.04106 (+/-0.11240)\n",
      "\n",
      "SummariesContextOverlap\n",
      "Validation of the model...\n"
     ]
    },
    {
     "data": {
      "application/vnd.jupyter.widget-view+json": {
       "model_id": "68435047dcc145b98e81b825c798c224",
       "version_major": 2,
       "version_minor": 0
      },
      "text/plain": [
       "HBox(children=(FloatProgress(value=0.0, max=670.0), HTML(value='')))"
      ]
     },
     "metadata": {},
     "output_type": "display_data"
    },
    {
     "name": "stdout",
     "output_type": "stream",
     "text": [
      "\n",
      "average_precision: 0.04035 (+/-0.09052)\n",
      "recall_at_10: 0.06828 (+/-0.15886)\n",
      "reciprocal_best_rank: 0.09713 (+/-0.22905)\n",
      "reciprocal_average_rank: 0.00570 (+/-0.02498)\n",
      "ndcg_at_10: 0.05350 (+/-0.12919)\n",
      "\n"
     ]
    }
   ],
   "source": [
    "for model_name in model_names:\n",
    "    print(model_name)\n",
    "    \n",
    "    model = getattr(models, model_name)(scores_names=SCORES_NAMES,\n",
    "                                        relevance_level=task.relevance_level,\n",
    "                                        pretrained_model=None,\n",
    "                                        pretrained_model_dim=None,\n",
    "                                        tensorboard_logs_path=root + TENSORBOARD_LOGS_PATH,\n",
    "                                        experiment_name=experiment_name,\n",
    "                                        random_seed=BASELINES_RANDOM_SEED)\n",
    "    \n",
    "    play_baseline(task=task,\n",
    "                  model=model)"
   ]
  },
  {
   "cell_type": "markdown",
   "metadata": {},
   "source": [
    "## Embedding baselines\n",
    "### Models"
   ]
  },
  {
   "cell_type": "code",
   "execution_count": 8,
   "metadata": {},
   "outputs": [],
   "source": [
    "model_names = [\n",
    "    \"summaries_average_embedding\",\n",
    "    \"summaries_overlap_average_embedding\",\n",
    "    \"context_average_embedding\",\n",
    "    \"summaries_context_average_embedding\",\n",
    "    \"summaries_context_overlap_average_embedding\",\n",
    "]\n",
    "model_names = [to_class_name(model_name) for model_name in model_names]"
   ]
  },
  {
   "cell_type": "markdown",
   "metadata": {},
   "source": [
    "### Pretrained model"
   ]
  },
  {
   "cell_type": "code",
   "execution_count": 9,
   "metadata": {},
   "outputs": [
    {
     "name": "stdout",
     "output_type": "stream",
     "text": [
      "Word2Vec embedding loaded.\n",
      "\n"
     ]
    }
   ],
   "source": [
    "word_embedding, word_embedding_dim = get_pretrained_model(pretrained_model_name=\"word2vec\",\n",
    "                                                          folder_path=root + PRETRAINED_MODELS_PATH)"
   ]
  },
  {
   "cell_type": "markdown",
   "metadata": {},
   "source": [
    "### Run the models"
   ]
  },
  {
   "cell_type": "code",
   "execution_count": 10,
   "metadata": {
    "scrolled": true
   },
   "outputs": [
    {
     "name": "stdout",
     "output_type": "stream",
     "text": [
      "SummariesAverageEmbedding\n",
      "Validation of the model...\n"
     ]
    },
    {
     "data": {
      "application/vnd.jupyter.widget-view+json": {
       "model_id": "60eff880914d4d98bc54089c14e0f20d",
       "version_major": 2,
       "version_minor": 0
      },
      "text/plain": [
       "HBox(children=(FloatProgress(value=0.0, max=670.0), HTML(value='')))"
      ]
     },
     "metadata": {},
     "output_type": "display_data"
    },
    {
     "name": "stdout",
     "output_type": "stream",
     "text": [
      "\n",
      "average_precision: 0.07567 (+/-0.16339)\n",
      "recall_at_10: 0.11259 (+/-0.23749)\n",
      "reciprocal_best_rank: 0.13237 (+/-0.26999)\n",
      "reciprocal_average_rank: 0.02211 (+/-0.08810)\n",
      "ndcg_at_10: 0.08923 (+/-0.20029)\n",
      "\n",
      "SummariesOverlapAverageEmbedding\n",
      "Validation of the model...\n"
     ]
    },
    {
     "data": {
      "application/vnd.jupyter.widget-view+json": {
       "model_id": "296a84880c794ff1ac3ea803c7513746",
       "version_major": 2,
       "version_minor": 0
      },
      "text/plain": [
       "HBox(children=(FloatProgress(value=0.0, max=670.0), HTML(value='')))"
      ]
     },
     "metadata": {},
     "output_type": "display_data"
    },
    {
     "name": "stdout",
     "output_type": "stream",
     "text": [
      "\n",
      "average_precision: 0.09888 (+/-0.18520)\n",
      "recall_at_10: 0.15614 (+/-0.27600)\n",
      "reciprocal_best_rank: 0.17499 (+/-0.31296)\n",
      "reciprocal_average_rank: 0.02791 (+/-0.09596)\n",
      "ndcg_at_10: 0.12350 (+/-0.22850)\n",
      "\n",
      "ContextAverageEmbedding\n",
      "Validation of the model...\n"
     ]
    },
    {
     "data": {
      "application/vnd.jupyter.widget-view+json": {
       "model_id": "d504a0b5e5bc45dda95205074f5890a9",
       "version_major": 2,
       "version_minor": 0
      },
      "text/plain": [
       "HBox(children=(FloatProgress(value=0.0, max=670.0), HTML(value='')))"
      ]
     },
     "metadata": {},
     "output_type": "display_data"
    },
    {
     "name": "stdout",
     "output_type": "stream",
     "text": [
      "\n",
      "average_precision: 0.05171 (+/-0.12502)\n",
      "recall_at_10: 0.08281 (+/-0.20065)\n",
      "reciprocal_best_rank: 0.09942 (+/-0.23242)\n",
      "reciprocal_average_rank: 0.01172 (+/-0.05311)\n",
      "ndcg_at_10: 0.06359 (+/-0.16303)\n",
      "\n",
      "SummariesContextAverageEmbedding\n",
      "Validation of the model...\n"
     ]
    },
    {
     "data": {
      "application/vnd.jupyter.widget-view+json": {
       "model_id": "204be381fc2a4f7c9070c818068a4442",
       "version_major": 2,
       "version_minor": 0
      },
      "text/plain": [
       "HBox(children=(FloatProgress(value=0.0, max=670.0), HTML(value='')))"
      ]
     },
     "metadata": {},
     "output_type": "display_data"
    },
    {
     "name": "stdout",
     "output_type": "stream",
     "text": [
      "\n",
      "average_precision: 0.07654 (+/-0.16248)\n",
      "recall_at_10: 0.12131 (+/-0.23946)\n",
      "reciprocal_best_rank: 0.14094 (+/-0.28233)\n",
      "reciprocal_average_rank: 0.02109 (+/-0.08930)\n",
      "ndcg_at_10: 0.09479 (+/-0.20070)\n",
      "\n",
      "SummariesContextOverlapAverageEmbedding\n",
      "Validation of the model...\n"
     ]
    },
    {
     "data": {
      "application/vnd.jupyter.widget-view+json": {
       "model_id": "182f05b57bad4ac48d21b0fa99b9926c",
       "version_major": 2,
       "version_minor": 0
      },
      "text/plain": [
       "HBox(children=(FloatProgress(value=0.0, max=670.0), HTML(value='')))"
      ]
     },
     "metadata": {},
     "output_type": "display_data"
    },
    {
     "name": "stdout",
     "output_type": "stream",
     "text": [
      "\n",
      "average_precision: 0.05561 (+/-0.12649)\n",
      "recall_at_10: 0.08966 (+/-0.20696)\n",
      "reciprocal_best_rank: 0.10563 (+/-0.23656)\n",
      "reciprocal_average_rank: 0.01372 (+/-0.06178)\n",
      "ndcg_at_10: 0.06754 (+/-0.16446)\n",
      "\n"
     ]
    }
   ],
   "source": [
    "for model_name in model_names:\n",
    "    print(model_name)\n",
    "    \n",
    "    model = getattr(models, model_name)(scores_names=SCORES_NAMES,\n",
    "                                        relevance_level=task.relevance_level,\n",
    "                                        pretrained_model=word_embedding,\n",
    "                                        pretrained_model_dim=word_embedding_dim,\n",
    "                                        tensorboard_logs_path=root + TENSORBOARD_LOGS_PATH,\n",
    "                                        experiment_name=experiment_name,\n",
    "                                        random_seed=BASELINES_RANDOM_SEED)\n",
    "    \n",
    "    play_baseline(task=task,\n",
    "                  model=model)"
   ]
  },
  {
   "cell_type": "markdown",
   "metadata": {},
   "source": [
    "## BART baselines\n",
    "### Models"
   ]
  },
  {
   "cell_type": "code",
   "execution_count": null,
   "metadata": {},
   "outputs": [],
   "source": [
    "model_names = [\n",
    "    \"summaries_bart_mnli\",\n",
    "    \"context_bart_mnli\",\n",
    "    \"summaries_context_bart_mnli\",\n",
    "]\n",
    "model_names = [to_class_name(model_name) for model_name in model_names]"
   ]
  },
  {
   "cell_type": "markdown",
   "metadata": {},
   "source": [
    "### Pretrained model"
   ]
  },
  {
   "cell_type": "code",
   "execution_count": 13,
   "metadata": {},
   "outputs": [
    {
     "name": "stdout",
     "output_type": "stream",
     "text": [
      "loading archive file ../modeling/pretrained_models/bart.large.mnli\n",
      "| dictionary: 50264 types\n",
      "Registering classification head: mnli\n",
      "Pretrained BART.mnli loaded.\n",
      "\n"
     ]
    }
   ],
   "source": [
    "bart_mnli, _ = get_pretrained_model(pretrained_model_name=\"bart_mnli\",\n",
    "                                    folder_path=root + PRETRAINED_MODELS_PATH)"
   ]
  },
  {
   "cell_type": "markdown",
   "metadata": {},
   "source": [
    "### Run the models"
   ]
  },
  {
   "cell_type": "code",
   "execution_count": null,
   "metadata": {
    "scrolled": true
   },
   "outputs": [
    {
     "name": "stdout",
     "output_type": "stream",
     "text": [
      "SummariesAverageEmbedding\n",
      "Validation of the model...\n",
      "\n"
     ]
    },
    {
     "data": {
      "application/vnd.jupyter.widget-view+json": {
       "model_id": "",
       "version_major": 2,
       "version_minor": 0
      },
      "text/plain": [
       "HBox(children=(FloatProgress(value=0.0, max=670.0), HTML(value='')))"
      ]
     },
     "metadata": {},
     "output_type": "display_data"
    },
    {
     "name": "stdout",
     "output_type": "stream",
     "text": [
      "\n",
      "Validation Score: 0.07634\n",
      "Scores evaluated on the validation set:\n",
      "average_precision: 0.07634\n",
      "recall_at_10: 0.11513\n",
      "reciprocal_best_rank: 0.13253\n",
      "reciprocal_average_rank: 0.02128\n",
      "ndcg_at_10: 0.09071\n",
      "\n",
      "\n",
      "SummariesOverlapAverageEmbedding\n",
      "Validation of the model...\n",
      "\n"
     ]
    },
    {
     "data": {
      "application/vnd.jupyter.widget-view+json": {
       "model_id": "",
       "version_major": 2,
       "version_minor": 0
      },
      "text/plain": [
       "HBox(children=(FloatProgress(value=0.0, max=670.0), HTML(value='')))"
      ]
     },
     "metadata": {},
     "output_type": "display_data"
    },
    {
     "name": "stdout",
     "output_type": "stream",
     "text": [
      "\n",
      "Validation Score: 0.10399\n",
      "Scores evaluated on the validation set:\n",
      "average_precision: 0.10399\n",
      "recall_at_10: 0.15489\n",
      "reciprocal_best_rank: 0.19313\n",
      "reciprocal_average_rank: 0.02827\n",
      "ndcg_at_10: 0.12905\n",
      "\n",
      "\n",
      "ContextAverageEmbedding\n",
      "Validation of the model...\n",
      "\n"
     ]
    },
    {
     "data": {
      "application/vnd.jupyter.widget-view+json": {
       "model_id": "",
       "version_major": 2,
       "version_minor": 0
      },
      "text/plain": [
       "HBox(children=(FloatProgress(value=0.0, max=670.0), HTML(value='')))"
      ]
     },
     "metadata": {},
     "output_type": "display_data"
    }
   ],
   "source": [
    "for model_name in model_names:\n",
    "    print(model_name)\n",
    "    \n",
    "    model = getattr(models, model_name)(scores_names=SCORES_NAMES,\n",
    "                                        relevance_level=task.relevance_level,\n",
    "                                        pretrained_model=bart_mnli,\n",
    "                                        pretrained_model_dim=None,\n",
    "                                        tensorboard_logs_path=root + TENSORBOARD_LOGS_PATH,\n",
    "                                        experiment_name=experiment_name,\n",
    "                                        random_seed=BASELINES_RANDOM_SEED)\n",
    "\n",
    "    play_baseline(task=task,\n",
    "                  model=model)"
   ]
  }
 ],
 "metadata": {
  "kernelspec": {
   "display_name": "Python 3",
   "language": "python",
   "name": "python3"
  },
  "language_info": {
   "codemirror_mode": {
    "name": "ipython",
    "version": 3
   },
   "file_extension": ".py",
   "mimetype": "text/x-python",
   "name": "python",
   "nbconvert_exporter": "python",
   "pygments_lexer": "ipython3",
   "version": "3.7.7"
  },
  "pycharm": {
   "stem_cell": {
    "cell_type": "raw",
    "metadata": {
     "collapsed": false
    },
    "source": []
   }
  },
  "toc": {
   "base_numbering": 1,
   "nav_menu": {},
   "number_sections": true,
   "sideBar": true,
   "skip_h1_title": false,
   "title_cell": "Table of Contents",
   "title_sidebar": "Contents",
   "toc_cell": false,
   "toc_position": {},
   "toc_section_display": true,
   "toc_window_display": false
  }
 },
 "nbformat": 4,
 "nbformat_minor": 2
}
