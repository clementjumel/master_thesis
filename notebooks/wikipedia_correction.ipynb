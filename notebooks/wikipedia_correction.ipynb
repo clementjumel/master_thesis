{
 "cells": [
  {
   "cell_type": "markdown",
   "metadata": {},
   "source": [
    "## Notebook setup"
   ]
  },
  {
   "cell_type": "code",
   "execution_count": 1,
   "metadata": {
    "ExecuteTime": {
     "end_time": "2019-04-13T03:57:03.299844Z",
     "start_time": "2019-04-13T03:57:03.266445Z"
    },
    "pycharm": {
     "is_executing": false
    }
   },
   "outputs": [],
   "source": [
    "import sys\n",
    "sys.path.append('../')\n",
    "del sys\n",
    "%reload_ext autoreload\n",
    "%autoreload 2"
   ]
  },
  {
   "cell_type": "code",
   "execution_count": 2,
   "metadata": {
    "ExecuteTime": {
     "end_time": "2019-04-13T03:57:03.449865Z",
     "start_time": "2019-04-13T03:57:03.408497Z"
    },
    "pycharm": {
     "is_executing": false
    }
   },
   "outputs": [],
   "source": [
    "from database_creation.database import Database"
   ]
  },
  {
   "cell_type": "markdown",
   "metadata": {},
   "source": [
    "## Parameters"
   ]
  },
  {
   "cell_type": "code",
   "execution_count": 3,
   "metadata": {
    "pycharm": {
     "is_executing": false
    }
   },
   "outputs": [],
   "source": [
    "database = Database()"
   ]
  },
  {
   "cell_type": "markdown",
   "metadata": {},
   "source": [
    "## Load the wikipedia file"
   ]
  },
  {
   "cell_type": "code",
   "execution_count": 4,
   "metadata": {},
   "outputs": [
    {
     "name": "stdout",
     "output_type": "stream",
     "text": [
      "Attribute wikipedia loaded from ../results/wikipedia/wikipedia_global.pkl.\n"
     ]
    }
   ],
   "source": [
    "database.load_pkl(attribute_name='wikipedia', file_name='wikipedia_global', folder_name='wikipedia')"
   ]
  },
  {
   "cell_type": "markdown",
   "metadata": {},
   "source": [
    "## Correct the wikipedia file"
   ]
  },
  {
   "cell_type": "markdown",
   "metadata": {},
   "source": [
    "Automatic correction of simple cases"
   ]
  },
  {
   "cell_type": "code",
   "execution_count": 5,
   "metadata": {
    "scrolled": true
   },
   "outputs": [
    {
     "name": "stdout",
     "output_type": "stream",
     "text": [
      "Solving manually the wikipedia issues...\n",
      "Computing the correction of the wikipedia information...\n",
      "339 entities to correct (on 7886).\n",
      "   to correct entity 100/339...\n",
      "   to correct entity 200/339...\n",
      "   to correct entity 300/339...\n",
      "First step over, still 339 to correct (on 7886)\n",
      "Done (elapsed time: 0s).\n",
      "\n",
      "Attribute wikipedia saved at ../results/wikipedia/wikipedia_global.pkl.\n",
      "Done (elapsed time: 0s).\n",
      "\n"
     ]
    }
   ],
   "source": [
    "database.correct_wiki(out_name='wikipedia_global', step=1)"
   ]
  },
  {
   "cell_type": "markdown",
   "metadata": {},
   "source": [
    "Manual validation/discard of more complicated cases"
   ]
  },
  {
   "cell_type": "code",
   "execution_count": 10,
   "metadata": {
    "scrolled": true
   },
   "outputs": [
    {
     "name": "stdout",
     "output_type": "stream",
     "text": [
      "Solving manually the wikipedia issues...\n",
      "Computing the correction of the wikipedia information...\n",
      "50 entities to correct (on 7633).\n",
      "Jean Clair/Jean-Clair Todibo: is this good? [y/n/o/d]d\n",
      "Kelly James/Kelly James: is this good? [y/n/o/d]o\n",
      "Jeffrey Kelly James was one of three experienced mountain climbers who died on Mount Hood in the U.S. state of Oregon in December 2006 in an incident which received worldwide attention.: is this good? [y/n/d]y\n",
      "Medicare/Medicare (United States): is this good? [y/n/o/d]y\n",
      "Mekong River/Mekong: is this good? [y/n/o/d]y\n",
      "Michael Scanlon/T. M. Scanlon: is this good? [y/n/o/d]o\n",
      "Thomas Michael \"Tim\" Scanlon , usually cited as T. M. Scanlon, is an American philosopher. At the time of his retirement in 2016, he was the Alford Professor of Natural Religion, Moral Philosophy, and Civil Polity in Harvard University's Department of Philosophy, where he had taught since 1984. He was elected to the American Philosophical Society in 2018.: is this good? [y/n/d]d\n",
      "Nashawn Kearse/NaShawn Kearse: is this good? [y/n/o/d]o\n",
      "NaShawn Kearse is an American television and film actor. Kearse has made television appearances in HBO series Entourage, as rapper Saigon's cousin; and in The Shield.Kearse had a recurring part in ABC series Desperate Housewives, replacing the fired Page Kennedy in the role of Caleb Applewhite, a fugitive held captive in his mother 's basement.Prior to Desperate Housewives, Kearse had roles in Taxi, Marci X, Cross Bronx, and as a voice of a pedestrian in the video game, Grand Theft Auto: San Andreas.: is this good? [y/n/d]y\n",
      "New Jersey Nets/Brooklyn Nets: is this good? [y/n/o/d]o\n",
      "The Brooklyn Nets are an American professional basketball team based in the New York City borough of Brooklyn. The Nets compete in the National Basketball Association as a member of the Atlantic Division of the Eastern Conference. The team plays its home games at Barclays Center. They are one of two NBA teams located in New York City; the other is the New York Knicks. The team was established in 1967 as a charter franchise of the NBA's rival league, the American Basketball Association .: is this good? [y/n/d]y\n",
      "Newspaper Guild/NewsGuild-CWA: is this good? [y/n/o/d]o\n",
      "The NewsGuild-CWA is a labor union founded by newspaper journalists in 1933. In addition to improving wages and working conditions, its constitution says its purpose is to fight for honesty in journalism and the news industry's business practices. The current president is Jon Schleuss.: is this good? [y/n/d]y\n",
      "Nicholas Morris/Nick Morris: is this good? [y/n/o/d]o\n",
      "Nick Morris is a film maker who began writing and making amateur films at school, one of which was shown at the NFT. His professional career began in the 1980s with music videos for \"The Final Countdown\" by Europe, \"Kyrie\" by Mr. Mister and \"Everytime You Go Away\" by Paul Young.: is this good? [y/n/d]y\n",
      "Nicholas Wood/John Nicholas Wood: is this good? [y/n/o/d]n\n",
      "Nintendo Corp./Atari Games Corp. v. Nintendo of America Inc.: is this good? [y/n/o/d]d\n",
      "Northeast Utilities/Eversource Energy: is this good? [y/n/o/d]o\n",
      "Eversource Energy is a publicly traded, Fortune 500 energy company headquartered in Hartford, Connecticut and Boston, Massachusetts, with several regulated subsidiaries offering retail electricity, natural gas service and water service to approximately 4 million customers in Connecticut, Massachusetts and New Hampshire.: is this good? [y/n/d]y\n",
      "Oleg Maskaev/Oleg Maskayev: is this good? [y/n/o/d]o\n",
      "Oleg Alexandrovich Maskayev is a Russian-American former professional boxer who competed from 1995 to 2013, and held the WBC heavyweight title from 2006 to 2008. He is one a few professional boxers to resume his amateur career after a professional debut in 1993.: is this good? [y/n/d]y\n",
      "Ossetia/South Ossetia: is this good? [y/n/o/d]n\n",
      "Panjwai/Panjwayi District: is this good? [y/n/o/d]o\n",
      "Panjwayi is a district in Kandahar Province, Afghanistan. It is widely considered the spiritual home of the Taliban and is located about 35 kilometres west of Kandahar. The district borders Helmand Province to the southwest, Maywand District to the west, Zharay District to the north, Arghandab, Kandahar and Daman districts to the east and Reg District to the south. The population was around 77,200 in 2006, most of which are peasants and poorly educated due to non-availability of schools.: is this good? [y/n/d]y\n",
      "Phoenix/Joaquin Phoenix: is this good? [y/n/o/d]n\n",
      "Prudential Douglas Elliman/Douglas Elliman: is this good? [y/n/o/d]o\n",
      "Douglas Elliman is an American real estate company. : is this good? [y/n/d]y\n",
      "Raleigh-Durham/Research Triangle: is this good? [y/n/o/d]o\n",
      "The Research Triangle, commonly referred to as simply The Triangle, is a region in the Piedmont of North Carolina in the United States, anchored by the three major research universities of North Carolina State University, Duke University, and University of North Carolina at Chapel Hill, as well as the cities of Raleigh and Durham and the town of Chapel Hill.: is this good? [y/n/d]y\n",
      "Rancocas/Rancocas, New Jersey: is this good? [y/n/o/d]y\n",
      "Roderick Hill/Roderic Hill: is this good? [y/n/o/d]y\n",
      "Sakhalin Island/Sakhalin: is this good? [y/n/o/d]y\n",
      "Salonika/Thessaloniki: is this good? [y/n/o/d]y\n",
      "Sam Brody/Brody Jenner: is this good? [y/n/o/d]o\n",
      "Sam Brody Jenner is an American television personality, disc jockey and model. He was born and raised in Los Angeles, California. In 2005, Jenner appeared in the reality television series, The Princes of Malibu, which additionally featured his older brother, musician Brandon Jenner, and his friend, Spencer Pratt.: is this good? [y/n/d]n\n",
      "Samsung Co./Samsung: is this good? [y/n/o/d]o\n",
      "Samsung is a South Korean multinational conglomerate headquartered in Samsung Town, Seoul. It comprises numerous affiliated businesses, most of them united under the Samsung brand, and is the largest South Korean chaebol .: is this good? [y/n/d]y\n",
      "Secret Service/United States Secret Service: is this good? [y/n/o/d]y\n",
      "Shiberghan/Sheberghan: is this good? [y/n/o/d]o\n",
      "Sheberghān or Shaburghān , also spelled Shebirghan and Shibarghan, is the capital city of the Jowzjan Province in northern Afghanistan.: is this good? [y/n/d]y\n",
      "Shoreham Beach/Shoreham-by-Sea: is this good? [y/n/o/d]n\n",
      "Sonny Carson/Robert \"Sonny\" Carson: is this good? [y/n/o/d]y\n",
      "South Orange/South Orange, New Jersey: is this good? [y/n/o/d]y\n",
      "Sprint Nextel/Sprint Corporation: is this good? [y/n/o/d]o\n",
      "Sprint Corporation is an American telecommunications company that provides wireless services and is an internet service provider, based in Overland Park, Kansas. It is the fourth-largest mobile network operator in the United States and serves 54.3 million customers as of June 30th 2019. The company also offers wireless voice, messaging, and broadband services through its various subsidiaries under the Assurance Wireless, Boost Mobile, and Virgin Mobile brands, and wholesale access to its wireless networks to mobile virtual network operators.: is this good? [y/n/d]y\n",
      "Starr Foundation/The Starr Foundation: is this good? [y/n/o/d]y\n",
      "Stephen Chu/Steven Chu: is this good? [y/n/o/d]y\n",
      "Steven Bognar/Steven Bognar: is this good? [y/n/o/d]y\n",
      "Stony Brook/Stony Brook, New York: is this good? [y/n/o/d]y\n",
      "Tampa Bay Devil Rays/Tampa Bay Rays: is this good? [y/n/o/d]o\n",
      "The Tampa Bay Rays are an American professional baseball team based in St. Petersburg, Florida. They compete in Major League Baseball as a member of the American League East division. Since its inception, the team's home venue has been Tropicana Field.: is this good? [y/n/d]y\n",
      "Tara-Skryne Valley/Skryne: is this good? [y/n/o/d]o\n",
      "Skryne, officially Skreen , is a village with a: is this good? [y/n/d]d\n",
      "Teck Cominco/Teck Resources: is this good? [y/n/o/d]o\n",
      "Teck Resources Limited known as Teck Cominco until late 2008, is a diversified natural resources company headquartered in Vancouver, British Columbia engaged in mining and mineral development, including steelmaking coal, copper, zinc and energy. Secondary products include lead, silver, gold, molybdenum, germanium, indium, and cadmium.: is this good? [y/n/d]y\n",
      "Texas Pacific Group/TPG Capital: is this good? [y/n/o/d]y\n",
      "Theodore V. Wells Jr./Ted Wells: is this good? [y/n/o/d]o\n"
     ]
    },
    {
     "name": "stdout",
     "output_type": "stream",
     "text": [
      "Theodore V. \"Ted\" Wells, Jr. is an American lawyer who works in the field of criminal law. A litigation partner at the New York law firm of Paul, Weiss, Rifkind, Wharton & Garrison LLP, Wells has been selected by the National Law Journal as one of America's best white-collar defense attorneys on numerous occasions. Wells received his B.A. from College of the Holy Cross, his M.B.A. from Harvard Business School, and his J.D. from Harvard Law School.: is this good? [y/n/d]y\n",
      "Tiananmen Square/Tiananmen Square: is this good? [y/n/o/d]o\n",
      "Tiananmen Square or Tian'anmen Square is a city square in the centre of Beijing, China, named after the Tiananmen located to its north, separating it from the Forbidden City. The square contains the Monument to the People's Heroes, the Great Hall of the People, the National Museum of China, and the Mausoleum of Mao Zedong. Mao Zedong proclaimed the founding of the People's Republic of China in the square on October 1, 1949; the anniversary of this event is still observed there.: is this good? [y/n/d]y\n",
      "Time Warner Inc./WarnerMedia: is this good? [y/n/o/d]o\n",
      "Warner Media, LLC is an American multinational mass media and entertainment conglomerate owned by AT&T and headquartered in New York City. It was originally formed in 1990 as Time Warner, from the merger of Time Inc. and Warner Communications.: is this good? [y/n/d]y\n",
      "Waikiki Beach/Waikiki: is this good? [y/n/o/d]o\n",
      "Waikiki is a neighborhood of Honolulu on the south shore of the island of Oʻahu in the U.S. state of Hawaii. : is this good? [y/n/d]y\n",
      "Waregem/S.V. Zulte Waregem: is this good? [y/n/o/d]n\n",
      "Warner Brothers/Warner Bros.: is this good? [y/n/o/d]o\n",
      "Warner Bros. Entertainment Inc. , also commonly known as Warner Bros. Pictures, Inc., is an American entertainment company headquartered in Burbank, California, and a division of AT&T's WarnerMedia. Founded in 1923, it has operations in areas such as film, television, and video games and is one of the \"Big Five\" major American film studios, as well as a member of the Motion Picture Association .: is this good? [y/n/d]y\n",
      "West New York/West New York, New Jersey: is this good? [y/n/o/d]y\n",
      "World Trade Center/World Trade Center (1973–2001): is this good? [y/n/o/d]y\n",
      "World Trade Center Memorial Foundation/National September 11 Memorial & Museum: is this good? [y/n/o/d]o\n",
      "The National September 11 Memorial & Museum is a memorial and museum in New York City commemorating the September 11, 2001 attacks, which killed 2,977 people, and the 1993 World Trade Center bombing, which killed six. The memorial is located at the World Trade Center site, the former location of the Twin Towers that were destroyed during the September 11 attacks. It is operated by a non-profit institution whose mission is to raise funds for, program, and operate the memorial and museum at the World Trade Center site.: is this good? [y/n/d]y\n",
      "Yongbyon/Nyongbyon County: is this good? [y/n/o/d]o\n",
      "Nyŏngbyŏn County is a county in North Pyŏngan province, North Korea. It borders the cities of Kaechŏn and Anju, and covers an area of 504 km².: is this good? [y/n/d]y\n",
      "Young Jeezy/Jeezy: is this good? [y/n/o/d]o\n",
      "Jay Wayne Jenkins , known professionally as Jeezy , is an American rapper and actor. Signed to Def Jam Recordings since 2004, his major label debut Let's Get It: Thug Motivation 101 was released the following year and debuted at #2 on the Billboard 200, selling 172,000 copies in its first week and was later certified platinum by the Recording Industry Association of America . Jeezy is credited, along with fellow Atlanta-based rappers T.I.: is this good? [y/n/d]y\n",
      "Yusufiya/Yusufiyah: is this good? [y/n/o/d]o\n",
      "Yusufiyah is a regional township in the country of Iraq, located in Baghdad Governorate.: is this good? [y/n/d]y\n",
      "Second step over, still 6 to correct (on 7629)\n",
      "Done (elapsed time: 297s).\n",
      "\n",
      "Attribute wikipedia saved at ../results/wikipedia/wikipedia_global.pkl.\n",
      "Done (elapsed time: 297s).\n",
      "\n"
     ]
    }
   ],
   "source": [
    "database.correct_wiki(out_name='wikipedia_global', step=2)"
   ]
  },
  {
   "cell_type": "markdown",
   "metadata": {},
   "source": [
    "Manual choice between possible answers"
   ]
  },
  {
   "cell_type": "code",
   "execution_count": 11,
   "metadata": {
    "scrolled": true
   },
   "outputs": [
    {
     "name": "stdout",
     "output_type": "stream",
     "text": [
      "Solving manually the wikipedia issues...\n",
      "Computing the correction of the wikipedia information...\n",
      "6 entities to correct (on 7629).\n",
      "Wikipedia search for Nicholas Wood:\n",
      "1: Nicholas Wood\n",
      "2: Nicholas Wood (disambiguation)\n",
      "3: John Nicholas Wood\n",
      "4: Nicholas Wood (MP)\n",
      "5: The KVB\n",
      "6: John Wood\n",
      "7: Nicholas W. Brown\n",
      "8: Nicholas II of Russia\n",
      "9: Edward Fenwick Boyd\n",
      "10: Will Wood\n",
      "Which number is the good one? (0 for giving up this example)1\n",
      "Search is still ambiguous, moving on...\n",
      "Wikipedia search for Ossetia:\n",
      "1: South Ossetia\n",
      "2: Ossetia\n",
      "3: Russo-Georgian War\n",
      "4: North Ossetia–Alania\n",
      "5: Ossetians\n",
      "6: Georgian–Ossetian conflict\n",
      "7: International recognition of Abkhazia and South Ossetia\n",
      "8: List of cities and towns in Georgia (country)\n",
      "9: Flag of Ossetia\n",
      "10: 1991–1992 South Ossetia War\n",
      "Which number is the good one? (0 for giving up this example)2\n",
      "Wikipedia search for Phoenix:\n",
      "1: Phoenix\n",
      "2: Joaquin Phoenix\n",
      "3: Summer Phoenix\n",
      "4: River Phoenix\n",
      "5: Phoenix, Arizona\n",
      "6: Arlyn Phoenix\n",
      "7: Phoenix (mythology)\n",
      "8: Rain Phoenix\n",
      "9: Dark Phoenix (film)\n",
      "10: Liberty Phoenix\n",
      "Which number is the good one? (0 for giving up this example)0\n",
      "Considered not found.\n",
      "Wikipedia search for Sam Brody:\n",
      "1: Brody Jenner\n",
      "2: Sam Brody\n",
      "3: Adrien Brody\n",
      "4: Adam Brody\n",
      "5: Brody Stevens\n",
      "6: Jayne Mansfield\n",
      "7: Davis Brody Bond\n",
      "8: Richard Brody\n",
      "9: Brody (name)\n",
      "10: Linda Thompson (actress)\n",
      "Which number is the good one? (0 for giving up this example)2\n",
      "Wikipedia search for Shoreham Beach:\n",
      "1: Shoreham-by-Sea\n",
      "2: Shoreham Beach\n",
      "3: Shoreham, Victoria\n",
      "4: Brighton City Airport\n",
      "5: Bungalow Town Halt railway station\n",
      "6: Shoreham Redoubt\n",
      "7: The Mayor of Casterbridge (1921 film)\n",
      "8: Shoreham Harbour Lifeboat Station\n",
      "9: 2012 Adur District Council election\n",
      "10: List of schools in West Sussex\n",
      "Which number is the good one? (0 for giving up this example)2\n",
      "Wikipedia search for Waregem:\n",
      "1: S.V. Zulte Waregem\n",
      "2: Waregem\n",
      "3: K.S.V. Waregem\n",
      "4: Hippodrome Waregem\n",
      "5: Junior Malanda\n",
      "6: Kylian Hazard\n",
      "7: Grand Prix de Waregem\n",
      "8: K. Racing Waregem\n",
      "9: Jonathan Benteke\n",
      "10: 2012–13 Belgian Pro League\n",
      "Which number is the good one? (0 for giving up this example)2\n",
      "Third step over, still 5 to correct (on 7628)\n",
      "Done (elapsed time: 84s).\n",
      "\n",
      "Attribute wikipedia saved at ../results/wikipedia/wikipedia_global.pkl.\n",
      "Done (elapsed time: 84s).\n",
      "\n"
     ]
    }
   ],
   "source": [
    "database.correct_wiki(out_name='wikipedia_global', step=3)"
   ]
  },
  {
   "cell_type": "markdown",
   "metadata": {},
   "source": [
    "Discard all remaining entities as not found"
   ]
  },
  {
   "cell_type": "code",
   "execution_count": 13,
   "metadata": {},
   "outputs": [
    {
     "name": "stdout",
     "output_type": "stream",
     "text": [
      "Solving manually the wikipedia issues...\n",
      "Computing the correction of the wikipedia information...\n",
      "All the 954 entities are exact, no correction to be made...\n",
      "Done (elapsed time: 0s).\n",
      "\n",
      "Attribute wikipedia saved at ../results/wikipedia/wikipedia_global.pkl.\n",
      "Done (elapsed time: 0s).\n",
      "\n"
     ]
    }
   ],
   "source": [
    "database.correct_wiki(out_name='wikipedia_global', step=4)"
   ]
  },
  {
   "cell_type": "code",
   "execution_count": null,
   "metadata": {},
   "outputs": [],
   "source": []
  }
 ],
 "metadata": {
  "kernelspec": {
   "display_name": "Python 3",
   "language": "python",
   "name": "python3"
  },
  "language_info": {
   "codemirror_mode": {
    "name": "ipython",
    "version": 3
   },
   "file_extension": ".py",
   "mimetype": "text/x-python",
   "name": "python",
   "nbconvert_exporter": "python",
   "pygments_lexer": "ipython3",
   "version": "3.7.4"
  },
  "pycharm": {
   "stem_cell": {
    "cell_type": "raw",
    "metadata": {
     "collapsed": false
    },
    "source": []
   }
  },
  "toc": {
   "base_numbering": 1,
   "nav_menu": {},
   "number_sections": true,
   "sideBar": true,
   "skip_h1_title": false,
   "title_cell": "Table of Contents",
   "title_sidebar": "Contents",
   "toc_cell": false,
   "toc_position": {},
   "toc_section_display": true,
   "toc_window_display": false
  }
 },
 "nbformat": 4,
 "nbformat_minor": 2
}
