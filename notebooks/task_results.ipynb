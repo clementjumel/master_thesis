{
 "cells": [
  {
   "cell_type": "markdown",
   "metadata": {},
   "source": [
    "## Setup"
   ]
  },
  {
   "cell_type": "code",
   "execution_count": 1,
   "metadata": {
    "ExecuteTime": {
     "end_time": "2019-04-13T03:57:03.299844Z",
     "start_time": "2019-04-13T03:57:03.266445Z"
    },
    "pycharm": {
     "is_executing": false
    }
   },
   "outputs": [],
   "source": [
    "import sys\n",
    "sys.path.append('../')\n",
    "del sys\n",
    "%reload_ext autoreload\n",
    "%autoreload 2"
   ]
  },
  {
   "cell_type": "code",
   "execution_count": 2,
   "metadata": {
    "ExecuteTime": {
     "end_time": "2019-04-13T03:57:03.449865Z",
     "start_time": "2019-04-13T03:57:03.408497Z"
    },
    "pycharm": {
     "is_executing": false
    }
   },
   "outputs": [],
   "source": [
    "from database_creation.database import Database"
   ]
  },
  {
   "cell_type": "markdown",
   "metadata": {},
   "source": [
    "## Parameters"
   ]
  },
  {
   "cell_type": "code",
   "execution_count": 3,
   "metadata": {
    "pycharm": {
     "is_executing": false
    }
   },
   "outputs": [],
   "source": [
    "database = Database(max_size=10000)"
   ]
  },
  {
   "cell_type": "markdown",
   "metadata": {},
   "source": [
    "## Load the data"
   ]
  },
  {
   "cell_type": "code",
   "execution_count": 4,
   "metadata": {},
   "outputs": [
    {
     "name": "stdout",
     "output_type": "stream",
     "text": [
      "Processing the results...\n",
      "Attribute queries loaded from ../results/2006-07/../../pilots/v1_0/task/queries_size10k_shuffle_articles1_queries1_seed0.pkl.\n",
      "Computing the Results...\n",
      "Initial length of results: 0\n",
      "Final length of results: 24\n",
      "Done (elapsed time: 0s).\n",
      "\n",
      "Done (elapsed time: 0s).\n",
      "\n"
     ]
    }
   ],
   "source": [
    "database.process_results(version='v1_0')"
   ]
  },
  {
   "cell_type": "code",
   "execution_count": 6,
   "metadata": {},
   "outputs": [
    {
     "name": "stdout",
     "output_type": "stream",
     "text": [
      "bug\n",
      "None\n",
      "The two sportsmen\n",
      "None\n",
      "bug\n",
      "None\n",
      "The two countries\n",
      "None\n",
      "The two inmates\n",
      "None\n",
      "The technology giants\n",
      "None\n",
      "The French politicians\n",
      "None\n",
      "The three politicians\n",
      "None\n",
      "The two party leaders\n",
      "None\n",
      "The two parks\n",
      "None\n",
      "The three places\n",
      "None\n",
      "bug\n",
      "None\n",
      "bug too hard\n",
      "None\n",
      "The African countries\n",
      "None\n",
      "The south American countries\n",
      "None\n",
      "The three actors\n",
      "None\n",
      "The aspiring congressmen\n",
      "None\n",
      "The two blocks\n",
      "None\n",
      "The football coaches\n",
      "None\n",
      "The chess grandmasters\n",
      "None\n",
      "The radio hosts\n",
      "None\n",
      "The rival countries\n",
      "None\n",
      "The three politicians\n",
      "None\n",
      "The priest and the student\n",
      "None\n"
     ]
    }
   ],
   "source": [
    "for _, results in database.results.items():\n",
    "    for result in results:\n",
    "        print(result.answer1)\n",
    "        print(result.answer2)"
   ]
  },
  {
   "cell_type": "code",
   "execution_count": null,
   "metadata": {},
   "outputs": [],
   "source": []
  }
 ],
 "metadata": {
  "kernelspec": {
   "display_name": "Python 3",
   "language": "python",
   "name": "python3"
  },
  "language_info": {
   "codemirror_mode": {
    "name": "ipython",
    "version": 3
   },
   "file_extension": ".py",
   "mimetype": "text/x-python",
   "name": "python",
   "nbconvert_exporter": "python",
   "pygments_lexer": "ipython3",
   "version": "3.6.9"
  },
  "pycharm": {
   "stem_cell": {
    "cell_type": "raw",
    "metadata": {
     "collapsed": false
    },
    "source": []
   }
  },
  "toc": {
   "base_numbering": 1,
   "nav_menu": {},
   "number_sections": true,
   "sideBar": true,
   "skip_h1_title": false,
   "title_cell": "Table of Contents",
   "title_sidebar": "Contents",
   "toc_cell": false,
   "toc_position": {},
   "toc_section_display": true,
   "toc_window_display": false
  }
 },
 "nbformat": 4,
 "nbformat_minor": 2
}
