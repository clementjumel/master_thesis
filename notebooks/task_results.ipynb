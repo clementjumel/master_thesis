{
 "cells": [
  {
   "cell_type": "markdown",
   "metadata": {},
   "source": [
    "## Setup"
   ]
  },
  {
   "cell_type": "code",
   "execution_count": 1,
   "metadata": {
    "ExecuteTime": {
     "end_time": "2019-04-13T03:57:03.299844Z",
     "start_time": "2019-04-13T03:57:03.266445Z"
    },
    "pycharm": {
     "is_executing": false
    }
   },
   "outputs": [],
   "source": [
    "import sys\n",
    "sys.path.append('../')\n",
    "del sys\n",
    "%reload_ext autoreload\n",
    "%autoreload 2"
   ]
  },
  {
   "cell_type": "code",
   "execution_count": 2,
   "metadata": {
    "ExecuteTime": {
     "end_time": "2019-04-13T03:57:03.449865Z",
     "start_time": "2019-04-13T03:57:03.408497Z"
    },
    "pycharm": {
     "is_executing": false
    }
   },
   "outputs": [],
   "source": [
    "from database_creation.database import Database"
   ]
  },
  {
   "cell_type": "markdown",
   "metadata": {},
   "source": [
    "## Parameters"
   ]
  },
  {
   "cell_type": "code",
   "execution_count": 3,
   "metadata": {
    "pycharm": {
     "is_executing": false
    }
   },
   "outputs": [],
   "source": [
    "database = Database()"
   ]
  },
  {
   "cell_type": "markdown",
   "metadata": {},
   "source": [
    "## Load the data"
   ]
  },
  {
   "cell_type": "code",
   "execution_count": 4,
   "metadata": {},
   "outputs": [
    {
     "name": "stdout",
     "output_type": "stream",
     "text": [
      "Processing the results...\n",
      "Computing the tasks...\n",
      "Initial length of tasks: 0\n",
      "Object loaded from ../results/../pilot/v1_0/task/queries_size10k_shuffle_articles1_queries1_seed0.pkl\n",
      "Object loaded from ../results/../pilot/v1_1/task/queries_size10k_shuffle_articles1_queries1_seed0.pkl\n",
      "Final length of tasks: 2\n",
      "Done (elapsed time: 0s).\n",
      "\n",
      "Computing the results...\n",
      "Initial length of results: 0\n",
      "Final length of results: 2\n",
      "Done (elapsed time: 0s).\n",
      "\n",
      "Done (elapsed time: 0s).\n",
      "\n"
     ]
    }
   ],
   "source": [
    "database.process_results()"
   ]
  },
  {
   "cell_type": "markdown",
   "metadata": {},
   "source": [
    "## Stuff"
   ]
  },
  {
   "cell_type": "markdown",
   "metadata": {},
   "source": [
    "Number of HITs"
   ]
  },
  {
   "cell_type": "code",
   "execution_count": 6,
   "metadata": {},
   "outputs": [
    {
     "name": "stdout",
     "output_type": "stream",
     "text": [
      "65\n"
     ]
    }
   ],
   "source": [
    "cmpt = 0\n",
    "for version in database.results:\n",
    "    for id_ in database.results[version]:\n",
    "        cmpt += len(database.results[version][id_])\n",
    "print(cmpt)"
   ]
  },
  {
   "cell_type": "markdown",
   "metadata": {},
   "source": [
    "First version"
   ]
  },
  {
   "cell_type": "code",
   "execution_count": 7,
   "metadata": {},
   "outputs": [
    {
     "name": "stdout",
     "output_type": "stream",
     "text": [
      "The two steel companies/The two steel giants (paul_b, v1_0)\n",
      "\n",
      "bug/nan (paul_b, v1_0)\n",
      "\n",
      "bug/nan (paul_b, v1_0)\n",
      "\n",
      "The two Asian countries/nan (paul_b, v1_0)\n",
      "\n",
      "The three New York State politicians/nan (paul_b, v1_0)\n",
      "The three politicians (paul_n, v1_0)\n",
      "\n",
      "The two politicians/nan (paul_b, v1_0)\n",
      "\n",
      "The two American cities/The two competitors (paul_b, v1_0)\n",
      "\n",
      "The two middle east countries/The two Islamic Republics (paul_b, v1_0)\n",
      "\n",
      "The two officials/The two politicians (paul_b, v1_0)\n",
      "\n",
      "The two prime ministers/The two politicians (paul_b, v1_0)\n",
      "\n",
      "The two African countries/The two neighbouring countries (paul_b, v1_0)\n",
      "\n",
      "bug (paul_n, v1_0)\n",
      "\n",
      "The two sportsmen (paul_n, v1_0)\n",
      "\n",
      "bug (paul_n, v1_0)\n",
      "\n",
      "The two countries (paul_n, v1_0)\n",
      "\n",
      "The two inmates (paul_n, v1_0)\n",
      "\n",
      "The technology giants (paul_n, v1_0)\n",
      "\n",
      "The French politicians (paul_n, v1_0)\n",
      "\n",
      "The two party leaders (paul_n, v1_0)\n",
      "\n",
      "The two parks (paul_n, v1_0)\n",
      "\n",
      "The three places (paul_n, v1_0)\n",
      "\n",
      "bug (paul_n, v1_0)\n",
      "\n",
      "bug too hard (paul_n, v1_0)\n",
      "\n",
      "The African countries (paul_n, v1_0)\n",
      "\n",
      "The south American countries (paul_n, v1_0)\n",
      "\n",
      "The three actors (paul_n, v1_0)\n",
      "\n",
      "The aspiring congressmen (paul_n, v1_0)\n",
      "\n",
      "The two blocks (paul_n, v1_0)\n",
      "\n",
      "The football coaches (paul_n, v1_0)\n",
      "\n",
      "The chess grandmasters (paul_n, v1_0)\n",
      "\n",
      "The radio hosts (paul_n, v1_0)\n",
      "\n",
      "The rival countries (paul_n, v1_0)\n",
      "\n",
      "The three politicians (paul_n, v1_0)\n",
      "\n",
      "The priest and the student (paul_n, v1_0)\n",
      "\n"
     ]
    }
   ],
   "source": [
    "version = 'v1_0'\n",
    "for id_ in database.results[version]:\n",
    "    #print(database.tasks[version][id_])\n",
    "    for result in database.results[version][id_]:\n",
    "        print(result)\n",
    "    print()"
   ]
  },
  {
   "cell_type": "markdown",
   "metadata": {},
   "source": [
    "Second version"
   ]
  },
  {
   "cell_type": "code",
   "execution_count": 8,
   "metadata": {},
   "outputs": [
    {
     "name": "stdout",
     "output_type": "stream",
     "text": [
      "The two East African countries/nan (paul_b, v1_1)\n",
      "\n",
      "The two politicians/nan (paul_b, v1_1)\n",
      "\n",
      "bug/nan (paul_b, v1_1)\n",
      "\n",
      "bug/nan (paul_b, v1_1)\n",
      "\n",
      "The two neighbours/nan (paul_b, v1_1)\n",
      "\n",
      "The two concils/nan (paul_b, v1_1)\n",
      "\n",
      "The two iraqi cities/The two multicultural cities (paul_b, v1_1)\n",
      "\n",
      "The two comedians/nan (paul_b, v1_1)\n",
      "\n",
      "The three philantropists/nan (paul_b, v1_1)\n",
      "\n",
      "The two Financial hubs/The two cities (paul_b, v1_1)\n",
      "\n",
      "The two neighbouring countries/The two middle east countries (paul_b, v1_1)\n",
      "\n",
      "The two American states/nan (paul_b, v1_1)\n",
      "\n",
      "The two countries/nan (paul_b, v1_1)\n",
      "\n",
      "The two House employees/nan (paul_b, v1_1)\n",
      "\n",
      "bug/nan (paul_b, v1_1)\n",
      "\n",
      "The five American states/The five storm vulnerable states (paul_b, v1_1)\n",
      "\n",
      "The two basketball professionals/The two competitors (paul_b, v1_1)\n",
      "\n",
      "bug/nan (paul_b, v1_1)\n",
      "\n",
      "The family men/nan (paul_b, v1_1)\n",
      "\n",
      "bug/nan (paul_b, v1_1)\n",
      "\n",
      "The two House employees/nan (paul_b, v1_1)\n",
      "\n",
      "bug/nan (paul_b, v1_1)\n",
      "\n",
      "The two eastern Europe countries/nan (paul_b, v1_1)\n",
      "\n",
      "The spouses/nan (paul_b, v1_1)\n",
      "\n",
      "the two institutions/nan (paul_b, v1_1)\n",
      "\n",
      "bug/nan (paul_b, v1_1)\n",
      "\n",
      "The two automobile businessmen/The two captains of industry (paul_b, v1_1)\n",
      "\n",
      "The two speech technology companies/nan (paul_b, v1_1)\n",
      "\n",
      "The three debaters/nan (paul_b, v1_1)\n",
      "\n",
      "The four middle east countries/nan (paul_b, v1_1)\n",
      "\n"
     ]
    }
   ],
   "source": [
    "version = 'v1_1'\n",
    "for id_ in database.results[version]:\n",
    "    #print(database.tasks[version][id_])\n",
    "    for result in database.results[version][id_]:\n",
    "        print(result)\n",
    "    print()"
   ]
  },
  {
   "cell_type": "code",
   "execution_count": null,
   "metadata": {},
   "outputs": [],
   "source": []
  }
 ],
 "metadata": {
  "kernelspec": {
   "display_name": "Python 3",
   "language": "python",
   "name": "python3"
  },
  "language_info": {
   "codemirror_mode": {
    "name": "ipython",
    "version": 3
   },
   "file_extension": ".py",
   "mimetype": "text/x-python",
   "name": "python",
   "nbconvert_exporter": "python",
   "pygments_lexer": "ipython3",
   "version": "3.7.4"
  },
  "pycharm": {
   "stem_cell": {
    "cell_type": "raw",
    "metadata": {
     "collapsed": false
    },
    "source": []
   }
  },
  "toc": {
   "base_numbering": 1,
   "nav_menu": {},
   "number_sections": true,
   "sideBar": true,
   "skip_h1_title": false,
   "title_cell": "Table of Contents",
   "title_sidebar": "Contents",
   "toc_cell": false,
   "toc_position": {},
   "toc_section_display": true,
   "toc_window_display": false
  }
 },
 "nbformat": 4,
 "nbformat_minor": 2
}
