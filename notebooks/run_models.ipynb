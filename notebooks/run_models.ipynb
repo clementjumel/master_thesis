{
 "cells": [
  {
   "cell_type": "markdown",
   "metadata": {},
   "source": [
    "# Setup\n",
    "### Imports"
   ]
  },
  {
   "cell_type": "code",
   "execution_count": 1,
   "metadata": {
    "ExecuteTime": {
     "end_time": "2019-04-13T03:57:03.299844Z",
     "start_time": "2019-04-13T03:57:03.266445Z"
    },
    "pycharm": {
     "is_executing": false
    }
   },
   "outputs": [],
   "source": [
    "import sys\n",
    "sys.path.append('../')\n",
    "del sys\n",
    "\n",
    "%reload_ext autoreload\n",
    "%autoreload 2\n",
    "\n",
    "import modeling.models as models\n",
    "from toolbox.utils import to_class_name, add_task_argument, load_task, get_word2vec, \\\n",
    "    get_bart, play\n",
    "from toolbox.parameters import SCORES_NAMES, MODELS_RANDOM_SEED\n",
    "from toolbox.paths import MODELING_TASK_RESULTS_PATH, PRETRAINED_MODELS_PATH, \\\n",
    "    TENSORBOARD_LOGS_PATH\n",
    "\n",
    "root = \"../\""
   ]
  },
  {
   "cell_type": "markdown",
   "metadata": {},
   "source": [
    "### Parameters"
   ]
  },
  {
   "cell_type": "code",
   "execution_count": 2,
   "metadata": {},
   "outputs": [],
   "source": [
    "args = {\n",
    "    'task': \"context_free_same_type\",\n",
    "    'valid_proportion': 0.25,\n",
    "    'test_proportion': 0.25,\n",
    "    'ranking_size': 32,\n",
    "    'batch_size': 16,\n",
    "    'cross_validation': False,\n",
    "    'short': True,\n",
    "    'experiment': None\n",
    "}"
   ]
  },
  {
   "cell_type": "markdown",
   "metadata": {},
   "source": [
    "### Load the data"
   ]
  },
  {
   "cell_type": "code",
   "execution_count": 3,
   "metadata": {
    "scrolled": true
   },
   "outputs": [
    {
     "name": "stdout",
     "output_type": "stream",
     "text": [
      "Task loaded from ../results/modeling_task/contextfreesametype_50-25-25_rs32_bs16_short.pkl.\n",
      "\n"
     ]
    }
   ],
   "source": [
    "task = load_task(args=args, folder_path=root + MODELING_TASK_RESULTS_PATH)"
   ]
  },
  {
   "cell_type": "markdown",
   "metadata": {},
   "source": [
    "# Run the baselines\n",
    "## Basic baselines\n",
    "### Models"
   ]
  },
  {
   "cell_type": "code",
   "execution_count": 4,
   "metadata": {},
   "outputs": [],
   "source": [
    "model_names = [\n",
    "    \"random\",\n",
    "    \"frequency\",\n",
    "    \"summaries_count\",\n",
    "    \"summaries_unique_count\",\n",
    "    \"summaries_overlap\",\n",
    "    \"activated_summaries\",\n",
    "    \"context_count\",\n",
    "    \"context_unique_count\",\n",
    "    \"summaries_context_count\",\n",
    "    \"summaries_context_unique_count\",\n",
    "    \"summaries_context_overlap\",\n",
    "]"
   ]
  },
  {
   "cell_type": "markdown",
   "metadata": {},
   "source": [
    "### Run the models"
   ]
  },
  {
   "cell_type": "code",
   "execution_count": 5,
   "metadata": {
    "scrolled": true
   },
   "outputs": [
    {
     "name": "stdout",
     "output_type": "stream",
     "text": [
      "Random\n",
      "Evaluation on the train_loader...\n"
     ]
    },
    {
     "data": {
      "application/vnd.jupyter.widget-view+json": {
       "model_id": "e97253d459a64d90a28cb366fa3f2794",
       "version_major": 2,
       "version_minor": 0
      },
      "text/plain": [
       "HBox(children=(FloatProgress(value=0.0, max=670.0), HTML(value='')))"
      ]
     },
     "metadata": {},
     "output_type": "display_data"
    },
    {
     "name": "stdout",
     "output_type": "stream",
     "text": [
      "\n",
      "average_precision: 0.17178 (+/-0.12740)\n",
      "recall_at_10: 0.29504 (+/-0.27525)\n",
      "reciprocal_best_rank: 0.22885 (+/-0.25701)\n",
      "reciprocal_average_rank: 0.06968 (+/-0.05188)\n",
      "ndcg_at_10: 0.18111 (+/-0.18586)\n",
      "\n",
      "Evaluation on the valid_loader...\n"
     ]
    },
    {
     "data": {
      "application/vnd.jupyter.widget-view+json": {
       "model_id": "78f7e67d55864bbdbbf2c5ce34cb00d2",
       "version_major": 2,
       "version_minor": 0
      },
      "text/plain": [
       "HBox(children=(FloatProgress(value=0.0, max=335.0), HTML(value='')))"
      ]
     },
     "metadata": {},
     "output_type": "display_data"
    },
    {
     "name": "stdout",
     "output_type": "stream",
     "text": [
      "\n",
      "average_precision: 0.18693 (+/-0.13601)\n",
      "recall_at_10: 0.32522 (+/-0.27985)\n",
      "reciprocal_best_rank: 0.26202 (+/-0.28731)\n",
      "reciprocal_average_rank: 0.07151 (+/-0.03812)\n",
      "ndcg_at_10: 0.20541 (+/-0.19494)\n",
      "\n",
      "Frequency\n",
      "Learning answers counts...\n"
     ]
    },
    {
     "data": {
      "application/vnd.jupyter.widget-view+json": {
       "model_id": "d618239084ab472cbae5e3eec813a9b7",
       "version_major": 2,
       "version_minor": 0
      },
      "text/plain": [
       "HBox(children=(FloatProgress(value=0.0, max=670.0), HTML(value='')))"
      ]
     },
     "metadata": {},
     "output_type": "display_data"
    },
    {
     "name": "stdout",
     "output_type": "stream",
     "text": [
      "\n",
      "Learning answers counts...\n"
     ]
    },
    {
     "data": {
      "application/vnd.jupyter.widget-view+json": {
       "model_id": "71f9fad96e614f8a8b9567f219d675fb",
       "version_major": 2,
       "version_minor": 0
      },
      "text/plain": [
       "HBox(children=(FloatProgress(value=0.0, max=335.0), HTML(value='')))"
      ]
     },
     "metadata": {},
     "output_type": "display_data"
    },
    {
     "name": "stdout",
     "output_type": "stream",
     "text": [
      "\n",
      "Evaluation on the train_loader...\n"
     ]
    },
    {
     "data": {
      "application/vnd.jupyter.widget-view+json": {
       "model_id": "6f274a8c64ef4ce0b3dae0c7a63ab6cf",
       "version_major": 2,
       "version_minor": 0
      },
      "text/plain": [
       "HBox(children=(FloatProgress(value=0.0, max=670.0), HTML(value='')))"
      ]
     },
     "metadata": {},
     "output_type": "display_data"
    },
    {
     "name": "stdout",
     "output_type": "stream",
     "text": [
      "\n",
      "average_precision: 0.57757 (+/-0.28139)\n",
      "recall_at_10: 0.72549 (+/-0.28205)\n",
      "reciprocal_best_rank: 0.77017 (+/-0.33979)\n",
      "reciprocal_average_rank: 0.24476 (+/-0.21855)\n",
      "ndcg_at_10: 0.64894 (+/-0.27912)\n",
      "\n",
      "Evaluation on the valid_loader...\n"
     ]
    },
    {
     "data": {
      "application/vnd.jupyter.widget-view+json": {
       "model_id": "fbc9826d1c5a4e84ac99038c285f5520",
       "version_major": 2,
       "version_minor": 0
      },
      "text/plain": [
       "HBox(children=(FloatProgress(value=0.0, max=335.0), HTML(value='')))"
      ]
     },
     "metadata": {},
     "output_type": "display_data"
    },
    {
     "name": "stdout",
     "output_type": "stream",
     "text": [
      "\n",
      "average_precision: 0.58709 (+/-0.26811)\n",
      "recall_at_10: 0.74218 (+/-0.26832)\n",
      "reciprocal_best_rank: 0.77590 (+/-0.32974)\n",
      "reciprocal_average_rank: 0.23966 (+/-0.20630)\n",
      "ndcg_at_10: 0.66257 (+/-0.26370)\n",
      "\n",
      "SummariesCount\n",
      "Evaluation on the train_loader...\n"
     ]
    },
    {
     "data": {
      "application/vnd.jupyter.widget-view+json": {
       "model_id": "5bc1f24b2a8048db8f7bc5d21b9527b4",
       "version_major": 2,
       "version_minor": 0
      },
      "text/plain": [
       "HBox(children=(FloatProgress(value=0.0, max=670.0), HTML(value='')))"
      ]
     },
     "metadata": {},
     "output_type": "display_data"
    },
    {
     "name": "stdout",
     "output_type": "stream",
     "text": [
      "\n",
      "average_precision: 0.32534 (+/-0.25290)\n",
      "recall_at_10: 0.47588 (+/-0.32628)\n",
      "reciprocal_best_rank: 0.46408 (+/-0.39335)\n",
      "reciprocal_average_rank: 0.12017 (+/-0.13507)\n",
      "ndcg_at_10: 0.37253 (+/-0.29316)\n",
      "\n",
      "Evaluation on the valid_loader...\n"
     ]
    },
    {
     "data": {
      "application/vnd.jupyter.widget-view+json": {
       "model_id": "70cce6240ed648f5bce0f46bb6868f8b",
       "version_major": 2,
       "version_minor": 0
      },
      "text/plain": [
       "HBox(children=(FloatProgress(value=0.0, max=335.0), HTML(value='')))"
      ]
     },
     "metadata": {},
     "output_type": "display_data"
    },
    {
     "name": "stdout",
     "output_type": "stream",
     "text": [
      "\n",
      "average_precision: 0.32469 (+/-0.25549)\n",
      "recall_at_10: 0.48112 (+/-0.33162)\n",
      "reciprocal_best_rank: 0.45614 (+/-0.38943)\n",
      "reciprocal_average_rank: 0.11923 (+/-0.13196)\n",
      "ndcg_at_10: 0.37303 (+/-0.29708)\n",
      "\n",
      "SummariesUniqueCount\n",
      "Evaluation on the train_loader...\n"
     ]
    },
    {
     "data": {
      "application/vnd.jupyter.widget-view+json": {
       "model_id": "65c10ba055cd455da81880a67feb23db",
       "version_major": 2,
       "version_minor": 0
      },
      "text/plain": [
       "HBox(children=(FloatProgress(value=0.0, max=670.0), HTML(value='')))"
      ]
     },
     "metadata": {},
     "output_type": "display_data"
    },
    {
     "name": "stdout",
     "output_type": "stream",
     "text": [
      "\n",
      "average_precision: 0.29602 (+/-0.22660)\n",
      "recall_at_10: 0.47634 (+/-0.32048)\n",
      "reciprocal_best_rank: 0.42159 (+/-0.36716)\n",
      "reciprocal_average_rank: 0.11137 (+/-0.11641)\n",
      "ndcg_at_10: 0.34970 (+/-0.27227)\n",
      "\n",
      "Evaluation on the valid_loader...\n"
     ]
    },
    {
     "data": {
      "application/vnd.jupyter.widget-view+json": {
       "model_id": "d145e2742dd946bc929d44c0ff5adf24",
       "version_major": 2,
       "version_minor": 0
      },
      "text/plain": [
       "HBox(children=(FloatProgress(value=0.0, max=335.0), HTML(value='')))"
      ]
     },
     "metadata": {},
     "output_type": "display_data"
    },
    {
     "name": "stdout",
     "output_type": "stream",
     "text": [
      "\n",
      "average_precision: 0.30027 (+/-0.23496)\n",
      "recall_at_10: 0.48101 (+/-0.32643)\n",
      "reciprocal_best_rank: 0.41909 (+/-0.36560)\n",
      "reciprocal_average_rank: 0.11350 (+/-0.12108)\n",
      "ndcg_at_10: 0.35352 (+/-0.28145)\n",
      "\n",
      "SummariesOverlap\n",
      "Evaluation on the train_loader...\n"
     ]
    },
    {
     "data": {
      "application/vnd.jupyter.widget-view+json": {
       "model_id": "cd774434da014844b7fe258bed3636a3",
       "version_major": 2,
       "version_minor": 0
      },
      "text/plain": [
       "HBox(children=(FloatProgress(value=0.0, max=670.0), HTML(value='')))"
      ]
     },
     "metadata": {},
     "output_type": "display_data"
    },
    {
     "name": "stdout",
     "output_type": "stream",
     "text": [
      "\n",
      "average_precision: 0.29016 (+/-0.23691)\n",
      "recall_at_10: 0.43223 (+/-0.32230)\n",
      "reciprocal_best_rank: 0.41379 (+/-0.38078)\n",
      "reciprocal_average_rank: 0.10978 (+/-0.12348)\n",
      "ndcg_at_10: 0.32881 (+/-0.28426)\n",
      "\n",
      "Evaluation on the valid_loader...\n"
     ]
    },
    {
     "data": {
      "application/vnd.jupyter.widget-view+json": {
       "model_id": "53468986b4c34e3f927e7760d85ce1ef",
       "version_major": 2,
       "version_minor": 0
      },
      "text/plain": [
       "HBox(children=(FloatProgress(value=0.0, max=335.0), HTML(value='')))"
      ]
     },
     "metadata": {},
     "output_type": "display_data"
    },
    {
     "name": "stdout",
     "output_type": "stream",
     "text": [
      "\n",
      "average_precision: 0.31016 (+/-0.24491)\n",
      "recall_at_10: 0.45435 (+/-0.31447)\n",
      "reciprocal_best_rank: 0.44549 (+/-0.37515)\n",
      "reciprocal_average_rank: 0.11425 (+/-0.13292)\n",
      "ndcg_at_10: 0.35473 (+/-0.28375)\n",
      "\n",
      "ActivatedSummaries\n",
      "Evaluation on the train_loader...\n"
     ]
    },
    {
     "data": {
      "application/vnd.jupyter.widget-view+json": {
       "model_id": "635bcca3238d4f14b80a4da35d64d8a3",
       "version_major": 2,
       "version_minor": 0
      },
      "text/plain": [
       "HBox(children=(FloatProgress(value=0.0, max=670.0), HTML(value='')))"
      ]
     },
     "metadata": {},
     "output_type": "display_data"
    },
    {
     "name": "stdout",
     "output_type": "stream",
     "text": [
      "\n",
      "average_precision: 0.30921 (+/-0.24113)\n",
      "recall_at_10: 0.47675 (+/-0.32641)\n",
      "reciprocal_best_rank: 0.43216 (+/-0.37505)\n",
      "reciprocal_average_rank: 0.12012 (+/-0.13955)\n",
      "ndcg_at_10: 0.35879 (+/-0.28463)\n",
      "\n",
      "Evaluation on the valid_loader...\n"
     ]
    },
    {
     "data": {
      "application/vnd.jupyter.widget-view+json": {
       "model_id": "8bb78419029f41ce849eacea04d4bf36",
       "version_major": 2,
       "version_minor": 0
      },
      "text/plain": [
       "HBox(children=(FloatProgress(value=0.0, max=335.0), HTML(value='')))"
      ]
     },
     "metadata": {},
     "output_type": "display_data"
    },
    {
     "name": "stdout",
     "output_type": "stream",
     "text": [
      "\n",
      "average_precision: 0.30690 (+/-0.24237)\n",
      "recall_at_10: 0.47677 (+/-0.32907)\n",
      "reciprocal_best_rank: 0.42173 (+/-0.37020)\n",
      "reciprocal_average_rank: 0.11791 (+/-0.13763)\n",
      "ndcg_at_10: 0.35604 (+/-0.28688)\n",
      "\n",
      "ContextCount\n",
      "Evaluation on the train_loader...\n"
     ]
    },
    {
     "data": {
      "application/vnd.jupyter.widget-view+json": {
       "model_id": "93a03b0329ca4d7d872e2f597eadd15f",
       "version_major": 2,
       "version_minor": 0
      },
      "text/plain": [
       "HBox(children=(FloatProgress(value=0.0, max=670.0), HTML(value='')))"
      ]
     },
     "metadata": {},
     "output_type": "display_data"
    },
    {
     "name": "stdout",
     "output_type": "stream",
     "text": [
      "\n",
      "average_precision: 0.27283 (+/-0.21885)\n",
      "recall_at_10: 0.40828 (+/-0.31532)\n",
      "reciprocal_best_rank: 0.40159 (+/-0.37345)\n",
      "reciprocal_average_rank: 0.10106 (+/-0.10955)\n",
      "ndcg_at_10: 0.30757 (+/-0.26843)\n",
      "\n",
      "Evaluation on the valid_loader...\n"
     ]
    },
    {
     "data": {
      "application/vnd.jupyter.widget-view+json": {
       "model_id": "51a53be077fe4cadb3cb787c8d60346d",
       "version_major": 2,
       "version_minor": 0
      },
      "text/plain": [
       "HBox(children=(FloatProgress(value=0.0, max=335.0), HTML(value='')))"
      ]
     },
     "metadata": {},
     "output_type": "display_data"
    },
    {
     "name": "stdout",
     "output_type": "stream",
     "text": [
      "\n",
      "average_precision: 0.27132 (+/-0.21980)\n",
      "recall_at_10: 0.40922 (+/-0.31130)\n",
      "reciprocal_best_rank: 0.39875 (+/-0.36043)\n",
      "reciprocal_average_rank: 0.10083 (+/-0.11191)\n",
      "ndcg_at_10: 0.30825 (+/-0.26337)\n",
      "\n",
      "ContextUniqueCount\n",
      "Evaluation on the train_loader...\n"
     ]
    },
    {
     "data": {
      "application/vnd.jupyter.widget-view+json": {
       "model_id": "a40addc543bb4ad0b4804f14b59195e9",
       "version_major": 2,
       "version_minor": 0
      },
      "text/plain": [
       "HBox(children=(FloatProgress(value=0.0, max=670.0), HTML(value='')))"
      ]
     },
     "metadata": {},
     "output_type": "display_data"
    },
    {
     "name": "stdout",
     "output_type": "stream",
     "text": [
      "\n",
      "average_precision: 0.26986 (+/-0.21377)\n",
      "recall_at_10: 0.40876 (+/-0.31652)\n",
      "reciprocal_best_rank: 0.39494 (+/-0.36519)\n",
      "reciprocal_average_rank: 0.09999 (+/-0.10324)\n",
      "ndcg_at_10: 0.30508 (+/-0.26434)\n",
      "\n",
      "Evaluation on the valid_loader...\n"
     ]
    },
    {
     "data": {
      "application/vnd.jupyter.widget-view+json": {
       "model_id": "2b5e24eb06084d079bce64571fe2421b",
       "version_major": 2,
       "version_minor": 0
      },
      "text/plain": [
       "HBox(children=(FloatProgress(value=0.0, max=335.0), HTML(value='')))"
      ]
     },
     "metadata": {},
     "output_type": "display_data"
    },
    {
     "name": "stdout",
     "output_type": "stream",
     "text": [
      "\n",
      "average_precision: 0.26488 (+/-0.21466)\n",
      "recall_at_10: 0.40773 (+/-0.30965)\n",
      "reciprocal_best_rank: 0.38335 (+/-0.35142)\n",
      "reciprocal_average_rank: 0.09933 (+/-0.11206)\n",
      "ndcg_at_10: 0.30180 (+/-0.25893)\n",
      "\n",
      "SummariesContextCount\n",
      "Evaluation on the train_loader...\n"
     ]
    },
    {
     "data": {
      "application/vnd.jupyter.widget-view+json": {
       "model_id": "7ecf67959c5544b39f57aa7ebb831b41",
       "version_major": 2,
       "version_minor": 0
      },
      "text/plain": [
       "HBox(children=(FloatProgress(value=0.0, max=670.0), HTML(value='')))"
      ]
     },
     "metadata": {},
     "output_type": "display_data"
    },
    {
     "name": "stdout",
     "output_type": "stream",
     "text": [
      "\n",
      "average_precision: 0.35301 (+/-0.25328)\n",
      "recall_at_10: 0.50822 (+/-0.32395)\n",
      "reciprocal_best_rank: 0.50490 (+/-0.39435)\n",
      "reciprocal_average_rank: 0.12752 (+/-0.13623)\n",
      "ndcg_at_10: 0.40696 (+/-0.29140)\n",
      "\n",
      "Evaluation on the valid_loader...\n"
     ]
    },
    {
     "data": {
      "application/vnd.jupyter.widget-view+json": {
       "model_id": "1071005c20524eb4b5d1161fc0be8312",
       "version_major": 2,
       "version_minor": 0
      },
      "text/plain": [
       "HBox(children=(FloatProgress(value=0.0, max=335.0), HTML(value='')))"
      ]
     },
     "metadata": {},
     "output_type": "display_data"
    },
    {
     "name": "stdout",
     "output_type": "stream",
     "text": [
      "\n",
      "average_precision: 0.33892 (+/-0.26118)\n",
      "recall_at_10: 0.50269 (+/-0.32989)\n",
      "reciprocal_best_rank: 0.47304 (+/-0.38723)\n",
      "reciprocal_average_rank: 0.12379 (+/-0.13332)\n",
      "ndcg_at_10: 0.39134 (+/-0.29741)\n",
      "\n",
      "SummariesContextUniqueCount\n",
      "Evaluation on the train_loader...\n"
     ]
    },
    {
     "data": {
      "application/vnd.jupyter.widget-view+json": {
       "model_id": "f683369c611f4c449d5a4f05c28b8240",
       "version_major": 2,
       "version_minor": 0
      },
      "text/plain": [
       "HBox(children=(FloatProgress(value=0.0, max=670.0), HTML(value='')))"
      ]
     },
     "metadata": {},
     "output_type": "display_data"
    },
    {
     "name": "stdout",
     "output_type": "stream",
     "text": [
      "\n",
      "average_precision: 0.31861 (+/-0.22838)\n",
      "recall_at_10: 0.50753 (+/-0.31598)\n",
      "reciprocal_best_rank: 0.45686 (+/-0.37234)\n",
      "reciprocal_average_rank: 0.11809 (+/-0.11955)\n",
      "ndcg_at_10: 0.37952 (+/-0.26988)\n",
      "\n",
      "Evaluation on the valid_loader...\n"
     ]
    },
    {
     "data": {
      "application/vnd.jupyter.widget-view+json": {
       "model_id": "18d93e35d16e4540bb1e5863e3076391",
       "version_major": 2,
       "version_minor": 0
      },
      "text/plain": [
       "HBox(children=(FloatProgress(value=0.0, max=335.0), HTML(value='')))"
      ]
     },
     "metadata": {},
     "output_type": "display_data"
    },
    {
     "name": "stdout",
     "output_type": "stream",
     "text": [
      "\n",
      "average_precision: 0.30432 (+/-0.23949)\n",
      "recall_at_10: 0.49729 (+/-0.32487)\n",
      "reciprocal_best_rank: 0.41846 (+/-0.36229)\n",
      "reciprocal_average_rank: 0.11681 (+/-0.12466)\n",
      "ndcg_at_10: 0.36022 (+/-0.27887)\n",
      "\n",
      "SummariesContextOverlap\n",
      "Evaluation on the train_loader...\n"
     ]
    },
    {
     "data": {
      "application/vnd.jupyter.widget-view+json": {
       "model_id": "993ed430c4234c64ba488bf7905b50c1",
       "version_major": 2,
       "version_minor": 0
      },
      "text/plain": [
       "HBox(children=(FloatProgress(value=0.0, max=670.0), HTML(value='')))"
      ]
     },
     "metadata": {},
     "output_type": "display_data"
    },
    {
     "name": "stdout",
     "output_type": "stream",
     "text": [
      "\n",
      "average_precision: 0.32401 (+/-0.23814)\n",
      "recall_at_10: 0.48385 (+/-0.32377)\n",
      "reciprocal_best_rank: 0.46945 (+/-0.38297)\n",
      "reciprocal_average_rank: 0.11994 (+/-0.12482)\n",
      "ndcg_at_10: 0.37599 (+/-0.28289)\n",
      "\n",
      "Evaluation on the valid_loader...\n"
     ]
    },
    {
     "data": {
      "application/vnd.jupyter.widget-view+json": {
       "model_id": "7d73a9d7e4c546fd99afd44cede54526",
       "version_major": 2,
       "version_minor": 0
      },
      "text/plain": [
       "HBox(children=(FloatProgress(value=0.0, max=335.0), HTML(value='')))"
      ]
     },
     "metadata": {},
     "output_type": "display_data"
    },
    {
     "name": "stdout",
     "output_type": "stream",
     "text": [
      "\n",
      "average_precision: 0.31654 (+/-0.24526)\n",
      "recall_at_10: 0.48925 (+/-0.31687)\n",
      "reciprocal_best_rank: 0.44145 (+/-0.36692)\n",
      "reciprocal_average_rank: 0.11881 (+/-0.12779)\n",
      "ndcg_at_10: 0.36862 (+/-0.28183)\n",
      "\n"
     ]
    }
   ],
   "source": [
    "for model_name in model_names:\n",
    "    model_name = to_class_name(model_name)\n",
    "    print(model_name)\n",
    "    \n",
    "    model = getattr(models, model_name)(scores_names=SCORES_NAMES,\n",
    "                                        relevance_level=task.relevance_level,\n",
    "                                        trained_model=None,\n",
    "                                        tensorboard_logs_path=root + TENSORBOARD_LOGS_PATH,\n",
    "                                        experiment_name=args['experiment'],\n",
    "                                        random_seed=MODELS_RANDOM_SEED)\n",
    "    \n",
    "    play(task=task, model=model)"
   ]
  },
  {
   "cell_type": "markdown",
   "metadata": {},
   "source": [
    "## Embedding baselines\n",
    "### Models"
   ]
  },
  {
   "cell_type": "code",
   "execution_count": 6,
   "metadata": {},
   "outputs": [],
   "source": [
    "model_names = [\n",
    "    \"summaries_average_embedding\",\n",
    "    \"summaries_overlap_average_embedding\",\n",
    "    \"context_average_embedding\",\n",
    "    \"summaries_context_average_embedding\",\n",
    "    \"summaries_context_overlap_average_embedding\",\n",
    "]"
   ]
  },
  {
   "cell_type": "markdown",
   "metadata": {},
   "source": [
    "### Pretrained model"
   ]
  },
  {
   "cell_type": "code",
   "execution_count": 7,
   "metadata": {},
   "outputs": [
    {
     "name": "stdout",
     "output_type": "stream",
     "text": [
      "Word2Vec embedding loaded.\n",
      "\n"
     ]
    }
   ],
   "source": [
    "word2vec_embedding = get_word2vec(root + PRETRAINED_MODELS_PATH)"
   ]
  },
  {
   "cell_type": "markdown",
   "metadata": {},
   "source": [
    "### Run the models"
   ]
  },
  {
   "cell_type": "code",
   "execution_count": 9,
   "metadata": {
    "scrolled": true
   },
   "outputs": [
    {
     "name": "stdout",
     "output_type": "stream",
     "text": [
      "SummariesAverageEmbedding\n",
      "Evaluation on the train_loader...\n"
     ]
    },
    {
     "data": {
      "application/vnd.jupyter.widget-view+json": {
       "model_id": "9b18371233b24581b9e205a98f2b19e2",
       "version_major": 2,
       "version_minor": 0
      },
      "text/plain": [
       "HBox(children=(FloatProgress(value=0.0, max=670.0), HTML(value='')))"
      ]
     },
     "metadata": {},
     "output_type": "display_data"
    },
    {
     "name": "stdout",
     "output_type": "stream",
     "text": [
      "\n",
      "average_precision: 0.36380 (+/-0.27860)\n",
      "recall_at_10: 0.53927 (+/-0.35898)\n",
      "reciprocal_best_rank: 0.47815 (+/-0.38885)\n",
      "reciprocal_average_rank: 0.14940 (+/-0.15595)\n",
      "ndcg_at_10: 0.41580 (+/-0.31898)\n",
      "\n",
      "Evaluation on the valid_loader...\n"
     ]
    },
    {
     "data": {
      "application/vnd.jupyter.widget-view+json": {
       "model_id": "dc313158e2824b0188ce441d946cc159",
       "version_major": 2,
       "version_minor": 0
      },
      "text/plain": [
       "HBox(children=(FloatProgress(value=0.0, max=335.0), HTML(value='')))"
      ]
     },
     "metadata": {},
     "output_type": "display_data"
    },
    {
     "name": "stdout",
     "output_type": "stream",
     "text": [
      "\n",
      "average_precision: 0.35204 (+/-0.27668)\n",
      "recall_at_10: 0.52027 (+/-0.36628)\n",
      "reciprocal_best_rank: 0.46311 (+/-0.38478)\n",
      "reciprocal_average_rank: 0.14613 (+/-0.15051)\n",
      "ndcg_at_10: 0.40030 (+/-0.32237)\n",
      "\n",
      "SummariesOverlapAverageEmbedding\n",
      "Evaluation on the train_loader...\n"
     ]
    },
    {
     "data": {
      "application/vnd.jupyter.widget-view+json": {
       "model_id": "9e664395e3d94a9e8d942f59ea09dc5d",
       "version_major": 2,
       "version_minor": 0
      },
      "text/plain": [
       "HBox(children=(FloatProgress(value=0.0, max=670.0), HTML(value='')))"
      ]
     },
     "metadata": {},
     "output_type": "display_data"
    },
    {
     "name": "stdout",
     "output_type": "stream",
     "text": [
      "\n",
      "average_precision: 0.39632 (+/-0.29534)\n",
      "recall_at_10: 0.55842 (+/-0.36701)\n",
      "reciprocal_best_rank: 0.52359 (+/-0.39791)\n",
      "reciprocal_average_rank: 0.16864 (+/-0.18361)\n",
      "ndcg_at_10: 0.44902 (+/-0.33315)\n",
      "\n",
      "Evaluation on the valid_loader...\n"
     ]
    },
    {
     "data": {
      "application/vnd.jupyter.widget-view+json": {
       "model_id": "30a8ce7b1c924629814fe62f3c5b6a75",
       "version_major": 2,
       "version_minor": 0
      },
      "text/plain": [
       "HBox(children=(FloatProgress(value=0.0, max=335.0), HTML(value='')))"
      ]
     },
     "metadata": {},
     "output_type": "display_data"
    },
    {
     "name": "stdout",
     "output_type": "stream",
     "text": [
      "\n",
      "average_precision: 0.39849 (+/-0.29205)\n",
      "recall_at_10: 0.54435 (+/-0.35726)\n",
      "reciprocal_best_rank: 0.54345 (+/-0.39941)\n",
      "reciprocal_average_rank: 0.16380 (+/-0.17444)\n",
      "ndcg_at_10: 0.44896 (+/-0.32792)\n",
      "\n",
      "ContextAverageEmbedding\n",
      "Evaluation on the train_loader...\n"
     ]
    },
    {
     "data": {
      "application/vnd.jupyter.widget-view+json": {
       "model_id": "2c523401b8634cd9ad2bf4e117d0a9e3",
       "version_major": 2,
       "version_minor": 0
      },
      "text/plain": [
       "HBox(children=(FloatProgress(value=0.0, max=670.0), HTML(value='')))"
      ]
     },
     "metadata": {},
     "output_type": "display_data"
    },
    {
     "ename": "KeyboardInterrupt",
     "evalue": "",
     "output_type": "error",
     "traceback": [
      "\u001b[0;31m---------------------------------------------------------------------------\u001b[0m",
      "\u001b[0;31mKeyboardInterrupt\u001b[0m                         Traceback (most recent call last)",
      "\u001b[0;32m<ipython-input-9-a635d9a398cb>\u001b[0m in \u001b[0;36m<module>\u001b[0;34m\u001b[0m\n\u001b[1;32m     10\u001b[0m                                         random_seed=MODELS_RANDOM_SEED)\n\u001b[1;32m     11\u001b[0m \u001b[0;34m\u001b[0m\u001b[0m\n\u001b[0;32m---> 12\u001b[0;31m     \u001b[0mplay\u001b[0m\u001b[0;34m(\u001b[0m\u001b[0mtask\u001b[0m\u001b[0;34m=\u001b[0m\u001b[0mtask\u001b[0m\u001b[0;34m,\u001b[0m \u001b[0mmodel\u001b[0m\u001b[0;34m=\u001b[0m\u001b[0mmodel\u001b[0m\u001b[0;34m)\u001b[0m\u001b[0;34m\u001b[0m\u001b[0;34m\u001b[0m\u001b[0m\n\u001b[0m",
      "\u001b[0;32m~/Desktop/master_thesis/toolbox/utils.py\u001b[0m in \u001b[0;36mplay\u001b[0;34m(task, model)\u001b[0m\n\u001b[1;32m    164\u001b[0m \u001b[0;34m\u001b[0m\u001b[0m\n\u001b[1;32m    165\u001b[0m     \u001b[0mprint\u001b[0m\u001b[0;34m(\u001b[0m\u001b[0;34m\"Evaluation on the train_loader...\"\u001b[0m\u001b[0;34m)\u001b[0m\u001b[0;34m\u001b[0m\u001b[0;34m\u001b[0m\u001b[0m\n\u001b[0;32m--> 166\u001b[0;31m     \u001b[0mmodel\u001b[0m\u001b[0;34m.\u001b[0m\u001b[0mvalid\u001b[0m\u001b[0;34m(\u001b[0m\u001b[0mtask\u001b[0m\u001b[0;34m.\u001b[0m\u001b[0mtrain_loader\u001b[0m\u001b[0;34m)\u001b[0m\u001b[0;34m\u001b[0m\u001b[0;34m\u001b[0m\u001b[0m\n\u001b[0m\u001b[1;32m    167\u001b[0m \u001b[0;34m\u001b[0m\u001b[0m\n\u001b[1;32m    168\u001b[0m     \u001b[0mprint\u001b[0m\u001b[0;34m(\u001b[0m\u001b[0;34m\"Evaluation on the valid_loader...\"\u001b[0m\u001b[0;34m)\u001b[0m\u001b[0;34m\u001b[0m\u001b[0;34m\u001b[0m\u001b[0m\n",
      "\u001b[0;32m~/Desktop/master_thesis/modeling/models.py\u001b[0m in \u001b[0;36mvalid\u001b[0;34m(self, data_loader)\u001b[0m\n\u001b[1;32m     78\u001b[0m         \"\"\"\n\u001b[1;32m     79\u001b[0m \u001b[0;34m\u001b[0m\u001b[0m\n\u001b[0;32m---> 80\u001b[0;31m         \u001b[0mepoch_losses\u001b[0m\u001b[0;34m,\u001b[0m \u001b[0mepoch_scores\u001b[0m \u001b[0;34m=\u001b[0m \u001b[0mself\u001b[0m\u001b[0;34m.\u001b[0m\u001b[0mevaluate_epoch\u001b[0m\u001b[0;34m(\u001b[0m\u001b[0mdata_loader\u001b[0m\u001b[0;34m=\u001b[0m\u001b[0mdata_loader\u001b[0m\u001b[0;34m)\u001b[0m\u001b[0;34m\u001b[0m\u001b[0;34m\u001b[0m\u001b[0m\n\u001b[0m\u001b[1;32m     81\u001b[0m \u001b[0;34m\u001b[0m\u001b[0m\n\u001b[1;32m     82\u001b[0m         \u001b[0mself\u001b[0m\u001b[0;34m.\u001b[0m\u001b[0mvalid_losses\u001b[0m\u001b[0;34m.\u001b[0m\u001b[0mappend\u001b[0m\u001b[0;34m(\u001b[0m\u001b[0mepoch_losses\u001b[0m\u001b[0;34m)\u001b[0m\u001b[0;34m\u001b[0m\u001b[0;34m\u001b[0m\u001b[0m\n",
      "\u001b[0;32m~/Desktop/master_thesis/modeling/models.py\u001b[0m in \u001b[0;36mevaluate_epoch\u001b[0;34m(self, data_loader)\u001b[0m\n\u001b[1;32m    118\u001b[0m \u001b[0;34m\u001b[0m\u001b[0m\n\u001b[1;32m    119\u001b[0m         \u001b[0;32mfor\u001b[0m \u001b[0mranking_idx\u001b[0m\u001b[0;34m,\u001b[0m \u001b[0mranking\u001b[0m \u001b[0;32min\u001b[0m \u001b[0mtqdm\u001b[0m\u001b[0;34m(\u001b[0m\u001b[0menumerate\u001b[0m\u001b[0;34m(\u001b[0m\u001b[0mdata_loader\u001b[0m\u001b[0;34m)\u001b[0m\u001b[0;34m,\u001b[0m \u001b[0mtotal\u001b[0m\u001b[0;34m=\u001b[0m\u001b[0mn_rankings\u001b[0m\u001b[0;34m)\u001b[0m\u001b[0;34m:\u001b[0m\u001b[0;34m\u001b[0m\u001b[0;34m\u001b[0m\u001b[0m\n\u001b[0;32m--> 120\u001b[0;31m             \u001b[0mranking_loss\u001b[0m\u001b[0;34m,\u001b[0m \u001b[0mranking_score\u001b[0m \u001b[0;34m=\u001b[0m \u001b[0mself\u001b[0m\u001b[0;34m.\u001b[0m\u001b[0mevaluate_ranking\u001b[0m\u001b[0;34m(\u001b[0m\u001b[0mranking\u001b[0m\u001b[0;34m=\u001b[0m\u001b[0mranking\u001b[0m\u001b[0;34m)\u001b[0m\u001b[0;34m\u001b[0m\u001b[0;34m\u001b[0m\u001b[0m\n\u001b[0m\u001b[1;32m    121\u001b[0m \u001b[0;34m\u001b[0m\u001b[0m\n\u001b[1;32m    122\u001b[0m             \u001b[0mself\u001b[0m\u001b[0;34m.\u001b[0m\u001b[0mwrite_tensorboard\u001b[0m\u001b[0;34m(\u001b[0m\u001b[0mloss\u001b[0m\u001b[0;34m=\u001b[0m\u001b[0mranking_loss\u001b[0m\u001b[0;34m,\u001b[0m \u001b[0mscore\u001b[0m\u001b[0;34m=\u001b[0m\u001b[0mranking_score\u001b[0m\u001b[0;34m,\u001b[0m \u001b[0mtag\u001b[0m\u001b[0;34m=\u001b[0m\u001b[0;34m'test'\u001b[0m\u001b[0;34m,\u001b[0m \u001b[0mstep\u001b[0m\u001b[0;34m=\u001b[0m\u001b[0mranking_idx\u001b[0m\u001b[0;34m)\u001b[0m\u001b[0;34m\u001b[0m\u001b[0;34m\u001b[0m\u001b[0m\n",
      "\u001b[0;32m~/Desktop/master_thesis/modeling/models.py\u001b[0m in \u001b[0;36mevaluate_ranking\u001b[0;34m(self, ranking)\u001b[0m\n\u001b[1;32m    140\u001b[0m \u001b[0;34m\u001b[0m\u001b[0m\n\u001b[1;32m    141\u001b[0m         \u001b[0;32mfor\u001b[0m \u001b[0minputs\u001b[0m\u001b[0;34m,\u001b[0m \u001b[0mtargets\u001b[0m \u001b[0;32min\u001b[0m \u001b[0mranking\u001b[0m\u001b[0;34m:\u001b[0m\u001b[0;34m\u001b[0m\u001b[0;34m\u001b[0m\u001b[0m\n\u001b[0;32m--> 142\u001b[0;31m             \u001b[0moutputs\u001b[0m \u001b[0;34m=\u001b[0m \u001b[0mself\u001b[0m\u001b[0;34m.\u001b[0m\u001b[0mpred\u001b[0m\u001b[0;34m(\u001b[0m\u001b[0minputs\u001b[0m\u001b[0;34m)\u001b[0m\u001b[0;34m\u001b[0m\u001b[0;34m\u001b[0m\u001b[0m\n\u001b[0m\u001b[1;32m    143\u001b[0m             \u001b[0mranking_outputs\u001b[0m\u001b[0;34m.\u001b[0m\u001b[0mappend\u001b[0m\u001b[0;34m(\u001b[0m\u001b[0moutputs\u001b[0m\u001b[0;34m)\u001b[0m\u001b[0;34m,\u001b[0m \u001b[0mranking_targets\u001b[0m\u001b[0;34m.\u001b[0m\u001b[0mappend\u001b[0m\u001b[0;34m(\u001b[0m\u001b[0mtargets\u001b[0m\u001b[0;34m)\u001b[0m\u001b[0;34m\u001b[0m\u001b[0;34m\u001b[0m\u001b[0m\n\u001b[1;32m    144\u001b[0m \u001b[0;34m\u001b[0m\u001b[0m\n",
      "\u001b[0;32m~/Desktop/master_thesis/modeling/models.py\u001b[0m in \u001b[0;36mpred\u001b[0;34m(self, inputs)\u001b[0m\n\u001b[1;32m    816\u001b[0m         \u001b[0mcontext_words\u001b[0m \u001b[0;34m=\u001b[0m \u001b[0mself\u001b[0m\u001b[0;34m.\u001b[0m\u001b[0mget_context_words\u001b[0m\u001b[0;34m(\u001b[0m\u001b[0minputs\u001b[0m\u001b[0;34m)\u001b[0m\u001b[0;34m\u001b[0m\u001b[0;34m\u001b[0m\u001b[0m\n\u001b[1;32m    817\u001b[0m \u001b[0;34m\u001b[0m\u001b[0m\n\u001b[0;32m--> 818\u001b[0;31m         \u001b[0;32mreturn\u001b[0m \u001b[0mself\u001b[0m\u001b[0;34m.\u001b[0m\u001b[0mget_average_embedding_similarity\u001b[0m\u001b[0;34m(\u001b[0m\u001b[0mwords_lists\u001b[0m\u001b[0;34m=\u001b[0m\u001b[0mchoices_words\u001b[0m\u001b[0;34m,\u001b[0m \u001b[0mwords\u001b[0m\u001b[0;34m=\u001b[0m\u001b[0mcontext_words\u001b[0m\u001b[0;34m)\u001b[0m\u001b[0;34m\u001b[0m\u001b[0;34m\u001b[0m\u001b[0m\n\u001b[0m\u001b[1;32m    819\u001b[0m \u001b[0;34m\u001b[0m\u001b[0m\n\u001b[1;32m    820\u001b[0m \u001b[0;31m# endregion\u001b[0m\u001b[0;34m\u001b[0m\u001b[0;34m\u001b[0m\u001b[0;34m\u001b[0m\u001b[0m\n",
      "\u001b[0;32m~/Desktop/master_thesis/modeling/models.py\u001b[0m in \u001b[0;36mget_average_embedding_similarity\u001b[0;34m(self, words_lists, words)\u001b[0m\n\u001b[1;32m    551\u001b[0m         \"\"\"\n\u001b[1;32m    552\u001b[0m \u001b[0;34m\u001b[0m\u001b[0m\n\u001b[0;32m--> 553\u001b[0;31m         \u001b[0mstacked_embeddings\u001b[0m \u001b[0;34m=\u001b[0m \u001b[0mtorch\u001b[0m\u001b[0;34m.\u001b[0m\u001b[0mstack\u001b[0m\u001b[0;34m(\u001b[0m\u001b[0;34m[\u001b[0m\u001b[0mself\u001b[0m\u001b[0;34m.\u001b[0m\u001b[0mget_average_embedding\u001b[0m\u001b[0;34m(\u001b[0m\u001b[0mwords_list\u001b[0m\u001b[0;34m)\u001b[0m \u001b[0;32mfor\u001b[0m \u001b[0mwords_list\u001b[0m \u001b[0;32min\u001b[0m \u001b[0mwords_lists\u001b[0m\u001b[0;34m]\u001b[0m\u001b[0;34m)\u001b[0m\u001b[0;34m\u001b[0m\u001b[0;34m\u001b[0m\u001b[0m\n\u001b[0m\u001b[1;32m    554\u001b[0m         \u001b[0membedding\u001b[0m \u001b[0;34m=\u001b[0m \u001b[0mself\u001b[0m\u001b[0;34m.\u001b[0m\u001b[0mget_average_embedding\u001b[0m\u001b[0;34m(\u001b[0m\u001b[0mwords\u001b[0m\u001b[0;34m)\u001b[0m\u001b[0;34m.\u001b[0m\u001b[0mreshape\u001b[0m\u001b[0;34m(\u001b[0m\u001b[0;34m(\u001b[0m\u001b[0;36m1\u001b[0m\u001b[0;34m,\u001b[0m \u001b[0;34m-\u001b[0m\u001b[0;36m1\u001b[0m\u001b[0;34m)\u001b[0m\u001b[0;34m)\u001b[0m\u001b[0;34m\u001b[0m\u001b[0;34m\u001b[0m\u001b[0m\n\u001b[1;32m    555\u001b[0m \u001b[0;34m\u001b[0m\u001b[0m\n",
      "\u001b[0;32m~/Desktop/master_thesis/modeling/models.py\u001b[0m in \u001b[0;36m<listcomp>\u001b[0;34m(.0)\u001b[0m\n\u001b[1;32m    551\u001b[0m         \"\"\"\n\u001b[1;32m    552\u001b[0m \u001b[0;34m\u001b[0m\u001b[0m\n\u001b[0;32m--> 553\u001b[0;31m         \u001b[0mstacked_embeddings\u001b[0m \u001b[0;34m=\u001b[0m \u001b[0mtorch\u001b[0m\u001b[0;34m.\u001b[0m\u001b[0mstack\u001b[0m\u001b[0;34m(\u001b[0m\u001b[0;34m[\u001b[0m\u001b[0mself\u001b[0m\u001b[0;34m.\u001b[0m\u001b[0mget_average_embedding\u001b[0m\u001b[0;34m(\u001b[0m\u001b[0mwords_list\u001b[0m\u001b[0;34m)\u001b[0m \u001b[0;32mfor\u001b[0m \u001b[0mwords_list\u001b[0m \u001b[0;32min\u001b[0m \u001b[0mwords_lists\u001b[0m\u001b[0;34m]\u001b[0m\u001b[0;34m)\u001b[0m\u001b[0;34m\u001b[0m\u001b[0;34m\u001b[0m\u001b[0m\n\u001b[0m\u001b[1;32m    554\u001b[0m         \u001b[0membedding\u001b[0m \u001b[0;34m=\u001b[0m \u001b[0mself\u001b[0m\u001b[0;34m.\u001b[0m\u001b[0mget_average_embedding\u001b[0m\u001b[0;34m(\u001b[0m\u001b[0mwords\u001b[0m\u001b[0;34m)\u001b[0m\u001b[0;34m.\u001b[0m\u001b[0mreshape\u001b[0m\u001b[0;34m(\u001b[0m\u001b[0;34m(\u001b[0m\u001b[0;36m1\u001b[0m\u001b[0;34m,\u001b[0m \u001b[0;34m-\u001b[0m\u001b[0;36m1\u001b[0m\u001b[0;34m)\u001b[0m\u001b[0;34m)\u001b[0m\u001b[0;34m\u001b[0m\u001b[0;34m\u001b[0m\u001b[0m\n\u001b[1;32m    555\u001b[0m \u001b[0;34m\u001b[0m\u001b[0m\n",
      "\u001b[0;32m~/Desktop/master_thesis/modeling/models.py\u001b[0m in \u001b[0;36mget_average_embedding\u001b[0;34m(self, words)\u001b[0m\n\u001b[1;32m    533\u001b[0m \u001b[0;34m\u001b[0m\u001b[0m\n\u001b[1;32m    534\u001b[0m         \u001b[0;32melse\u001b[0m\u001b[0;34m:\u001b[0m\u001b[0;34m\u001b[0m\u001b[0;34m\u001b[0m\u001b[0m\n\u001b[0;32m--> 535\u001b[0;31m             \u001b[0mword\u001b[0m \u001b[0;34m=\u001b[0m \u001b[0mlist\u001b[0m\u001b[0;34m(\u001b[0m\u001b[0mself\u001b[0m\u001b[0;34m.\u001b[0m\u001b[0mtrained_model\u001b[0m\u001b[0;34m.\u001b[0m\u001b[0mvocab\u001b[0m\u001b[0;34m)\u001b[0m\u001b[0;34m[\u001b[0m\u001b[0;36m0\u001b[0m\u001b[0;34m]\u001b[0m\u001b[0;34m\u001b[0m\u001b[0;34m\u001b[0m\u001b[0m\n\u001b[0m\u001b[1;32m    536\u001b[0m             \u001b[0membedding\u001b[0m \u001b[0;34m=\u001b[0m \u001b[0mself\u001b[0m\u001b[0;34m.\u001b[0m\u001b[0mget_word_embedding\u001b[0m\u001b[0;34m(\u001b[0m\u001b[0mword\u001b[0m\u001b[0;34m)\u001b[0m\u001b[0;34m\u001b[0m\u001b[0;34m\u001b[0m\u001b[0m\n\u001b[1;32m    537\u001b[0m \u001b[0;34m\u001b[0m\u001b[0m\n",
      "\u001b[0;31mKeyboardInterrupt\u001b[0m: "
     ]
    }
   ],
   "source": [
    "for model_name in model_names:\n",
    "    model_name = to_class_name(model_name)\n",
    "    print(model_name)\n",
    "    \n",
    "    model = getattr(models, model_name)(scores_names=SCORES_NAMES,\n",
    "                                        relevance_level=task.relevance_level,\n",
    "                                        trained_model=word2vec_embedding,\n",
    "                                        tensorboard_logs_path=root + TENSORBOARD_LOGS_PATH,\n",
    "                                        experiment_name=args['experiment'],\n",
    "                                        random_seed=MODELS_RANDOM_SEED)\n",
    "    \n",
    "    play(task=task, model=model)"
   ]
  },
  {
   "cell_type": "markdown",
   "metadata": {},
   "source": [
    "# Run the finetuned models\n",
    "## BART classifier\n",
    "### Models"
   ]
  },
  {
   "cell_type": "code",
   "execution_count": 4,
   "metadata": {},
   "outputs": [],
   "source": [
    "model_names = [\n",
    "    \"classifier_bart\"\n",
    "]"
   ]
  },
  {
   "cell_type": "markdown",
   "metadata": {},
   "source": [
    "### Pretrained model"
   ]
  },
  {
   "cell_type": "code",
   "execution_count": 5,
   "metadata": {
    "scrolled": true
   },
   "outputs": [
    {
     "name": "stdout",
     "output_type": "stream",
     "text": [
      "BART loaded (in evaluation mode).\n",
      "\n"
     ]
    }
   ],
   "source": [
    "bart = get_bart(bin_path=root + \"results/models/RTE-bin_vanilla\",\n",
    "                checkpoint_file=\"checkpoints/checkpoint1.pt\")"
   ]
  },
  {
   "cell_type": "markdown",
   "metadata": {},
   "source": [
    "### Run the models"
   ]
  },
  {
   "cell_type": "code",
   "execution_count": 6,
   "metadata": {
    "scrolled": true
   },
   "outputs": [
    {
     "name": "stdout",
     "output_type": "stream",
     "text": [
      "ClassifierBart\n",
      "Evaluation on the train_loader...\n"
     ]
    },
    {
     "data": {
      "application/vnd.jupyter.widget-view+json": {
       "model_id": "9005e45f9b5b415a9b5817d2746e5c41",
       "version_major": 2,
       "version_minor": 0
      },
      "text/plain": [
       "HBox(children=(FloatProgress(value=0.0, max=1.0), HTML(value='')))"
      ]
     },
     "metadata": {},
     "output_type": "display_data"
    },
    {
     "name": "stdout",
     "output_type": "stream",
     "text": [
      "\n",
      "average_precision: 1.00000 (+/-0.00000)\n",
      "recall_at_10: 1.00000 (+/-0.00000)\n",
      "reciprocal_best_rank: 1.00000 (+/-0.00000)\n",
      "reciprocal_average_rank: 1.00000 (+/-0.00000)\n",
      "ndcg_at_10: 1.00000 (+/-0.00000)\n",
      "\n",
      "Evaluation on the valid_loader...\n"
     ]
    },
    {
     "data": {
      "application/vnd.jupyter.widget-view+json": {
       "model_id": "73711f04cd104820aedc528147b75312",
       "version_major": 2,
       "version_minor": 0
      },
      "text/plain": [
       "HBox(children=(FloatProgress(value=0.0, max=1.0), HTML(value='')))"
      ]
     },
     "metadata": {},
     "output_type": "display_data"
    },
    {
     "name": "stdout",
     "output_type": "stream",
     "text": [
      "\n",
      "average_precision: 0.88750 (+/-0.00000)\n",
      "recall_at_10: 1.00000 (+/-0.00000)\n",
      "reciprocal_best_rank: 1.00000 (+/-0.00000)\n",
      "reciprocal_average_rank: 0.33333 (+/-0.00000)\n",
      "ndcg_at_10: 0.95583 (+/-0.00000)\n",
      "\n"
     ]
    }
   ],
   "source": [
    "for model_name in model_names:\n",
    "    model_name = to_class_name(model_name)\n",
    "    print(model_name)\n",
    "    \n",
    "    model = getattr(models, model_name)(scores_names=SCORES_NAMES,\n",
    "                                        relevance_level=task.relevance_level,\n",
    "                                        trained_model=bart,\n",
    "                                        tensorboard_logs_path=root + TENSORBOARD_LOGS_PATH,\n",
    "                                        experiment_name=args['experiment'],\n",
    "                                        random_seed=MODELS_RANDOM_SEED)\n",
    "    \n",
    "    play(task=task, model=model)"
   ]
  },
  {
   "cell_type": "code",
   "execution_count": null,
   "metadata": {},
   "outputs": [],
   "source": []
  }
 ],
 "metadata": {
  "kernelspec": {
   "display_name": "Python 3",
   "language": "python",
   "name": "python3"
  },
  "language_info": {
   "codemirror_mode": {
    "name": "ipython",
    "version": 3
   },
   "file_extension": ".py",
   "mimetype": "text/x-python",
   "name": "python",
   "nbconvert_exporter": "python",
   "pygments_lexer": "ipython3",
   "version": "3.7.7"
  },
  "pycharm": {
   "stem_cell": {
    "cell_type": "raw",
    "metadata": {
     "collapsed": false
    },
    "source": []
   }
  },
  "toc": {
   "base_numbering": 1,
   "nav_menu": {},
   "number_sections": true,
   "sideBar": true,
   "skip_h1_title": false,
   "title_cell": "Table of Contents",
   "title_sidebar": "Contents",
   "toc_cell": false,
   "toc_position": {},
   "toc_section_display": true,
   "toc_window_display": false
  }
 },
 "nbformat": 4,
 "nbformat_minor": 2
}
