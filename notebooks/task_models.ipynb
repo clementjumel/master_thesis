{
 "cells": [
  {
   "cell_type": "markdown",
   "metadata": {},
   "source": [
    "## Setup"
   ]
  },
  {
   "cell_type": "code",
   "execution_count": 1,
   "metadata": {
    "ExecuteTime": {
     "end_time": "2019-04-13T03:57:03.299844Z",
     "start_time": "2019-04-13T03:57:03.266445Z"
    },
    "pycharm": {
     "is_executing": false
    }
   },
   "outputs": [],
   "source": [
    "import sys\n",
    "sys.path.append('../')\n",
    "del sys\n",
    "%reload_ext autoreload\n",
    "%autoreload 2\n",
    "\n",
    "from modeling.pipeline import Pipeline\n",
    "from modeling.nn import RegressionMLP, ClassificationMLP\n",
    "import torch"
   ]
  },
  {
   "cell_type": "markdown",
   "metadata": {},
   "source": [
    "## Data pipeline parameters"
   ]
  },
  {
   "cell_type": "code",
   "execution_count": 2,
   "metadata": {},
   "outputs": [],
   "source": [
    "batch_size = 64\n",
    "drop_last = False\n",
    "test_proportion = 0.2\n",
    "valid_proportion = 0.2\n",
    "use_k_fold = False\n",
    "k_k_fold = None"
   ]
  },
  {
   "cell_type": "markdown",
   "metadata": {},
   "source": [
    "## Load the data"
   ]
  },
  {
   "cell_type": "code",
   "execution_count": 3,
   "metadata": {
    "scrolled": true
   },
   "outputs": [
    {
     "name": "stdout",
     "output_type": "stream",
     "text": [
      "Processing the modeling task...\n",
      "Computing the annotated queries...\n",
      "Initial length of queries: 0\n",
      "Object loaded from ../results/../results/task_annotation/v2_0/task/queries_size10k_shuffle_articles1_queries1_seed0.pkl\n",
      "Object loaded from ../results/../results/task_annotation/v2_1/task/queries_sizemax_shuffle_articles1_queries1_seed0.pkl\n",
      "Object loaded from ../results/../results/task_annotation/v2_2/task/queries_sizemax_shuffle_articles1_queries1_seed0.pkl\n",
      "Final length of queries: 61056\n",
      "Done (elapsed time: 1s).\n",
      "\n",
      "Computing the annotations...\n",
      "Initial length of annotations: 0\n",
      "Object loaded from ../results/task_annotation/v2_0/results/batch_00_complete.csv\n",
      "   Correcting \"n this article, Nevada and Ohio are discussed. The two American states...\" to \" The two American states...\"\n",
      "   Correcting \"In this article, California and Oregon are discussed. The two neighboring states...\" to \" The two neighboring states...\"\n",
      "   Correcting \"In this article, California and Oregon are discussed. The two West Coast states...\" to \" The two West Coast states...\"\n",
      "Object loaded from ../results/task_annotation/v2_0/results/batch_01_complete.csv\n",
      "   Discarding \"The\"\n",
      "   Correcting \"THE CHESS CHAMPIONS\" to \"The chess champions\"\n",
      "   Correcting \"THE WHITE AND BLACK\" to \"The white and black\"\n",
      "   Discarding \"Both are politlca entities\"\n",
      "Object loaded from ../results/task_annotation/v2_1/results/batch_02_complete.csv\n",
      "   Discarding \"Both groups have a military wing\"\n",
      "   Discarding \"The financial/media concern\"\n",
      "   Discarding \"Both countries are in Western Asia\"\n",
      "   Correcting \"FOOTBALL TEAM\" to \"Football team\"\n",
      "Object loaded from ../results/task_annotation/v2_1/results/batch_03_complete.csv\n",
      "   Discarding \"The convicted Hynix managers/directors\"\n",
      "   Discarding \"The areas that include or are included by Eurasia\"\n",
      "Object loaded from ../results/task_annotation/v2_2/results/batch_04_complete.csv\n",
      "   Discarding \"Are in European territory\"\n",
      "   Discarding \"The states that have seen declining enrollment in Medicaid\"\n",
      "Object loaded from ../results/task_annotation/v2_2/results/batch_05_complete.csv\n",
      "   Discarding \"The director/choreographers\"\n",
      "   Discarding \"The writer/directors\"\n",
      "Final length of annotations: 2100\n",
      "Done (elapsed time: 1s).\n",
      "\n",
      "Filtering the annotations...\n",
      "Criterion: at least 5 assignments per worker.\n",
      "Annotations filtered: 6262 left (37 deleted).\n",
      "Done (elapsed time: 0s).\n",
      "\n",
      "Computing the modeling task...\n",
      "Done (elapsed time: 0s).\n",
      "\n",
      "Done (elapsed time: 3s).\n",
      "\n",
      "Raw data imported (1718 samples).\n",
      "Split into train (1030, 60%), valid (344, 20%) and test (344, 20%) sets.\n"
     ]
    }
   ],
   "source": [
    "pipeline = Pipeline(use_k_fold=use_k_fold)\n",
    "pipeline.process_data(batch_size=batch_size,\n",
    "                      drop_last=drop_last,\n",
    "                      test_proportion=test_proportion,\n",
    "                      valid_proportion=valid_proportion,\n",
    "                      k=k_k_fold)"
   ]
  },
  {
   "cell_type": "markdown",
   "metadata": {},
   "source": [
    "## Metrics"
   ]
  },
  {
   "cell_type": "code",
   "execution_count": 4,
   "metadata": {},
   "outputs": [],
   "source": [
    "scores_names = [\n",
    "    'average_precision', \n",
    "    'precision_at_k', \n",
    "    'recall_at_k', \n",
    "    'reciprocal_best_rank', \n",
    "    'reciprocal_average_rank', \n",
    "    'ndcg'\n",
    "]\n",
    "n_updates = 200"
   ]
  },
  {
   "cell_type": "markdown",
   "metadata": {},
   "source": [
    "## Half BOW"
   ]
  },
  {
   "cell_type": "code",
   "execution_count": null,
   "metadata": {},
   "outputs": [],
   "source": [
    "input_dim, hidden_dim1, hidden_dim2 = 4305, 1000, None\n",
    "\n",
    "dropout = 0.1\n",
    "lr = 4e-7\n",
    "step_size = 1\n",
    "gamma = 0.5\n",
    "n_epochs = 10\n",
    "\n",
    "is_regression = False\n",
    "\n",
    "if is_regression:\n",
    "    loss = torch.nn.MSELoss()\n",
    "    net = RegressionMLP(input_dim=input_dim, hidden_dim1=hidden_dim1, hidden_dim2=hidden_dim2, dropout=dropout)\n",
    "    \n",
    "else:\n",
    "    weight = torch.tensor([1, 1], dtype=torch.float)\n",
    "    loss = torch.nn.CrossEntropyLoss(weight=weight)\n",
    "    net = ClassificationMLP(input_dim=input_dim, hidden_dim1=hidden_dim1, hidden_dim2=hidden_dim2, dropout=dropout)\n",
    "    \n",
    "optimizer = torch.optim.Adam(net.parameters(), lr=lr)\n",
    "lr_scheduler = torch.optim.lr_scheduler.StepLR(optimizer=optimizer, step_size=step_size, gamma=gamma)"
   ]
  },
  {
   "cell_type": "code",
   "execution_count": null,
   "metadata": {},
   "outputs": [],
   "source": [
    "from modeling.models import HalfBOWModel\n",
    "\n",
    "model = HalfBOWModel(vocab_frequency_range=[100, 10000],\n",
    "                     net=net,\n",
    "                     optimizer=optimizer,\n",
    "                     lr_scheduler=lr_scheduler,\n",
    "                     loss=loss,\n",
    "                     scores_names=scores_names)\n",
    "\n",
    "pipeline.preview_data(model=model)"
   ]
  },
  {
   "cell_type": "code",
   "execution_count": null,
   "metadata": {
    "scrolled": false
   },
   "outputs": [],
   "source": [
    "pipeline.train_model(model=model, \n",
    "                     n_epochs=n_epochs, \n",
    "                     n_updates=n_updates,\n",
    "                     is_regression=is_regression)"
   ]
  },
  {
   "cell_type": "code",
   "execution_count": 8,
   "metadata": {
    "scrolled": false
   },
   "outputs": [
    {
     "ename": "IndexError",
     "evalue": "list index out of range",
     "output_type": "error",
     "traceback": [
      "\u001b[0;31m---------------------------------------------------------------------------\u001b[0m",
      "\u001b[0;31mIndexError\u001b[0m                                Traceback (most recent call last)",
      "\u001b[0;32m<ipython-input-8-16deaf1f57b4>\u001b[0m in \u001b[0;36m<module>\u001b[0;34m\u001b[0m\n\u001b[1;32m      7\u001b[0m                        \u001b[0;34m'reciprocal_best_rank'\u001b[0m\u001b[0;34m,\u001b[0m\u001b[0;34m\u001b[0m\u001b[0;34m\u001b[0m\u001b[0m\n\u001b[1;32m      8\u001b[0m                        \u001b[0;34m'reciprocal_average_rank'\u001b[0m\u001b[0;34m,\u001b[0m\u001b[0;34m\u001b[0m\u001b[0;34m\u001b[0m\u001b[0m\n\u001b[0;32m----> 9\u001b[0;31m                        \u001b[0;34m'ndcg'\u001b[0m\u001b[0;34m\u001b[0m\u001b[0;34m\u001b[0m\u001b[0m\n\u001b[0m\u001b[1;32m     10\u001b[0m                    ])\n",
      "\u001b[0;32m~/Desktop/master_thesis/modeling/models.py\u001b[0m in \u001b[0;36mplot_metrics\u001b[0;34m(self, scores_names, align_experiments, display_training_scores)\u001b[0m\n\u001b[1;32m    620\u001b[0m         \u001b[0;32mfor\u001b[0m \u001b[0mi\u001b[0m \u001b[0;32min\u001b[0m \u001b[0mrange\u001b[0m\u001b[0;34m(\u001b[0m\u001b[0mn_experiments\u001b[0m\u001b[0;34m)\u001b[0m\u001b[0;34m:\u001b[0m\u001b[0;34m\u001b[0m\u001b[0;34m\u001b[0m\u001b[0m\n\u001b[1;32m    621\u001b[0m             \u001b[0mn_epochs\u001b[0m \u001b[0;34m=\u001b[0m \u001b[0mlen\u001b[0m\u001b[0;34m(\u001b[0m\u001b[0mself\u001b[0m\u001b[0;34m.\u001b[0m\u001b[0mtrain_scores\u001b[0m\u001b[0;34m[\u001b[0m\u001b[0mreference\u001b[0m\u001b[0;34m]\u001b[0m\u001b[0;34m[\u001b[0m\u001b[0mi\u001b[0m\u001b[0;34m]\u001b[0m\u001b[0;34m)\u001b[0m\u001b[0;34m\u001b[0m\u001b[0;34m\u001b[0m\u001b[0m\n\u001b[0;32m--> 622\u001b[0;31m             \u001b[0mn_points\u001b[0m \u001b[0;34m=\u001b[0m \u001b[0mlen\u001b[0m\u001b[0;34m(\u001b[0m\u001b[0mself\u001b[0m\u001b[0;34m.\u001b[0m\u001b[0mtrain_scores\u001b[0m\u001b[0;34m[\u001b[0m\u001b[0mreference\u001b[0m\u001b[0;34m]\u001b[0m\u001b[0;34m[\u001b[0m\u001b[0mi\u001b[0m\u001b[0;34m]\u001b[0m\u001b[0;34m[\u001b[0m\u001b[0;36m0\u001b[0m\u001b[0;34m]\u001b[0m\u001b[0;34m)\u001b[0m\u001b[0;34m\u001b[0m\u001b[0;34m\u001b[0m\u001b[0m\n\u001b[0m\u001b[1;32m    623\u001b[0m \u001b[0;34m\u001b[0m\u001b[0m\n\u001b[1;32m    624\u001b[0m             \u001b[0mx1\u001b[0m \u001b[0;34m=\u001b[0m \u001b[0mlist\u001b[0m\u001b[0;34m(\u001b[0m\u001b[0marange\u001b[0m\u001b[0;34m(\u001b[0m\u001b[0moffset\u001b[0m\u001b[0;34m,\u001b[0m \u001b[0moffset\u001b[0m \u001b[0;34m+\u001b[0m \u001b[0mn_epochs\u001b[0m\u001b[0;34m,\u001b[0m \u001b[0;36m1.\u001b[0m \u001b[0;34m/\u001b[0m \u001b[0mn_points\u001b[0m\u001b[0;34m)\u001b[0m\u001b[0;34m)\u001b[0m\u001b[0;34m\u001b[0m\u001b[0;34m\u001b[0m\u001b[0m\n",
      "\u001b[0;31mIndexError\u001b[0m: list index out of range"
     ]
    }
   ],
   "source": [
    "model.final_plot(align_experiments=True,\n",
    "                 display_training_scores=False, \n",
    "                 scores_names=[\n",
    "                     'average_precision', \n",
    "                     'precision_at_k', \n",
    "                     'recall_at_k', \n",
    "                     'reciprocal_best_rank', \n",
    "                     'reciprocal_average_rank', \n",
    "                     'ndcg'\n",
    "                 ])"
   ]
  },
  {
   "cell_type": "code",
   "execution_count": 9,
   "metadata": {},
   "outputs": [
    {
     "name": "stdout",
     "output_type": "stream",
     "text": [
      "average_precision: training set 0.07662 validation set 0.06004\n",
      "precision_at_k: training set 0.01800 validation set 0.01533\n",
      "recall_at_k: training set 0.16235 validation set 0.06222\n",
      "reciprocal_best_rank: training set 0.07996 validation set 0.12909\n",
      "reciprocal_average_rank: training set 0.07125 validation set 0.01829\n",
      "ndcg: training set nan validation set 0.06832\n"
     ]
    }
   ],
   "source": [
    "model.display_metrics()"
   ]
  },
  {
   "cell_type": "code",
   "execution_count": 10,
   "metadata": {},
   "outputs": [
    {
     "name": "stdout",
     "output_type": "stream",
     "text": [
      "\n",
      "Entities (location): Camden,  Pinelands\n",
      "Scores of the batch: average_precision: 0.00967, precision_at_k: 0.00000, recall_at_k: 0.00000, reciprocal_best_rank: 0.01053, reciprocal_average_rank: 0.00465, ndcg: 0.00000\n"
     ]
    },
    {
     "ename": "ValueError",
     "evalue": "only one element tensors can be converted to Python scalars",
     "output_type": "error",
     "traceback": [
      "\u001b[0;31m---------------------------------------------------------------------------\u001b[0m",
      "\u001b[0;31mValueError\u001b[0m                                Traceback (most recent call last)",
      "\u001b[0;32m<ipython-input-10-3e9cc3e53c20>\u001b[0m in \u001b[0;36m<module>\u001b[0;34m\u001b[0m\n\u001b[1;32m      9\u001b[0m                            \u001b[0;34m'reciprocal_best_rank'\u001b[0m\u001b[0;34m,\u001b[0m\u001b[0;34m\u001b[0m\u001b[0;34m\u001b[0m\u001b[0m\n\u001b[1;32m     10\u001b[0m                            \u001b[0;34m'reciprocal_average_rank'\u001b[0m\u001b[0;34m,\u001b[0m\u001b[0;34m\u001b[0m\u001b[0;34m\u001b[0m\u001b[0m\n\u001b[0;32m---> 11\u001b[0;31m                            \u001b[0;34m'ndcg'\u001b[0m\u001b[0;34m\u001b[0m\u001b[0;34m\u001b[0m\u001b[0m\n\u001b[0m\u001b[1;32m     12\u001b[0m                        ])\n",
      "\u001b[0;32m~/Desktop/master_thesis/modeling/pipeline.py\u001b[0m in \u001b[0;36mexplain_model\u001b[0;34m(self, model, scores_names, display_explanations, n_samples, n_answers)\u001b[0m\n\u001b[1;32m    139\u001b[0m \u001b[0;34m\u001b[0m\u001b[0m\n\u001b[1;32m    140\u001b[0m         model.explain(data_loader=self.valid_loader, scores_names=scores_names,\n\u001b[0;32m--> 141\u001b[0;31m                       display_explanations=display_explanations, n_samples=n_samples, n_answers=n_answers)\n\u001b[0m\u001b[1;32m    142\u001b[0m \u001b[0;34m\u001b[0m\u001b[0m\n\u001b[1;32m    143\u001b[0m     \u001b[0;31m# endregion\u001b[0m\u001b[0;34m\u001b[0m\u001b[0;34m\u001b[0m\u001b[0;34m\u001b[0m\u001b[0m\n",
      "\u001b[0;32m~/Desktop/master_thesis/modeling/models.py\u001b[0m in \u001b[0;36mexplain\u001b[0;34m(self, data_loader, scores_names, display_explanations, n_samples, n_answers)\u001b[0m\n\u001b[1;32m    677\u001b[0m                              \u001b[0moutputs\u001b[0m\u001b[0;34m[\u001b[0m\u001b[0mi\u001b[0m\u001b[0;34m]\u001b[0m\u001b[0;34m.\u001b[0m\u001b[0mitem\u001b[0m\u001b[0;34m(\u001b[0m\u001b[0;34m)\u001b[0m\u001b[0;34m,\u001b[0m\u001b[0;34m\u001b[0m\u001b[0;34m\u001b[0m\u001b[0m\n\u001b[1;32m    678\u001b[0m                              explanations[i])\n\u001b[0;32m--> 679\u001b[0;31m                             for i in range(len(inputs['choices']))]\n\u001b[0m\u001b[1;32m    680\u001b[0m \u001b[0;34m\u001b[0m\u001b[0m\n\u001b[1;32m    681\u001b[0m             \u001b[0mbest_answers\u001b[0m \u001b[0;34m=\u001b[0m \u001b[0msorted\u001b[0m\u001b[0;34m(\u001b[0m\u001b[0mbest_answers\u001b[0m\u001b[0;34m)\u001b[0m\u001b[0;34m[\u001b[0m\u001b[0;34m:\u001b[0m\u001b[0mn_answers\u001b[0m\u001b[0;34m]\u001b[0m\u001b[0;34m\u001b[0m\u001b[0;34m\u001b[0m\u001b[0m\n",
      "\u001b[0;32m~/Desktop/master_thesis/modeling/models.py\u001b[0m in \u001b[0;36m<listcomp>\u001b[0;34m(.0)\u001b[0m\n\u001b[1;32m    677\u001b[0m                              \u001b[0moutputs\u001b[0m\u001b[0;34m[\u001b[0m\u001b[0mi\u001b[0m\u001b[0;34m]\u001b[0m\u001b[0;34m.\u001b[0m\u001b[0mitem\u001b[0m\u001b[0;34m(\u001b[0m\u001b[0;34m)\u001b[0m\u001b[0;34m,\u001b[0m\u001b[0;34m\u001b[0m\u001b[0;34m\u001b[0m\u001b[0m\n\u001b[1;32m    678\u001b[0m                              explanations[i])\n\u001b[0;32m--> 679\u001b[0;31m                             for i in range(len(inputs['choices']))]\n\u001b[0m\u001b[1;32m    680\u001b[0m \u001b[0;34m\u001b[0m\u001b[0m\n\u001b[1;32m    681\u001b[0m             \u001b[0mbest_answers\u001b[0m \u001b[0;34m=\u001b[0m \u001b[0msorted\u001b[0m\u001b[0;34m(\u001b[0m\u001b[0mbest_answers\u001b[0m\u001b[0;34m)\u001b[0m\u001b[0;34m[\u001b[0m\u001b[0;34m:\u001b[0m\u001b[0mn_answers\u001b[0m\u001b[0;34m]\u001b[0m\u001b[0;34m\u001b[0m\u001b[0;34m\u001b[0m\u001b[0m\n",
      "\u001b[0;31mValueError\u001b[0m: only one element tensors can be converted to Python scalars"
     ]
    }
   ],
   "source": [
    "pipeline.explain_model(model=model, \n",
    "                       display_explanations=True,\n",
    "                       n_samples=5,\n",
    "                       n_answers=10,\n",
    "                       scores_names=[\n",
    "                           'average_precision', \n",
    "                           'precision_at_k', \n",
    "                           'recall_at_k', \n",
    "                           'reciprocal_best_rank', \n",
    "                           'reciprocal_average_rank', \n",
    "                           'ndcg'\n",
    "                       ])"
   ]
  },
  {
   "cell_type": "markdown",
   "metadata": {},
   "source": [
    "## Full BOW"
   ]
  },
  {
   "cell_type": "code",
   "execution_count": 8,
   "metadata": {},
   "outputs": [],
   "source": [
    "input_dim, hidden_dim1, hidden_dim2 = 5710, 1000, None\n",
    "\n",
    "dropout = 0.1\n",
    "lr = 1e-6\n",
    "step_size = 1\n",
    "gamma = 0.5\n",
    "n_epochs = 10\n",
    "\n",
    "is_regression = False\n",
    "\n",
    "if is_regression:\n",
    "    loss = torch.nn.MSELoss()\n",
    "    net = RegressionMLP(input_dim=input_dim, hidden_dim1=hidden_dim1, hidden_dim2=hidden_dim2, dropout=dropout)\n",
    "    \n",
    "else:\n",
    "    weight = torch.tensor([1, 1], dtype=torch.float)\n",
    "    loss = torch.nn.CrossEntropyLoss(weight=weight)\n",
    "    net = ClassificationMLP(input_dim=input_dim, hidden_dim1=hidden_dim1, hidden_dim2=hidden_dim2, dropout=dropout)\n",
    "    \n",
    "optimizer = torch.optim.Adam(net.parameters(), lr=lr)\n",
    "lr_scheduler = torch.optim.lr_scheduler.StepLR(optimizer=optimizer, step_size=step_size, gamma=gamma)"
   ]
  },
  {
   "cell_type": "code",
   "execution_count": null,
   "metadata": {},
   "outputs": [],
   "source": [
    "from modeling.models import FullBOWModel\n",
    "\n",
    "model = FullBOWModel(vocab_frequency_range=[50, 1000],\n",
    "                     net=net,\n",
    "                     optimizer=optimizer,\n",
    "                     lr_scheduler=lr_scheduler,\n",
    "                     loss=loss,\n",
    "                     scores_names=scores_names)\n",
    "\n",
    "pipeline.preview_data(model=model)"
   ]
  },
  {
   "cell_type": "code",
   "execution_count": null,
   "metadata": {},
   "outputs": [],
   "source": [
    "pipeline.train_model(model=model, \n",
    "                     n_epochs=n_epochs, \n",
    "                     n_updates=n_updates,\n",
    "                     is_regression=is_regression)"
   ]
  },
  {
   "cell_type": "code",
   "execution_count": null,
   "metadata": {},
   "outputs": [],
   "source": [
    "model.final_plot(align_experiments=True,\n",
    "                 display_training_scores=False, \n",
    "                 scores_names=[\n",
    "                     'average_precision', \n",
    "                     'precision_at_k', \n",
    "                     'recall_at_k', \n",
    "                     'reciprocal_best_rank', \n",
    "                     'reciprocal_average_rank', \n",
    "                     'ndcg'\n",
    "                 ])"
   ]
  },
  {
   "cell_type": "code",
   "execution_count": null,
   "metadata": {},
   "outputs": [],
   "source": [
    "model.display_metrics()"
   ]
  },
  {
   "cell_type": "code",
   "execution_count": null,
   "metadata": {},
   "outputs": [],
   "source": [
    "pipeline.explain_model(model=model, \n",
    "                       display_explanations=True,\n",
    "                       n_samples=5,\n",
    "                       n_answers=10,\n",
    "                       scores_names=[\n",
    "                           'average_precision', \n",
    "                           'precision_at_k', \n",
    "                           'recall_at_k', \n",
    "                           'reciprocal_best_rank', \n",
    "                           'reciprocal_average_rank', \n",
    "                           'ndcg'\n",
    "                       ])"
   ]
  },
  {
   "cell_type": "markdown",
   "metadata": {},
   "source": [
    "## Embedding"
   ]
  },
  {
   "cell_type": "code",
   "execution_count": 5,
   "metadata": {},
   "outputs": [],
   "source": [
    "input_dim, hidden_dim1, hidden_dim2 = 600, 1000, None\n",
    "\n",
    "dropout = 0.1\n",
    "lr = 4e-7\n",
    "step_size = 1\n",
    "gamma = 0.5\n",
    "n_epochs = 10\n",
    "\n",
    "is_regression = False\n",
    "\n",
    "if is_regression:\n",
    "    loss = torch.nn.MSELoss()\n",
    "    net = RegressionMLP(input_dim=input_dim, hidden_dim1=hidden_dim1, hidden_dim2=hidden_dim2, dropout=dropout)\n",
    "    \n",
    "else:\n",
    "    weight = torch.tensor([1, 1], dtype=torch.float)\n",
    "    loss = torch.nn.CrossEntropyLoss(weight=weight)\n",
    "    net = ClassificationMLP(input_dim=input_dim, hidden_dim1=hidden_dim1, hidden_dim2=hidden_dim2, dropout=dropout)\n",
    "    \n",
    "optimizer = torch.optim.Adam(net.parameters(), lr=lr)\n",
    "lr_scheduler = torch.optim.lr_scheduler.StepLR(optimizer=optimizer, step_size=step_size, gamma=gamma)"
   ]
  },
  {
   "cell_type": "code",
   "execution_count": 6,
   "metadata": {},
   "outputs": [
    {
     "name": "stdout",
     "output_type": "stream",
     "text": [
      "Initializing the Word2Vec pretrained embedding...\n",
      "Input dimension: 600\n"
     ]
    }
   ],
   "source": [
    "from modeling.models import EmbeddingModel\n",
    "\n",
    "model = EmbeddingModel(net=net,\n",
    "                       optimizer=optimizer,\n",
    "                       lr_scheduler=lr_scheduler,\n",
    "                       loss=loss,\n",
    "                       scores_names=scores_names)\n",
    "\n",
    "pipeline.preview_data(model=model)"
   ]
  },
  {
   "cell_type": "code",
   "execution_count": 11,
   "metadata": {
    "scrolled": false
   },
   "outputs": [
    {
     "name": "stdout",
     "output_type": "stream",
     "text": [
      "Training of the model...\n",
      "\n"
     ]
    },
    {
     "data": {
      "application/vnd.jupyter.widget-view+json": {
       "model_id": "64db52e3d7d244558b45cc1edefbc6f5",
       "version_major": 2,
       "version_minor": 0
      },
      "text/plain": [
       "HBox(children=(FloatProgress(value=0.0, max=1000.0), HTML(value='')))"
      ]
     },
     "metadata": {},
     "output_type": "display_data"
    },
    {
     "name": "stdout",
     "output_type": "stream",
     "text": [
      "\n"
     ]
    },
    {
     "data": {
      "application/vnd.jupyter.widget-view+json": {
       "model_id": "ecccebdf2b5d476bb6a683467b514f0b",
       "version_major": 2,
       "version_minor": 0
      },
      "text/plain": [
       "HBox(children=(FloatProgress(value=0.0, max=344.0), HTML(value='')))"
      ]
     },
     "metadata": {},
     "output_type": "display_data"
    },
    {
     "name": "stdout",
     "output_type": "stream",
     "text": [
      "\n"
     ]
    },
    {
     "data": {
      "image/png": "[encoded data removed]",
      "text/plain": [
       "<Figure size 1008x288 with 2 Axes>"
      ]
     },
     "metadata": {
      "needs_background": "light"
     },
     "output_type": "display_data"
    },
    {
     "name": "stdout",
     "output_type": "stream",
     "text": [
      "Epoch 1/10: Validation Loss: 0.63046 Validation Score: 0.00766\n",
      "Learning rate decreasing to 1.25e-08\n",
      "--------------------------------------------------------------\n"
     ]
    },
    {
     "data": {
      "application/vnd.jupyter.widget-view+json": {
       "model_id": "8d49ef916b8f4007a0f1a2bec97b95cd",
       "version_major": 2,
       "version_minor": 0
      },
      "text/plain": [
       "HBox(children=(FloatProgress(value=0.0, max=1000.0), HTML(value='')))"
      ]
     },
     "metadata": {},
     "output_type": "display_data"
    },
    {
     "name": "stdout",
     "output_type": "stream",
     "text": [
      "Keyboard interruption, exiting and saving all results except current epoch...\n"
     ]
    }
   ],
   "source": [
    "pipeline.train_model(model=model, \n",
    "                     n_epochs=n_epochs, \n",
    "                     n_updates=n_updates,\n",
    "                     is_regression=is_regression)"
   ]
  },
  {
   "cell_type": "code",
   "execution_count": 12,
   "metadata": {},
   "outputs": [],
   "source": [
    "model.final_plot(align_experiments=True,\n",
    "                 display_training_scores=False, \n",
    "                 scores_names=[\n",
    "                     'average_precision', \n",
    "                     'precision_at_k', \n",
    "                     'recall_at_k', \n",
    "                     'reciprocal_best_rank', \n",
    "                     'reciprocal_average_rank', \n",
    "                     'ndcg'\n",
    "                 ])"
   ]
  },
  {
   "cell_type": "code",
   "execution_count": 27,
   "metadata": {},
   "outputs": [
    {
     "data": {
      "text/plain": [
       "2.5e-07"
      ]
     },
     "execution_count": 27,
     "metadata": {},
     "output_type": "execute_result"
    }
   ],
   "source": [
    "model.display_metrics()"
   ]
  },
  {
   "cell_type": "code",
   "execution_count": null,
   "metadata": {},
   "outputs": [],
   "source": [
    "pipeline.explain_model(model=model, \n",
    "                       display_explanations=True,\n",
    "                       n_samples=5,\n",
    "                       n_answers=10,\n",
    "                       scores_names=[\n",
    "                           'average_precision', \n",
    "                           'precision_at_k', \n",
    "                           'recall_at_k', \n",
    "                           'reciprocal_best_rank', \n",
    "                           'reciprocal_average_rank', \n",
    "                           'ndcg'\n",
    "                       ])"
   ]
  },
  {
   "cell_type": "code",
   "execution_count": null,
   "metadata": {},
   "outputs": [],
   "source": []
  }
 ],
 "metadata": {
  "kernelspec": {
   "display_name": "Python 3",
   "language": "python",
   "name": "python3"
  },
  "language_info": {
   "codemirror_mode": {
    "name": "ipython",
    "version": 3
   },
   "file_extension": ".py",
   "mimetype": "text/x-python",
   "name": "python",
   "nbconvert_exporter": "python",
   "pygments_lexer": "ipython3",
   "version": "3.7.6"
  },
  "pycharm": {
   "stem_cell": {
    "cell_type": "raw",
    "metadata": {
     "collapsed": false
    },
    "source": []
   }
  },
  "toc": {
   "base_numbering": 1,
   "nav_menu": {},
   "number_sections": true,
   "sideBar": true,
   "skip_h1_title": false,
   "title_cell": "Table of Contents",
   "title_sidebar": "Contents",
   "toc_cell": false,
   "toc_position": {},
   "toc_section_display": true,
   "toc_window_display": false
  }
 },
 "nbformat": 4,
 "nbformat_minor": 2
}
