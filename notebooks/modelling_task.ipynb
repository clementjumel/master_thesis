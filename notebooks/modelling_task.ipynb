{
 "cells": [
  {
   "cell_type": "markdown",
   "metadata": {},
   "source": [
    "## Setup"
   ]
  },
  {
   "cell_type": "code",
   "execution_count": 1,
   "metadata": {
    "ExecuteTime": {
     "end_time": "2019-04-13T03:57:03.299844Z",
     "start_time": "2019-04-13T03:57:03.266445Z"
    },
    "pycharm": {
     "is_executing": false
    }
   },
   "outputs": [],
   "source": [
    "import sys\n",
    "sys.path.append('../')\n",
    "del sys\n",
    "%reload_ext autoreload\n",
    "%autoreload 2"
   ]
  },
  {
   "cell_type": "code",
   "execution_count": 2,
   "metadata": {
    "ExecuteTime": {
     "end_time": "2019-04-13T03:57:03.449865Z",
     "start_time": "2019-04-13T03:57:03.408497Z"
    },
    "pycharm": {
     "is_executing": false
    }
   },
   "outputs": [],
   "source": [
    "from modeling.pipeline import Pipeline\n",
    "from modeling.utils import ap_at_k, ndcg\n",
    "from modeling.nn import MLP\n",
    "\n",
    "import torch\n",
    "from numpy import mean\n",
    "import matplotlib.pyplot as plt"
   ]
  },
  {
   "cell_type": "markdown",
   "metadata": {},
   "source": [
    "## Parameters"
   ]
  },
  {
   "cell_type": "code",
   "execution_count": 3,
   "metadata": {},
   "outputs": [],
   "source": [
    "batch_size = 32\n",
    "drop_last = True\n",
    "test_proportion = 0.25\n",
    "valid_proportion = 0.25\n",
    "use_k_fold = False\n",
    "k_k_fold = None"
   ]
  },
  {
   "cell_type": "markdown",
   "metadata": {},
   "source": [
    "## Metrics"
   ]
  },
  {
   "cell_type": "code",
   "execution_count": 4,
   "metadata": {},
   "outputs": [],
   "source": [
    "loss = torch.nn.MSELoss()\n",
    "score = ap_at_k\n",
    "k_score = 10"
   ]
  },
  {
   "cell_type": "markdown",
   "metadata": {},
   "source": [
    "## Load the data"
   ]
  },
  {
   "cell_type": "code",
   "execution_count": 5,
   "metadata": {
    "scrolled": true
   },
   "outputs": [
    {
     "name": "stdout",
     "output_type": "stream",
     "text": [
      "Processing the modeling task...\n",
      "Computing the annotated queries...\n",
      "Initial length of queries: 0\n",
      "Object loaded from ../results/../results/task_annotation/v2_0/task/queries_size10k_shuffle_articles1_queries1_seed0.pkl\n",
      "Object loaded from ../results/../results/task_annotation/v2_1/task/queries_sizemax_shuffle_articles1_queries1_seed0.pkl\n",
      "Object loaded from ../results/../results/task_annotation/v2_2/task/queries_sizemax_shuffle_articles1_queries1_seed0.pkl\n",
      "Final length of queries: 61056\n",
      "Done (elapsed time: 1s).\n",
      "\n",
      "Computing the annotations...\n",
      "Initial length of annotations: 0\n",
      "Object loaded from ../results/task_annotation/v2_0/results/batch_00_complete.csv\n",
      "   Correcting \"n this article, Nevada and Ohio are discussed. The two American states...\" to \" The two American states...\"\n",
      "   Correcting \"In this article, California and Oregon are discussed. The two neighboring states...\" to \" The two neighboring states...\"\n",
      "   Correcting \"In this article, California and Oregon are discussed. The two West Coast states...\" to \" The two West Coast states...\"\n",
      "Object loaded from ../results/task_annotation/v2_0/results/batch_01_complete.csv\n",
      "   Discarding \"The\"\n",
      "   Correcting \"THE CHESS CHAMPIONS\" to \"The chess champions\"\n",
      "   Correcting \"THE WHITE AND BLACK\" to \"The white and black\"\n",
      "   Discarding \"Both are politlca entities\"\n",
      "Object loaded from ../results/task_annotation/v2_1/results/batch_02_complete.csv\n",
      "   Discarding \"Both groups have a military wing\"\n",
      "   Discarding \"The financial/media concern\"\n",
      "   Discarding \"Both countries are in Western Asia\"\n",
      "   Correcting \"FOOTBALL TEAM\" to \"Football team\"\n",
      "Object loaded from ../results/task_annotation/v2_1/results/batch_03_complete.csv\n",
      "   Discarding \"The convicted Hynix managers/directors\"\n",
      "   Discarding \"The areas that include or are included by Eurasia\"\n",
      "Object loaded from ../results/task_annotation/v2_2/results/batch_04_complete.csv\n",
      "   Discarding \"Are in European territory\"\n",
      "   Discarding \"The states that have seen declining enrollment in Medicaid\"\n",
      "Object loaded from ../results/task_annotation/v2_2/results/batch_05_complete.csv\n",
      "   Discarding \"The director/choreographers\"\n",
      "   Discarding \"The writer/directors\"\n",
      "Final length of annotations: 2100\n",
      "Done (elapsed time: 1s).\n",
      "\n",
      "Filtering the annotations...\n",
      "Criterion: at least 5 assignments per worker.\n",
      "Annotations filtered: 6262 left (37 deleted).\n",
      "Done (elapsed time: 0s).\n",
      "\n",
      "Computing the modeling task...\n",
      "Done (elapsed time: 1s).\n",
      "\n",
      "Done (elapsed time: 3s).\n",
      "\n",
      "Raw data imported (1718 samples).\n",
      "Split into train (858, 50%), valid (430, 25%) and test (430, 25%) sets.\n"
     ]
    }
   ],
   "source": [
    "pipeline = Pipeline(use_k_fold=use_k_fold)\n",
    "pipeline.process_data(batch_size=batch_size,\n",
    "                      drop_last=drop_last,\n",
    "                      test_proportion=test_proportion,\n",
    "                      valid_proportion=valid_proportion,\n",
    "                      k=k_k_fold)"
   ]
  },
  {
   "cell_type": "markdown",
   "metadata": {},
   "source": [
    "## Baselines"
   ]
  },
  {
   "cell_type": "code",
   "execution_count": 6,
   "metadata": {},
   "outputs": [
    {
     "name": "stdout",
     "output_type": "stream",
     "text": [
      "Training of the model...\n",
      "\n"
     ]
    },
    {
     "data": {
      "application/vnd.jupyter.widget-view+json": {
       "model_id": "c4e8849b54ef40be852aab4b17f39a0c",
       "version_major": 2,
       "version_minor": 0
      },
      "text/plain": [
       "HBox(children=(FloatProgress(value=0.0, max=18982.0), HTML(value='')))"
      ]
     },
     "metadata": {},
     "output_type": "display_data"
    },
    {
     "name": "stdout",
     "output_type": "stream",
     "text": [
      "\n"
     ]
    },
    {
     "data": {
      "application/vnd.jupyter.widget-view+json": {
       "model_id": "0a6e6f6de59f454ab7eadce1d90d8b3b",
       "version_major": 2,
       "version_minor": 0
      },
      "text/plain": [
       "HBox(children=(FloatProgress(value=0.0, max=430.0), HTML(value='')))"
      ]
     },
     "metadata": {},
     "output_type": "display_data"
    },
    {
     "name": "stdout",
     "output_type": "stream",
     "text": [
      "\n",
      "Epoch 1/1: Validation Loss: 0.335 Validation Score: 0.008\n",
      "--------------------------------------------------------------\n",
      "Mean Train losses: 0.333 Valid loss: 0.335 Valid scores: 0.008\n"
     ]
    }
   ],
   "source": [
    "from modeling.models import RandomBaseline\n",
    "\n",
    "model = RandomBaseline(loss=loss, score=score, k=k_score)\n",
    "pipeline.preview_data(model)\n",
    "train_losses, valid_losses, valid_scores = pipeline.train_model(model)\n",
    "print(\"Mean Train losses: %.3f Valid loss: %.3f Valid scores: %.3f\" \n",
    "      % (mean(train_losses), mean(valid_losses), mean(valid_scores)))"
   ]
  },
  {
   "cell_type": "code",
   "execution_count": 7,
   "metadata": {
    "scrolled": true
   },
   "outputs": [
    {
     "name": "stdout",
     "output_type": "stream",
     "text": [
      "Learning answers counts...\n"
     ]
    },
    {
     "data": {
      "application/vnd.jupyter.widget-view+json": {
       "model_id": "1c60d087cb16480ba32b9f5f79526128",
       "version_major": 2,
       "version_minor": 0
      },
      "text/plain": [
       "HBox(children=(FloatProgress(value=0.0, max=18982.0), HTML(value='')))"
      ]
     },
     "metadata": {},
     "output_type": "display_data"
    },
    {
     "name": "stdout",
     "output_type": "stream",
     "text": [
      "\n",
      "Training of the model...\n",
      "\n"
     ]
    },
    {
     "data": {
      "application/vnd.jupyter.widget-view+json": {
       "model_id": "068330ac93104e0e8cc9136b89cf1c70",
       "version_major": 2,
       "version_minor": 0
      },
      "text/plain": [
       "HBox(children=(FloatProgress(value=0.0, max=18982.0), HTML(value='')))"
      ]
     },
     "metadata": {},
     "output_type": "display_data"
    },
    {
     "name": "stdout",
     "output_type": "stream",
     "text": [
      "\n"
     ]
    },
    {
     "data": {
      "application/vnd.jupyter.widget-view+json": {
       "model_id": "6a19d43e03f94ab4b2eb6a547e3d85c5",
       "version_major": 2,
       "version_minor": 0
      },
      "text/plain": [
       "HBox(children=(FloatProgress(value=0.0, max=430.0), HTML(value='')))"
      ]
     },
     "metadata": {},
     "output_type": "display_data"
    },
    {
     "name": "stdout",
     "output_type": "stream",
     "text": [
      "\n",
      "Epoch 1/1: Validation Loss: 0.007 Validation Score: 0.326\n",
      "--------------------------------------------------------------\n",
      "Mean Train losses: 0.076 Valid loss: 0.007 Valid scores: 0.326\n"
     ]
    }
   ],
   "source": [
    "from modeling.models import CountsBaseline\n",
    "\n",
    "model = CountsBaseline(loss=loss, score=score, k=k_score)\n",
    "pipeline.preview_data(model)\n",
    "train_losses, valid_losses, valid_scores = pipeline.train_model(model)\n",
    "print(\"Mean Train losses: %.3f Valid loss: %.3f Valid scores: %.3f\" \n",
    "      % (mean(train_losses), mean(valid_losses), mean(valid_scores)))"
   ]
  },
  {
   "cell_type": "code",
   "execution_count": 8,
   "metadata": {
    "scrolled": true
   },
   "outputs": [
    {
     "name": "stdout",
     "output_type": "stream",
     "text": [
      "Training of the model...\n",
      "\n"
     ]
    },
    {
     "data": {
      "application/vnd.jupyter.widget-view+json": {
       "model_id": "d4da80a50dad4c54adc6be953bd4b09c",
       "version_major": 2,
       "version_minor": 0
      },
      "text/plain": [
       "HBox(children=(FloatProgress(value=0.0, max=18982.0), HTML(value='')))"
      ]
     },
     "metadata": {},
     "output_type": "display_data"
    },
    {
     "name": "stdout",
     "output_type": "stream",
     "text": [
      "\n"
     ]
    },
    {
     "data": {
      "application/vnd.jupyter.widget-view+json": {
       "model_id": "350e2c4246ab421792e3c557c290cc85",
       "version_major": 2,
       "version_minor": 0
      },
      "text/plain": [
       "HBox(children=(FloatProgress(value=0.0, max=430.0), HTML(value='')))"
      ]
     },
     "metadata": {},
     "output_type": "display_data"
    },
    {
     "name": "stdout",
     "output_type": "stream",
     "text": [
      "\n",
      "Epoch 1/1: Validation Loss: 0.032 Validation Score: 0.112\n",
      "--------------------------------------------------------------\n",
      "Mean Train losses: 0.092 Valid loss: 0.032 Valid scores: 0.112\n"
     ]
    }
   ],
   "source": [
    "from modeling.models import SummariesCountBaseline\n",
    "\n",
    "model = SummariesCountBaseline(loss=loss, score=score, k=k_score)\n",
    "pipeline.preview_data(model)\n",
    "train_losses, valid_losses, valid_scores = pipeline.train_model(model)\n",
    "print(\"Mean Train losses: %.3f Valid loss: %.3f Valid scores: %.3f\" \n",
    "      % (mean(train_losses), mean(valid_losses), mean(valid_scores)))"
   ]
  },
  {
   "cell_type": "code",
   "execution_count": 9,
   "metadata": {},
   "outputs": [
    {
     "name": "stdout",
     "output_type": "stream",
     "text": [
      "Training of the model...\n",
      "\n"
     ]
    },
    {
     "data": {
      "application/vnd.jupyter.widget-view+json": {
       "model_id": "b15d8c68633f4a61a12b261fdfc6990e",
       "version_major": 2,
       "version_minor": 0
      },
      "text/plain": [
       "HBox(children=(FloatProgress(value=0.0, max=18982.0), HTML(value='')))"
      ]
     },
     "metadata": {},
     "output_type": "display_data"
    },
    {
     "name": "stdout",
     "output_type": "stream",
     "text": [
      "\n"
     ]
    },
    {
     "data": {
      "application/vnd.jupyter.widget-view+json": {
       "model_id": "0c7c5ac14acd45b299fc22645ff3a62e",
       "version_major": 2,
       "version_minor": 0
      },
      "text/plain": [
       "HBox(children=(FloatProgress(value=0.0, max=430.0), HTML(value='')))"
      ]
     },
     "metadata": {},
     "output_type": "display_data"
    },
    {
     "name": "stdout",
     "output_type": "stream",
     "text": [
      "\n",
      "Epoch 1/1: Validation Loss: 0.043 Validation Score: 0.064\n",
      "--------------------------------------------------------------\n",
      "Mean Train losses: 0.112 Valid loss: 0.043 Valid scores: 0.064\n"
     ]
    }
   ],
   "source": [
    "from modeling.models import SummariesOverlapBaseline\n",
    "\n",
    "model = SummariesOverlapBaseline()\n",
    "pipeline.preview_data(model)\n",
    "train_losses, valid_losses, valid_scores = pipeline.train_model(model)\n",
    "print(\"Mean Train losses: %.3f Valid loss: %.3f Valid scores: %.3f\" \n",
    "      % (mean(train_losses), mean(valid_losses), mean(valid_scores)))"
   ]
  },
  {
   "cell_type": "markdown",
   "metadata": {},
   "source": [
    "## Models"
   ]
  },
  {
   "cell_type": "code",
   "execution_count": 6,
   "metadata": {},
   "outputs": [
    {
     "name": "stdout",
     "output_type": "stream",
     "text": [
      "Learning the vocabulary...\n"
     ]
    },
    {
     "data": {
      "application/vnd.jupyter.widget-view+json": {
       "model_id": "2cbb896ade4f4303a6a6ef947fd860fb",
       "version_major": 2,
       "version_minor": 0
      },
      "text/plain": [
       "HBox(children=(FloatProgress(value=0.0, max=18982.0), HTML(value='')))"
      ]
     },
     "metadata": {},
     "output_type": "display_data"
    },
    {
     "name": "stdout",
     "output_type": "stream",
     "text": [
      "\n",
      "Input size: 5505\n"
     ]
    }
   ],
   "source": [
    "from modeling.models import BOWModel\n",
    "\n",
    "model = BOWModel(min_vocab_frequency=100, net=None, optimizer=None, loss=loss, score=score, k=k_score)\n",
    "pipeline.preview_data(model)"
   ]
  },
  {
   "cell_type": "code",
   "execution_count": 7,
   "metadata": {},
   "outputs": [],
   "source": [
    "model.net = MLP(input_dim=5505,\n",
    "                hidden_dim=500,\n",
    "                output_dim=1,\n",
    "                dropout=0.1)\n",
    "model.optimizer = torch.optim.Adam(model.net.parameters(),\n",
    "                                   lr=1e-4)"
   ]
  },
  {
   "cell_type": "code",
   "execution_count": 8,
   "metadata": {},
   "outputs": [
    {
     "name": "stdout",
     "output_type": "stream",
     "text": [
      "Training of the model...\n",
      "\n"
     ]
    },
    {
     "data": {
      "application/vnd.jupyter.widget-view+json": {
       "model_id": "5c4cec442ce64ca49f7e5e09e578a37b",
       "version_major": 2,
       "version_minor": 0
      },
      "text/plain": [
       "HBox(children=(FloatProgress(value=0.0, max=18982.0), HTML(value='')))"
      ]
     },
     "metadata": {},
     "output_type": "display_data"
    },
    {
     "name": "stdout",
     "output_type": "stream",
     "text": [
      "\n"
     ]
    },
    {
     "data": {
      "application/vnd.jupyter.widget-view+json": {
       "model_id": "a99259d3bb02414c97163c985e8c32ac",
       "version_major": 2,
       "version_minor": 0
      },
      "text/plain": [
       "HBox(children=(FloatProgress(value=0.0, max=430.0), HTML(value='')))"
      ]
     },
     "metadata": {},
     "output_type": "display_data"
    },
    {
     "name": "stdout",
     "output_type": "stream",
     "text": [
      "\n",
      "Epoch 1/1: Validation Loss: 0.004 Validation Score: 0.320\n",
      "--------------------------------------------------------------\n",
      "Mean Train losses: 0.005 Valid loss: 0.004 Valid scores: 0.320\n"
     ]
    }
   ],
   "source": [
    "train_losses, valid_losses, valid_scores = pipeline.train_model(model, n_epochs=1)\n",
    "print(\"Mean Train losses: %.3f Valid loss: %.3f Valid scores: %.3f\" \n",
    "      % (mean(train_losses), mean(valid_losses), mean(valid_scores)))"
   ]
  },
  {
   "cell_type": "code",
   "execution_count": 9,
   "metadata": {},
   "outputs": [
    {
     "data": {
      "text/plain": [
       "[<matplotlib.lines.Line2D at 0x1a29f012d0>]"
      ]
     },
     "execution_count": 9,
     "metadata": {},
     "output_type": "execute_result"
    },
    {
     "data": {
      "image/png": "[encoded data removed]",
      "text/plain": [
       "<Figure size 432x288 with 1 Axes>"
      ]
     },
     "metadata": {
      "needs_background": "light"
     },
     "output_type": "display_data"
    }
   ],
   "source": [
    "plt.yscale('log')\n",
    "plt.plot(range(len(train_losses)), train_losses)"
   ]
  },
  {
   "cell_type": "code",
   "execution_count": 10,
   "metadata": {},
   "outputs": [
    {
     "name": "stdout",
     "output_type": "stream",
     "text": [
      "Initializing the Word2Vec embedding...\n",
      "Initializing the FreeBase embedding...\n",
      "Input dimension: 1600\n"
     ]
    }
   ],
   "source": [
    "from modeling.models import EmbeddingModel\n",
    "\n",
    "model = EmbeddingModel(net=None, optimizer=None, loss=loss, score=score, k=k_score)\n",
    "pipeline.preview_data(model)"
   ]
  },
  {
   "cell_type": "code",
   "execution_count": 11,
   "metadata": {},
   "outputs": [],
   "source": [
    "model.net = MLP(input_dim=1600,\n",
    "                hidden_dim=500,\n",
    "                output_dim=1,\n",
    "                dropout=0.1)\n",
    "model.optimizer = torch.optim.Adam(model.net.parameters(),\n",
    "                                   lr=1e-4)"
   ]
  },
  {
   "cell_type": "code",
   "execution_count": 12,
   "metadata": {
    "scrolled": true
   },
   "outputs": [
    {
     "name": "stdout",
     "output_type": "stream",
     "text": [
      "Training of the model...\n",
      "\n"
     ]
    },
    {
     "data": {
      "application/vnd.jupyter.widget-view+json": {
       "model_id": "f0a71c2f879349019f67f98cc6717f7d",
       "version_major": 2,
       "version_minor": 0
      },
      "text/plain": [
       "HBox(children=(FloatProgress(value=0.0, max=18982.0), HTML(value='')))"
      ]
     },
     "metadata": {},
     "output_type": "display_data"
    },
    {
     "name": "stdout",
     "output_type": "stream",
     "text": [
      "\n"
     ]
    },
    {
     "data": {
      "application/vnd.jupyter.widget-view+json": {
       "model_id": "7ef0471070d44fa79ac63f0d87e9320e",
       "version_major": 2,
       "version_minor": 0
      },
      "text/plain": [
       "HBox(children=(FloatProgress(value=0.0, max=430.0), HTML(value='')))"
      ]
     },
     "metadata": {},
     "output_type": "display_data"
    },
    {
     "name": "stdout",
     "output_type": "stream",
     "text": [
      "\n",
      "Epoch 1/1: Validation Loss: 0.004 Validation Score: 0.139\n",
      "--------------------------------------------------------------\n",
      "Mean Train losses: 0.004 Valid loss: 0.004 Valid scores: 0.139\n"
     ]
    }
   ],
   "source": [
    "train_losses, valid_losses, valid_scores = pipeline.train_model(model, n_epochs=1)\n",
    "print(\"Mean Train losses: %.3f Valid loss: %.3f Valid scores: %.3f\" \n",
    "      % (mean(train_losses), mean(valid_losses), mean(valid_scores)))"
   ]
  },
  {
   "cell_type": "code",
   "execution_count": 14,
   "metadata": {},
   "outputs": [
    {
     "data": {
      "text/plain": [
       "[<matplotlib.lines.Line2D at 0x1a2d8fb350>]"
      ]
     },
     "execution_count": 14,
     "metadata": {},
     "output_type": "execute_result"
    },
    {
     "data": {
      "image/png": "[encoded data removed]",
      "text/plain": [
       "<Figure size 432x288 with 1 Axes>"
      ]
     },
     "metadata": {
      "needs_background": "light"
     },
     "output_type": "display_data"
    }
   ],
   "source": [
    "plt.yscale('log')\n",
    "plt.plot(range(len(train_losses)), train_losses)"
   ]
  },
  {
   "cell_type": "markdown",
   "metadata": {},
   "source": [
    "### Observe the task"
   ]
  },
  {
   "cell_type": "code",
   "execution_count": 4,
   "metadata": {},
   "outputs": [
    {
     "name": "stdout",
     "output_type": "stream",
     "text": [
      "Length of the choices: 954 \n",
      "\n",
      "Entities: Jennifer Kaufman, Karen Mack\n",
      "Choices: former enron employees, cabinet members, american statesmen, men with religious backgrounds, movie makers, agents, felons, celebrated writers, friends, nepalese politicians,...\n",
      "Good answers: co-author, authors\n",
      "Contexts: Chick Lit That Mixes Voltaire With Vogue: Literacy and Longing in L.A. By Jennifer Kaufman and Karen Mack 325 pages. Delacorte.\n",
      "Summaries: No information found. Karen Mack is an American television producer for CBS and co-author of three novels from Los Angeles, California.\n",
      "\n",
      "Entities: Charlie McDermott, Kris Kristofferson\n",
      "Choices: pennsylvania leaders, contributors to the film, business partners, former presidential candidates, american democratic politicians, people in power, reporter icons, american former professional basketball players, home buyers, pixar executives,...\n",
      "Good answers: entertainers, actors\n",
      "Contexts: Realism, Both Magic and Downright Mean: The biggest gaffe is the discordant performance of Mr. McDermott , whose Wild Bill is a dewy modern teenager who does n't seem to have done a day 's farm labor in his life. The young actor, last seen in M. Night Shyamalan 's'' Village,'' radiates a wholesome greeting-card phoniness made all the more glaring by Mr. Kristofferson and Ms. Bujold 's lived-in, weather-beaten portrayals.\n",
      "Summaries: Charles Joseph McDermott Jr. is an American television and film actor, best known for his role as Axl Heck on ABC's The Middle. Kristoffer Kristofferson is an American singer-songwriter and actor. Among his songwriting credits are the songs \"Me and Bobby McGee\", \"For the Good Times\", \"Sunday Mornin' Comin' Down\", and \"Help Me Make It Through the Night\", all of which were hits for other artists. Kristofferson composed his own songs and collaborated with Nashville songwriters such as Shel Silverstein.\n",
      "\n",
      "Entities: Central African Republic, Chad, Darfur, Sudan\n",
      "Choices: middle eastern locales, romance speaking countries, neighboring nations, saudi arabian neighbors, jurisdictions, geographic areas, north american places, neighboring south asian countries, hawaiian areas, north american locations,...\n",
      "Good answers: african nations, african countries\n",
      "Contexts: If Not Now, When?: The U.S., France and U.N. should immediately send peacekeepers to Chad and the Central African Republic to prop up those countries (the U.S. can supply airlift, intelligence and communications support, but our ground troops would create a backlash). Sudan has sent proxy forces to invade both, and they are teetering. We need contingency plans for forcible military intervention. There is talk that in the coming months Sudan 's janjaweed militias may start systematically massacring some of the two million people who have taken shelter in camps in Darfur .\n",
      "Summaries: The Central African Republic is a landlocked country in Central Africa. It is bordered by Chad to the north, Sudan to the northeast, South Sudan to the east, the Democratic Republic of the Congo to the south, the Republic of the Congo to the southwest and Cameroon to the west. The CAR covers a land area of about 620,000 square kilometres and had an estimated population of around 4.7 million as of 2018. Chad ; Arabic: تشاد‎ Tshād, Arabic pronunciation: [ˈtʃaːd]; French: Tchad, pronounced [tʃa]), officially known as the Republic of Chad , is a landlocked country in north-central Africa. It is bordered by Libya to the north, Sudan to the east, the Central African Republic to the south, Cameroon and Nigeria to the southwest, and Niger to the west. Darfur is a region in western Sudan. Dār is an Arabic word meaning \"home [of]\" – the region was named Dardaju while ruled by the Daju, who migrated from Meroë c. 350 AD, and it was then renamed Dartunjur when the Tunjur ruled the area. Darfur was an independent sultanate for several hundred years, incorporated into Sudan by Anglo-Egyptian forces in 1916. Sudan or the Sudan , officially the Republic of the Sudan , is a country in Northeast Africa. It is bordered by Egypt to the north, the Red Sea to the northeast, Eritrea to the east, Ethiopia to the southeast, South Sudan to the south, the Central African Republic to the southwest, Chad to the west, and Libya to the northwest. It has a population of 43 million people and occupies a total area of 1,886,068 square kilometres , making it the third-largest country in Africa.\n",
      "\n",
      "Entities: Jared Abbruzzese, Joseph L. Bruno\n",
      "Choices: food writers, american, connecticut politicians, opinion writers, masjid al-taqwa attendees, men who's first name begins with the letter r, former government workers, democrat politicians, german singers, professional racecar drivers,...\n",
      "Good answers: businessmen\n",
      "Contexts: Ties Run Deep Between Bruno And an Investor: Jared E Abbruzzese , wealthy investor and close friend of State Senate majority leader Joseph L Bruno , is part of group competing to operate New York State 's thoroughbred horse racing tracks. Bruno will play central role in awarding that franchise. State lobbying officials are scrutinizing relationship between Bruno and Abbruzzese . Bruno says no conflicts are involved. Two of Abbruzzese 's companies have contributed over$ 118,000 to campaign committee controlled by Bruno . Abbruzzese 's wife bought property for$ 90,000 from group involving Bruno . Bruno has also flown on Abbruzzese 's private jet at least half dozen times, and he bought 2,000 shares in Tejas Inc, small securities brokerage in which Abbruzzese was involved. Bruno has also helped Abbruzzese over past four years.\n",
      "Summaries: No information found. Joseph Louis Bruno is an American businessman and Republican politician from upstate New York. Bruno served in the New York State Senate from 1977 to 2008, and was Senate Majority Leader from 1994 to 2008. Bruno was convicted of federal corruption charges in 2009, but his conviction was overturned on appeal and a subsequent retrial resulted in an acquittal.\n",
      "\n",
      "Entities: Connecticut, New Jersey\n",
      "Choices: populous regions, southern areas, new york state region, middle east region, sides of the avenue, east central european nations, major world powers, thew new new england areas, mideastern cities, european destinations,...\n",
      "Good answers: eastern states, eastern american cities, states\n",
      "Contexts: In Control on Capitol Hill: I 'm ready to go to work,'' Mr. Courtney said last week, less than an hour after being sworn into office. It is easy to see why New York, New Jersey and Connecticut have been routinely overlooked in the national political calculus.\n",
      "Summaries: Connecticut ) is the southernmost state in the New England region of the northeastern United States. As of the 2010 Census, it has the highest per-capita income, Human Development Index , and median household income in the United States. It is bordered by Rhode Island to the east, Massachusetts to the north, New York to the west, and Long Island Sound to the south. Its capital is Hartford and its most populous city is Bridgeport. It is part of New England, although portions of it are often grouped with New York and New Jersey as the tri-state area. New Jersey is a state in the Mid-Atlantic region of the United States. It is a peninsula, bordered on the north and east by the state of New York; on the east, southeast, and south by the Atlantic Ocean; on the west by the Delaware River and Pennsylvania; and on the southwest by the Delaware Bay and Delaware. New Jersey is the fourth-smallest state by area but the 11th-most populous, with 9 million residents as of 2017, making it the most densely populated of the 50 U.S. states with its biggest city being Newark.\n",
      "\n",
      "Entities: Alan R. Mulally, Carlos Ghosn\n",
      "Choices: american, co-authors, american politician, public servants, us government employees, new york mafiosos, race advocates, men involved in football, baseball workers, english arts professionals,...\n",
      "Good answers: auto executives, business men, ceos, manufacturing executives\n",
      "Contexts: Ford Interest In Alliance Apparently Has Waned: While Mr. Ghosn 's team spent more than two months engaged in what turned out to be fruitless talks with G.M., Ford decided to move on without Mr. Ghosn . Mr. Mulally accepted an offer to join Ford last month and began his new job on Sunday.\n",
      "Summaries: Alan Roger Mulally is an American aerospace engineer and manufacturing executive. He is former President and Chief Executive Officer of the Ford Motor Company. He retired from Ford Motor Company on July 1, 2014. Ford had been struggling during the late-2000s recession, returned to profitability under Mulally, and was the only American major car manufacturer to avoid a bailout fund provided by the government. Mulally's achievements at Ford are chronicled in the book American Icon: Alan Mulally and the Fight to Save Ford Motor Company by Bryce G. Hoffman, published in 2012. Carlos Ghosn, KBE is a Brazilian-born French businessman of Lebanese ancestry. Ghosn formerly served as the CEO of Michelin North America, chairman and CEO of Renault, chairman of AvtoVAZ, chairman and CEO of Nissan, and chairman of Mitsubishi Motors. Ghosn was also chairman and CEO of the Renault–Nissan–Mitsubishi Alliance, a strategic partnership between those automotive manufacturers through a complex cross-shareholding agreement.\n",
      "\n",
      "Entities: Czech Republic, Poland, Russia\n",
      "Choices: eastern european nations, new york cities, localities, westchester towns, cities near baghdad, european destinations, counties, politcal powers, world nations, regions recognized by the united nations,...\n",
      "Good answers: eastern european countries, european countries\n",
      "Contexts: PENTAGON INVITES KREMLIN TO LINK MISSILE SYSTEMS: They include the under secretary of defense for policy, Eric Edelman; two assistant secretaries of state, Daniel Fried and John Rood; Lt. Gen. Henry A. Obering III, director of the Missile Defense Agency, and his deputy, Brig. Gen. Patrick O'Reilly; and the American ambassador to NATO, Victoria Nuland. American officials hold no illusions that the new incentives will guarantee Russia 's assent to the missile defense bases in Poland and the Czech Republic , as the Kremlin 's opposition to missile bases is wrapped up in domestic politics as well as its view of national security policy in Washington and its NATO allies.\n",
      "Summaries: The Czech Republic ; Czech: Česká republika [ˈtʃɛskaː ˈrɛpublɪka] ), also known by its short-form name, Czechia ; Czech: Česko [ˈtʃɛsko] ), is a country in Central Europe bordered by Germany to the west, Austria to the south, Slovakia to the east, and Poland to the northeast. The Czech Republic is a landlocked country with a hilly landscape that covers an area of 78,866 square kilometers with a mostly temperate continental climate and oceanic climate. It is a unitary parliamentary republic, with 10.6 million inhabitants. Poland ), officially the Republic of Poland ), is a country located in Central Europe. It is divided into 16 administrative subdivisions, covering an area of 312,696 square kilometres , and has a largely temperate seasonal climate. With a population of approximately 38.5 million people, Poland is the sixth most populous member state of the European Union. Poland's capital and largest metropolis is Warsaw. Russia , or the Russian Federation , is a transcontinental country in Eastern Europe and North Asia. At 17,125,200 square kilometres , it is, by a considerable margin, the largest country in the world by area, covering more than one-eighth of the Earth's inhabited land area, and the ninth most populous, with about 146.79 million people as of 2019, including Crimea.\n",
      "\n",
      "Entities: J. Fred Kuntz, Jagoda S. Pike, Michael Goldbloom\n",
      "Choices: women involved in politics, ex lovers, american organizational leaders, educators, tne gymnasts, former u.s. representatives, israelis, film subjects, connecticut democrats, prime ministers,...\n",
      "Good answers: publishers\n",
      "Contexts: Publisher and Top Editor of Toronto Star Resign: Mr. Goldbloom will be replaced by Jagoda S. Pike , vice president of newspapers for Torstar , which owns The Star. J. Fred Kuntz , a publisher for the Torstar chain, is taking the editor-in-chief job.\n",
      "Summaries: No information found. Jagoda Pike is a former publisher of the Toronto Star and former president of Star Media Group. She is also an alumna of Trinity College in the University of Toronto and the Osgoode Hall Law School. Effective October 4, 2008, Pike stepped down as publisher of the Toronto Star and assumed the role of heading Ontario's bid for the 2015 Pan American Games. As of 2016, Jagoda is President and CEO of the Homewood Health Inc in Guelph, Ontario, Canada. Michael Goldbloom  is a Canadian lawyer, publisher, and academic administrator. He is the former publisher of the Toronto Star, Canada's largest newspaper in terms of circulation.\n",
      "\n",
      "Entities: Europe, South Korea\n",
      "Choices: countries neighboring poland, states in the southern region of the united states, mid-eastern cities, places in europe, north american countries, connecticut cities, regional leaders, eastern european nations, mideastern areas, pieces of land,...\n",
      "Good answers: non american areas, regions\n",
      "Contexts: Asian Quake Disrupts Data Traffic: The quake disrupted services in Taiwan, Singapore, Hong Kong, South Korea and Japan, but a ripple effect was felt in other parts of the world. Many phone subscribers could not get through to Europe , regional telecommunications operators reported, as they raced to reroute their traffic to alternative lanes.''\n",
      "Summaries: Europe is a continent located entirely in the Northern Hemisphere and mostly in the Eastern Hemisphere. It is bordered by the Arctic Ocean to the north, the Atlantic Ocean to the west, Asia to the east, and the Mediterranean Sea to the south. It comprises the westernmost part of Eurasia. South Korea is a country in East Asia, constituting the southern part of the Korean Peninsula and sharing a land border with North Korea. The name Korea is derived from Goguryeo which was one of the great powers in East Asia during its time, ruling most of the Korean Peninsula, Manchuria, parts of the Russian Far East and Inner Mongolia under Gwanggaeto the Great.\n",
      "\n",
      "Entities: Africa, France, Germany, Italy, Japan\n",
      "Choices: southern locations, southern nile region, western asia locations, western asia nations, powerss, regions in the north east hemisphere, east-central european countries, israeli territories, disparate locations, african countries,...\n",
      "Good answers: countries, destinations\n",
      "Contexts: Rock Star Still Hasn't Found the African Aid He's Looking For: Excluding debt relief and adjusting for inflation, DATA, which stands for Debt, AIDS, Trade, Africa , calculates that Germany 's aid to Africa has grown only 2 percent since 2004, France 's has fallen 1 percent and Italy 's has decreased 30 percent. France praised the group 's detailed report in a statement, but disagreed with its exclusion of debt relief.'' The freeing up of resources previously dedicated to debt service allows developing countries to increase spending to reduce poverty,'' it said. Spokesmen for Germany and Italy in Washington said yesterday that they would reserve comment until the report is formally released at a news conference in Berlin today. In its country-by-country analysis of aid to Africa , DATA found that the seven wealthy nations in the G-8 -- the United States, Britain, Germany , France , Italy , Canada and Japan (the other member is Russia) -- have increased aid by less than half of what would be expected to reach the goal they set in 2005 to double aid to Africa by 2010.\n",
      "Summaries: Africa is the world's second largest and second most-populous continent. At about 30.3 million km2 including adjacent islands, it covers 6% of Earth's total surface area and 20% of its land area. With France ), officially the French Republic ), is a country whose territory consists of metropolitan France in Western Europe and several overseas regions and territories. The metropolitan area of France extends from the Mediterranean Sea to the English Channel and the North Sea, and from the Rhine to the Atlantic Ocean. It is bordered by Belgium, Luxembourg and Germany to the northeast, Switzerland and Italy to the east, and Andorra and Spain to the south. Germany , officially the Federal Republic of Germany , is a country in Central and Western Europe, lying between the Baltic and North Seas to the north and the Alps, Lake Constance and the High Rhine to the south. It borders Denmark to the north, Poland and the Czech Republic to the east, Austria and Switzerland to the south, France to the southwest, and Luxembourg, Belgium and the Netherlands to the west. Italy ), officially the Italian Republic , is a European country consisting of a peninsula delimited by the Alps and surrounded by several islands. Italy is located in Southern Europe, and it is sometimes considered as part of Western Europe. The country covers a total area of 301,340 km2 and shares land borders with France, Switzerland, Austria, Slovenia, and the enclaved microstates of Vatican City and San Marino. Japan or Nihon [ɲihoꜜɴ] ; formally 日本国, Nippon-koku or Nihon-koku, lit. 'State of Japan') is an island country in East Asia. Located in the Pacific Ocean, it lies off the eastern coast of the Asian continent and stretches from the Sea of Okhotsk in the north to the East China Sea and the Philippine Sea in the south.\n",
      "\n"
     ]
    }
   ],
   "source": [
    "cmpt = 0\n",
    "for data in pipeline.raw_data:\n",
    "    if cmpt == 0:\n",
    "        print(\"Length of the choices: {}\".format(len(data[0]['choices'])), '\\n')\n",
    "    \n",
    "    print(\"Entities:\", ', '.join(data[0]['entities']))\n",
    "    print(\"Choices:\", ', '.join(data[0]['choices'][:10]) + ',...')\n",
    "    print('Good answers:',', '.join([data[0]['choices'][i] for i in range(len(data[0]['choices'])) if data[1][i]]))\n",
    "    print('Contexts:', data[0]['context'])\n",
    "    print('Summaries:', ' '.join(data[0]['summaries']))\n",
    "    print()\n",
    "    cmpt += 1\n",
    "    if cmpt == 10:\n",
    "        break\n",
    "    "
   ]
  },
  {
   "cell_type": "code",
   "execution_count": 26,
   "metadata": {},
   "outputs": [
    {
     "name": "stdout",
     "output_type": "stream",
     "text": [
      "2 2\n",
      "tensor([[3],\n",
      "        [6]])\n"
     ]
    },
    {
     "ename": "Exception",
     "evalue": "",
     "output_type": "error",
     "traceback": [
      "\u001b[0;31m---------------------------------------------------------------------------\u001b[0m",
      "\u001b[0;31mException\u001b[0m                                 Traceback (most recent call last)",
      "\u001b[0;32m<ipython-input-26-76fd5eaf61c7>\u001b[0m in \u001b[0;36m<module>\u001b[0;34m\u001b[0m\n\u001b[1;32m      3\u001b[0m \u001b[0mt1\u001b[0m \u001b[0;34m=\u001b[0m \u001b[0mtorch\u001b[0m\u001b[0;34m.\u001b[0m\u001b[0mtensor\u001b[0m\u001b[0;34m(\u001b[0m\u001b[0;34m[\u001b[0m\u001b[0;34m[\u001b[0m\u001b[0;36m1\u001b[0m\u001b[0;34m,\u001b[0m \u001b[0;36m2\u001b[0m\u001b[0;34m]\u001b[0m\u001b[0;34m,\u001b[0m \u001b[0;34m[\u001b[0m\u001b[0;36m3\u001b[0m\u001b[0;34m,\u001b[0m \u001b[0;36m4\u001b[0m\u001b[0;34m]\u001b[0m\u001b[0;34m]\u001b[0m\u001b[0;34m)\u001b[0m\u001b[0;34m\u001b[0m\u001b[0;34m\u001b[0m\u001b[0m\n\u001b[1;32m      4\u001b[0m \u001b[0mt2\u001b[0m \u001b[0;34m=\u001b[0m \u001b[0mtorch\u001b[0m\u001b[0;34m.\u001b[0m\u001b[0mtensor\u001b[0m\u001b[0;34m(\u001b[0m\u001b[0;34m[\u001b[0m\u001b[0;34m[\u001b[0m\u001b[0;36m2\u001b[0m\u001b[0;34m,\u001b[0m \u001b[0;36m1\u001b[0m\u001b[0;34m]\u001b[0m\u001b[0;34m,\u001b[0m \u001b[0;34m[\u001b[0m\u001b[0;36m4\u001b[0m\u001b[0;34m,\u001b[0m \u001b[0;36m2\u001b[0m\u001b[0;34m]\u001b[0m\u001b[0;34m]\u001b[0m\u001b[0;34m)\u001b[0m\u001b[0;34m\u001b[0m\u001b[0;34m\u001b[0m\u001b[0m\n\u001b[0;32m----> 5\u001b[0;31m \u001b[0map\u001b[0m\u001b[0;34m(\u001b[0m\u001b[0mt1\u001b[0m\u001b[0;34m,\u001b[0m \u001b[0mt2\u001b[0m\u001b[0;34m)\u001b[0m\u001b[0;34m\u001b[0m\u001b[0;34m\u001b[0m\u001b[0m\n\u001b[0m",
      "\u001b[0;32m~/Desktop/master_thesis/modeling/utils.py\u001b[0m in \u001b[0;36map\u001b[0;34m(ranks, targets)\u001b[0m\n\u001b[1;32m     22\u001b[0m     \u001b[0mprint\u001b[0m\u001b[0;34m(\u001b[0m\u001b[0mbatch_size\u001b[0m\u001b[0;34m,\u001b[0m \u001b[0mn\u001b[0m\u001b[0;34m)\u001b[0m\u001b[0;34m\u001b[0m\u001b[0;34m\u001b[0m\u001b[0m\n\u001b[1;32m     23\u001b[0m     \u001b[0mprint\u001b[0m\u001b[0;34m(\u001b[0m\u001b[0msums\u001b[0m\u001b[0;34m)\u001b[0m\u001b[0;34m\u001b[0m\u001b[0;34m\u001b[0m\u001b[0m\n\u001b[0;32m---> 24\u001b[0;31m     \u001b[0;32mraise\u001b[0m \u001b[0mException\u001b[0m\u001b[0;34m\u001b[0m\u001b[0;34m\u001b[0m\u001b[0m\n\u001b[0m\u001b[1;32m     25\u001b[0m     \u001b[0;31m# n, s = len(y_rank), sum(y_true)\u001b[0m\u001b[0;34m\u001b[0m\u001b[0;34m\u001b[0m\u001b[0;34m\u001b[0m\u001b[0m\n\u001b[1;32m     26\u001b[0m     \u001b[0;31m# if s == 0:\u001b[0m\u001b[0;34m\u001b[0m\u001b[0;34m\u001b[0m\u001b[0;34m\u001b[0m\u001b[0m\n",
      "\u001b[0;31mException\u001b[0m: "
     ]
    }
   ],
   "source": [
    "from modeling.utils import ap\n",
    "import torch\n",
    "t1 = torch.tensor([[1, 2], [3, 4]])\n",
    "t2 = torch.tensor([[2, 1], [4, 2]])\n",
    "ap(t1, t2)"
   ]
  },
  {
   "cell_type": "code",
   "execution_count": 10,
   "metadata": {},
   "outputs": [],
   "source": [
    "from modeling.models import EmbeddingModel"
   ]
  },
  {
   "cell_type": "code",
   "execution_count": 11,
   "metadata": {},
   "outputs": [],
   "source": [
    "model = EmbeddingModel()"
   ]
  },
  {
   "cell_type": "code",
   "execution_count": 12,
   "metadata": {},
   "outputs": [
    {
     "ename": "AttributeError",
     "evalue": "'EmbeddingModel' object has no attribute 'word2vec_embedding'",
     "output_type": "error",
     "traceback": [
      "\u001b[0;31m---------------------------------------------------------------------------\u001b[0m",
      "\u001b[0;31mAttributeError\u001b[0m                            Traceback (most recent call last)",
      "\u001b[0;32m<ipython-input-12-ecf36f2d9a55>\u001b[0m in \u001b[0;36m<module>\u001b[0;34m\u001b[0m\n\u001b[0;32m----> 1\u001b[0;31m \u001b[0mmodel\u001b[0m\u001b[0;34m.\u001b[0m\u001b[0mword2vec_embedding\u001b[0m\u001b[0;34m(\u001b[0m\u001b[0;34m)\u001b[0m\u001b[0;34m\u001b[0m\u001b[0;34m\u001b[0m\u001b[0m\n\u001b[0m",
      "\u001b[0;31mAttributeError\u001b[0m: 'EmbeddingModel' object has no attribute 'word2vec_embedding'"
     ]
    }
   ],
   "source": [
    "model.word2vec_embedding()"
   ]
  },
  {
   "cell_type": "code",
   "execution_count": 9,
   "metadata": {},
   "outputs": [
    {
     "ename": "NameError",
     "evalue": "name 'model' is not defined",
     "output_type": "error",
     "traceback": [
      "\u001b[0;31m---------------------------------------------------------------------------\u001b[0m",
      "\u001b[0;31mNameError\u001b[0m                                 Traceback (most recent call last)",
      "\u001b[0;32m<ipython-input-9-676b4337d03d>\u001b[0m in \u001b[0;36m<module>\u001b[0;34m\u001b[0m\n\u001b[0;32m----> 1\u001b[0;31m \u001b[0mmodel\u001b[0m\u001b[0;34m.\u001b[0m\u001b[0mgeneral_embedding\u001b[0m\u001b[0;34m[\u001b[0m\u001b[0;34m'the'\u001b[0m\u001b[0;34m]\u001b[0m\u001b[0;34m.\u001b[0m\u001b[0mshape\u001b[0m\u001b[0;34m\u001b[0m\u001b[0;34m\u001b[0m\u001b[0m\n\u001b[0m",
      "\u001b[0;31mNameError\u001b[0m: name 'model' is not defined"
     ]
    }
   ],
   "source": []
  },
  {
   "cell_type": "code",
   "execution_count": 16,
   "metadata": {},
   "outputs": [
    {
     "name": "stderr",
     "output_type": "stream",
     "text": [
      "[autoreload of modeling.models failed: Traceback (most recent call last):\n",
      "  File \"/Users/clement/miniconda3/envs/nlp/lib/python3.7/site-packages/IPython/extensions/autoreload.py\", line 245, in check\n",
      "    superreload(m, reload, self.old_objects)\n",
      "  File \"/Users/clement/miniconda3/envs/nlp/lib/python3.7/site-packages/IPython/extensions/autoreload.py\", line 394, in superreload\n",
      "    module = reload(module)\n",
      "  File \"/Users/clement/miniconda3/envs/nlp/lib/python3.7/imp.py\", line 314, in reload\n",
      "    return importlib.reload(module)\n",
      "  File \"/Users/clement/miniconda3/envs/nlp/lib/python3.7/importlib/__init__.py\", line 169, in reload\n",
      "    _bootstrap._exec(spec, module)\n",
      "  File \"<frozen importlib._bootstrap>\", line 630, in _exec\n",
      "  File \"<frozen importlib._bootstrap_external>\", line 724, in exec_module\n",
      "  File \"<frozen importlib._bootstrap_external>\", line 860, in get_code\n",
      "  File \"<frozen importlib._bootstrap_external>\", line 791, in source_to_code\n",
      "  File \"<frozen importlib._bootstrap>\", line 219, in _call_with_frames_removed\n",
      "  File \"../modeling/models.py\", line 878\n",
      "    else:\n",
      "       ^\n",
      "SyntaxError: invalid syntax\n",
      "]\n"
     ]
    },
    {
     "data": {
      "text/plain": [
       "'torch.FloatTensor'"
      ]
     },
     "execution_count": 16,
     "metadata": {},
     "output_type": "execute_result"
    }
   ],
   "source": [
    "import torch\n",
    "torch.tensor(model.general_embedding['the']).type()"
   ]
  },
  {
   "cell_type": "code",
   "execution_count": 13,
   "metadata": {},
   "outputs": [],
   "source": [
    "model.freebase_embedding()"
   ]
  },
  {
   "cell_type": "code",
   "execution_count": 33,
   "metadata": {},
   "outputs": [
    {
     "name": "stderr",
     "output_type": "stream",
     "text": [
      "[autoreload of modeling.models failed: Traceback (most recent call last):\n",
      "  File \"/Users/clement/miniconda3/envs/nlp/lib/python3.7/site-packages/IPython/extensions/autoreload.py\", line 245, in check\n",
      "    superreload(m, reload, self.old_objects)\n",
      "  File \"/Users/clement/miniconda3/envs/nlp/lib/python3.7/site-packages/IPython/extensions/autoreload.py\", line 410, in superreload\n",
      "    update_generic(old_obj, new_obj)\n",
      "  File \"/Users/clement/miniconda3/envs/nlp/lib/python3.7/site-packages/IPython/extensions/autoreload.py\", line 347, in update_generic\n",
      "    update(a, b)\n",
      "  File \"/Users/clement/miniconda3/envs/nlp/lib/python3.7/site-packages/IPython/extensions/autoreload.py\", line 302, in update_class\n",
      "    if update_generic(old_obj, new_obj): continue\n",
      "  File \"/Users/clement/miniconda3/envs/nlp/lib/python3.7/site-packages/IPython/extensions/autoreload.py\", line 347, in update_generic\n",
      "    update(a, b)\n",
      "  File \"/Users/clement/miniconda3/envs/nlp/lib/python3.7/site-packages/IPython/extensions/autoreload.py\", line 266, in update_function\n",
      "    setattr(old, name, getattr(new, name))\n",
      "ValueError: __init__() requires a code object with 1 free vars, not 0\n",
      "]\n"
     ]
    },
    {
     "data": {
      "text/plain": [
       "(1000,)"
      ]
     },
     "execution_count": 33,
     "metadata": {},
     "output_type": "execute_result"
    }
   ],
   "source": [
    "model.entity_embedding.get_vector('/en/barack_obama').shape"
   ]
  },
  {
   "cell_type": "code",
   "execution_count": 34,
   "metadata": {},
   "outputs": [
    {
     "data": {
      "text/plain": [
       "{'/en/united_states': <gensim.models.keyedvectors.Vocab at 0x1b4a42d210>,\n",
       " '/en/associated_press': <gensim.models.keyedvectors.Vocab at 0x1b4a42d490>,\n",
       " '/en/barack_obama': <gensim.models.keyedvectors.Vocab at 0x1077f5f50>,\n",
       " '/en/china': <gensim.models.keyedvectors.Vocab at 0x1b4a4204d0>,\n",
       " '/en/united_kingdom': <gensim.models.keyedvectors.Vocab at 0x1b4a420890>,\n",
       " '/en/new_york': <gensim.models.keyedvectors.Vocab at 0x1b4a420bd0>,\n",
       " '/en/india': <gensim.models.keyedvectors.Vocab at 0x1b4a420b90>,\n",
       " '/en/europe': <gensim.models.keyedvectors.Vocab at 0x1b4a439210>,\n",
       " '/en/washington_united_states': <gensim.models.keyedvectors.Vocab at 0x1b4a4391d0>,\n",
       " '/en/canada': <gensim.models.keyedvectors.Vocab at 0x1b4a439150>,\n",
       " '/en/iraq': <gensim.models.keyedvectors.Vocab at 0x1b4a439190>,\n",
       " '/en/israel': <gensim.models.keyedvectors.Vocab at 0x1b4a4390d0>,\n",
       " '/en/california': <gensim.models.keyedvectors.Vocab at 0x1b4a439ad0>,\n",
       " '/en/republican_party': <gensim.models.keyedvectors.Vocab at 0x1b4a439b90>,\n",
       " '/en/austraila': <gensim.models.keyedvectors.Vocab at 0x1b4a42d6d0>,\n",
       " '/en/japan': <gensim.models.keyedvectors.Vocab at 0x1b4a439c50>,\n",
       " '/en/france': <gensim.models.keyedvectors.Vocab at 0x1b4a439d10>,\n",
       " '/en/russia': <gensim.models.keyedvectors.Vocab at 0x1b4a439d90>,\n",
       " '/en/iran': <gensim.models.keyedvectors.Vocab at 0x1b4a439dd0>,\n",
       " '/en/germany': <gensim.models.keyedvectors.Vocab at 0x1b4a439e90>,\n",
       " '/en/afghanistan': <gensim.models.keyedvectors.Vocab at 0x1b4a439f10>,\n",
       " '/en/london': <gensim.models.keyedvectors.Vocab at 0x1b4a439f90>,\n",
       " '/en/pakistan': <gensim.models.keyedvectors.Vocab at 0x1b4a4f3050>,\n",
       " '/en/florida': <gensim.models.keyedvectors.Vocab at 0x1b4a4f30d0>,\n",
       " '/en/nyse': <gensim.models.keyedvectors.Vocab at 0x1b4a4f3110>,\n",
       " '/en/congress_u_s': <gensim.models.keyedvectors.Vocab at 0x1b4a4f3190>,\n",
       " '/en/texas': <gensim.models.keyedvectors.Vocab at 0x1b4a4f3210>,\n",
       " '/en/england': <gensim.models.keyedvectors.Vocab at 0x1b4a4f3290>,\n",
       " '/en/democrat_party': <gensim.models.keyedvectors.Vocab at 0x1b4a4f32d0>,\n",
       " '/en/italy': <gensim.models.keyedvectors.Vocab at 0x1b4a4f3350>,\n",
       " '/en/nasdaq': <gensim.models.keyedvectors.Vocab at 0x1b4a4f33d0>,\n",
       " '/en/european_union': <gensim.models.keyedvectors.Vocab at 0x1b4a4f3410>,\n",
       " '/en/spain': <gensim.models.keyedvectors.Vocab at 0x1b4a4f3490>,\n",
       " '/en/white_house': <gensim.models.keyedvectors.Vocab at 0x1b4a4f3510>,\n",
       " '/en/los_angeles': <gensim.models.keyedvectors.Vocab at 0x1b4a4f3590>,\n",
       " '/en/united_staff': <gensim.models.keyedvectors.Vocab at 0x1b4a4f35d0>,\n",
       " '/en/reuters': <gensim.models.keyedvectors.Vocab at 0x1b4a4f3650>,\n",
       " '/en/south_africa': <gensim.models.keyedvectors.Vocab at 0x1b4a4f3690>,\n",
       " '/en/mexico': <gensim.models.keyedvectors.Vocab at 0x1b4a4f3710>,\n",
       " '/en/asia': <gensim.models.keyedvectors.Vocab at 0x1b4a4f3750>,\n",
       " '/en/national_football_league': <gensim.models.keyedvectors.Vocab at 0x1b4a4f37d0>,\n",
       " '/en/apple_inc': <gensim.models.keyedvectors.Vocab at 0x1b4a4f3850>,\n",
       " '/en/australian_senate': <gensim.models.keyedvectors.Vocab at 0x1b4a4f3890>,\n",
       " '/en/facebook': <gensim.models.keyedvectors.Vocab at 0x1b4a4f3910>,\n",
       " '/en/chicago': <gensim.models.keyedvectors.Vocab at 0x1b4a4f3990>,\n",
       " '/en/greece': <gensim.models.keyedvectors.Vocab at 0x1b4a4f3a10>,\n",
       " '/en/google': <gensim.models.keyedvectors.Vocab at 0x1b4a4f3a90>,\n",
       " '/en/egypt': <gensim.models.keyedvectors.Vocab at 0x1b4a4f3b10>,\n",
       " '/en/george_h_w_bush': <gensim.models.keyedvectors.Vocab at 0x1b4a4f3b50>,\n",
       " '/en/syria': <gensim.models.keyedvectors.Vocab at 0x1b4a4f3bd0>,\n",
       " '/en/democracy': <gensim.models.keyedvectors.Vocab at 0x1b4a4f3c50>,\n",
       " '/en/north_carolina': <gensim.models.keyedvectors.Vocab at 0x1b4a4f3c90>,\n",
       " '/en/microsoft': <gensim.models.keyedvectors.Vocab at 0x1b4a4f3d10>,\n",
       " '/en/mitt_romney': <gensim.models.keyedvectors.Vocab at 0x1b4a4f3d90>,\n",
       " '/en/ohio': <gensim.models.keyedvectors.Vocab at 0x1b4a4f3dd0>,\n",
       " '/en/new_jersey': <gensim.models.keyedvectors.Vocab at 0x1b4a4f3e90>,\n",
       " '/en/brazil': <gensim.models.keyedvectors.Vocab at 0x1b4a4f3f10>,\n",
       " '/en/federal_reserve_system': <gensim.models.keyedvectors.Vocab at 0x1b4a4f3f50>,\n",
       " '/en/turkey': <gensim.models.keyedvectors.Vocab at 0x1b4a4f3fd0>,\n",
       " '/en/twitter': <gensim.models.keyedvectors.Vocab at 0x1b4a4f1090>,\n",
       " '/en/god': <gensim.models.keyedvectors.Vocab at 0x1b4a4f10d0>,\n",
       " '/en/olympic_games': <gensim.models.keyedvectors.Vocab at 0x1b4a4f1150>,\n",
       " '/en/john_mccain': <gensim.models.keyedvectors.Vocab at 0x1b4a4f11d0>,\n",
       " '/en/state_of_palestine': <gensim.models.keyedvectors.Vocab at 0x1b4a4f1210>,\n",
       " '/en/south_korea': <gensim.models.keyedvectors.Vocab at 0x1b4a4f1290>,\n",
       " '/en/illinois': <gensim.models.keyedvectors.Vocab at 0x1b4a4f1310>,\n",
       " '/en/muslim': <gensim.models.keyedvectors.Vocab at 0x1b4a4f1390>,\n",
       " '/en/michigan': <gensim.models.keyedvectors.Vocab at 0x1b4a4f1410>,\n",
       " '/en/arizona': <gensim.models.keyedvectors.Vocab at 0x1b4a4f1490>,\n",
       " '/en/hillary_rodham_clinton': <gensim.models.keyedvectors.Vocab at 0x1b4a4f14d0>,\n",
       " '/en/north_america': <gensim.models.keyedvectors.Vocab at 0x1b4a4f1510>,\n",
       " '/en/christmas': <gensim.models.keyedvectors.Vocab at 0x1b4a4f1590>,\n",
       " '/en/libya': <gensim.models.keyedvectors.Vocab at 0x1b4a4f1610>,\n",
       " '/en/africa': <gensim.models.keyedvectors.Vocab at 0x1b4a4f1690>,\n",
       " '/en/united_states_securities_and_exchange_commission': <gensim.models.keyedvectors.Vocab at 0x1b4a4f16d0>,\n",
       " '/en/george_w_bush': <gensim.models.keyedvectors.Vocab at 0x1b4a4f1710>,\n",
       " '/en/beijing': <gensim.models.keyedvectors.Vocab at 0x1b4a4f1790>,\n",
       " '/en/islam': <gensim.models.keyedvectors.Vocab at 0x1b4a4f1810>,\n",
       " '/en/new_zealand': <gensim.models.keyedvectors.Vocab at 0x1b4a4f1890>,\n",
       " '/en/supreme_court': <gensim.models.keyedvectors.Vocab at 0x1b4a4f18d0>,\n",
       " '/en/taliban_movement': <gensim.models.keyedvectors.Vocab at 0x1b4a4f1910>,\n",
       " '/en/north_korea': <gensim.models.keyedvectors.Vocab at 0x1b4a4f1990>,\n",
       " '/en/middle_east': <gensim.models.keyedvectors.Vocab at 0x1b4a4f1a10>,\n",
       " '/en/united_states_house_of_representatives': <gensim.models.keyedvectors.Vocab at 0x1b4a4f1a50>,\n",
       " '/en/massachusetts': <gensim.models.keyedvectors.Vocab at 0x1b4a4f1a90>,\n",
       " '/en/al-qaeda': <gensim.models.keyedvectors.Vocab at 0x1b4a4f1b10>,\n",
       " '/en/national_basketball_association': <gensim.models.keyedvectors.Vocab at 0x1b4a4f1b50>,\n",
       " '/en/new_york_yankees': <gensim.models.keyedvectors.Vocab at 0x1b4a4f1b90>,\n",
       " '/en/boston_red_sox': <gensim.models.keyedvectors.Vocab at 0x1b4a4f1bd0>,\n",
       " '/en/republicans': <gensim.models.keyedvectors.Vocab at 0x1b4a4f1c50>,\n",
       " '/en/wall_street': <gensim.models.keyedvectors.Vocab at 0x1b4a4f1cd0>,\n",
       " '/en/general_motors': <gensim.models.keyedvectors.Vocab at 0x1b4a4f1d10>,\n",
       " '/en/san_francisco': <gensim.models.keyedvectors.Vocab at 0x1b4a4f1d50>,\n",
       " '/en/republic_of_ireland': <gensim.models.keyedvectors.Vocab at 0x1b4a4f1d90>,\n",
       " '/en/minnesota': <gensim.models.keyedvectors.Vocab at 0x1b4a4f1e10>,\n",
       " '/en/iowa': <gensim.models.keyedvectors.Vocab at 0x1b4a4f1e50>,\n",
       " '/en/wisconsin': <gensim.models.keyedvectors.Vocab at 0x1b4a4f1f10>,\n",
       " '/en/switzerland': <gensim.models.keyedvectors.Vocab at 0x1b4a4f1f90>,\n",
       " '/en/paris': <gensim.models.keyedvectors.Vocab at 0x1b4a4be050>,\n",
       " '/en/north_atlantic_treaty_organization': <gensim.models.keyedvectors.Vocab at 0x1b4a4be090>,\n",
       " '/en/netherlands': <gensim.models.keyedvectors.Vocab at 0x1b4a4be110>,\n",
       " '/en/new_york_state': <gensim.models.keyedvectors.Vocab at 0x1b4a4be150>,\n",
       " '/en/pennsylvania': <gensim.models.keyedvectors.Vocab at 0x1b4a4be190>,\n",
       " '/en/hong_kong': <gensim.models.keyedvectors.Vocab at 0x1b4a4be210>,\n",
       " '/en/manchester_united_fc': <gensim.models.keyedvectors.Vocab at 0x1b4a4be250>,\n",
       " '/en/colorado': <gensim.models.keyedvectors.Vocab at 0x1b4a4be2d0>,\n",
       " '/en/detroit_tigers': <gensim.models.keyedvectors.Vocab at 0x1b4a4be310>,\n",
       " '/en/nigeria': <gensim.models.keyedvectors.Vocab at 0x1b4a4be390>,\n",
       " '/en/food_and_drug_administration': <gensim.models.keyedvectors.Vocab at 0x1b4a4be3d0>,\n",
       " '/en/indiana': <gensim.models.keyedvectors.Vocab at 0x1b4a4be450>,\n",
       " '/en/st_louis_cardinals': <gensim.models.keyedvectors.Vocab at 0x1b4a4be490>,\n",
       " '/en/south_carolina': <gensim.models.keyedvectors.Vocab at 0x1b4a4be4d0>,\n",
       " '/en/iphone': <gensim.models.keyedvectors.Vocab at 0x1b4a4be550>,\n",
       " '/en/national_hockey_league': <gensim.models.keyedvectors.Vocab at 0x1b4a4be590>,\n",
       " '/en/federal_bureau_of_investigation': <gensim.models.keyedvectors.Vocab at 0x1b4a4be5d0>,\n",
       " '/en/saudi_arabia': <gensim.models.keyedvectors.Vocab at 0x1b4a4be610>,\n",
       " '/en/toronto': <gensim.models.keyedvectors.Vocab at 0x1b4a4be690>,\n",
       " '/en/swedem': <gensim.models.keyedvectors.Vocab at 0x1b4a4be710>,\n",
       " '/en/fifa_world_cup': <gensim.models.keyedvectors.Vocab at 0x1b4a4be750>,\n",
       " '/en/scotland': <gensim.models.keyedvectors.Vocab at 0x1b4a4be7d0>,\n",
       " '/en/dow_jones_industrial_average': <gensim.models.keyedvectors.Vocab at 0x1b4a4be810>,\n",
       " '/en/connecticut': <gensim.models.keyedvectors.Vocab at 0x1b4a4be890>,\n",
       " '/en/chelsea_fc': <gensim.models.keyedvectors.Vocab at 0x1b4a4be910>,\n",
       " '/en/philippines': <gensim.models.keyedvectors.Vocab at 0x1b4a4be990>,\n",
       " '/en/singapore': <gensim.models.keyedvectors.Vocab at 0x1b4a4bea10>,\n",
       " '/en/new_delhi': <gensim.models.keyedvectors.Vocab at 0x1b4a4bea90>,\n",
       " '/en/tennesee': <gensim.models.keyedvectors.Vocab at 0x1b4a4beb10>,\n",
       " '/en/thailand': <gensim.models.keyedvectors.Vocab at 0x1b4a4beb90>,\n",
       " '/en/philadelphia_phillies': <gensim.models.keyedvectors.Vocab at 0x1b4a4bebd0>,\n",
       " '/en/miami_heat': <gensim.models.keyedvectors.Vocab at 0x1b4a4bec50>,\n",
       " '/en/arab': <gensim.models.keyedvectors.Vocab at 0x1b4a4bec90>,\n",
       " '/en/boston_massachusetts': <gensim.models.keyedvectors.Vocab at 0x1b4a4bed10>,\n",
       " '/en/cuba': <gensim.models.keyedvectors.Vocab at 0x1b4a4bed50>,\n",
       " '/en/philadelphia_eagles': <gensim.models.keyedvectors.Vocab at 0x1b4a4bedd0>,\n",
       " '/en/georgia': <gensim.models.keyedvectors.Vocab at 0x1b4a4bee50>,\n",
       " '/en/hollywood': <gensim.models.keyedvectors.Vocab at 0x1b4a4beed0>,\n",
       " '/en/western_world': <gensim.models.keyedvectors.Vocab at 0x1b4a4bef10>,\n",
       " '/en/bp': <gensim.models.keyedvectors.Vocab at 0x1b4a4bef50>,\n",
       " '/en/mumbai': <gensim.models.keyedvectors.Vocab at 0x1b4a4c9050>,\n",
       " '/en/kansas': <gensim.models.keyedvectors.Vocab at 0x1b4a4c90d0>,\n",
       " '/en/lebanon': <gensim.models.keyedvectors.Vocab at 0x1b4a4c9150>,\n",
       " '/en/indonesia': <gensim.models.keyedvectors.Vocab at 0x1b4a4c91d0>,\n",
       " '/en/argentina': <gensim.models.keyedvectors.Vocab at 0x1b4a4c9250>,\n",
       " '/en/hamas': <gensim.models.keyedvectors.Vocab at 0x1b4a4c92d0>,\n",
       " '/en/tokyo': <gensim.models.keyedvectors.Vocab at 0x1b4a4c9350>,\n",
       " '/en/fa_premier_league': <gensim.models.keyedvectors.Vocab at 0x1b4a4c9390>,\n",
       " '/en/texas_rangers': <gensim.models.keyedvectors.Vocab at 0x1b4a4c93d0>,\n",
       " '/en/poland': <gensim.models.keyedvectors.Vocab at 0x1b4a4c9450>,\n",
       " '/en/jew': <gensim.models.keyedvectors.Vocab at 0x1b4a4c9490>,\n",
       " '/en/pittsburgh_steelers': <gensim.models.keyedvectors.Vocab at 0x1b4a4c9510>,\n",
       " '/en/atlanta': <gensim.models.keyedvectors.Vocab at 0x1b4a4c9590>,\n",
       " '/en/tiger_woods': <gensim.models.keyedvectors.Vocab at 0x1b4a4c9610>,\n",
       " '/en/philadelphia': <gensim.models.keyedvectors.Vocab at 0x1b4a4c9650>,\n",
       " '/en/chinese_taipei': <gensim.models.keyedvectors.Vocab at 0x1b4a4c9690>,\n",
       " '/en/baghdad': <gensim.models.keyedvectors.Vocab at 0x1b4a4c9710>,\n",
       " '/en/detroit_michigan': <gensim.models.keyedvectors.Vocab at 0x1b4a4c9750>,\n",
       " '/en/houston': <gensim.models.keyedvectors.Vocab at 0x1b4a4c97d0>,\n",
       " '/en/national_collegiate_athletic_association': <gensim.models.keyedvectors.Vocab at 0x1b4a4c9810>,\n",
       " '/en/green_bay_packers': <gensim.models.keyedvectors.Vocab at 0x1b4a4c9850>,\n",
       " '/en/moscow': <gensim.models.keyedvectors.Vocab at 0x1b4a4c98d0>,\n",
       " '/en/the_new_york_times': <gensim.models.keyedvectors.Vocab at 0x1b4a4c9910>,\n",
       " '/en/vietnam': <gensim.models.keyedvectors.Vocab at 0x1b4a4c9990>,\n",
       " '/en/alabama': <gensim.models.keyedvectors.Vocab at 0x1b4a4c9a10>,\n",
       " '/en/international_monetary_fund': <gensim.models.keyedvectors.Vocab at 0x1b4a4c9a50>,\n",
       " '/en/haiti': <gensim.models.keyedvectors.Vocab at 0x1b4a4c9ad0>,\n",
       " '/en/ford_motor_company': <gensim.models.keyedvectors.Vocab at 0x1b4a4c9b10>,\n",
       " '/en/muammar_al-gaddafi': <gensim.models.keyedvectors.Vocab at 0x1b4a4c9b50>,\n",
       " '/en/boston_celtics': <gensim.models.keyedvectors.Vocab at 0x1b4a4c9b90>,\n",
       " '/en/somalia': <gensim.models.keyedvectors.Vocab at 0x1b4a4c9c10>,\n",
       " '/en/malaysia': <gensim.models.keyedvectors.Vocab at 0x1b4a4c9c90>,\n",
       " '/en/ontario': <gensim.models.keyedvectors.Vocab at 0x1b4a4c9d10>,\n",
       " '/m/036nz': <gensim.models.keyedvectors.Vocab at 0x1b4a4c9d50>,\n",
       " '/en/new_hampshire': <gensim.models.keyedvectors.Vocab at 0x1b4a4c9dd0>,\n",
       " '/en/los_angeles_lakers': <gensim.models.keyedvectors.Vocab at 0x1b4a4c9e10>,\n",
       " '/en/san_francisco_giants': <gensim.models.keyedvectors.Vocab at 0x1b4a4c9e50>,\n",
       " '/en/super_bowl': <gensim.models.keyedvectors.Vocab at 0x1b4a4c9ed0>,\n",
       " '/en/toyota_motor_corporation': <gensim.models.keyedvectors.Vocab at 0x1b4a4c9f10>,\n",
       " '/en/liverpool_fc': <gensim.models.keyedvectors.Vocab at 0x1b4a4c9f50>,\n",
       " '/en/nevada': <gensim.models.keyedvectors.Vocab at 0x1b4a4c9fd0>,\n",
       " '/en/atlanta_braves': <gensim.models.keyedvectors.Vocab at 0x1b4a4bd050>,\n",
       " '/en/kenya': <gensim.models.keyedvectors.Vocab at 0x1b4a4bd0d0>,\n",
       " '/en/oklahoma': <gensim.models.keyedvectors.Vocab at 0x1b4a4bd150>,\n",
       " '/en/shia_islam': <gensim.models.keyedvectors.Vocab at 0x1b4a4bd1d0>,\n",
       " '/en/new_york_mets': <gensim.models.keyedvectors.Vocab at 0x1b4a4bd210>,\n",
       " '/en/new_orleans': <gensim.models.keyedvectors.Vocab at 0x1b4a4bd290>,\n",
       " '/en/chicago_cubs': <gensim.models.keyedvectors.Vocab at 0x1b4a4bd2d0>,\n",
       " '/en/alaska': <gensim.models.keyedvectors.Vocab at 0x1b4a4bd350>,\n",
       " '/en/cleveland_cavaliers': <gensim.models.keyedvectors.Vocab at 0x1b4a4bd390>,\n",
       " '/m/019rl6': <gensim.models.keyedvectors.Vocab at 0x1b4a4bd410>,\n",
       " '/en/nasa': <gensim.models.keyedvectors.Vocab at 0x1b4a4bd450>,\n",
       " '/en/louisiana': <gensim.models.keyedvectors.Vocab at 0x1b4a4bd510>,\n",
       " '/en/wal-mart': <gensim.models.keyedvectors.Vocab at 0x1b4a4bd590>,\n",
       " '/en/british_columbia': <gensim.models.keyedvectors.Vocab at 0x1b4a4bd5d0>,\n",
       " '/en/new_york_giants': <gensim.models.keyedvectors.Vocab at 0x1b4a4bd610>,\n",
       " '/en/bloomberg_television': <gensim.models.keyedvectors.Vocab at 0x1b4a4bd650>,\n",
       " '/en/seattle': <gensim.models.keyedvectors.Vocab at 0x1b4a4bd6d0>,\n",
       " '/en/ukraine': <gensim.models.keyedvectors.Vocab at 0x1b4a4bd750>,\n",
       " '/en/s_p_500': <gensim.models.keyedvectors.Vocab at 0x1b4a4bd7d0>,\n",
       " '/en/medicare': <gensim.models.keyedvectors.Vocab at 0x1b4a4bd850>,\n",
       " '/en/pr_newswire': <gensim.models.keyedvectors.Vocab at 0x1b4a4bd8d0>,\n",
       " '/en/sarah_palin': <gensim.models.keyedvectors.Vocab at 0x1b4a4bd950>,\n",
       " '/en/arsenal_fc': <gensim.models.keyedvectors.Vocab at 0x1b4a4bd9d0>,\n",
       " '/en/dubai': <gensim.models.keyedvectors.Vocab at 0x1b4a4bda50>,\n",
       " '/en/nbc': <gensim.models.keyedvectors.Vocab at 0x1b4a4bda90>,\n",
       " '/en/missouri': <gensim.models.keyedvectors.Vocab at 0x1b4a4bdb50>,\n",
       " '/en/business_wire': <gensim.models.keyedvectors.Vocab at 0x1b4a4bdb90>,\n",
       " '/en/united_nations_security_council': <gensim.models.keyedvectors.Vocab at 0x1b4a4bdbd0>,\n",
       " '/en/parliament_of_the_united_kingdom': <gensim.models.keyedvectors.Vocab at 0x1b4a4bdc10>,\n",
       " '/en/los_angeles_dodgers': <gensim.models.keyedvectors.Vocab at 0x1b4a4bdc50>,\n",
       " '/en/agence_france-presse': <gensim.models.keyedvectors.Vocab at 0x1b4a4bdc90>,\n",
       " '/en/youtube': <gensim.models.keyedvectors.Vocab at 0x1b4a4bdd10>,\n",
       " '/en/venezuela': <gensim.models.keyedvectors.Vocab at 0x1b4a4bdd90>,\n",
       " '/en/tehran': <gensim.models.keyedvectors.Vocab at 0x1b4a4bde10>,\n",
       " '/en/michael_jackson': <gensim.models.keyedvectors.Vocab at 0x1b4a4bde50>,\n",
       " '/en/sydney': <gensim.models.keyedvectors.Vocab at 0x1b4a4bded0>,\n",
       " '/en/united_states_environmental_protection_agency': <gensim.models.keyedvectors.Vocab at 0x1b4a4bdf10>,\n",
       " '/en/utah': <gensim.models.keyedvectors.Vocab at 0x1b4a4bdf50>,\n",
       " '/en/army': <gensim.models.keyedvectors.Vocab at 0x1b4a4bdfd0>,\n",
       " '/en/cincinnati_reds': <gensim.models.keyedvectors.Vocab at 0x1b4a4bf090>,\n",
       " '/en/united_arab_emirates': <gensim.models.keyedvectors.Vocab at 0x1b4a4bf0d0>,\n",
       " '/en/gphone': <gensim.models.keyedvectors.Vocab at 0x1b4a4bf150>,\n",
       " '/en/new_york_jets': <gensim.models.keyedvectors.Vocab at 0x1a2502c490>,\n",
       " '/en/ipad': <gensim.models.keyedvectors.Vocab at 0x1a26a2fd90>,\n",
       " '/en/boston_bruins': <gensim.models.keyedvectors.Vocab at 0x10785cc90>,\n",
       " '/en/washington': <gensim.models.keyedvectors.Vocab at 0x1a265eb110>,\n",
       " '/en/dallas': <gensim.models.keyedvectors.Vocab at 0x1a265b8a90>,\n",
       " '/en/maryland': <gensim.models.keyedvectors.Vocab at 0x1a265b8510>,\n",
       " '/en/at_t': <gensim.models.keyedvectors.Vocab at 0x1a265b8e10>,\n",
       " '/en/las_vegas_metropolitan_area': <gensim.models.keyedvectors.Vocab at 0x1a24645f10>,\n",
       " '/en/seattle_mariners': <gensim.models.keyedvectors.Vocab at 0x1a246454d0>,\n",
       " '/en/denver': <gensim.models.keyedvectors.Vocab at 0x1b4a41d910>,\n",
       " '/en/milwaukee_brewers': <gensim.models.keyedvectors.Vocab at 0x1a2697dd50>,\n",
       " '/en/new_england_patriots': <gensim.models.keyedvectors.Vocab at 0x1a2697dcd0>,\n",
       " '/en/lebron_james': <gensim.models.keyedvectors.Vocab at 0x1a2697dd90>,\n",
       " '/en/osama_bin_laden': <gensim.models.keyedvectors.Vocab at 0x1a2697df50>,\n",
       " '/en/african_american': <gensim.models.keyedvectors.Vocab at 0x1a2697ded0>,\n",
       " '/en/yemen': <gensim.models.keyedvectors.Vocab at 0x1a2697dd10>,\n",
       " '/en/minnesota_twins': <gensim.models.keyedvectors.Vocab at 0x1a2697df90>,\n",
       " '/en/chicago_white_sox': <gensim.models.keyedvectors.Vocab at 0x1a2697d650>,\n",
       " '/en/zimbabwe': <gensim.models.keyedvectors.Vocab at 0x1a2697d510>,\n",
       " '/en/gaza': <gensim.models.keyedvectors.Vocab at 0x1a2697d610>,\n",
       " '/en/portugal': <gensim.models.keyedvectors.Vocab at 0x1a26a9b850>,\n",
       " '/en/city_council': <gensim.models.keyedvectors.Vocab at 0x1a26a9b750>,\n",
       " '/en/mississippi': <gensim.models.keyedvectors.Vocab at 0x1a26a9b9d0>,\n",
       " '/en/latin_america': <gensim.models.keyedvectors.Vocab at 0x1a26a9b910>,\n",
       " '/en/san_diego': <gensim.models.keyedvectors.Vocab at 0x1a24812ad0>,\n",
       " '/en/norway': <gensim.models.keyedvectors.Vocab at 0x1a25343910>,\n",
       " '/en/run_batted_in': <gensim.models.keyedvectors.Vocab at 0x1a265df650>,\n",
       " '/en/serbia': <gensim.models.keyedvectors.Vocab at 0x1b4a4bf1d0>,\n",
       " '/en/earth': <gensim.models.keyedvectors.Vocab at 0x1b4a4bf250>,\n",
       " '/en/bill_clinton': <gensim.models.keyedvectors.Vocab at 0x1b4a4bf290>,\n",
       " '/en/united_states_navy': <gensim.models.keyedvectors.Vocab at 0x1b4a4bf2d0>,\n",
       " '/en/european_central_bank': <gensim.models.keyedvectors.Vocab at 0x1b4a4bf310>,\n",
       " '/en/toronto_blue_jays': <gensim.models.keyedvectors.Vocab at 0x1b4a4bf350>,\n",
       " '/en/the_pentagon': <gensim.models.keyedvectors.Vocab at 0x1b4a4bf390>,\n",
       " '/en/wales': <gensim.models.keyedvectors.Vocab at 0x1b4a4bf410>,\n",
       " '/en/bbc': <gensim.models.keyedvectors.Vocab at 0x1b4a4bf450>,\n",
       " '/en/myanmar': <gensim.models.keyedvectors.Vocab at 0x1b4a4bf510>,\n",
       " '/en/citigroup': <gensim.models.keyedvectors.Vocab at 0x1b4a4bf590>,\n",
       " '/en/english_cricket_team': <gensim.models.keyedvectors.Vocab at 0x1b4a4bf5d0>,\n",
       " '/en/american_broadcasting_company': <gensim.models.keyedvectors.Vocab at 0x1b4a4bf610>,\n",
       " '/en/gulf_of_mexico': <gensim.models.keyedvectors.Vocab at 0x1b4a4bf650>,\n",
       " '/en/belgium': <gensim.models.keyedvectors.Vocab at 0x1b4a4bf6d0>,\n",
       " '/en/oregon': <gensim.models.keyedvectors.Vocab at 0x1b4a4bf750>,\n",
       " '/en/roger_federer': <gensim.models.keyedvectors.Vocab at 0x1b4a4bf790>,\n",
       " '/en/gaza_strip': <gensim.models.keyedvectors.Vocab at 0x1b4a4bf810>,\n",
       " '/en/new_mexico': <gensim.models.keyedvectors.Vocab at 0x1b4a4bf890>,\n",
       " '/en/dallas_mavericks': <gensim.models.keyedvectors.Vocab at 0x1b4a4bf8d0>,\n",
       " '/en/amazon_com': <gensim.models.keyedvectors.Vocab at 0x1b4a4bf950>,\n",
       " '/en/virginia': <gensim.models.keyedvectors.Vocab at 0x1b4a4bf9d0>,\n",
       " '/en/ohio_state_university': <gensim.models.keyedvectors.Vocab at 0x1b4a4bfa10>,\n",
       " '/en/cnn': <gensim.models.keyedvectors.Vocab at 0x1b4a4bfa50>,\n",
       " '/en/colombia': <gensim.models.keyedvectors.Vocab at 0x1b4a4bfb10>,\n",
       " '/en/pennsylvania_state_university': <gensim.models.keyedvectors.Vocab at 0x1b4a4bfb50>,\n",
       " '/en/tampa_bay_devil_rays': <gensim.models.keyedvectors.Vocab at 0x1b4a4bfb90>,\n",
       " '/en/maine': <gensim.models.keyedvectors.Vocab at 0x1b4a4bfc10>,\n",
       " '/en/oakland_athletics': <gensim.models.keyedvectors.Vocab at 0x1b4a4bfc50>,\n",
       " '/en/uefa_champions_league': <gensim.models.keyedvectors.Vocab at 0x1b4a4bfc90>,\n",
       " '/en/central_intelligence_agency': <gensim.models.keyedvectors.Vocab at 0x1b4a4bfcd0>,\n",
       " '/en/research': <gensim.models.keyedvectors.Vocab at 0x1b4a4bfd50>,\n",
       " '/en/kentucky': <gensim.models.keyedvectors.Vocab at 0x1b4a4bfdd0>,\n",
       " '/en/chrysler': <gensim.models.keyedvectors.Vocab at 0x1b4a4bfe50>,\n",
       " '/en/staff_intel': <gensim.models.keyedvectors.Vocab at 0x1b4a4bfed0>,\n",
       " '/en/vancouver_british_columbia': <gensim.models.keyedvectors.Vocab at 0x1b4a4bff10>,\n",
       " '/en/cleveland_indians': <gensim.models.keyedvectors.Vocab at 0x1b4a4bff50>,\n",
       " '/en/cbs': <gensim.models.keyedvectors.Vocab at 0x1b4a4bff90>,\n",
       " '/en/west_virginia': <gensim.models.keyedvectors.Vocab at 0x1b4a4cd050>,\n",
       " '/en/bank_of_america': <gensim.models.keyedvectors.Vocab at 0x1b4a4cd090>,\n",
       " '/en/hawaii': <gensim.models.keyedvectors.Vocab at 0x1b4a4cd110>,\n",
       " '/en/new_york_county': <gensim.models.keyedvectors.Vocab at 0x1b4a4cd150>,\n",
       " '/en/denmark': <gensim.models.keyedvectors.Vocab at 0x1b4a4cd1d0>,\n",
       " '/en/nebraska': <gensim.models.keyedvectors.Vocab at 0x1b4a4cd250>,\n",
       " '/en/sri_lanka': <gensim.models.keyedvectors.Vocab at 0x1b4a4cd2d0>,\n",
       " '/en/dallas_cowboys': <gensim.models.keyedvectors.Vocab at 0x1b4a4cd310>,\n",
       " '/en/soviet_union': <gensim.models.keyedvectors.Vocab at 0x1b4a4cd350>,\n",
       " '/en/ibm': <gensim.models.keyedvectors.Vocab at 0x1b4a4cd390>,\n",
       " '/en/united_states_department_of_state': <gensim.models.keyedvectors.Vocab at 0x1b4a4cd410>,\n",
       " '/en/baltimore_ravens': <gensim.models.keyedvectors.Vocab at 0x1b4a4cd450>,\n",
       " '/m/0d0kn': <gensim.models.keyedvectors.Vocab at 0x1b4a4cd490>,\n",
       " '/en/houston_astros': <gensim.models.keyedvectors.Vocab at 0x1b4a4cd510>,\n",
       " '/en/pittsburgh_penguins': <gensim.models.keyedvectors.Vocab at 0x1b4a4cd550>,\n",
       " '/en/legislature': <gensim.models.keyedvectors.Vocab at 0x1b4a4cd5d0>,\n",
       " '/en/roman_catholic_church': <gensim.models.keyedvectors.Vocab at 0x1b4a4cd610>,\n",
       " '/en/aids': <gensim.models.keyedvectors.Vocab at 0x1b4a4cd650>,\n",
       " '/en/colorado_rockies': <gensim.models.keyedvectors.Vocab at 0x1b4a4cd6d0>,\n",
       " '/en/kansas_city_royals': <gensim.models.keyedvectors.Vocab at 0x1b4a4cd710>,\n",
       " '/en/chicago_bulls': <gensim.models.keyedvectors.Vocab at 0x1b4a4cd750>,\n",
       " '/en/arkansas': <gensim.models.keyedvectors.Vocab at 0x1b4a4cd7d0>,\n",
       " '/en/sunni_islam': <gensim.models.keyedvectors.Vocab at 0x1b4a4cd850>,\n",
       " '/en/atlanta_falcons': <gensim.models.keyedvectors.Vocab at 0x1b4a4cd890>,\n",
       " '/en/san_diego_padres': <gensim.models.keyedvectors.Vocab at 0x1b4a4cd8d0>,\n",
       " '/en/sony': <gensim.models.keyedvectors.Vocab at 0x1b4a4cd910>,\n",
       " '/en/cleveland_browns': <gensim.models.keyedvectors.Vocab at 0x1b4a4cd990>,\n",
       " '/en/personal_computer': <gensim.models.keyedvectors.Vocab at 0x1b4a4cd9d0>,\n",
       " '/en/miami_dolphins': <gensim.models.keyedvectors.Vocab at 0x1b4a4cda10>,\n",
       " '/en/atlanta_hawks': <gensim.models.keyedvectors.Vocab at 0x1b4a4cda50>,\n",
       " '/en/minneapolis': <gensim.models.keyedvectors.Vocab at 0x1b4a4cdad0>,\n",
       " '/en/southern_california': <gensim.models.keyedvectors.Vocab at 0x1b4a4cdb10>,\n",
       " '/en/manchester_city_fc': <gensim.models.keyedvectors.Vocab at 0x1b4a4cdb50>,\n",
       " '/en/earned_run_average': <gensim.models.keyedvectors.Vocab at 0x1b4a4cdb90>,\n",
       " '/en/united_states_senate': <gensim.models.keyedvectors.Vocab at 0x1b4a4cdbd0>,\n",
       " '/en/toronto_stock_exchange': <gensim.models.keyedvectors.Vocab at 0x1b4a4cdc10>,\n",
       " '/en/phoenix': <gensim.models.keyedvectors.Vocab at 0x1b4a4cdc90>,\n",
       " '/en/sudan': <gensim.models.keyedvectors.Vocab at 0x1b4a4cdd10>,\n",
       " '/en/florida_marlins': <gensim.models.keyedvectors.Vocab at 0x1b4a4cdd50>,\n",
       " '/en/washington_nationals': <gensim.models.keyedvectors.Vocab at 0x1b4a4cdd90>,\n",
       " '/en/jesus': <gensim.models.keyedvectors.Vocab at 0x1b4a4cde10>,\n",
       " '/en/world_war_ii': <gensim.models.keyedvectors.Vocab at 0x1b4a4cde50>,\n",
       " '/en/chile': <gensim.models.keyedvectors.Vocab at 0x1b4a4cded0>,\n",
       " '/en/shanghai': <gensim.models.keyedvectors.Vocab at 0x1b4a4cdf50>,\n",
       " '/en/austria': <gensim.models.keyedvectors.Vocab at 0x1b4a4cdfd0>,\n",
       " '/en/czech_republic': <gensim.models.keyedvectors.Vocab at 0x1b4a4d0050>,\n",
       " '/en/orlando_magic': <gensim.models.keyedvectors.Vocab at 0x1b4a4d0090>,\n",
       " '/en/hewlett-packard': <gensim.models.keyedvectors.Vocab at 0x1b4a4d00d0>,\n",
       " '/en/broadway_theatre': <gensim.models.keyedvectors.Vocab at 0x1b4a4d0110>,\n",
       " '/en/ghana': <gensim.models.keyedvectors.Vocab at 0x1b4a4d0190>,\n",
       " '/en/bashar_al-assad': <gensim.models.keyedvectors.Vocab at 0x1b4a4d01d0>,\n",
       " '/en/comtex': <gensim.models.keyedvectors.Vocab at 0x1b4a4d0250>,\n",
       " '/en/tottenham_hotspur_fc': <gensim.models.keyedvectors.Vocab at 0x1b4a4d0290>,\n",
       " '/en/islamabad': <gensim.models.keyedvectors.Vocab at 0x1b4a4d0310>,\n",
       " '/en/miami': <gensim.models.keyedvectors.Vocab at 0x1b4a4d0390>,\n",
       " '/en/major_league_baseball': <gensim.models.keyedvectors.Vocab at 0x1b4a4d03d0>,\n",
       " '/en/board_of_directors': <gensim.models.keyedvectors.Vocab at 0x1b4a4d0410>,\n",
       " '/en/detroit_red_wings': <gensim.models.keyedvectors.Vocab at 0x1b4a4d0450>,\n",
       " '/en/golden_state_warriors': <gensim.models.keyedvectors.Vocab at 0x1b4a4d0490>,\n",
       " '/en/seattle_seahawks': <gensim.models.keyedvectors.Vocab at 0x1b4a4d04d0>,\n",
       " '/en/newt_gingrich': <gensim.models.keyedvectors.Vocab at 0x1b4a4d0510>,\n",
       " '/en/san_antonio_spurs': <gensim.models.keyedvectors.Vocab at 0x1b4a4d0550>,\n",
       " '/en/bulldog': <gensim.models.keyedvectors.Vocab at 0x1b4a4d05d0>,\n",
       " '/en/fc_barcelona': <gensim.models.keyedvectors.Vocab at 0x1b4a4d0610>,\n",
       " '/en/nascar': <gensim.models.keyedvectors.Vocab at 0x1b4a4d0690>,\n",
       " '/en/arizona_diamondbacks': <gensim.models.keyedvectors.Vocab at 0x1b4a4d06d0>,\n",
       " '/en/the_wall_street_journal': <gensim.models.keyedvectors.Vocab at 0x1b4a4d0710>,\n",
       " '/en/melbourne_australia': <gensim.models.keyedvectors.Vocab at 0x1b4a4d0750>,\n",
       " '/en/phoenix_suns': <gensim.models.keyedvectors.Vocab at 0x1b4a4d0790>,\n",
       " '/en/vancouver_canucks': <gensim.models.keyedvectors.Vocab at 0x1b4a4d07d0>,\n",
       " '/en/ben_bernanke': <gensim.models.keyedvectors.Vocab at 0x1b4a4d0810>,\n",
       " '/en/nicolas_sarkozy': <gensim.models.keyedvectors.Vocab at 0x1b4a4d0850>,\n",
       " '/en/berlin': <gensim.models.keyedvectors.Vocab at 0x1b4a4d08d0>,\n",
       " '/en/montana': <gensim.models.keyedvectors.Vocab at 0x1b4a4d0950>,\n",
       " '/en/rafael_nadal': <gensim.models.keyedvectors.Vocab at 0x1b4a4d0990>,\n",
       " '/en/jordan': <gensim.models.keyedvectors.Vocab at 0x1b4a4d0a10>,\n",
       " '/en/vladimir_putin': <gensim.models.keyedvectors.Vocab at 0x1b4a4d0a50>,\n",
       " '/en/world_series': <gensim.models.keyedvectors.Vocab at 0x1b4a4d0a90>,\n",
       " '/en/european_commission': <gensim.models.keyedvectors.Vocab at 0x1b4a4d0ad0>,\n",
       " '/en/academy_awards': <gensim.models.keyedvectors.Vocab at 0x1b4a4d0b10>,\n",
       " '/en/bharatiya_janata_party': <gensim.models.keyedvectors.Vocab at 0x1b4a4d0b50>,\n",
       " '/en/hosni_mubarak': <gensim.models.keyedvectors.Vocab at 0x1b4a4d0b90>,\n",
       " '/en/standard_poors': <gensim.models.keyedvectors.Vocab at 0x1b4a4d0bd0>,\n",
       " '/en/ncaa_mens_division_i_basketball_championship': <gensim.models.keyedvectors.Vocab at 0x1b4a4d0c10>,\n",
       " '/en/western_united_states': <gensim.models.keyedvectors.Vocab at 0x1b4a4d0c50>,\n",
       " '/en/seoul': <gensim.models.keyedvectors.Vocab at 0x1b4a4d0cd0>,\n",
       " '/en/montreal': <gensim.models.keyedvectors.Vocab at 0x1b4a4d0d50>,\n",
       " '/en/rome': <gensim.models.keyedvectors.Vocab at 0x1b4a4d0d90>,\n",
       " '/en/the_washington_post': <gensim.models.keyedvectors.Vocab at 0x1b4a4d0e10>,\n",
       " '/en/st_louis_rams': <gensim.models.keyedvectors.Vocab at 0x1b4a4d0e50>,\n",
       " '/en/baltimore_orioles': <gensim.models.keyedvectors.Vocab at 0x1b4a4d0e90>,\n",
       " '/en/tsx_venture_exchange': <gensim.models.keyedvectors.Vocab at 0x1b4a4d0ed0>,\n",
       " '/en/new_orleans_saints': <gensim.models.keyedvectors.Vocab at 0x1b4a4d0f10>,\n",
       " '/en/gordon_brown': <gensim.models.keyedvectors.Vocab at 0x1b4a4d0f50>,\n",
       " '/en/san_diego_chargers': <gensim.models.keyedvectors.Vocab at 0x1b4a4d0f90>,\n",
       " '/en/u_s_open': <gensim.models.keyedvectors.Vocab at 0x1b4a4d3050>,\n",
       " '/en/alberta': <gensim.models.keyedvectors.Vocab at 0x1b4a4d30d0>,\n",
       " '/en/brussels': <gensim.models.keyedvectors.Vocab at 0x1b4a4d3150>,\n",
       " '/en/hugo_chavez': <gensim.models.keyedvectors.Vocab at 0x1b4a4d31d0>,\n",
       " '/en/washington_redskins': <gensim.models.keyedvectors.Vocab at 0x1b4a4d3210>,\n",
       " '/en/alabama_crimson_tide_football': <gensim.models.keyedvectors.Vocab at 0x1b4a4d3250>,\n",
       " '/en/real_madrid': <gensim.models.keyedvectors.Vocab at 0x1b4a4d32d0>,\n",
       " '/en/ottawa': <gensim.models.keyedvectors.Vocab at 0x1b4a4d3350>,\n",
       " '/en/indianapolis_colts': <gensim.models.keyedvectors.Vocab at 0x1b4a4d3390>,\n",
       " '/en/marketwire': <gensim.models.keyedvectors.Vocab at 0x1b4a4d3410>,\n",
       " '/en/hiv_infections': <gensim.models.keyedvectors.Vocab at 0x1b4a4d3450>,\n",
       " '/en/denver_broncos': <gensim.models.keyedvectors.Vocab at 0x1b4a4d3490>,\n",
       " '/en/cairo': <gensim.models.keyedvectors.Vocab at 0x1b4a4d3510>,\n",
       " '/en/southeastern_conference': <gensim.models.keyedvectors.Vocab at 0x1b4a4d3550>,\n",
       " '/en/espn': <gensim.models.keyedvectors.Vocab at 0x1b4a4d3590>,\n",
       " '/en/southern_united_states': <gensim.models.keyedvectors.Vocab at 0x1b4a4d3610>,\n",
       " '/en/england_national_football_team': <gensim.models.keyedvectors.Vocab at 0x1b4a4d3650>,\n",
       " '/en/jerusalem': <gensim.models.keyedvectors.Vocab at 0x1b4a4d36d0>,\n",
       " '/en/new_york_knicks': <gensim.models.keyedvectors.Vocab at 0x1b4a4d3710>,\n",
       " '/en/indian_national_congress': <gensim.models.keyedvectors.Vocab at 0x1b4a4d3750>,\n",
       " '/en/west_bank': <gensim.models.keyedvectors.Vocab at 0x1b4a4d37d0>,\n",
       " '/en/duke_university': <gensim.models.keyedvectors.Vocab at 0x1b4a4d3810>,\n",
       " '/en/nashville_tennessee': <gensim.models.keyedvectors.Vocab at 0x1b4a4d3850>,\n",
       " '/en/caribbean': <gensim.models.keyedvectors.Vocab at 0x1b4a4d38d0>,\n",
       " '/en/fox_broadcasting_company': <gensim.models.keyedvectors.Vocab at 0x1b4a4d3910>,\n",
       " '/en/houston_rockets': <gensim.models.keyedvectors.Vocab at 0x1b4a4d3950>,\n",
       " '/en/st_louis_missouri': <gensim.models.keyedvectors.Vocab at 0x1b4a4d3990>,\n",
       " '/en/medicaid': <gensim.models.keyedvectors.Vocab at 0x1b4a4d3a10>,\n",
       " '/en/otc_bulletin_board': <gensim.models.keyedvectors.Vocab at 0x1b4a4d3a50>,\n",
       " '/en/kabul': <gensim.models.keyedvectors.Vocab at 0x1b4a4d3ad0>,\n",
       " '/en/member_of_parliament': <gensim.models.keyedvectors.Vocab at 0x1b4a4d3b10>,\n",
       " '/en/hispanic': <gensim.models.keyedvectors.Vocab at 0x1b4a4d3b90>,\n",
       " '/en/qatar': <gensim.models.keyedvectors.Vocab at 0x1b4a4d3c10>,\n",
       " '/en/tsn': <gensim.models.keyedvectors.Vocab at 0x1b4a4d3c50>,\n",
       " '/en/boeing': <gensim.models.keyedvectors.Vocab at 0x1b4a4d3d10>,\n",
       " '/en/michigan_state_university': <gensim.models.keyedvectors.Vocab at 0x1b4a4d3d50>,\n",
       " '/en/joe_biden': <gensim.models.keyedvectors.Vocab at 0x1b4a4d3dd0>,\n",
       " '/en/david_cameron': <gensim.models.keyedvectors.Vocab at 0x1b4a4d3e10>,\n",
       " '/en/denver_nuggets': <gensim.models.keyedvectors.Vocab at 0x1b4a4d3e50>,\n",
       " '/en/lsu_tigers': <gensim.models.keyedvectors.Vocab at 0x1b4a4d3ed0>,\n",
       " '/en/idaho': <gensim.models.keyedvectors.Vocab at 0x1b4a4d3f50>,\n",
       " '/en/kobe_bryant': <gensim.models.keyedvectors.Vocab at 0x1b4a4d3fd0>,\n",
       " '/en/vermont': <gensim.models.keyedvectors.Vocab at 0x1b4a4d8090>,\n",
       " '/en/quebec': <gensim.models.keyedvectors.Vocab at 0x1b4a4d8110>,\n",
       " '/en/notre_dame_fighting_irish_football': <gensim.models.keyedvectors.Vocab at 0x1b4a4d8150>,\n",
       " '/en/brett_favre': <gensim.models.keyedvectors.Vocab at 0x1b4a4d81d0>,\n",
       " '/en/jpmorgan_chase_co': <gensim.models.keyedvectors.Vocab at 0x1b4a4d8210>,\n",
       " '/en/united_states_constitution': <gensim.models.keyedvectors.Vocab at 0x1b4a4d8250>,\n",
       " '/en/new_orleans_oklahoma_city_hornets': <gensim.models.keyedvectors.Vocab at 0x1b4a4d8290>,\n",
       " '/en/goldman_sachs': <gensim.models.keyedvectors.Vocab at 0x1b4a4d82d0>,\n",
       " '/en/atlantic_ocean': <gensim.models.keyedvectors.Vocab at 0x1b4a4d8310>,\n",
       " '/en/north_dakota': <gensim.models.keyedvectors.Vocab at 0x1b4a4d8350>,\n",
       " '/en/rick_perry': <gensim.models.keyedvectors.Vocab at 0x1b4a4d83d0>,\n",
       " '/en/portland_trail_blazers': <gensim.models.keyedvectors.Vocab at 0x1b4a4d8410>,\n",
       " '/en/christian': <gensim.models.keyedvectors.Vocab at 0x1b4a4d8490>,\n",
       " '/en/pakistani_cricket_team': <gensim.models.keyedvectors.Vocab at 0x1b4a4d84d0>,\n",
       " '/en/hamid_karzai': <gensim.models.keyedvectors.Vocab at 0x1b4a4d8510>,\n",
       " '/en/mahmoud_abbas': <gensim.models.keyedvectors.Vocab at 0x1b4a4d8550>,\n",
       " '/en/pittsburgh_pirates': <gensim.models.keyedvectors.Vocab at 0x1b4a4d8590>,\n",
       " '/en/finland': <gensim.models.keyedvectors.Vocab at 0x1b4a4d8610>,\n",
       " '/en/press_trust_of_india': <gensim.models.keyedvectors.Vocab at 0x1b4a4d8650>,\n",
       " '/en/minnesota_vikings': <gensim.models.keyedvectors.Vocab at 0x1b4a4d8690>,\n",
       " '/en/centers_for_disease_control_and_prevention': <gensim.models.keyedvectors.Vocab at 0x1b4a4d86d0>,\n",
       " '/en/south_america': <gensim.models.keyedvectors.Vocab at 0x1b4a4d8710>,\n",
       " '/en/athens': <gensim.models.keyedvectors.Vocab at 0x1b4a4d8790>,\n",
       " '/en/jacksonville_jaguars': <gensim.models.keyedvectors.Vocab at 0x1b4a4d87d0>,\n",
       " '/en/harry_reid': <gensim.models.keyedvectors.Vocab at 0x1b4a4d8850>,\n",
       " '/en/bear': <gensim.models.keyedvectors.Vocab at 0x1b4a4d8890>,\n",
       " '/en/los_angeles_angels_of_anaheim': <gensim.models.keyedvectors.Vocab at 0x1b4a4d8910>,\n",
       " '/en/bahrain': <gensim.models.keyedvectors.Vocab at 0x1b4a4d8990>,\n",
       " '/en/wildcats_1986': <gensim.models.keyedvectors.Vocab at 0x1b4a4d89d0>,\n",
       " '/en/san_jose_sharks': <gensim.models.keyedvectors.Vocab at 0x1b4a4d8a10>,\n",
       " '/en/internal_revenue_service': <gensim.models.keyedvectors.Vocab at 0x1b4a4d8a50>,\n",
       " '/en/mahmoud_ahmadinejad': <gensim.models.keyedvectors.Vocab at 0x1b4a4d8a90>,\n",
       " '/en/identity_document': <gensim.models.keyedvectors.Vocab at 0x1b4a4d8ad0>,\n",
       " '/en/toronto_maple_leafs': <gensim.models.keyedvectors.Vocab at 0x1b4a4d8b10>,\n",
       " '/en/montreal_canadiens': <gensim.models.keyedvectors.Vocab at 0x1b4a4d8b50>,\n",
       " '/en/indianapolis': <gensim.models.keyedvectors.Vocab at 0x1b4a4d8b90>,\n",
       " '/en/nokia': <gensim.models.keyedvectors.Vocab at 0x1b4a4d8c10>,\n",
       " '/en/jamaica': <gensim.models.keyedvectors.Vocab at 0x1b4a4d8c90>,\n",
       " '/en/new_york_mercantile_exchange': <gensim.models.keyedvectors.Vocab at 0x1b4a4d8cd0>,\n",
       " '/en/wimbledon': <gensim.models.keyedvectors.Vocab at 0x1b4a4d8d50>,\n",
       " '/en/chicago_blackhawks': <gensim.models.keyedvectors.Vocab at 0x1b4a4d8d90>,\n",
       " '/en/american_international_group': <gensim.models.keyedvectors.Vocab at 0x1b4a4d8dd0>,\n",
       " '/en/justice_department': <gensim.models.keyedvectors.Vocab at 0x1b4a4d8e10>,\n",
       " '/en/us_marines': <gensim.models.keyedvectors.Vocab at 0x1b4a4d8e90>,\n",
       " '/en/midwestern_united_states': <gensim.models.keyedvectors.Vocab at 0x1b4a4d8ed0>,\n",
       " '/en/panthers': <gensim.models.keyedvectors.Vocab at 0x1b4a4d8f50>,\n",
       " '/en/hezbollah': <gensim.models.keyedvectors.Vocab at 0x1b4a4d8fd0>,\n",
       " '/en/romania': <gensim.models.keyedvectors.Vocab at 0x1b4a4db090>,\n",
       " '/en/thomson_reuters': <gensim.models.keyedvectors.Vocab at 0x1b4a4db0d0>,\n",
       " '/en/tampa_bay_buccaneers': <gensim.models.keyedvectors.Vocab at 0x1b4a4db110>,\n",
       " '/en/new_york_rangers': <gensim.models.keyedvectors.Vocab at 0x1b4a4db150>,\n",
       " '/en/university_of_california_los_angeles': <gensim.models.keyedvectors.Vocab at 0x1b4a4db190>,\n",
       " '/en/rhode_island': <gensim.models.keyedvectors.Vocab at 0x1b4a4db1d0>,\n",
       " '/en/asia-pacific': <gensim.models.keyedvectors.Vocab at 0x1b4a4db210>,\n",
       " '/en/harvard_university': <gensim.models.keyedvectors.Vocab at 0x1b4a4db250>,\n",
       " '/en/walt_disney_staff': <gensim.models.keyedvectors.Vocab at 0x1b4a4db290>,\n",
       " '/en/united_states_department_of_agriculture': <gensim.models.keyedvectors.Vocab at 0x1b4a4db2d0>,\n",
       " '/en/ethiopia': <gensim.models.keyedvectors.Vocab at 0x1b4a4db350>,\n",
       " '/en/saddam_hussein': <gensim.models.keyedvectors.Vocab at 0x1b4a4db390>,\n",
       " '/en/pervez_musharraf': <gensim.models.keyedvectors.Vocab at 0x1b4a4db3d0>,\n",
       " '/en/philadelphia_flyers': <gensim.models.keyedvectors.Vocab at 0x1b4a4db410>,\n",
       " '/en/tunisia': <gensim.models.keyedvectors.Vocab at 0x1b4a4db490>,\n",
       " '/en/big_ten_conference': <gensim.models.keyedvectors.Vocab at 0x1b4a4db4d0>,\n",
       " '/en/steve_jobs': <gensim.models.keyedvectors.Vocab at 0x1b4a4db550>,\n",
       " '/en/hungary': <gensim.models.keyedvectors.Vocab at 0x1b4a4db5d0>,\n",
       " '/en/stanford_university': <gensim.models.keyedvectors.Vocab at 0x1b4a4db610>,\n",
       " '/en/federation_internationale_de_football_association': <gensim.models.keyedvectors.Vocab at 0x1b4a4db650>,\n",
       " '/en/treasury_security': <gensim.models.keyedvectors.Vocab at 0x1b4a4db690>,\n",
       " '/en/bangladesh': <gensim.models.keyedvectors.Vocab at 0x1b4a4db710>,\n",
       " '/en/uganda': <gensim.models.keyedvectors.Vocab at 0x1b4a4db790>,\n",
       " '/en/benjamin_netanyahu': <gensim.models.keyedvectors.Vocab at 0x1b4a4db7d0>,\n",
       " '/en/united_states_department_of_the_treasury': <gensim.models.keyedvectors.Vocab at 0x1b4a4db810>,\n",
       " '/en/ipod': <gensim.models.keyedvectors.Vocab at 0x1b4a4db850>,\n",
       " '/en/gross_domestic_product': <gensim.models.keyedvectors.Vocab at 0x1b4a4db8d0>,\n",
       " '/en/rick_santorum': <gensim.models.keyedvectors.Vocab at 0x1b4a4db910>,\n",
       " '/en/buffalo_sabres': <gensim.models.keyedvectors.Vocab at 0x1b4a4db950>,\n",
       " '/en/oklahoma_city_thunder': <gensim.models.keyedvectors.Vocab at 0x1b4a4db990>,\n",
       " '/en/research_in_motion': <gensim.models.keyedvectors.Vocab at 0x1b4a4db9d0>,\n",
       " '/en/brooklyn': <gensim.models.keyedvectors.Vocab at 0x1b4a4dba50>,\n",
       " '/en/pacific_ocean': <gensim.models.keyedvectors.Vocab at 0x1b4a4dba90>,\n",
       " '/en/victoria': <gensim.models.keyedvectors.Vocab at 0x1b4a4dbb10>,\n",
       " '/en/indo_asian_news_service': <gensim.models.keyedvectors.Vocab at 0x1b4a4dbb50>,\n",
       " '/en/portland': <gensim.models.keyedvectors.Vocab at 0x1b4a4dbbd0>,\n",
       " '/en/wi-fi': <gensim.models.keyedvectors.Vocab at 0x1b4a4dbc50>,\n",
       " '/en/verizon_wireless': <gensim.models.keyedvectors.Vocab at 0x1b4a4dbc90>,\n",
       " '/en/northern_ireland': <gensim.models.keyedvectors.Vocab at 0x1b4a4dbcd0>,\n",
       " '/en/syracuse_university_orange': <gensim.models.keyedvectors.Vocab at 0x1b4a4dbd10>,\n",
       " '/en/national_weather_service': <gensim.models.keyedvectors.Vocab at 0x1b4a4dbd50>,\n",
       " '/en/delaware': <gensim.models.keyedvectors.Vocab at 0x1b4a4dbdd0>,\n",
       " '/en/hurricane_katrina': <gensim.models.keyedvectors.Vocab at 0x1b4a4dbe10>,\n",
       " '/en/tampa': <gensim.models.keyedvectors.Vocab at 0x1b4a4dbe90>,\n",
       " '/en/national_league': <gensim.models.keyedvectors.Vocab at 0x1b4a4dbed0>,\n",
       " '/en/charlotte_bobcats': <gensim.models.keyedvectors.Vocab at 0x1b4a4dbf10>,\n",
       " '/en/xinhua_news_agency': <gensim.models.keyedvectors.Vocab at 0x1b4a4dbf50>,\n",
       " '/en/air_force': <gensim.models.keyedvectors.Vocab at 0x1b4a4dbfd0>,\n",
       " '/en/formula_one': <gensim.models.keyedvectors.Vocab at 0x1b4a4df090>,\n",
       " '/en/big_12_conference': <gensim.models.keyedvectors.Vocab at 0x1b4a4df0d0>,\n",
       " '/en/baltimore': <gensim.models.keyedvectors.Vocab at 0x1b4a4df150>,\n",
       " '/en/dublin': <gensim.models.keyedvectors.Vocab at 0x1b4a4df1d0>,\n",
       " '/en/ottawa_senators': <gensim.models.keyedvectors.Vocab at 0x1b4a4df210>,\n",
       " '/en/washington_capitals': <gensim.models.keyedvectors.Vocab at 0x1b4a4df250>,\n",
       " '/en/robert_gates': <gensim.models.keyedvectors.Vocab at 0x1b4a4df290>,\n",
       " '/en/las_vegas_strip': <gensim.models.keyedvectors.Vocab at 0x1b4a4df2d0>,\n",
       " '/en/ebay': <gensim.models.keyedvectors.Vocab at 0x1b4a4df310>,\n",
       " '/en/columbus_ohio': <gensim.models.keyedvectors.Vocab at 0x1b4a4df390>,\n",
       " '/en/general_electric': <gensim.models.keyedvectors.Vocab at 0x1b4a4df3d0>,\n",
       " '/en/viking': <gensim.models.keyedvectors.Vocab at 0x1b4a4df450>,\n",
       " '/en/persian_gulf': <gensim.models.keyedvectors.Vocab at 0x1b4a4df490>,\n",
       " '/en/dow_jones_company': <gensim.models.keyedvectors.Vocab at 0x1b4a4df4d0>,\n",
       " '/en/peru': <gensim.models.keyedvectors.Vocab at 0x1b4a4df510>,\n",
       " '/en/memphis_grizzlies': <gensim.models.keyedvectors.Vocab at 0x1b4a4df590>,\n",
       " '/en/kuwait': <gensim.models.keyedvectors.Vocab at 0x1b4a4df610>,\n",
       " '/en/faa_staff': <gensim.models.keyedvectors.Vocab at 0x1b4a4df690>,\n",
       " '/en/main_street': <gensim.models.keyedvectors.Vocab at 0x1b4a4df710>,\n",
       " '/en/democratic_republic_of_the_congo': <gensim.models.keyedvectors.Vocab at 0x1b4a4df750>,\n",
       " '/en/calendar_year': <gensim.models.keyedvectors.Vocab at 0x1b4a4df790>,\n",
       " '/en/michael_vick': <gensim.models.keyedvectors.Vocab at 0x1b4a4df7d0>,\n",
       " '/en/benedict_pope': <gensim.models.keyedvectors.Vocab at 0x1b4a4df810>,\n",
       " '/en/bulgaria': <gensim.models.keyedvectors.Vocab at 0x1b4a4df890>,\n",
       " '/en/world_wide_web': <gensim.models.keyedvectors.Vocab at 0x1b4a4df8d0>,\n",
       " '/en/private_securities_litigation_reform_act': <gensim.models.keyedvectors.Vocab at 0x1b4a4df910>,\n",
       " '/en/angela_merkel': <gensim.models.keyedvectors.Vocab at 0x1b4a4df950>,\n",
       " '/en/opec': <gensim.models.keyedvectors.Vocab at 0x1b4a4df990>,\n",
       " '/en/dell': <gensim.models.keyedvectors.Vocab at 0x1b4a4dfa10>,\n",
       " '/en/utah_jazz': <gensim.models.keyedvectors.Vocab at 0x1b4a4dfad0>,\n",
       " '/en/the_sacramento_bee': <gensim.models.keyedvectors.Vocab at 0x1b4a4dfb10>,\n",
       " '/en/bangkok': <gensim.models.keyedvectors.Vocab at 0x1b4a4dfb90>,\n",
       " '/en/auburn': <gensim.models.keyedvectors.Vocab at 0x1b4a4dfc10>,\n",
       " '/en/los_angeles_kings': <gensim.models.keyedvectors.Vocab at 0x1b4a4dfc50>,\n",
       " '/en/pga_tour': <gensim.models.keyedvectors.Vocab at 0x1b4a4dfcd0>,\n",
       " '/en/detroit_lions': <gensim.models.keyedvectors.Vocab at 0x1b4a4dfd10>,\n",
       " '/en/ac_milan': <gensim.models.keyedvectors.Vocab at 0x1b4a4dfd90>,\n",
       " '/en/buffalo_bills': <gensim.models.keyedvectors.Vocab at 0x1b4a4dfdd0>,\n",
       " '/en/patriots': <gensim.models.keyedvectors.Vocab at 0x1b4a4dfe50>,\n",
       " '/en/oakland_raiders': <gensim.models.keyedvectors.Vocab at 0x1b4a4dfe90>,\n",
       " '/en/hall_of_fame': <gensim.models.keyedvectors.Vocab at 0x1b4a4dfed0>,\n",
       " '/en/madison': <gensim.models.keyedvectors.Vocab at 0x1b4a4dff50>,\n",
       " '/en/south_dakota': <gensim.models.keyedvectors.Vocab at 0x1b4a4dff90>,\n",
       " '/en/serena_williams': <gensim.models.keyedvectors.Vocab at 0x1b4a4dffd0>,\n",
       " '/en/thanksgiving': <gensim.models.keyedvectors.Vocab at 0x1b4a4e1050>,\n",
       " '/en/florida_state_university': <gensim.models.keyedvectors.Vocab at 0x1b4a4e1090>,\n",
       " '/en/manmohan_singh': <gensim.models.keyedvectors.Vocab at 0x1b4a4e10d0>,\n",
       " '/en/atlantic_coast_conference': <gensim.models.keyedvectors.Vocab at 0x1b4a4e1110>,\n",
       " '/en/robert_mugabe': <gensim.models.keyedvectors.Vocab at 0x1b4a4e1150>,\n",
       " '/en/stephen_harper': <gensim.models.keyedvectors.Vocab at 0x1b4a4e1190>,\n",
       " '/en/newcastle_united_fc': <gensim.models.keyedvectors.Vocab at 0x1b4a4e11d0>,\n",
       " '/en/federal_communications_commission': <gensim.models.keyedvectors.Vocab at 0x1b4a4e1210>,\n",
       " '/en/los_angeles_times': <gensim.models.keyedvectors.Vocab at 0x1b4a4e1250>,\n",
       " '/en/tennessee_volunteers': <gensim.models.keyedvectors.Vocab at 0x1b4a4e1290>,\n",
       " '/en/samsung_electronics': <gensim.models.keyedvectors.Vocab at 0x1b4a4e12d0>,\n",
       " '/en/doctor_of_medicine': <gensim.models.keyedvectors.Vocab at 0x1b4a4e1310>,\n",
       " '/en/nepal': <gensim.models.keyedvectors.Vocab at 0x1b4a4e1390>,\n",
       " '/en/fitch_ratings': <gensim.models.keyedvectors.Vocab at 0x1b4a4e13d0>,\n",
       " '/en/world_health_organization': <gensim.models.keyedvectors.Vocab at 0x1b4a4e1410>,\n",
       " '/en/rod_blagojevich': <gensim.models.keyedvectors.Vocab at 0x1b4a4e1450>,\n",
       " '/en/pittsburgh': <gensim.models.keyedvectors.Vocab at 0x1b4a4e14d0>,\n",
       " '/en/alex_ferguson': <gensim.models.keyedvectors.Vocab at 0x1b4a4e1510>,\n",
       " '/en/american_idol': <gensim.models.keyedvectors.Vocab at 0x1b4a4e1550>,\n",
       " '/en/nancy_pelosi': <gensim.models.keyedvectors.Vocab at 0x1b4a4e1590>,\n",
       " '/en/big_east_conference': <gensim.models.keyedvectors.Vocab at 0x1b4a4e15d0>,\n",
       " '/en/holy_see': <gensim.models.keyedvectors.Vocab at 0x1b4a4e1650>,\n",
       " '/en/usc_trojans': <gensim.models.keyedvectors.Vocab at 0x1b4a4e16d0>,\n",
       " '/en/philadelphia_76ers': <gensim.models.keyedvectors.Vocab at 0x1b4a4e1710>,\n",
       " '/en/editing': <gensim.models.keyedvectors.Vocab at 0x1b4a4e1790>,\n",
       " '/en/microsoft_windows': <gensim.models.keyedvectors.Vocab at 0x1b4a4e17d0>,\n",
       " '/en/british_columbia_lions': <gensim.models.keyedvectors.Vocab at 0x1b4a4e1810>,\n",
       " '/en/united_states_district_court': <gensim.models.keyedvectors.Vocab at 0x1b4a4e1850>,\n",
       " '/en/peyton_manning': <gensim.models.keyedvectors.Vocab at 0x1b4a4e1890>,\n",
       " '/en/john_edwards': <gensim.models.keyedvectors.Vocab at 0x1b4a4e18d0>,\n",
       " '/en/almadina': <gensim.models.keyedvectors.Vocab at 0x1b4a4e1950>,\n",
       " '/en/houston_texans': <gensim.models.keyedvectors.Vocab at 0x1b4a4e1990>,\n",
       " '/en/arnold_schwarzenegger': <gensim.models.keyedvectors.Vocab at 0x1b4a4e19d0>,\n",
       " '/en/tennessee_titans': <gensim.models.keyedvectors.Vocab at 0x1b4a4e1a10>,\n",
       " '/en/chicago_bears': <gensim.models.keyedvectors.Vocab at 0x1b4a4e1a50>,\n",
       " '/en/detroit_pistons': <gensim.models.keyedvectors.Vocab at 0x1b4a4e1a90>,\n",
       " '/en/washington_wizards': <gensim.models.keyedvectors.Vocab at 0x1b4a4e1ad0>,\n",
       " '/en/delta_air_lines': <gensim.models.keyedvectors.Vocab at 0x1b4a4e1b10>,\n",
       " '/en/toronto_raptors': <gensim.models.keyedvectors.Vocab at 0x1b4a4e1b50>,\n",
       " '/en/puerto_rico': <gensim.models.keyedvectors.Vocab at 0x1b4a4e1bd0>,\n",
       " '/en/nextel_cup': <gensim.models.keyedvectors.Vocab at 0x1b4a4e1c50>,\n",
       " '/en/carolina_panthers': <gensim.models.keyedvectors.Vocab at 0x1b4a4e1c90>,\n",
       " '/en/bangalore': <gensim.models.keyedvectors.Vocab at 0x1b4a4e1d10>,\n",
       " '/en/cisco_systems': <gensim.models.keyedvectors.Vocab at 0x1b4a4e1d50>,\n",
       " '/en/bowl_championship_series': <gensim.models.keyedvectors.Vocab at 0x1b4a4e1d90>,\n",
       " '/en/cincinnati_bengals': <gensim.models.keyedvectors.Vocab at 0x1b4a4e1dd0>,\n",
       " '/en/andrew_murray': <gensim.models.keyedvectors.Vocab at 0x1b4a4e1e10>,\n",
       " '/en/madrid': <gensim.models.keyedvectors.Vocab at 0x1b4a4e1e90>,\n",
       " '/en/alex_rodriguez': <gensim.models.keyedvectors.Vocab at 0x1b4a4e1ed0>,\n",
       " '/en/tripoli': <gensim.models.keyedvectors.Vocab at 0x1b4a4e1f50>,\n",
       " '/en/john_boehner': <gensim.models.keyedvectors.Vocab at 0x1b4a4e1f90>,\n",
       " '/en/all_blacks': <gensim.models.keyedvectors.Vocab at 0x1b4a4e6050>,\n",
       " '/en/sacramento_kings': <gensim.models.keyedvectors.Vocab at 0x1b4a4e6090>,\n",
       " '/en/san_antonio': <gensim.models.keyedvectors.Vocab at 0x1b4a4e6110>,\n",
       " '/en/oracle_corporation': <gensim.models.keyedvectors.Vocab at 0x1b4a4e6150>,\n",
       " '/en/nazism': <gensim.models.keyedvectors.Vocab at 0x1b4a4e61d0>,\n",
       " '/en/indiana_pacers': <gensim.models.keyedvectors.Vocab at 0x1b4a4e6210>,\n",
       " '/en/milwaukee_bucks': <gensim.models.keyedvectors.Vocab at 0x1b4a4e6250>,\n",
       " '/en/novak_djokovic': <gensim.models.keyedvectors.Vocab at 0x1b4a4e6290>,\n",
       " '/en/texas_a_m_university': <gensim.models.keyedvectors.Vocab at 0x1b4a4e62d0>,\n",
       " '/en/queensland': <gensim.models.keyedvectors.Vocab at 0x1b4a4e6350>,\n",
       " '/en/croatia': <gensim.models.keyedvectors.Vocab at 0x1b4a4e63d0>,\n",
       " '/en/fox_news_channel': <gensim.models.keyedvectors.Vocab at 0x1b4a4e6410>,\n",
       " '/en/international_olympic_committee': <gensim.models.keyedvectors.Vocab at 0x1b4a4e6450>,\n",
       " '/en/kansas_city_chiefs': <gensim.models.keyedvectors.Vocab at 0x1b4a4e6490>,\n",
       " '/en/anaheim_ducks': <gensim.models.keyedvectors.Vocab at 0x1b4a4e64d0>,\n",
       " '/en/western_michigan_broncos': <gensim.models.keyedvectors.Vocab at 0x1b4a4e6510>,\n",
       " '/en/aston_villa_fc': <gensim.models.keyedvectors.Vocab at 0x1b4a4e6550>,\n",
       " '/en/wyoming': <gensim.models.keyedvectors.Vocab at 0x1b4a4e65d0>,\n",
       " '/en/raleigh': <gensim.models.keyedvectors.Vocab at 0x1b4a4e6650>,\n",
       " '/en/city': <gensim.models.keyedvectors.Vocab at 0x1b4a4e6690>,\n",
       " '/en/u_army': <gensim.models.keyedvectors.Vocab at 0x1b4a4e6750>,\n",
       " '/en/getty_images': <gensim.models.keyedvectors.Vocab at 0x1b4a4e6790>,\n",
       " '/en/armenia': <gensim.models.keyedvectors.Vocab at 0x1b4a4e6810>,\n",
       " '/en/tom_brady': <gensim.models.keyedvectors.Vocab at 0x1b4a4e6890>,\n",
       " '/en/thomson_financial': <gensim.models.keyedvectors.Vocab at 0x1b4a4e68d0>,\n",
       " '/en/international_atomic_energy_agency': <gensim.models.keyedvectors.Vocab at 0x1b4a4e6910>,\n",
       " '/en/everton_fc': <gensim.models.keyedvectors.Vocab at 0x1b4a4e6990>,\n",
       " '/en/dwyane_wade': <gensim.models.keyedvectors.Vocab at 0x1b4a4e6a10>,\n",
       " '/en/ultimate_fighting_championship': <gensim.models.keyedvectors.Vocab at 0x1b4a4e6a50>,\n",
       " '/en/stanley_cup': <gensim.models.keyedvectors.Vocab at 0x1b4a4e6ad0>,\n",
       " '/en/tony_blair': <gensim.models.keyedvectors.Vocab at 0x1b4a4e6b50>,\n",
       " '/en/damascus': <gensim.models.keyedvectors.Vocab at 0x1b4a4e6bd0>,\n",
       " '/en/mexican_federal_district': <gensim.models.keyedvectors.Vocab at 0x1b4a4e6c10>,\n",
       " '/en/sri_lankan_cricket_team': <gensim.models.keyedvectors.Vocab at 0x1b4a4e6c50>,\n",
       " '/en/saint_paul': <gensim.models.keyedvectors.Vocab at 0x1b4a4e6cd0>,\n",
       " '/en/capitol_hill_washington_d_c': <gensim.models.keyedvectors.Vocab at 0x1b4a4e6d10>,\n",
       " '/en/manila': <gensim.models.keyedvectors.Vocab at 0x1b4a4e6d90>,\n",
       " '/en/los_angeles_clippers': <gensim.models.keyedvectors.Vocab at 0x1b4a4e6dd0>,\n",
       " '/en/grammy_award': <gensim.models.keyedvectors.Vocab at 0x1b4a4e6e10>,\n",
       " '/en/western_australia': <gensim.models.keyedvectors.Vocab at 0x1b4a4e6e50>,\n",
       " '/en/dr_philos': <gensim.models.keyedvectors.Vocab at 0x1b4a4e6ed0>,\n",
       " '/en/french_open': <gensim.models.keyedvectors.Vocab at 0x1b4a4e6f50>,\n",
       " '/en/korea': <gensim.models.keyedvectors.Vocab at 0x1b4a4e6fd0>,\n",
       " '/en/new_jersey_nets': <gensim.models.keyedvectors.Vocab at 0x1b4a4eb050>,\n",
       " '/en/geneva': <gensim.models.keyedvectors.Vocab at 0x1b4a4eb0d0>,\n",
       " '/en/abu_dhabi': <gensim.models.keyedvectors.Vocab at 0x1b4a4eb150>,\n",
       " '/en/kosovo': <gensim.models.keyedvectors.Vocab at 0x1b4a4eb1d0>,\n",
       " '/en/playstation_3': <gensim.models.keyedvectors.Vocab at 0x1b4a4eb210>,\n",
       " '/en/southeast_asia': <gensim.models.keyedvectors.Vocab at 0x1b4a4eb250>,\n",
       " '/en/dick_cheney': <gensim.models.keyedvectors.Vocab at 0x1b4a4eb2d0>,\n",
       " '/en/verizon_communications': <gensim.models.keyedvectors.Vocab at 0x1b4a4eb310>,\n",
       " '/en/nouri_al-maliki': <gensim.models.keyedvectors.Vocab at 0x1b4a4eb350>,\n",
       " '/en/morgan_stanley': <gensim.models.keyedvectors.Vocab at 0x1b4a4eb390>,\n",
       " '/en/fc_internazionale_milano': <gensim.models.keyedvectors.Vocab at 0x1b4a4eb3d0>,\n",
       " '/en/sacramento': <gensim.models.keyedvectors.Vocab at 0x1b4a4eb450>,\n",
       " '/en/ron_paul': <gensim.models.keyedvectors.Vocab at 0x1b4a4eb4d0>,\n",
       " '/en/cincinnati_ohio': <gensim.models.keyedvectors.Vocab at 0x1b4a4eb510>,\n",
       " '/en/dvd': <gensim.models.keyedvectors.Vocab at 0x1b4a4eb550>,\n",
       " '/en/arizona_cardinals': <gensim.models.keyedvectors.Vocab at 0x1b4a4eb5d0>,\n",
       " '/en/richmond_virginia': <gensim.models.keyedvectors.Vocab at 0x1b4a4eb610>,\n",
       " '/en/usa_today': <gensim.models.keyedvectors.Vocab at 0x1b4a4eb690>,\n",
       " '/en/blackberry': <gensim.models.keyedvectors.Vocab at 0x1b4a4eb710>,\n",
       " '/en/phil_mickelson': <gensim.models.keyedvectors.Vocab at 0x1b4a4eb750>,\n",
       " '/en/american_league': <gensim.models.keyedvectors.Vocab at 0x1b4a4eb790>,\n",
       " '/en/all-star': <gensim.models.keyedvectors.Vocab at 0x1b4a4eb810>,\n",
       " '/en/tucson': <gensim.models.keyedvectors.Vocab at 0x1b4a4eb890>,\n",
       " '/en/grand_slam': <gensim.models.keyedvectors.Vocab at 0x1b4a4eb910>,\n",
       " '/en/cowboy': <gensim.models.keyedvectors.Vocab at 0x1b4a4eb990>,\n",
       " '/en/bank_of_england': <gensim.models.keyedvectors.Vocab at 0x1b4a4eb9d0>,\n",
       " '/en/sprint_nextel': <gensim.models.keyedvectors.Vocab at 0x1b4a4eba10>,\n",
       " '/en/bill': <gensim.models.keyedvectors.Vocab at 0x1b4a4eba50>,\n",
       " '/en/delhi': <gensim.models.keyedvectors.Vocab at 0x1b4a4ebb10>,\n",
       " '/en/salt_lake_city': <gensim.models.keyedvectors.Vocab at 0x1b4a4ebb50>,\n",
       " '/en/condoleezza_rice': <gensim.models.keyedvectors.Vocab at 0x1b4a4ebb90>,\n",
       " '/en/edmonton_oilers': <gensim.models.keyedvectors.Vocab at 0x1b4a4ebbd0>,\n",
       " '/en/santa_claus': <gensim.models.keyedvectors.Vocab at 0x1b4a4ebc50>,\n",
       " '/en/azerbaijan': <gensim.models.keyedvectors.Vocab at 0x1b4a4ebcd0>,\n",
       " '/en/southern_sudan': <gensim.models.keyedvectors.Vocab at 0x1b4a4ebd10>,\n",
       " '/en/cleveland_ohio': <gensim.models.keyedvectors.Vocab at 0x1b4a4ebd50>,\n",
       " '/en/department_of_defense': <gensim.models.keyedvectors.Vocab at 0x1b4a4ebd90>,\n",
       " '/en/ubs_ag': <gensim.models.keyedvectors.Vocab at 0x1b4a4ebe10>,\n",
       " '/en/gulf_coast_of_the_united_states': <gensim.models.keyedvectors.Vocab at 0x1b4a4ebe50>,\n",
       " '/en/rangers_fc': <gensim.models.keyedvectors.Vocab at 0x1b4a4ebed0>,\n",
       " '/en/lord': <gensim.models.keyedvectors.Vocab at 0x1b4a4ebf10>,\n",
       " '/en/news_corporation': <gensim.models.keyedvectors.Vocab at 0x1b4a4ebf90>,\n",
       " '/en/pacific_ten_conference': <gensim.models.keyedvectors.Vocab at 0x1b4a4ebfd0>,\n",
       " '/en/federal_government_of_the_united_states': <gensim.models.keyedvectors.Vocab at 0x1b4a4ee050>,\n",
       " '/en/liberation_tigers_of_tamil_eelam': <gensim.models.keyedvectors.Vocab at 0x1b4a4ee090>,\n",
       " '/en/bible': <gensim.models.keyedvectors.Vocab at 0x1b4a4ee110>,\n",
       " '/en/tampa_bay_lightning': <gensim.models.keyedvectors.Vocab at 0x1b4a4ee150>,\n",
       " '/en/target_corporation': <gensim.models.keyedvectors.Vocab at 0x1b4a4ee190>,\n",
       " '/en/comcast': <gensim.models.keyedvectors.Vocab at 0x1b4a4ee210>,\n",
       " '/en/conservatism': <gensim.models.keyedvectors.Vocab at 0x1b4a4ee250>,\n",
       " '/en/2008_summer_olympics': <gensim.models.keyedvectors.Vocab at 0x1b4a4ee290>,\n",
       " '/en/david_beckham': <gensim.models.keyedvectors.Vocab at 0x1b4a4ee2d0>,\n",
       " '/en/islamism': <gensim.models.keyedvectors.Vocab at 0x1b4a4ee350>,\n",
       " '/en/myspace': <gensim.models.keyedvectors.Vocab at 0x1b4a4ee3d0>,\n",
       " '/en/columbus_blue_jackets': <gensim.models.keyedvectors.Vocab at 0x1b4a4ee410>,\n",
       " '/en/calgary_flames': <gensim.models.keyedvectors.Vocab at 0x1b4a4ee450>,\n",
       " '/en/michelle_obama': <gensim.models.keyedvectors.Vocab at 0x1b4a4ee490>,\n",
       " '/en/algeria': <gensim.models.keyedvectors.Vocab at 0x1b4a4ee510>,\n",
       " '/en/virginia_polytechnic_institute_and_state_university': <gensim.models.keyedvectors.Vocab at 0x1b4a4ee550>,\n",
       " '/en/pyongyang': <gensim.models.keyedvectors.Vocab at 0x1b4a4ee5d0>,\n",
       " '/en/milwaukee': <gensim.models.keyedvectors.Vocab at 0x1b4a4ee650>,\n",
       " '/en/tim_tebow': <gensim.models.keyedvectors.Vocab at 0x1b4a4ee6d0>,\n",
       " '/en/dmitry_medvedev': <gensim.models.keyedvectors.Vocab at 0x1b4a4ee710>,\n",
       " '/en/joe_paterno': <gensim.models.keyedvectors.Vocab at 0x1b4a4ee790>,\n",
       " '/en/new_england': <gensim.models.keyedvectors.Vocab at 0x1b4a4ee810>,\n",
       " '/en/pro_bowl': <gensim.models.keyedvectors.Vocab at 0x1b4a4ee890>,\n",
       " '/en/new_south_wales': <gensim.models.keyedvectors.Vocab at 0x1b4a4ee8d0>,\n",
       " '/en/latino': <gensim.models.keyedvectors.Vocab at 0x1b4a4ee950>,\n",
       " '/en/moodys': <gensim.models.keyedvectors.Vocab at 0x1b4a4ee9d0>,\n",
       " '/en/federal_national_mortgage_association': <gensim.models.keyedvectors.Vocab at 0x1b4a4eea10>,\n",
       " '/en/clemson_university': <gensim.models.keyedvectors.Vocab at 0x1b4a4eea50>,\n",
       " '/en/john_kerry': <gensim.models.keyedvectors.Vocab at 0x1b4a4eead0>,\n",
       " '/en/morocco': <gensim.models.keyedvectors.Vocab at 0x1b4a4eeb50>,\n",
       " '/en/oklahoma_state_university_stillwater': <gensim.models.keyedvectors.Vocab at 0x1b4a4eeb90>,\n",
       " '/en/lindsay_lohan': <gensim.models.keyedvectors.Vocab at 0x1b4a4eebd0>,\n",
       " '/en/world_bank': <gensim.models.keyedvectors.Vocab at 0x1b4a4eec50>,\n",
       " '/en/labor': <gensim.models.keyedvectors.Vocab at 0x1b4a4eecd0>,\n",
       " '/en/wells_fargo': <gensim.models.keyedvectors.Vocab at 0x1b4a4eed50>,\n",
       " '/en/federal_emergency_management_agency': <gensim.models.keyedvectors.Vocab at 0x1b4a4eed90>,\n",
       " '/en/united_press_international': <gensim.models.keyedvectors.Vocab at 0x1b4a4eedd0>,\n",
       " '/en/roger_clemens': <gensim.models.keyedvectors.Vocab at 0x1b4a4eee10>,\n",
       " '/en/royal_dutch_shell': <gensim.models.keyedvectors.Vocab at 0x1b4a4eee50>,\n",
       " '/en/new_jersey_devils': <gensim.models.keyedvectors.Vocab at 0x1b4a4eee90>,\n",
       " '/en/celtic_fc': <gensim.models.keyedvectors.Vocab at 0x1b4a4eef10>,\n",
       " '/en/generally_accepted_accounting_principles': <gensim.models.keyedvectors.Vocab at 0x1b4a4eef50>,\n",
       " '/en/form_10-k': <gensim.models.keyedvectors.Vocab at 0x1b4a4eefd0>,\n",
       " '/en/united_states_department_of_commerce': <gensim.models.keyedvectors.Vocab at 0x1b4a4f6050>,\n",
       " '/en/united_states_department_of_justice': <gensim.models.keyedvectors.Vocab at 0x1b4a4f6090>,\n",
       " '/en/central_america': <gensim.models.keyedvectors.Vocab at 0x1b4a4f60d0>,\n",
       " '/en/timothy_f_geithner': <gensim.models.keyedvectors.Vocab at 0x1b4a4f6110>,\n",
       " '/en/spartans': <gensim.models.keyedvectors.Vocab at 0x1b4a4f6190>,\n",
       " '/en/san_jose': <gensim.models.keyedvectors.Vocab at 0x1b4a4f6210>,\n",
       " '/en/javascript': <gensim.models.keyedvectors.Vocab at 0x1b4a4f6290>,\n",
       " '/en/liberal_democrats': <gensim.models.keyedvectors.Vocab at 0x1b4a4f62d0>,\n",
       " '/en/kazakhstan': <gensim.models.keyedvectors.Vocab at 0x1b4a4f6350>,\n",
       " '/en/honda': <gensim.models.keyedvectors.Vocab at 0x1b4a4f63d0>,\n",
       " '/en/nebraska_cornhuskers': <gensim.models.keyedvectors.Vocab at 0x1b4a4f6410>,\n",
       " '/en/easter': <gensim.models.keyedvectors.Vocab at 0x1b4a4f6490>,\n",
       " '/en/halloween': <gensim.models.keyedvectors.Vocab at 0x1b4a4f6510>,\n",
       " '/en/bernard_l_madoff': <gensim.models.keyedvectors.Vocab at 0x1b4a4f6550>,\n",
       " '/en/macintosh': <gensim.models.keyedvectors.Vocab at 0x1b4a4f65d0>,\n",
       " '/en/university_of_connecticut': <gensim.models.keyedvectors.Vocab at 0x1b4a4f6610>,\n",
       " '/en/division_i': <gensim.models.keyedvectors.Vocab at 0x1b4a4f6690>,\n",
       " '/en/liberalism': <gensim.models.keyedvectors.Vocab at 0x1b4a4f6710>,\n",
       " '/en/phoenix_coyotes': <gensim.models.keyedvectors.Vocab at 0x1b4a4f6750>,\n",
       " '/en/united_states_capitol': <gensim.models.keyedvectors.Vocab at 0x1b4a4f6790>,\n",
       " '/en/minnesota_timberwolves': <gensim.models.keyedvectors.Vocab at 0x1b4a4f67d0>,\n",
       " '/en/karachi': <gensim.models.keyedvectors.Vocab at 0x1b4a4f6850>,\n",
       " '/en/itunes': <gensim.models.keyedvectors.Vocab at 0x1b4a4f68d0>,\n",
       " '/en/sovereign_state': <gensim.models.keyedvectors.Vocab at 0x1b4a4f6910>,\n",
       " '/en/iceland': <gensim.models.keyedvectors.Vocab at 0x1b4a4f6990>,\n",
       " '/en/federal_home_loan_mortgage_corporation': <gensim.models.keyedvectors.Vocab at 0x1b4a4f69d0>,\n",
       " '/en/federal_deposit_insurance_corporation': <gensim.models.keyedvectors.Vocab at 0x1b4a4f6a10>,\n",
       " '/en/dallas_stars': <gensim.models.keyedvectors.Vocab at 0x1b4a4f6a50>,\n",
       " '/en/jimmie_johnson': <gensim.models.keyedvectors.Vocab at 0x1b4a4f6a90>,\n",
       " '/en/arizona_state_university': <gensim.models.keyedvectors.Vocab at 0x1b4a4f6ad0>,\n",
       " '/en/maoism': <gensim.models.keyedvectors.Vocab at 0x1b4a4f6b50>,\n",
       " '/en/merrill_lynch': <gensim.models.keyedvectors.Vocab at 0x1b4a4f6b90>,\n",
       " '/en/lance_armstrong': <gensim.models.keyedvectors.Vocab at 0x1b4a4f6bd0>,\n",
       " '/en/minnesota_wild': <gensim.models.keyedvectors.Vocab at 0x1b4a4f6c10>,\n",
       " '/en/ronald_reagan': <gensim.models.keyedvectors.Vocab at 0x1b4a4f6c50>,\n",
       " '/en/mcdonalds': <gensim.models.keyedvectors.Vocab at 0x1b4a4f6cd0>,\n",
       " '/en/house_of_representatives_of_japan': <gensim.models.keyedvectors.Vocab at 0x1b4a4f6d10>,\n",
       " '/en/vienna': <gensim.models.keyedvectors.Vocab at 0x1b4a4f6d90>,\n",
       " '/en/new_year': <gensim.models.keyedvectors.Vocab at 0x1b4a4f6e10>,\n",
       " '/en/rupert_murdoch': <gensim.models.keyedvectors.Vocab at 0x1b4a4f6e50>,\n",
       " '/en/omaha_nebraska': <gensim.models.keyedvectors.Vocab at 0x1b4a4f6e90>,\n",
       " '/en/ted_kennedy': <gensim.models.keyedvectors.Vocab at 0x1b4a4f6f10>,\n",
       " '/en/barry_bonds': <gensim.models.keyedvectors.Vocab at 0x1b4a4f6f90>,\n",
       " '/en/city_hall': <gensim.models.keyedvectors.Vocab at 0x1b4a4f9050>,\n",
       " '/en/martin_luther_king_jr': <gensim.models.keyedvectors.Vocab at 0x1b4a4f9090>,\n",
       " '/en/cambodia': <gensim.models.keyedvectors.Vocab at 0x1b4a4f9110>,\n",
       " '/en/louisville_cardinals': <gensim.models.keyedvectors.Vocab at 0x1b4a4f9150>,\n",
       " '/en/louisville': <gensim.models.keyedvectors.Vocab at 0x1b4a4f91d0>,\n",
       " '/en/euro': <gensim.models.keyedvectors.Vocab at 0x1b4a4f9210>,\n",
       " '/en/rutgers_university': <gensim.models.keyedvectors.Vocab at 0x1b4a4f9290>,\n",
       " '/en/piracy': <gensim.models.keyedvectors.Vocab at 0x1b4a4f9310>,\n",
       " '/en/ftse_100_index': <gensim.models.keyedvectors.Vocab at 0x1b4a4f9350>,\n",
       " '/en/frankfurt': <gensim.models.keyedvectors.Vocab at 0x1b4a4f93d0>,\n",
       " '/en/time': <gensim.models.keyedvectors.Vocab at 0x1b4a4f9410>,\n",
       " '/en/paul_ryan': <gensim.models.keyedvectors.Vocab at 0x1b4a4f94d0>,\n",
       " '/en/kentucky_wildcats_mens_basketball': <gensim.models.keyedvectors.Vocab at 0x1b4a4f9510>,\n",
       " '/en/nashville_predators': <gensim.models.keyedvectors.Vocab at 0x1b4a4f9550>,\n",
       " '/en/wikileaks': <gensim.models.keyedvectors.Vocab at 0x1b4a4f95d0>,\n",
       " '/en/bollywood': <gensim.models.keyedvectors.Vocab at 0x1b4a4f9650>,\n",
       " '/en/memphis_tennessee': <gensim.models.keyedvectors.Vocab at 0x1b4a4f9690>,\n",
       " '/en/tibetan_people': <gensim.models.keyedvectors.Vocab at 0x1b4a4f96d0>,\n",
       " '/en/west_indian_cricket_team': <gensim.models.keyedvectors.Vocab at 0x1b4a4f9710>,\n",
       " '/en/manchester_united_kingdom': <gensim.models.keyedvectors.Vocab at 0x1b4a4f9750>,\n",
       " '/en/ebitda': <gensim.models.keyedvectors.Vocab at 0x1b4a4f97d0>,\n",
       " '/en/catholic': <gensim.models.keyedvectors.Vocab at 0x1b4a4f9850>,\n",
       " '/en/jerry_sandusky': <gensim.models.keyedvectors.Vocab at 0x1b4a4f9890>,\n",
       " '/en/new_york_islanders': <gensim.models.keyedvectors.Vocab at 0x1b4a4f98d0>,\n",
       " '/en/sunderland': <gensim.models.keyedvectors.Vocab at 0x1b4a4f9950>,\n",
       " '/en/motorola': <gensim.models.keyedvectors.Vocab at 0x1b4a4f99d0>,\n",
       " '/en/arsene_wenger': <gensim.models.keyedvectors.Vocab at 0x1b4a4f9a10>,\n",
       " '/en/kirsty_yallop': <gensim.models.keyedvectors.Vocab at 0x1b4a4f9a50>,\n",
       " '/en/kashmir': <gensim.models.keyedvectors.Vocab at 0x1b4a4f9ad0>,\n",
       " '/en/eastern_europe': <gensim.models.keyedvectors.Vocab at 0x1b4a4f9b10>,\n",
       " '/en/kansas_city': <gensim.models.keyedvectors.Vocab at 0x1b4a4f9b90>,\n",
       " '/en/wayne_rooney': <gensim.models.keyedvectors.Vocab at 0x1b4a4f9bd0>,\n",
       " '/en/tour_de_france': <gensim.models.keyedvectors.Vocab at 0x1b4a4f9c10>,\n",
       " '/en/honduras': <gensim.models.keyedvectors.Vocab at 0x1b4a4f9c90>,\n",
       " '/en/2012_summer_olympics': <gensim.models.keyedvectors.Vocab at 0x1b4a4f9cd0>,\n",
       " '/en/cote_divoire': <gensim.models.keyedvectors.Vocab at 0x1b4a4f9d10>,\n",
       " '/en/belarus': <gensim.models.keyedvectors.Vocab at 0x1b4a4f9d90>,\n",
       " '/en/financial_statements': <gensim.models.keyedvectors.Vocab at 0x1b4a4f9dd0>,\n",
       " '/en/kurdistan': <gensim.models.keyedvectors.Vocab at 0x1b4a4f9e50>,\n",
       " '/en/central_bureau_of_investigation': <gensim.models.keyedvectors.Vocab at 0x1b4a4f9e90>,\n",
       " '/en/silvio_berlusconi': <gensim.models.keyedvectors.Vocab at 0x1b4a4f9ed0>,\n",
       " '/en/guantanamo_bay': <gensim.models.keyedvectors.Vocab at 0x1b4a4f9f10>,\n",
       " '/en/puma': <gensim.models.keyedvectors.Vocab at 0x1b4a4f9f50>,\n",
       " '/en/starbucks': <gensim.models.keyedvectors.Vocab at 0x1b4a4fe050>,\n",
       " '/en/scott_walker_1967': <gensim.models.keyedvectors.Vocab at 0x1b4a4fe090>,\n",
       " '/en/advanced_micro_devices': <gensim.models.keyedvectors.Vocab at 0x1b4a4fe0d0>,\n",
       " '/en/mars': <gensim.models.keyedvectors.Vocab at 0x1b4a4fe110>,\n",
       " '/en/east_coast_of_the_united_states': <gensim.models.keyedvectors.Vocab at 0x1b4a4fe190>,\n",
       " '/en/g20_industrial_nations': <gensim.models.keyedvectors.Vocab at 0x1b4a4fe1d0>,\n",
       " '/m/0jt7v76': <gensim.models.keyedvectors.Vocab at 0x1b4a4fe250>,\n",
       " '/en/east': <gensim.models.keyedvectors.Vocab at 0x1b4a4fe290>,\n",
       " '/en/north_africa': <gensim.models.keyedvectors.Vocab at 0x1b4a4fe310>,\n",
       " '/en/ecuador': <gensim.models.keyedvectors.Vocab at 0x1b4a4fe390>,\n",
       " '/en/lewis_hamilton': <gensim.models.keyedvectors.Vocab at 0x1b4a4fe3d0>,\n",
       " '/en/kansas_state_university': <gensim.models.keyedvectors.Vocab at 0x1b4a4fe410>,\n",
       " '/en/netflix': <gensim.models.keyedvectors.Vocab at 0x1b4a4fe490>,\n",
       " '/en/amex': <gensim.models.keyedvectors.Vocab at 0x1b4a4fe4d0>,\n",
       " '/en/rio_de_janeiro': <gensim.models.keyedvectors.Vocab at 0x1b4a4fe550>,\n",
       " '/en/texas_tech_university': <gensim.models.keyedvectors.Vocab at 0x1b4a4fe590>,\n",
       " '/en/cabinet': <gensim.models.keyedvectors.Vocab at 0x1b4a4fe610>,\n",
       " '/en/african_national_congress': <gensim.models.keyedvectors.Vocab at 0x1b4a4fe650>,\n",
       " '/en/colorado_avalanche': <gensim.models.keyedvectors.Vocab at 0x1b4a4fe690>,\n",
       " '/en/cyprus': <gensim.models.keyedvectors.Vocab at 0x1b4a4fe710>,\n",
       " '/en/pfizer': <gensim.models.keyedvectors.Vocab at 0x1b4a4fe790>,\n",
       " '/en/hindu': <gensim.models.keyedvectors.Vocab at 0x1b4a4fe810>,\n",
       " '/en/rwanda': <gensim.models.keyedvectors.Vocab at 0x1b4a4fe890>,\n",
       " '/en/michael_bloomberg': <gensim.models.keyedvectors.Vocab at 0x1b4a4fe8d0>,\n",
       " '/en/west_ham_united_fc': <gensim.models.keyedvectors.Vocab at 0x1b4a4fe910>,\n",
       " '/en/darfur': <gensim.models.keyedvectors.Vocab at 0x1b4a4fe990>,\n",
       " '/en/ferrari': <gensim.models.keyedvectors.Vocab at 0x1b4a4fea10>,\n",
       " '/en/manny_pacquiao': <gensim.models.keyedvectors.Vocab at 0x1b4a4fea50>,\n",
       " '/en/reader': <gensim.models.keyedvectors.Vocab at 0x1b4a4fead0>,\n",
       " '/en/kevin_rudd': <gensim.models.keyedvectors.Vocab at 0x1b4a4feb50>,\n",
       " '/en/united_states_department_of_homeland_security': <gensim.models.keyedvectors.Vocab at 0x1b4a4feb90>,\n",
       " '/en/indian_premier_league': <gensim.models.keyedvectors.Vocab at 0x1b4a4febd0>,\n",
       " '/en/carolina_hurricanes': <gensim.models.keyedvectors.Vocab at 0x1b4a4fec10>,\n",
       " '/en/major_league_soccer': <gensim.models.keyedvectors.Vocab at 0x1b4a4fec50>,\n",
       " '/en/wii': <gensim.models.keyedvectors.Vocab at 0x1b4a4fec90>,\n",
       " '/en/nintendo': <gensim.models.keyedvectors.Vocab at 0x1b4a4fed50>,\n",
       " '/en/portsmouth_fc': <gensim.models.keyedvectors.Vocab at 0x1b4a4fed90>,\n",
       " '/en/world_trade_organization': <gensim.models.keyedvectors.Vocab at 0x1b4a4fedd0>,\n",
       " '/en/asif_ali_zardari': <gensim.models.keyedvectors.Vocab at 0x1b4a4fee10>,\n",
       " '/en/brisbane': <gensim.models.keyedvectors.Vocab at 0x1b4a4fee90>,\n",
       " '/en/all-america': <gensim.models.keyedvectors.Vocab at 0x1b4a4fef10>,\n",
       " '/en/coast_guard': <gensim.models.keyedvectors.Vocab at 0x1b4a4fef90>,\n",
       " '/en/auckland': <gensim.models.keyedvectors.Vocab at 0x1b4a500050>,\n",
       " '/en/hbo': <gensim.models.keyedvectors.Vocab at 0x1b4a500090>,\n",
       " '/en/rugby_world_cup': <gensim.models.keyedvectors.Vocab at 0x1b4a500110>,\n",
       " '/en/warren_buffett': <gensim.models.keyedvectors.Vocab at 0x1b4a500150>,\n",
       " '/en/ehud_olmert': <gensim.models.keyedvectors.Vocab at 0x1b4a5001d0>,\n",
       " '/en/americas': <gensim.models.keyedvectors.Vocab at 0x1b4a500250>,\n",
       " '/en/sf_bay_area': <gensim.models.keyedvectors.Vocab at 0x1b4a5002d0>,\n",
       " '/en/dominican_republic': <gensim.models.keyedvectors.Vocab at 0x1b4a500310>,\n",
       " '/en/georgia_institute_of_technology': <gensim.models.keyedvectors.Vocab at 0x1b4a500350>,\n",
       " '/en/university_of_southern_california': <gensim.models.keyedvectors.Vocab at 0x1b4a500390>,\n",
       " '/en/kyle_busch': <gensim.models.keyedvectors.Vocab at 0x1b4a500410>,\n",
       " '/en/united_states_department_of_energy': <gensim.models.keyedvectors.Vocab at 0x1b4a500450>,\n",
       " '/en/western': <gensim.models.keyedvectors.Vocab at 0x1b4a5004d0>,\n",
       " '/en/notre_dame_fighting_irish': <gensim.models.keyedvectors.Vocab at 0x1b4a500510>,\n",
       " '/en/deutsche_bank': <gensim.models.keyedvectors.Vocab at 0x1b4a500550>,\n",
       " '/en/madonna': <gensim.models.keyedvectors.Vocab at 0x1b4a5005d0>,\n",
       " '/en/mike_huckabee': <gensim.models.keyedvectors.Vocab at 0x1b4a500610>,\n",
       " '/en/michael_phelps': <gensim.models.keyedvectors.Vocab at 0x1b4a500650>,\n",
       " '/en/west_africa': <gensim.models.keyedvectors.Vocab at 0x1b4a5006d0>,\n",
       " '/en/wolverhampton_wanderers_fc': <gensim.models.keyedvectors.Vocab at 0x1b4a500710>,\n",
       " '/en/arkansas_razorbacks_football': <gensim.models.keyedvectors.Vocab at 0x1b4a500750>,\n",
       " '/en/britney_spears': <gensim.models.keyedvectors.Vocab at 0x1b4a500790>,\n",
       " '/en/royal_canadian_mounted_police': <gensim.models.keyedvectors.Vocab at 0x1b4a5007d0>,\n",
       " '/en/des_moines': <gensim.models.keyedvectors.Vocab at 0x1b4a500850>,\n",
       " '/en/albany': <gensim.models.keyedvectors.Vocab at 0x1b4a5008d0>,\n",
       " '/en/fort_worth': <gensim.models.keyedvectors.Vocab at 0x1b4a500950>,\n",
       " '/en/ben_roethlisberger': <gensim.models.keyedvectors.Vocab at 0x1b4a500990>,\n",
       " '/en/fc_bayern_munich': <gensim.models.keyedvectors.Vocab at 0x1b4a5009d0>,\n",
       " '/en/long_island': <gensim.models.keyedvectors.Vocab at 0x1b4a500a50>,\n",
       " '/en/western_europe': <gensim.models.keyedvectors.Vocab at 0x1b4a500a90>,\n",
       " '/en/rudy_giuliani': <gensim.models.keyedvectors.Vocab at 0x1b4a500ad0>,\n",
       " '/en/georgia_bulldogs': <gensim.models.keyedvectors.Vocab at 0x1b4a500b10>,\n",
       " '/en/northeastern_united_states': <gensim.models.keyedvectors.Vocab at 0x1b4a500b50>,\n",
       " '/en/linux': <gensim.models.keyedvectors.Vocab at 0x1b4a500bd0>,\n",
       " '/en/kandahar': <gensim.models.keyedvectors.Vocab at 0x1b4a500c50>,\n",
       " '/en/lady_gaga': <gensim.models.keyedvectors.Vocab at 0x1b4a500cd0>,\n",
       " '/en/fulham_fc': <gensim.models.keyedvectors.Vocab at 0x1b4a500d50>,\n",
       " '/en/oklahoma_city': <gensim.models.keyedvectors.Vocab at 0x1b4a500d90>,\n",
       " '/en/world_wrestling_entertainment': <gensim.models.keyedvectors.Vocab at 0x1b4a500dd0>,\n",
       " '/en/bmw': <gensim.models.keyedvectors.Vocab at 0x1b4a500e10>,\n",
       " '/en/exxonmobil': <gensim.models.keyedvectors.Vocab at 0x1b4a500ed0>,\n",
       " '/en/mtv': <gensim.models.keyedvectors.Vocab at 0x1b4a500f10>,\n",
       " '/en/english': <gensim.models.keyedvectors.Vocab at 0x1b4a500fd0>,\n",
       " '/en/purdue_boilermakers': <gensim.models.keyedvectors.Vocab at 0x1b4a504050>,\n",
       " '/en/touchdown': <gensim.models.keyedvectors.Vocab at 0x1b4a5040d0>,\n",
       " '/en/mediterranean_sea': <gensim.models.keyedvectors.Vocab at 0x1b4a504110>,\n",
       " '/en/cricket_world_cup': <gensim.models.keyedvectors.Vocab at 0x1b4a504150>,\n",
       " '/en/columbia': <gensim.models.keyedvectors.Vocab at 0x1b4a5041d0>,\n",
       " '/en/fa_cup': <gensim.models.keyedvectors.Vocab at 0x1b4a504250>,\n",
       " '/en/newark': <gensim.models.keyedvectors.Vocab at 0x1b4a5042d0>,\n",
       " '/en/andy_roddick': <gensim.models.keyedvectors.Vocab at 0x1b4a504310>,\n",
       " '/en/bosnia_and_herzegovina': <gensim.models.keyedvectors.Vocab at 0x1b4a504350>,\n",
       " '/en/united_airlines': <gensim.models.keyedvectors.Vocab at 0x1b4a504390>,\n",
       " '/en/amsterdam': <gensim.models.keyedvectors.Vocab at 0x1b4a504410>,\n",
       " '/en/hsbc': <gensim.models.keyedvectors.Vocab at 0x1b4a504450>,\n",
       " '/en/international_red_cross_and_red_crescent_movement': <gensim.models.keyedvectors.Vocab at 0x1b4a5044d0>,\n",
       " '/en/edmonton': <gensim.models.keyedvectors.Vocab at 0x1b4a504550>,\n",
       " '/en/atlanta_thrashers': <gensim.models.keyedvectors.Vocab at 0x1b4a504590>,\n",
       " '/en/ireland': <gensim.models.keyedvectors.Vocab at 0x1b4a504610>,\n",
       " '/en/kuala_lumpur': <gensim.models.keyedvectors.Vocab at 0x1b4a504650>,\n",
       " '/en/the_guardian': <gensim.models.keyedvectors.Vocab at 0x1b4a504690>,\n",
       " '/en/england_national_rugby_union_team': <gensim.models.keyedvectors.Vocab at 0x1b4a5046d0>,\n",
       " '/en/news': <gensim.models.keyedvectors.Vocab at 0x1b4a504710>,\n",
       " '/en/xbox_360': <gensim.models.keyedvectors.Vocab at 0x1b4a5047d0>,\n",
       " '/en/west_coast_of_the_united_states': <gensim.models.keyedvectors.Vocab at 0x1b4a504810>,\n",
       " '/en/elizabeth_ii_of_the_united_kingdom': <gensim.models.keyedvectors.Vocab at 0x1b4a504850>,\n",
       " '/en/aol': <gensim.models.keyedvectors.Vocab at 0x1b4a504890>,\n",
       " '/en/harry_potter': <gensim.models.keyedvectors.Vocab at 0x1b4a504910>,\n",
       " '/en/best_buy': <gensim.models.keyedvectors.Vocab at 0x1b4a504990>,\n",
       " '/en/christopher_j_christie': <gensim.models.keyedvectors.Vocab at 0x1b4a5049d0>,\n",
       " '/en/national_health_service': <gensim.models.keyedvectors.Vocab at 0x1b4a504a10>,\n",
       " '/en/voice_over_ip': <gensim.models.keyedvectors.Vocab at 0x1b4a504a50>,\n",
       " '/en/tibet': <gensim.models.keyedvectors.Vocab at 0x1b4a504ad0>,\n",
       " '/en/australian_open': <gensim.models.keyedvectors.Vocab at 0x1b4a504b10>,\n",
       " '/en/oakland_california': <gensim.models.keyedvectors.Vocab at 0x1b4a504b50>,\n",
       " '/en/orlando': <gensim.models.keyedvectors.Vocab at 0x1b4a504bd0>,\n",
       " '/en/diplomatic_mission': <gensim.models.keyedvectors.Vocab at 0x1b4a504c10>,\n",
       " '/en/arlington_texas': <gensim.models.keyedvectors.Vocab at 0x1b4a504c50>,\n",
       " '/en/blackburn_rovers_fc': <gensim.models.keyedvectors.Vocab at 0x1b4a504c90>,\n",
       " '/en/patient_protection_and_affordable_care_act': <gensim.models.keyedvectors.Vocab at 0x1b4a504cd0>,\n",
       " '/en/derek_jeter': <gensim.models.keyedvectors.Vocab at 0x1b4a504d50>,\n",
       " '/en/glasgow': <gensim.models.keyedvectors.Vocab at 0x1b4a504dd0>,\n",
       " '/en/kim_kardashian': <gensim.models.keyedvectors.Vocab at 0x1b4a504e10>,\n",
       " '/en/airbus': <gensim.models.keyedvectors.Vocab at 0x1b4a504e90>,\n",
       " '/en/oprah_winfrey': <gensim.models.keyedvectors.Vocab at 0x1b4a504ed0>,\n",
       " '/en/beirut': <gensim.models.keyedvectors.Vocab at 0x1b4a504f50>,\n",
       " '/en/benazir_bhutto': <gensim.models.keyedvectors.Vocab at 0x1b4a504f90>,\n",
       " '/en/compact_disc': <gensim.models.keyedvectors.Vocab at 0x1b4a504fd0>,\n",
       " '/en/aung_san_suu_kyi': <gensim.models.keyedvectors.Vocab at 0x1b4a509050>,\n",
       " '/en/jacob_zuma': <gensim.models.keyedvectors.Vocab at 0x1b4a5090d0>,\n",
       " '/en/calcutta': <gensim.models.keyedvectors.Vocab at 0x1b4a509150>,\n",
       " '/en/spain_national_football_team': <gensim.models.keyedvectors.Vocab at 0x1b4a509190>,\n",
       " '/en/dwight_howard': <gensim.models.keyedvectors.Vocab at 0x1b4a5091d0>,\n",
       " '/en/hu_jintao': <gensim.models.keyedvectors.Vocab at 0x1b4a509250>,\n",
       " '/en/chevron_corporation': <gensim.models.keyedvectors.Vocab at 0x1b4a509290>,\n",
       " '/en/fidel_castro': <gensim.models.keyedvectors.Vocab at 0x1b4a5092d0>,\n",
       " '/en/muslim_brotherhood': <gensim.models.keyedvectors.Vocab at 0x1b4a509310>,\n",
       " '/en/bhp_billiton': <gensim.models.keyedvectors.Vocab at 0x1b4a509350>,\n",
       " '/en/slovakia': <gensim.models.keyedvectors.Vocab at 0x1b4a5093d0>,\n",
       " '/en/northern_california': <gensim.models.keyedvectors.Vocab at 0x1b4a509410>,\n",
       " '/en/president': <gensim.models.keyedvectors.Vocab at 0x1b4a509490>,\n",
       " '/en/oregon_ducks_football': <gensim.models.keyedvectors.Vocab at 0x1b4a5094d0>,\n",
       " '/en/roger_goodell': <gensim.models.keyedvectors.Vocab at 0x1b4a509510>,\n",
       " '/en/carmelo_anthony': <gensim.models.keyedvectors.Vocab at 0x1b4a509550>,\n",
       " '/en/cristiano_ronaldo': <gensim.models.keyedvectors.Vocab at 0x1b4a509590>,\n",
       " '/en/chiefs': <gensim.models.keyedvectors.Vocab at 0x1b4a509610>,\n",
       " '/en/tony_stewart': <gensim.models.keyedvectors.Vocab at 0x1b4a509650>,\n",
       " '/en/royal_bank_of_scotland': <gensim.models.keyedvectors.Vocab at 0x1b4a509690>,\n",
       " '/en/united_states_department_of_veterans_affairs': <gensim.models.keyedvectors.Vocab at 0x1b4a5096d0>,\n",
       " '/en/charlotte': <gensim.models.keyedvectors.Vocab at 0x1b4a509750>,\n",
       " '/en/istanbul': <gensim.models.keyedvectors.Vocab at 0x1b4a5097d0>,\n",
       " '/en/nikkei_225': <gensim.models.keyedvectors.Vocab at 0x1b4a509850>,\n",
       " '/en/initial_public_offering': <gensim.models.keyedvectors.Vocab at 0x1b4a509890>,\n",
       " '/en/yale_university': <gensim.models.keyedvectors.Vocab at 0x1b4a5098d0>,\n",
       " '/en/new_york_daily_news': <gensim.models.keyedvectors.Vocab at 0x1b4a509910>,\n",
       " '/en/sidney_crosby': <gensim.models.keyedvectors.Vocab at 0x1b4a509950>,\n",
       " '/en/david_petraeus': <gensim.models.keyedvectors.Vocab at 0x1b4a509990>,\n",
       " '/en/gabrielle_giffords': <gensim.models.keyedvectors.Vocab at 0x1b4a5099d0>,\n",
       " '/en/the_bahamas': <gensim.models.keyedvectors.Vocab at 0x1b4a509a50>,\n",
       " '/en/lahore': <gensim.models.keyedvectors.Vocab at 0x1b4a509ad0>,\n",
       " '/en/chennai': <gensim.models.keyedvectors.Vocab at 0x1b4a509b50>,\n",
       " '/en/al_gore': <gensim.models.keyedvectors.Vocab at 0x1b4a509bd0>,\n",
       " '/en/justin_bieber': <gensim.models.keyedvectors.Vocab at 0x1b4a509c10>,\n",
       " '/en/tanzania': <gensim.models.keyedvectors.Vocab at 0x1b4a509c90>,\n",
       " '/en/the_times': <gensim.models.keyedvectors.Vocab at 0x1b4a509d10>,\n",
       " '/en/arabic_language': <gensim.models.keyedvectors.Vocab at 0x1b4a509d50>,\n",
       " '/en/windows_vista': <gensim.models.keyedvectors.Vocab at 0x1b4a509d90>,\n",
       " '/en/the_today_show': <gensim.models.keyedvectors.Vocab at 0x1b4a509dd0>,\n",
       " '/en/brigham_young_university': <gensim.models.keyedvectors.Vocab at 0x1b4a509e10>,\n",
       " '/en/rio_tinto_group': <gensim.models.keyedvectors.Vocab at 0x1b4a509e50>,\n",
       " ...}"
      ]
     },
     "execution_count": 34,
     "metadata": {},
     "output_type": "execute_result"
    }
   ],
   "source": [
    "model.entity_embedding.vocab"
   ]
  },
  {
   "cell_type": "code",
   "execution_count": null,
   "metadata": {},
   "outputs": [],
   "source": []
  }
 ],
 "metadata": {
  "kernelspec": {
   "display_name": "Python 3",
   "language": "python",
   "name": "python3"
  },
  "language_info": {
   "codemirror_mode": {
    "name": "ipython",
    "version": 3
   },
   "file_extension": ".py",
   "mimetype": "text/x-python",
   "name": "python",
   "nbconvert_exporter": "python",
   "pygments_lexer": "ipython3",
   "version": "3.7.6"
  },
  "pycharm": {
   "stem_cell": {
    "cell_type": "raw",
    "metadata": {
     "collapsed": false
    },
    "source": []
   }
  },
  "toc": {
   "base_numbering": 1,
   "nav_menu": {},
   "number_sections": true,
   "sideBar": true,
   "skip_h1_title": false,
   "title_cell": "Table of Contents",
   "title_sidebar": "Contents",
   "toc_cell": false,
   "toc_position": {},
   "toc_section_display": true,
   "toc_window_display": false
  }
 },
 "nbformat": 4,
 "nbformat_minor": 2
}
