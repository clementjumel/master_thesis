{
 "cells": [
  {
   "cell_type": "markdown",
   "metadata": {},
   "source": [
    "## Setup"
   ]
  },
  {
   "cell_type": "code",
   "execution_count": 1,
   "metadata": {
    "ExecuteTime": {
     "end_time": "2019-04-13T03:57:03.299844Z",
     "start_time": "2019-04-13T03:57:03.266445Z"
    },
    "pycharm": {
     "is_executing": false
    }
   },
   "outputs": [],
   "source": [
    "import sys\n",
    "sys.path.append('../')\n",
    "del sys\n",
    "%reload_ext autoreload\n",
    "%autoreload 2"
   ]
  },
  {
   "cell_type": "code",
   "execution_count": 2,
   "metadata": {
    "ExecuteTime": {
     "end_time": "2019-04-13T03:57:03.449865Z",
     "start_time": "2019-04-13T03:57:03.408497Z"
    },
    "pycharm": {
     "is_executing": false
    }
   },
   "outputs": [],
   "source": [
    "from modeling.pipeline import Pipeline\n",
    "from modeling.nn import MLP\n",
    "from modeling.utils import rank, ap_at_k, ndcg\n",
    "\n",
    "import torch\n",
    "from numpy import mean, arange\n",
    "import matplotlib.pyplot as plt"
   ]
  },
  {
   "cell_type": "markdown",
   "metadata": {},
   "source": [
    "## Display functions"
   ]
  },
  {
   "cell_type": "code",
   "execution_count": 3,
   "metadata": {},
   "outputs": [],
   "source": [
    "def show_pipeline(pipeline):\n",
    "    for inputs, targets in pipeline.train_loader[:10]:\n",
    "        print(\"\\nInputs:\")\n",
    "        for key, item in inputs.items():\n",
    "            print(key, ':', item)\n",
    "\n",
    "        print(\"\\nTargets:\")\n",
    "        print(targets)\n",
    "\n",
    "        if sum(targets) > 0:\n",
    "            print(\"Good answers:\")\n",
    "            for i in range(len(targets)):\n",
    "                if targets[i]:\n",
    "                    print(inputs['choices'][i])\n",
    "                    \n",
    "def show_model(pipeline, model):\n",
    "    for inputs, targets in pipeline.train_loader[:100]:\n",
    "        features = model.features(inputs)\n",
    "        outputs = model.pred(features)\n",
    "        ranks = rank(outputs)\n",
    "        score = model.score(ranks, targets, model.k)\n",
    "\n",
    "        if sum(targets) > 0:\n",
    "            mask = targets > 0\n",
    "            grades = outputs[:, 1][mask]\n",
    "            ranks = ranks[mask]\n",
    "            print(\"score: %.3f\" % score)\n",
    "            print(\"ranks of the true labels:\", ranks, \", grades of the true labels:\", grades)\n",
    "            print()\n",
    "            \n",
    "def plot_metrics(train_losses, train_scores, valid_losses, valid_scores):\n",
    "    epoch_number, epoch_length = len(train_losses), len(train_losses[0])\n",
    "\n",
    "    x1 = arange(0, epoch_number, 1./epoch_length)\n",
    "    x2 = arange(1, epoch_number + 1)\n",
    "\n",
    "    flatten_train_losses = [loss for epoch_losses in train_losses for loss in epoch_losses]\n",
    "    flatten_train_scores = [score for epoch_scores in train_scores for score in epoch_scores]\n",
    "    flatten_valid_losses = [mean(losses) for losses in valid_losses]\n",
    "    flatten_valid_scores = [mean(scores) for scores in valid_scores]\n",
    "\n",
    "    fig, ax1 = plt.subplots(figsize=(15, 5))\n",
    "    ax1.set_xlabel('epochs')\n",
    "\n",
    "    color = 'tab:red'\n",
    "    ax1.set_yscale('log')\n",
    "    ax1.plot(x1, flatten_train_losses, color=color, label='train loss')\n",
    "    ax1.set_ylabel('loss', color=color)\n",
    "    ax1.tick_params(axis='y', labelcolor=color)\n",
    "    color = 'tab:orange'\n",
    "    ax1.scatter(x2, flatten_valid_losses, color=color, label='valid loss')\n",
    "\n",
    "    color = 'tab:blue'\n",
    "    ax2 = ax1.twinx()\n",
    "    ax2.plot(x1, flatten_train_scores, color=color, label='score')\n",
    "    ax2.set_ylabel('score', color=color)\n",
    "    ax2.tick_params(axis='y', labelcolor=color)\n",
    "    color = 'tab:cyan'\n",
    "    ax1.scatter(x2, flatten_valid_scores, color=color, label='valid scores')\n",
    "\n",
    "    fig.legend()"
   ]
  },
  {
   "cell_type": "markdown",
   "metadata": {},
   "source": [
    "## Data pipeline parameters"
   ]
  },
  {
   "cell_type": "code",
   "execution_count": 4,
   "metadata": {},
   "outputs": [],
   "source": [
    "batch_size = 32\n",
    "drop_last = False\n",
    "test_proportion = 0.25\n",
    "valid_proportion = 0.25\n",
    "use_k_fold = False\n",
    "k_k_fold = None"
   ]
  },
  {
   "cell_type": "markdown",
   "metadata": {},
   "source": [
    "## Score"
   ]
  },
  {
   "cell_type": "code",
   "execution_count": 5,
   "metadata": {},
   "outputs": [],
   "source": [
    "score = ap_at_k\n",
    "k_score = 10\n",
    "n_updates = 100"
   ]
  },
  {
   "cell_type": "markdown",
   "metadata": {},
   "source": [
    "## Load the data"
   ]
  },
  {
   "cell_type": "code",
   "execution_count": 6,
   "metadata": {
    "scrolled": true
   },
   "outputs": [
    {
     "name": "stdout",
     "output_type": "stream",
     "text": [
      "Processing the modeling task...\n",
      "Computing the annotated queries...\n",
      "Initial length of queries: 0\n",
      "Object loaded from ../results/../results/task_annotation/v2_0/task/queries_size10k_shuffle_articles1_queries1_seed0.pkl\n",
      "Object loaded from ../results/../results/task_annotation/v2_1/task/queries_sizemax_shuffle_articles1_queries1_seed0.pkl\n",
      "Object loaded from ../results/../results/task_annotation/v2_2/task/queries_sizemax_shuffle_articles1_queries1_seed0.pkl\n",
      "Final length of queries: 61056\n",
      "Done (elapsed time: 1s).\n",
      "\n",
      "Computing the annotations...\n",
      "Initial length of annotations: 0\n",
      "Object loaded from ../results/task_annotation/v2_0/results/batch_00_complete.csv\n",
      "   Correcting \"n this article, Nevada and Ohio are discussed. The two American states...\" to \" The two American states...\"\n",
      "   Correcting \"In this article, California and Oregon are discussed. The two neighboring states...\" to \" The two neighboring states...\"\n",
      "   Correcting \"In this article, California and Oregon are discussed. The two West Coast states...\" to \" The two West Coast states...\"\n",
      "Object loaded from ../results/task_annotation/v2_0/results/batch_01_complete.csv\n",
      "   Discarding \"The\"\n",
      "   Correcting \"THE CHESS CHAMPIONS\" to \"The chess champions\"\n",
      "   Correcting \"THE WHITE AND BLACK\" to \"The white and black\"\n",
      "   Discarding \"Both are politlca entities\"\n",
      "Object loaded from ../results/task_annotation/v2_1/results/batch_02_complete.csv\n",
      "   Discarding \"Both groups have a military wing\"\n",
      "   Discarding \"The financial/media concern\"\n",
      "   Discarding \"Both countries are in Western Asia\"\n",
      "   Correcting \"FOOTBALL TEAM\" to \"Football team\"\n",
      "Object loaded from ../results/task_annotation/v2_1/results/batch_03_complete.csv\n",
      "   Discarding \"The convicted Hynix managers/directors\"\n",
      "   Discarding \"The areas that include or are included by Eurasia\"\n",
      "Object loaded from ../results/task_annotation/v2_2/results/batch_04_complete.csv\n",
      "   Discarding \"Are in European territory\"\n",
      "   Discarding \"The states that have seen declining enrollment in Medicaid\"\n",
      "Object loaded from ../results/task_annotation/v2_2/results/batch_05_complete.csv\n",
      "   Discarding \"The director/choreographers\"\n",
      "   Discarding \"The writer/directors\"\n",
      "Final length of annotations: 2100\n",
      "Done (elapsed time: 1s).\n",
      "\n",
      "Filtering the annotations...\n",
      "Criterion: at least 5 assignments per worker.\n",
      "Annotations filtered: 6262 left (37 deleted).\n",
      "Done (elapsed time: 0s).\n",
      "\n",
      "Computing the modeling task...\n",
      "Done (elapsed time: 0s).\n",
      "\n",
      "Done (elapsed time: 3s).\n",
      "\n",
      "Raw data imported (1718 samples).\n",
      "Split into train (858, 50%), valid (430, 25%) and test (430, 25%) sets.\n"
     ]
    }
   ],
   "source": [
    "pipeline = Pipeline(use_k_fold=use_k_fold)\n",
    "pipeline.process_data(batch_size=batch_size,\n",
    "                      drop_last=drop_last,\n",
    "                      test_proportion=test_proportion,\n",
    "                      valid_proportion=valid_proportion,\n",
    "                      k=k_k_fold)"
   ]
  },
  {
   "cell_type": "markdown",
   "metadata": {},
   "source": [
    "## Oberseve the data"
   ]
  },
  {
   "cell_type": "code",
   "execution_count": 7,
   "metadata": {},
   "outputs": [
    {
     "name": "stdout",
     "output_type": "stream",
     "text": [
      "\n",
      "Inputs:\n",
      "entities_type_ : person\n",
      "entities : ['Bill Ryan', 'Joseph M. Delfino']\n",
      "summaries : ['William Emmett Ryan III was an American broadcast journalist with the NBC television network and its owned and operated local station WNBC-TV in New York City for 26 years, and also served for a year as news anchor at WOR-TV. Bill Ryan was also co-anchor of the Ralph & Ryan radio morning show on 570 WMCA in the late 1970s to early 1980s in New York City.', 'No information found.']\n",
      "context : Mayor and Legislator Squabble Over Building Site: But they disagree on who should control the project. Mr. Delfino said it should be the city; Mr. Ryan , the county.\n",
      "choices : ['new york city government officials', 'notable new yorkers', 'united states politicians', 'manufacturing executives', 'dog enthusiasts', 'fishermen', 'spouses', 'american political scientists', 'german businessmen', 'lobbyists', 'ex coworkers', 'afghan politicians', 'tennis professionals', 'kazakh government officials', 'political figures', 'american politically inclined', 'former american football players', 'men in the airlin industry', 'catholic bishop', 'native american women', 'former government workers', 'former associates', 'boys', 'nortel networks employees', 'men in the film industry', 'tri-state area politicians', 'former american basketball players', 'former iranian presidents', 'actorsthe two actors', 'ceylans', 'involved in the land dispute', 'hynix employees serving time']\n",
      "\n",
      "Targets:\n",
      "tensor([0, 0, 0, 0, 0, 0, 0, 0, 0, 0, 0, 0, 0, 0, 0, 0, 0, 0, 0, 0, 0, 0, 0, 0,\n",
      "        0, 0, 0, 0, 0, 0, 0, 0])\n",
      "\n",
      "Inputs:\n",
      "entities_type_ : person\n",
      "entities : ['Paul Gambill', 'Virgil Thomson']\n",
      "summaries : ['No information found.', 'Virgil Thomson was an American composer and critic. He was instrumental in the development of the \"American Sound\" in classical music. He has been described as a modernist, a neoromantic, a neoclassicist, and a composer of \"an Olympian blend of humanity and detachment\" whose \"expressive voice was always carefully muted\" until his late opera Lord Byron which, in contrast to all his previous work, exhibited an emotional content that rises to \"moments of real passion\".']\n",
      "context : Rustic Streams Hiding Complicated Traditions: `Rider on the Plains': Music by Virgil Thomson and Charles Fussell Emmanuel Feldman, cellist; Joy Cline Phinney, pianist; Nashville Chamber Orchestra, conducted by Paul Gambill ; New England String Ensemble, conducted by Susan Davenny Wyner. Albany Records TROY883; CD.\n",
      "choices : ['american political scientists', 'pyote workers', 'rivals', 'designers', 'american dramatists', 'japanese prime ministers', 'secret lovers', 'united states political figures', 'american diplomats', 'former politicians', 'former american generals', 'acquaintences', 'american automotive executives', 'celebrities', 'people with an interest in politics', 'judicial proceeding participants', 'powerful leaders', 'news people', 'lawmakers', 'austrian athletes', 'boxers', 'players', 'professional athletes', '90s politicians', 'former american basketball players', 'former american baseball players', 'football players', 'figures', 'american football players', 'russian politicians', 'international diplomats', 'portrait models']\n",
      "\n",
      "Targets:\n",
      "tensor([0, 0, 0, 0, 0, 0, 0, 0, 0, 0, 0, 0, 0, 0, 0, 0, 0, 0, 0, 0, 0, 0, 0, 0,\n",
      "        0, 0, 0, 0, 0, 0, 0, 0])\n",
      "\n",
      "Inputs:\n",
      "entities_type_ : location\n",
      "entities : ['Hackensack River', 'Jersey City']\n",
      "summaries : ['The Hackensack River is a river, approximately 45 miles long, in the U.S. states of New York and New Jersey, emptying into Newark Bay, a back chamber of New York Harbor. The watershed of the river includes part of the suburban area outside New York City just west of the lower Hudson River, which it roughly parallels, separated from it by the New Jersey Palisades. It also flows through and drains the New Jersey Meadowlands. The lower river, which is navigable as far as the city of Hackensack, is heavily industrialized and forms a commercial extension of Newark Bay.', \"Jersey City is the second most populous city in the U.S. state of New Jersey, after Newark. It is the seat of Hudson County as well as the county's largest city.\"]\n",
      "context : Finding the Bottom of a Polluted Field: And the company was sued earlier this month by the Hackensack River Riverkeeper, William Sheehan, and several Jersey City residents. They say that chromium-contaminated properties near the drive-in that were capped and developed years ago -- including the Home Depot store on the Route 440 site of the Mutual Chemical Company chromium processing plant -- continue to pollute groundwater, which eventually makes its way to the Hackensack River .''\n",
      "choices : ['very different regions', 'southern states', 'east coast states', 'european political entities', 'republics', 'mideastern areas', 'middle eastern nations', 'middle eastern counties', 'areas in america', 'north american locations', 'areas in the united states', 'big financial markets', 'southern regions', 'united states regions', 'countries in asia', 'metropolises', 'new york jurisdiction', 'communist countries', 'world organizations', 'large cities', 'stations', 'countries located in the americas', 'new york jurisdicitons', 'neighboring asian countries', 'world leaders', 'portugal properties', 'places near the mediterranean', 'southeastern regions', 'african countries', 'countries bordering the mediterranean sea', 'eastern us regions', 'south american countries']\n",
      "\n",
      "Targets:\n",
      "tensor([0, 0, 0, 0, 0, 0, 0, 0, 0, 0, 0, 0, 0, 0, 0, 0, 0, 0, 0, 0, 0, 0, 0, 0,\n",
      "        0, 0, 0, 0, 0, 0, 0, 0])\n",
      "\n",
      "Inputs:\n",
      "entities_type_ : person\n",
      "entities : ['Michael R. Bloomberg', 'Sheldon Silver']\n",
      "summaries : ['Michael Rubens Bloomberg KBE is an American businessman, politician, author, and philanthropist. As of October 2019, his net worth was estimated at $51.1 billion, making him the 12th richest person in the United States and the 17th richest person in the world. He has joined The Giving Pledge, whereby billionaires pledge to give away at least half of their wealth.', 'Sheldon Silver is a former lawyer, Democratic Party politician from New York City and convicted felon who served as Speaker of the New York State Assembly from 1994 until 2015.']\n",
      "context : The Struggle for School Aid From Albany: Two years ago, Mr. Silver fought for a similar proposal, but Mr. Bloomberg largely stayed out of the debate. Mr. Silver has asked the mayor for his support this year, but Mr. Bloomberg , a Republican, may be reluctant to side with the Assembly and risk alienating the Senate.''\n",
      "choices : ['new york city mayoral employees', 'american', 'italian political opponents', 'texas women', 'former public servants', 'felons', 'americans involved in iraq wmd scandal', 'us government employees', 'corporate executives', 'former baseball players', 'opposing parties in the enron legal proceeding', 'american authors', 'enron fraudsters', 'thet two american actors', 'new yorkers involved in the case', 'men in professional football', 'north carolina political figures', 'nfl stalwarts', 'soldiers', 'people of power', 'russian figures', 'roommates', 'american billionaires', 'onetime rivals for the democratic nomination for governor of new york', 'former senators', 'entertainers', 'avant-garde celebrities', 'men involved in show business', 'new york city government officials', 'actresses', 'socialites', 'designers']\n",
      "\n",
      "Targets:\n",
      "tensor([0, 0, 0, 0, 0, 0, 0, 0, 0, 0, 0, 0, 0, 0, 0, 0, 0, 0, 0, 0, 0, 0, 0, 0,\n",
      "        0, 0, 0, 0, 1, 0, 0, 0])\n",
      "Good answers:\n",
      "new york city government officials\n",
      "\n",
      "Inputs:\n",
      "entities_type_ : person\n",
      "entities : ['Eric Mangini', 'Harland Svare']\n",
      "summaries : [\"Eric Anthony Mangini is a former American football coach and current television sports analyst. Mangini had been with the 49ers since 2013 and served as the team's tight ends coach for two seasons before being promoted to defensive coordinator in 2015, only to be fired in 2016 by new head coach Chip Kelly.Mangini is a former head coach, having served as the coach of the New York Jets from 2006 until 2008 and the Cleveland Browns in 2009 and 2010. Prior to taking his position with the 49ers, Mangini was an NFL analyst for ESPN. \", 'Harland James Svare is an American former professional football player and coach. Svare was a linebacker who played eight seasons with the Los Angeles Rams and New York Giants of the National Football League from 1953 to 1960. He was the Rams head coach from midway the 1962 season through 1965, and the San Diego Chargers head coach from 1971 through 1973.']\n",
      "context : Youngest Coach in N.F.L. History Still Gives Advice: The way Mangini talks about Belichick is how Svare remembers Landry.'' I consider him the smartest coach of all time,'' Svare said.''\n",
      "choices : ['member of justice', 'singer', 'french political candidates', 'american political lawyers', 'educationally inclined', 'american influencers', 'american lawyers', 'news people', 'football coaches', 'leaders', 'american technology workers', 'american football executives', 'successive organization leaders', 'nba basketball players', 'political actors', 'american legal professionals', 'professionals of the entertainment industry', 'american governors', 'opposing parties in the enron legal proceeding', 'individuals involved in the incident', 'men in the airlin industry', 'legal figures', '90s politicians', 'hbo executives', 'church members', 'contributors', 'former pro basketball players', 'union leaders', 'opposising sides', 'aryan brotherhood members', 'american legal adversaries', 'figures in american football']\n",
      "\n",
      "Targets:\n",
      "tensor([0, 0, 0, 0, 0, 0, 0, 0, 0, 0, 0, 0, 0, 0, 0, 0, 0, 0, 0, 0, 0, 0, 0, 0,\n",
      "        0, 0, 0, 0, 0, 0, 0, 0])\n",
      "\n",
      "Inputs:\n",
      "entities_type_ : person\n",
      "entities : ['Bob Dylan', 'Laura Cantrell']\n",
      "summaries : ['Bob Dylan is an American singer-songwriter, author, and visual artist who has been a major figure in popular culture for more than fifty years. Much of his most celebrated work dates from the 1960s, when songs such as \"Blowin\\' in the Wind\" and \"The Times They Are a-Changin\\'\" became anthems for the civil rights movement and anti-war movement. His lyrics during this period incorporated a wide range of political, social, philosophical, and literary influences, defied pop-music conventions and appealed to the burgeoning counterculture.', 'Laura Cantrell is a country singer-songwriter and DJ from Nashville, Tennessee. She used to present a weekly country and old-time music radio show on WFMU called The Radio Thrift Shop. Since October 2005 she has only made occasional appearances on the station.']\n",
      "context : Radio Shop Talk; Play a Song for Me: She is on hiatus from her show on WFMU. Correction: May 7, 2006, Sunday Because of an editing error, an article last Sunday about the debut of Bob Dylan 's radio program on Wednesday misstated the year of death for the BBC disc jockey John Peel, a notable role model.\n",
      "choices : ['dog workers', 'democratic party politicians', 'iranian leaders', 'ukrainian politicians', 'movie actors', 'british actors', 'people involved in the play', 'texas women', \"men who's first name begins with the letter r\", 'american entertainersna', 'washington insiders', 'men of hispanic descent', 'criminals', 'new york city council members', 'advisers', 'cocaine users', 'area politicians', 'political person', 'guinea politicians', 'people in the theater industry', 'former iranian presidents', 'co-founders', 'entertainment industry professionals', 'professional sports players', 'people with an interest in politics', 'high-profile americans', 'american football participants', 'public figures', 'grandmasters', 'democratic political rivals', 'south american politicians', 'accused']\n",
      "\n",
      "Targets:\n",
      "tensor([0, 0, 0, 0, 0, 0, 0, 0, 0, 0, 0, 0, 0, 0, 0, 0, 0, 0, 0, 0, 0, 0, 0, 0,\n",
      "        0, 0, 0, 0, 0, 0, 0, 0])\n",
      "\n",
      "Inputs:\n",
      "entities_type_ : person\n",
      "entities : ['Bruce Riedel', 'Hamid Karzai']\n",
      "summaries : ['Bruce O. Riedel is an American expert on U.S. security, South Asia, and counter-terrorism. He is currently a senior fellow in the Saban Center for Middle East Policy at the Brookings Institution, and a professor at Johns Hopkins School of Advanced International Studies. He also serves as a senior adviser at Albright Stonebridge Group.', \"Hamid Karzai  is an Afghan politician who was the President of Afghanistan from 22 December 2001 to 29 September 2014, originally as an interim leader and then as President for almost ten years, from 7 December 2004 to 2014. He comes from a politically active family; Karzai's father, uncle and grandfather were all active in Afghan politics and government. Karzai and his father before him, Abdul Ahad Karzai, were each head of the Popalzai tribe of the Durrani tribal confederation.\"]\n",
      "context : PRESSING ALLIES, PRESIDENT WARNS OF AFGHAN BATTLE: Some critics of the administration 's handling of Afghanistan said Mr. Bush was still understating the difficulties there.'' We underfinanced, undermanned and under-resourced the war in Afghanistan for the last four years, and now we face a serious threat that the Taliban will succeed in destabilizing the country enough in 2007 to make the Karzai government collapse at some point,'' said Bruce Riedel , a scholar at the Saban Center for Middle East Studies at the Brookings Institution, a liberal-leaning research organization in Washington.\n",
      "choices : ['psychologists', 'conspirators', 'internet entrepreneurs', 'people involved in the corruption case', 'news figures', 'leaders at the historic site', 'famous people', 'therapists', 'funnymen', 'late politicians', 'military correspondants', 'former american generals', 'american theatrical producer', 'ballet choreographers', 'political actors', 'government workers', 'former nfl players', 'men with an interest in architecture', 'men of hispanic heritage', 'venezuelan politicians', 'germans', 'catholic leaders', 'swiss banking executives', 'fishing in america musicians', 'convicted criminals', 'japanese women in the film industry', 'attorneys', 'masjid al-taqwa attendees', 'avid golfers', 'billionaire businessmen', 'british actors', 'people in power']\n",
      "\n",
      "Targets:\n",
      "tensor([0, 0, 0, 0, 0, 0, 0, 0, 0, 0, 0, 0, 0, 0, 0, 0, 0, 0, 0, 0, 0, 0, 0, 0,\n",
      "        0, 0, 0, 0, 0, 0, 0, 0])\n",
      "\n",
      "Inputs:\n",
      "entities_type_ : person\n",
      "entities : ['Bernard E. Trainor', 'Michael R. Gordon']\n",
      "summaries : ['Bernard E. Trainor was an American journalist and a United States Marine Corps lieutenant general. He served in the Marine Corps for 39 years in both staff and command capacities. After retiring from the Marine Corps, he began working as the chief military correspondent for The New York Times. He was subsequently a military analyst for NBC. With Michael Gordon, he was the author of three accounts of American wars in Iraq, The Generals War ; Cobra II ; and Endgame .', 'Michael R. Gordon has been a national security correspondent for The Wall Street Journal since October 2017. Previously he was a military and diplomacy correspondent for The New York Times for 32 years. During the first phase of the Iraq War, he was the only newspaper reporter embedded with the allied land command under General Tommy Franks, a position that \"granted him unique access to cover the invasion strategy and its enactment\". He and General Bernard E. Trainor have written three books together, including the best-selling Cobra II.']\n",
      "context : History of How the Iraq War Was Planned and Launched: In richly detailed, almost dispassionate prose, the authors present a damning indictment of the Bush administration 's national security team. Mr. Gordon and General Trainor recount in granular detail the behind-the-scenes maneuvering as the invasion plan came together, making it clear not only that by the end of 2001 the administration 's focus had shifted from Afghanistan to Baghdad, but also that planning for an invasion was already at an advanced stage.\n",
      "choices : ['former executives', 'employees', 'golf professionals', 'english composers', 'contributors to the play', 'court attendees', 'roommates', 'baseball pitchers', 'opinion writers', 'japanese politicians', 'actors', 'scientists', 'pixar executives', 'public figures', 'american government employees', 'pro basketball players', 'canadians', 'companions', 'former american public servants', 'those associated with the new york yankees', 'parties to the litigation', 'men', 'television personalities', 'statesmen', 'american basketball players', 'japanese prime ministers', 'bolivian politicians', 'kazakhstani politicians', 'aryan brotherhood members', 'shooting victims', 'american political lawyers', 'former presidential candidates']\n",
      "\n",
      "Targets:\n",
      "tensor([0, 0, 0, 0, 0, 0, 0, 0, 0, 0, 0, 0, 0, 0, 0, 0, 0, 0, 0, 0, 0, 0, 0, 0,\n",
      "        0, 0, 0, 0, 0, 0, 0, 0])\n",
      "\n",
      "Inputs:\n",
      "entities_type_ : person\n",
      "entities : ['Mark Green', 'Rod R. Blagojevich']\n",
      "summaries : [\"Mark Edward Green is an American physician and politician from the state of Tennessee serving as the U.S. Representative for Tennessee's 7th congressional district since 2019. He previously served in the Tennessee Senate from 2013 to 2018. He is a member of the Republican Party. Prior to running for office, Green ran a healthcare company. He was an officer in the United States Army. He authored a book about his experience as an emergency medicine physician in Operation Red Dawn, which saw the capture of Saddam Hussein.\", 'Rod Blagojevich is an American politician who served as the 40th Governor of Illinois from 2003 until his impeachment, conviction, and removal from office in 2009.']\n",
      "context : Ethics Questions Haunting Races of Democrats, Too: Mr. Green said he has set aside the money in question while he awaits an appeal. In Illinois, Mr. Blagojevich , who portrayed himself as a reformer when he won the governorship four years ago, campaigned this fall even as a federal investigation swirled on into accusations of rigged political hiring by state officials.\n",
      "choices : ['hispanic', 'adults', 'publishers', 'nascar workers', 'british', 'american representatives', 'defectors', 'powerful leaders', 'polititians', 'songwriters', 'politically inclined', 'professional ice hockey players', 'army generals', 'fashion designers', 'english actors', 'gun shot victims', 'clothing makers', 'writers', 'performers', 'memorializers of the american offensive', 'jersey city police officers', 'austrians', 'american alpine skiers', 'prominent texas democratic women', 'former figure skaters', 'opposising sides', 'former american football players', 'tne gymnasts', 'japanese women in the film industry', 'former hockey players', 'notable individuals', 'baseball workers']\n",
      "\n",
      "Targets:\n",
      "tensor([0, 0, 0, 0, 0, 0, 0, 0, 0, 0, 0, 0, 0, 0, 0, 0, 0, 0, 0, 0, 0, 0, 0, 0,\n",
      "        0, 0, 0, 0, 0, 0, 0, 0])\n",
      "\n",
      "Inputs:\n",
      "entities_type_ : location\n",
      "entities : ['Iran', 'Iraq', 'Lebanon']\n",
      "summaries : [\"Iran, also called Persia, and officially the Islamic Republic of Iran, is a country in Western Asia. With 82 million inhabitants, Iran is the world's 18th most populous country. Its territory spans 1,648,195 km2 , making it the second largest country in the Middle East and the 17th largest in the world. Iran is bordered to the northwest by Armenia and the Republic of Azerbaijan, to the north by the Caspian Sea, to the northeast by Turkmenistan, to the east by Afghanistan and Pakistan, to the south by the Persian Gulf and the Gulf of Oman, and to the west by Turkey and Iraq.\", \"Iraq or ; Arabic: العراق\\u200e al-'Irāq; Kurdish: عێراق\\u200e Êraq), officially the Republic of Iraq , is a country in Western Asia, bordered by Turkey to the north, Iran to the east, Kuwait to the southeast, Saudi Arabia to the south, Jordan to the southwest and Syria to the west. The capital, and largest city, is Baghdad. Iraq is home to diverse ethnic groups including Arabs, Kurds, Chaldeans, Assyrians, Turkmen, Shabakis, Yazidis, Armenians, Mandeans, Circassians and Kawliya.\", 'Lebanon ; Arabic: لبنان\\u200e, romanized: Lubnān, Lebanese Arabic pronunciation: [lɪbˈnɛːn]; French: Liban), officially known as the Lebanese Republic , is a country in Western Asia. It is bordered by Syria to the north and east and Israel to the south, while Cyprus is west across the Mediterranean Sea.']\n",
      "context : In New Middle East, Tests for an Old Friendship: In late August, appearing in front of an Islamic group in Washington, Mr. Mearsheimer extended the argument to say that American support of the war in Lebanon had been another example of Israeli interests trumping American ones. The essay argued that without the Israel lobby the United States would not have gone to war in Iraq and implied that the same forces could drag the United States into another military confrontation on Israel 's behalf, with Iran .\n",
      "choices : ['surrounding countries', 'oil nations', 'south asian countries', 'political entities', 'global rivals', 'established areas', 'communist nations', 'middle eastern rivals', 'jurisdictions', 'afican nations', 'north american locations', 'east asian regions', 'european regions', 'indonesian locations', 'middle eastern locales', 'neighboring regions', 'west coast states', 'areas in africa', 'eurasian areas', 'allied countries', 'southern european regions', 'large land masses', 'eastern europe areas', 'new england states', 'western asian countries', 'political powers', 'important countries', 'anti-western countries', 'entities', 'greek places', 'southern us states', 'mid-atlantic states']\n",
      "\n",
      "Targets:\n",
      "tensor([0, 0, 0, 0, 0, 0, 0, 0, 0, 0, 0, 0, 0, 0, 0, 0, 0, 0, 0, 0, 0, 0, 0, 0,\n",
      "        0, 0, 0, 0, 0, 0, 0, 0])\n"
     ]
    }
   ],
   "source": [
    "show_pipeline(pipeline)"
   ]
  },
  {
   "cell_type": "markdown",
   "metadata": {},
   "source": [
    "## Baselines"
   ]
  },
  {
   "cell_type": "markdown",
   "metadata": {},
   "source": [
    "### Random"
   ]
  },
  {
   "cell_type": "code",
   "execution_count": 11,
   "metadata": {},
   "outputs": [],
   "source": [
    "from modeling.models import RandomBaseline\n",
    "\n",
    "model = RandomBaseline(score=score, k=k_score)\n",
    "pipeline.preview_data(model=model, include_valid=True)"
   ]
  },
  {
   "cell_type": "code",
   "execution_count": 12,
   "metadata": {},
   "outputs": [
    {
     "name": "stdout",
     "output_type": "stream",
     "text": [
      "Evaluation of the model...\n",
      "\n"
     ]
    },
    {
     "data": {
      "application/vnd.jupyter.widget-view+json": {
       "model_id": "a869fea6e5204660929602994147fe65",
       "version_major": 2,
       "version_minor": 0
      },
      "text/plain": [
       "HBox(children=(FloatProgress(value=0.0, max=20270.0), HTML(value='')))"
      ]
     },
     "metadata": {},
     "output_type": "display_data"
    },
    {
     "name": "stdout",
     "output_type": "stream",
     "text": [
      "\n",
      "Test Score: 0.009\n"
     ]
    }
   ],
   "source": [
    "scores = pipeline.evaluate_baseline(model=model, n_updates=n_updates)"
   ]
  },
  {
   "cell_type": "code",
   "execution_count": 10,
   "metadata": {
    "scrolled": true
   },
   "outputs": [
    {
     "name": "stdout",
     "output_type": "stream",
     "text": [
      "score: 0.000\n",
      "ranks of the true labels: tensor([23.]) , grades of the true labels: tensor([0.1908])\n",
      "\n",
      "score: 1.000\n",
      "ranks of the true labels: tensor([1.]) , grades of the true labels: tensor([0.9784])\n",
      "\n",
      "score: 0.333\n",
      "ranks of the true labels: tensor([3.]) , grades of the true labels: tensor([0.9522])\n",
      "\n",
      "score: 0.000\n",
      "ranks of the true labels: tensor([24.]) , grades of the true labels: tensor([0.3031])\n",
      "\n",
      "score: 0.000\n",
      "ranks of the true labels: tensor([19.]) , grades of the true labels: tensor([0.2931])\n",
      "\n",
      "score: 0.125\n",
      "ranks of the true labels: tensor([8.]) , grades of the true labels: tensor([0.8419])\n",
      "\n",
      "score: 0.000\n",
      "ranks of the true labels: tensor([24.]) , grades of the true labels: tensor([0.4016])\n",
      "\n",
      "score: 0.000\n",
      "ranks of the true labels: tensor([30.]) , grades of the true labels: tensor([0.0281])\n",
      "\n",
      "score: 0.000\n",
      "ranks of the true labels: tensor([25.]) , grades of the true labels: tensor([0.1555])\n",
      "\n",
      "score: 0.000\n",
      "ranks of the true labels: tensor([30.]) , grades of the true labels: tensor([0.0510])\n",
      "\n",
      "score: 0.000\n",
      "ranks of the true labels: tensor([22.]) , grades of the true labels: tensor([0.3095])\n",
      "\n",
      "score: 0.000\n",
      "ranks of the true labels: tensor([17.]) , grades of the true labels: tensor([0.3206])\n",
      "\n"
     ]
    }
   ],
   "source": [
    "show_model(pipeline, model)"
   ]
  },
  {
   "cell_type": "markdown",
   "metadata": {},
   "source": [
    "### Counts"
   ]
  },
  {
   "cell_type": "code",
   "execution_count": 11,
   "metadata": {},
   "outputs": [
    {
     "name": "stdout",
     "output_type": "stream",
     "text": [
      "Learning answers counts...\n"
     ]
    },
    {
     "data": {
      "application/vnd.jupyter.widget-view+json": {
       "model_id": "05810eef1d21411aa6374f357c883c08",
       "version_major": 2,
       "version_minor": 0
      },
      "text/plain": [
       "HBox(children=(FloatProgress(value=0.0, max=20270.0), HTML(value='')))"
      ]
     },
     "metadata": {},
     "output_type": "display_data"
    },
    {
     "name": "stdout",
     "output_type": "stream",
     "text": [
      "\n"
     ]
    }
   ],
   "source": [
    "from modeling.models import CountsBaseline\n",
    "\n",
    "model = CountsBaseline(score=score, k=k_score)\n",
    "pipeline.preview_data(model=model, include_valid=True)"
   ]
  },
  {
   "cell_type": "code",
   "execution_count": 12,
   "metadata": {
    "scrolled": true
   },
   "outputs": [
    {
     "name": "stdout",
     "output_type": "stream",
     "text": [
      "Evaluation of the model...\n",
      "\n"
     ]
    },
    {
     "data": {
      "application/vnd.jupyter.widget-view+json": {
       "model_id": "2eda4f986ef84fe4bd607962d9422901",
       "version_major": 2,
       "version_minor": 0
      },
      "text/plain": [
       "HBox(children=(FloatProgress(value=0.0, max=20270.0), HTML(value='')))"
      ]
     },
     "metadata": {},
     "output_type": "display_data"
    },
    {
     "name": "stdout",
     "output_type": "stream",
     "text": [
      "\n",
      "Test Score: 0.063\n"
     ]
    }
   ],
   "source": [
    "scores = pipeline.evaluate_baseline(model=model, n_updates=n_updates)"
   ]
  },
  {
   "cell_type": "code",
   "execution_count": 13,
   "metadata": {
    "scrolled": true
   },
   "outputs": [
    {
     "name": "stdout",
     "output_type": "stream",
     "text": [
      "score: 0.000\n",
      "ranks of the true labels: tensor([11.]) , grades of the true labels: tensor([0.0116])\n",
      "\n",
      "score: 0.500\n",
      "ranks of the true labels: tensor([2.]) , grades of the true labels: tensor([0.5312])\n",
      "\n",
      "score: 0.000\n",
      "ranks of the true labels: tensor([14.]) , grades of the true labels: tensor([0.0500])\n",
      "\n",
      "score: 1.000\n",
      "ranks of the true labels: tensor([1.]) , grades of the true labels: tensor([1.])\n",
      "\n",
      "score: 1.000\n",
      "ranks of the true labels: tensor([1.]) , grades of the true labels: tensor([1.])\n",
      "\n",
      "score: 0.500\n",
      "ranks of the true labels: tensor([2.]) , grades of the true labels: tensor([0.6000])\n",
      "\n",
      "score: 1.000\n",
      "ranks of the true labels: tensor([1.]) , grades of the true labels: tensor([1.])\n",
      "\n",
      "score: 1.000\n",
      "ranks of the true labels: tensor([1.]) , grades of the true labels: tensor([1.])\n",
      "\n",
      "score: 1.000\n",
      "ranks of the true labels: tensor([1.]) , grades of the true labels: tensor([1.])\n",
      "\n",
      "score: 1.000\n",
      "ranks of the true labels: tensor([1.]) , grades of the true labels: tensor([1.])\n",
      "\n",
      "score: 0.000\n",
      "ranks of the true labels: tensor([19.]) , grades of the true labels: tensor([0.0116])\n",
      "\n",
      "score: 1.000\n",
      "ranks of the true labels: tensor([1.]) , grades of the true labels: tensor([1.])\n",
      "\n"
     ]
    }
   ],
   "source": [
    "show_model(pipeline, model)"
   ]
  },
  {
   "cell_type": "markdown",
   "metadata": {},
   "source": [
    "### Summaries Counts"
   ]
  },
  {
   "cell_type": "code",
   "execution_count": 14,
   "metadata": {},
   "outputs": [],
   "source": [
    "from modeling.models import SummariesCountBaseline\n",
    "\n",
    "model = SummariesCountBaseline(score=score, k=k_score)\n",
    "pipeline.preview_data(model=model, include_valid=True)"
   ]
  },
  {
   "cell_type": "code",
   "execution_count": 15,
   "metadata": {
    "scrolled": false
   },
   "outputs": [
    {
     "name": "stdout",
     "output_type": "stream",
     "text": [
      "Evaluation of the model...\n",
      "\n"
     ]
    },
    {
     "data": {
      "application/vnd.jupyter.widget-view+json": {
       "model_id": "642fa70e2b874a93960ae048050d5351",
       "version_major": 2,
       "version_minor": 0
      },
      "text/plain": [
       "HBox(children=(FloatProgress(value=0.0, max=20270.0), HTML(value='')))"
      ]
     },
     "metadata": {},
     "output_type": "display_data"
    },
    {
     "name": "stdout",
     "output_type": "stream",
     "text": [
      "\n",
      "Test Score: 0.027\n"
     ]
    }
   ],
   "source": [
    "scores = pipeline.evaluate_baseline(model=model, n_updates=n_updates)"
   ]
  },
  {
   "cell_type": "code",
   "execution_count": 16,
   "metadata": {
    "scrolled": true
   },
   "outputs": [
    {
     "name": "stdout",
     "output_type": "stream",
     "text": [
      "score: 0.500\n",
      "ranks of the true labels: tensor([2.]) , grades of the true labels: tensor([1.])\n",
      "\n",
      "score: 1.000\n",
      "ranks of the true labels: tensor([1.]) , grades of the true labels: tensor([1.])\n",
      "\n",
      "score: 1.000\n",
      "ranks of the true labels: tensor([1.]) , grades of the true labels: tensor([1.])\n",
      "\n",
      "score: 0.000\n",
      "ranks of the true labels: tensor([30.]) , grades of the true labels: tensor([0.])\n",
      "\n",
      "score: 0.000\n",
      "ranks of the true labels: tensor([30.]) , grades of the true labels: tensor([0.])\n",
      "\n",
      "score: 0.100\n",
      "ranks of the true labels: tensor([10.]) , grades of the true labels: tensor([0.])\n",
      "\n",
      "score: 0.000\n",
      "ranks of the true labels: tensor([23.]) , grades of the true labels: tensor([0.])\n",
      "\n",
      "score: 0.000\n",
      "ranks of the true labels: tensor([23.]) , grades of the true labels: tensor([0.])\n",
      "\n",
      "score: 0.000\n",
      "ranks of the true labels: tensor([18.]) , grades of the true labels: tensor([0.])\n",
      "\n",
      "score: 0.000\n",
      "ranks of the true labels: tensor([29.]) , grades of the true labels: tensor([0.])\n",
      "\n",
      "score: 0.000\n",
      "ranks of the true labels: tensor([24.]) , grades of the true labels: tensor([0.])\n",
      "\n",
      "score: 0.125\n",
      "ranks of the true labels: tensor([8.]) , grades of the true labels: tensor([0.])\n",
      "\n"
     ]
    }
   ],
   "source": [
    "show_model(pipeline, model)"
   ]
  },
  {
   "cell_type": "markdown",
   "metadata": {},
   "source": [
    "### Summaries Overlap"
   ]
  },
  {
   "cell_type": "code",
   "execution_count": 17,
   "metadata": {},
   "outputs": [],
   "source": [
    "from modeling.models import SummariesOverlapBaseline\n",
    "\n",
    "model = SummariesOverlapBaseline(score=score, k=k_score)\n",
    "pipeline.preview_data(model=model, include_valid=True)"
   ]
  },
  {
   "cell_type": "code",
   "execution_count": 18,
   "metadata": {
    "scrolled": false
   },
   "outputs": [
    {
     "name": "stdout",
     "output_type": "stream",
     "text": [
      "Evaluation of the model...\n",
      "\n"
     ]
    },
    {
     "data": {
      "application/vnd.jupyter.widget-view+json": {
       "model_id": "6a6bab212ec34dcea17ed8bae64eec71",
       "version_major": 2,
       "version_minor": 0
      },
      "text/plain": [
       "HBox(children=(FloatProgress(value=0.0, max=20270.0), HTML(value='')))"
      ]
     },
     "metadata": {},
     "output_type": "display_data"
    },
    {
     "name": "stdout",
     "output_type": "stream",
     "text": [
      "\n",
      "Test Score: 0.023\n"
     ]
    }
   ],
   "source": [
    "scores = pipeline.evaluate_baseline(model=model, n_updates=n_updates)"
   ]
  },
  {
   "cell_type": "code",
   "execution_count": 19,
   "metadata": {
    "scrolled": true
   },
   "outputs": [
    {
     "name": "stdout",
     "output_type": "stream",
     "text": [
      "score: 0.500\n",
      "ranks of the true labels: tensor([2.]) , grades of the true labels: tensor([1.])\n",
      "\n",
      "score: 0.111\n",
      "ranks of the true labels: tensor([9.]) , grades of the true labels: tensor([1.])\n",
      "\n",
      "score: 1.000\n",
      "ranks of the true labels: tensor([1.]) , grades of the true labels: tensor([1.])\n",
      "\n",
      "score: 0.000\n",
      "ranks of the true labels: tensor([30.]) , grades of the true labels: tensor([0.])\n",
      "\n",
      "score: 0.000\n",
      "ranks of the true labels: tensor([30.]) , grades of the true labels: tensor([0.])\n",
      "\n",
      "score: 0.100\n",
      "ranks of the true labels: tensor([10.]) , grades of the true labels: tensor([0.])\n",
      "\n",
      "score: 0.000\n",
      "ranks of the true labels: tensor([23.]) , grades of the true labels: tensor([0.])\n",
      "\n",
      "score: 0.000\n",
      "ranks of the true labels: tensor([23.]) , grades of the true labels: tensor([0.])\n",
      "\n",
      "score: 0.000\n",
      "ranks of the true labels: tensor([18.]) , grades of the true labels: tensor([0.])\n",
      "\n",
      "score: 0.000\n",
      "ranks of the true labels: tensor([29.]) , grades of the true labels: tensor([0.])\n",
      "\n",
      "score: 0.000\n",
      "ranks of the true labels: tensor([24.]) , grades of the true labels: tensor([0.])\n",
      "\n",
      "score: 0.125\n",
      "ranks of the true labels: tensor([8.]) , grades of the true labels: tensor([0.])\n",
      "\n"
     ]
    }
   ],
   "source": [
    "show_model(pipeline, model)"
   ]
  },
  {
   "cell_type": "markdown",
   "metadata": {},
   "source": [
    "## Models\n",
    "### Loss"
   ]
  },
  {
   "cell_type": "code",
   "execution_count": 8,
   "metadata": {},
   "outputs": [],
   "source": [
    "loss = torch.nn.CrossEntropyLoss()"
   ]
  },
  {
   "cell_type": "markdown",
   "metadata": {},
   "source": [
    "### BOW"
   ]
  },
  {
   "cell_type": "code",
   "execution_count": 9,
   "metadata": {},
   "outputs": [
    {
     "name": "stdout",
     "output_type": "stream",
     "text": [
      "Learning the vocabulary...\n"
     ]
    },
    {
     "data": {
      "application/vnd.jupyter.widget-view+json": {
       "model_id": "a4b8808cd1164786861249d4814c81ef",
       "version_major": 2,
       "version_minor": 0
      },
      "text/plain": [
       "HBox(children=(FloatProgress(value=0.0, max=19840.0), HTML(value='')))"
      ]
     },
     "metadata": {},
     "output_type": "display_data"
    },
    {
     "name": "stdout",
     "output_type": "stream",
     "text": [
      "\n",
      "Input size: 5538\n"
     ]
    }
   ],
   "source": [
    "from modeling.models import BOWModel\n",
    "\n",
    "model = BOWModel(min_vocab_frequency=100, net=None, optimizer=None, loss=loss, score=score, k=k_score)\n",
    "pipeline.preview_data(model=model, include_valid=False)"
   ]
  },
  {
   "cell_type": "code",
   "execution_count": 10,
   "metadata": {},
   "outputs": [],
   "source": [
    "model.net = MLP(input_dim=5538,\n",
    "                hidden_dim=500,\n",
    "                output_dim=2,\n",
    "                dropout=0.25)\n",
    "model.optimizer = torch.optim.Adam(model.net.parameters(),\n",
    "                                   lr=1e-5)"
   ]
  },
  {
   "cell_type": "code",
   "execution_count": 11,
   "metadata": {
    "scrolled": true
   },
   "outputs": [
    {
     "name": "stdout",
     "output_type": "stream",
     "text": [
      "Training of the model...\n",
      "\n"
     ]
    },
    {
     "data": {
      "application/vnd.jupyter.widget-view+json": {
       "model_id": "605d07a3b0c5440abb5fcefbb7edd906",
       "version_major": 2,
       "version_minor": 0
      },
      "text/plain": [
       "HBox(children=(FloatProgress(value=0.0, max=19840.0), HTML(value='')))"
      ]
     },
     "metadata": {},
     "output_type": "display_data"
    },
    {
     "name": "stdout",
     "output_type": "stream",
     "text": [
      "\n"
     ]
    },
    {
     "data": {
      "application/vnd.jupyter.widget-view+json": {
       "model_id": "560acfb604e94b7599775f641aed63b0",
       "version_major": 2,
       "version_minor": 0
      },
      "text/plain": [
       "HBox(children=(FloatProgress(value=0.0, max=430.0), HTML(value='')))"
      ]
     },
     "metadata": {},
     "output_type": "display_data"
    },
    {
     "name": "stdout",
     "output_type": "stream",
     "text": [
      "\n",
      "Epoch 1/5: Validation Loss: 0.273 Validation Score: 0.246\n",
      "--------------------------------------------------------------\n"
     ]
    },
    {
     "data": {
      "application/vnd.jupyter.widget-view+json": {
       "model_id": "84d91658010e4ff496a79a1c7153faf1",
       "version_major": 2,
       "version_minor": 0
      },
      "text/plain": [
       "HBox(children=(FloatProgress(value=0.0, max=19840.0), HTML(value='')))"
      ]
     },
     "metadata": {},
     "output_type": "display_data"
    },
    {
     "name": "stdout",
     "output_type": "stream",
     "text": [
      "\n"
     ]
    },
    {
     "data": {
      "application/vnd.jupyter.widget-view+json": {
       "model_id": "6c4bcde0679c41fdb6065dcf644e35be",
       "version_major": 2,
       "version_minor": 0
      },
      "text/plain": [
       "HBox(children=(FloatProgress(value=0.0, max=430.0), HTML(value='')))"
      ]
     },
     "metadata": {},
     "output_type": "display_data"
    },
    {
     "name": "stdout",
     "output_type": "stream",
     "text": [
      "\n",
      "Epoch 2/5: Validation Loss: 0.273 Validation Score: 0.252\n",
      "--------------------------------------------------------------\n"
     ]
    },
    {
     "data": {
      "application/vnd.jupyter.widget-view+json": {
       "model_id": "67e9884a4bcc48bf91926a135ebcf544",
       "version_major": 2,
       "version_minor": 0
      },
      "text/plain": [
       "HBox(children=(FloatProgress(value=0.0, max=19840.0), HTML(value='')))"
      ]
     },
     "metadata": {},
     "output_type": "display_data"
    },
    {
     "name": "stdout",
     "output_type": "stream",
     "text": [
      "\n"
     ]
    },
    {
     "data": {
      "application/vnd.jupyter.widget-view+json": {
       "model_id": "7842a5fc39144a3c8fd57a03d8a651b7",
       "version_major": 2,
       "version_minor": 0
      },
      "text/plain": [
       "HBox(children=(FloatProgress(value=0.0, max=430.0), HTML(value='')))"
      ]
     },
     "metadata": {},
     "output_type": "display_data"
    },
    {
     "name": "stdout",
     "output_type": "stream",
     "text": [
      "\n",
      "Epoch 3/5: Validation Loss: 0.273 Validation Score: 0.259\n",
      "--------------------------------------------------------------\n"
     ]
    },
    {
     "data": {
      "application/vnd.jupyter.widget-view+json": {
       "model_id": "2530df3210be4bda91b462f6166d6b25",
       "version_major": 2,
       "version_minor": 0
      },
      "text/plain": [
       "HBox(children=(FloatProgress(value=0.0, max=19840.0), HTML(value='')))"
      ]
     },
     "metadata": {},
     "output_type": "display_data"
    },
    {
     "name": "stdout",
     "output_type": "stream",
     "text": [
      "\n"
     ]
    },
    {
     "data": {
      "application/vnd.jupyter.widget-view+json": {
       "model_id": "0ea88120b93e4cbe996f3d2dd88cc433",
       "version_major": 2,
       "version_minor": 0
      },
      "text/plain": [
       "HBox(children=(FloatProgress(value=0.0, max=430.0), HTML(value='')))"
      ]
     },
     "metadata": {},
     "output_type": "display_data"
    },
    {
     "name": "stdout",
     "output_type": "stream",
     "text": [
      "\n",
      "Epoch 4/5: Validation Loss: 0.273 Validation Score: 0.251\n",
      "--------------------------------------------------------------\n"
     ]
    },
    {
     "data": {
      "application/vnd.jupyter.widget-view+json": {
       "model_id": "1fc36898e9eb47749e678263231c6777",
       "version_major": 2,
       "version_minor": 0
      },
      "text/plain": [
       "HBox(children=(FloatProgress(value=0.0, max=19840.0), HTML(value='')))"
      ]
     },
     "metadata": {},
     "output_type": "display_data"
    },
    {
     "name": "stdout",
     "output_type": "stream",
     "text": [
      "\n"
     ]
    },
    {
     "data": {
      "application/vnd.jupyter.widget-view+json": {
       "model_id": "73558acdc8c340079eeb6a40607a0958",
       "version_major": 2,
       "version_minor": 0
      },
      "text/plain": [
       "HBox(children=(FloatProgress(value=0.0, max=430.0), HTML(value='')))"
      ]
     },
     "metadata": {},
     "output_type": "display_data"
    },
    {
     "name": "stdout",
     "output_type": "stream",
     "text": [
      "\n",
      "Epoch 5/5: Validation Loss: 0.273 Validation Score: 0.257\n",
      "--------------------------------------------------------------\n"
     ]
    }
   ],
   "source": [
    "train_losses, train_scores, valid_losses, valid_scores = pipeline.train_model(model=model, \n",
    "                                                                              n_epochs=5, \n",
    "                                                                              n_updates=500)"
   ]
  },
  {
   "cell_type": "code",
   "execution_count": 29,
   "metadata": {},
   "outputs": [
    {
     "name": "stdout",
     "output_type": "stream",
     "text": [
      "tensor(0.3133, grad_fn=<NllLossBackward>)\n"
     ]
    }
   ],
   "source": [
    "for inputs, targets in pipeline.train_loader:\n",
    "    print(model.loss(model.net(model.features(inputs)),targets))\n",
    "    \n",
    "    break"
   ]
  },
  {
   "cell_type": "code",
   "execution_count": 12,
   "metadata": {
    "scrolled": false
   },
   "outputs": [
    {
     "data": {
      "image/png": "[encoded data removed]",
      "text/plain": [
       "<Figure size 1080x360 with 2 Axes>"
      ]
     },
     "metadata": {
      "needs_background": "light"
     },
     "output_type": "display_data"
    }
   ],
   "source": [
    "plot_metrics(train_losses, train_scores, valid_losses, valid_scores)"
   ]
  },
  {
   "cell_type": "markdown",
   "metadata": {},
   "source": [
    "### Embedding"
   ]
  },
  {
   "cell_type": "code",
   "execution_count": 13,
   "metadata": {},
   "outputs": [
    {
     "name": "stdout",
     "output_type": "stream",
     "text": [
      "Initializing the Word2Vec embedding...\n",
      "Initializing the FreeBase embedding...\n",
      "Input dimension: 1600\n"
     ]
    }
   ],
   "source": [
    "from modeling.models import EmbeddingModel\n",
    "\n",
    "model = EmbeddingModel(net=None, optimizer=None, loss=loss, score=score, k=k_score)\n",
    "pipeline.preview_data(model=model, include_valid=False)"
   ]
  },
  {
   "cell_type": "code",
   "execution_count": 14,
   "metadata": {},
   "outputs": [],
   "source": [
    "model.net = MLP(input_dim=1600,\n",
    "                hidden_dim=500,\n",
    "                output_dim=2,\n",
    "                dropout=0.1)\n",
    "model.optimizer = torch.optim.Adam(model.net.parameters(),\n",
    "                                   lr=1e-5)"
   ]
  },
  {
   "cell_type": "code",
   "execution_count": 15,
   "metadata": {
    "scrolled": true
   },
   "outputs": [
    {
     "name": "stdout",
     "output_type": "stream",
     "text": [
      "Training of the model...\n",
      "\n"
     ]
    },
    {
     "data": {
      "application/vnd.jupyter.widget-view+json": {
       "model_id": "c30abebe90c1412aaa80efa682caa5f5",
       "version_major": 2,
       "version_minor": 0
      },
      "text/plain": [
       "HBox(children=(FloatProgress(value=0.0, max=19840.0), HTML(value='')))"
      ]
     },
     "metadata": {},
     "output_type": "display_data"
    },
    {
     "name": "stdout",
     "output_type": "stream",
     "text": [
      "\n"
     ]
    },
    {
     "data": {
      "application/vnd.jupyter.widget-view+json": {
       "model_id": "c2c60310d8e24d6bbe4bbc82bf2e3bba",
       "version_major": 2,
       "version_minor": 0
      },
      "text/plain": [
       "HBox(children=(FloatProgress(value=0.0, max=430.0), HTML(value='')))"
      ]
     },
     "metadata": {},
     "output_type": "display_data"
    },
    {
     "name": "stdout",
     "output_type": "stream",
     "text": [
      "\n",
      "Epoch 1/5: Validation Loss: 0.273 Validation Score: 0.004\n",
      "--------------------------------------------------------------\n"
     ]
    },
    {
     "data": {
      "application/vnd.jupyter.widget-view+json": {
       "model_id": "6015d2f4b9794f43834dd42f6e2382a6",
       "version_major": 2,
       "version_minor": 0
      },
      "text/plain": [
       "HBox(children=(FloatProgress(value=0.0, max=19840.0), HTML(value='')))"
      ]
     },
     "metadata": {},
     "output_type": "display_data"
    },
    {
     "name": "stdout",
     "output_type": "stream",
     "text": [
      "\n"
     ]
    },
    {
     "data": {
      "application/vnd.jupyter.widget-view+json": {
       "model_id": "d82fb5fa3ecf4d349ddc122c26f2ac91",
       "version_major": 2,
       "version_minor": 0
      },
      "text/plain": [
       "HBox(children=(FloatProgress(value=0.0, max=430.0), HTML(value='')))"
      ]
     },
     "metadata": {},
     "output_type": "display_data"
    },
    {
     "name": "stdout",
     "output_type": "stream",
     "text": [
      "\n",
      "Epoch 2/5: Validation Loss: 0.273 Validation Score: 0.003\n",
      "--------------------------------------------------------------\n"
     ]
    },
    {
     "data": {
      "application/vnd.jupyter.widget-view+json": {
       "model_id": "6eb043a4c62a49969cda5e198ce6a76f",
       "version_major": 2,
       "version_minor": 0
      },
      "text/plain": [
       "HBox(children=(FloatProgress(value=0.0, max=19840.0), HTML(value='')))"
      ]
     },
     "metadata": {},
     "output_type": "display_data"
    },
    {
     "name": "stdout",
     "output_type": "stream",
     "text": [
      "\n"
     ]
    },
    {
     "data": {
      "application/vnd.jupyter.widget-view+json": {
       "model_id": "21badd5adbae48ce8a6e005252878f48",
       "version_major": 2,
       "version_minor": 0
      },
      "text/plain": [
       "HBox(children=(FloatProgress(value=0.0, max=430.0), HTML(value='')))"
      ]
     },
     "metadata": {},
     "output_type": "display_data"
    },
    {
     "name": "stdout",
     "output_type": "stream",
     "text": [
      "\n",
      "Epoch 3/5: Validation Loss: 0.273 Validation Score: 0.004\n",
      "--------------------------------------------------------------\n"
     ]
    },
    {
     "data": {
      "application/vnd.jupyter.widget-view+json": {
       "model_id": "d47c95804b674b70bdc17ca27bdec8b1",
       "version_major": 2,
       "version_minor": 0
      },
      "text/plain": [
       "HBox(children=(FloatProgress(value=0.0, max=19840.0), HTML(value='')))"
      ]
     },
     "metadata": {},
     "output_type": "display_data"
    },
    {
     "name": "stdout",
     "output_type": "stream",
     "text": [
      "\n"
     ]
    },
    {
     "data": {
      "application/vnd.jupyter.widget-view+json": {
       "model_id": "8e8a2d9444dd48a49bd6bf5c0fd1bf04",
       "version_major": 2,
       "version_minor": 0
      },
      "text/plain": [
       "HBox(children=(FloatProgress(value=0.0, max=430.0), HTML(value='')))"
      ]
     },
     "metadata": {},
     "output_type": "display_data"
    },
    {
     "name": "stdout",
     "output_type": "stream",
     "text": [
      "\n",
      "Epoch 4/5: Validation Loss: 0.273 Validation Score: 0.004\n",
      "--------------------------------------------------------------\n"
     ]
    },
    {
     "data": {
      "application/vnd.jupyter.widget-view+json": {
       "model_id": "7f1843fecf04450cbf7702d24efe6fec",
       "version_major": 2,
       "version_minor": 0
      },
      "text/plain": [
       "HBox(children=(FloatProgress(value=0.0, max=19840.0), HTML(value='')))"
      ]
     },
     "metadata": {},
     "output_type": "display_data"
    },
    {
     "name": "stdout",
     "output_type": "stream",
     "text": [
      "\n"
     ]
    },
    {
     "data": {
      "application/vnd.jupyter.widget-view+json": {
       "model_id": "029dd7d4af6a4f5e97907bad8a5015cd",
       "version_major": 2,
       "version_minor": 0
      },
      "text/plain": [
       "HBox(children=(FloatProgress(value=0.0, max=430.0), HTML(value='')))"
      ]
     },
     "metadata": {},
     "output_type": "display_data"
    },
    {
     "name": "stdout",
     "output_type": "stream",
     "text": [
      "\n",
      "Epoch 5/5: Validation Loss: 0.273 Validation Score: 0.005\n",
      "--------------------------------------------------------------\n"
     ]
    }
   ],
   "source": [
    "train_losses, train_scores, valid_losses, valid_scores = pipeline.train_model(model=model, \n",
    "                                                                              n_epochs=5, \n",
    "                                                                              n_updates=500)"
   ]
  },
  {
   "cell_type": "code",
   "execution_count": 16,
   "metadata": {},
   "outputs": [
    {
     "data": {
      "image/png": "[encoded data removed]",
      "text/plain": [
       "<Figure size 1080x360 with 2 Axes>"
      ]
     },
     "metadata": {
      "needs_background": "light"
     },
     "output_type": "display_data"
    }
   ],
   "source": [
    "plot_metrics(train_losses, train_scores, valid_losses, valid_scores)"
   ]
  },
  {
   "cell_type": "code",
   "execution_count": null,
   "metadata": {
    "scrolled": false
   },
   "outputs": [],
   "source": [
    "epoch_number, epoch_length = len(train_losses), len(train_losses[0])\n",
    "\n",
    "x1 = arange(0, epoch_number, 1./epoch_length)\n",
    "x2 = arange(1, epoch_number + 1)\n",
    "\n",
    "flatten_train_losses = [loss for epoch_losses in train_losses for loss in epoch_losses]\n",
    "flatten_train_scores = [score for epoch_scores in train_scores for score in epoch_scores]\n",
    "flatten_valid_losses = [mean(losses) for losses in valid_losses]\n",
    "flatten_valid_scores = [mean(scores) for scores in valid_scores]\n",
    "\n",
    "fig, ax1 = plt.subplots(figsize=(15, 5))\n",
    "ax1.set_xlabel('epochs')\n",
    "\n",
    "color = 'tab:red'\n",
    "ax1.set_yscale('log')\n",
    "ax1.plot(x1, flatten_train_losses, color=color, label='train loss')\n",
    "ax1.set_ylabel('loss', color=color)\n",
    "ax1.tick_params(axis='y', labelcolor=color)\n",
    "color = 'tab:orange'\n",
    "ax1.scatter(x2, flatten_valid_losses, color=color, label='valid loss')\n",
    "\n",
    "color = 'tab:blue'\n",
    "ax2 = ax1.twinx()\n",
    "ax2.plot(x1, flatten_train_scores, color=color, label='score')\n",
    "ax2.set_ylabel('score', color=color)\n",
    "ax2.tick_params(axis='y', labelcolor=color)\n",
    "color = 'tab:cyan'\n",
    "ax1.scatter(x2, flatten_valid_scores, color=color, label='valid scores')\n",
    "\n",
    "fig.legend()"
   ]
  },
  {
   "cell_type": "code",
   "execution_count": null,
   "metadata": {},
   "outputs": [],
   "source": []
  }
 ],
 "metadata": {
  "kernelspec": {
   "display_name": "Python 3",
   "language": "python",
   "name": "python3"
  },
  "language_info": {
   "codemirror_mode": {
    "name": "ipython",
    "version": 3
   },
   "file_extension": ".py",
   "mimetype": "text/x-python",
   "name": "python",
   "nbconvert_exporter": "python",
   "pygments_lexer": "ipython3",
   "version": "3.7.6"
  },
  "pycharm": {
   "stem_cell": {
    "cell_type": "raw",
    "metadata": {
     "collapsed": false
    },
    "source": []
   }
  },
  "toc": {
   "base_numbering": 1,
   "nav_menu": {},
   "number_sections": true,
   "sideBar": true,
   "skip_h1_title": false,
   "title_cell": "Table of Contents",
   "title_sidebar": "Contents",
   "toc_cell": false,
   "toc_position": {},
   "toc_section_display": true,
   "toc_window_display": false
  }
 },
 "nbformat": 4,
 "nbformat_minor": 2
}
