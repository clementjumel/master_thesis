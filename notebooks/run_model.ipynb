{
 "cells": [
  {
   "cell_type": "markdown",
   "metadata": {},
   "source": [
    "# Setup\n",
    "### Imports"
   ]
  },
  {
   "cell_type": "code",
   "execution_count": 1,
   "metadata": {
    "ExecuteTime": {
     "end_time": "2019-04-13T03:57:03.299844Z",
     "start_time": "2019-04-13T03:57:03.266445Z"
    },
    "pycharm": {
     "is_executing": false
    }
   },
   "outputs": [],
   "source": [
    "import sys\n",
    "sys.path.append('../')\n",
    "del sys\n",
    "\n",
    "%reload_ext autoreload\n",
    "%autoreload 2\n",
    "\n",
    "from toolbox.parsers import standard_parser, add_task_arguments, add_model_arguments\n",
    "from toolbox.utils import load_task, get_pretrained_model, to_class_name\n",
    "import modeling.models as models"
   ]
  },
  {
   "cell_type": "markdown",
   "metadata": {},
   "source": [
    "### Notebook functions"
   ]
  },
  {
   "cell_type": "code",
   "execution_count": 3,
   "metadata": {},
   "outputs": [],
   "source": [
    "def run_models(model_names, word2vec, bart, args):\n",
    "    args.word2vec = word2vec\n",
    "    args.bart = bart\n",
    "    \n",
    "    pretrained_model = get_pretrained_model(args)\n",
    "    \n",
    "    for model_name in model_names:\n",
    "        args.model = model_name\n",
    "        print(model_name)\n",
    "\n",
    "        model = getattr(models, to_class_name(args.model))(args=args, pretrained_model=pretrained_model)\n",
    "        model.play(task=task, args=args)"
   ]
  },
  {
   "cell_type": "markdown",
   "metadata": {},
   "source": [
    "### Parameters"
   ]
  },
  {
   "cell_type": "code",
   "execution_count": 4,
   "metadata": {},
   "outputs": [],
   "source": [
    "ap = standard_parser()\n",
    "add_task_arguments(ap)\n",
    "add_model_arguments(ap)\n",
    "args = ap.parse_args([\"-m\", \"\",\n",
    "                      \"-t\", \"context_free_same_type\",\n",
    "                      \"-cf\", \"v1\",\n",
    "                      \"-tf\", \"v0\",\n",
    "                      \"--root\", \"..\"])"
   ]
  },
  {
   "cell_type": "markdown",
   "metadata": {},
   "source": [
    "### Load the data"
   ]
  },
  {
   "cell_type": "code",
   "execution_count": 5,
   "metadata": {
    "scrolled": true
   },
   "outputs": [
    {
     "name": "stdout",
     "output_type": "stream",
     "text": [
      "Task loaded from ../results/modeling_task/contextfreesametype_50-25-25_rs24_bs4_cf-v1_tf-v0.pkl.\n",
      "\n"
     ]
    }
   ],
   "source": [
    "task = load_task(args)"
   ]
  },
  {
   "cell_type": "markdown",
   "metadata": {},
   "source": [
    "# Basic baselines"
   ]
  },
  {
   "cell_type": "code",
   "execution_count": 5,
   "metadata": {
    "scrolled": false
   },
   "outputs": [
    {
     "name": "stdout",
     "output_type": "stream",
     "text": [
      "random\n",
      "Evaluation on the train_loader...\n"
     ]
    },
    {
     "data": {
      "application/vnd.jupyter.widget-view+json": {
       "model_id": "90a3c380103f479fa944c9935269d1cd",
       "version_major": 2,
       "version_minor": 0
      },
      "text/plain": [
       "HBox(children=(FloatProgress(value=0.0, max=670.0), HTML(value='')))"
      ]
     },
     "metadata": {},
     "output_type": "display_data"
    },
    {
     "name": "stdout",
     "output_type": "stream",
     "text": [
      "\n",
      "average_precision: 0.23850 (+/-0.16815)\n",
      "recall_at_10: 0.41487 (+/-0.29622)\n",
      "reciprocal_best_rank: 0.31261 (+/-0.30494)\n",
      "reciprocal_average_rank: 0.09717 (+/-0.07639)\n",
      "ndcg_at_10: 0.26831 (+/-0.22110)\n",
      "\n",
      "Evaluation on the valid_loader...\n"
     ]
    },
    {
     "data": {
      "application/vnd.jupyter.widget-view+json": {
       "model_id": "9d8ae28e15b84a6bbe1001166a07a739",
       "version_major": 2,
       "version_minor": 0
      },
      "text/plain": [
       "HBox(children=(FloatProgress(value=0.0, max=335.0), HTML(value='')))"
      ]
     },
     "metadata": {},
     "output_type": "display_data"
    },
    {
     "name": "stdout",
     "output_type": "stream",
     "text": [
      "\n",
      "average_precision: 0.22392 (+/-0.16221)\n",
      "recall_at_10: 0.42158 (+/-0.31512)\n",
      "reciprocal_best_rank: 0.27822 (+/-0.27501)\n",
      "reciprocal_average_rank: 0.09792 (+/-0.07492)\n",
      "ndcg_at_10: 0.25490 (+/-0.21545)\n",
      "\n",
      "frequency\n",
      "Learning answers counts...\n"
     ]
    },
    {
     "data": {
      "application/vnd.jupyter.widget-view+json": {
       "model_id": "1fe615605bd1407db77be07eda4b0bf6",
       "version_major": 2,
       "version_minor": 0
      },
      "text/plain": [
       "HBox(children=(FloatProgress(value=0.0, max=670.0), HTML(value='')))"
      ]
     },
     "metadata": {},
     "output_type": "display_data"
    },
    {
     "name": "stdout",
     "output_type": "stream",
     "text": [
      "\n",
      "Evaluation on the train_loader...\n"
     ]
    },
    {
     "data": {
      "application/vnd.jupyter.widget-view+json": {
       "model_id": "b80feb513a4542cfa8c7c1f95d604399",
       "version_major": 2,
       "version_minor": 0
      },
      "text/plain": [
       "HBox(children=(FloatProgress(value=0.0, max=670.0), HTML(value='')))"
      ]
     },
     "metadata": {},
     "output_type": "display_data"
    },
    {
     "name": "stdout",
     "output_type": "stream",
     "text": [
      "\n",
      "average_precision: 0.64432 (+/-0.26247)\n",
      "recall_at_10: 0.81144 (+/-0.24395)\n",
      "reciprocal_best_rank: 0.81219 (+/-0.31235)\n",
      "reciprocal_average_rank: 0.28123 (+/-0.20838)\n",
      "ndcg_at_10: 0.71936 (+/-0.25323)\n",
      "\n",
      "Evaluation on the valid_loader...\n"
     ]
    },
    {
     "data": {
      "application/vnd.jupyter.widget-view+json": {
       "model_id": "b0b4bfd8f22346fe853bbe29213f4e3f",
       "version_major": 2,
       "version_minor": 0
      },
      "text/plain": [
       "HBox(children=(FloatProgress(value=0.0, max=335.0), HTML(value='')))"
      ]
     },
     "metadata": {},
     "output_type": "display_data"
    },
    {
     "name": "stdout",
     "output_type": "stream",
     "text": [
      "\n",
      "average_precision: 0.54863 (+/-0.30354)\n",
      "recall_at_10: 0.59573 (+/-0.34385)\n",
      "reciprocal_best_rank: 0.75882 (+/-0.36977)\n",
      "reciprocal_average_rank: 0.22435 (+/-0.23033)\n",
      "ndcg_at_10: 0.58658 (+/-0.32515)\n",
      "\n",
      "summaries_count\n",
      "Evaluation on the train_loader...\n"
     ]
    },
    {
     "data": {
      "application/vnd.jupyter.widget-view+json": {
       "model_id": "54fcebebfb134f64ac861d748fa441e1",
       "version_major": 2,
       "version_minor": 0
      },
      "text/plain": [
       "HBox(children=(FloatProgress(value=0.0, max=670.0), HTML(value='')))"
      ]
     },
     "metadata": {},
     "output_type": "display_data"
    },
    {
     "name": "stdout",
     "output_type": "stream",
     "text": [
      "\n",
      "average_precision: 0.37515 (+/-0.26545)\n",
      "recall_at_10: 0.54391 (+/-0.32041)\n",
      "reciprocal_best_rank: 0.49980 (+/-0.38703)\n",
      "reciprocal_average_rank: 0.14384 (+/-0.13814)\n",
      "ndcg_at_10: 0.42525 (+/-0.29857)\n",
      "\n",
      "Evaluation on the valid_loader...\n"
     ]
    },
    {
     "data": {
      "application/vnd.jupyter.widget-view+json": {
       "model_id": "ecae5816bd6444b9972ea2d5ee9a82e9",
       "version_major": 2,
       "version_minor": 0
      },
      "text/plain": [
       "HBox(children=(FloatProgress(value=0.0, max=335.0), HTML(value='')))"
      ]
     },
     "metadata": {},
     "output_type": "display_data"
    },
    {
     "name": "stdout",
     "output_type": "stream",
     "text": [
      "\n",
      "average_precision: 0.34620 (+/-0.25037)\n",
      "recall_at_10: 0.51279 (+/-0.32480)\n",
      "reciprocal_best_rank: 0.48475 (+/-0.39033)\n",
      "reciprocal_average_rank: 0.13824 (+/-0.14474)\n",
      "ndcg_at_10: 0.39376 (+/-0.28797)\n",
      "\n",
      "summaries_unique_count\n",
      "Evaluation on the train_loader...\n"
     ]
    },
    {
     "data": {
      "application/vnd.jupyter.widget-view+json": {
       "model_id": "ee23ea52e12a475b91a418f55b6307bb",
       "version_major": 2,
       "version_minor": 0
      },
      "text/plain": [
       "HBox(children=(FloatProgress(value=0.0, max=670.0), HTML(value='')))"
      ]
     },
     "metadata": {},
     "output_type": "display_data"
    },
    {
     "name": "stdout",
     "output_type": "stream",
     "text": [
      "\n",
      "average_precision: 0.35612 (+/-0.24400)\n",
      "recall_at_10: 0.54429 (+/-0.31870)\n",
      "reciprocal_best_rank: 0.47811 (+/-0.37535)\n",
      "reciprocal_average_rank: 0.13752 (+/-0.12579)\n",
      "ndcg_at_10: 0.41124 (+/-0.28447)\n",
      "\n",
      "Evaluation on the valid_loader...\n"
     ]
    },
    {
     "data": {
      "application/vnd.jupyter.widget-view+json": {
       "model_id": "a6e9e6aeed3645a08a51aacd62229204",
       "version_major": 2,
       "version_minor": 0
      },
      "text/plain": [
       "HBox(children=(FloatProgress(value=0.0, max=335.0), HTML(value='')))"
      ]
     },
     "metadata": {},
     "output_type": "display_data"
    },
    {
     "name": "stdout",
     "output_type": "stream",
     "text": [
      "\n",
      "average_precision: 0.33220 (+/-0.24452)\n",
      "recall_at_10: 0.51467 (+/-0.32252)\n",
      "reciprocal_best_rank: 0.45340 (+/-0.37161)\n",
      "reciprocal_average_rank: 0.13689 (+/-0.14637)\n",
      "ndcg_at_10: 0.38149 (+/-0.28176)\n",
      "\n",
      "summaries_overlap\n",
      "Evaluation on the train_loader...\n"
     ]
    },
    {
     "data": {
      "application/vnd.jupyter.widget-view+json": {
       "model_id": "e36e536221b34e9d8869a31d236a133d",
       "version_major": 2,
       "version_minor": 0
      },
      "text/plain": [
       "HBox(children=(FloatProgress(value=0.0, max=670.0), HTML(value='')))"
      ]
     },
     "metadata": {},
     "output_type": "display_data"
    },
    {
     "name": "stdout",
     "output_type": "stream",
     "text": [
      "\n",
      "average_precision: 0.34542 (+/-0.24566)\n",
      "recall_at_10: 0.50566 (+/-0.31422)\n",
      "reciprocal_best_rank: 0.47166 (+/-0.37736)\n",
      "reciprocal_average_rank: 0.13222 (+/-0.12983)\n",
      "ndcg_at_10: 0.39010 (+/-0.28483)\n",
      "\n",
      "Evaluation on the valid_loader...\n"
     ]
    },
    {
     "data": {
      "application/vnd.jupyter.widget-view+json": {
       "model_id": "f7209265fdbe45c59bc6674f259936ef",
       "version_major": 2,
       "version_minor": 0
      },
      "text/plain": [
       "HBox(children=(FloatProgress(value=0.0, max=335.0), HTML(value='')))"
      ]
     },
     "metadata": {},
     "output_type": "display_data"
    },
    {
     "name": "stdout",
     "output_type": "stream",
     "text": [
      "\n",
      "average_precision: 0.32680 (+/-0.25003)\n",
      "recall_at_10: 0.48840 (+/-0.32938)\n",
      "reciprocal_best_rank: 0.45084 (+/-0.38630)\n",
      "reciprocal_average_rank: 0.13092 (+/-0.13709)\n",
      "ndcg_at_10: 0.36828 (+/-0.29203)\n",
      "\n",
      "activated_summaries\n",
      "Evaluation on the train_loader...\n"
     ]
    },
    {
     "data": {
      "application/vnd.jupyter.widget-view+json": {
       "model_id": "24fae0f0e21148208d75cbebdd79ff1b",
       "version_major": 2,
       "version_minor": 0
      },
      "text/plain": [
       "HBox(children=(FloatProgress(value=0.0, max=670.0), HTML(value='')))"
      ]
     },
     "metadata": {},
     "output_type": "display_data"
    },
    {
     "name": "stdout",
     "output_type": "stream",
     "text": [
      "\n",
      "average_precision: 0.35808 (+/-0.24819)\n",
      "recall_at_10: 0.54219 (+/-0.32149)\n",
      "reciprocal_best_rank: 0.47337 (+/-0.37489)\n",
      "reciprocal_average_rank: 0.13874 (+/-0.12895)\n",
      "ndcg_at_10: 0.41099 (+/-0.28603)\n",
      "\n",
      "Evaluation on the valid_loader...\n"
     ]
    },
    {
     "data": {
      "application/vnd.jupyter.widget-view+json": {
       "model_id": "294070a95fbb43d593b4fd3f5bd4b72f",
       "version_major": 2,
       "version_minor": 0
      },
      "text/plain": [
       "HBox(children=(FloatProgress(value=0.0, max=335.0), HTML(value='')))"
      ]
     },
     "metadata": {},
     "output_type": "display_data"
    },
    {
     "name": "stdout",
     "output_type": "stream",
     "text": [
      "\n",
      "average_precision: 0.33557 (+/-0.24709)\n",
      "recall_at_10: 0.51343 (+/-0.32286)\n",
      "reciprocal_best_rank: 0.45968 (+/-0.38083)\n",
      "reciprocal_average_rank: 0.13786 (+/-0.14888)\n",
      "ndcg_at_10: 0.38378 (+/-0.28271)\n",
      "\n",
      "context_count\n",
      "Evaluation on the train_loader...\n"
     ]
    },
    {
     "data": {
      "application/vnd.jupyter.widget-view+json": {
       "model_id": "5a4ca94ab3af412185231d2afe4439da",
       "version_major": 2,
       "version_minor": 0
      },
      "text/plain": [
       "HBox(children=(FloatProgress(value=0.0, max=670.0), HTML(value='')))"
      ]
     },
     "metadata": {},
     "output_type": "display_data"
    },
    {
     "name": "stdout",
     "output_type": "stream",
     "text": [
      "\n",
      "average_precision: 0.33636 (+/-0.24733)\n",
      "recall_at_10: 0.48518 (+/-0.31524)\n",
      "reciprocal_best_rank: 0.46755 (+/-0.38622)\n",
      "reciprocal_average_rank: 0.12644 (+/-0.12602)\n",
      "ndcg_at_10: 0.37691 (+/-0.28661)\n",
      "\n",
      "Evaluation on the valid_loader...\n"
     ]
    },
    {
     "data": {
      "application/vnd.jupyter.widget-view+json": {
       "model_id": "a499789af705491d980c549318ebf97a",
       "version_major": 2,
       "version_minor": 0
      },
      "text/plain": [
       "HBox(children=(FloatProgress(value=0.0, max=335.0), HTML(value='')))"
      ]
     },
     "metadata": {},
     "output_type": "display_data"
    },
    {
     "name": "stdout",
     "output_type": "stream",
     "text": [
      "\n",
      "average_precision: 0.30545 (+/-0.23510)\n",
      "recall_at_10: 0.45842 (+/-0.31967)\n",
      "reciprocal_best_rank: 0.41092 (+/-0.36080)\n",
      "reciprocal_average_rank: 0.12782 (+/-0.13714)\n",
      "ndcg_at_10: 0.33932 (+/-0.27979)\n",
      "\n",
      "context_unique_count\n",
      "Evaluation on the train_loader...\n"
     ]
    },
    {
     "data": {
      "application/vnd.jupyter.widget-view+json": {
       "model_id": "14ba5d44c20a43ab8fdb91d3d18082da",
       "version_major": 2,
       "version_minor": 0
      },
      "text/plain": [
       "HBox(children=(FloatProgress(value=0.0, max=670.0), HTML(value='')))"
      ]
     },
     "metadata": {},
     "output_type": "display_data"
    },
    {
     "name": "stdout",
     "output_type": "stream",
     "text": [
      "\n",
      "average_precision: 0.33258 (+/-0.24404)\n",
      "recall_at_10: 0.48602 (+/-0.31426)\n",
      "reciprocal_best_rank: 0.45780 (+/-0.37995)\n",
      "reciprocal_average_rank: 0.12560 (+/-0.12409)\n",
      "ndcg_at_10: 0.37350 (+/-0.28368)\n",
      "\n",
      "Evaluation on the valid_loader...\n"
     ]
    },
    {
     "data": {
      "application/vnd.jupyter.widget-view+json": {
       "model_id": "fafaa723899e404195e3a76b17255b5e",
       "version_major": 2,
       "version_minor": 0
      },
      "text/plain": [
       "HBox(children=(FloatProgress(value=0.0, max=335.0), HTML(value='')))"
      ]
     },
     "metadata": {},
     "output_type": "display_data"
    },
    {
     "name": "stdout",
     "output_type": "stream",
     "text": [
      "\n",
      "average_precision: 0.30455 (+/-0.23377)\n",
      "recall_at_10: 0.45867 (+/-0.31844)\n",
      "reciprocal_best_rank: 0.41418 (+/-0.36348)\n",
      "reciprocal_average_rank: 0.12646 (+/-0.13071)\n",
      "ndcg_at_10: 0.33936 (+/-0.27859)\n",
      "\n",
      "summaries_context_count\n",
      "Evaluation on the train_loader...\n"
     ]
    },
    {
     "data": {
      "application/vnd.jupyter.widget-view+json": {
       "model_id": "7b8dcd32b6dd4929a1810ac199a08d77",
       "version_major": 2,
       "version_minor": 0
      },
      "text/plain": [
       "HBox(children=(FloatProgress(value=0.0, max=670.0), HTML(value='')))"
      ]
     },
     "metadata": {},
     "output_type": "display_data"
    },
    {
     "name": "stdout",
     "output_type": "stream",
     "text": [
      "\n",
      "average_precision: 0.41318 (+/-0.27549)\n",
      "recall_at_10: 0.58258 (+/-0.31418)\n",
      "reciprocal_best_rank: 0.55754 (+/-0.39501)\n",
      "reciprocal_average_rank: 0.15754 (+/-0.15124)\n",
      "ndcg_at_10: 0.47093 (+/-0.30341)\n",
      "\n",
      "Evaluation on the valid_loader...\n"
     ]
    },
    {
     "data": {
      "application/vnd.jupyter.widget-view+json": {
       "model_id": "dc0d0bb2b1504277a6d9ef9d352c8c37",
       "version_major": 2,
       "version_minor": 0
      },
      "text/plain": [
       "HBox(children=(FloatProgress(value=0.0, max=335.0), HTML(value='')))"
      ]
     },
     "metadata": {},
     "output_type": "display_data"
    },
    {
     "name": "stdout",
     "output_type": "stream",
     "text": [
      "\n",
      "average_precision: 0.37193 (+/-0.26147)\n",
      "recall_at_10: 0.53718 (+/-0.31690)\n",
      "reciprocal_best_rank: 0.51048 (+/-0.39050)\n",
      "reciprocal_average_rank: 0.14976 (+/-0.15831)\n",
      "ndcg_at_10: 0.42327 (+/-0.29490)\n",
      "\n",
      "summaries_context_unique_count\n",
      "Evaluation on the train_loader...\n"
     ]
    },
    {
     "data": {
      "application/vnd.jupyter.widget-view+json": {
       "model_id": "54446369c4e44cfc9e971c73d00675b0",
       "version_major": 2,
       "version_minor": 0
      },
      "text/plain": [
       "HBox(children=(FloatProgress(value=0.0, max=670.0), HTML(value='')))"
      ]
     },
     "metadata": {},
     "output_type": "display_data"
    },
    {
     "name": "stdout",
     "output_type": "stream",
     "text": [
      "\n",
      "average_precision: 0.37839 (+/-0.24594)\n",
      "recall_at_10: 0.58036 (+/-0.31054)\n",
      "reciprocal_best_rank: 0.51334 (+/-0.37506)\n",
      "reciprocal_average_rank: 0.14581 (+/-0.13194)\n",
      "ndcg_at_10: 0.44332 (+/-0.28045)\n",
      "\n",
      "Evaluation on the valid_loader...\n"
     ]
    },
    {
     "data": {
      "application/vnd.jupyter.widget-view+json": {
       "model_id": "d5b042b3e8c34f8d9944c0c1de709cde",
       "version_major": 2,
       "version_minor": 0
      },
      "text/plain": [
       "HBox(children=(FloatProgress(value=0.0, max=335.0), HTML(value='')))"
      ]
     },
     "metadata": {},
     "output_type": "display_data"
    },
    {
     "name": "stdout",
     "output_type": "stream",
     "text": [
      "\n",
      "average_precision: 0.35186 (+/-0.25122)\n",
      "recall_at_10: 0.53780 (+/-0.31657)\n",
      "reciprocal_best_rank: 0.47196 (+/-0.37331)\n",
      "reciprocal_average_rank: 0.14473 (+/-0.14767)\n",
      "ndcg_at_10: 0.40562 (+/-0.28656)\n",
      "\n",
      "summaries_context_overlap\n",
      "Evaluation on the train_loader...\n"
     ]
    },
    {
     "data": {
      "application/vnd.jupyter.widget-view+json": {
       "model_id": "cd68924146b84004928ce822bda75eec",
       "version_major": 2,
       "version_minor": 0
      },
      "text/plain": [
       "HBox(children=(FloatProgress(value=0.0, max=670.0), HTML(value='')))"
      ]
     },
     "metadata": {},
     "output_type": "display_data"
    },
    {
     "name": "stdout",
     "output_type": "stream",
     "text": [
      "\n",
      "average_precision: 0.38829 (+/-0.25931)\n",
      "recall_at_10: 0.55728 (+/-0.31536)\n",
      "reciprocal_best_rank: 0.52760 (+/-0.38257)\n",
      "reciprocal_average_rank: 0.14959 (+/-0.14610)\n",
      "ndcg_at_10: 0.44309 (+/-0.29303)\n",
      "\n",
      "Evaluation on the valid_loader...\n"
     ]
    },
    {
     "data": {
      "application/vnd.jupyter.widget-view+json": {
       "model_id": "50cf006481054b289524c6ada18c7eb7",
       "version_major": 2,
       "version_minor": 0
      },
      "text/plain": [
       "HBox(children=(FloatProgress(value=0.0, max=335.0), HTML(value='')))"
      ]
     },
     "metadata": {},
     "output_type": "display_data"
    },
    {
     "name": "stdout",
     "output_type": "stream",
     "text": [
      "\n",
      "average_precision: 0.35462 (+/-0.25688)\n",
      "recall_at_10: 0.52437 (+/-0.32573)\n",
      "reciprocal_best_rank: 0.48675 (+/-0.38586)\n",
      "reciprocal_average_rank: 0.14151 (+/-0.14272)\n",
      "ndcg_at_10: 0.40367 (+/-0.29520)\n",
      "\n"
     ]
    }
   ],
   "source": [
    "run_models(model_names=[\"random\",\n",
    "                        \"frequency\",\n",
    "                        \"summaries_count\",\n",
    "                        \"summaries_unique_count\",\n",
    "                        \"summaries_overlap\",\n",
    "                        \"activated_summaries\",\n",
    "                        \"context_count\",\n",
    "                        \"context_unique_count\",\n",
    "                        \"summaries_context_count\",\n",
    "                        \"summaries_context_unique_count\",\n",
    "                        \"summaries_context_overlap\"],\n",
    "           word2vec=False,\n",
    "           bart=False,\n",
    "           args=args)"
   ]
  },
  {
   "cell_type": "markdown",
   "metadata": {},
   "source": [
    "# Embedding baselines"
   ]
  },
  {
   "cell_type": "code",
   "execution_count": 6,
   "metadata": {
    "scrolled": false
   },
   "outputs": [
    {
     "name": "stdout",
     "output_type": "stream",
     "text": [
      "Word2Vec embedding loaded.\n",
      "\n",
      "summaries_average_embedding\n",
      "Evaluation on the train_loader...\n"
     ]
    },
    {
     "data": {
      "application/vnd.jupyter.widget-view+json": {
       "model_id": "c81ace3e84714f5680be319587056354",
       "version_major": 2,
       "version_minor": 0
      },
      "text/plain": [
       "HBox(children=(FloatProgress(value=0.0, max=670.0), HTML(value='')))"
      ]
     },
     "metadata": {},
     "output_type": "display_data"
    },
    {
     "name": "stdout",
     "output_type": "stream",
     "text": [
      "\n",
      "average_precision: 0.41380 (+/-0.28391)\n",
      "recall_at_10: 0.62030 (+/-0.34904)\n",
      "reciprocal_best_rank: 0.51592 (+/-0.38497)\n",
      "reciprocal_average_rank: 0.17472 (+/-0.15200)\n",
      "ndcg_at_10: 0.47397 (+/-0.31932)\n",
      "\n",
      "Evaluation on the valid_loader...\n"
     ]
    },
    {
     "data": {
      "application/vnd.jupyter.widget-view+json": {
       "model_id": "80fa0c2380224a2cb0852cab9af6e66f",
       "version_major": 2,
       "version_minor": 0
      },
      "text/plain": [
       "HBox(children=(FloatProgress(value=0.0, max=335.0), HTML(value='')))"
      ]
     },
     "metadata": {},
     "output_type": "display_data"
    },
    {
     "name": "stdout",
     "output_type": "stream",
     "text": [
      "\n",
      "average_precision: 0.40108 (+/-0.27737)\n",
      "recall_at_10: 0.61038 (+/-0.34773)\n",
      "reciprocal_best_rank: 0.52195 (+/-0.38488)\n",
      "reciprocal_average_rank: 0.17801 (+/-0.17174)\n",
      "ndcg_at_10: 0.46393 (+/-0.31099)\n",
      "\n",
      "summaries_overlap_average_embedding\n",
      "Evaluation on the train_loader...\n"
     ]
    },
    {
     "data": {
      "application/vnd.jupyter.widget-view+json": {
       "model_id": "0f7e6accaae34f69acff93babd17163a",
       "version_major": 2,
       "version_minor": 0
      },
      "text/plain": [
       "HBox(children=(FloatProgress(value=0.0, max=670.0), HTML(value='')))"
      ]
     },
     "metadata": {},
     "output_type": "display_data"
    },
    {
     "name": "stdout",
     "output_type": "stream",
     "text": [
      "\n",
      "average_precision: 0.44691 (+/-0.29407)\n",
      "recall_at_10: 0.60990 (+/-0.34797)\n",
      "reciprocal_best_rank: 0.57462 (+/-0.39538)\n",
      "reciprocal_average_rank: 0.18892 (+/-0.17482)\n",
      "ndcg_at_10: 0.49784 (+/-0.32485)\n",
      "\n",
      "Evaluation on the valid_loader...\n"
     ]
    },
    {
     "data": {
      "application/vnd.jupyter.widget-view+json": {
       "model_id": "47456fcab0ef48e593448f42a8b99802",
       "version_major": 2,
       "version_minor": 0
      },
      "text/plain": [
       "HBox(children=(FloatProgress(value=0.0, max=335.0), HTML(value='')))"
      ]
     },
     "metadata": {},
     "output_type": "display_data"
    },
    {
     "name": "stdout",
     "output_type": "stream",
     "text": [
      "\n",
      "average_precision: 0.42088 (+/-0.29577)\n",
      "recall_at_10: 0.59300 (+/-0.35809)\n",
      "reciprocal_best_rank: 0.53591 (+/-0.39350)\n",
      "reciprocal_average_rank: 0.19356 (+/-0.20271)\n",
      "ndcg_at_10: 0.47181 (+/-0.33115)\n",
      "\n",
      "context_average_embedding\n",
      "Evaluation on the train_loader...\n"
     ]
    },
    {
     "data": {
      "application/vnd.jupyter.widget-view+json": {
       "model_id": "28d5d4155d7f4d6997f66700d33c0c52",
       "version_major": 2,
       "version_minor": 0
      },
      "text/plain": [
       "HBox(children=(FloatProgress(value=0.0, max=670.0), HTML(value='')))"
      ]
     },
     "metadata": {},
     "output_type": "display_data"
    },
    {
     "name": "stdout",
     "output_type": "stream",
     "text": [
      "\n",
      "average_precision: 0.39313 (+/-0.26044)\n",
      "recall_at_10: 0.59249 (+/-0.32693)\n",
      "reciprocal_best_rank: 0.51568 (+/-0.38179)\n",
      "reciprocal_average_rank: 0.15516 (+/-0.12976)\n",
      "ndcg_at_10: 0.45360 (+/-0.29523)\n",
      "\n",
      "Evaluation on the valid_loader...\n"
     ]
    },
    {
     "data": {
      "application/vnd.jupyter.widget-view+json": {
       "model_id": "cc992343a3ca40c3a04c5a13ae32b7ea",
       "version_major": 2,
       "version_minor": 0
      },
      "text/plain": [
       "HBox(children=(FloatProgress(value=0.0, max=335.0), HTML(value='')))"
      ]
     },
     "metadata": {},
     "output_type": "display_data"
    },
    {
     "name": "stdout",
     "output_type": "stream",
     "text": [
      "\n",
      "average_precision: 0.37830 (+/-0.26480)\n",
      "recall_at_10: 0.59488 (+/-0.33338)\n",
      "reciprocal_best_rank: 0.48936 (+/-0.37078)\n",
      "reciprocal_average_rank: 0.16506 (+/-0.15644)\n",
      "ndcg_at_10: 0.44122 (+/-0.29709)\n",
      "\n",
      "summaries_context_average_embedding\n",
      "Evaluation on the train_loader...\n"
     ]
    },
    {
     "data": {
      "application/vnd.jupyter.widget-view+json": {
       "model_id": "12cb6305190b408b95a03e36c313e06a",
       "version_major": 2,
       "version_minor": 0
      },
      "text/plain": [
       "HBox(children=(FloatProgress(value=0.0, max=670.0), HTML(value='')))"
      ]
     },
     "metadata": {},
     "output_type": "display_data"
    },
    {
     "name": "stdout",
     "output_type": "stream",
     "text": [
      "\n",
      "average_precision: 0.41101 (+/-0.27392)\n",
      "recall_at_10: 0.62919 (+/-0.33242)\n",
      "reciprocal_best_rank: 0.51943 (+/-0.38065)\n",
      "reciprocal_average_rank: 0.16843 (+/-0.13912)\n",
      "ndcg_at_10: 0.47675 (+/-0.30562)\n",
      "\n",
      "Evaluation on the valid_loader...\n"
     ]
    },
    {
     "data": {
      "application/vnd.jupyter.widget-view+json": {
       "model_id": "4153d2d67b6f4ee2a5037c7e57a49840",
       "version_major": 2,
       "version_minor": 0
      },
      "text/plain": [
       "HBox(children=(FloatProgress(value=0.0, max=335.0), HTML(value='')))"
      ]
     },
     "metadata": {},
     "output_type": "display_data"
    },
    {
     "name": "stdout",
     "output_type": "stream",
     "text": [
      "\n",
      "average_precision: 0.40284 (+/-0.27345)\n",
      "recall_at_10: 0.63125 (+/-0.32628)\n",
      "reciprocal_best_rank: 0.52424 (+/-0.38539)\n",
      "reciprocal_average_rank: 0.17591 (+/-0.16484)\n",
      "ndcg_at_10: 0.47228 (+/-0.29980)\n",
      "\n",
      "summaries_context_overlap_average_embedding\n",
      "Evaluation on the train_loader...\n"
     ]
    },
    {
     "data": {
      "application/vnd.jupyter.widget-view+json": {
       "model_id": "35641b5a3c324872843ee8745ce06855",
       "version_major": 2,
       "version_minor": 0
      },
      "text/plain": [
       "HBox(children=(FloatProgress(value=0.0, max=670.0), HTML(value='')))"
      ]
     },
     "metadata": {},
     "output_type": "display_data"
    },
    {
     "name": "stdout",
     "output_type": "stream",
     "text": [
      "\n",
      "average_precision: 0.39196 (+/-0.25731)\n",
      "recall_at_10: 0.60796 (+/-0.32401)\n",
      "reciprocal_best_rank: 0.50878 (+/-0.37715)\n",
      "reciprocal_average_rank: 0.15658 (+/-0.12796)\n",
      "ndcg_at_10: 0.45648 (+/-0.29017)\n",
      "\n",
      "Evaluation on the valid_loader...\n"
     ]
    },
    {
     "data": {
      "application/vnd.jupyter.widget-view+json": {
       "model_id": "46d29217f5b84d9aacf6f0e44472bf42",
       "version_major": 2,
       "version_minor": 0
      },
      "text/plain": [
       "HBox(children=(FloatProgress(value=0.0, max=335.0), HTML(value='')))"
      ]
     },
     "metadata": {},
     "output_type": "display_data"
    },
    {
     "name": "stdout",
     "output_type": "stream",
     "text": [
      "\n",
      "average_precision: 0.39542 (+/-0.26734)\n",
      "recall_at_10: 0.60844 (+/-0.34491)\n",
      "reciprocal_best_rank: 0.52036 (+/-0.38122)\n",
      "reciprocal_average_rank: 0.17154 (+/-0.16013)\n",
      "ndcg_at_10: 0.46054 (+/-0.30289)\n",
      "\n"
     ]
    }
   ],
   "source": [
    "run_models(model_names=[\"summaries_average_embedding\",\n",
    "                        \"summaries_overlap_average_embedding\",\n",
    "                        \"context_average_embedding\",\n",
    "                        \"summaries_context_average_embedding\",\n",
    "                        \"summaries_context_overlap_average_embedding\"],\n",
    "           word2vec=True,\n",
    "           bart=False,\n",
    "           args=args)"
   ]
  }
 ],
 "metadata": {
  "kernelspec": {
   "display_name": "Python 3",
   "language": "python",
   "name": "python3"
  },
  "language_info": {
   "codemirror_mode": {
    "name": "ipython",
    "version": 3
   },
   "file_extension": ".py",
   "mimetype": "text/x-python",
   "name": "python",
   "nbconvert_exporter": "python",
   "pygments_lexer": "ipython3",
   "version": "3.7.7"
  },
  "pycharm": {
   "stem_cell": {
    "cell_type": "raw",
    "metadata": {
     "collapsed": false
    },
    "source": []
   }
  },
  "toc": {
   "base_numbering": 1,
   "nav_menu": {},
   "number_sections": true,
   "sideBar": true,
   "skip_h1_title": false,
   "title_cell": "Table of Contents",
   "title_sidebar": "Contents",
   "toc_cell": false,
   "toc_position": {},
   "toc_section_display": true,
   "toc_window_display": false
  }
 },
 "nbformat": 4,
 "nbformat_minor": 2
}
