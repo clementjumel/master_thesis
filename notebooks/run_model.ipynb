{
 "cells": [
  {
   "cell_type": "markdown",
   "metadata": {},
   "source": [
    "# Setup\n",
    "### Imports"
   ]
  },
  {
   "cell_type": "code",
   "execution_count": 1,
   "metadata": {
    "ExecuteTime": {
     "end_time": "2019-04-13T03:57:03.299844Z",
     "start_time": "2019-04-13T03:57:03.266445Z"
    },
    "pycharm": {
     "is_executing": false
    }
   },
   "outputs": [],
   "source": [
    "import sys\n",
    "sys.path.append('../')\n",
    "del sys\n",
    "\n",
    "%reload_ext autoreload\n",
    "%autoreload 2\n",
    "\n",
    "from toolbox.parsers import standard_parser, add_task_arguments, add_model_arguments\n",
    "from toolbox.utils import load_task, get_pretrained_model, to_class_name\n",
    "import modeling.models as models"
   ]
  },
  {
   "cell_type": "markdown",
   "metadata": {},
   "source": [
    "### Notebook functions"
   ]
  },
  {
   "cell_type": "code",
   "execution_count": 2,
   "metadata": {},
   "outputs": [],
   "source": [
    "def run_models(model_names, word2vec, bart, args):\n",
    "    args.word2vec = word2vec\n",
    "    args.bart = bart\n",
    "    \n",
    "    pretrained_model = get_pretrained_model(args)\n",
    "    \n",
    "    for model_name in model_names:\n",
    "        args.model = model_name\n",
    "        print(model_name)\n",
    "\n",
    "        model = getattr(models, to_class_name(args.model))(args=args, pretrained_model=pretrained_model)\n",
    "        model.play(task=task, args=args)"
   ]
  },
  {
   "cell_type": "markdown",
   "metadata": {},
   "source": [
    "### Parameters"
   ]
  },
  {
   "cell_type": "code",
   "execution_count": 3,
   "metadata": {},
   "outputs": [],
   "source": [
    "ap = standard_parser()\n",
    "add_task_arguments(ap)\n",
    "add_model_arguments(ap)\n",
    "args = ap.parse_args([\"-m\", \"\",\n",
    "                      \"--root\", \"..\"])"
   ]
  },
  {
   "cell_type": "markdown",
   "metadata": {},
   "source": [
    "### Load the data"
   ]
  },
  {
   "cell_type": "code",
   "execution_count": 4,
   "metadata": {
    "scrolled": true
   },
   "outputs": [
    {
     "name": "stdout",
     "output_type": "stream",
     "text": [
      "Task loaded from ../results/modeling_task/context-dependent-same-type_50-25-25_rs24_bs4_cf-v0_tf-v0.pkl.\n",
      "\n"
     ]
    }
   ],
   "source": [
    "task = load_task(args)"
   ]
  },
  {
   "cell_type": "markdown",
   "metadata": {},
   "source": [
    "# Basic baselines"
   ]
  },
  {
   "cell_type": "code",
   "execution_count": 6,
   "metadata": {
    "scrolled": false
   },
   "outputs": [
    {
     "name": "stdout",
     "output_type": "stream",
     "text": [
      "random\n",
      "Evaluation on the valid loader...\n"
     ]
    },
    {
     "data": {
      "application/vnd.jupyter.widget-view+json": {
       "model_id": "6389da01777545e3bf245c87c3ee5186",
       "version_major": 2,
       "version_minor": 0
      },
      "text/plain": [
       "HBox(children=(FloatProgress(value=0.0, max=430.0), HTML(value='')))"
      ]
     },
     "metadata": {},
     "output_type": "display_data"
    },
    {
     "name": "stdout",
     "output_type": "stream",
     "text": [
      "\n",
      "average_precision: 0.21834 (+/-0.14558)\n",
      "precision_at_10: 0.11698 (+/-0.08554)\n",
      "recall_at_10: 0.43314 (+/-0.30858)\n",
      "ndcg_at_10: 0.25981 (+/-0.20676)\n",
      "reciprocal_best_rank: 0.28630 (+/-0.28338)\n",
      "reciprocal_average_rank: 0.09448 (+/-0.05132)\n",
      "\n",
      "Evaluation on the test loader...\n"
     ]
    },
    {
     "data": {
      "application/vnd.jupyter.widget-view+json": {
       "model_id": "c7384b6536cc4d2f908fdd9ec0ba28a0",
       "version_major": 2,
       "version_minor": 0
      },
      "text/plain": [
       "HBox(children=(FloatProgress(value=0.0, max=430.0), HTML(value='')))"
      ]
     },
     "metadata": {},
     "output_type": "display_data"
    },
    {
     "name": "stdout",
     "output_type": "stream",
     "text": [
      "\n",
      "average_precision: 0.21761 (+/-0.15138)\n",
      "precision_at_10: 0.11000 (+/-0.08022)\n",
      "recall_at_10: 0.41899 (+/-0.32217)\n",
      "ndcg_at_10: 0.25295 (+/-0.21509)\n",
      "reciprocal_best_rank: 0.28385 (+/-0.28441)\n",
      "reciprocal_average_rank: 0.09795 (+/-0.07226)\n",
      "\n",
      "frequency\n",
      "Learning answers counts...\n"
     ]
    },
    {
     "data": {
      "application/vnd.jupyter.widget-view+json": {
       "model_id": "594948a5e3374811a16b9a705664bb5c",
       "version_major": 2,
       "version_minor": 0
      },
      "text/plain": [
       "HBox(children=(FloatProgress(value=0.0, max=858.0), HTML(value='')))"
      ]
     },
     "metadata": {},
     "output_type": "display_data"
    },
    {
     "name": "stdout",
     "output_type": "stream",
     "text": [
      "\n",
      "Evaluation on the valid loader...\n"
     ]
    },
    {
     "data": {
      "application/vnd.jupyter.widget-view+json": {
       "model_id": "bcd94b4c04bc45fd8aeabe218a11f1ed",
       "version_major": 2,
       "version_minor": 0
      },
      "text/plain": [
       "HBox(children=(FloatProgress(value=0.0, max=430.0), HTML(value='')))"
      ]
     },
     "metadata": {},
     "output_type": "display_data"
    },
    {
     "name": "stdout",
     "output_type": "stream",
     "text": [
      "\n",
      "average_precision: 0.55722 (+/-0.28929)\n",
      "precision_at_10: 0.17116 (+/-0.09575)\n",
      "recall_at_10: 0.63686 (+/-0.31829)\n",
      "ndcg_at_10: 0.60936 (+/-0.30469)\n",
      "reciprocal_best_rank: 0.77332 (+/-0.35105)\n",
      "reciprocal_average_rank: 0.21910 (+/-0.20481)\n",
      "\n",
      "Evaluation on the test loader...\n"
     ]
    },
    {
     "data": {
      "application/vnd.jupyter.widget-view+json": {
       "model_id": "73fe5494a5be44c2ac521c71e0e4ef66",
       "version_major": 2,
       "version_minor": 0
      },
      "text/plain": [
       "HBox(children=(FloatProgress(value=0.0, max=430.0), HTML(value='')))"
      ]
     },
     "metadata": {},
     "output_type": "display_data"
    },
    {
     "name": "stdout",
     "output_type": "stream",
     "text": [
      "\n",
      "average_precision: 0.56964 (+/-0.30197)\n",
      "precision_at_10: 0.17372 (+/-0.09780)\n",
      "recall_at_10: 0.65539 (+/-0.32277)\n",
      "ndcg_at_10: 0.61954 (+/-0.31415)\n",
      "reciprocal_best_rank: 0.76132 (+/-0.35846)\n",
      "reciprocal_average_rank: 0.24323 (+/-0.22607)\n",
      "\n"
     ]
    }
   ],
   "source": [
    "run_models(model_names=[\"random\",\n",
    "                        \"frequency\"],\n",
    "           word2vec=False,\n",
    "           bart=False,\n",
    "           args=args)"
   ]
  },
  {
   "cell_type": "markdown",
   "metadata": {},
   "source": [
    "# Basic baselines"
   ]
  },
  {
   "cell_type": "code",
   "execution_count": 9,
   "metadata": {
    "scrolled": false
   },
   "outputs": [
    {
     "name": "stdout",
     "output_type": "stream",
     "text": [
      "summaries-count\n",
      "Evaluation on the valid loader...\n"
     ]
    },
    {
     "data": {
      "application/vnd.jupyter.widget-view+json": {
       "model_id": "4c46d8484b21414b9c9e43bf08547aee",
       "version_major": 2,
       "version_minor": 0
      },
      "text/plain": [
       "HBox(children=(FloatProgress(value=0.0, max=430.0), HTML(value='')))"
      ]
     },
     "metadata": {},
     "output_type": "display_data"
    },
    {
     "name": "stdout",
     "output_type": "stream",
     "text": [
      "\n",
      "average_precision: 0.34912 (+/-0.24558)\n",
      "precision_at_10: 0.15023 (+/-0.09493)\n",
      "recall_at_10: 0.54527 (+/-0.31847)\n",
      "ndcg_at_10: 0.40917 (+/-0.28220)\n",
      "reciprocal_best_rank: 0.48637 (+/-0.38461)\n",
      "reciprocal_average_rank: 0.13998 (+/-0.13550)\n",
      "\n",
      "Evaluation on the test loader...\n",
      "\n"
     ]
    },
    {
     "data": {
      "application/vnd.jupyter.widget-view+json": {
       "model_id": "f6c53c8e60bc452aa58a2e1f246beae3",
       "version_major": 2,
       "version_minor": 0
      },
      "text/plain": [
       "HBox(children=(FloatProgress(value=0.0, max=430.0), HTML(value='')))"
      ]
     },
     "metadata": {},
     "output_type": "display_data"
    },
    {
     "name": "stdout",
     "output_type": "stream",
     "text": [
      "\n",
      "average_precision: 0.33686 (+/-0.23619)\n",
      "precision_at_10: 0.14791 (+/-0.09733)\n",
      "recall_at_10: 0.54837 (+/-0.32292)\n",
      "ndcg_at_10: 0.39944 (+/-0.27785)\n",
      "reciprocal_best_rank: 0.46726 (+/-0.37759)\n",
      "reciprocal_average_rank: 0.13358 (+/-0.11296)\n",
      "\n",
      "summaries-unique-count\n",
      "Evaluation on the valid loader...\n"
     ]
    },
    {
     "data": {
      "application/vnd.jupyter.widget-view+json": {
       "model_id": "448f7ca223ab42a583b646cef049c9fe",
       "version_major": 2,
       "version_minor": 0
      },
      "text/plain": [
       "HBox(children=(FloatProgress(value=0.0, max=430.0), HTML(value='')))"
      ]
     },
     "metadata": {},
     "output_type": "display_data"
    },
    {
     "name": "stdout",
     "output_type": "stream",
     "text": [
      "\n",
      "average_precision: 0.32527 (+/-0.22800)\n",
      "precision_at_10: 0.14953 (+/-0.09468)\n",
      "recall_at_10: 0.54333 (+/-0.31712)\n",
      "ndcg_at_10: 0.38839 (+/-0.26976)\n",
      "reciprocal_best_rank: 0.44537 (+/-0.36249)\n",
      "reciprocal_average_rank: 0.13379 (+/-0.12807)\n",
      "\n",
      "Evaluation on the test loader...\n"
     ]
    },
    {
     "data": {
      "application/vnd.jupyter.widget-view+json": {
       "model_id": "df06a211f7c14903b1e1883f9b964361",
       "version_major": 2,
       "version_minor": 0
      },
      "text/plain": [
       "HBox(children=(FloatProgress(value=0.0, max=430.0), HTML(value='')))"
      ]
     },
     "metadata": {},
     "output_type": "display_data"
    },
    {
     "name": "stdout",
     "output_type": "stream",
     "text": [
      "\n",
      "average_precision: 0.32204 (+/-0.22354)\n",
      "precision_at_10: 0.14628 (+/-0.09656)\n",
      "recall_at_10: 0.54209 (+/-0.32136)\n",
      "ndcg_at_10: 0.38540 (+/-0.26897)\n",
      "reciprocal_best_rank: 0.44591 (+/-0.36189)\n",
      "reciprocal_average_rank: 0.12919 (+/-0.10784)\n",
      "\n",
      "summaries-overlap\n",
      "Evaluation on the valid loader...\n"
     ]
    },
    {
     "data": {
      "application/vnd.jupyter.widget-view+json": {
       "model_id": "ed3c9ac4dc81446ca29c8fe7123a8530",
       "version_major": 2,
       "version_minor": 0
      },
      "text/plain": [
       "HBox(children=(FloatProgress(value=0.0, max=430.0), HTML(value='')))"
      ]
     },
     "metadata": {},
     "output_type": "display_data"
    },
    {
     "name": "stdout",
     "output_type": "stream",
     "text": [
      "\n",
      "average_precision: 0.32054 (+/-0.22950)\n",
      "precision_at_10: 0.14209 (+/-0.09485)\n",
      "recall_at_10: 0.51667 (+/-0.32319)\n",
      "ndcg_at_10: 0.37609 (+/-0.27523)\n",
      "reciprocal_best_rank: 0.44829 (+/-0.37278)\n",
      "reciprocal_average_rank: 0.12865 (+/-0.11853)\n",
      "\n",
      "Evaluation on the test loader...\n"
     ]
    },
    {
     "data": {
      "application/vnd.jupyter.widget-view+json": {
       "model_id": "6637fea4b2894f7f9c0180025bbb150f",
       "version_major": 2,
       "version_minor": 0
      },
      "text/plain": [
       "HBox(children=(FloatProgress(value=0.0, max=430.0), HTML(value='')))"
      ]
     },
     "metadata": {},
     "output_type": "display_data"
    },
    {
     "name": "stdout",
     "output_type": "stream",
     "text": [
      "\n",
      "average_precision: 0.31849 (+/-0.22400)\n",
      "precision_at_10: 0.14070 (+/-0.09323)\n",
      "recall_at_10: 0.52543 (+/-0.31475)\n",
      "ndcg_at_10: 0.37921 (+/-0.26898)\n",
      "reciprocal_best_rank: 0.45814 (+/-0.37775)\n",
      "reciprocal_average_rank: 0.12474 (+/-0.10155)\n",
      "\n",
      "activated-summaries\n",
      "Evaluation on the valid loader...\n"
     ]
    },
    {
     "data": {
      "application/vnd.jupyter.widget-view+json": {
       "model_id": "4c1a50e350b94e0c839d8ad7eefcafc6",
       "version_major": 2,
       "version_minor": 0
      },
      "text/plain": [
       "HBox(children=(FloatProgress(value=0.0, max=430.0), HTML(value='')))"
      ]
     },
     "metadata": {},
     "output_type": "display_data"
    },
    {
     "name": "stdout",
     "output_type": "stream",
     "text": [
      "\n",
      "average_precision: 0.33479 (+/-0.23497)\n",
      "precision_at_10: 0.15000 (+/-0.09517)\n",
      "recall_at_10: 0.54411 (+/-0.31818)\n",
      "ndcg_at_10: 0.39639 (+/-0.27695)\n",
      "reciprocal_best_rank: 0.45860 (+/-0.36803)\n",
      "reciprocal_average_rank: 0.13718 (+/-0.13014)\n",
      "\n",
      "Evaluation on the test loader...\n"
     ]
    },
    {
     "data": {
      "application/vnd.jupyter.widget-view+json": {
       "model_id": "b53fd2b1e592451faeddb9a45078ae8b",
       "version_major": 2,
       "version_minor": 0
      },
      "text/plain": [
       "HBox(children=(FloatProgress(value=0.0, max=430.0), HTML(value='')))"
      ]
     },
     "metadata": {},
     "output_type": "display_data"
    },
    {
     "name": "stdout",
     "output_type": "stream",
     "text": [
      "\n",
      "average_precision: 0.32865 (+/-0.22648)\n",
      "precision_at_10: 0.14767 (+/-0.09732)\n",
      "recall_at_10: 0.54702 (+/-0.32300)\n",
      "ndcg_at_10: 0.39205 (+/-0.27150)\n",
      "reciprocal_best_rank: 0.45015 (+/-0.36536)\n",
      "reciprocal_average_rank: 0.13422 (+/-0.12032)\n",
      "\n",
      "context-count\n",
      "Evaluation on the valid loader...\n"
     ]
    },
    {
     "data": {
      "application/vnd.jupyter.widget-view+json": {
       "model_id": "1778625474404c94b47d3701324e8f61",
       "version_major": 2,
       "version_minor": 0
      },
      "text/plain": [
       "HBox(children=(FloatProgress(value=0.0, max=430.0), HTML(value='')))"
      ]
     },
     "metadata": {},
     "output_type": "display_data"
    },
    {
     "name": "stdout",
     "output_type": "stream",
     "text": [
      "\n",
      "average_precision: 0.28396 (+/-0.21318)\n",
      "precision_at_10: 0.13070 (+/-0.08911)\n",
      "recall_at_10: 0.47581 (+/-0.30818)\n",
      "ndcg_at_10: 0.33053 (+/-0.25754)\n",
      "reciprocal_best_rank: 0.38837 (+/-0.34978)\n",
      "reciprocal_average_rank: 0.11617 (+/-0.10418)\n",
      "\n",
      "Evaluation on the test loader...\n"
     ]
    },
    {
     "data": {
      "application/vnd.jupyter.widget-view+json": {
       "model_id": "cb105506bfbc4950928a92efd81d9547",
       "version_major": 2,
       "version_minor": 0
      },
      "text/plain": [
       "HBox(children=(FloatProgress(value=0.0, max=430.0), HTML(value='')))"
      ]
     },
     "metadata": {},
     "output_type": "display_data"
    },
    {
     "name": "stdout",
     "output_type": "stream",
     "text": [
      "\n",
      "average_precision: 0.29733 (+/-0.22815)\n",
      "precision_at_10: 0.12651 (+/-0.08677)\n",
      "recall_at_10: 0.48202 (+/-0.32071)\n",
      "ndcg_at_10: 0.34209 (+/-0.27249)\n",
      "reciprocal_best_rank: 0.40713 (+/-0.36542)\n",
      "reciprocal_average_rank: 0.12488 (+/-0.12305)\n",
      "\n",
      "context-unique-count\n",
      "Evaluation on the valid loader...\n"
     ]
    },
    {
     "data": {
      "application/vnd.jupyter.widget-view+json": {
       "model_id": "f67bd747dabd45e28a18cd7069fbd280",
       "version_major": 2,
       "version_minor": 0
      },
      "text/plain": [
       "HBox(children=(FloatProgress(value=0.0, max=430.0), HTML(value='')))"
      ]
     },
     "metadata": {},
     "output_type": "display_data"
    },
    {
     "name": "stdout",
     "output_type": "stream",
     "text": [
      "\n",
      "average_precision: 0.28141 (+/-0.21178)\n",
      "precision_at_10: 0.13093 (+/-0.08942)\n",
      "recall_at_10: 0.47628 (+/-0.30822)\n",
      "ndcg_at_10: 0.32827 (+/-0.25692)\n",
      "reciprocal_best_rank: 0.38293 (+/-0.34726)\n",
      "reciprocal_average_rank: 0.11587 (+/-0.10280)\n",
      "\n",
      "Evaluation on the test loader...\n"
     ]
    },
    {
     "data": {
      "application/vnd.jupyter.widget-view+json": {
       "model_id": "3a030df7077942fe85be5873ecabfa0c",
       "version_major": 2,
       "version_minor": 0
      },
      "text/plain": [
       "HBox(children=(FloatProgress(value=0.0, max=430.0), HTML(value='')))"
      ]
     },
     "metadata": {},
     "output_type": "display_data"
    },
    {
     "name": "stdout",
     "output_type": "stream",
     "text": [
      "\n",
      "average_precision: 0.29687 (+/-0.22553)\n",
      "precision_at_10: 0.12651 (+/-0.08677)\n",
      "recall_at_10: 0.48202 (+/-0.32071)\n",
      "ndcg_at_10: 0.34179 (+/-0.27107)\n",
      "reciprocal_best_rank: 0.40589 (+/-0.36193)\n",
      "reciprocal_average_rank: 0.12495 (+/-0.12250)\n",
      "\n",
      "summaries-context-count\n",
      "Evaluation on the valid loader...\n"
     ]
    },
    {
     "data": {
      "application/vnd.jupyter.widget-view+json": {
       "model_id": "000ca5fd4c91421797438b996886c2a9",
       "version_major": 2,
       "version_minor": 0
      },
      "text/plain": [
       "HBox(children=(FloatProgress(value=0.0, max=430.0), HTML(value='')))"
      ]
     },
     "metadata": {},
     "output_type": "display_data"
    },
    {
     "name": "stdout",
     "output_type": "stream",
     "text": [
      "\n",
      "average_precision: 0.36292 (+/-0.25151)\n",
      "precision_at_10: 0.15651 (+/-0.09617)\n",
      "recall_at_10: 0.56787 (+/-0.31630)\n",
      "ndcg_at_10: 0.42746 (+/-0.28373)\n",
      "reciprocal_best_rank: 0.50160 (+/-0.38437)\n",
      "reciprocal_average_rank: 0.14590 (+/-0.13808)\n",
      "\n",
      "Evaluation on the test loader...\n"
     ]
    },
    {
     "data": {
      "application/vnd.jupyter.widget-view+json": {
       "model_id": "d81e3e04dc984b50aa581fabd724edd1",
       "version_major": 2,
       "version_minor": 0
      },
      "text/plain": [
       "HBox(children=(FloatProgress(value=0.0, max=430.0), HTML(value='')))"
      ]
     },
     "metadata": {},
     "output_type": "display_data"
    },
    {
     "name": "stdout",
     "output_type": "stream",
     "text": [
      "\n",
      "average_precision: 0.36568 (+/-0.24624)\n",
      "precision_at_10: 0.15395 (+/-0.09336)\n",
      "recall_at_10: 0.57306 (+/-0.31014)\n",
      "ndcg_at_10: 0.43183 (+/-0.27906)\n",
      "reciprocal_best_rank: 0.50596 (+/-0.37523)\n",
      "reciprocal_average_rank: 0.14589 (+/-0.12792)\n",
      "\n",
      "summaries-context-unique-count\n",
      "Evaluation on the valid loader...\n"
     ]
    },
    {
     "data": {
      "application/vnd.jupyter.widget-view+json": {
       "model_id": "bc16a6c20d854a02a4e0e1983984f7bf",
       "version_major": 2,
       "version_minor": 0
      },
      "text/plain": [
       "HBox(children=(FloatProgress(value=0.0, max=430.0), HTML(value='')))"
      ]
     },
     "metadata": {},
     "output_type": "display_data"
    },
    {
     "name": "stdout",
     "output_type": "stream",
     "text": [
      "\n",
      "average_precision: 0.33708 (+/-0.23472)\n",
      "precision_at_10: 0.15674 (+/-0.09615)\n",
      "recall_at_10: 0.56884 (+/-0.31469)\n",
      "ndcg_at_10: 0.40562 (+/-0.27161)\n",
      "reciprocal_best_rank: 0.45553 (+/-0.36704)\n",
      "reciprocal_average_rank: 0.13894 (+/-0.12669)\n",
      "\n",
      "Evaluation on the test loader...\n"
     ]
    },
    {
     "data": {
      "application/vnd.jupyter.widget-view+json": {
       "model_id": "98882838447e433e9171def98fb53fd9",
       "version_major": 2,
       "version_minor": 0
      },
      "text/plain": [
       "HBox(children=(FloatProgress(value=0.0, max=430.0), HTML(value='')))"
      ]
     },
     "metadata": {},
     "output_type": "display_data"
    },
    {
     "name": "stdout",
     "output_type": "stream",
     "text": [
      "\n",
      "average_precision: 0.34552 (+/-0.22807)\n",
      "precision_at_10: 0.15233 (+/-0.09090)\n",
      "recall_at_10: 0.56814 (+/-0.30622)\n",
      "ndcg_at_10: 0.41479 (+/-0.26523)\n",
      "reciprocal_best_rank: 0.48403 (+/-0.36530)\n",
      "reciprocal_average_rank: 0.13732 (+/-0.11068)\n",
      "\n",
      "summaries-context-overlap\n",
      "Evaluation on the valid loader...\n"
     ]
    },
    {
     "data": {
      "application/vnd.jupyter.widget-view+json": {
       "model_id": "ea27546d2dbd4ff3a02c550b3e36b7de",
       "version_major": 2,
       "version_minor": 0
      },
      "text/plain": [
       "HBox(children=(FloatProgress(value=0.0, max=430.0), HTML(value='')))"
      ]
     },
     "metadata": {},
     "output_type": "display_data"
    },
    {
     "name": "stdout",
     "output_type": "stream",
     "text": [
      "\n",
      "average_precision: 0.34308 (+/-0.23653)\n",
      "precision_at_10: 0.15256 (+/-0.09538)\n",
      "recall_at_10: 0.55651 (+/-0.32022)\n",
      "ndcg_at_10: 0.40748 (+/-0.27551)\n",
      "reciprocal_best_rank: 0.47332 (+/-0.37442)\n",
      "reciprocal_average_rank: 0.13820 (+/-0.12345)\n",
      "\n",
      "Evaluation on the test loader...\n"
     ]
    },
    {
     "data": {
      "application/vnd.jupyter.widget-view+json": {
       "model_id": "039073342f284cd3991e938c75f44ee1",
       "version_major": 2,
       "version_minor": 0
      },
      "text/plain": [
       "HBox(children=(FloatProgress(value=0.0, max=430.0), HTML(value='')))"
      ]
     },
     "metadata": {},
     "output_type": "display_data"
    },
    {
     "name": "stdout",
     "output_type": "stream",
     "text": [
      "\n",
      "average_precision: 0.35738 (+/-0.24029)\n",
      "precision_at_10: 0.15116 (+/-0.09092)\n",
      "recall_at_10: 0.56705 (+/-0.30651)\n",
      "ndcg_at_10: 0.42554 (+/-0.27597)\n",
      "reciprocal_best_rank: 0.50936 (+/-0.38161)\n",
      "reciprocal_average_rank: 0.14155 (+/-0.12728)\n",
      "\n"
     ]
    }
   ],
   "source": [
    "run_models(model_names=[\"summaries-count\",\n",
    "                        \"summaries-unique-count\",\n",
    "                        \"summaries-overlap\",\n",
    "                        \"activated-summaries\",\n",
    "                        \"context-count\",\n",
    "                        \"context-unique-count\",\n",
    "                        \"summaries-context-count\",\n",
    "                        \"summaries-context-unique-count\",\n",
    "                        \"summaries-context-overlap\"],\n",
    "           word2vec=False,\n",
    "           bart=False,\n",
    "           args=args)"
   ]
  },
  {
   "cell_type": "markdown",
   "metadata": {},
   "source": [
    "# Embedding baselines"
   ]
  },
  {
   "cell_type": "code",
   "execution_count": 10,
   "metadata": {
    "scrolled": false
   },
   "outputs": [
    {
     "name": "stdout",
     "output_type": "stream",
     "text": [
      "Word2Vec embedding loaded.\n",
      "\n",
      "summaries-average-embedding\n",
      "Evaluation on the valid loader...\n"
     ]
    },
    {
     "data": {
      "application/vnd.jupyter.widget-view+json": {
       "model_id": "b09e9de8b60d4b89a06c238d00816c31",
       "version_major": 2,
       "version_minor": 0
      },
      "text/plain": [
       "HBox(children=(FloatProgress(value=0.0, max=430.0), HTML(value='')))"
      ]
     },
     "metadata": {},
     "output_type": "display_data"
    },
    {
     "name": "stdout",
     "output_type": "stream",
     "text": [
      "\n",
      "average_precision: 0.39109 (+/-0.28602)\n",
      "precision_at_10: 0.16558 (+/-0.10708)\n",
      "recall_at_10: 0.61597 (+/-0.35854)\n",
      "ndcg_at_10: 0.45504 (+/-0.32397)\n",
      "reciprocal_best_rank: 0.48865 (+/-0.38716)\n",
      "reciprocal_average_rank: 0.17855 (+/-0.16350)\n",
      "\n",
      "Evaluation on the test loader...\n"
     ]
    },
    {
     "data": {
      "application/vnd.jupyter.widget-view+json": {
       "model_id": "7c6a322e85a04300aa6c5950d14eb02a",
       "version_major": 2,
       "version_minor": 0
      },
      "text/plain": [
       "HBox(children=(FloatProgress(value=0.0, max=430.0), HTML(value='')))"
      ]
     },
     "metadata": {},
     "output_type": "display_data"
    },
    {
     "name": "stdout",
     "output_type": "stream",
     "text": [
      "\n",
      "average_precision: 0.39204 (+/-0.27530)\n",
      "precision_at_10: 0.17093 (+/-0.10350)\n",
      "recall_at_10: 0.63729 (+/-0.34091)\n",
      "ndcg_at_10: 0.46488 (+/-0.30875)\n",
      "reciprocal_best_rank: 0.49770 (+/-0.38183)\n",
      "reciprocal_average_rank: 0.17841 (+/-0.16170)\n",
      "\n",
      "summaries-overlap-average-embedding\n",
      "Evaluation on the valid loader...\n"
     ]
    },
    {
     "data": {
      "application/vnd.jupyter.widget-view+json": {
       "model_id": "1fafae8af9ff48acb55d569dece28edf",
       "version_major": 2,
       "version_minor": 0
      },
      "text/plain": [
       "HBox(children=(FloatProgress(value=0.0, max=430.0), HTML(value='')))"
      ]
     },
     "metadata": {},
     "output_type": "display_data"
    },
    {
     "name": "stdout",
     "output_type": "stream",
     "text": [
      "\n",
      "average_precision: 0.41860 (+/-0.29707)\n",
      "precision_at_10: 0.16209 (+/-0.10535)\n",
      "recall_at_10: 0.60380 (+/-0.35590)\n",
      "ndcg_at_10: 0.47462 (+/-0.32953)\n",
      "reciprocal_best_rank: 0.54028 (+/-0.39514)\n",
      "reciprocal_average_rank: 0.19159 (+/-0.18540)\n",
      "\n",
      "Evaluation on the test loader...\n"
     ]
    },
    {
     "data": {
      "application/vnd.jupyter.widget-view+json": {
       "model_id": "4f46ccfa55f24f709132bbd94a4a1553",
       "version_major": 2,
       "version_minor": 0
      },
      "text/plain": [
       "HBox(children=(FloatProgress(value=0.0, max=430.0), HTML(value='')))"
      ]
     },
     "metadata": {},
     "output_type": "display_data"
    },
    {
     "name": "stdout",
     "output_type": "stream",
     "text": [
      "\n",
      "average_precision: 0.43155 (+/-0.29557)\n",
      "precision_at_10: 0.17302 (+/-0.10261)\n",
      "recall_at_10: 0.64829 (+/-0.33511)\n",
      "ndcg_at_10: 0.50019 (+/-0.32216)\n",
      "reciprocal_best_rank: 0.55139 (+/-0.39366)\n",
      "reciprocal_average_rank: 0.19934 (+/-0.18214)\n",
      "\n",
      "context-average-embedding\n",
      "Evaluation on the valid loader...\n"
     ]
    },
    {
     "data": {
      "application/vnd.jupyter.widget-view+json": {
       "model_id": "effcf7dbc29148fd8180808ec8288538",
       "version_major": 2,
       "version_minor": 0
      },
      "text/plain": [
       "HBox(children=(FloatProgress(value=0.0, max=430.0), HTML(value='')))"
      ]
     },
     "metadata": {},
     "output_type": "display_data"
    },
    {
     "name": "stdout",
     "output_type": "stream",
     "text": [
      "\n",
      "average_precision: 0.35197 (+/-0.24655)\n",
      "precision_at_10: 0.16047 (+/-0.10171)\n",
      "recall_at_10: 0.58655 (+/-0.33626)\n",
      "ndcg_at_10: 0.41879 (+/-0.28795)\n",
      "reciprocal_best_rank: 0.46260 (+/-0.37300)\n",
      "reciprocal_average_rank: 0.15169 (+/-0.12753)\n",
      "\n",
      "Evaluation on the test loader...\n"
     ]
    },
    {
     "data": {
      "application/vnd.jupyter.widget-view+json": {
       "model_id": "f641e7a99d0e423e93b0ec697d321445",
       "version_major": 2,
       "version_minor": 0
      },
      "text/plain": [
       "HBox(children=(FloatProgress(value=0.0, max=430.0), HTML(value='')))"
      ]
     },
     "metadata": {},
     "output_type": "display_data"
    },
    {
     "name": "stdout",
     "output_type": "stream",
     "text": [
      "\n",
      "average_precision: 0.34448 (+/-0.24716)\n",
      "precision_at_10: 0.15558 (+/-0.09743)\n",
      "recall_at_10: 0.58640 (+/-0.33688)\n",
      "ndcg_at_10: 0.40951 (+/-0.28696)\n",
      "reciprocal_best_rank: 0.43683 (+/-0.35627)\n",
      "reciprocal_average_rank: 0.15712 (+/-0.14195)\n",
      "\n",
      "summaries-context-average-embedding\n",
      "Evaluation on the valid loader...\n"
     ]
    },
    {
     "data": {
      "application/vnd.jupyter.widget-view+json": {
       "model_id": "5779f84befcf46f29c93121c8949928e",
       "version_major": 2,
       "version_minor": 0
      },
      "text/plain": [
       "HBox(children=(FloatProgress(value=0.0, max=430.0), HTML(value='')))"
      ]
     },
     "metadata": {},
     "output_type": "display_data"
    },
    {
     "name": "stdout",
     "output_type": "stream",
     "text": [
      "\n",
      "average_precision: 0.38313 (+/-0.27692)\n",
      "precision_at_10: 0.16698 (+/-0.10445)\n",
      "recall_at_10: 0.62217 (+/-0.35095)\n",
      "ndcg_at_10: 0.45226 (+/-0.31223)\n",
      "reciprocal_best_rank: 0.48827 (+/-0.38374)\n",
      "reciprocal_average_rank: 0.17385 (+/-0.16188)\n",
      "\n",
      "Evaluation on the test loader...\n"
     ]
    },
    {
     "data": {
      "application/vnd.jupyter.widget-view+json": {
       "model_id": "d598c352d20a4f859b3a2946785a2c40",
       "version_major": 2,
       "version_minor": 0
      },
      "text/plain": [
       "HBox(children=(FloatProgress(value=0.0, max=430.0), HTML(value='')))"
      ]
     },
     "metadata": {},
     "output_type": "display_data"
    },
    {
     "name": "stdout",
     "output_type": "stream",
     "text": [
      "\n",
      "average_precision: 0.38835 (+/-0.26742)\n",
      "precision_at_10: 0.17093 (+/-0.10077)\n",
      "recall_at_10: 0.63942 (+/-0.33672)\n",
      "ndcg_at_10: 0.46407 (+/-0.29945)\n",
      "reciprocal_best_rank: 0.50062 (+/-0.37678)\n",
      "reciprocal_average_rank: 0.17309 (+/-0.15413)\n",
      "\n",
      "summaries-context-overlap-average-embedding\n",
      "Evaluation on the valid loader...\n"
     ]
    },
    {
     "data": {
      "application/vnd.jupyter.widget-view+json": {
       "model_id": "3ec3d394e3ca4a09b130f922b6c77fdd",
       "version_major": 2,
       "version_minor": 0
      },
      "text/plain": [
       "HBox(children=(FloatProgress(value=0.0, max=430.0), HTML(value='')))"
      ]
     },
     "metadata": {},
     "output_type": "display_data"
    },
    {
     "name": "stdout",
     "output_type": "stream",
     "text": [
      "\n",
      "average_precision: 0.37025 (+/-0.25873)\n",
      "precision_at_10: 0.16488 (+/-0.10275)\n",
      "recall_at_10: 0.60643 (+/-0.33570)\n",
      "ndcg_at_10: 0.43863 (+/-0.29564)\n",
      "reciprocal_best_rank: 0.47759 (+/-0.37601)\n",
      "reciprocal_average_rank: 0.16109 (+/-0.14503)\n",
      "\n",
      "Evaluation on the test loader...\n"
     ]
    },
    {
     "data": {
      "application/vnd.jupyter.widget-view+json": {
       "model_id": "f7ba4538aa4c453c8c0267141a69d5a0",
       "version_major": 2,
       "version_minor": 0
      },
      "text/plain": [
       "HBox(children=(FloatProgress(value=0.0, max=430.0), HTML(value='')))"
      ]
     },
     "metadata": {},
     "output_type": "display_data"
    },
    {
     "name": "stdout",
     "output_type": "stream",
     "text": [
      "\n",
      "average_precision: 0.37074 (+/-0.25350)\n",
      "precision_at_10: 0.16558 (+/-0.10105)\n",
      "recall_at_10: 0.61996 (+/-0.33884)\n",
      "ndcg_at_10: 0.44403 (+/-0.29382)\n",
      "reciprocal_best_rank: 0.48036 (+/-0.36482)\n",
      "reciprocal_average_rank: 0.16686 (+/-0.14391)\n",
      "\n"
     ]
    }
   ],
   "source": [
    "run_models(model_names=[\"summaries-average-embedding\",\n",
    "                        \"summaries-overlap-average-embedding\",\n",
    "                        \"context-average-embedding\",\n",
    "                        \"summaries-context-average-embedding\",\n",
    "                        \"summaries-context-overlap-average-embedding\"],\n",
    "           word2vec=True,\n",
    "           bart=False,\n",
    "           args=args)"
   ]
  },
  {
   "cell_type": "code",
   "execution_count": null,
   "metadata": {},
   "outputs": [],
   "source": []
  }
 ],
 "metadata": {
  "kernelspec": {
   "display_name": "Python 3",
   "language": "python",
   "name": "python3"
  },
  "language_info": {
   "codemirror_mode": {
    "name": "ipython",
    "version": 3
   },
   "file_extension": ".py",
   "mimetype": "text/x-python",
   "name": "python",
   "nbconvert_exporter": "python",
   "pygments_lexer": "ipython3",
   "version": "3.7.7"
  },
  "pycharm": {
   "stem_cell": {
    "cell_type": "raw",
    "metadata": {
     "collapsed": false
    },
    "source": []
   }
  },
  "toc": {
   "base_numbering": 1,
   "nav_menu": {},
   "number_sections": true,
   "sideBar": true,
   "skip_h1_title": false,
   "title_cell": "Table of Contents",
   "title_sidebar": "Contents",
   "toc_cell": false,
   "toc_position": {},
   "toc_section_display": true,
   "toc_window_display": false
  }
 },
 "nbformat": 4,
 "nbformat_minor": 2
}
