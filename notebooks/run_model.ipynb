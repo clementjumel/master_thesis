{
 "cells": [
  {
   "cell_type": "markdown",
   "metadata": {},
   "source": [
    "# Setup\n",
    "### Imports"
   ]
  },
  {
   "cell_type": "code",
   "execution_count": 1,
   "metadata": {
    "ExecuteTime": {
     "end_time": "2019-04-13T03:57:03.299844Z",
     "start_time": "2019-04-13T03:57:03.266445Z"
    },
    "pycharm": {
     "is_executing": false
    }
   },
   "outputs": [],
   "source": [
    "import sys\n",
    "sys.path.append('../')\n",
    "del sys\n",
    "\n",
    "%reload_ext autoreload\n",
    "%autoreload 2\n",
    "\n",
    "from toolbox.parsers import standard_parser, add_task_arguments, add_model_arguments\n",
    "from toolbox.utils import load_task, get_pretrained_model, to_class_name\n",
    "import modeling.models as models"
   ]
  },
  {
   "cell_type": "markdown",
   "metadata": {},
   "source": [
    "### Notebook functions"
   ]
  },
  {
   "cell_type": "code",
   "execution_count": 2,
   "metadata": {},
   "outputs": [],
   "source": [
    "def run_models(model_names, word2vec, bart, args):\n",
    "    args.word2vec = word2vec\n",
    "    args.bart = bart\n",
    "    \n",
    "    pretrained_model = get_pretrained_model(args)\n",
    "    \n",
    "    for model_name in model_names:\n",
    "        args.model = model_name\n",
    "        print(model_name)\n",
    "\n",
    "        model = getattr(models, to_class_name(args.model))(args=args, pretrained_model=pretrained_model)\n",
    "        model.play(task=task, args=args)"
   ]
  },
  {
   "cell_type": "markdown",
   "metadata": {},
   "source": [
    "### Parameters"
   ]
  },
  {
   "cell_type": "code",
   "execution_count": 3,
   "metadata": {},
   "outputs": [],
   "source": [
    "ap = standard_parser()\n",
    "add_task_arguments(ap)\n",
    "add_model_arguments(ap)\n",
    "args = ap.parse_args([\"-m\", \"\",\n",
    "                      \"--root\", \"..\"])"
   ]
  },
  {
   "cell_type": "markdown",
   "metadata": {},
   "source": [
    "### Load the data"
   ]
  },
  {
   "cell_type": "code",
   "execution_count": 4,
   "metadata": {
    "scrolled": true
   },
   "outputs": [
    {
     "name": "stdout",
     "output_type": "stream",
     "text": [
      "Task loaded from ../results/modeling_task/context-dependent-same-type_50-25-25_rs24_bs4_cf-v0_tf-v0.pkl.\n",
      "\n"
     ]
    }
   ],
   "source": [
    "task = load_task(args)"
   ]
  },
  {
   "cell_type": "markdown",
   "metadata": {},
   "source": [
    "# Basic baselines"
   ]
  },
  {
   "cell_type": "code",
   "execution_count": 5,
   "metadata": {
    "scrolled": false
   },
   "outputs": [
    {
     "name": "stdout",
     "output_type": "stream",
     "text": [
      "random\n",
      "Evaluation on the valid loader...\n"
     ]
    },
    {
     "data": {
      "application/vnd.jupyter.widget-view+json": {
       "model_id": "8e8794c9f81d45ebac3822ddf0f3e157",
       "version_major": 2,
       "version_minor": 0
      },
      "text/plain": [
       "HBox(children=(FloatProgress(value=0.0, max=430.0), HTML(value='')))"
      ]
     },
     "metadata": {},
     "output_type": "display_data"
    },
    {
     "name": "stdout",
     "output_type": "stream",
     "text": [
      "\n",
      "average_precision: 0.22636 (+/-0.15610)\n",
      "precision_at_10: 0.11442 (+/-0.08478)\n",
      "recall_at_10: 0.41453 (+/-0.30461)\n",
      "ndcg_at_10: 0.26044 (+/-0.21611)\n",
      "reciprocal_best_rank: 0.30394 (+/-0.29875)\n",
      "reciprocal_average_rank: 0.09936 (+/-0.08649)\n",
      "\n",
      "Evaluation on the test loader...\n"
     ]
    },
    {
     "data": {
      "application/vnd.jupyter.widget-view+json": {
       "model_id": "1405cf98ac344d0fbdef897e891141df",
       "version_major": 2,
       "version_minor": 0
      },
      "text/plain": [
       "HBox(children=(FloatProgress(value=0.0, max=430.0), HTML(value='')))"
      ]
     },
     "metadata": {},
     "output_type": "display_data"
    },
    {
     "name": "stdout",
     "output_type": "stream",
     "text": [
      "\n",
      "average_precision: 0.22228 (+/-0.15120)\n",
      "precision_at_10: 0.11837 (+/-0.08687)\n",
      "recall_at_10: 0.44217 (+/-0.31678)\n",
      "ndcg_at_10: 0.26464 (+/-0.21455)\n",
      "reciprocal_best_rank: 0.28885 (+/-0.28183)\n",
      "reciprocal_average_rank: 0.09981 (+/-0.06371)\n",
      "\n",
      "frequency\n",
      "Learning answers counts...\n"
     ]
    },
    {
     "data": {
      "application/vnd.jupyter.widget-view+json": {
       "model_id": "d94dd088339848efa59374705a82b484",
       "version_major": 2,
       "version_minor": 0
      },
      "text/plain": [
       "HBox(children=(FloatProgress(value=0.0, max=858.0), HTML(value='')))"
      ]
     },
     "metadata": {},
     "output_type": "display_data"
    },
    {
     "name": "stdout",
     "output_type": "stream",
     "text": [
      "\n",
      "Evaluation on the valid loader...\n"
     ]
    },
    {
     "data": {
      "application/vnd.jupyter.widget-view+json": {
       "model_id": "99786c3f651b4acb999c06f7bcf090b3",
       "version_major": 2,
       "version_minor": 0
      },
      "text/plain": [
       "HBox(children=(FloatProgress(value=0.0, max=430.0), HTML(value='')))"
      ]
     },
     "metadata": {},
     "output_type": "display_data"
    },
    {
     "name": "stdout",
     "output_type": "stream",
     "text": [
      "\n",
      "average_precision: 0.55722 (+/-0.28929)\n",
      "precision_at_10: 0.17116 (+/-0.09575)\n",
      "recall_at_10: 0.63686 (+/-0.31829)\n",
      "ndcg_at_10: 0.60936 (+/-0.30469)\n",
      "reciprocal_best_rank: 0.77332 (+/-0.35105)\n",
      "reciprocal_average_rank: 0.21910 (+/-0.20481)\n",
      "\n",
      "Evaluation on the test loader...\n"
     ]
    },
    {
     "data": {
      "application/vnd.jupyter.widget-view+json": {
       "model_id": "cc9529e8d1444e7eb90623d57059ffc6",
       "version_major": 2,
       "version_minor": 0
      },
      "text/plain": [
       "HBox(children=(FloatProgress(value=0.0, max=430.0), HTML(value='')))"
      ]
     },
     "metadata": {},
     "output_type": "display_data"
    },
    {
     "name": "stdout",
     "output_type": "stream",
     "text": [
      "\n",
      "average_precision: 0.56964 (+/-0.30197)\n",
      "precision_at_10: 0.17372 (+/-0.09780)\n",
      "recall_at_10: 0.65539 (+/-0.32277)\n",
      "ndcg_at_10: 0.61954 (+/-0.31415)\n",
      "reciprocal_best_rank: 0.76132 (+/-0.35846)\n",
      "reciprocal_average_rank: 0.24323 (+/-0.22607)\n",
      "\n"
     ]
    }
   ],
   "source": [
    "run_models(model_names=[\"random\",\n",
    "                        \"frequency\"],\n",
    "           word2vec=False,\n",
    "           bart=False,\n",
    "           args=args)"
   ]
  },
  {
   "cell_type": "markdown",
   "metadata": {},
   "source": [
    "# Basic baselines"
   ]
  },
  {
   "cell_type": "code",
   "execution_count": 6,
   "metadata": {
    "scrolled": false
   },
   "outputs": [
    {
     "name": "stdout",
     "output_type": "stream",
     "text": [
      "summaries-count\n",
      "Evaluation on the valid loader...\n"
     ]
    },
    {
     "data": {
      "application/vnd.jupyter.widget-view+json": {
       "model_id": "48c4cce2b2ca4345be6f682d76c2e4c0",
       "version_major": 2,
       "version_minor": 0
      },
      "text/plain": [
       "HBox(children=(FloatProgress(value=0.0, max=430.0), HTML(value='')))"
      ]
     },
     "metadata": {},
     "output_type": "display_data"
    },
    {
     "name": "stdout",
     "output_type": "stream",
     "text": [
      "\n",
      "average_precision: 0.34912 (+/-0.24558)\n",
      "precision_at_10: 0.15023 (+/-0.09493)\n",
      "recall_at_10: 0.54527 (+/-0.31847)\n",
      "ndcg_at_10: 0.40917 (+/-0.28220)\n",
      "reciprocal_best_rank: 0.48637 (+/-0.38461)\n",
      "reciprocal_average_rank: 0.13998 (+/-0.13550)\n",
      "\n",
      "Evaluation on the test loader...\n"
     ]
    },
    {
     "data": {
      "application/vnd.jupyter.widget-view+json": {
       "model_id": "026cf1680abb4bd19ae054f60d747078",
       "version_major": 2,
       "version_minor": 0
      },
      "text/plain": [
       "HBox(children=(FloatProgress(value=0.0, max=430.0), HTML(value='')))"
      ]
     },
     "metadata": {},
     "output_type": "display_data"
    },
    {
     "name": "stdout",
     "output_type": "stream",
     "text": [
      "\n",
      "average_precision: 0.33686 (+/-0.23619)\n",
      "precision_at_10: 0.14791 (+/-0.09733)\n",
      "recall_at_10: 0.54837 (+/-0.32292)\n",
      "ndcg_at_10: 0.39944 (+/-0.27785)\n",
      "reciprocal_best_rank: 0.46726 (+/-0.37759)\n",
      "reciprocal_average_rank: 0.13358 (+/-0.11296)\n",
      "\n",
      "summaries-unique-count\n",
      "Evaluation on the valid loader...\n"
     ]
    },
    {
     "data": {
      "application/vnd.jupyter.widget-view+json": {
       "model_id": "5e541852b4864302b59199a04d5c2c01",
       "version_major": 2,
       "version_minor": 0
      },
      "text/plain": [
       "HBox(children=(FloatProgress(value=0.0, max=430.0), HTML(value='')))"
      ]
     },
     "metadata": {},
     "output_type": "display_data"
    },
    {
     "name": "stdout",
     "output_type": "stream",
     "text": [
      "\n",
      "average_precision: 0.32527 (+/-0.22800)\n",
      "precision_at_10: 0.14953 (+/-0.09468)\n",
      "recall_at_10: 0.54333 (+/-0.31712)\n",
      "ndcg_at_10: 0.38839 (+/-0.26976)\n",
      "reciprocal_best_rank: 0.44537 (+/-0.36249)\n",
      "reciprocal_average_rank: 0.13379 (+/-0.12807)\n",
      "\n",
      "Evaluation on the test loader...\n"
     ]
    },
    {
     "data": {
      "application/vnd.jupyter.widget-view+json": {
       "model_id": "dc966aac643f4b88854df6c2c7c1f656",
       "version_major": 2,
       "version_minor": 0
      },
      "text/plain": [
       "HBox(children=(FloatProgress(value=0.0, max=430.0), HTML(value='')))"
      ]
     },
     "metadata": {},
     "output_type": "display_data"
    },
    {
     "name": "stdout",
     "output_type": "stream",
     "text": [
      "\n",
      "average_precision: 0.32204 (+/-0.22354)\n",
      "precision_at_10: 0.14628 (+/-0.09656)\n",
      "recall_at_10: 0.54209 (+/-0.32136)\n",
      "ndcg_at_10: 0.38540 (+/-0.26897)\n",
      "reciprocal_best_rank: 0.44591 (+/-0.36189)\n",
      "reciprocal_average_rank: 0.12919 (+/-0.10784)\n",
      "\n",
      "summaries-overlap\n",
      "Evaluation on the valid loader...\n"
     ]
    },
    {
     "data": {
      "application/vnd.jupyter.widget-view+json": {
       "model_id": "fdbd62e1e33b40a0b46600c15fcde50f",
       "version_major": 2,
       "version_minor": 0
      },
      "text/plain": [
       "HBox(children=(FloatProgress(value=0.0, max=430.0), HTML(value='')))"
      ]
     },
     "metadata": {},
     "output_type": "display_data"
    },
    {
     "name": "stdout",
     "output_type": "stream",
     "text": [
      "\n",
      "average_precision: 0.32054 (+/-0.22950)\n",
      "precision_at_10: 0.14209 (+/-0.09485)\n",
      "recall_at_10: 0.51667 (+/-0.32319)\n",
      "ndcg_at_10: 0.37609 (+/-0.27523)\n",
      "reciprocal_best_rank: 0.44829 (+/-0.37278)\n",
      "reciprocal_average_rank: 0.12865 (+/-0.11853)\n",
      "\n",
      "Evaluation on the test loader...\n"
     ]
    },
    {
     "data": {
      "application/vnd.jupyter.widget-view+json": {
       "model_id": "eef64a1637f245bd834776d570dfc7d0",
       "version_major": 2,
       "version_minor": 0
      },
      "text/plain": [
       "HBox(children=(FloatProgress(value=0.0, max=430.0), HTML(value='')))"
      ]
     },
     "metadata": {},
     "output_type": "display_data"
    },
    {
     "name": "stdout",
     "output_type": "stream",
     "text": [
      "\n",
      "average_precision: 0.31849 (+/-0.22400)\n",
      "precision_at_10: 0.14070 (+/-0.09323)\n",
      "recall_at_10: 0.52543 (+/-0.31475)\n",
      "ndcg_at_10: 0.37921 (+/-0.26898)\n",
      "reciprocal_best_rank: 0.45814 (+/-0.37775)\n",
      "reciprocal_average_rank: 0.12474 (+/-0.10155)\n",
      "\n",
      "activated-summaries\n",
      "Evaluation on the valid loader...\n"
     ]
    },
    {
     "data": {
      "application/vnd.jupyter.widget-view+json": {
       "model_id": "1eae23e4d0f24ab4a820ac38185ba631",
       "version_major": 2,
       "version_minor": 0
      },
      "text/plain": [
       "HBox(children=(FloatProgress(value=0.0, max=430.0), HTML(value='')))"
      ]
     },
     "metadata": {},
     "output_type": "display_data"
    },
    {
     "name": "stdout",
     "output_type": "stream",
     "text": [
      "\n",
      "average_precision: 0.33479 (+/-0.23497)\n",
      "precision_at_10: 0.15000 (+/-0.09517)\n",
      "recall_at_10: 0.54411 (+/-0.31818)\n",
      "ndcg_at_10: 0.39639 (+/-0.27695)\n",
      "reciprocal_best_rank: 0.45860 (+/-0.36803)\n",
      "reciprocal_average_rank: 0.13718 (+/-0.13014)\n",
      "\n",
      "Evaluation on the test loader...\n"
     ]
    },
    {
     "data": {
      "application/vnd.jupyter.widget-view+json": {
       "model_id": "7a16d90fb8ea499b9cf479e7dda9cb4a",
       "version_major": 2,
       "version_minor": 0
      },
      "text/plain": [
       "HBox(children=(FloatProgress(value=0.0, max=430.0), HTML(value='')))"
      ]
     },
     "metadata": {},
     "output_type": "display_data"
    },
    {
     "name": "stdout",
     "output_type": "stream",
     "text": [
      "\n",
      "average_precision: 0.32865 (+/-0.22648)\n",
      "precision_at_10: 0.14767 (+/-0.09732)\n",
      "recall_at_10: 0.54702 (+/-0.32300)\n",
      "ndcg_at_10: 0.39205 (+/-0.27150)\n",
      "reciprocal_best_rank: 0.45015 (+/-0.36536)\n",
      "reciprocal_average_rank: 0.13422 (+/-0.12032)\n",
      "\n",
      "context-count\n",
      "Evaluation on the valid loader...\n"
     ]
    },
    {
     "data": {
      "application/vnd.jupyter.widget-view+json": {
       "model_id": "a1930e3e99844ec3aa311ebf8b1ea11b",
       "version_major": 2,
       "version_minor": 0
      },
      "text/plain": [
       "HBox(children=(FloatProgress(value=0.0, max=430.0), HTML(value='')))"
      ]
     },
     "metadata": {},
     "output_type": "display_data"
    },
    {
     "name": "stdout",
     "output_type": "stream",
     "text": [
      "\n",
      "average_precision: 0.28396 (+/-0.21318)\n",
      "precision_at_10: 0.13070 (+/-0.08911)\n",
      "recall_at_10: 0.47581 (+/-0.30818)\n",
      "ndcg_at_10: 0.33053 (+/-0.25754)\n",
      "reciprocal_best_rank: 0.38837 (+/-0.34978)\n",
      "reciprocal_average_rank: 0.11617 (+/-0.10418)\n",
      "\n",
      "Evaluation on the test loader...\n"
     ]
    },
    {
     "data": {
      "application/vnd.jupyter.widget-view+json": {
       "model_id": "7a6c75bc151449a5863020394bffd7d5",
       "version_major": 2,
       "version_minor": 0
      },
      "text/plain": [
       "HBox(children=(FloatProgress(value=0.0, max=430.0), HTML(value='')))"
      ]
     },
     "metadata": {},
     "output_type": "display_data"
    },
    {
     "name": "stdout",
     "output_type": "stream",
     "text": [
      "\n",
      "average_precision: 0.29733 (+/-0.22815)\n",
      "precision_at_10: 0.12651 (+/-0.08677)\n",
      "recall_at_10: 0.48202 (+/-0.32071)\n",
      "ndcg_at_10: 0.34209 (+/-0.27249)\n",
      "reciprocal_best_rank: 0.40713 (+/-0.36542)\n",
      "reciprocal_average_rank: 0.12488 (+/-0.12305)\n",
      "\n",
      "context-unique-count\n",
      "Evaluation on the valid loader...\n"
     ]
    },
    {
     "data": {
      "application/vnd.jupyter.widget-view+json": {
       "model_id": "a99abc289dd044d4b7e27ed058b139c4",
       "version_major": 2,
       "version_minor": 0
      },
      "text/plain": [
       "HBox(children=(FloatProgress(value=0.0, max=430.0), HTML(value='')))"
      ]
     },
     "metadata": {},
     "output_type": "display_data"
    },
    {
     "name": "stdout",
     "output_type": "stream",
     "text": [
      "\n",
      "average_precision: 0.28141 (+/-0.21178)\n",
      "precision_at_10: 0.13093 (+/-0.08942)\n",
      "recall_at_10: 0.47628 (+/-0.30822)\n",
      "ndcg_at_10: 0.32827 (+/-0.25692)\n",
      "reciprocal_best_rank: 0.38293 (+/-0.34726)\n",
      "reciprocal_average_rank: 0.11587 (+/-0.10280)\n",
      "\n",
      "Evaluation on the test loader...\n"
     ]
    },
    {
     "data": {
      "application/vnd.jupyter.widget-view+json": {
       "model_id": "583c1bb16984476ba7db545eb0742c86",
       "version_major": 2,
       "version_minor": 0
      },
      "text/plain": [
       "HBox(children=(FloatProgress(value=0.0, max=430.0), HTML(value='')))"
      ]
     },
     "metadata": {},
     "output_type": "display_data"
    },
    {
     "name": "stdout",
     "output_type": "stream",
     "text": [
      "\n",
      "average_precision: 0.29687 (+/-0.22553)\n",
      "precision_at_10: 0.12651 (+/-0.08677)\n",
      "recall_at_10: 0.48202 (+/-0.32071)\n",
      "ndcg_at_10: 0.34179 (+/-0.27107)\n",
      "reciprocal_best_rank: 0.40589 (+/-0.36193)\n",
      "reciprocal_average_rank: 0.12495 (+/-0.12250)\n",
      "\n",
      "summaries-context-count\n",
      "Evaluation on the valid loader...\n"
     ]
    },
    {
     "data": {
      "application/vnd.jupyter.widget-view+json": {
       "model_id": "8fdb561441994292a7ba44e1d0f192d8",
       "version_major": 2,
       "version_minor": 0
      },
      "text/plain": [
       "HBox(children=(FloatProgress(value=0.0, max=430.0), HTML(value='')))"
      ]
     },
     "metadata": {},
     "output_type": "display_data"
    },
    {
     "name": "stdout",
     "output_type": "stream",
     "text": [
      "\n",
      "average_precision: 0.36292 (+/-0.25151)\n",
      "precision_at_10: 0.15651 (+/-0.09617)\n",
      "recall_at_10: 0.56787 (+/-0.31630)\n",
      "ndcg_at_10: 0.42746 (+/-0.28373)\n",
      "reciprocal_best_rank: 0.50160 (+/-0.38437)\n",
      "reciprocal_average_rank: 0.14590 (+/-0.13808)\n",
      "\n",
      "Evaluation on the test loader...\n"
     ]
    },
    {
     "data": {
      "application/vnd.jupyter.widget-view+json": {
       "model_id": "b398c337f23b4e5c8c4a58d189e805c8",
       "version_major": 2,
       "version_minor": 0
      },
      "text/plain": [
       "HBox(children=(FloatProgress(value=0.0, max=430.0), HTML(value='')))"
      ]
     },
     "metadata": {},
     "output_type": "display_data"
    },
    {
     "name": "stdout",
     "output_type": "stream",
     "text": [
      "\n",
      "average_precision: 0.36568 (+/-0.24624)\n",
      "precision_at_10: 0.15395 (+/-0.09336)\n",
      "recall_at_10: 0.57306 (+/-0.31014)\n",
      "ndcg_at_10: 0.43183 (+/-0.27906)\n",
      "reciprocal_best_rank: 0.50596 (+/-0.37523)\n",
      "reciprocal_average_rank: 0.14589 (+/-0.12792)\n",
      "\n",
      "summaries-context-unique-count\n",
      "Evaluation on the valid loader...\n"
     ]
    },
    {
     "data": {
      "application/vnd.jupyter.widget-view+json": {
       "model_id": "c36b35ca6b424bcd815fe2e5e7e3b278",
       "version_major": 2,
       "version_minor": 0
      },
      "text/plain": [
       "HBox(children=(FloatProgress(value=0.0, max=430.0), HTML(value='')))"
      ]
     },
     "metadata": {},
     "output_type": "display_data"
    },
    {
     "name": "stdout",
     "output_type": "stream",
     "text": [
      "\n",
      "average_precision: 0.33708 (+/-0.23472)\n",
      "precision_at_10: 0.15674 (+/-0.09615)\n",
      "recall_at_10: 0.56884 (+/-0.31469)\n",
      "ndcg_at_10: 0.40562 (+/-0.27161)\n",
      "reciprocal_best_rank: 0.45553 (+/-0.36704)\n",
      "reciprocal_average_rank: 0.13894 (+/-0.12669)\n",
      "\n",
      "Evaluation on the test loader...\n"
     ]
    },
    {
     "data": {
      "application/vnd.jupyter.widget-view+json": {
       "model_id": "c1f53a3776d240a0a51c96bbb03cc942",
       "version_major": 2,
       "version_minor": 0
      },
      "text/plain": [
       "HBox(children=(FloatProgress(value=0.0, max=430.0), HTML(value='')))"
      ]
     },
     "metadata": {},
     "output_type": "display_data"
    },
    {
     "name": "stdout",
     "output_type": "stream",
     "text": [
      "\n",
      "average_precision: 0.34552 (+/-0.22807)\n",
      "precision_at_10: 0.15233 (+/-0.09090)\n",
      "recall_at_10: 0.56814 (+/-0.30622)\n",
      "ndcg_at_10: 0.41479 (+/-0.26523)\n",
      "reciprocal_best_rank: 0.48403 (+/-0.36530)\n",
      "reciprocal_average_rank: 0.13732 (+/-0.11068)\n",
      "\n",
      "summaries-context-overlap\n",
      "Evaluation on the valid loader...\n"
     ]
    },
    {
     "data": {
      "application/vnd.jupyter.widget-view+json": {
       "model_id": "3c0864e2341d45baa2cd759897565831",
       "version_major": 2,
       "version_minor": 0
      },
      "text/plain": [
       "HBox(children=(FloatProgress(value=0.0, max=430.0), HTML(value='')))"
      ]
     },
     "metadata": {},
     "output_type": "display_data"
    },
    {
     "name": "stdout",
     "output_type": "stream",
     "text": [
      "\n",
      "average_precision: 0.34308 (+/-0.23653)\n",
      "precision_at_10: 0.15256 (+/-0.09538)\n",
      "recall_at_10: 0.55651 (+/-0.32022)\n",
      "ndcg_at_10: 0.40748 (+/-0.27551)\n",
      "reciprocal_best_rank: 0.47332 (+/-0.37442)\n",
      "reciprocal_average_rank: 0.13820 (+/-0.12345)\n",
      "\n",
      "Evaluation on the test loader...\n"
     ]
    },
    {
     "data": {
      "application/vnd.jupyter.widget-view+json": {
       "model_id": "a69d18887a734d40b8d49aa63c88ccf8",
       "version_major": 2,
       "version_minor": 0
      },
      "text/plain": [
       "HBox(children=(FloatProgress(value=0.0, max=430.0), HTML(value='')))"
      ]
     },
     "metadata": {},
     "output_type": "display_data"
    },
    {
     "name": "stdout",
     "output_type": "stream",
     "text": [
      "\n",
      "average_precision: 0.35738 (+/-0.24029)\n",
      "precision_at_10: 0.15116 (+/-0.09092)\n",
      "recall_at_10: 0.56705 (+/-0.30651)\n",
      "ndcg_at_10: 0.42554 (+/-0.27597)\n",
      "reciprocal_best_rank: 0.50936 (+/-0.38161)\n",
      "reciprocal_average_rank: 0.14155 (+/-0.12728)\n",
      "\n"
     ]
    }
   ],
   "source": [
    "run_models(model_names=[\"summaries-count\",\n",
    "                        \"summaries-unique-count\",\n",
    "                        \"summaries-overlap\",\n",
    "                        \"activated-summaries\",\n",
    "                        \"context-count\",\n",
    "                        \"context-unique-count\",\n",
    "                        \"summaries-context-count\",\n",
    "                        \"summaries-context-unique-count\",\n",
    "                        \"summaries-context-overlap\"],\n",
    "           word2vec=False,\n",
    "           bart=False,\n",
    "           args=args)"
   ]
  },
  {
   "cell_type": "markdown",
   "metadata": {},
   "source": [
    "# Embedding baselines"
   ]
  },
  {
   "cell_type": "code",
   "execution_count": 7,
   "metadata": {
    "scrolled": false
   },
   "outputs": [
    {
     "name": "stdout",
     "output_type": "stream",
     "text": [
      "Word2Vec embedding loaded.\n",
      "\n",
      "summaries-average-embedding\n",
      "Evaluation on the valid loader...\n"
     ]
    },
    {
     "data": {
      "application/vnd.jupyter.widget-view+json": {
       "model_id": "714647e1404b46fd84afc9f0ba34f5cc",
       "version_major": 2,
       "version_minor": 0
      },
      "text/plain": [
       "HBox(children=(FloatProgress(value=0.0, max=430.0), HTML(value='')))"
      ]
     },
     "metadata": {},
     "output_type": "display_data"
    },
    {
     "name": "stdout",
     "output_type": "stream",
     "text": [
      "\n",
      "average_precision: 0.39109 (+/-0.28602)\n",
      "precision_at_10: 0.16558 (+/-0.10708)\n",
      "recall_at_10: 0.61597 (+/-0.35854)\n",
      "ndcg_at_10: 0.45504 (+/-0.32397)\n",
      "reciprocal_best_rank: 0.48865 (+/-0.38716)\n",
      "reciprocal_average_rank: 0.17855 (+/-0.16350)\n",
      "\n",
      "Evaluation on the test loader...\n"
     ]
    },
    {
     "data": {
      "application/vnd.jupyter.widget-view+json": {
       "model_id": "806f392cd9404a01a1bcfee80efb4c22",
       "version_major": 2,
       "version_minor": 0
      },
      "text/plain": [
       "HBox(children=(FloatProgress(value=0.0, max=430.0), HTML(value='')))"
      ]
     },
     "metadata": {},
     "output_type": "display_data"
    },
    {
     "name": "stdout",
     "output_type": "stream",
     "text": [
      "\n",
      "average_precision: 0.39204 (+/-0.27530)\n",
      "precision_at_10: 0.17093 (+/-0.10350)\n",
      "recall_at_10: 0.63729 (+/-0.34091)\n",
      "ndcg_at_10: 0.46488 (+/-0.30875)\n",
      "reciprocal_best_rank: 0.49770 (+/-0.38183)\n",
      "reciprocal_average_rank: 0.17841 (+/-0.16170)\n",
      "\n",
      "summaries-overlap-average-embedding\n",
      "Evaluation on the valid loader...\n"
     ]
    },
    {
     "data": {
      "application/vnd.jupyter.widget-view+json": {
       "model_id": "1c5a74a8e4ba4803b206ea03a83d4cde",
       "version_major": 2,
       "version_minor": 0
      },
      "text/plain": [
       "HBox(children=(FloatProgress(value=0.0, max=430.0), HTML(value='')))"
      ]
     },
     "metadata": {},
     "output_type": "display_data"
    },
    {
     "name": "stdout",
     "output_type": "stream",
     "text": [
      "\n",
      "average_precision: 0.41860 (+/-0.29707)\n",
      "precision_at_10: 0.16209 (+/-0.10535)\n",
      "recall_at_10: 0.60380 (+/-0.35590)\n",
      "ndcg_at_10: 0.47462 (+/-0.32953)\n",
      "reciprocal_best_rank: 0.54028 (+/-0.39514)\n",
      "reciprocal_average_rank: 0.19159 (+/-0.18540)\n",
      "\n",
      "Evaluation on the test loader...\n"
     ]
    },
    {
     "data": {
      "application/vnd.jupyter.widget-view+json": {
       "model_id": "3353355d84ba4a86864f6bbced9e74db",
       "version_major": 2,
       "version_minor": 0
      },
      "text/plain": [
       "HBox(children=(FloatProgress(value=0.0, max=430.0), HTML(value='')))"
      ]
     },
     "metadata": {},
     "output_type": "display_data"
    },
    {
     "name": "stdout",
     "output_type": "stream",
     "text": [
      "\n",
      "average_precision: 0.43155 (+/-0.29557)\n",
      "precision_at_10: 0.17302 (+/-0.10261)\n",
      "recall_at_10: 0.64829 (+/-0.33511)\n",
      "ndcg_at_10: 0.50019 (+/-0.32216)\n",
      "reciprocal_best_rank: 0.55139 (+/-0.39366)\n",
      "reciprocal_average_rank: 0.19934 (+/-0.18214)\n",
      "\n",
      "context-average-embedding\n",
      "Evaluation on the valid loader...\n"
     ]
    },
    {
     "data": {
      "application/vnd.jupyter.widget-view+json": {
       "model_id": "37c17cfc405b4010a7fc2f754aef7cac",
       "version_major": 2,
       "version_minor": 0
      },
      "text/plain": [
       "HBox(children=(FloatProgress(value=0.0, max=430.0), HTML(value='')))"
      ]
     },
     "metadata": {},
     "output_type": "display_data"
    },
    {
     "name": "stdout",
     "output_type": "stream",
     "text": [
      "\n",
      "average_precision: 0.35197 (+/-0.24655)\n",
      "precision_at_10: 0.16047 (+/-0.10171)\n",
      "recall_at_10: 0.58655 (+/-0.33626)\n",
      "ndcg_at_10: 0.41879 (+/-0.28795)\n",
      "reciprocal_best_rank: 0.46260 (+/-0.37300)\n",
      "reciprocal_average_rank: 0.15169 (+/-0.12753)\n",
      "\n",
      "Evaluation on the test loader...\n"
     ]
    },
    {
     "data": {
      "application/vnd.jupyter.widget-view+json": {
       "model_id": "adadbe8a84b144b290638e4bfccb6a16",
       "version_major": 2,
       "version_minor": 0
      },
      "text/plain": [
       "HBox(children=(FloatProgress(value=0.0, max=430.0), HTML(value='')))"
      ]
     },
     "metadata": {},
     "output_type": "display_data"
    },
    {
     "name": "stdout",
     "output_type": "stream",
     "text": [
      "\n",
      "average_precision: 0.34448 (+/-0.24716)\n",
      "precision_at_10: 0.15558 (+/-0.09743)\n",
      "recall_at_10: 0.58640 (+/-0.33688)\n",
      "ndcg_at_10: 0.40951 (+/-0.28696)\n",
      "reciprocal_best_rank: 0.43683 (+/-0.35627)\n",
      "reciprocal_average_rank: 0.15712 (+/-0.14195)\n",
      "\n",
      "summaries-context-average-embedding\n",
      "Evaluation on the valid loader...\n"
     ]
    },
    {
     "data": {
      "application/vnd.jupyter.widget-view+json": {
       "model_id": "c918cc13616748108b1a2097dead0280",
       "version_major": 2,
       "version_minor": 0
      },
      "text/plain": [
       "HBox(children=(FloatProgress(value=0.0, max=430.0), HTML(value='')))"
      ]
     },
     "metadata": {},
     "output_type": "display_data"
    },
    {
     "name": "stdout",
     "output_type": "stream",
     "text": [
      "\n",
      "average_precision: 0.38313 (+/-0.27692)\n",
      "precision_at_10: 0.16698 (+/-0.10445)\n",
      "recall_at_10: 0.62217 (+/-0.35095)\n",
      "ndcg_at_10: 0.45226 (+/-0.31223)\n",
      "reciprocal_best_rank: 0.48827 (+/-0.38374)\n",
      "reciprocal_average_rank: 0.17385 (+/-0.16188)\n",
      "\n",
      "Evaluation on the test loader...\n"
     ]
    },
    {
     "data": {
      "application/vnd.jupyter.widget-view+json": {
       "model_id": "d5156ad9cdde4e67b21a496f6681b6bf",
       "version_major": 2,
       "version_minor": 0
      },
      "text/plain": [
       "HBox(children=(FloatProgress(value=0.0, max=430.0), HTML(value='')))"
      ]
     },
     "metadata": {},
     "output_type": "display_data"
    },
    {
     "name": "stdout",
     "output_type": "stream",
     "text": [
      "\n",
      "average_precision: 0.38835 (+/-0.26742)\n",
      "precision_at_10: 0.17093 (+/-0.10077)\n",
      "recall_at_10: 0.63942 (+/-0.33672)\n",
      "ndcg_at_10: 0.46407 (+/-0.29945)\n",
      "reciprocal_best_rank: 0.50062 (+/-0.37678)\n",
      "reciprocal_average_rank: 0.17309 (+/-0.15413)\n",
      "\n",
      "summaries-context-overlap-average-embedding\n",
      "Evaluation on the valid loader...\n"
     ]
    },
    {
     "data": {
      "application/vnd.jupyter.widget-view+json": {
       "model_id": "df51a404248747d599f17aad523dc2de",
       "version_major": 2,
       "version_minor": 0
      },
      "text/plain": [
       "HBox(children=(FloatProgress(value=0.0, max=430.0), HTML(value='')))"
      ]
     },
     "metadata": {},
     "output_type": "display_data"
    },
    {
     "name": "stdout",
     "output_type": "stream",
     "text": [
      "\n",
      "average_precision: 0.37025 (+/-0.25873)\n",
      "precision_at_10: 0.16488 (+/-0.10275)\n",
      "recall_at_10: 0.60643 (+/-0.33570)\n",
      "ndcg_at_10: 0.43863 (+/-0.29564)\n",
      "reciprocal_best_rank: 0.47759 (+/-0.37601)\n",
      "reciprocal_average_rank: 0.16109 (+/-0.14503)\n",
      "\n",
      "Evaluation on the test loader...\n"
     ]
    },
    {
     "data": {
      "application/vnd.jupyter.widget-view+json": {
       "model_id": "1e6b19a3b42b4627b5ac01265469efc4",
       "version_major": 2,
       "version_minor": 0
      },
      "text/plain": [
       "HBox(children=(FloatProgress(value=0.0, max=430.0), HTML(value='')))"
      ]
     },
     "metadata": {},
     "output_type": "display_data"
    },
    {
     "name": "stdout",
     "output_type": "stream",
     "text": [
      "\n",
      "average_precision: 0.37074 (+/-0.25350)\n",
      "precision_at_10: 0.16558 (+/-0.10105)\n",
      "recall_at_10: 0.61996 (+/-0.33884)\n",
      "ndcg_at_10: 0.44403 (+/-0.29382)\n",
      "reciprocal_best_rank: 0.48036 (+/-0.36482)\n",
      "reciprocal_average_rank: 0.16686 (+/-0.14391)\n",
      "\n"
     ]
    }
   ],
   "source": [
    "run_models(model_names=[\"summaries-average-embedding\",\n",
    "                        \"summaries-overlap-average-embedding\",\n",
    "                        \"context-average-embedding\",\n",
    "                        \"summaries-context-average-embedding\",\n",
    "                        \"summaries-context-overlap-average-embedding\"],\n",
    "           word2vec=True,\n",
    "           bart=False,\n",
    "           args=args)"
   ]
  },
  {
   "cell_type": "code",
   "execution_count": null,
   "metadata": {},
   "outputs": [],
   "source": []
  }
 ],
 "metadata": {
  "kernelspec": {
   "display_name": "Python 3",
   "language": "python",
   "name": "python3"
  },
  "language_info": {
   "codemirror_mode": {
    "name": "ipython",
    "version": 3
   },
   "file_extension": ".py",
   "mimetype": "text/x-python",
   "name": "python",
   "nbconvert_exporter": "python",
   "pygments_lexer": "ipython3",
   "version": "3.7.7"
  },
  "pycharm": {
   "stem_cell": {
    "cell_type": "raw",
    "metadata": {
     "collapsed": false
    },
    "source": []
   }
  },
  "toc": {
   "base_numbering": 1,
   "nav_menu": {},
   "number_sections": true,
   "sideBar": true,
   "skip_h1_title": false,
   "title_cell": "Table of Contents",
   "title_sidebar": "Contents",
   "toc_cell": false,
   "toc_position": {},
   "toc_section_display": true,
   "toc_window_display": false
  }
 },
 "nbformat": 4,
 "nbformat_minor": 2
}
