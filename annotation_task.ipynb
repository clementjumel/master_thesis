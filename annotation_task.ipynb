{
 "cells": [
  {
   "cell_type": "markdown",
   "metadata": {},
   "source": [
    "# Setup"
   ]
  },
  {
   "cell_type": "code",
   "execution_count": 1,
   "metadata": {
    "ExecuteTime": {
     "end_time": "2019-04-13T03:57:03.299844Z",
     "start_time": "2019-04-13T03:57:03.266445Z"
    }
   },
   "outputs": [],
   "source": [
    "%reload_ext autoreload\n",
    "%autoreload 2"
   ]
  },
  {
   "cell_type": "code",
   "execution_count": 3,
   "metadata": {
    "ExecuteTime": {
     "end_time": "2019-04-13T03:57:03.449865Z",
     "start_time": "2019-04-13T03:57:03.408497Z"
    }
   },
   "outputs": [],
   "source": [
    "from database_creation.database import instructions, annotation_task, gather_answers"
   ]
  },
  {
   "cell_type": "markdown",
   "metadata": {},
   "source": [
    "# Annotation task"
   ]
  },
  {
   "cell_type": "markdown",
   "metadata": {},
   "source": [
    "### Instructions"
   ]
  },
  {
   "cell_type": "markdown",
   "metadata": {},
   "source": [
    "Here are the instructions of the experiment."
   ]
  },
  {
   "cell_type": "code",
   "execution_count": 5,
   "metadata": {},
   "outputs": [],
   "source": [
    "instructions()"
   ]
  },
  {
   "cell_type": "markdown",
   "metadata": {},
   "source": [
    "### Task"
   ]
  },
  {
   "cell_type": "markdown",
   "metadata": {},
   "source": [
    "Run the following cell to perform an experiment of 10 queries. You can run it several times before saving, all the answers will be saved at the end of each experiment."
   ]
  },
  {
   "cell_type": "code",
   "execution_count": 16,
   "metadata": {
    "scrolled": false
   },
   "outputs": [
    {
     "name": "stdout",
     "output_type": "stream",
     "text": [
      "Instructions:\n",
      "\n",
      "The goal of this task is to perform the aggregation of the entities designated for each examples.\n",
      "\n",
      "To help you do this in a natural and contextualized way, the entities are selected from a single New York Times article, and their mentions in the article are located in a window of a few sentences.\n",
      "Besides, the title, date and abstract of each article is provided, as well as some information extracted from Wikipedia, in order to provide additional information about the entities and their possible aggregations.\n",
      "\n",
      "\n",
      "Entities: George Eliot|Herbert Spencer\n",
      "George Eliot: Mary Ann Evans (22 November 1819 – 22 December 1880; alternatively Mary Anne or Marian), known by her pen name George Eliot, was an English novelist, poet, journalist, translator, and one of the leading writers of the Victorian era. She wrote seven novels, including Adam Bede (1859), The Mill on the Floss (1860), Silas Marner (1861), Romola (1862–63), Middlemarch (1871–72), and Daniel Deronda (1876), most of which are set in provincial England and known for their realism and psychological insight.\n",
      "Herbert Spencer: Herbert Spencer (27 April 1820 – 8 December 1903) was an English philosopher, biologist, anthropologist, sociologist, and prominent classical liberal political theorist of the Victorian era.\n",
      "\n",
      "Article: Works In Progress From All Over; Eliot's Sly Revenge Against a Darwinist (2000/01/01)\n",
      "Arts & Ideas look ahead at works-in-progress; social anthropologist Sarah Blaffer Hrdy discusses her view that major themes in George Eliot novels were response to social Darwinism and to Herbert Spencer, who assumed that child gets mental powers from father and beauty from mother; Hrdy says Eliot, who was rejected by Spencer, got her revenge in fiction and also understood that inherited traits are unpredictable (M)\n",
      "\n",
      "Eliot met Spencer in 1851 in London.''\n",
      "\n",
      "\n",
      "Answer: gq\n",
      "\n",
      "\n",
      "Entities: Edna O'Brien|James Joyce\n",
      "Edna O'Brien: Edna O'Brien,  (born 15 December 1930) is an Irish novelist, memoirist, playwright, poet and short story writer. Philip Roth described her as \"the most gifted woman now writing in English\", while the former President of Ireland Mary Robinson cited her as \"one of the great creative writers of her generation\".O'Brien's works often revolve around the inner feelings of women, and their problems in relating to men, and to society as a whole. Her first novel, The Country Girls, is often credited with breaking silence on sexual matters and social issues during a repressive period in Ireland following World War II. The book was banned, burned and denounced from the pulpit, and O'Brien left Ireland behind.\n",
      "James Joyce: James Augustine Aloysius Joyce (2 February 1882 – 13 January 1941) was an Irish novelist, short story writer, poet, teacher, and literary critic. He contributed to the modernist avant-garde and is regarded as one of the most influential and important authors of the 20th century. Joyce is best known for Ulysses (1922), a landmark work in which the episodes of Homer's Odyssey are paralleled in a variety of literary styles, most famously stream of consciousness. Other well-known works are the short-story collection Dubliners (1914), and the novels A Portrait of the Artist as a Young Man (1916) and Finnegans Wake (1939). His other writings include three books of poetry, a play, his published letters and occasional journalism.\n",
      "\n",
      "Article: Oh Joist, Poor Joist (2000/01/09)\n",
      "Robert Sullivan reviews book James Joyce by Edna O'Brien; drawing (M)\n",
      "\n",
      "He is the self-absorbed only child in an actual family of 10 -- the venerated one, who is, with respect to his mother,'' monstrously indifferent to her reality,'' in O'Brien 's impressively assured estimation.\n",
      "\n",
      "\n",
      "Answer: gsqg\n",
      "\n",
      "\n",
      "Entities: Charles Darwin|George Eliot|Herbert Spencer|Sarah Hrdy\n",
      "Charles Darwin: Charles Robert Darwin,  (; 12 February 1809 – 19 April 1882) was an English naturalist, geologist and biologist, best known for his contributions to the science of evolution. His proposition that all species of life have descended over time from common ancestors is now widely accepted, and considered a foundational concept in science. In a joint publication with Alfred Russel Wallace, he introduced his scientific theory that this branching pattern of evolution resulted from a process that he called natural selection, in which the struggle for existence has a similar effect to the artificial selection involved in selective breeding.Darwin published his theory of evolution with compelling evidence in his 1859 book On the Origin of Species. By the 1870s, the scientific community and a majority of the educated public had accepted evolution as a fact. However, many favoured competing explanations, and it was not until the emergence of the modern evolutionary synthesis from the 1930s to the 1950s that a broad consensus developed in which natural selection was the basic mechanism of evolution. Darwin's scientific discovery is the unifying theory of the life sciences, explaining the diversity of life.Darwin's early interest in nature led him to neglect his medical education at the University of Edinburgh; instead, he helped to investigate marine invertebrates. Studies at the University of Cambridge (Christ's College) encouraged his passion for natural science. His five-year voyage on HMS Beagle established him as an eminent geologist whose observations and theories supported Charles Lyell's conception of gradual geological change, and publication of his journal of the voyage made him famous as a popular author.Puzzled by the geographical distribution of wildlife and fossils he collected on the voyage, Darwin began detailed investigations, and in 1838 conceived his theory of natural selection. Although he discussed his ideas with several naturalists, he needed time for extensive research and his geological work had priority. He was writing up his theory in 1858 when Alfred Russel Wallace sent him an essay that described the same idea, prompting immediate joint publication of both of their theories. Darwin's work established evolutionary descent with modification as the dominant scientific explanation of diversification in nature. In 1871 he examined human evolution and sexual selection in The Descent of Man, and Selection in Relation to Sex, followed by The Expression of the Emotions in Man and Animals (1872). His research on plants was published in a series of books, and in his final book, The Formation of Vegetable Mould, through the Actions of Worms (1881), he examined earthworms and their effect on soil.Darwin has been described as one of the most influential figures in human history, and he was honoured by burial in Westminster Abbey.\n",
      "George Eliot: Mary Ann Evans (22 November 1819 – 22 December 1880; alternatively Mary Anne or Marian), known by her pen name George Eliot, was an English novelist, poet, journalist, translator, and one of the leading writers of the Victorian era. She wrote seven novels, including Adam Bede (1859), The Mill on the Floss (1860), Silas Marner (1861), Romola (1862–63), Middlemarch (1871–72), and Daniel Deronda (1876), most of which are set in provincial England and known for their realism and psychological insight.\n",
      "Herbert Spencer: Herbert Spencer (27 April 1820 – 8 December 1903) was an English philosopher, biologist, anthropologist, sociologist, and prominent classical liberal political theorist of the Victorian era.\n",
      "Sarah Hrdy: Sarah Hrdy (née Blaffer; born July 11, 1946) is an American anthropologist and primatologist who has made major contributions to evolutionary psychology and sociobiology. She is considered \"a highly recognized pioneer in modernizing our understanding\n",
      "\n",
      "Article: Works In Progress From All Over; Eliot's Sly Revenge Against a Darwinist (2000/01/01)\n",
      "Arts & Ideas look ahead at works-in-progress; social anthropologist Sarah Blaffer Hrdy discusses her view that major themes in George Eliot novels were response to social Darwinism and to Herbert Spencer, who assumed that child gets mental powers from father and beauty from mother; Hrdy says Eliot, who was rejected by Spencer, got her revenge in fiction and also understood that inherited traits are unpredictable (M)\n",
      "\n",
      "Never mind that Ms. Hrdy, a social anthropologist, is more than 100 years too late to talk to Darwin and that her ally in re-education, the novelist George Eliot -LRB- nee Mary Ann Evans -RRB-, is dead too.''\n",
      "It seems to me that all the major themes in the novels of Eliot were written as a response to social Darwinism,'' Ms. Hrdy said, and more specifically as a response to Herbert Spencer, who coined the phrase'' survival of the fittest,'' which Darwin adopted.\n",
      "\n",
      "\n"
     ]
    },
    {
     "name": "stdout",
     "output_type": "stream",
     "text": [
      "Answer: gq\n",
      "\n",
      "\n",
      "Entities: Charles Darwin|George Eliot|Sarah Hrdy\n",
      "Charles Darwin: Charles Robert Darwin,  (; 12 February 1809 – 19 April 1882) was an English naturalist, geologist and biologist, best known for his contributions to the science of evolution. His proposition that all species of life have descended over time from common ancestors is now widely accepted, and considered a foundational concept in science. In a joint publication with Alfred Russel Wallace, he introduced his scientific theory that this branching pattern of evolution resulted from a process that he called natural selection, in which the struggle for existence has a similar effect to the artificial selection involved in selective breeding.Darwin published his theory of evolution with compelling evidence in his 1859 book On the Origin of Species. By the 1870s, the scientific community and a majority of the educated public had accepted evolution as a fact. However, many favoured competing explanations, and it was not until the emergence of the modern evolutionary synthesis from the 1930s to the 1950s that a broad consensus developed in which natural selection was the basic mechanism of evolution. Darwin's scientific discovery is the unifying theory of the life sciences, explaining the diversity of life.Darwin's early interest in nature led him to neglect his medical education at the University of Edinburgh; instead, he helped to investigate marine invertebrates. Studies at the University of Cambridge (Christ's College) encouraged his passion for natural science. His five-year voyage on HMS Beagle established him as an eminent geologist whose observations and theories supported Charles Lyell's conception of gradual geological change, and publication of his journal of the voyage made him famous as a popular author.Puzzled by the geographical distribution of wildlife and fossils he collected on the voyage, Darwin began detailed investigations, and in 1838 conceived his theory of natural selection. Although he discussed his ideas with several naturalists, he needed time for extensive research and his geological work had priority. He was writing up his theory in 1858 when Alfred Russel Wallace sent him an essay that described the same idea, prompting immediate joint publication of both of their theories. Darwin's work established evolutionary descent with modification as the dominant scientific explanation of diversification in nature. In 1871 he examined human evolution and sexual selection in The Descent of Man, and Selection in Relation to Sex, followed by The Expression of the Emotions in Man and Animals (1872). His research on plants was published in a series of books, and in his final book, The Formation of Vegetable Mould, through the Actions of Worms (1881), he examined earthworms and their effect on soil.Darwin has been described as one of the most influential figures in human history, and he was honoured by burial in Westminster Abbey.\n",
      "George Eliot: Mary Ann Evans (22 November 1819 – 22 December 1880; alternatively Mary Anne or Marian), known by her pen name George Eliot, was an English novelist, poet, journalist, translator, and one of the leading writers of the Victorian era. She wrote seven novels, including Adam Bede (1859), The Mill on the Floss (1860), Silas Marner (1861), Romola (1862–63), Middlemarch (1871–72), and Daniel Deronda (1876), most of which are set in provincial England and known for their realism and psychological insight.\n",
      "Sarah Hrdy: Sarah Hrdy (née Blaffer; born July 11, 1946) is an American anthropologist and primatologist who has made major contributions to evolutionary psychology and sociobiology. She is considered \"a highly recognized pioneer in modernizing our understanding\n",
      "\n",
      "Article: Works In Progress From All Over; Eliot's Sly Revenge Against a Darwinist (2000/01/01)\n",
      "Arts & Ideas look ahead at works-in-progress; social anthropologist Sarah Blaffer Hrdy discusses her view that major themes in George Eliot novels were response to social Darwinism and to Herbert Spencer, who assumed that child gets mental powers from father and beauty from mother; Hrdy says Eliot, who was rejected by Spencer, got her revenge in fiction and also understood that inherited traits are unpredictable (M)\n",
      "\n",
      "He was the first broad-ranging intellectual she met.\n",
      "He knew biology, culture, history.\n",
      "He taught her about Darwin 's theory of evolution,'' Ms. Hrdy said, and before long Eliot fell in love with him and'' threw herself at his feet.''\n",
      "\n",
      "\n",
      "Answer: \n",
      "\n",
      "\n",
      "Entities: Al Gore|Colin Powell|Donna Brazile\n",
      "Al Gore: Albert Arnold Gore Jr. (born March 31, 1948) is an American politician and environmentalist who served as the 45th vice president of the United States from 1993 to 2001. Gore was Bill Clinton's running mate in their successful campaign in 1992, and the pair was re-elected in 1996. Near the end of Clinton's second term, Gore was selected as the Democratic nominee for the 2000 presidential election but lost the election in a very close race after a Florida recount. After his term as vice-president ended in 2001, Gore remained prominent as an author and environmental activist, whose work in climate change activism earned him (jointly with the IPCC) the Nobel Peace Prize in 2007.\n",
      "Colin Powell: Colin Luther Powell (; born April 5, 1937) is an American politician and retired four-star general in the United States Army. During his military career, Powell also served as National Security Advisor (1987–1989), as Commander of the U.S. Army Forces Command (1989) and as Chairman of the Joint Chiefs of Staff (1989–1993), holding the latter position during the Persian Gulf War. Powell was the first, and so far the only, Jamaican American to serve on the Joint Chiefs of Staff. He was the 65th United States Secretary of State, serving under U.S. President George W. Bush from 2001 to 2005, the first black person to serve in that position.Powell was born in New York City in 1937 and was raised in the South Bronx. His parents, Luther and Maud Powell, immigrated to the United States from Jamaica. Powell was educated in the New York City public schools, graduating from the City College of New York (CCNY), where he earned a bachelor's degree in geology. He also participated in ROTC at CCNY and received a commission as an Army second lieutenant upon graduation in June 1958. His further academic achievements include a Master of Business Administration degree from George Washington University.Powell was a professional soldier for 35 years, during which time he held myriad command and staff positions and rose to the rank of 4-star General.  His last assignment, from October 1, 1989, to September 30, 1993, was as the 12th Chairman of the Joint Chiefs of Staff, the highest military position in the Department of Defense. During this time, he oversaw 28 crises, including Operation Desert Storm in the 1991 Persian Gulf War.  He also formulated the Powell Doctrine.Following his military retirement, Powell wrote his best-selling autobiography, My American Journey. In addition, he pursued a career as a public speaker, addressing audiences across the country and abroad. Prior to his appointment as Secretary of State, Powell was the chairman of America's Promise – The Alliance for Youth, a national nonprofit organization dedicated to mobilizing people from every sector of American life to build the character and competence of young people. He was nominated by President Bush on December 16, 2000, as Secretary of State. After being unanimously confirmed by the U.S. Senate, he was sworn in as the 65th Secretary of State on January 20, 2001.Powell is the recipient of numerous U.S. and foreign military awards and decorations. Powell's civilian awards include two Presidential Medal of Freedom, the President's Citizens Medal, the Congressional Gold Medal, the Secretary of State Distinguished Service Medal, and the Secretary of Energy Distinguished Service Medal. Several schools and other institutions have been named in his honor and he holds honorary degrees from universities and colleges across the country. Powell is married to the former Alma Vivian Johnson of Birmingham, Alabama. The Powell family includes son Michael (ex-chairman of the Federal Communications Commission); daughters Linda and Anne; daughter-in-law Jane; and grandsons Jeffrey and Bryan.In 2016, while not a candidate for that year's election, Powell received three electoral votes for the office of President of the United States.\n",
      "Donna Brazile: Donna Lease Brazile (; born December 15, 1959) is an American political strategist, campaign manager, political analyst, author, and Fox News contributor.  She is a member of the Democratic Party, briefly serving as the interim chair of the Democratic National Committee in spring 2011, and again from July 2016 to February 2017.\n",
      "\n",
      "Article: GORE, IN REVERSAL, SHUNS LITMUS TEST OVER GAY TROOPS (2000/01/08)\n",
      "Vice Pres Al Gore, campaigning in Iowa, backtracks on pledge to require any appointee to Joint Chiefs of Staff to back policy of letting gays serve openly in military, holding he would not probe military officer's personal political opinion, news conference; shift puts him in line with Bill Bradley, his rival for Democratic Presidential nomination; Gore says he called Gen Colin L Powell and reaffirmed his respect for him in wake of flap over charge by Donna Brazile, his campaign manager, that Republicans use blacks like Powell for photo opportunities but do not really care about them; photo (M)\n",
      "\n",
      "He added,'' That is what Donna was trying to say.''''\n",
      "She 's doing a great job, and she will continue doing a great job,'' Mr. Gore said of Ms. Brazile.\n",
      "\n",
      "\n"
     ]
    },
    {
     "name": "stdout",
     "output_type": "stream",
     "text": [
      "Answer: qg\n",
      "\n",
      "\n"
     ]
    }
   ],
   "source": [
    "annotation_task()\n"
   ]
  },
  {
   "cell_type": "markdown",
   "metadata": {},
   "source": [
    "### When you're done"
   ]
  },
  {
   "cell_type": "code",
   "execution_count": null,
   "metadata": {},
   "outputs": [],
   "source": [
    "gather_answers()"
   ]
  }
 ],
 "metadata": {
  "kernelspec": {
   "display_name": "Python 3",
   "language": "python",
   "name": "python3"
  },
  "language_info": {
   "codemirror_mode": {
    "name": "ipython",
    "version": 3
   },
   "file_extension": ".py",
   "mimetype": "text/x-python",
   "name": "python",
   "nbconvert_exporter": "python",
   "pygments_lexer": "ipython3",
   "version": "3.6.8"
  },
  "toc": {
   "base_numbering": 1,
   "nav_menu": {},
   "number_sections": true,
   "sideBar": true,
   "skip_h1_title": false,
   "title_cell": "Table of Contents",
   "title_sidebar": "Contents",
   "toc_cell": false,
   "toc_position": {},
   "toc_section_display": true,
   "toc_window_display": false
  }
 },
 "nbformat": 4,
 "nbformat_minor": 2
}
